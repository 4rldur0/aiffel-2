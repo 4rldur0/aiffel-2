{
 "metadata": {
  "kernelspec": {
   "display_name": "Python 3",
   "name": "python3"
  },
  "language_info": {
   "name": "python",
   "version": "3.10.12",
   "mimetype": "text/x-python",
   "codemirror_mode": {
    "name": "ipython",
    "version": 3
   },
   "pygments_lexer": "ipython3",
   "nbconvert_exporter": "python",
   "file_extension": ".py"
  },
  "kaggle": {
   "accelerator": "none",
   "dataSources": [
    {
     "sourceId": 3948,
     "databundleVersionId": 32624,
     "sourceType": "competition"
    }
   ],
   "dockerImageVersionId": 30635,
   "isInternetEnabled": true,
   "language": "python",
   "sourceType": "notebook",
   "isGpuEnabled": false
  },
  "colab": {
   "provenance": [],
   "toc_visible": true,
   "gpuType": "T4",
   "collapsed_sections": [
    "PwUsU3VQy1O4",
    "VdNjx4F-aag7"
   ]
  },
  "accelerator": "GPU",
  "widgets": {
   "application/vnd.jupyter.widget-state+json": {
    "e665996608d148fdbca2a4f30dbda881": {
     "model_module": "@jupyter-widgets/controls",
     "model_name": "HBoxModel",
     "model_module_version": "1.5.0",
     "state": {
      "_dom_classes": [],
      "_model_module": "@jupyter-widgets/controls",
      "_model_module_version": "1.5.0",
      "_model_name": "HBoxModel",
      "_view_count": null,
      "_view_module": "@jupyter-widgets/controls",
      "_view_module_version": "1.5.0",
      "_view_name": "HBoxView",
      "box_style": "",
      "children": [
       "IPY_MODEL_e981fa9aac6c492f8b8107a68c965610",
       "IPY_MODEL_4fd908aaecfd4a06841721b82ef0e1f9",
       "IPY_MODEL_b46ee580698f458ca4ba4240a575c21e"
      ],
      "layout": "IPY_MODEL_b28023bbe99d4324b555646bda39f4e4"
     }
    },
    "e981fa9aac6c492f8b8107a68c965610": {
     "model_module": "@jupyter-widgets/controls",
     "model_name": "HTMLModel",
     "model_module_version": "1.5.0",
     "state": {
      "_dom_classes": [],
      "_model_module": "@jupyter-widgets/controls",
      "_model_module_version": "1.5.0",
      "_model_name": "HTMLModel",
      "_view_count": null,
      "_view_module": "@jupyter-widgets/controls",
      "_view_module_version": "1.5.0",
      "_view_name": "HTMLView",
      "description": "",
      "description_tooltip": null,
      "layout": "IPY_MODEL_21c210b36ae2487182fa3029357dc5f3",
      "placeholder": "​",
      "style": "IPY_MODEL_bf0526413a4548449005aef80c3629a5",
      "value": "Processing: 100%"
     }
    },
    "4fd908aaecfd4a06841721b82ef0e1f9": {
     "model_module": "@jupyter-widgets/controls",
     "model_name": "FloatProgressModel",
     "model_module_version": "1.5.0",
     "state": {
      "_dom_classes": [],
      "_model_module": "@jupyter-widgets/controls",
      "_model_module_version": "1.5.0",
      "_model_name": "FloatProgressModel",
      "_view_count": null,
      "_view_module": "@jupyter-widgets/controls",
      "_view_module_version": "1.5.0",
      "_view_name": "ProgressView",
      "bar_style": "",
      "description": "",
      "description_tooltip": null,
      "layout": "IPY_MODEL_0f8ba70f2a544ab5b4ef3008c4222be8",
      "max": 81,
      "min": 0,
      "orientation": "horizontal",
      "style": "IPY_MODEL_09b0e7648f4d48a69827a66a8078573d",
      "value": 81
     }
    },
    "b46ee580698f458ca4ba4240a575c21e": {
     "model_module": "@jupyter-widgets/controls",
     "model_name": "HTMLModel",
     "model_module_version": "1.5.0",
     "state": {
      "_dom_classes": [],
      "_model_module": "@jupyter-widgets/controls",
      "_model_module_version": "1.5.0",
      "_model_name": "HTMLModel",
      "_view_count": null,
      "_view_module": "@jupyter-widgets/controls",
      "_view_module_version": "1.5.0",
      "_view_name": "HTMLView",
      "description": "",
      "description_tooltip": null,
      "layout": "IPY_MODEL_d797b7392a05428dbc87db03671cddd1",
      "placeholder": "​",
      "style": "IPY_MODEL_3b933f19335442939aab886c7c47051a",
      "value": " 81/81 [02:47&lt;00:00,  2.35s/it]"
     }
    },
    "b28023bbe99d4324b555646bda39f4e4": {
     "model_module": "@jupyter-widgets/base",
     "model_name": "LayoutModel",
     "model_module_version": "1.2.0",
     "state": {
      "_model_module": "@jupyter-widgets/base",
      "_model_module_version": "1.2.0",
      "_model_name": "LayoutModel",
      "_view_count": null,
      "_view_module": "@jupyter-widgets/base",
      "_view_module_version": "1.2.0",
      "_view_name": "LayoutView",
      "align_content": null,
      "align_items": null,
      "align_self": null,
      "border": null,
      "bottom": null,
      "display": null,
      "flex": null,
      "flex_flow": null,
      "grid_area": null,
      "grid_auto_columns": null,
      "grid_auto_flow": null,
      "grid_auto_rows": null,
      "grid_column": null,
      "grid_gap": null,
      "grid_row": null,
      "grid_template_areas": null,
      "grid_template_columns": null,
      "grid_template_rows": null,
      "height": null,
      "justify_content": null,
      "justify_items": null,
      "left": null,
      "margin": null,
      "max_height": null,
      "max_width": null,
      "min_height": null,
      "min_width": null,
      "object_fit": null,
      "object_position": null,
      "order": null,
      "overflow": null,
      "overflow_x": null,
      "overflow_y": null,
      "padding": null,
      "right": null,
      "top": null,
      "visibility": "hidden",
      "width": null
     }
    },
    "21c210b36ae2487182fa3029357dc5f3": {
     "model_module": "@jupyter-widgets/base",
     "model_name": "LayoutModel",
     "model_module_version": "1.2.0",
     "state": {
      "_model_module": "@jupyter-widgets/base",
      "_model_module_version": "1.2.0",
      "_model_name": "LayoutModel",
      "_view_count": null,
      "_view_module": "@jupyter-widgets/base",
      "_view_module_version": "1.2.0",
      "_view_name": "LayoutView",
      "align_content": null,
      "align_items": null,
      "align_self": null,
      "border": null,
      "bottom": null,
      "display": null,
      "flex": null,
      "flex_flow": null,
      "grid_area": null,
      "grid_auto_columns": null,
      "grid_auto_flow": null,
      "grid_auto_rows": null,
      "grid_column": null,
      "grid_gap": null,
      "grid_row": null,
      "grid_template_areas": null,
      "grid_template_columns": null,
      "grid_template_rows": null,
      "height": null,
      "justify_content": null,
      "justify_items": null,
      "left": null,
      "margin": null,
      "max_height": null,
      "max_width": null,
      "min_height": null,
      "min_width": null,
      "object_fit": null,
      "object_position": null,
      "order": null,
      "overflow": null,
      "overflow_x": null,
      "overflow_y": null,
      "padding": null,
      "right": null,
      "top": null,
      "visibility": null,
      "width": null
     }
    },
    "bf0526413a4548449005aef80c3629a5": {
     "model_module": "@jupyter-widgets/controls",
     "model_name": "DescriptionStyleModel",
     "model_module_version": "1.5.0",
     "state": {
      "_model_module": "@jupyter-widgets/controls",
      "_model_module_version": "1.5.0",
      "_model_name": "DescriptionStyleModel",
      "_view_count": null,
      "_view_module": "@jupyter-widgets/base",
      "_view_module_version": "1.2.0",
      "_view_name": "StyleView",
      "description_width": ""
     }
    },
    "0f8ba70f2a544ab5b4ef3008c4222be8": {
     "model_module": "@jupyter-widgets/base",
     "model_name": "LayoutModel",
     "model_module_version": "1.2.0",
     "state": {
      "_model_module": "@jupyter-widgets/base",
      "_model_module_version": "1.2.0",
      "_model_name": "LayoutModel",
      "_view_count": null,
      "_view_module": "@jupyter-widgets/base",
      "_view_module_version": "1.2.0",
      "_view_name": "LayoutView",
      "align_content": null,
      "align_items": null,
      "align_self": null,
      "border": null,
      "bottom": null,
      "display": null,
      "flex": null,
      "flex_flow": null,
      "grid_area": null,
      "grid_auto_columns": null,
      "grid_auto_flow": null,
      "grid_auto_rows": null,
      "grid_column": null,
      "grid_gap": null,
      "grid_row": null,
      "grid_template_areas": null,
      "grid_template_columns": null,
      "grid_template_rows": null,
      "height": null,
      "justify_content": null,
      "justify_items": null,
      "left": null,
      "margin": null,
      "max_height": null,
      "max_width": null,
      "min_height": null,
      "min_width": null,
      "object_fit": null,
      "object_position": null,
      "order": null,
      "overflow": null,
      "overflow_x": null,
      "overflow_y": null,
      "padding": null,
      "right": null,
      "top": null,
      "visibility": null,
      "width": null
     }
    },
    "09b0e7648f4d48a69827a66a8078573d": {
     "model_module": "@jupyter-widgets/controls",
     "model_name": "ProgressStyleModel",
     "model_module_version": "1.5.0",
     "state": {
      "_model_module": "@jupyter-widgets/controls",
      "_model_module_version": "1.5.0",
      "_model_name": "ProgressStyleModel",
      "_view_count": null,
      "_view_module": "@jupyter-widgets/base",
      "_view_module_version": "1.2.0",
      "_view_name": "StyleView",
      "bar_color": null,
      "description_width": ""
     }
    },
    "d797b7392a05428dbc87db03671cddd1": {
     "model_module": "@jupyter-widgets/base",
     "model_name": "LayoutModel",
     "model_module_version": "1.2.0",
     "state": {
      "_model_module": "@jupyter-widgets/base",
      "_model_module_version": "1.2.0",
      "_model_name": "LayoutModel",
      "_view_count": null,
      "_view_module": "@jupyter-widgets/base",
      "_view_module_version": "1.2.0",
      "_view_name": "LayoutView",
      "align_content": null,
      "align_items": null,
      "align_self": null,
      "border": null,
      "bottom": null,
      "display": null,
      "flex": null,
      "flex_flow": null,
      "grid_area": null,
      "grid_auto_columns": null,
      "grid_auto_flow": null,
      "grid_auto_rows": null,
      "grid_column": null,
      "grid_gap": null,
      "grid_row": null,
      "grid_template_areas": null,
      "grid_template_columns": null,
      "grid_template_rows": null,
      "height": null,
      "justify_content": null,
      "justify_items": null,
      "left": null,
      "margin": null,
      "max_height": null,
      "max_width": null,
      "min_height": null,
      "min_width": null,
      "object_fit": null,
      "object_position": null,
      "order": null,
      "overflow": null,
      "overflow_x": null,
      "overflow_y": null,
      "padding": null,
      "right": null,
      "top": null,
      "visibility": null,
      "width": null
     }
    },
    "3b933f19335442939aab886c7c47051a": {
     "model_module": "@jupyter-widgets/controls",
     "model_name": "DescriptionStyleModel",
     "model_module_version": "1.5.0",
     "state": {
      "_model_module": "@jupyter-widgets/controls",
      "_model_module_version": "1.5.0",
      "_model_name": "DescriptionStyleModel",
      "_view_count": null,
      "_view_module": "@jupyter-widgets/base",
      "_view_module_version": "1.2.0",
      "_view_name": "StyleView",
      "description_width": ""
     }
    },
    "7e2f3d1155104f1da1c74f834fe0bfbe": {
     "model_module": "@jupyter-widgets/controls",
     "model_name": "HBoxModel",
     "model_module_version": "1.5.0",
     "state": {
      "_dom_classes": [],
      "_model_module": "@jupyter-widgets/controls",
      "_model_module_version": "1.5.0",
      "_model_name": "HBoxModel",
      "_view_count": null,
      "_view_module": "@jupyter-widgets/controls",
      "_view_module_version": "1.5.0",
      "_view_name": "HBoxView",
      "box_style": "",
      "children": [
       "IPY_MODEL_818d9b8884b9456688f63cfdbfc03960",
       "IPY_MODEL_2536af86f55c453db78672a3e420c358",
       "IPY_MODEL_9571a8dafed94b179e96327f7cff8c6d"
      ],
      "layout": "IPY_MODEL_d9b9743498ca44d4bb8faaf2a98cc749"
     }
    },
    "818d9b8884b9456688f63cfdbfc03960": {
     "model_module": "@jupyter-widgets/controls",
     "model_name": "HTMLModel",
     "model_module_version": "1.5.0",
     "state": {
      "_dom_classes": [],
      "_model_module": "@jupyter-widgets/controls",
      "_model_module_version": "1.5.0",
      "_model_name": "HTMLModel",
      "_view_count": null,
      "_view_module": "@jupyter-widgets/controls",
      "_view_module_version": "1.5.0",
      "_view_name": "HTMLView",
      "description": "",
      "description_tooltip": null,
      "layout": "IPY_MODEL_34b47ef893c74f3abac9fe4d58ff91df",
      "placeholder": "​",
      "style": "IPY_MODEL_855e6f9cc4af475fbd3236750f227324",
      "value": "Processing: 100%"
     }
    },
    "2536af86f55c453db78672a3e420c358": {
     "model_module": "@jupyter-widgets/controls",
     "model_name": "FloatProgressModel",
     "model_module_version": "1.5.0",
     "state": {
      "_dom_classes": [],
      "_model_module": "@jupyter-widgets/controls",
      "_model_module_version": "1.5.0",
      "_model_name": "FloatProgressModel",
      "_view_count": null,
      "_view_module": "@jupyter-widgets/controls",
      "_view_module_version": "1.5.0",
      "_view_name": "ProgressView",
      "bar_style": "",
      "description": "",
      "description_tooltip": null,
      "layout": "IPY_MODEL_d5aefcdb5cc74ac0badd1f66b2b10d63",
      "max": 81,
      "min": 0,
      "orientation": "horizontal",
      "style": "IPY_MODEL_26884829bccd4b38a1061b1b8323cd80",
      "value": 81
     }
    },
    "9571a8dafed94b179e96327f7cff8c6d": {
     "model_module": "@jupyter-widgets/controls",
     "model_name": "HTMLModel",
     "model_module_version": "1.5.0",
     "state": {
      "_dom_classes": [],
      "_model_module": "@jupyter-widgets/controls",
      "_model_module_version": "1.5.0",
      "_model_name": "HTMLModel",
      "_view_count": null,
      "_view_module": "@jupyter-widgets/controls",
      "_view_module_version": "1.5.0",
      "_view_name": "HTMLView",
      "description": "",
      "description_tooltip": null,
      "layout": "IPY_MODEL_9b37f082c5f04933a477a7f3bd91165f",
      "placeholder": "​",
      "style": "IPY_MODEL_d3de5926c41a48e59048b947e00c3269",
      "value": " 81/81 [01:15&lt;00:00,  1.22it/s]"
     }
    },
    "d9b9743498ca44d4bb8faaf2a98cc749": {
     "model_module": "@jupyter-widgets/base",
     "model_name": "LayoutModel",
     "model_module_version": "1.2.0",
     "state": {
      "_model_module": "@jupyter-widgets/base",
      "_model_module_version": "1.2.0",
      "_model_name": "LayoutModel",
      "_view_count": null,
      "_view_module": "@jupyter-widgets/base",
      "_view_module_version": "1.2.0",
      "_view_name": "LayoutView",
      "align_content": null,
      "align_items": null,
      "align_self": null,
      "border": null,
      "bottom": null,
      "display": null,
      "flex": null,
      "flex_flow": null,
      "grid_area": null,
      "grid_auto_columns": null,
      "grid_auto_flow": null,
      "grid_auto_rows": null,
      "grid_column": null,
      "grid_gap": null,
      "grid_row": null,
      "grid_template_areas": null,
      "grid_template_columns": null,
      "grid_template_rows": null,
      "height": null,
      "justify_content": null,
      "justify_items": null,
      "left": null,
      "margin": null,
      "max_height": null,
      "max_width": null,
      "min_height": null,
      "min_width": null,
      "object_fit": null,
      "object_position": null,
      "order": null,
      "overflow": null,
      "overflow_x": null,
      "overflow_y": null,
      "padding": null,
      "right": null,
      "top": null,
      "visibility": "hidden",
      "width": null
     }
    },
    "34b47ef893c74f3abac9fe4d58ff91df": {
     "model_module": "@jupyter-widgets/base",
     "model_name": "LayoutModel",
     "model_module_version": "1.2.0",
     "state": {
      "_model_module": "@jupyter-widgets/base",
      "_model_module_version": "1.2.0",
      "_model_name": "LayoutModel",
      "_view_count": null,
      "_view_module": "@jupyter-widgets/base",
      "_view_module_version": "1.2.0",
      "_view_name": "LayoutView",
      "align_content": null,
      "align_items": null,
      "align_self": null,
      "border": null,
      "bottom": null,
      "display": null,
      "flex": null,
      "flex_flow": null,
      "grid_area": null,
      "grid_auto_columns": null,
      "grid_auto_flow": null,
      "grid_auto_rows": null,
      "grid_column": null,
      "grid_gap": null,
      "grid_row": null,
      "grid_template_areas": null,
      "grid_template_columns": null,
      "grid_template_rows": null,
      "height": null,
      "justify_content": null,
      "justify_items": null,
      "left": null,
      "margin": null,
      "max_height": null,
      "max_width": null,
      "min_height": null,
      "min_width": null,
      "object_fit": null,
      "object_position": null,
      "order": null,
      "overflow": null,
      "overflow_x": null,
      "overflow_y": null,
      "padding": null,
      "right": null,
      "top": null,
      "visibility": null,
      "width": null
     }
    },
    "855e6f9cc4af475fbd3236750f227324": {
     "model_module": "@jupyter-widgets/controls",
     "model_name": "DescriptionStyleModel",
     "model_module_version": "1.5.0",
     "state": {
      "_model_module": "@jupyter-widgets/controls",
      "_model_module_version": "1.5.0",
      "_model_name": "DescriptionStyleModel",
      "_view_count": null,
      "_view_module": "@jupyter-widgets/base",
      "_view_module_version": "1.2.0",
      "_view_name": "StyleView",
      "description_width": ""
     }
    },
    "d5aefcdb5cc74ac0badd1f66b2b10d63": {
     "model_module": "@jupyter-widgets/base",
     "model_name": "LayoutModel",
     "model_module_version": "1.2.0",
     "state": {
      "_model_module": "@jupyter-widgets/base",
      "_model_module_version": "1.2.0",
      "_model_name": "LayoutModel",
      "_view_count": null,
      "_view_module": "@jupyter-widgets/base",
      "_view_module_version": "1.2.0",
      "_view_name": "LayoutView",
      "align_content": null,
      "align_items": null,
      "align_self": null,
      "border": null,
      "bottom": null,
      "display": null,
      "flex": null,
      "flex_flow": null,
      "grid_area": null,
      "grid_auto_columns": null,
      "grid_auto_flow": null,
      "grid_auto_rows": null,
      "grid_column": null,
      "grid_gap": null,
      "grid_row": null,
      "grid_template_areas": null,
      "grid_template_columns": null,
      "grid_template_rows": null,
      "height": null,
      "justify_content": null,
      "justify_items": null,
      "left": null,
      "margin": null,
      "max_height": null,
      "max_width": null,
      "min_height": null,
      "min_width": null,
      "object_fit": null,
      "object_position": null,
      "order": null,
      "overflow": null,
      "overflow_x": null,
      "overflow_y": null,
      "padding": null,
      "right": null,
      "top": null,
      "visibility": null,
      "width": null
     }
    },
    "26884829bccd4b38a1061b1b8323cd80": {
     "model_module": "@jupyter-widgets/controls",
     "model_name": "ProgressStyleModel",
     "model_module_version": "1.5.0",
     "state": {
      "_model_module": "@jupyter-widgets/controls",
      "_model_module_version": "1.5.0",
      "_model_name": "ProgressStyleModel",
      "_view_count": null,
      "_view_module": "@jupyter-widgets/base",
      "_view_module_version": "1.2.0",
      "_view_name": "StyleView",
      "bar_color": null,
      "description_width": ""
     }
    },
    "9b37f082c5f04933a477a7f3bd91165f": {
     "model_module": "@jupyter-widgets/base",
     "model_name": "LayoutModel",
     "model_module_version": "1.2.0",
     "state": {
      "_model_module": "@jupyter-widgets/base",
      "_model_module_version": "1.2.0",
      "_model_name": "LayoutModel",
      "_view_count": null,
      "_view_module": "@jupyter-widgets/base",
      "_view_module_version": "1.2.0",
      "_view_name": "LayoutView",
      "align_content": null,
      "align_items": null,
      "align_self": null,
      "border": null,
      "bottom": null,
      "display": null,
      "flex": null,
      "flex_flow": null,
      "grid_area": null,
      "grid_auto_columns": null,
      "grid_auto_flow": null,
      "grid_auto_rows": null,
      "grid_column": null,
      "grid_gap": null,
      "grid_row": null,
      "grid_template_areas": null,
      "grid_template_columns": null,
      "grid_template_rows": null,
      "height": null,
      "justify_content": null,
      "justify_items": null,
      "left": null,
      "margin": null,
      "max_height": null,
      "max_width": null,
      "min_height": null,
      "min_width": null,
      "object_fit": null,
      "object_position": null,
      "order": null,
      "overflow": null,
      "overflow_x": null,
      "overflow_y": null,
      "padding": null,
      "right": null,
      "top": null,
      "visibility": null,
      "width": null
     }
    },
    "d3de5926c41a48e59048b947e00c3269": {
     "model_module": "@jupyter-widgets/controls",
     "model_name": "DescriptionStyleModel",
     "model_module_version": "1.5.0",
     "state": {
      "_model_module": "@jupyter-widgets/controls",
      "_model_module_version": "1.5.0",
      "_model_name": "DescriptionStyleModel",
      "_view_count": null,
      "_view_module": "@jupyter-widgets/base",
      "_view_module_version": "1.2.0",
      "_view_name": "StyleView",
      "description_width": ""
     }
    },
    "e56994f9e720410eae04b4bae4995bc5": {
     "model_module": "@jupyter-widgets/controls",
     "model_name": "HBoxModel",
     "model_module_version": "1.5.0",
     "state": {
      "_dom_classes": [],
      "_model_module": "@jupyter-widgets/controls",
      "_model_module_version": "1.5.0",
      "_model_name": "HBoxModel",
      "_view_count": null,
      "_view_module": "@jupyter-widgets/controls",
      "_view_module_version": "1.5.0",
      "_view_name": "HBoxView",
      "box_style": "",
      "children": [
       "IPY_MODEL_e37873bea29247adb86be7db2bcf44dd",
       "IPY_MODEL_b1b0778dd5a441c48a138410cee2c658",
       "IPY_MODEL_9e2141e2afa345a3bd5d5b968f8f0ecc"
      ],
      "layout": "IPY_MODEL_9a99f1d4ac3e45a4b6bc3048ce7d602f"
     }
    },
    "e37873bea29247adb86be7db2bcf44dd": {
     "model_module": "@jupyter-widgets/controls",
     "model_name": "HTMLModel",
     "model_module_version": "1.5.0",
     "state": {
      "_dom_classes": [],
      "_model_module": "@jupyter-widgets/controls",
      "_model_module_version": "1.5.0",
      "_model_name": "HTMLModel",
      "_view_count": null,
      "_view_module": "@jupyter-widgets/controls",
      "_view_module_version": "1.5.0",
      "_view_name": "HTMLView",
      "description": "",
      "description_tooltip": null,
      "layout": "IPY_MODEL_307c2be2e12142fcbdfe31e9d4a41850",
      "placeholder": "​",
      "style": "IPY_MODEL_e30e97679fc84cb588ab7d7d88e77f60",
      "value": "Processing: 100%"
     }
    },
    "b1b0778dd5a441c48a138410cee2c658": {
     "model_module": "@jupyter-widgets/controls",
     "model_name": "FloatProgressModel",
     "model_module_version": "1.5.0",
     "state": {
      "_dom_classes": [],
      "_model_module": "@jupyter-widgets/controls",
      "_model_module_version": "1.5.0",
      "_model_name": "FloatProgressModel",
      "_view_count": null,
      "_view_module": "@jupyter-widgets/controls",
      "_view_module_version": "1.5.0",
      "_view_name": "ProgressView",
      "bar_style": "",
      "description": "",
      "description_tooltip": null,
      "layout": "IPY_MODEL_9f0c30394e1d4b6bb684fe8ec09e4d29",
      "max": 81,
      "min": 0,
      "orientation": "horizontal",
      "style": "IPY_MODEL_bb03725844ec4ad4a79f22aa9755cd43",
      "value": 81
     }
    },
    "9e2141e2afa345a3bd5d5b968f8f0ecc": {
     "model_module": "@jupyter-widgets/controls",
     "model_name": "HTMLModel",
     "model_module_version": "1.5.0",
     "state": {
      "_dom_classes": [],
      "_model_module": "@jupyter-widgets/controls",
      "_model_module_version": "1.5.0",
      "_model_name": "HTMLModel",
      "_view_count": null,
      "_view_module": "@jupyter-widgets/controls",
      "_view_module_version": "1.5.0",
      "_view_name": "HTMLView",
      "description": "",
      "description_tooltip": null,
      "layout": "IPY_MODEL_1cd87d6c4d3e485a85fd28511e82c396",
      "placeholder": "​",
      "style": "IPY_MODEL_6c60091bbd1e4b3ab37ac93da72ee5f4",
      "value": " 81/81 [01:33&lt;00:00,  1.12s/it]"
     }
    },
    "9a99f1d4ac3e45a4b6bc3048ce7d602f": {
     "model_module": "@jupyter-widgets/base",
     "model_name": "LayoutModel",
     "model_module_version": "1.2.0",
     "state": {
      "_model_module": "@jupyter-widgets/base",
      "_model_module_version": "1.2.0",
      "_model_name": "LayoutModel",
      "_view_count": null,
      "_view_module": "@jupyter-widgets/base",
      "_view_module_version": "1.2.0",
      "_view_name": "LayoutView",
      "align_content": null,
      "align_items": null,
      "align_self": null,
      "border": null,
      "bottom": null,
      "display": null,
      "flex": null,
      "flex_flow": null,
      "grid_area": null,
      "grid_auto_columns": null,
      "grid_auto_flow": null,
      "grid_auto_rows": null,
      "grid_column": null,
      "grid_gap": null,
      "grid_row": null,
      "grid_template_areas": null,
      "grid_template_columns": null,
      "grid_template_rows": null,
      "height": null,
      "justify_content": null,
      "justify_items": null,
      "left": null,
      "margin": null,
      "max_height": null,
      "max_width": null,
      "min_height": null,
      "min_width": null,
      "object_fit": null,
      "object_position": null,
      "order": null,
      "overflow": null,
      "overflow_x": null,
      "overflow_y": null,
      "padding": null,
      "right": null,
      "top": null,
      "visibility": "hidden",
      "width": null
     }
    },
    "307c2be2e12142fcbdfe31e9d4a41850": {
     "model_module": "@jupyter-widgets/base",
     "model_name": "LayoutModel",
     "model_module_version": "1.2.0",
     "state": {
      "_model_module": "@jupyter-widgets/base",
      "_model_module_version": "1.2.0",
      "_model_name": "LayoutModel",
      "_view_count": null,
      "_view_module": "@jupyter-widgets/base",
      "_view_module_version": "1.2.0",
      "_view_name": "LayoutView",
      "align_content": null,
      "align_items": null,
      "align_self": null,
      "border": null,
      "bottom": null,
      "display": null,
      "flex": null,
      "flex_flow": null,
      "grid_area": null,
      "grid_auto_columns": null,
      "grid_auto_flow": null,
      "grid_auto_rows": null,
      "grid_column": null,
      "grid_gap": null,
      "grid_row": null,
      "grid_template_areas": null,
      "grid_template_columns": null,
      "grid_template_rows": null,
      "height": null,
      "justify_content": null,
      "justify_items": null,
      "left": null,
      "margin": null,
      "max_height": null,
      "max_width": null,
      "min_height": null,
      "min_width": null,
      "object_fit": null,
      "object_position": null,
      "order": null,
      "overflow": null,
      "overflow_x": null,
      "overflow_y": null,
      "padding": null,
      "right": null,
      "top": null,
      "visibility": null,
      "width": null
     }
    },
    "e30e97679fc84cb588ab7d7d88e77f60": {
     "model_module": "@jupyter-widgets/controls",
     "model_name": "DescriptionStyleModel",
     "model_module_version": "1.5.0",
     "state": {
      "_model_module": "@jupyter-widgets/controls",
      "_model_module_version": "1.5.0",
      "_model_name": "DescriptionStyleModel",
      "_view_count": null,
      "_view_module": "@jupyter-widgets/base",
      "_view_module_version": "1.2.0",
      "_view_name": "StyleView",
      "description_width": ""
     }
    },
    "9f0c30394e1d4b6bb684fe8ec09e4d29": {
     "model_module": "@jupyter-widgets/base",
     "model_name": "LayoutModel",
     "model_module_version": "1.2.0",
     "state": {
      "_model_module": "@jupyter-widgets/base",
      "_model_module_version": "1.2.0",
      "_model_name": "LayoutModel",
      "_view_count": null,
      "_view_module": "@jupyter-widgets/base",
      "_view_module_version": "1.2.0",
      "_view_name": "LayoutView",
      "align_content": null,
      "align_items": null,
      "align_self": null,
      "border": null,
      "bottom": null,
      "display": null,
      "flex": null,
      "flex_flow": null,
      "grid_area": null,
      "grid_auto_columns": null,
      "grid_auto_flow": null,
      "grid_auto_rows": null,
      "grid_column": null,
      "grid_gap": null,
      "grid_row": null,
      "grid_template_areas": null,
      "grid_template_columns": null,
      "grid_template_rows": null,
      "height": null,
      "justify_content": null,
      "justify_items": null,
      "left": null,
      "margin": null,
      "max_height": null,
      "max_width": null,
      "min_height": null,
      "min_width": null,
      "object_fit": null,
      "object_position": null,
      "order": null,
      "overflow": null,
      "overflow_x": null,
      "overflow_y": null,
      "padding": null,
      "right": null,
      "top": null,
      "visibility": null,
      "width": null
     }
    },
    "bb03725844ec4ad4a79f22aa9755cd43": {
     "model_module": "@jupyter-widgets/controls",
     "model_name": "ProgressStyleModel",
     "model_module_version": "1.5.0",
     "state": {
      "_model_module": "@jupyter-widgets/controls",
      "_model_module_version": "1.5.0",
      "_model_name": "ProgressStyleModel",
      "_view_count": null,
      "_view_module": "@jupyter-widgets/base",
      "_view_module_version": "1.2.0",
      "_view_name": "StyleView",
      "bar_color": null,
      "description_width": ""
     }
    },
    "1cd87d6c4d3e485a85fd28511e82c396": {
     "model_module": "@jupyter-widgets/base",
     "model_name": "LayoutModel",
     "model_module_version": "1.2.0",
     "state": {
      "_model_module": "@jupyter-widgets/base",
      "_model_module_version": "1.2.0",
      "_model_name": "LayoutModel",
      "_view_count": null,
      "_view_module": "@jupyter-widgets/base",
      "_view_module_version": "1.2.0",
      "_view_name": "LayoutView",
      "align_content": null,
      "align_items": null,
      "align_self": null,
      "border": null,
      "bottom": null,
      "display": null,
      "flex": null,
      "flex_flow": null,
      "grid_area": null,
      "grid_auto_columns": null,
      "grid_auto_flow": null,
      "grid_auto_rows": null,
      "grid_column": null,
      "grid_gap": null,
      "grid_row": null,
      "grid_template_areas": null,
      "grid_template_columns": null,
      "grid_template_rows": null,
      "height": null,
      "justify_content": null,
      "justify_items": null,
      "left": null,
      "margin": null,
      "max_height": null,
      "max_width": null,
      "min_height": null,
      "min_width": null,
      "object_fit": null,
      "object_position": null,
      "order": null,
      "overflow": null,
      "overflow_x": null,
      "overflow_y": null,
      "padding": null,
      "right": null,
      "top": null,
      "visibility": null,
      "width": null
     }
    },
    "6c60091bbd1e4b3ab37ac93da72ee5f4": {
     "model_module": "@jupyter-widgets/controls",
     "model_name": "DescriptionStyleModel",
     "model_module_version": "1.5.0",
     "state": {
      "_model_module": "@jupyter-widgets/controls",
      "_model_module_version": "1.5.0",
      "_model_name": "DescriptionStyleModel",
      "_view_count": null,
      "_view_module": "@jupyter-widgets/base",
      "_view_module_version": "1.2.0",
      "_view_name": "StyleView",
      "description_width": ""
     }
    },
    "61ba978373f0402d8c8f40867b01738e": {
     "model_module": "@jupyter-widgets/controls",
     "model_name": "HBoxModel",
     "model_module_version": "1.5.0",
     "state": {
      "_dom_classes": [],
      "_model_module": "@jupyter-widgets/controls",
      "_model_module_version": "1.5.0",
      "_model_name": "HBoxModel",
      "_view_count": null,
      "_view_module": "@jupyter-widgets/controls",
      "_view_module_version": "1.5.0",
      "_view_name": "HBoxView",
      "box_style": "",
      "children": [
       "IPY_MODEL_94fea658b68047f6b431f497a3205bbf",
       "IPY_MODEL_68ab92835a61466fad11da1b79dca6a6",
       "IPY_MODEL_1d3dc944b0a843c78c670d2346c9c212"
      ],
      "layout": "IPY_MODEL_47fd44fe60db427c8002af45d1cf417a"
     }
    },
    "94fea658b68047f6b431f497a3205bbf": {
     "model_module": "@jupyter-widgets/controls",
     "model_name": "HTMLModel",
     "model_module_version": "1.5.0",
     "state": {
      "_dom_classes": [],
      "_model_module": "@jupyter-widgets/controls",
      "_model_module_version": "1.5.0",
      "_model_name": "HTMLModel",
      "_view_count": null,
      "_view_module": "@jupyter-widgets/controls",
      "_view_module_version": "1.5.0",
      "_view_name": "HTMLView",
      "description": "",
      "description_tooltip": null,
      "layout": "IPY_MODEL_fc17c503d16e476a8d2c8970e26ceeea",
      "placeholder": "​",
      "style": "IPY_MODEL_30abecb6ff92474eb3a097b564124e8b",
      "value": "Processing: 100%"
     }
    },
    "68ab92835a61466fad11da1b79dca6a6": {
     "model_module": "@jupyter-widgets/controls",
     "model_name": "FloatProgressModel",
     "model_module_version": "1.5.0",
     "state": {
      "_dom_classes": [],
      "_model_module": "@jupyter-widgets/controls",
      "_model_module_version": "1.5.0",
      "_model_name": "FloatProgressModel",
      "_view_count": null,
      "_view_module": "@jupyter-widgets/controls",
      "_view_module_version": "1.5.0",
      "_view_name": "ProgressView",
      "bar_style": "",
      "description": "",
      "description_tooltip": null,
      "layout": "IPY_MODEL_dfcb0dde217f4a2aae74f9e1e317f3ce",
      "max": 81,
      "min": 0,
      "orientation": "horizontal",
      "style": "IPY_MODEL_30065ab80d9941229f90f6f89be61185",
      "value": 81
     }
    },
    "1d3dc944b0a843c78c670d2346c9c212": {
     "model_module": "@jupyter-widgets/controls",
     "model_name": "HTMLModel",
     "model_module_version": "1.5.0",
     "state": {
      "_dom_classes": [],
      "_model_module": "@jupyter-widgets/controls",
      "_model_module_version": "1.5.0",
      "_model_name": "HTMLModel",
      "_view_count": null,
      "_view_module": "@jupyter-widgets/controls",
      "_view_module_version": "1.5.0",
      "_view_name": "HTMLView",
      "description": "",
      "description_tooltip": null,
      "layout": "IPY_MODEL_a04939b7b57b4bd382a5b54972dc69fa",
      "placeholder": "​",
      "style": "IPY_MODEL_05f20e7d4df2407d8c7129b02ec431bd",
      "value": " 81/81 [01:16&lt;00:00,  1.56it/s]"
     }
    },
    "47fd44fe60db427c8002af45d1cf417a": {
     "model_module": "@jupyter-widgets/base",
     "model_name": "LayoutModel",
     "model_module_version": "1.2.0",
     "state": {
      "_model_module": "@jupyter-widgets/base",
      "_model_module_version": "1.2.0",
      "_model_name": "LayoutModel",
      "_view_count": null,
      "_view_module": "@jupyter-widgets/base",
      "_view_module_version": "1.2.0",
      "_view_name": "LayoutView",
      "align_content": null,
      "align_items": null,
      "align_self": null,
      "border": null,
      "bottom": null,
      "display": null,
      "flex": null,
      "flex_flow": null,
      "grid_area": null,
      "grid_auto_columns": null,
      "grid_auto_flow": null,
      "grid_auto_rows": null,
      "grid_column": null,
      "grid_gap": null,
      "grid_row": null,
      "grid_template_areas": null,
      "grid_template_columns": null,
      "grid_template_rows": null,
      "height": null,
      "justify_content": null,
      "justify_items": null,
      "left": null,
      "margin": null,
      "max_height": null,
      "max_width": null,
      "min_height": null,
      "min_width": null,
      "object_fit": null,
      "object_position": null,
      "order": null,
      "overflow": null,
      "overflow_x": null,
      "overflow_y": null,
      "padding": null,
      "right": null,
      "top": null,
      "visibility": "hidden",
      "width": null
     }
    },
    "fc17c503d16e476a8d2c8970e26ceeea": {
     "model_module": "@jupyter-widgets/base",
     "model_name": "LayoutModel",
     "model_module_version": "1.2.0",
     "state": {
      "_model_module": "@jupyter-widgets/base",
      "_model_module_version": "1.2.0",
      "_model_name": "LayoutModel",
      "_view_count": null,
      "_view_module": "@jupyter-widgets/base",
      "_view_module_version": "1.2.0",
      "_view_name": "LayoutView",
      "align_content": null,
      "align_items": null,
      "align_self": null,
      "border": null,
      "bottom": null,
      "display": null,
      "flex": null,
      "flex_flow": null,
      "grid_area": null,
      "grid_auto_columns": null,
      "grid_auto_flow": null,
      "grid_auto_rows": null,
      "grid_column": null,
      "grid_gap": null,
      "grid_row": null,
      "grid_template_areas": null,
      "grid_template_columns": null,
      "grid_template_rows": null,
      "height": null,
      "justify_content": null,
      "justify_items": null,
      "left": null,
      "margin": null,
      "max_height": null,
      "max_width": null,
      "min_height": null,
      "min_width": null,
      "object_fit": null,
      "object_position": null,
      "order": null,
      "overflow": null,
      "overflow_x": null,
      "overflow_y": null,
      "padding": null,
      "right": null,
      "top": null,
      "visibility": null,
      "width": null
     }
    },
    "30abecb6ff92474eb3a097b564124e8b": {
     "model_module": "@jupyter-widgets/controls",
     "model_name": "DescriptionStyleModel",
     "model_module_version": "1.5.0",
     "state": {
      "_model_module": "@jupyter-widgets/controls",
      "_model_module_version": "1.5.0",
      "_model_name": "DescriptionStyleModel",
      "_view_count": null,
      "_view_module": "@jupyter-widgets/base",
      "_view_module_version": "1.2.0",
      "_view_name": "StyleView",
      "description_width": ""
     }
    },
    "dfcb0dde217f4a2aae74f9e1e317f3ce": {
     "model_module": "@jupyter-widgets/base",
     "model_name": "LayoutModel",
     "model_module_version": "1.2.0",
     "state": {
      "_model_module": "@jupyter-widgets/base",
      "_model_module_version": "1.2.0",
      "_model_name": "LayoutModel",
      "_view_count": null,
      "_view_module": "@jupyter-widgets/base",
      "_view_module_version": "1.2.0",
      "_view_name": "LayoutView",
      "align_content": null,
      "align_items": null,
      "align_self": null,
      "border": null,
      "bottom": null,
      "display": null,
      "flex": null,
      "flex_flow": null,
      "grid_area": null,
      "grid_auto_columns": null,
      "grid_auto_flow": null,
      "grid_auto_rows": null,
      "grid_column": null,
      "grid_gap": null,
      "grid_row": null,
      "grid_template_areas": null,
      "grid_template_columns": null,
      "grid_template_rows": null,
      "height": null,
      "justify_content": null,
      "justify_items": null,
      "left": null,
      "margin": null,
      "max_height": null,
      "max_width": null,
      "min_height": null,
      "min_width": null,
      "object_fit": null,
      "object_position": null,
      "order": null,
      "overflow": null,
      "overflow_x": null,
      "overflow_y": null,
      "padding": null,
      "right": null,
      "top": null,
      "visibility": null,
      "width": null
     }
    },
    "30065ab80d9941229f90f6f89be61185": {
     "model_module": "@jupyter-widgets/controls",
     "model_name": "ProgressStyleModel",
     "model_module_version": "1.5.0",
     "state": {
      "_model_module": "@jupyter-widgets/controls",
      "_model_module_version": "1.5.0",
      "_model_name": "ProgressStyleModel",
      "_view_count": null,
      "_view_module": "@jupyter-widgets/base",
      "_view_module_version": "1.2.0",
      "_view_name": "StyleView",
      "bar_color": null,
      "description_width": ""
     }
    },
    "a04939b7b57b4bd382a5b54972dc69fa": {
     "model_module": "@jupyter-widgets/base",
     "model_name": "LayoutModel",
     "model_module_version": "1.2.0",
     "state": {
      "_model_module": "@jupyter-widgets/base",
      "_model_module_version": "1.2.0",
      "_model_name": "LayoutModel",
      "_view_count": null,
      "_view_module": "@jupyter-widgets/base",
      "_view_module_version": "1.2.0",
      "_view_name": "LayoutView",
      "align_content": null,
      "align_items": null,
      "align_self": null,
      "border": null,
      "bottom": null,
      "display": null,
      "flex": null,
      "flex_flow": null,
      "grid_area": null,
      "grid_auto_columns": null,
      "grid_auto_flow": null,
      "grid_auto_rows": null,
      "grid_column": null,
      "grid_gap": null,
      "grid_row": null,
      "grid_template_areas": null,
      "grid_template_columns": null,
      "grid_template_rows": null,
      "height": null,
      "justify_content": null,
      "justify_items": null,
      "left": null,
      "margin": null,
      "max_height": null,
      "max_width": null,
      "min_height": null,
      "min_width": null,
      "object_fit": null,
      "object_position": null,
      "order": null,
      "overflow": null,
      "overflow_x": null,
      "overflow_y": null,
      "padding": null,
      "right": null,
      "top": null,
      "visibility": null,
      "width": null
     }
    },
    "05f20e7d4df2407d8c7129b02ec431bd": {
     "model_module": "@jupyter-widgets/controls",
     "model_name": "DescriptionStyleModel",
     "model_module_version": "1.5.0",
     "state": {
      "_model_module": "@jupyter-widgets/controls",
      "_model_module_version": "1.5.0",
      "_model_name": "DescriptionStyleModel",
      "_view_count": null,
      "_view_module": "@jupyter-widgets/base",
      "_view_module_version": "1.2.0",
      "_view_name": "StyleView",
      "description_width": ""
     }
    }
   }
  }
 },
 "nbformat_minor": 0,
 "nbformat": 4,
 "cells": [
  {
   "cell_type": "markdown",
   "source": [
    "# Bike Sharing Demand"
   ],
   "metadata": {
    "id": "YkdKQcfKzSt2"
   }
  },
  {
   "cell_type": "markdown",
   "source": [
    "# 0. 세팅"
   ],
   "metadata": {
    "id": "PwUsU3VQy1O4"
   }
  },
  {
   "cell_type": "markdown",
   "source": [
    "## 0.1 데이터 불러오기"
   ],
   "metadata": {
    "id": "DRVYqZ7Mzse-"
   }
  },
  {
   "cell_type": "code",
   "source": [
    "!pip install kaggle\n",
    "from google.colab import files\n",
    "files.upload()"
   ],
   "metadata": {
    "colab": {
     "base_uri": "https://localhost:8080/",
     "height": 316
    },
    "id": "PDFXX0sFRGzn",
    "outputId": "a876cb23-d9e3-4ad5-f697-886b56be506b"
   },
   "execution_count": null,
   "outputs": []
  },
  {
   "cell_type": "code",
   "source": [
    "!mkdir -p ~/.kaggle\n",
    "!cp kaggle.json ~/.kaggle/\n",
    "\n",
    "# Permission Warning 방지\n",
    "!chmod 600 ~/.kaggle/kaggle.json\n",
    "\n",
    "!kaggle competitions download -c bike-sharing-demand\n",
    "\n",
    "!unzip bike-sharing-demand.zip"
   ],
   "metadata": {
    "colab": {
     "base_uri": "https://localhost:8080/"
    },
    "id": "fDTIq2xPRGsZ",
    "outputId": "364ad4ef-c4bd-4155-c949-d35a31e7d998"
   },
   "execution_count": null,
   "outputs": []
  },
  {
   "cell_type": "markdown",
   "source": [
    "## 0.2 모듈 불러오기"
   ],
   "metadata": {
    "id": "WwH5vcg4ypxD"
   }
  },
  {
   "cell_type": "code",
   "source": [
    "import numpy as np\n",
    "import pandas as pd\n",
    "from scipy import stats\n",
    "import missingno as msno\n",
    "\n",
    "import seaborn as sns\n",
    "import matplotlib as mpl\n",
    "import matplotlib.pyplot as plt\n",
    "from matplotlib.gridspec import GridSpec\n",
    "\n",
    "import warnings\n",
    "pd.options.mode.chained_assignment = None\n",
    "warnings.filterwarnings(\"ignore\")\n",
    "%matplotlib inline\n",
    "sns.set_palette(\"pastel\")"
   ],
   "metadata": {
    "id": "5bvnm6ib-vmL"
   },
   "execution_count": null,
   "outputs": []
  },
  {
   "cell_type": "markdown",
   "source": [
    "# 1. 데이터 확인"
   ],
   "metadata": {
    "id": "ocK6jo5o2MGT"
   }
  },
  {
   "cell_type": "code",
   "source": [
    "train = pd.read_csv('train.csv') # 훈련 데이터\n",
    "test = pd.read_csv('test.csv') # 테스트 데이터\n",
    "\n",
    "# 훈련 데이터와 테스트 데이터 크기 확인\n",
    "train.shape, test.shape"
   ],
   "metadata": {
    "_uuid": "8f2839f25d086af736a60e9eeb907d3b93b6e0e5",
    "_cell_guid": "b1076dfc-b9ad-4769-8c92-a6c4dae69d19",
    "execution": {
     "iopub.status.busy": "2024-01-17T03:33:51.574695Z",
     "iopub.execute_input": "2024-01-17T03:33:51.575061Z",
     "iopub.status.idle": "2024-01-17T03:33:51.610783Z",
     "shell.execute_reply.started": "2024-01-17T03:33:51.575036Z",
     "shell.execute_reply": "2024-01-17T03:33:51.609592Z"
    },
    "trusted": true,
    "id": "q1Fae9Y2IZhf",
    "colab": {
     "base_uri": "https://localhost:8080/"
    },
    "outputId": "d9f299a8-dbf7-4378-c4e0-4f728f1bff0d"
   },
   "execution_count": null,
   "outputs": []
  },
  {
   "cell_type": "markdown",
   "source": [
    "- 훈련 데이터는 10.886행 12개의 칼럼으로 구성되어 있는 반면, 테스트 데이터는 6,493행 9개의 칼럼으로 구성되어 있다"
   ],
   "metadata": {
    "id": "bE-EJw4eIZhg"
   }
  },
  {
   "cell_type": "markdown",
   "source": [
    "## 1.1 전반적인 데이터 파악\n"
   ],
   "metadata": {
    "id": "MUxdN_Cc1KvX"
   }
  },
  {
   "cell_type": "markdown",
   "source": [
    "\n",
    "> - 케글 데이터 설명에 따르면 2년간의 시간별 대여량 데이터가 제공되고, 훈련 세트는 매월 19일까지, 테스트 세트는 20일부터 말일까지로 구성된다.\n",
    "> - 대여 기간 이전에 사용 가능한 정보만 사용하여 테스트 세트에 포함된 각 시간 동안 임대된 자전거의 총 수를 예측해야 한다."
   ],
   "metadata": {
    "id": "GCTc8BTMqEw1"
   }
  },
  {
   "cell_type": "code",
   "source": [
    "train.head()"
   ],
   "metadata": {
    "execution": {
     "iopub.status.busy": "2024-01-17T03:33:51.612579Z",
     "iopub.execute_input": "2024-01-17T03:33:51.613052Z",
     "iopub.status.idle": "2024-01-17T03:33:51.625744Z",
     "shell.execute_reply.started": "2024-01-17T03:33:51.613026Z",
     "shell.execute_reply": "2024-01-17T03:33:51.625096Z"
    },
    "trusted": true,
    "id": "cSkfwqmmIZhh",
    "colab": {
     "base_uri": "https://localhost:8080/",
     "height": 206
    },
    "outputId": "63d0c159-becb-455f-fac6-c904765d805a"
   },
   "execution_count": null,
   "outputs": []
  },
  {
   "cell_type": "code",
   "source": [
    "test.head()"
   ],
   "metadata": {
    "execution": {
     "iopub.status.busy": "2024-01-17T03:33:51.626827Z",
     "iopub.execute_input": "2024-01-17T03:33:51.627114Z",
     "iopub.status.idle": "2024-01-17T03:33:51.642487Z",
     "shell.execute_reply.started": "2024-01-17T03:33:51.627091Z",
     "shell.execute_reply": "2024-01-17T03:33:51.641874Z"
    },
    "trusted": true,
    "id": "L7pgw0wPIZhi",
    "colab": {
     "base_uri": "https://localhost:8080/",
     "height": 206
    },
    "outputId": "98850f1b-4384-4298-8697-3a535586a16e"
   },
   "execution_count": null,
   "outputs": []
  },
  {
   "cell_type": "markdown",
   "source": [
    "- 데이터를 살펴보니 범주형 데이터와 연속형 데이터가 존재함을 볼 수 있었다."
   ],
   "metadata": {
    "id": "rEbp5oEh1Xyu"
   }
  },
  {
   "cell_type": "code",
   "source": [
    "a"
   ],
   "metadata": {
    "colab": {
     "base_uri": "https://localhost:8080/",
     "height": 571
    },
    "id": "5ilH5Ti4_Bk_",
    "outputId": "42c952c7-cc0e-4f91-ebc2-8a7e800475f2"
   },
   "execution_count": null,
   "outputs": []
  },
  {
   "cell_type": "code",
   "source": [
    "msno.matrix(test,figsize=(12,5))"
   ],
   "metadata": {
    "colab": {
     "base_uri": "https://localhost:8080/",
     "height": 571
    },
    "id": "yI7xvmu23TJ1",
    "outputId": "659d553a-4d05-42bb-c2bd-8af0e84d1eba"
   },
   "execution_count": null,
   "outputs": []
  },
  {
   "cell_type": "markdown",
   "source": [
    "- 결측치를 파악해보니 train과 test 데이터 모두 결측치는 없다\n",
    "- 비어있는 결측치는 없으나 다른 값으로 채워져 있나 확인해봐야 한다"
   ],
   "metadata": {
    "id": "xZlN4-ZyIZhj"
   }
  },
  {
   "cell_type": "markdown",
   "source": [
    "## 1.2 데이터 필드 구성\n",
    "- datetime : 기록 일시(1시간 간격)\n",
    "- season : 계절(1봄, 2여름, 3가을, 4겨울)\n",
    "- holiday : 공휴일 여부(0공휴일 아님, 1공휴일)\n",
    "- workingday : 근무일 여부(0근무일 아님, 1근무일_주말과 공휴일이 아니면 근무일로 간주)\n",
    "- weather : 날씨(1맑음, 2옅은 안개 및 약간 흐림, 3약간의 눈이나 비 천둥번개와 흐림, 4폭우와 천둥번개 및 눈 짙은 안개)\n",
    "- temp : 실제 온도\n",
    "- atemp : 체감 온도\n",
    "- humidity : 상대 습도\n",
    "- windspeed : 풍속\n",
    "--------------------------\n",
    "### train 데이터에만 존재하는 feature\n",
    "- casual : 등록되지 않은 사용자(비회원) 대여 수량\n",
    "- registered : 등록된 사용자(회원) 대여 수량\n",
    "\n",
    "### 예측해야 할 타깃값\n",
    "- count : 자전거 대여 수량 (회원 + 비회원)"
   ],
   "metadata": {
    "id": "xN-a2AxwIZhh"
   }
  },
  {
   "cell_type": "markdown",
   "source": [
    "## 1.3 <b>``데이터 분석 방향성``</b>\n",
    "1. 시계열 데이터 (datetime) : 시계열 데이터 분석을 통해 시간적 특성에 따른 대여량의 변화 및 차이를 확인한다.\n",
    "  - datetime 으로 타입을 변환한 뒤 파생변수를 생성한다 (day, month, dayofweek 등)\n",
    "2. 날씨 관련 연속형 데이터 (temp, atemp, humidity, windspeed)\n",
    "  - 이상치 파악\n",
    "3. 범주형 데이터 (season, holiday, workingday, weather) : 명목형과 순서형을 구분한다\n",
    "  - 명목형 : holiday, workingday\n",
    "  - 순서형 : season, weather\n",
    "4. target : train 데이터에만 있는 casual과 registered feature에 대해서 어떻게 다뤄야 할 지 고민해본다.\n",
    "  - 예측해야 하는 타겟값이 두 피처의 합으로 보여진다.\n",
    "  - 각각을 예측한 뒤에 합해서 결과를 낼지 혹은 한번에 예측해야 할 지 두 가지 예측 방향성을 생각해 볼 수 있다.\n"
   ],
   "metadata": {
    "id": "nrX723gQIZhi"
   }
  },
  {
   "cell_type": "markdown",
   "source": [
    "# 2. 데이터 탐색"
   ],
   "metadata": {
    "id": "2_G8TIySIZhk"
   }
  },
  {
   "cell_type": "markdown",
   "source": [
    "## 2.1 시계열 데이터 (datetime)\n",
    "  - 시계열 데이터 분석을 통해 시간적 특성에 따른 대여량의 변화 및 차이를 확인한다.\n",
    "  - datetime 으로 타입을 변환한 뒤 파생변수를 생성한다 (day, month, dayofweek 등)"
   ],
   "metadata": {
    "id": "P8YUaQdA8jbM"
   }
  },
  {
   "cell_type": "markdown",
   "source": [
    "- 훈련 세트는 매월 19일까지, 테스트 세트는 20일부터 말일까지로 구성된다 하였으므로 day는 파생변수로 사용하지 않는다.\n",
    "- 만들어진 파생변수는 일종의 범주형 데이터로 보고 범주형 데이터와 함께 시각화 및 분석을 진행할 예정이다."
   ],
   "metadata": {
    "id": "V27Kd2-TjwcH"
   }
  },
  {
   "cell_type": "code",
   "source": [
    "train['datetime'] = pd.to_datetime(train['datetime'])\n",
    "train['year'] = train['datetime'].dt.year\n",
    "train['month'] = train['datetime'].dt.month\n",
    "train['hour'] = train['datetime'].dt.hour\n",
    "train['dayofweek'] = train['datetime'].dt.dayofweek\n",
    "train['day_name'] = train['datetime'].dt.day_name()"
   ],
   "metadata": {
    "id": "3hRY2NdR1nEM"
   },
   "execution_count": null,
   "outputs": []
  },
  {
   "cell_type": "markdown",
   "source": [
    "## 2.2 날씨 관련 수치형(연속형) 데이터 (temp, atemp, humidity, windspeed)\n",
    "  - 이상치 파악"
   ],
   "metadata": {
    "id": "GtMhZepn8mhI"
   }
  },
  {
   "cell_type": "code",
   "source": [
    "numerical = ['temp','atemp', 'humidity', 'windspeed']\n",
    "train[numerical].describe()"
   ],
   "metadata": {
    "colab": {
     "base_uri": "https://localhost:8080/",
     "height": 300
    },
    "id": "ZkyewA7u5zTH",
    "outputId": "f0d63f6d-9d0e-4b99-f4b4-4c9d455b161f"
   },
   "execution_count": null,
   "outputs": []
  },
  {
   "cell_type": "markdown",
   "source": [
    "- humidity와 windspeed의 데이터에서 최솟값으로 0이 있는데, 이것이 실제로 가능한 수치인지 생각해 볼 필요가 있다.\n",
    "- 체감온도와 실제온도는 관련성이 높은 feature로 보이기에 두 데이터 간의 차이가 너무 크다면 이 또한 이상치로 보아야할 것이다."
   ],
   "metadata": {
    "id": "yaeIKbC561JO"
   }
  },
  {
   "cell_type": "markdown",
   "source": [
    "### 2.2.1 분포 파악"
   ],
   "metadata": {
    "id": "oBVIMxB2BU-a"
   }
  },
  {
   "cell_type": "code",
   "source": [
    "# 4개의 feature에 대한 distplot 그리기\n",
    "plt.figure(figsize=(12, 4))\n",
    "for i, feature in enumerate(numerical):\n",
    "    plt.subplot(1, 4, i + 1)\n",
    "    sns.distplot(train[feature], kde=True)\n",
    "    plt.title(feature)"
   ],
   "metadata": {
    "colab": {
     "base_uri": "https://localhost:8080/",
     "height": 410
    },
    "id": "zi4BcKiNNhjB",
    "outputId": "63631b11-0a68-410b-b1a4-6198f67455b0"
   },
   "execution_count": null,
   "outputs": []
  },
  {
   "cell_type": "code",
   "source": [
    "# 4개의 feature에 대한 qqplot 그리기\n",
    "plt.figure(figsize=(12, 4))\n",
    "for i, feature in enumerate(numerical):\n",
    "    plt.subplot(1, 4, i + 1)\n",
    "    stats.probplot(train[feature], dist=\"norm\", plot=plt)\n",
    "    plt.title(feature)"
   ],
   "metadata": {
    "colab": {
     "base_uri": "https://localhost:8080/",
     "height": 410
    },
    "id": "HUFCszQEOf_j",
    "outputId": "5842a438-f2b3-47e5-fb33-885122ebb65f"
   },
   "execution_count": null,
   "outputs": []
  },
  {
   "cell_type": "markdown",
   "source": [
    "- 풍속(windspeed)의 경우 왼쪽으로 치우쳐져 있는 것을 볼 수 있다.\n",
    "  - 로그 변환을 고려해볼 필요가 있다.\n",
    "- 풍속(windspeed)은 0이 될 수 없으므로 사실상 이상치라 볼 수 있고 이를 다른 값으로 대체해 주는 것이 바람직 해 보인다."
   ],
   "metadata": {
    "id": "Jw5-JDK06n9E"
   }
  },
  {
   "cell_type": "markdown",
   "source": [
    "### 2.2.1 수치형 데이터의 상관관계 파악"
   ],
   "metadata": {
    "id": "TgZPeBH_09mK"
   }
  },
  {
   "cell_type": "markdown",
   "source": [
    "#### 온도와 체감온도에 대한 산점도"
   ],
   "metadata": {
    "id": "KBVtxyu34Wzx"
   }
  },
  {
   "cell_type": "code",
   "source": [
    "# 온도와 체감 온도에 대한 산점도 그리기\n",
    "plt.scatter(train['temp'], train['atemp'])\n",
    "plt.xlabel('Temperature')\n",
    "plt.ylabel('Apparent Temperature')\n",
    "plt.show()"
   ],
   "metadata": {
    "colab": {
     "base_uri": "https://localhost:8080/",
     "height": 449
    },
    "id": "oiynYRv_4raf",
    "outputId": "ef81fa48-e741-4f0b-ad6e-2f2a16b1aa3e"
   },
   "execution_count": null,
   "outputs": []
  },
  {
   "cell_type": "markdown",
   "source": [
    "- 온도와 체감온도가 상당히 차이가 많이 나는 데이터 확인 후 이상치 처리를 해볼 것이다.\n",
    "- 유독 차이가 많이 나는 부분이 체감온도가 하나의 값인 것으로 보아 기록시 나타난 이상치로 보인다"
   ],
   "metadata": {
    "id": "cUK8C5L6TLan"
   }
  },
  {
   "cell_type": "markdown",
   "source": [
    "#### 이상치 처리\n",
    "- 실제온도 / 체감온도의 비율로 이상치를 파악해보았다.\n",
    "- 이 비율이 2를 넘어가면 이상치로 처리해주었다"
   ],
   "metadata": {
    "id": "kuXb58SKO6Jk"
   }
  },
  {
   "cell_type": "code",
   "source": [
    "(train['temp'] / train['atemp']).describe()"
   ],
   "metadata": {
    "colab": {
     "base_uri": "https://localhost:8080/"
    },
    "id": "wU1u2qqYTKI0",
    "outputId": "fdb2e56c-707d-4cc9-e4fe-ec028119e2be"
   },
   "execution_count": null,
   "outputs": []
  },
  {
   "cell_type": "code",
   "source": [
    "train.loc[train['temp'] / train['atemp'] > 2,'atemp_out'] = 1\n",
    "train.atemp_out.fillna(0, inplace=True)"
   ],
   "metadata": {
    "id": "wNArUeRYTp9R"
   },
   "execution_count": null,
   "outputs": []
  },
  {
   "cell_type": "code",
   "source": [
    "sns.scatterplot(data=train, x='temp', y='atemp', hue='atemp_out')\n",
    "plt.xlabel('Temperature')\n",
    "plt.ylabel('Apparent Temperature')\n",
    "plt.show()"
   ],
   "metadata": {
    "colab": {
     "base_uri": "https://localhost:8080/",
     "height": 449
    },
    "id": "dH5tJzbbUbCd",
    "outputId": "38f75b84-bac6-4bfe-df46-4131664ee6e9"
   },
   "execution_count": null,
   "outputs": []
  },
  {
   "cell_type": "code",
   "source": [
    "train[train.atemp_out == 1]"
   ],
   "metadata": {
    "colab": {
     "base_uri": "https://localhost:8080/",
     "height": 1000
    },
    "id": "eUNfe4QsVQsY",
    "outputId": "4706e262-1518-4abe-e408-03e580f5c40d"
   },
   "execution_count": null,
   "outputs": []
  },
  {
   "cell_type": "markdown",
   "source": [
    "> - 데이터를 확인해보니 2012년 08월 17일의 체감온도가 12.12로 일정하게 잘 못 기록된 것으로 보인다.\n",
    "> -  랜덤 포레스트를 활용하여 이상치를 보간해 주었다."
   ],
   "metadata": {
    "id": "O9uMLGCJe1jt"
   }
  },
  {
   "cell_type": "code",
   "source": [
    "from sklearn.ensemble import RandomForestRegressor\n",
    "# atemp_out이 1인 데이터의 인덱스를 추출\n",
    "index_outlier = train[train['atemp_out'] == 1].index\n",
    "\n",
    "# atemp_out이 0인 데이터를 학습 데이터로 사용\n",
    "X_train = train[train['atemp_out'] == 0][['temp', 'humidity', 'windspeed','month','hour','dayofweek']]\n",
    "y_train = train[train['atemp_out'] == 0]['atemp']\n",
    "\n",
    "# 랜덤 포레스트 모델 생성\n",
    "model = RandomForestRegressor()\n",
    "\n",
    "# 모델 학습\n",
    "model.fit(X_train, y_train)\n",
    "\n",
    "# atemp_out이 1인 데이터의 온도, 습도, 풍속을 사용하여 체감온도 예측\n",
    "y_pred = model.predict(train[train['atemp_out'] == 1][['temp', 'humidity', 'windspeed','month','hour','dayofweek']])\n",
    "\n",
    "# 예측한 체감온도를 train 데이터에 업데이트\n",
    "train.loc[index_outlier, 'atemp'] = y_pred"
   ],
   "metadata": {
    "id": "NJwfCxmfh3sr"
   },
   "execution_count": null,
   "outputs": []
  },
  {
   "cell_type": "markdown",
   "source": [
    "랜덤 포레스트 수행 결과"
   ],
   "metadata": {
    "id": "-jInjIMAPRHX"
   }
  },
  {
   "cell_type": "code",
   "source": [
    "y_pred"
   ],
   "metadata": {
    "colab": {
     "base_uri": "https://localhost:8080/"
    },
    "id": "MjG5APjAjOAm",
    "outputId": "50372006-b7b8-4dc6-f3dd-cc7302a5be4a"
   },
   "execution_count": null,
   "outputs": []
  },
  {
   "cell_type": "code",
   "source": [
    "sns.scatterplot(data=train, x='temp', y='atemp', hue='atemp_out')\n",
    "plt.xlabel('Temperature')\n",
    "plt.ylabel('Apparent Temperature')\n",
    "plt.show()"
   ],
   "metadata": {
    "colab": {
     "base_uri": "https://localhost:8080/",
     "height": 449
    },
    "id": "U3dXjHJIhyb8",
    "outputId": "741a7679-b85f-4263-8d93-441675c3321a"
   },
   "execution_count": null,
   "outputs": []
  },
  {
   "cell_type": "code",
   "source": [
    "# atemp_out 열을 삭제\n",
    "train.drop('atemp_out', axis=1, inplace=True)"
   ],
   "metadata": {
    "id": "g19nJioEjUtL"
   },
   "execution_count": null,
   "outputs": []
  },
  {
   "cell_type": "markdown",
   "source": [
    "#### 다른 변수 간의 산점도\n",
    "- 습도와 체감온도, 체감온도와 풍속, 습도와 풍속 등 일반적으로 관계가 있을 것이라 알려진 데이터 들의 관계를 파악해보고자 scatterplot을 확인해보았다\n",
    "- 크게 관계는 없어보이나 풍속이 0인 경우가 있는데 이는 실제로 가능한 수치가 아니므로 확인해보아야할 것 같다"
   ],
   "metadata": {
    "id": "I__acMjP42GB"
   }
  },
  {
   "cell_type": "code",
   "source": [
    "plt.figure(figsize=(12, 4))\n",
    "plt.subplot(1, 3, 1)\n",
    "sns.scatterplot(data=train, x='humidity', y='atemp')\n",
    "plt.xlabel('Humidity')\n",
    "plt.ylabel('Apparent Temperature')\n",
    "\n",
    "plt.subplot(1, 3, 2)\n",
    "sns.scatterplot(data=train, x='windspeed', y='atemp')\n",
    "plt.xlabel('Windspeed')\n",
    "plt.ylabel('Apparent Temperature')\n",
    "\n",
    "plt.subplot(1, 3, 3)\n",
    "sns.scatterplot(data=train, x='humidity', y='windspeed')\n",
    "plt.xlabel('Humidity')\n",
    "plt.ylabel('Windspeed')\n",
    "\n",
    "plt.tight_layout()\n",
    "plt.show()\n"
   ],
   "metadata": {
    "colab": {
     "base_uri": "https://localhost:8080/",
     "height": 403
    },
    "id": "crefNsmu4dQx",
    "outputId": "d2bb6b5b-a426-47d6-c4a9-616d9a2f0682"
   },
   "execution_count": null,
   "outputs": []
  },
  {
   "cell_type": "markdown",
   "source": [
    "풍속 0인 데이터 처리"
   ],
   "metadata": {
    "id": "fimqUibEecnv"
   }
  },
  {
   "cell_type": "code",
   "source": [
    "# 풍속이 0인 데이터의 인덱스 추출\n",
    "index_windspeed_0 = train[train['windspeed'] == 0].index\n",
    "\n",
    "# 풍속이 0이 아닌 데이터를 학습 데이터로 사용\n",
    "X_train = train[train['windspeed'] != 0][['temp', 'humidity', 'atemp','month','hour','dayofweek']]\n",
    "y_train = train[train['windspeed'] != 0]['windspeed']\n",
    "\n",
    "# 랜덤 포레스트 모델 생성\n",
    "model = RandomForestRegressor()\n",
    "\n",
    "# 모델 학습\n",
    "model.fit(X_train, y_train)\n",
    "\n",
    "# 풍속이 0인 데이터의 온도, 습도, 체감온도를 사용하여 풍속 예측\n",
    "y_pred = model.predict(train[train['windspeed'] == 0][['temp', 'humidity', 'atemp','month','hour','dayofweek']])\n",
    "\n",
    "# 예측한 풍속을 train 데이터에 업데이트\n",
    "train.loc[index_windspeed_0, 'windspeed'] = y_pred\n"
   ],
   "metadata": {
    "id": "j587ZGoOecQC"
   },
   "execution_count": null,
   "outputs": []
  },
  {
   "cell_type": "markdown",
   "source": [
    "#### 히트맵을 통한 상관관계 파악"
   ],
   "metadata": {
    "id": "VthGQH-260aU"
   }
  },
  {
   "cell_type": "code",
   "source": [
    "corrMat = train[['temp', 'atemp', 'humidity', 'windspeed']].corr()\n",
    "mask = np.array(corrMat)\n",
    "mask[np.tril_indices_from(mask)] = False\n",
    "fig,ax= plt.subplots()\n",
    "fig.set_size_inches(10,8)\n",
    "sns.heatmap(corrMat, mask=mask,vmax=.8, square=True,annot=True)\n",
    "\n",
    "ax.set(title='Heatmap of Numerical Data');"
   ],
   "metadata": {
    "colab": {
     "base_uri": "https://localhost:8080/",
     "height": 699
    },
    "id": "rwMMEx8qExng",
    "outputId": "da9ceb9a-62c8-44ea-f79e-d8e53727f35b"
   },
   "execution_count": null,
   "outputs": []
  },
  {
   "cell_type": "markdown",
   "source": [
    "#### `변수 간 상관관계 파악`\n",
    "- 체감 온도와 실제 온도는 상식적으로도 상당히 상관관계가 높을 수 밖에 없다.\n",
    "- 습도와 풍속은 약한 음의 상관관계가 있다.\n",
    "- 그 외에 다른 변수들간에는 상관관계가 거의 없는 것으로 보여진다."
   ],
   "metadata": {
    "id": "alRcv3A23zUy"
   }
  },
  {
   "cell_type": "markdown",
   "source": [
    "## 2.3 범주형 데이터 (season, holiday, workingday, weather)"
   ],
   "metadata": {
    "id": "F7y1wLhx8p5G"
   }
  },
  {
   "cell_type": "markdown",
   "source": [
    "- season 데이터는 범주형 데이터이지만 날씨의 특성상 여름, 봄, 가을, 겨울 순으로 온도가 낮아지기에 이를 순서형으로도 볼 수 있다. 데이터 분석을 통해 단순 명목형으로 볼 것인지 혹은 순서형으로 변환해 볼지 고민해 볼 계정이다.\n",
    "- weather 데이터는 1은 맑은 날씨고 4로 갈수록 자전거 타기 어려운 날씨로 보여진다.\n",
    "  - 따라서 순서형 데이터로 생각하고 데이터를 분석할 예정이다.\n",
    "- 시각화 시 의미가 잘 드러나도록 문자열로 바꾸고 진행한다."
   ],
   "metadata": {
    "id": "wBWQTWGvIZhl"
   }
  },
  {
   "cell_type": "code",
   "source": [
    "train['season'] = train['season'].map({1: 'Spring',\n",
    "                                      2: 'Summer',\n",
    "                                      3: 'Fall',\n",
    "                                      4: 'Winter'})\n",
    "train['weather'] = train['weather'].map({1: 'Clear',\n",
    "                                        2: 'Mist, Few clouds',\n",
    "                                        3: 'Light Snow, Rain, Thunderstorm',\n",
    "                                        4: 'Heavy Rain, Thunderstorm, Snow, Fog'})"
   ],
   "metadata": {
    "execution": {
     "iopub.status.busy": "2024-01-17T03:33:51.981309Z",
     "iopub.execute_input": "2024-01-17T03:33:51.981678Z",
     "iopub.status.idle": "2024-01-17T03:33:51.992056Z",
     "shell.execute_reply.started": "2024-01-17T03:33:51.981644Z",
     "shell.execute_reply": "2024-01-17T03:33:51.990534Z"
    },
    "trusted": true,
    "id": "q9_55rEbIZhl"
   },
   "execution_count": null,
   "outputs": []
  },
  {
   "cell_type": "markdown",
   "source": [
    "### 2.3.1 범주형 데이터 분포 파악\n",
    "- 범주형 데이터는 countplot을 통해 값들이 고르게 존재하는 지 확인 할 수 있다\n",
    "- season, year, month 등의 데이터는 고르게 분포되어있는 것을 이미 확인했으므로 그 외의 데이터를 확인해보고자 한다."
   ],
   "metadata": {
    "id": "AdFYnNXl_6zB"
   }
  },
  {
   "cell_type": "code",
   "source": [
    "fig, axes = plt.subplots(1, 3, figsize=(15, 5))\n",
    "\n",
    "# holiday\n",
    "sns.countplot(x='holiday', data=train, ax=axes[0])\n",
    "axes[0].set_title('Holiday')\n",
    "axes[0].set_xticklabels(['No Holiday', 'Holiday'])\n",
    "for p in axes[0].patches:\n",
    "    axes[0].annotate(format(p.get_height(), '.0f'), (p.get_x() + p.get_width() / 2., p.get_height()), ha = 'center', va = 'center', xytext = (0, 10), textcoords = 'offset points')\n",
    "\n",
    "# workingday\n",
    "sns.countplot(x='workingday', data=train, ax=axes[1])\n",
    "axes[1].set_title('Working Day')\n",
    "axes[1].set_xticklabels(['No Workingday', 'Workingday'])\n",
    "for p in axes[1].patches:\n",
    "    axes[1].annotate(format(p.get_height(), '.0f'), (p.get_x() + p.get_width() / 2., p.get_height()), ha = 'center', va = 'center', xytext = (0, 10), textcoords = 'offset points')\n",
    "\n",
    "# weather\n",
    "sns.countplot(x='weather', data=train, ax=axes[2])\n",
    "axes[2].set_title('Weather')\n",
    "axes[2].set_xticklabels(['Clear', 'Mist, Few clouds', 'Light Snow, Rain, Thunderstorm', 'Heavy Rain, Thunderstorm, Snow, Fog'])\n",
    "axes[2].set_xticklabels(['Clear', 'Mist, Few clouds', 'Light Snow, Rain, Thunderstorm', 'Heavy Rain, Thunderstorm, Snow, Fog'], rotation=15)\n",
    "for p in axes[2].patches:\n",
    "    axes[2].annotate(format(p.get_height(), '.0f'), (p.get_x() + p.get_width() / 2., p.get_height()), ha = 'center', va = 'center', xytext = (0, 10), textcoords = 'offset points')\n",
    "\n",
    "plt.tight_layout()\n",
    "plt.show()\n"
   ],
   "metadata": {
    "colab": {
     "base_uri": "https://localhost:8080/",
     "height": 405
    },
    "id": "JxO1zk1o9glS",
    "outputId": "35dbd375-7e76-454d-eb2a-0a600573b105"
   },
   "execution_count": null,
   "outputs": []
  },
  {
   "cell_type": "markdown",
   "source": [
    "# 3. 타겟값(count)과의 분포 파악"
   ],
   "metadata": {
    "id": "lvWtajVrRivT"
   }
  },
  {
   "cell_type": "markdown",
   "source": [
    "- train 데이터에만 있는 casual과 registered feature에 대해서 어떻게 다뤄야 할 지 고민해본다.\n",
    "  - 예측해야 하는 타겟값이 두 피처의 합으로 보여진다.\n",
    "  - 각각을 예측한 뒤에 합해서 결과를 낼지 혹은 한번에 예측해야 할 지 두 가지 예측 방향성을 생각해 볼 수 있다."
   ],
   "metadata": {
    "id": "yJ4LtTEc8rk4"
   }
  },
  {
   "cell_type": "code",
   "source": [
    "targets = ['casual',\t'registered',\t'count']\n",
    "# 3개의 targets에 대한 distplot 그리기\n",
    "plt.figure(figsize=(12, 4))\n",
    "for i, target in enumerate(targets):\n",
    "    plt.subplot(1, 3, i + 1)\n",
    "    sns.distplot(train[target], kde=True)\n",
    "    plt.title(target)"
   ],
   "metadata": {
    "colab": {
     "base_uri": "https://localhost:8080/",
     "height": 419
    },
    "id": "5g1UhDIKR0-X",
    "outputId": "7f5711f9-03e4-4a6b-f9a2-65841a1331c9"
   },
   "execution_count": null,
   "outputs": []
  },
  {
   "cell_type": "code",
   "source": [
    "# 4개의 feature에 대한 qqplot 그리기\n",
    "plt.figure(figsize=(12, 4))\n",
    "for i, target in enumerate(targets):\n",
    "    plt.subplot(1, 3, i + 1)\n",
    "    stats.probplot(train[target], dist=\"norm\", plot=plt)\n",
    "    plt.title(target)"
   ],
   "metadata": {
    "colab": {
     "base_uri": "https://localhost:8080/",
     "height": 419
    },
    "id": "1v3TUipfR2uJ",
    "outputId": "981579d6-3c32-4eb8-b2f2-7a2c4df70a96"
   },
   "execution_count": null,
   "outputs": []
  },
  {
   "cell_type": "markdown",
   "source": [
    "- 분포가 왼쪽으로 많이 편향되어있는 것을 볼 수 있다.\n",
    "- ``회귀 모델이 좋은 성능을 내려면 데이터가 정규분포를 따라야 함``\n",
    "- 현재 타깃값인 count는 정규분포를 따르지 않아 현재 타깃값을 그대로 사용해 모델링하면 좋은 성능 기대 어려움\n",
    "- 이에 따라 데이터 분포를 정규분포에 가깝게 만들기 위해 **로그변환**을 하고자 한다"
   ],
   "metadata": {
    "id": "kz4_jhMUIZhl"
   }
  },
  {
   "cell_type": "code",
   "source": [
    "targets = ['casual',\t'registered',\t'count']\n",
    "# 3개의 targets에 대한 distplot 그리기\n",
    "plt.figure(figsize=(12, 4))\n",
    "for i, target in enumerate(targets):\n",
    "    plt.subplot(1, 3, i + 1)\n",
    "    sns.distplot(np.log1p(train[target]), kde=True)\n",
    "    plt.title(target)"
   ],
   "metadata": {
    "colab": {
     "base_uri": "https://localhost:8080/",
     "height": 419
    },
    "id": "_O-bHbylSct4",
    "outputId": "0fb556b3-b79b-42f4-ead2-570b067d1c13"
   },
   "execution_count": null,
   "outputs": []
  },
  {
   "cell_type": "code",
   "source": [
    "# 4개의 feature에 대한 qqplot 그리기\n",
    "plt.figure(figsize=(12, 4))\n",
    "for i, target in enumerate(targets):\n",
    "    plt.subplot(1, 3, i + 1)\n",
    "    stats.probplot(np.log1p(train[target]), dist=\"norm\", plot=plt)\n",
    "    plt.title(target)"
   ],
   "metadata": {
    "colab": {
     "base_uri": "https://localhost:8080/",
     "height": 419
    },
    "id": "wZXgZOmUSlZX",
    "outputId": "db9d0f31-c9a3-4f6d-8ce8-81dd6e041bcf"
   },
   "execution_count": null,
   "outputs": []
  },
  {
   "cell_type": "markdown",
   "source": [
    "- 변환 전보다 정규분포에 가까워진 것을 볼 수 있다.\n",
    "- casual과 registered의 숫자차이도 나고 분포의 차이도 나는 것을 볼 수 있다."
   ],
   "metadata": {
    "id": "hCGxcQ8EIZhm"
   }
  },
  {
   "cell_type": "markdown",
   "source": [
    "## 3.1 타겟값과 범주형 변수 간의 관계"
   ],
   "metadata": {
    "id": "dVpGWGqK-K2m"
   }
  },
  {
   "cell_type": "code",
   "source": [
    "fig, axes = plt.subplots(nrows=2,ncols=2)\n",
    "fig.set_size_inches(12, 10)\n",
    "sns.boxplot(data=train, y=\"count\", orient=\"v\",ax=axes[0][0])\n",
    "sns.boxplot(data=train, y=\"count\", x=\"season\",orient=\"v\",ax=axes[0][1])\n",
    "sns.boxplot(data=train, y=\"count\", x=\"hour\",orient=\"v\",ax=axes[1][0])\n",
    "sns.boxplot(data=train, y=\"count\", x=\"workingday\",orient=\"v\",ax=axes[1][1])\n",
    "\n",
    "axes[0][0].set(ylabel='Count',title=\"Box Plot On Count\")\n",
    "axes[0][1].set(xlabel='Season', ylabel='Count',title=\"Box Plot On Count Across Season\")\n",
    "axes[1][0].set(xlabel='Hour Of The Day', ylabel='Count',title=\"Box Plot On Count Across Hour Of The Day\")\n",
    "axes[1][1].set(xlabel='Working Day', ylabel='Count',title=\"Box Plot On Count Across Working Day\")"
   ],
   "metadata": {
    "colab": {
     "base_uri": "https://localhost:8080/",
     "height": 924
    },
    "id": "x3g81dcZ60bP",
    "outputId": "1c5c6d56-563f-41f8-83a6-b48f67d2957c"
   },
   "execution_count": null,
   "outputs": []
  },
  {
   "cell_type": "markdown",
   "source": [
    "- <b>`계절(Season)`</b> : 대여량의 중앙값을 비교해보면, 계절의 따른 대여량 차이에는 봄이 다른 계절에 비해 대여량이 낮은 것으로 보인다.\n",
    "- <b>`시간대(Hour of the Day)`</b> : 대여량의 중앙값을 비교해보면, 아침 7-9시, 저녁 5-6시 시간대에 대여량이 다른 시간대에 비해 상당히 많음을 볼 수 있다. 이는 출퇴근 시간대에 자전거를 이용하여 대여량이 많은 것으로 유추할 수 있다.\n",
    "- 이에 대한 증거로, 대부분의 이상치 값(대여량이 높은 데이터)들은 평일에 분포되어 있음을 볼 수 있다."
   ],
   "metadata": {
    "id": "rutQBQp2Etja"
   }
  },
  {
   "cell_type": "code",
   "source": [
    "mpl.rc('font', size=14) # 폰트 크기 설정\n",
    "mpl.rc('axes', titlesize=15) # 각 축의 제목 크기 설정\n",
    "figure, axes = plt.subplots(nrows=2, ncols=2) # 3행 2열 Figure 생성\n",
    "plt.tight_layout() # 그래프 사이에 여백 확보\n",
    "figure.set_size_inches(10, 9) # 전체 Figure 크기를 10x9인치로 설정\n",
    "\n",
    "sns.barplot(x='year', y='count', data=train, ax=axes[0, 0]) # ax 파라미터에는 AxesSubplot 객체를 전달\n",
    "sns.barplot(x='month', y='count', data=train, ax=axes[0, 1]) # 0행 0열의 축부터 2행 1열의 축까지 순서대로 전달\n",
    "sns.barplot(x='day_name', y='count', data=train, ax=axes[1, 0])\n",
    "sns.barplot(x='hour', y='count', data=train, ax=axes[1, 1])\n",
    "\n",
    "axes[0, 0].set(title='Rental amounts by year')\n",
    "axes[0, 1].set(title='Rental amounts by month')\n",
    "axes[1, 0].set(title='Rental amounts by dayofweek')\n",
    "axes[1, 1].set(title='Rental amounts by hour')\n",
    "\n",
    "axes[1, 0].tick_params(axis='x', labelrotation=45)\n",
    "axes[1, 1].tick_params(axis='x', labelrotation=90)"
   ],
   "metadata": {
    "execution": {
     "iopub.status.busy": "2024-01-17T03:52:03.210724Z",
     "iopub.execute_input": "2024-01-17T03:52:03.21109Z",
     "iopub.status.idle": "2024-01-17T03:52:06.309556Z",
     "shell.execute_reply.started": "2024-01-17T03:52:03.211063Z",
     "shell.execute_reply": "2024-01-17T03:52:06.308164Z"
    },
    "trusted": true,
    "id": "5MdvYtnaIZhm",
    "colab": {
     "base_uri": "https://localhost:8080/",
     "height": 943
    },
    "outputId": "415917af-8323-4313-c25c-7570b28cb982"
   },
   "execution_count": null,
   "outputs": []
  },
  {
   "cell_type": "markdown",
   "source": [
    "- 연도별 평균 대여량은 2011년보다 2012년에 대여가 많았음\n",
    "- 월별 평균 대여량을 비교해보면, 6월에 가장 많고 1월에 가장 적다. 날씨가 따뜻할수록 대여 수량이 많다고 짐작할 수 있다.\n",
    "- 요일별 평균 대여량에는 뚜렷한 차이가 없다.\n",
    "- 시간별 평균 대여량은 새벽 4시에 대여 수량이 가장 적고, 아침 8시와 저녁 5-6시에 대여가 가장 많다.\n",
    "  - 이는 사람들이 등하교 또는 출퇴근 길에 자전거를 다수 이용한다 짐작할 수 있다."
   ],
   "metadata": {
    "id": "N6wh73X3IZhm"
   }
  },
  {
   "cell_type": "code",
   "source": [
    "sns.barplot(y='weather', x='count', data=train)"
   ],
   "metadata": {
    "colab": {
     "base_uri": "https://localhost:8080/",
     "height": 475
    },
    "id": "Zd-dgSCoTxqB",
    "outputId": "ce70a7d8-eda1-4389-dadc-efa793f67c02"
   },
   "execution_count": null,
   "outputs": []
  },
  {
   "cell_type": "markdown",
   "source": [
    "- 날씨가 안좋은데 대여량이 많은 건 뭔가 이상해 보인다. 확인해보자"
   ],
   "metadata": {
    "id": "_IxGifgSUBl9"
   }
  },
  {
   "cell_type": "code",
   "source": [
    "train.weather.unique()"
   ],
   "metadata": {
    "colab": {
     "base_uri": "https://localhost:8080/"
    },
    "id": "uLXk9XgqUJO1",
    "outputId": "71a1f89a-a657-4bea-b008-852082a145b9"
   },
   "execution_count": null,
   "outputs": []
  },
  {
   "cell_type": "code",
   "source": [
    "train[train.weather.str.contains('Heavy')]"
   ],
   "metadata": {
    "colab": {
     "base_uri": "https://localhost:8080/",
     "height": 135
    },
    "id": "Gr_rKhAcUNFd",
    "outputId": "42911023-7a26-4159-c13b-7cc3d6367dd6"
   },
   "execution_count": null,
   "outputs": []
  },
  {
   "cell_type": "code",
   "source": [
    "train[(train['datetime'] >= '2012-01-09 16:00:00') & (train['datetime'] <= '2012-01-09 20:59:59')]"
   ],
   "metadata": {
    "colab": {
     "base_uri": "https://localhost:8080/",
     "height": 400
    },
    "id": "gqxJ4vIyUy6s",
    "outputId": "66a33fd3-fed4-4378-8bf3-3ebb7bd91b3a"
   },
   "execution_count": null,
   "outputs": []
  },
  {
   "cell_type": "markdown",
   "source": [
    "- 이상치라고 생각했으나 비가 와서 얼른 집에 가려고 자전거를 빌렸을 가능성도 있을 것 같다.\n",
    "- weather(Heavy Rain, Thunderstorm, Snow, Fog)이 4인 데이터는 1개 뿐이므로 주변 값인 3(Light Snow, Rain, Thunderstorm)으로 추후 합쳐 줄 것이다."
   ],
   "metadata": {
    "id": "bqvzinPkV36_"
   }
  },
  {
   "cell_type": "code",
   "source": [
    "# 1) m행 n열 Figure 준비\n",
    "mpl.rc('font', size=11)\n",
    "figure, axes = plt.subplots(nrows=5) # 5행 1열\n",
    "figure.set_size_inches(12, 18)\n",
    "\n",
    "# 2) 서브플롯 할당\n",
    "# 근무일, 공휴일, 요일, 계절, 날씨에 따른 시간대별 평균 대여 수량 포인트풀롯\n",
    "sns.pointplot(x='hour', y='count', data=train, hue='workingday', ax=axes[0])\n",
    "sns.pointplot(x='hour', y='count', data=train, hue='holiday', ax=axes[1])\n",
    "sns.pointplot(x='hour', y='count', data=train, hue='day_name', ax=axes[2])\n",
    "sns.pointplot(x='hour', y='count', data=train, hue='season', ax=axes[3])\n",
    "sns.pointplot(x='hour', y='count', data=train, hue='weather', ax=axes[4])"
   ],
   "metadata": {
    "execution": {
     "iopub.status.busy": "2024-01-17T04:20:28.516345Z",
     "iopub.execute_input": "2024-01-17T04:20:28.516695Z",
     "iopub.status.idle": "2024-01-17T04:20:41.020451Z",
     "shell.execute_reply.started": "2024-01-17T04:20:28.516668Z",
     "shell.execute_reply": "2024-01-17T04:20:41.01924Z"
    },
    "trusted": true,
    "id": "BMnmeHenIZhs",
    "colab": {
     "base_uri": "https://localhost:8080/",
     "height": 1000
    },
    "outputId": "22f2210b-ab3e-434d-8836-d8af57c9709f"
   },
   "execution_count": null,
   "outputs": []
  },
  {
   "cell_type": "markdown",
   "source": [
    "- 근무일에는 출퇴근 시간에 대여 수량이 많고, 쉬는 날에는 오후 12시~2시에 가장 많다.\n",
    "- 공휴일 여부도 비슷한 양상\n",
    "- 요일에 따른 포인트 플롯도 비슷한 양상\n",
    "- 계절에 따른 시간대별 포인트플롯 : 대여 수량은 가을에 가장 많고, 봄에 가장 적다.\n",
    "- 날씨에 따른 시간대별 포인트풀롯 : 날씨가 좋을 때 대여량이 가장 많고, 폭우, 폭설이 내릴 때는 18시에 대여 건수가 있다."
   ],
   "metadata": {
    "id": "sB6oHACtIZhs"
   }
  },
  {
   "cell_type": "code",
   "source": [
    "fig, ax1= plt.subplots()\n",
    "fig.set_size_inches(12,4)\n",
    "\n",
    "hourTransformed = pd.melt(train[[\"hour\",\"casual\",\"registered\"]], id_vars=['hour'], value_vars=['casual', 'registered'])\n",
    "hourAggregated = pd.DataFrame(hourTransformed.groupby([\"hour\",\"variable\"],sort=True)[\"value\"].mean()).reset_index()\n",
    "sns.pointplot(x=hourAggregated[\"hour\"], y=hourAggregated[\"value\"],hue=hourAggregated[\"variable\"],hue_order=[\"casual\",\"registered\"], data=hourAggregated, join=True,ax=ax1)\n",
    "ax1.set(xlabel='Hour Of The Day', ylabel='Users Count',title=\"Average Users Count By Hour Of The Day Across User Type\",label='big')"
   ],
   "metadata": {
    "id": "AM0v0r5TYL3r",
    "colab": {
     "base_uri": "https://localhost:8080/",
     "height": 479
    },
    "outputId": "8c9b2faf-1b96-43ec-cd82-203050507fb7"
   },
   "execution_count": null,
   "outputs": []
  },
  {
   "cell_type": "markdown",
   "source": [
    "- 회원과 비회원의 대여량의 양상이 시간대별로 다른 것을 볼 수 있다.\n"
   ],
   "metadata": {
    "id": "bws3B27ZHFrU"
   }
  },
  {
   "cell_type": "markdown",
   "source": [
    "### 회귀선을 포함한 산점도 그래프\n",
    "- 수치형 데이터 간 상관관계를 파악하는 데 사용한다.\n",
    "- 수치형 데이터인 온도, 체감 온도, 풍속, 습도별 대여 수량을 '회귀선을 포함한 산점도 그래프'로 그려보고자 함."
   ],
   "metadata": {
    "id": "uUri1ssyIZhs"
   }
  },
  {
   "cell_type": "code",
   "source": [
    "# 1) m행 n열 Figure 준비\n",
    "mpl.rc('font', size=15)\n",
    "figure, axes = plt.subplots(nrows=2, ncols=2) # 2행 2열\n",
    "plt.tight_layout()\n",
    "figure.set_size_inches(7, 6)\n",
    "\n",
    "# 2) 서브플롯 할당\n",
    "# 온도, 체감 온도, 풍속, 습도별 대여 수량 산점도 그래프\n",
    "sns.regplot(x='temp', y='count', data=train, ax=axes[0, 0],\n",
    "            scatter_kws={'alpha': 0.2}, line_kws={'color': 'blue'}) # 산점도 그래프에 찍히는 점의 투명도 조절\n",
    "sns.regplot(x='atemp', y='count', data=train, ax=axes[0, 1],\n",
    "            scatter_kws={'alpha': 0.2}, line_kws={'color': 'blue'}) # 평소보다 20% 수준으로 투명해짐\n",
    "sns.regplot(x='windspeed', y='count', data=train, ax=axes[1, 0],\n",
    "            scatter_kws={'alpha': 0.2}, line_kws={'color': 'blue'}) # blue는 회귀선의 색상 선택\n",
    "sns.regplot(x='humidity', y='count', data=train, ax=axes[1, 1],\n",
    "            scatter_kws={'alpha': 0.2}, line_kws={'color': 'blue'})\n"
   ],
   "metadata": {
    "execution": {
     "iopub.status.busy": "2024-01-17T04:28:48.78718Z",
     "iopub.execute_input": "2024-01-17T04:28:48.787589Z",
     "iopub.status.idle": "2024-01-17T04:28:52.028158Z",
     "shell.execute_reply.started": "2024-01-17T04:28:48.787558Z",
     "shell.execute_reply": "2024-01-17T04:28:52.027168Z"
    },
    "trusted": true,
    "id": "yfh1EFr5IZhs",
    "colab": {
     "base_uri": "https://localhost:8080/",
     "height": 607
    },
    "outputId": "e15ad30c-3bf8-4e39-c304-38bd525e7c1f"
   },
   "execution_count": null,
   "outputs": []
  },
  {
   "cell_type": "markdown",
   "source": [
    "- 온도와 체감 온도가 높을수록 대여 수량이 많다.\n",
    "- 습도는 낮을수록 대여를 많이 한다.\n",
    "    - 대여 수량은 추울 때보다 따뜻할 때 많고, 습할 때보다 습하지 않을 때 많다.\n",
    "- 풍속이 셀수록 대여 수량이 많다.\n",
    "    - 바람이 약할수록 많을 것 같은데 조금 이상하다.\n",
    "    - 이유는 windspeed 피처에 결측값이 많기 때문이다.\n",
    "    - 자세히 보면 풍속이 0인 데이터가 꽤 많다.\n",
    "    - 실제 풍속이 0이 아니라, 관측치가 없거나 오류로 인해 0으로 기록됐을 가능성이 높다."
   ],
   "metadata": {
    "id": "h559GdewIZhs"
   }
  },
  {
   "cell_type": "markdown",
   "source": [
    "## 3.2 수치형 데이터와의 상관관계\n",
    "- 수치형 데이터끼리 어떤 상관관계가 있는지 알아보자.\n",
    "- temp, atemp, humidity, windspeed, count는 수치형 데이터"
   ],
   "metadata": {
    "id": "cxQR1JTnb8JQ"
   }
  },
  {
   "cell_type": "code",
   "source": [
    "# 피처 간 상관관계 매트릭스\n",
    "corrMat = train[['temp', 'atemp', 'humidity', 'windspeed', 'casual','registered','count']].corr()\n",
    "mask = np.array(corrMat)\n",
    "mask[np.tril_indices_from(mask)] = False\n",
    "fig,ax= plt.subplots()\n",
    "fig.set_size_inches(10,8)\n",
    "sns.heatmap(corrMat, mask=mask,vmax=.8, square=True,annot=True)\n",
    "\n",
    "ax.set(title='Heatmap of Numerical Data');"
   ],
   "metadata": {
    "execution": {
     "iopub.status.busy": "2024-01-17T04:34:38.678445Z",
     "iopub.execute_input": "2024-01-17T04:34:38.67884Z",
     "iopub.status.idle": "2024-01-17T04:34:39.037522Z",
     "shell.execute_reply.started": "2024-01-17T04:34:38.678809Z",
     "shell.execute_reply": "2024-01-17T04:34:39.035481Z"
    },
    "trusted": true,
    "id": "7MCQNCPGIZhs",
    "colab": {
     "base_uri": "https://localhost:8080/",
     "height": 703
    },
    "outputId": "67f37b6e-c9c7-492e-be36-feb17ae8ca3c"
   },
   "execution_count": null,
   "outputs": []
  },
  {
   "cell_type": "markdown",
   "source": [
    "#### `타겟값과의 상관관계 파악`\n",
    "- 온도 및 습도 특성은 대여량과 양의 상관관계와 음의 상관관계를 갖는다.\n",
    "- 풍속(windspeed)는 대여량과의 상관 관계 값에서 상관관계가 낮은 것으로 보인다.\n",
    "- 체감온도(atemp)와 실제온도(temp)는 서로 강한 상관 관계를 갖는다.\n",
    "  - 모델링시 다중 공선성을 피하기 위해 둘 중 하나의 변수를 선택하는 것이 바람직하다.\n",
    "- 비회원의 대여량과 회원의 대여량을 합한 값이 전체 대여량이므로 두 변수를 모두 삭제하거나 두 값을 예측하고 합하는 방식으로 전체 대여량을 예측하는 두가지 방식을 고려할 수 있다."
   ],
   "metadata": {
    "id": "yP452d89GLqb"
   }
  },
  {
   "cell_type": "markdown",
   "source": [
    "# 4. 모델링"
   ],
   "metadata": {
    "id": "kiDKcFQ7IZht"
   }
  },
  {
   "cell_type": "markdown",
   "source": [
    "## 분석 정리 및 모델링 전략\n",
    "\n",
    "\n",
    "1. 파생 변수 생성\n",
    "> datetime에서 year, month, hour, 요일(dayofweek) 변수를 추가\n",
    "\n",
    "2. 전처리\n",
    "> 이상치 처리\n",
    "> - weather가 4인 데이터를 3으로 합쳐준다\n",
    "> - atmp 변수에서 이상치 랜덤포레스트를 통해 보간\n",
    "> - windspeed가 0인 데이터 랜덤포레스트를 통해 보간\n",
    "> - 인코딩\n",
    "    - 범주형 변수 원핫인코딩 수행\n",
    "    - 원핫인코딩을 해보니 결과가 오히려 안좋아졌다.\n",
    "    - 범주형 변수들도 약간의 순서적인 특성을 가지고 있는 것으로 보인다\n",
    "\n",
    "3. 변수 선택\n",
    "> 체감온도와 실제온도는 다중공선성이 강하므로 pca를 통해 하나로 합쳐줌\n",
    "\n",
    "4. 타겟값 변환: 분포도 확인 결과, 타깃값인 count가 0 근처로 치우쳐져 있으므로 로그변환하여 정규분포에 가깝게 만들어야 한다.\n",
    "> -  타겟값을 count가 아닌 log1p(count)로 변환해 사용할 것이므로 마지막에 다시 지수변환해 count로 복원해야 함\n",
    "> - casual과 registered의 합이 count이므로 두 번의 예측 후 합을 통해 총 대여량 도출"
   ],
   "metadata": {
    "id": "fg2s0dzbIZht"
   }
  },
  {
   "cell_type": "markdown",
   "source": [
    "## 랜덤포레스트\n",
    "- RMSLE : 0.43089"
   ],
   "metadata": {
    "id": "x9LIirycTMtf"
   }
  },
  {
   "cell_type": "code",
   "source": [
    "import numpy as np\n",
    "import pandas as pd\n",
    "from sklearn.ensemble import RandomForestRegressor\n",
    "from sklearn.decomposition import PCA\n",
    "from sklearn.preprocessing import StandardScaler\n",
    "from sklearn.metrics import mean_squared_log_error"
   ],
   "metadata": {
    "id": "oThK9qIOKyfg"
   },
   "execution_count": null,
   "outputs": []
  },
  {
   "cell_type": "code",
   "source": [
    "# Load the dataset\n",
    "train_data = pd.read_csv('train.csv')\n",
    "test_data = pd.read_csv('test.csv')"
   ],
   "metadata": {
    "id": "4ZU8Fg1lMsMx"
   },
   "execution_count": null,
   "outputs": []
  },
  {
   "cell_type": "code",
   "source": [
    "# Combine train and test data for preprocessing\n",
    "data = pd.concat([train_data, test_data], ignore_index=True)\n",
    "\n",
    "# 1. Creating derived variables\n",
    "data['datetime'] = pd.to_datetime(data['datetime'])\n",
    "data['year'] = data['datetime'].dt.year\n",
    "data['month'] = data['datetime'].dt.month\n",
    "data['hour'] = data['datetime'].dt.hour\n",
    "data['dayofweek'] = data['datetime'].dt.dayofweek\n",
    "\n",
    "# 2. Pre-treatment\n",
    "# Outlier processing\n",
    "data['weather'] = data['weather'].replace({4: 3})  # Combine weather data of 4 into 3\n",
    "\n",
    "# Interpolation through outlier random forest in atmp variable\n",
    "atmp_data = data.dropna(subset=['atemp'])\n",
    "X_atmp = atmp_data.drop(['datetime', 'count', 'casual', 'registered', 'atemp'], axis=1)\n",
    "y_atmp = atmp_data['atemp']\n",
    "rf_atmp = RandomForestRegressor()\n",
    "rf_atmp.fit(X_atmp, y_atmp)\n",
    "data['atemp'] = np.where(data['atemp'].isna(), rf_atmp.predict(data.drop(['datetime', 'count', 'casual', 'registered', 'atemp'], axis=1)), data['atemp'])\n",
    "\n",
    "# Interpolation through random forest of data with windspeed of 0\n",
    "windspeed_data = data[data['windspeed'] != 0]\n",
    "X_windspeed = windspeed_data.drop(['datetime', 'count', 'casual', 'registered', 'windspeed'], axis=1)\n",
    "y_windspeed = windspeed_data['windspeed']\n",
    "rf_windspeed = RandomForestRegressor()\n",
    "rf_windspeed.fit(X_windspeed, y_windspeed)\n",
    "data['windspeed'] = np.where(data['windspeed'] == 0, rf_windspeed.predict(data.drop(['datetime', 'count', 'casual', 'registered', 'windspeed'], axis=1)), data['windspeed'])\n",
    "\n",
    "# 3. One-hot encoding for categorical variables\n",
    "data = pd.get_dummies(data, columns=['season', 'dayofweek'])\n",
    "\n",
    "# 4. Variable selection\n",
    "# Combine perceived temperature and actual temperature into one through PCA\n",
    "scaler = StandardScaler()\n",
    "scaled_temp = scaler.fit_transform(data[['temp', 'atemp']])\n",
    "pca = PCA(n_components=1)\n",
    "data['temperature'] = pca.fit_transform(scaled_temp)\n",
    "\n",
    "# 4. Target value conversion\n",
    "data[['count', 'casual', 'registered']] = np.log1p(data[['count', 'casual', 'registered']])\n",
    "\n",
    "# Split back into train and test data\n",
    "train_data = data[data['count'].notnull()]\n",
    "test_data = data[data['count'].isnull()]\n",
    "\n",
    "# Model Training and Prediction\n",
    "X_train = train_data.drop(['datetime', 'count', 'casual', 'registered'], axis=1)\n",
    "y_casual = train_data['casual']\n",
    "y_registered = train_data['registered']\n",
    "y_count = train_data['count']\n",
    "\n",
    "# Train a RandomForestRegressor for casual\n",
    "rf_casual = RandomForestRegressor()\n",
    "rf_casual.fit(X_train, y_casual)\n",
    "casual_predictions = rf_casual.predict(X_train)\n",
    "\n",
    "# Train a RandomForestRegressor for registered\n",
    "rf_registered = RandomForestRegressor()\n",
    "rf_registered.fit(X_train, y_registered)\n",
    "registered_predictions = rf_registered.predict(X_train)\n",
    "\n",
    "# Train a RandomForestRegressor for count\n",
    "rf_count = RandomForestRegressor()\n",
    "rf_count.fit(X_train, y_count)\n",
    "count_predictions = rf_count.predict(X_train)\n",
    "\n",
    "# Evaluate\n",
    "rmsle_casual = np.sqrt(mean_squared_log_error(np.expm1(y_casual), np.expm1(casual_predictions)))\n",
    "rmsle_registered = np.sqrt(mean_squared_log_error(np.expm1(y_registered), np.expm1(registered_predictions)))\n",
    "rmsle_count = np.sqrt(mean_squared_log_error(np.expm1(y_count), np.expm1(count_predictions)))\n",
    "\n",
    "print(\"Root Mean Squared Log Error for Casual:\", rmsle_casual)\n",
    "print(\"Root Mean Squared Log Error for Registered:\", rmsle_registered)\n",
    "print(\"Root Mean Squared Log Error for Count:\", rmsle_count)"
   ],
   "metadata": {
    "colab": {
     "base_uri": "https://localhost:8080/"
    },
    "id": "cjcu7Ob5LC3G",
    "outputId": "d324fc83-172f-481d-caf1-11842e64a84d"
   },
   "execution_count": null,
   "outputs": []
  },
  {
   "cell_type": "code",
   "source": [
    "# Prediction for test data\n",
    "X_test = test_data.drop(['datetime', 'count', 'casual', 'registered'], axis=1)\n",
    "\n",
    "# Predictions for test data\n",
    "test_casual_predictions = rf_casual.predict(X_test)\n",
    "test_registered_predictions = rf_registered.predict(X_test)\n",
    "test_count_predictions = rf_count.predict(X_test)\n",
    "\n",
    "# Convert predictions back to original scale\n",
    "test_casual_predictions = np.expm1(test_casual_predictions)\n",
    "test_registered_predictions = np.expm1(test_registered_predictions)\n",
    "test_count_predictions = np.expm1(test_count_predictions)\n",
    "\n",
    "# Reconstruct total count\n",
    "test_data['count'] = test_casual_predictions + test_registered_predictions\n",
    "test_data['count'] = (test_data['count'] + test_count_predictions) /2\n",
    "test_data[['datetime', 'count']].to_csv('predicted_test_data_rf.csv', index=False)"
   ],
   "metadata": {
    "colab": {
     "base_uri": "https://localhost:8080/"
    },
    "id": "GOqvWfAgOJVl",
    "outputId": "3e1f07bb-a5b7-4e7b-8fcf-adda8a317b71"
   },
   "execution_count": null,
   "outputs": []
  },
  {
   "cell_type": "markdown",
   "source": [
    "## xgboost를 통한 예측\n",
    "- RMSLE : 0.43616"
   ],
   "metadata": {
    "id": "h2ORB2SCTJK-"
   }
  },
  {
   "cell_type": "code",
   "source": [
    "import numpy as np\n",
    "import pandas as pd\n",
    "from sklearn.preprocessing import OneHotEncoder\n",
    "from sklearn.model_selection import train_test_split\n",
    "from sklearn.metrics import mean_squared_log_error\n",
    "import xgboost as xgb\n",
    "\n",
    "# Train a XGBoost model for casual\n",
    "xgb_casual = xgb.XGBRegressor()\n",
    "xgb_casual.fit(X_train, y_casual)\n",
    "casual_predictions = xgb_casual.predict(X_train)\n",
    "\n",
    "# Train a XGBoost model for registered\n",
    "xgb_registered = xgb.XGBRegressor()\n",
    "xgb_registered.fit(X_train, y_registered)\n",
    "registered_predictions = xgb_registered.predict(X_train)\n",
    "\n",
    "# Train a XGBoost model for count\n",
    "xgb_count = xgb.XGBRegressor()\n",
    "xgb_count.fit(X_train, y_count)\n",
    "count_predictions = xgb_count.predict(X_train)\n",
    "\n",
    "# Clip predictions to ensure non-negativity\n",
    "casual_predictions = np.clip(casual_predictions, 0, None)\n",
    "registered_predictions = np.clip(registered_predictions, 0, None)\n",
    "count_predictions = np.clip(count_predictions, 0, None)\n",
    "\n",
    "# Evaluate\n",
    "rmsle_casual = np.sqrt(mean_squared_log_error(np.expm1(y_casual), np.expm1(casual_predictions)))\n",
    "rmsle_registered = np.sqrt(mean_squared_log_error(np.expm1(y_registered), np.expm1(registered_predictions)))\n",
    "rmsle_count = np.sqrt(mean_squared_log_error(np.expm1(y_count), np.expm1(count_predictions)))\n",
    "\n",
    "print(\"Root Mean Squared Log Error for Casual:\", rmsle_casual)\n",
    "print(\"Root Mean Squared Log Error for Registered:\", rmsle_registered)\n",
    "print(\"Root Mean Squared Log Error for Count:\", rmsle_count)\n",
    "\n",
    "# Prediction for test data\n",
    "X_test = test_data.drop(['datetime', 'count', 'casual', 'registered'], axis=1)\n",
    "\n",
    "# Predictions for test data\n",
    "test_casual_predictions = xgb_casual.predict(X_test)\n",
    "test_registered_predictions = xgb_registered.predict(X_test)\n",
    "test_count_predictions = xgb_count.predict(X_test)\n",
    "\n",
    "# Convert predictions back to original scale\n",
    "test_casual_predictions = np.expm1(test_casual_predictions)\n",
    "test_registered_predictions = np.expm1(test_registered_predictions)\n",
    "test_count_predictions = np.expm1(test_count_predictions)\n",
    "\n",
    "# Clip predictions to ensure non-negativity\n",
    "test_casual_predictions = np.clip(test_casual_predictions, 0, None)\n",
    "test_registered_predictions = np.clip(test_registered_predictions, 0, None)\n",
    "test_count_predictions = np.clip(test_count_predictions, 0, None)\n",
    "\n",
    "# Reconstruct total count\n",
    "test_data['count'] = test_casual_predictions + test_registered_predictions\n",
    "test_data['count'] = (test_data['count'] + test_count_predictions) /2\n",
    "\n",
    "# Save the predictions to a CSV file\n",
    "test_data[['datetime', 'count']].to_csv('predicted_test_data_xgboost.csv', index=False)\n"
   ],
   "metadata": {
    "colab": {
     "base_uri": "https://localhost:8080/"
    },
    "id": "JrlronlMSN4A",
    "outputId": "9c3fd07f-8179-4ab3-b984-eecbd20947fd"
   },
   "execution_count": null,
   "outputs": []
  },
  {
   "cell_type": "markdown",
   "source": [
    "## Automl 활용"
   ],
   "metadata": {
    "id": "XdHh4wXxeJHp"
   }
  },
  {
   "cell_type": "code",
   "source": [
    "!pip install pycaret"
   ],
   "metadata": {
    "colab": {
     "base_uri": "https://localhost:8080/"
    },
    "id": "7nHRScpsQaTa",
    "outputId": "86a0dfb4-70c9-4f28-8fd7-96b3173d804d"
   },
   "execution_count": null,
   "outputs": []
  },
  {
   "cell_type": "markdown",
   "source": [
    "원핫 인코딩 결과 오히려 결과가 안좋아져서 원핫 인코딩 빼고 다시 진행"
   ],
   "metadata": {
    "id": "rpH7R9uCWk_K"
   }
  },
  {
   "cell_type": "markdown",
   "source": [
    "### count_train"
   ],
   "metadata": {
    "id": "AI3GnzL4iesp"
   }
  },
  {
   "cell_type": "code",
   "source": [
    "# Load the dataset\n",
    "train_data = pd.read_csv('train.csv')\n",
    "test_data = pd.read_csv('test.csv')\n",
    "\n",
    "# Combine train and test data for preprocessing\n",
    "data = pd.concat([train_data, test_data], ignore_index=True)\n",
    "\n",
    "# 1. Creating derived variables\n",
    "data['datetime'] = pd.to_datetime(data['datetime'])\n",
    "data['year'] = data['datetime'].dt.year\n",
    "data['month'] = data['datetime'].dt.month\n",
    "data['hour'] = data['datetime'].dt.hour\n",
    "data['dayofweek'] = data['datetime'].dt.dayofweek\n",
    "\n",
    "# 2. Pre-treatment\n",
    "# Outlier processing\n",
    "data['weather'] = data['weather'].replace({4: 3})  # Combine weather data of 4 into 3\n",
    "\n",
    "# Interpolation through outlier random forest in atmp variable\n",
    "atmp_data = data.dropna(subset=['atemp'])\n",
    "X_atmp = atmp_data.drop(['datetime', 'count', 'casual', 'registered', 'atemp'], axis=1)\n",
    "y_atmp = atmp_data['atemp']\n",
    "rf_atmp = RandomForestRegressor()\n",
    "rf_atmp.fit(X_atmp, y_atmp)\n",
    "data['atemp'] = np.where(data['atemp'].isna(), rf_atmp.predict(data.drop(['datetime', 'count', 'casual', 'registered', 'atemp'], axis=1)), data['atemp'])\n",
    "\n",
    "# Interpolation through random forest of data with windspeed of 0\n",
    "windspeed_data = data[data['windspeed'] != 0]\n",
    "X_windspeed = windspeed_data.drop(['datetime', 'count', 'casual', 'registered', 'windspeed'], axis=1)\n",
    "y_windspeed = windspeed_data['windspeed']\n",
    "rf_windspeed = RandomForestRegressor()\n",
    "rf_windspeed.fit(X_windspeed, y_windspeed)\n",
    "data['windspeed'] = np.where(data['windspeed'] == 0, rf_windspeed.predict(data.drop(['datetime', 'count', 'casual', 'registered', 'windspeed'], axis=1)), data['windspeed'])\n",
    "\n",
    "# Variable selection\n",
    "# Combine perceived temperature and actual temperature into one through PCA\n",
    "scaler = StandardScaler()\n",
    "scaled_temp = scaler.fit_transform(data[['temp', 'atemp']])\n",
    "pca = PCA(n_components=1)\n",
    "data['temperature'] = pca.fit_transform(scaled_temp)\n",
    "\n",
    "# Target value conversion\n",
    "data[['count', 'casual', 'registered']] = np.log1p(data[['count', 'casual', 'registered']])\n",
    "\n",
    "# Split back into train and test data\n",
    "train_data = data[data['count'].notnull()]\n",
    "test_data = data[data['count'].isnull()]\n",
    "\n",
    "# Model Training and Prediction\n",
    "X_train = train_data.drop(['datetime', 'count', 'casual', 'registered'], axis=1)\n",
    "y_casual = train_data['casual']\n",
    "y_registered = train_data['registered']\n",
    "y_count = train_data['count']\n",
    "\n",
    "# Prediction for test data\n",
    "X_test = test_data.drop(['datetime', 'count', 'casual', 'registered'], axis=1)"
   ],
   "metadata": {
    "id": "mtnu4iT9Vu_B"
   },
   "execution_count": null,
   "outputs": []
  },
  {
   "cell_type": "code",
   "source": [
    "# Initialize the setup\n",
    "count_train = pd.concat([X_train, y_count], axis=1)\n",
    "casual_train = pd.concat([X_train, y_casual], axis=1)\n",
    "registered_train = pd.concat([X_train, y_registered], axis=1)"
   ],
   "metadata": {
    "id": "OywMl6SIXgKu"
   },
   "execution_count": null,
   "outputs": []
  },
  {
   "cell_type": "code",
   "source": [
    "import pycaret\n",
    "from pycaret.regression import *\n",
    "\n",
    "# 모델링\n",
    "reg = setup(data = count_train, target = 'count', train_size = 0.8,\\\n",
    "               normalize = True, transformation = True,\\\n",
    "               pca = True, pca_method = 'linear', pca_components = 2)\n",
    "best_model = compare_models(sort='RMSLE')\n",
    "\n",
    "# 모델 저장\n",
    "save_model(best_model, 'best_model')\n",
    "\n",
    "# test 데이터 예측\n",
    "predictions = predict_model(best_model, data=X_test)\n",
    "\n",
    "# Submission.csv 형태 만들어서 저장\n",
    "submission = pd.DataFrame({'datetime': test_data['datetime'], 'count': np.expm1(predictions['prediction_label'])})\n",
    "submission.to_csv('Submission.csv', index=False)\n"
   ],
   "metadata": {
    "colab": {
     "base_uri": "https://localhost:8080/",
     "height": 1000,
     "referenced_widgets": [
      "e665996608d148fdbca2a4f30dbda881",
      "e981fa9aac6c492f8b8107a68c965610",
      "4fd908aaecfd4a06841721b82ef0e1f9",
      "b46ee580698f458ca4ba4240a575c21e",
      "b28023bbe99d4324b555646bda39f4e4",
      "21c210b36ae2487182fa3029357dc5f3",
      "bf0526413a4548449005aef80c3629a5",
      "0f8ba70f2a544ab5b4ef3008c4222be8",
      "09b0e7648f4d48a69827a66a8078573d",
      "d797b7392a05428dbc87db03671cddd1",
      "3b933f19335442939aab886c7c47051a"
     ]
    },
    "id": "XbqG45vAQCI5",
    "outputId": "e18afc7a-31cc-4ac3-898e-67cfb32a15db"
   },
   "execution_count": null,
   "outputs": []
  },
  {
   "cell_type": "markdown",
   "source": [
    "### casual_train"
   ],
   "metadata": {
    "id": "lfscNBSZaXZE"
   }
  },
  {
   "cell_type": "code",
   "source": [
    "# 모델링\n",
    "reg = setup(data = casual_train, target = 'casual', train_size = 0.8,\\\n",
    "               normalize = True, transformation = True,\\\n",
    "               pca = True, pca_method = 'linear', pca_components = 2)\n",
    "best_model_casual = compare_models(sort='RMSLE')\n",
    "\n",
    "# 모델 저장\n",
    "save_model(best_model_casual, 'best_model_casual')\n",
    "\n",
    "# test 데이터 예측\n",
    "casual_predictions = predict_model(best_model_casual, data=X_test)\n",
    "casual_predictions = np.expm1(casual_predictions['prediction_label'])"
   ],
   "metadata": {
    "colab": {
     "base_uri": "https://localhost:8080/",
     "height": 1000,
     "referenced_widgets": [
      "7e2f3d1155104f1da1c74f834fe0bfbe",
      "818d9b8884b9456688f63cfdbfc03960",
      "2536af86f55c453db78672a3e420c358",
      "9571a8dafed94b179e96327f7cff8c6d",
      "d9b9743498ca44d4bb8faaf2a98cc749",
      "34b47ef893c74f3abac9fe4d58ff91df",
      "855e6f9cc4af475fbd3236750f227324",
      "d5aefcdb5cc74ac0badd1f66b2b10d63",
      "26884829bccd4b38a1061b1b8323cd80",
      "9b37f082c5f04933a477a7f3bd91165f",
      "d3de5926c41a48e59048b947e00c3269"
     ]
    },
    "id": "YzXOPC5-YyRG",
    "outputId": "5426b764-cf10-4518-f3b0-5a15bd7087fb"
   },
   "execution_count": null,
   "outputs": []
  },
  {
   "cell_type": "markdown",
   "source": [
    "### registered_train"
   ],
   "metadata": {
    "id": "VdNjx4F-aag7"
   }
  },
  {
   "cell_type": "code",
   "source": [
    "# 모델링\n",
    "reg = setup(data = registered_train, target = 'registered', train_size = 0.8,\\\n",
    "               normalize = True, transformation = True,\\\n",
    "               pca = True, pca_method = 'linear', pca_components = 2)\n",
    "best_model_registered = compare_models(sort='RMSLE')\n",
    "\n",
    "# 모델 저장\n",
    "save_model(best_model_registered, 'best_model_registered')\n",
    "\n",
    "# test 데이터 예측\n",
    "registered_predictions = predict_model(best_model_registered, data=X_test)\n",
    "registered_predictions = np.expm1(registered_predictions['prediction_label'])\n",
    "\n",
    "# Submission.csv 형태 만들어서 저장\n",
    "submission = pd.DataFrame({'datetime': test_data['datetime'], 'count': casual_predictions + registered_predictions})\n",
    "submission.to_csv('Submission.csv', index=False)"
   ],
   "metadata": {
    "colab": {
     "base_uri": "https://localhost:8080/",
     "height": 1000,
     "referenced_widgets": [
      "e56994f9e720410eae04b4bae4995bc5",
      "e37873bea29247adb86be7db2bcf44dd",
      "b1b0778dd5a441c48a138410cee2c658",
      "9e2141e2afa345a3bd5d5b968f8f0ecc",
      "9a99f1d4ac3e45a4b6bc3048ce7d602f",
      "307c2be2e12142fcbdfe31e9d4a41850",
      "e30e97679fc84cb588ab7d7d88e77f60",
      "9f0c30394e1d4b6bb684fe8ec09e4d29",
      "bb03725844ec4ad4a79f22aa9755cd43",
      "1cd87d6c4d3e485a85fd28511e82c396",
      "6c60091bbd1e4b3ab37ac93da72ee5f4"
     ]
    },
    "id": "GLSVPopxaW8a",
    "outputId": "519f9ce2-da39-4596-81bd-cfccdd940bbc"
   },
   "execution_count": null,
   "outputs": []
  },
  {
   "cell_type": "code",
   "source": [
    "import pycaret\n",
    "from pycaret.regression import *\n",
    "\n",
    "# 모델링\n",
    "reg = setup(data = count_train, target = 'count', train_size = 0.8, normalize = True,\\\n",
    "               pca = True, pca_method = 'linear', pca_components = 2)\n",
    "best_model = compare_models(sort='RMSLE')\n",
    "\n",
    "# 모델 저장\n",
    "save_model(best_model, 'best_model')\n",
    "\n",
    "# test 데이터 예측\n",
    "predictions = predict_model(best_model, data=X_test)\n",
    "\n",
    "# Submission.csv 형태 만들어서 저장\n",
    "submission = pd.DataFrame({'datetime': test_data['datetime'], 'count': np.expm1(predictions['prediction_label'])})\n",
    "submission.to_csv('Submission2.csv', index=False)\n"
   ],
   "metadata": {
    "colab": {
     "base_uri": "https://localhost:8080/",
     "height": 1000,
     "referenced_widgets": [
      "61ba978373f0402d8c8f40867b01738e",
      "94fea658b68047f6b431f497a3205bbf",
      "68ab92835a61466fad11da1b79dca6a6",
      "1d3dc944b0a843c78c670d2346c9c212",
      "47fd44fe60db427c8002af45d1cf417a",
      "fc17c503d16e476a8d2c8970e26ceeea",
      "30abecb6ff92474eb3a097b564124e8b",
      "dfcb0dde217f4a2aae74f9e1e317f3ce",
      "30065ab80d9941229f90f6f89be61185",
      "a04939b7b57b4bd382a5b54972dc69fa",
      "05f20e7d4df2407d8c7129b02ec431bd"
     ]
    },
    "id": "jo3V0jiXc8Hp",
    "outputId": "3d2f98ea-d88e-42c2-ac08-407fef9fb296"
   },
   "execution_count": null,
   "outputs": []
  },
  {
   "cell_type": "markdown",
   "source": [
    "## Blended model\n",
    "- 정형데이터에서 좋은 성능을 내는 것으로 알려진 랜덤 포레스트, xgboost, lightgbm 모델을 모두 활용해서 결과를 확인하였다.\n",
    "- 최종적으로 가장 좋은 성능을 낼 수 있었다.\n",
    "- RMSLE : 0.40786"
   ],
   "metadata": {
    "id": "ntXnPbbhfqCc"
   }
  },
  {
   "cell_type": "code",
   "source": [
    "import numpy as np\n",
    "import pandas as pd\n",
    "from sklearn.ensemble import RandomForestRegressor\n",
    "import xgboost as xgb\n",
    "import lightgbm as lgb\n",
    "\n",
    "# Assuming train_data and test_data are your train and test datasets\n",
    "\n",
    "# Define the features and target\n",
    "X_train = train_data.drop(['datetime', 'count', 'casual', 'registered'], axis=1)\n",
    "y_train = train_data['count']\n",
    "X_test = test_data.drop(['datetime', 'count', 'casual', 'registered'], axis=1)\n",
    "\n",
    "# Train Random Forest model\n",
    "rf_model = RandomForestRegressor()\n",
    "rf_model.fit(X_train, y_train)\n",
    "\n",
    "# Train XGBoost model\n",
    "xgb_model = xgb.XGBRegressor()\n",
    "xgb_model.fit(X_train, y_train)\n",
    "\n",
    "# Train LightGBM model\n",
    "lgb_model = lgb.LGBMRegressor(force_col_wise=True)\n",
    "lgb_model.fit(X_train, y_train)\n",
    "\n",
    "# Make predictions\n",
    "rf_predictions = rf_model.predict(X_test)\n",
    "xgb_predictions = xgb_model.predict(X_test)\n",
    "lgb_predictions = lgb_model.predict(X_test)\n",
    "\n",
    "# Blend predictions using simple averaging\n",
    "blended_predictions = (rf_predictions + xgb_predictions + lgb_predictions) / 3\n",
    "\n",
    "# Prepare submission\n",
    "submission = pd.DataFrame({'datetime': test_data['datetime'], 'count': np.expm1(blended_predictions)})\n",
    "submission.to_csv('Blended_Predictions.csv', index=False)"
   ],
   "metadata": {
    "colab": {
     "base_uri": "https://localhost:8080/"
    },
    "id": "y4E8NVLpeGVc",
    "outputId": "293568fd-1221-4d11-ba79-c5fdc5cd92f5"
   },
   "execution_count": null,
   "outputs": []
  },
  {
   "cell_type": "markdown",
   "source": [
    "# 5. 결론\n",
    "- 시간 및 메모리가 부족하여 다양한 시도를 해보지 못했지만, 하이퍼 파라미터 튜닝 등 모델을 조금 더 개선시킬 여지가 있어보인다.\n",
    "- Automl을 활용하여 자동적으로 좋은 모델을 고르는 방식을 활용하면 좀 더 빠르고 편하게 좋은 결론을 낼 수 있을 것으로 보인다.\n",
    "- 단순히 명목형 변수라고 원핫인코딩을 한다고 성능이 좋아지는 것은 아님을 깨달았다.\n",
    "  - 이는 1,2,3,4의 순서적인 의미를 담을수도 있기 때문인 것으로 보인다.\n",
    "- 부트캠프에서 좀 더 공부해서 어떤식으로 모델을 개선하기위해 파라미터를 수정해가고 분석해 갈 수 있을지 공부하고 싶다."
   ],
   "metadata": {
    "id": "mj9nTokehiC8"
   }
  }
 ]
}
