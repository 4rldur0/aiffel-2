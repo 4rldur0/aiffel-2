{
 "cells": [
  {
   "cell_type": "markdown",
   "id": "6cc0358c",
   "metadata": {},
   "source": [
    "## 프로젝트 1 : 손수 설계하는 선형회귀, 당뇨병 수치를 맞춰보자!\n"
   ]
  },
  {
   "cell_type": "markdown",
   "id": "c21764e6",
   "metadata": {},
   "source": [
    "### (1) 데이터 가져오기\n",
    "- sklearn.datasets의 load_diabetes에서 데이터를 가져와주세요.\n",
    "- diabetes의 data를 df_X에, target을 df_y에 저장해주세요.\n"
   ]
  },
  {
   "cell_type": "code",
   "id": "7666e37a",
   "metadata": {
    "ExecuteTime": {
     "end_time": "2024-05-23T08:00:58.410903Z",
     "start_time": "2024-05-23T08:00:58.299363Z"
    }
   },
   "source": [
    "import pandas as pd\n",
    "from sklearn.datasets import load_diabetes\n",
    "\n",
    "diabetes = load_diabetes()"
   ],
   "execution_count": 1,
   "outputs": []
  },
  {
   "cell_type": "code",
   "id": "d580d650",
   "metadata": {
    "ExecuteTime": {
     "end_time": "2024-05-23T08:00:58.579719Z",
     "start_time": "2024-05-23T08:00:58.576681Z"
    }
   },
   "source": [
    "df_X = diabetes.data\n",
    "df_y = diabetes.target"
   ],
   "execution_count": 2,
   "outputs": []
  },
  {
   "cell_type": "markdown",
   "id": "1ccc0640",
   "metadata": {},
   "source": [
    "### (2) 모델에 입력할 데이터 X 준비하기\n",
    "- df_X에 있는 값들을 numpy array로 변환해서 저장해주세요."
   ]
  },
  {
   "cell_type": "code",
   "id": "1d3d9b6c",
   "metadata": {
    "ExecuteTime": {
     "end_time": "2024-05-23T08:00:58.638414Z",
     "start_time": "2024-05-23T08:00:58.630645Z"
    }
   },
   "source": [
    "import numpy as np\n",
    "\n",
    "X = np.array(df_X)\n",
    "X.shape"
   ],
   "execution_count": 3,
   "outputs": []
  },
  {
   "cell_type": "markdown",
   "id": "8eab8625",
   "metadata": {},
   "source": [
    "### (3) 모델에 예측할 데이터 y 준비하기\n",
    "- df_y에 있는 값들을 numpy array로 변환해서 저장해주세요."
   ]
  },
  {
   "cell_type": "code",
   "id": "3ccf4d53",
   "metadata": {
    "ExecuteTime": {
     "end_time": "2024-05-23T08:00:58.671091Z",
     "start_time": "2024-05-23T08:00:58.669150Z"
    }
   },
   "source": "y = np.array(df_y)",
   "execution_count": 4,
   "outputs": []
  },
  {
   "cell_type": "markdown",
   "id": "7c8e6ddf",
   "metadata": {},
   "source": [
    "### (4) train 데이터와 test 데이터로 분리하기\n",
    "- X와 y 데이터를 각각 train 데이터와 test 데이터로 분리해주세요."
   ]
  },
  {
   "cell_type": "code",
   "id": "bbe283b8",
   "metadata": {
    "ExecuteTime": {
     "end_time": "2024-05-23T08:00:58.784358Z",
     "start_time": "2024-05-23T08:00:58.680639Z"
    }
   },
   "source": [
    "from sklearn.model_selection import train_test_split\n",
    "\n",
    "X_train, X_test, y_train, y_test = train_test_split(X, y, test_size=0.2, random_state=123)\n",
    "\n",
    "print(f\"전체 학습 데이터: {X.shape} 레이블: {y.shape}\")\n",
    "print(f\"학습 데이터: {X_train.shape} 레이블: {y_train.shape}\")\n",
    "print(f\"테스트 데이터: {X_test.shape} 레이블: {y_test.shape}\")"
   ],
   "execution_count": 5,
   "outputs": []
  },
  {
   "cell_type": "markdown",
   "id": "13460c82",
   "metadata": {},
   "source": [
    "### (5) 모델 준비하기\n",
    "- 입력 데이터 개수에 맞는 가중치 W와 b를 준비해주세요.\n",
    "- 모델 함수를 구현해주세요."
   ]
  },
  {
   "metadata": {
    "ExecuteTime": {
     "end_time": "2024-05-23T08:00:58.787952Z",
     "start_time": "2024-05-23T08:00:58.785383Z"
    }
   },
   "cell_type": "code",
   "source": [
    "def model(X, y, epochs, learning_rate):\n",
    "    losses, weight_history, bias_history = [], [], []\n",
    "    \n",
    "    W = np.ones(shape=(X.shape[1],))\n",
    "    b = 0\n",
    "    \n",
    "    for epoch in range(epochs):\n",
    "        y_pred = X.dot(W) + b\n",
    "        l = loss(y, y_pred)\n",
    "        w_grad, b_grad = gradient(X, y, y_pred)\n",
    "        W -= learning_rate * w_grad \n",
    "        b -= learning_rate * b_grad\n",
    "        print(f'epoch {epoch + 1}, loss: {l}')\n",
    "        \n",
    "        losses.append(l)\n",
    "        weight_history.append(W.copy())\n",
    "        bias_history.append(b)\n",
    "    \n",
    "    return W, b, losses, weight_history, bias_history"
   ],
   "id": "5fc4ab37980050bf",
   "execution_count": 6,
   "outputs": []
  },
  {
   "cell_type": "markdown",
   "id": "37377c8d",
   "metadata": {},
   "source": [
    "### (6) 손실함수 loss 정의하기\n",
    "- 손실함수를 MSE 함수로 정의해주세요."
   ]
  },
  {
   "cell_type": "code",
   "id": "37ddbdcc",
   "metadata": {
    "ExecuteTime": {
     "end_time": "2024-05-23T08:00:58.790384Z",
     "start_time": "2024-05-23T08:00:58.788769Z"
    }
   },
   "source": [
    "def loss(y, y_pred):\n",
    "    return ((y_pred - y) ** 2).mean()"
   ],
   "execution_count": 7,
   "outputs": []
  },
  {
   "cell_type": "markdown",
   "id": "43471d65",
   "metadata": {},
   "source": [
    "### (7) 기울기를 구하는 gradient 함수 구현하기\n",
    "- 기울기를 계산하는 gradient 함수를 구현해주세요."
   ]
  },
  {
   "cell_type": "code",
   "id": "d108cd70",
   "metadata": {
    "ExecuteTime": {
     "end_time": "2024-05-23T08:00:58.793030Z",
     "start_time": "2024-05-23T08:00:58.791411Z"
    }
   },
   "source": [
    "def gradient(x, y, y_pred):\n",
    "    error = y_pred - y\n",
    "    w_grad = 2 * np.dot(x.T, error) / len(y)\n",
    "    b_grad = 2 * error.mean()\n",
    "    return w_grad, b_grad"
   ],
   "execution_count": 8,
   "outputs": []
  },
  {
   "cell_type": "markdown",
   "id": "8e40706b",
   "metadata": {},
   "source": [
    "### (8) 하이퍼 파라미터인 학습률 설정하기\n",
    "- 학습률, learning rate 를 설정해주세요\n",
    "- 만약 학습이 잘 되지 않는다면 learning rate 값을 한번 여러 가지로 설정하며 실험해 보세요.\n"
   ]
  },
  {
   "cell_type": "code",
   "id": "89b6ec16",
   "metadata": {
    "ExecuteTime": {
     "end_time": "2024-05-23T08:00:58.795286Z",
     "start_time": "2024-05-23T08:00:58.793580Z"
    }
   },
   "source": "learning_rate = 0.8",
   "execution_count": 9,
   "outputs": []
  },
  {
   "cell_type": "markdown",
   "id": "f66b595d",
   "metadata": {},
   "source": [
    "### (9) 모델 학습하기\n",
    "- 정의된 손실함수와 기울기 함수로 모델을 학습해주세요.\n",
    "- loss값이 충분히 떨어질 때까지 학습을 진행해주세요.\n",
    "- 입력하는 데이터인 X에 들어가는 특성 컬럼들을 몇 개 빼도 괜찮습니다. 다양한 데이터로 실험해 보세요.\n"
   ]
  },
  {
   "cell_type": "code",
   "id": "df7b5f7e",
   "metadata": {
    "ExecuteTime": {
     "end_time": "2024-05-23T08:00:58.816525Z",
     "start_time": "2024-05-23T08:00:58.814632Z"
    }
   },
   "source": "epochs = 10000",
   "execution_count": 10,
   "outputs": []
  },
  {
   "metadata": {
    "ExecuteTime": {
     "end_time": "2024-05-23T08:00:59.090219Z",
     "start_time": "2024-05-23T08:00:58.856299Z"
    }
   },
   "cell_type": "code",
   "source": "W, b, losses, weight_history, bias_history = model(X_train, y_train, epochs, learning_rate)",
   "id": "d2d9a1e0d04905e1",
   "execution_count": 11,
   "outputs": []
  },
  {
   "metadata": {
    "ExecuteTime": {
     "end_time": "2024-05-23T08:00:59.094877Z",
     "start_time": "2024-05-23T08:00:59.091497Z"
    }
   },
   "cell_type": "code",
   "source": [
    "import pandas as pd\n",
    "import matplotlib.pyplot as plt\n",
    "import seaborn as sns"
   ],
   "id": "de5423f77c4dc9fe",
   "execution_count": 12,
   "outputs": []
  },
  {
   "metadata": {},
   "cell_type": "markdown",
   "source": "## 시각화",
   "id": "bd0f73783e8342c4"
  },
  {
   "metadata": {
    "ExecuteTime": {
     "end_time": "2024-05-23T08:00:59.303363Z",
     "start_time": "2024-05-23T08:00:59.095785Z"
    }
   },
   "cell_type": "code",
   "source": [
    "plt.figure(figsize=(10, 3))\n",
    "plt.subplot(1, 2, 1)\n",
    "plt.plot(losses[:200])\n",
    "\n",
    "plt.subplot(1, 2, 2)\n",
    "plt.plot(losses[200:])"
   ],
   "id": "8fb72085263b1f43",
   "execution_count": 13,
   "outputs": []
  },
  {
   "metadata": {},
   "cell_type": "markdown",
   "source": [
    "- 200 epoch 동안 30000에서 5000까지 떨어지고 200 epoch 이후에는 3150에서 2900대로 떨어진 것을 볼 수 있다\n",
    "- epoch을 아무리 늘려도 2000정도 이후부터는 크게 줄어들지 않았다"
   ],
   "id": "a6b9cd6d233e60de"
  },
  {
   "metadata": {
    "ExecuteTime": {
     "end_time": "2024-05-23T08:00:59.511059Z",
     "start_time": "2024-05-23T08:00:59.307709Z"
    }
   },
   "cell_type": "code",
   "source": [
    "plt.figure(figsize=(10, 3))\n",
    "plt.subplot(1, 2, 1)\n",
    "plt.plot(weight_history)\n",
    "\n",
    "plt.subplot(1, 2, 2)\n",
    "plt.plot(weight_history[:200])"
   ],
   "id": "dd0bbf985d678329",
   "execution_count": 14,
   "outputs": []
  },
  {
   "metadata": {},
   "cell_type": "markdown",
   "source": "- weight도 하나의 값으로 수렴하고 있음을 알 수 있다 ",
   "id": "8fc113f8e17e74b5"
  },
  {
   "metadata": {
    "ExecuteTime": {
     "end_time": "2024-05-23T08:00:59.631187Z",
     "start_time": "2024-05-23T08:00:59.511813Z"
    }
   },
   "cell_type": "code",
   "source": "plt.plot(bias_history[:20])",
   "id": "49e9c5d2231aa4c",
   "execution_count": 15,
   "outputs": []
  },
  {
   "metadata": {},
   "cell_type": "markdown",
   "source": "bias도 상당히 빠른 시간에 수렴을 하였다",
   "id": "d2fb5c8dc6327589"
  },
  {
   "metadata": {
    "ExecuteTime": {
     "end_time": "2024-05-23T08:00:59.638326Z",
     "start_time": "2024-05-23T08:00:59.631949Z"
    }
   },
   "cell_type": "code",
   "source": "W",
   "id": "1c371e610545e74e",
   "execution_count": 16,
   "outputs": []
  },
  {
   "metadata": {},
   "cell_type": "code",
   "execution_count": null,
   "source": "",
   "id": "6f56dc31f8f27350",
   "outputs": []
  },
  {
   "metadata": {},
   "cell_type": "markdown",
   "source": "- 0에 가까운 feature를 제거하는 것도 고려해볼 수 있을 것 같다",
   "id": "b58d9414f282f649"
  },
  {
   "metadata": {},
   "cell_type": "markdown",
   "source": [
    "loss, weight, bias 값들의 변화를 확인해본 결과\n",
    "- 선형회귀 모델이 정보를 담아내는데에 한계가 있을 것이라는 판단이 되었다.\n",
    "\n",
    "- 하지만 모델은 바꾸지 않는 하에서 최대치의 성능을 내는 것이 이번 프로젝트의 목적이였기에 데이터를 변형하고 feature engineering에 집중하고자 하였다."
   ],
   "id": "2712985247cac0fe"
  },
  {
   "metadata": {},
   "cell_type": "markdown",
   "source": "## 데이터 분석 및 시각화 (EDA)",
   "id": "965d878453538dcf"
  },
  {
   "metadata": {
    "ExecuteTime": {
     "end_time": "2024-05-23T08:00:59.659157Z",
     "start_time": "2024-05-23T08:00:59.639817Z"
    }
   },
   "cell_type": "code",
   "source": [
    "train = pd.DataFrame(X_train)\n",
    "train['label'] = y_train\n",
    "train.describe()"
   ],
   "id": "7bd1ae5efce4724",
   "execution_count": 17,
   "outputs": []
  },
  {
   "metadata": {},
   "cell_type": "markdown",
   "source": "- min max scaling이 필요해보인다",
   "id": "72edb6aee6681e4d"
  },
  {
   "metadata": {
    "ExecuteTime": {
     "end_time": "2024-05-23T08:00:59.662929Z",
     "start_time": "2024-05-23T08:00:59.659902Z"
    }
   },
   "cell_type": "code",
   "source": [
    "from sklearn.preprocessing import MinMaxScaler\n",
    "\n",
    "scaler = MinMaxScaler()\n",
    "scaler.fit(X_train)\n",
    "X_train_minmax = scaler.transform(X_train)\n",
    "# scaler.transform(X_test)\n",
    "\n",
    "X_train_minmax = pd.DataFrame(X_train_minmax)"
   ],
   "id": "34681a3aef114a2e",
   "execution_count": 18,
   "outputs": []
  },
  {
   "metadata": {
    "ExecuteTime": {
     "end_time": "2024-05-23T08:00:59.674874Z",
     "start_time": "2024-05-23T08:00:59.663666Z"
    }
   },
   "cell_type": "code",
   "source": "X_train_minmax",
   "id": "5bde639fdf25f9ca",
   "execution_count": 19,
   "outputs": []
  },
  {
   "metadata": {},
   "cell_type": "markdown",
   "source": "- 1번 피처가 알고보니 두 가지 범주로 분류되는 피처였다",
   "id": "8a4ab293ca5809e5"
  },
  {
   "metadata": {
    "ExecuteTime": {
     "end_time": "2024-05-23T08:01:00.556679Z",
     "start_time": "2024-05-23T08:00:59.676978Z"
    }
   },
   "cell_type": "code",
   "source": "X_train_minmax.hist()",
   "id": "ca6c4aec5765989d",
   "execution_count": 20,
   "outputs": []
  },
  {
   "metadata": {},
   "cell_type": "markdown",
   "source": "-  대부분 거의 정규분포의 형태를 띄고 있는 것을 볼 수 있다.",
   "id": "697d3d76e84466c5"
  },
  {
   "metadata": {},
   "cell_type": "markdown",
   "source": "## label 분포",
   "id": "c994e2f82daad8ef"
  },
  {
   "metadata": {
    "ExecuteTime": {
     "end_time": "2024-05-23T08:01:00.842014Z",
     "start_time": "2024-05-23T08:01:00.557512Z"
    }
   },
   "cell_type": "code",
   "source": [
    "plt.figure(figsize=(12, 4))\n",
    "\n",
    "# 첫 번째 subplot\n",
    "ax1 = plt.subplot(1, 2, 1)\n",
    "sns.histplot(y_train, kde=True, ax=ax1)\n",
    "ax1.set_title('Distribution of y_train')\n",
    "\n",
    "# 두 번째 subplot\n",
    "ax2 = plt.subplot(1, 2, 2)\n",
    "sns.histplot(np.sqrt(y_train), kde=True, ax=ax2)\n",
    "ax2.set_title('Distribution of sqrt(y_train)')\n",
    "\n",
    "# 레이아웃 자동 조정\n",
    "plt.tight_layout()\n",
    "plt.show()"
   ],
   "id": "6b7730978858afa4",
   "execution_count": 21,
   "outputs": []
  },
  {
   "metadata": {},
   "cell_type": "markdown",
   "source": [
    "- 레이블의 경우는 살짝 왼쪽으로 치우쳐 보여서 root scaling을 진행해보았다.\n",
    "- log scaling을 해보니 반대로 우로 치우치게 되어서 root scaling을 하였다."
   ],
   "id": "894cd16dfee15621"
  },
  {
   "metadata": {
    "ExecuteTime": {
     "end_time": "2024-05-23T08:06:09.995303Z",
     "start_time": "2024-05-23T08:06:09.830412Z"
    }
   },
   "cell_type": "code",
   "source": [
    "train_minmax = pd.DataFrame(X_train_minmax)\n",
    "train_minmax['label'] = y_train\n",
    "\n",
    "corr_matrix = train_minmax.corr()\n",
    "corr_matrix.label.plot(kind='bar')"
   ],
   "id": "aeae14dad9122c91",
   "execution_count": 46,
   "outputs": []
  },
  {
   "metadata": {},
   "cell_type": "markdown",
   "source": "- 0번째와 1번째 feature는 상관관계가 상당히 낮다",
   "id": "62d060454649254"
  },
  {
   "metadata": {
    "ExecuteTime": {
     "end_time": "2024-05-23T08:01:01.035911Z",
     "start_time": "2024-05-23T08:01:01.022502Z"
    }
   },
   "cell_type": "code",
   "source": "corr_matrix",
   "id": "31430c22e16a7172",
   "execution_count": 24,
   "outputs": []
  },
  {
   "metadata": {
    "ExecuteTime": {
     "end_time": "2024-05-23T08:01:01.042834Z",
     "start_time": "2024-05-23T08:01:01.037089Z"
    }
   },
   "cell_type": "code",
   "source": "corr_with_target = corr_matrix['label'].drop('label')",
   "id": "d8f8a1df57199a9a",
   "execution_count": 25,
   "outputs": []
  },
  {
   "metadata": {
    "ExecuteTime": {
     "end_time": "2024-05-23T08:01:01.412903Z",
     "start_time": "2024-05-23T08:01:01.044198Z"
    }
   },
   "cell_type": "code",
   "source": [
    "plt.figure(figsize=(12, 8))\n",
    "\n",
    "sns.heatmap(corr_matrix, annot=True, cmap='coolwarm', linewidths=0.5)\n",
    "plt.title('Correlation Matrix')\n",
    "\n",
    "plt.show()"
   ],
   "id": "9cf78d807f07c171",
   "execution_count": 26,
   "outputs": []
  },
  {
   "metadata": {},
   "cell_type": "markdown",
   "source": "- 4번, 5번의 상관관계가 높고, 6번, 7번, 8번 데이터의 상관관계가 상당히 높다",
   "id": "ef6cc8e0faac572a"
  },
  {
   "metadata": {
    "ExecuteTime": {
     "end_time": "2024-05-23T08:01:01.419218Z",
     "start_time": "2024-05-23T08:01:01.414066Z"
    }
   },
   "cell_type": "code",
   "source": "print('Correlation with target:\\n', corr_with_target)",
   "id": "70748fb03744abc4",
   "execution_count": 27,
   "outputs": []
  },
  {
   "metadata": {},
   "cell_type": "markdown",
   "source": [
    "### 상관관계를 활용한 피처 선택\n",
    "- 상관관계가 높지 않은 피처(상관계수가 -0.1 < r < 0.1처럼 타깃과의 상관관계가 매우 낮은 피처)는 예측에 도움이 되지 않을 수 있다.\n",
    "- 이를 제거하거나 다른 피처와 조합하는 피처 엔지니어링을 고려할 수 있다"
   ],
   "id": "89ad40816a5b3625"
  },
  {
   "metadata": {},
   "cell_type": "markdown",
   "source": [
    "- **높은 상관관계**: 타깃과 높은 상관관계를 가진 피처가 중요한 피처일 가능성이 높음.\n",
    "- **낮은 상관관계**: 타깃과의 상관관계가 낮은 피처는 모델에 큰 영향을 미치지 못할 수 있음.\n",
    "- **피처 간 상관관계가 높은 경우**: 다중공선성(multicollinearity) 문제를 유발할 수 있으므로 주의. 다중공선성 문제가 있으면, 모델의 해석력이 떨어지고 예측 불안성이 커질 수 있음."
   ],
   "id": "8dd38a9094011909"
  },
  {
   "metadata": {},
   "cell_type": "markdown",
   "source": [
    "### 피처 엔지니어링 및 선택\n",
    "\n",
    "상관관계를 고려하여 모델에 사용할 피처를 선택하거나 새로운 피처를 만들 수 있다.\n",
    "\n",
    "#### 방법\n",
    "1. **피처 제거**: 타깃과의 상관관계가 너무 낮거나 피처 간 상관관계가 너무 높은 피처들을 제거할 수 있다.\n",
    "2. **피처 결합**: 상관관계가 높은 피처들을 결합하여 새로운 파생 피처를 만들 수 있다.\n",
    "3. **차원 축소**: PCA(주성분 분석)를 사용하여 차원을 축소. 상관관계가 높은 피처들을 하나의 주성분으로 모아 모델의 효율성을 높임.\n",
    "\n"
   ],
   "id": "5d49fc3f3ea49416"
  },
  {
   "metadata": {
    "ExecuteTime": {
     "end_time": "2024-05-23T08:01:01.428221Z",
     "start_time": "2024-05-23T08:01:01.420754Z"
    }
   },
   "cell_type": "code",
   "source": [
    "threshold = 0.1\n",
    "low_corr_features = corr_with_target[abs(corr_with_target) < threshold].index\n",
    "data_reduced = train_minmax.drop(columns=low_corr_features)\n",
    "\n",
    "# 높은 상관관계 피처 확인\n",
    "high_corr_pairs = corr_matrix[abs(corr_matrix) > 0.7].stack().reset_index()\n",
    "high_corr_pairs = high_corr_pairs[high_corr_pairs['level_0'] != high_corr_pairs['level_1']]\n",
    "\n",
    "print('Highly correlated pairs:\\n', high_corr_pairs)"
   ],
   "id": "3c792aabbc870d29",
   "execution_count": 28,
   "outputs": []
  },
  {
   "metadata": {
    "ExecuteTime": {
     "end_time": "2024-05-23T08:01:01.435597Z",
     "start_time": "2024-05-23T08:01:01.428885Z"
    }
   },
   "cell_type": "code",
   "source": "data_reduced",
   "id": "dec984e15142a1d4",
   "execution_count": 29,
   "outputs": []
  },
  {
   "metadata": {},
   "cell_type": "markdown",
   "source": "### 4,5번 피처 pca",
   "id": "59228d245a93e262"
  },
  {
   "metadata": {
    "ExecuteTime": {
     "end_time": "2024-05-23T08:01:01.497792Z",
     "start_time": "2024-05-23T08:01:01.437424Z"
    }
   },
   "cell_type": "code",
   "source": [
    "from sklearn.decomposition import PCA\n",
    "\n",
    "# PCA 적용\n",
    "pca = PCA(n_components=1)\n",
    "\n",
    "X_pca_45 = pca.fit_transform(data_reduced[[4,5]])\n",
    "data_reduced.drop([4,5], axis=1, inplace=True)\n",
    "data_reduced['pca_45'] = X_pca_45"
   ],
   "id": "2bdb12478774e54e",
   "execution_count": 30,
   "outputs": []
  },
  {
   "metadata": {},
   "cell_type": "markdown",
   "source": [
    "### 6,7,8번 피처\n",
    "- 6번 피처와 7번 피처가 상관관계가 있고 7번 피처와 8번 피처가 상관관계가 있으므로 7번 피처를 제거한다"
   ],
   "id": "848c1eb6c42abe3b"
  },
  {
   "metadata": {
    "ExecuteTime": {
     "end_time": "2024-05-23T08:01:01.500409Z",
     "start_time": "2024-05-23T08:01:01.498531Z"
    }
   },
   "cell_type": "code",
   "source": "data_reduced = data_reduced.drop(7, axis=1)",
   "id": "c468758d5afb0ac0",
   "execution_count": 31,
   "outputs": []
  },
  {
   "metadata": {
    "ExecuteTime": {
     "end_time": "2024-05-23T08:01:01.507737Z",
     "start_time": "2024-05-23T08:01:01.501873Z"
    }
   },
   "cell_type": "code",
   "source": "data_reduced.corr()['label'].drop('label')",
   "id": "117daaa4dbcf1387",
   "execution_count": 32,
   "outputs": []
  },
  {
   "metadata": {
    "ExecuteTime": {
     "end_time": "2024-05-23T08:01:01.513121Z",
     "start_time": "2024-05-23T08:01:01.508382Z"
    }
   },
   "cell_type": "code",
   "source": "data_reduced.head()",
   "id": "8c84446c72f16f30",
   "execution_count": 33,
   "outputs": []
  },
  {
   "metadata": {},
   "cell_type": "markdown",
   "source": "### 최종 모델 학습",
   "id": "d9286b1cab060a92"
  },
  {
   "metadata": {
    "ExecuteTime": {
     "end_time": "2024-05-23T08:01:01.519513Z",
     "start_time": "2024-05-23T08:01:01.513665Z"
    }
   },
   "cell_type": "code",
   "source": [
    "X_test = scaler.transform(X_test)\n",
    "X_test = pd.DataFrame(X_test)\n",
    "X_test.drop([1, 7], axis=1, inplace=True)"
   ],
   "id": "af61f6c01b30e405",
   "execution_count": 34,
   "outputs": []
  },
  {
   "metadata": {
    "ExecuteTime": {
     "end_time": "2024-05-23T08:01:01.525471Z",
     "start_time": "2024-05-23T08:01:01.521589Z"
    }
   },
   "cell_type": "code",
   "source": [
    "X_pca_45 = pca.fit_transform(X_test[[4,5]])\n",
    "X_test.drop([4,5], axis=1, inplace=True)\n",
    "X_test['pca_45'] = X_pca_45"
   ],
   "id": "e9ad659de8b229be",
   "execution_count": 35,
   "outputs": []
  },
  {
   "metadata": {
    "ExecuteTime": {
     "end_time": "2024-05-23T08:01:01.527669Z",
     "start_time": "2024-05-23T08:01:01.526087Z"
    }
   },
   "cell_type": "code",
   "source": "y_train = np.sqrt(y_train)",
   "id": "1b6b3f4ff64f38d2",
   "execution_count": 36,
   "outputs": []
  },
  {
   "metadata": {
    "ExecuteTime": {
     "end_time": "2024-05-23T08:01:01.530274Z",
     "start_time": "2024-05-23T08:01:01.528301Z"
    }
   },
   "cell_type": "code",
   "source": [
    "X_train_scaled = np.array(data_reduced.drop(['label'], axis=1))\n",
    "y_train_scaled = np.array(y_train)"
   ],
   "id": "f2869aacac6fd402",
   "execution_count": 37,
   "outputs": []
  },
  {
   "metadata": {
    "ExecuteTime": {
     "end_time": "2024-05-23T08:01:01.537510Z",
     "start_time": "2024-05-23T08:01:01.534063Z"
    }
   },
   "cell_type": "code",
   "source": "X_train_scaled",
   "id": "a8cea21b4227b2b9",
   "execution_count": 38,
   "outputs": []
  },
  {
   "metadata": {
    "ExecuteTime": {
     "end_time": "2024-05-23T08:21:00.389589Z",
     "start_time": "2024-05-23T08:21:00.184641Z"
    }
   },
   "cell_type": "code",
   "source": "W, b, losses, weight_history, bias_history = model(X_train_scaled, y_train_scaled, epochs=10000, learning_rate=0.1)",
   "id": "5968b8eb3502750d",
   "execution_count": 60,
   "outputs": []
  },
  {
   "cell_type": "markdown",
   "id": "eb1b9082",
   "metadata": {},
   "source": [
    "### (10) test 데이터에 대한 성능 확인하기\n",
    "- test 데이터에 대한 성능을 확인해주세요.\n"
   ]
  },
  {
   "metadata": {
    "ExecuteTime": {
     "end_time": "2024-05-23T08:21:01.103166Z",
     "start_time": "2024-05-23T08:21:01.099720Z"
    }
   },
   "cell_type": "code",
   "source": "W, b",
   "id": "cf694996a24bfd8e",
   "execution_count": 61,
   "outputs": []
  },
  {
   "metadata": {
    "ExecuteTime": {
     "end_time": "2024-05-23T08:21:01.527804Z",
     "start_time": "2024-05-23T08:21:01.525776Z"
    }
   },
   "cell_type": "code",
   "source": "X_test = np.array(X_test)",
   "id": "69af09cdbbdcd935",
   "execution_count": 62,
   "outputs": []
  },
  {
   "cell_type": "code",
   "id": "83613506",
   "metadata": {
    "ExecuteTime": {
     "end_time": "2024-05-23T08:21:01.928619Z",
     "start_time": "2024-05-23T08:21:01.922787Z"
    }
   },
   "source": [
    "y_pred = np.dot(X_test, W) + b"
   ],
   "execution_count": 63,
   "outputs": []
  },
  {
   "metadata": {
    "ExecuteTime": {
     "end_time": "2024-05-23T08:21:02.338271Z",
     "start_time": "2024-05-23T08:21:02.335942Z"
    }
   },
   "cell_type": "code",
   "source": "y_pred = y_pred ** 2",
   "id": "47cd90cbf62d016",
   "execution_count": 64,
   "outputs": []
  },
  {
   "cell_type": "code",
   "id": "d85648ba",
   "metadata": {
    "ExecuteTime": {
     "end_time": "2024-05-23T08:21:03.032190Z",
     "start_time": "2024-05-23T08:21:03.029409Z"
    }
   },
   "source": [
    "loss(y_test, y_pred)"
   ],
   "execution_count": 65,
   "outputs": []
  },
  {
   "cell_type": "markdown",
   "id": "9a081da4",
   "metadata": {},
   "source": [
    "### (11) 정답 데이터와 예측한 데이터 시각화하기\n",
    "- x축에는 X 데이터의 첫 번째 컬럼을, y축에는 정답인 target 데이터를 넣어서 모델이 예측한 데이터를 시각화해 주세요."
   ]
  },
  {
   "cell_type": "code",
   "id": "7140f5ac",
   "metadata": {
    "ExecuteTime": {
     "end_time": "2024-05-23T08:21:04.380633Z",
     "start_time": "2024-05-23T08:21:04.227368Z"
    }
   },
   "source": [
    "plt.figure(figsize=(10, 6))\n",
    "plt.scatter(X_test[:, 0], y_test, color='blue', label='Actual')\n",
    "plt.scatter(X_test[:, 0], y_pred, color='red', label='Predicted')\n",
    "\n",
    "plt.xlabel('X_train\\'s first column')\n",
    "plt.ylabel('Target')\n",
    "plt.title('Pred vs Truth')\n",
    "\n",
    "plt.legend()\n",
    "plt.show()"
   ],
   "execution_count": 66,
   "outputs": []
  },
  {
   "metadata": {},
   "cell_type": "markdown",
   "source": [
    "## 회고 정리\n",
    "- gradient descent 직접 구현하는 게 생각보다 함수를 나누는 것이 어려웠다. 클래스를 통해 구현해보고 싶다.\n",
    "- 선형 회귀로는 한계가 있는 것 같다\n",
    "- 생각보다 feature engineering을 열심히 한다고 성능이 많이 높아지지는 않는 것 같아서 아쉽다."
   ],
   "id": "9393bbad48dedcc3"
  }
 ],
 "metadata": {
  "kernelspec": {
   "display_name": "Python 3 (ipykernel)",
   "language": "python",
   "name": "python3"
  },
  "language_info": {
   "codemirror_mode": {
    "name": "ipython",
    "version": 3
   },
   "file_extension": ".py",
   "mimetype": "text/x-python",
   "name": "python",
   "nbconvert_exporter": "python",
   "pygments_lexer": "ipython3",
   "version": "3.9.7"
  }
 },
 "nbformat": 4,
 "nbformat_minor": 5
}
