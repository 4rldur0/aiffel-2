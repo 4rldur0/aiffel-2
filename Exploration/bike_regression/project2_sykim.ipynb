{
 "cells": [
  {
   "cell_type": "markdown",
   "id": "ff86ff78",
   "metadata": {},
   "source": [
    "## 프로젝트 2 : 날씨 좋은 월요일 오후 세 시, 자전거 타는 사람은 몇 명?"
   ]
  },
  {
   "cell_type": "markdown",
   "id": "e73c3fcc",
   "metadata": {},
   "source": [
    "## (1) 데이터 가져오기\n",
    "- 터미널에서 ~/data/data/bike-sharing-demand 경로에 train.csv 데이터를 train 변수로 가져 옵니다.\n",
    "- 여기에서 데이터를 상세히 확인할 수 있습니다."
   ]
  },
  {
   "cell_type": "code",
   "id": "6a473f23",
   "metadata": {
    "ExecuteTime": {
     "end_time": "2024-05-22T05:55:54.127649Z",
     "start_time": "2024-05-22T05:55:54.125560Z"
    }
   },
   "source": [
    "import warnings\n",
    "warnings.filterwarnings('ignore')"
   ],
   "execution_count": 1,
   "outputs": []
  },
  {
   "cell_type": "code",
   "id": "1e5849ab",
   "metadata": {
    "ExecuteTime": {
     "end_time": "2024-05-22T05:55:54.366304Z",
     "start_time": "2024-05-22T05:55:54.355148Z"
    }
   },
   "source": [
    "import pandas as pd\n",
    "train = pd.read_csv('./data/bike-sharing-demand/train.csv')"
   ],
   "execution_count": 2,
   "outputs": []
  },
  {
   "cell_type": "markdown",
   "id": "d9327688",
   "metadata": {},
   "source": "## (2) datetime 컬럼을 datetime 자료형으로 변환하고 연, 월, 일, 시, 분, 초까지 6가지 컬럼 생성하기"
  },
  {
   "cell_type": "code",
   "id": "a2dc9632",
   "metadata": {
    "ExecuteTime": {
     "end_time": "2024-05-22T05:55:54.383633Z",
     "start_time": "2024-05-22T05:55:54.381314Z"
    }
   },
   "source": [
    "# train['datetime'] = pd.to_datetime(train['datetime'])\n",
    "# train['year'] = train['datetime'].dt.year\n",
    "# train['month'] = train['datetime'].dt.month\n",
    "# train['day'] = train['datetime'].dt.day\n",
    "# train['hour'] = train['datetime'].dt.hour\n",
    "# train['minute'] = train['datetime'].dt.minute\n",
    "# train['second'] = train['datetime'].dt.second"
   ],
   "execution_count": 3,
   "outputs": []
  },
  {
   "cell_type": "code",
   "id": "07b66427",
   "metadata": {
    "ExecuteTime": {
     "end_time": "2024-05-22T05:55:54.418792Z",
     "start_time": "2024-05-22T05:55:54.409535Z"
    }
   },
   "source": [
    "# datetime 컬럼을 datetime 자료형으로 변환\n",
    "train['datetime'] = pd.to_datetime(train['datetime'])\n",
    "\n",
    "# 추출할 시간 관련 속성들\n",
    "time_attrs = ['year', 'month', 'day', 'hour', 'minute', 'second']\n",
    "\n",
    "# for 루프를 사용하여 각 속성을 추출하고 저장\n",
    "for attr in time_attrs:\n",
    "    train[attr] = getattr(train['datetime'].dt, attr)"
   ],
   "execution_count": 4,
   "outputs": []
  },
  {
   "cell_type": "markdown",
   "id": "4237e50b",
   "metadata": {},
   "source": [
    "## (3) year, month, day, hour, minute, second 데이터 개수 시각화하기\n",
    "- sns.countplot 활용해서 시각화하기\n",
    "- subplot을 활용해서 한 번에 6개의 그래프 함께 시각화하기"
   ]
  },
  {
   "cell_type": "code",
   "id": "a38f8b13",
   "metadata": {
    "ExecuteTime": {
     "end_time": "2024-05-22T05:55:55.292771Z",
     "start_time": "2024-05-22T05:55:54.424306Z"
    }
   },
   "source": [
    "import matplotlib.pyplot as plt\n",
    "import seaborn as sns\n",
    "\n",
    "plt.figure(figsize=(12, 6))\n",
    "for i in range(6):\n",
    "    plt.subplot(2,3,i+1)\n",
    "    sns.countplot(x=time_attrs[i], data=train)\n",
    "    plt.title(time_attrs[i])"
   ],
   "execution_count": 5,
   "outputs": []
  },
  {
   "cell_type": "markdown",
   "id": "713b2e17",
   "metadata": {},
   "source": [
    "## (4) X, y 컬럼 선택 및 train/test 데이터 분리\n",
    "- X(feature) 에는 어떤 데이터 컬럼을 넣어야 될지 고민해 봅시다 데이터 컬럼을 추가하거나 빼면서 잘 조합하여 데이터를 넣기 바랍니다. 만일 모든 데이터 컬럼(특징)을 넣는다면 오차 값이 말도 안 되게 적게 나올 수도 있습니다. \n",
    "ex) count를 예측하는데 casual,registered 컬럼이 필요할까요?\n",
    "\n",
    "- count 값을 맞추고자 하므로, y 변수에 count 컬럼의 데이터 넣기"
   ]
  },
  {
   "cell_type": "markdown",
   "id": "87a2bbfc",
   "metadata": {},
   "source": [
    "#### 데이터 필드 구성\n",
    "- datetime : 기록 일시(1시간 간격)\n",
    "- season : 계절(1봄, 2여름, 3가을, 4겨울)\n",
    "- holiday : 공휴일 여부(0공휴일 아님, 1공휴일)\n",
    "- workingday : 근무일 여부(0근무일 아님, 1근무일_주말과 공휴일이 아니면 근무일로 간주)\n",
    "- weather : 날씨(1맑음, 2옅은 안개 및 약간 흐림, 3약간의 눈이나 비 천둥번개와 흐림, 4폭우와 천둥번개 및 눈 짙은 안개)\n",
    "- temp : 실제 온도\n",
    "- atemp : 체감 온도\n",
    "- humidity : 상대 습도\n",
    "- windspeed : 풍속\n",
    "--------------------------\n",
    "#### train 데이터에만 존재하는 feature\n",
    "- casual : 등록되지 않은 사용자(비회원) 대여 수량\n",
    "- registered : 등록된 사용자(회원) 대여 수량\n",
    "\n",
    "#### 예측해야 할 타깃값\n",
    "- count : 자전거 대여 수량 (회원 + 비회원)"
   ]
  },
  {
   "cell_type": "code",
   "id": "ab89368f",
   "metadata": {
    "ExecuteTime": {
     "end_time": "2024-05-22T05:55:55.297752Z",
     "start_time": "2024-05-22T05:55:55.294537Z"
    }
   },
   "source": [
    "train.columns"
   ],
   "execution_count": 6,
   "outputs": []
  },
  {
   "cell_type": "code",
   "id": "2ec9044f",
   "metadata": {
    "ExecuteTime": {
     "end_time": "2024-05-22T05:55:55.300750Z",
     "start_time": "2024-05-22T05:55:55.298415Z"
    }
   },
   "source": [
    "# 예측에 필요없는 변수 제거\n",
    "train.drop(['datetime','minute','second','casual','registered'], axis=1, inplace=True)"
   ],
   "execution_count": 7,
   "outputs": []
  },
  {
   "cell_type": "code",
   "id": "b5ca5a4a",
   "metadata": {
    "ExecuteTime": {
     "end_time": "2024-05-22T05:55:55.310837Z",
     "start_time": "2024-05-22T05:55:55.302158Z"
    }
   },
   "source": [
    "train.head()"
   ],
   "execution_count": 8,
   "outputs": []
  },
  {
   "cell_type": "markdown",
   "id": "e052d3a1",
   "metadata": {},
   "source": [
    "#### 날씨 관련 수치형(연속형) 데이터 (temp, atemp, humidity, windspeed)\n",
    "  - 이상치 파악"
   ]
  },
  {
   "cell_type": "code",
   "id": "b8e28b88",
   "metadata": {
    "ExecuteTime": {
     "end_time": "2024-05-22T05:55:55.320026Z",
     "start_time": "2024-05-22T05:55:55.311602Z"
    }
   },
   "source": [
    "numerical = ['temp','atemp', 'humidity', 'windspeed']\n",
    "train[numerical].describe()"
   ],
   "execution_count": 9,
   "outputs": []
  },
  {
   "cell_type": "markdown",
   "id": "871ab741",
   "metadata": {},
   "source": [
    "- humidity와 windspeed의 데이터에서 최솟값으로 0이 있는데, 이것이 실제로 가능한 수치인지 생각해 볼 필요가 있다.\n",
    "- 체감온도와 실제온도는 관련성이 높은 feature로 보이기에 두 데이터 간의 차이가 너무 크다면 이 또한 이상치로 보아야할 것이다."
   ]
  },
  {
   "cell_type": "markdown",
   "id": "b28ec915",
   "metadata": {},
   "source": [
    "#### 분포 파악"
   ]
  },
  {
   "cell_type": "code",
   "id": "712793ef",
   "metadata": {
    "ExecuteTime": {
     "end_time": "2024-05-22T05:55:55.908349Z",
     "start_time": "2024-05-22T05:55:55.320728Z"
    }
   },
   "source": [
    "# 4개의 feature에 대한 distplot 그리기\n",
    "plt.figure(figsize=(12, 4))\n",
    "for i, feature in enumerate(numerical):\n",
    "    plt.subplot(1, 4, i + 1)\n",
    "    sns.distplot(train[feature], kde=True)\n",
    "    plt.title(feature)"
   ],
   "execution_count": 10,
   "outputs": []
  },
  {
   "cell_type": "code",
   "id": "74265650",
   "metadata": {
    "ExecuteTime": {
     "end_time": "2024-05-22T05:55:56.344171Z",
     "start_time": "2024-05-22T05:55:55.909246Z"
    }
   },
   "source": [
    "from scipy import stats\n",
    "\n",
    "# 4개의 feature에 대한 qqplot 그리기\n",
    "plt.figure(figsize=(12, 4))\n",
    "for i, feature in enumerate(numerical):\n",
    "    plt.subplot(1, 4, i + 1)\n",
    "    stats.probplot(train[feature], dist=\"norm\", plot=plt)\n",
    "    plt.title(feature)"
   ],
   "execution_count": 11,
   "outputs": []
  },
  {
   "cell_type": "markdown",
   "id": "bdaf6a45",
   "metadata": {},
   "source": [
    "- 풍속(windspeed)의 경우 왼쪽으로 치우쳐져 있는 것을 볼 수 있다.\n",
    "- 로그 변환을 고려해볼 필요가 있다.\n",
    "- 풍속(windspeed)은 0이 될 수 없으므로 사실상 이상치라 볼 수 있고 이를 다른 값으로 대체해 주는 것이 바람직 해 보인다."
   ]
  },
  {
   "cell_type": "markdown",
   "id": "e0adf4bc",
   "metadata": {},
   "source": [
    "### 수치형 데이터의 상관관계 파악\n",
    "- 온도와 체감온도에 대한 산점도"
   ]
  },
  {
   "cell_type": "code",
   "id": "ac960692",
   "metadata": {
    "ExecuteTime": {
     "end_time": "2024-05-22T05:55:56.445283Z",
     "start_time": "2024-05-22T05:55:56.344913Z"
    }
   },
   "source": [
    "# 온도와 체감 온도에 대한 산점도 그리기\n",
    "plt.scatter(train['temp'], train['atemp'])\n",
    "plt.xlabel('Temperature')\n",
    "plt.ylabel('Apparent Temperature')\n",
    "plt.show()"
   ],
   "execution_count": 12,
   "outputs": []
  },
  {
   "cell_type": "markdown",
   "id": "17277a98",
   "metadata": {},
   "source": [
    "- 온도와 체감온도가 상당히 차이가 많이 나는 데이터 확인 후 이상치 처리를 해볼 것이다.\n",
    "- 유독 차이가 많이 나는 부분이 체감온도가 하나의 값인 것으로 보아 기록시 나타난 이상치로 보인다"
   ]
  },
  {
   "cell_type": "markdown",
   "id": "9ebbd0a4",
   "metadata": {},
   "source": [
    "### 이상치 처리\n",
    "- 실제온도 / 체감온도의 비율로 이상치를 파악해보았다.\n",
    "- 이 비율이 2를 넘어가면 이상치로 처리해주었다"
   ]
  },
  {
   "cell_type": "code",
   "id": "71a40832",
   "metadata": {
    "ExecuteTime": {
     "end_time": "2024-05-22T05:55:56.448923Z",
     "start_time": "2024-05-22T05:55:56.446058Z"
    }
   },
   "source": [
    "train.loc[train['temp'] / train['atemp'] > 2,'atemp_out'] = 1\n",
    "train.atemp_out.fillna(0, inplace=True)"
   ],
   "execution_count": 13,
   "outputs": []
  },
  {
   "cell_type": "code",
   "id": "1d79e9d7",
   "metadata": {
    "ExecuteTime": {
     "end_time": "2024-05-22T05:55:56.689179Z",
     "start_time": "2024-05-22T05:55:56.454090Z"
    }
   },
   "source": [
    "sns.scatterplot(data=train, x='temp', y='atemp', hue='atemp_out')\n",
    "plt.xlabel('Temperature')\n",
    "plt.ylabel('Apparent Temperature')\n",
    "plt.show()"
   ],
   "execution_count": 14,
   "outputs": []
  },
  {
   "cell_type": "code",
   "id": "4784225c",
   "metadata": {
    "ExecuteTime": {
     "end_time": "2024-05-22T05:55:56.703050Z",
     "start_time": "2024-05-22T05:55:56.689969Z"
    }
   },
   "source": [
    "train[train.atemp_out == 1]"
   ],
   "execution_count": 15,
   "outputs": []
  },
  {
   "cell_type": "markdown",
   "id": "685430fd",
   "metadata": {},
   "source": [
    "- 데이터를 확인해보니 2012년 08월 17일의 체감온도가 12.12로 일정하게 잘 못 기록된 것으로 보인다.\n",
    "- 랜덤 포레스트를 활용하여 이상치를 보간해 주었다."
   ]
  },
  {
   "cell_type": "code",
   "id": "fbd92fb4",
   "metadata": {
    "ExecuteTime": {
     "end_time": "2024-05-22T05:55:58.004269Z",
     "start_time": "2024-05-22T05:55:56.704094Z"
    }
   },
   "source": [
    "from sklearn.ensemble import RandomForestRegressor\n",
    "# atemp_out이 1인 데이터의 인덱스를 추출\n",
    "index_outlier = train[train['atemp_out'] == 1].index\n",
    "\n",
    "# atemp_out이 0인 데이터를 학습 데이터로 사용\n",
    "X_train = train[train['atemp_out'] == 0][['temp', 'humidity', 'windspeed','month','hour']]\n",
    "y_train = train[train['atemp_out'] == 0]['atemp']\n",
    "\n",
    "# 랜덤 포레스트 모델 생성\n",
    "model = RandomForestRegressor()\n",
    "\n",
    "# 모델 학습\n",
    "model.fit(X_train, y_train)\n",
    "\n",
    "# atemp_out이 1인 데이터의 온도, 습도, 풍속을 사용하여 체감온도 예측\n",
    "y_pred = model.predict(train[train['atemp_out'] == 1][['temp', 'humidity', 'windspeed','month','hour']])\n",
    "\n",
    "# 예측한 체감온도를 train 데이터에 업데이트\n",
    "train.loc[index_outlier, 'atemp'] = y_pred"
   ],
   "execution_count": 16,
   "outputs": []
  },
  {
   "cell_type": "code",
   "id": "6aa9c3bb",
   "metadata": {
    "ExecuteTime": {
     "end_time": "2024-05-22T05:55:58.009833Z",
     "start_time": "2024-05-22T05:55:58.005107Z"
    }
   },
   "source": [
    "y_pred"
   ],
   "execution_count": 17,
   "outputs": []
  },
  {
   "cell_type": "code",
   "id": "c6cb3549",
   "metadata": {
    "ExecuteTime": {
     "end_time": "2024-05-22T05:55:58.285288Z",
     "start_time": "2024-05-22T05:55:58.012047Z"
    }
   },
   "source": [
    "sns.scatterplot(data=train, x='temp', y='atemp', hue='atemp_out')\n",
    "plt.xlabel('Temperature')\n",
    "plt.ylabel('Apparent Temperature')\n",
    "plt.show()"
   ],
   "execution_count": 18,
   "outputs": []
  },
  {
   "cell_type": "code",
   "id": "ae4a712e",
   "metadata": {
    "ExecuteTime": {
     "end_time": "2024-05-22T05:55:58.288416Z",
     "start_time": "2024-05-22T05:55:58.286032Z"
    }
   },
   "source": [
    "# atemp_out 열을 삭제\n",
    "train.drop('atemp_out', axis=1, inplace=True)"
   ],
   "execution_count": 19,
   "outputs": []
  },
  {
   "cell_type": "markdown",
   "id": "77430ba4",
   "metadata": {},
   "source": [
    "### 다른 변수 간의 산점도\n",
    "- 습도와 체감온도, 체감온도와 풍속, 습도와 풍속 등 일반적으로 관계가 있을 것이라 알려진 데이터 들의 관계를 파악해보고자 scatterplot을 확인해보았다\n",
    "- 크게 관계는 없어보이나 풍속이 0인 경우가 있는데 이는 실제로 가능한 수치가 아니므로 확인해보아야할 것 같다"
   ]
  },
  {
   "cell_type": "code",
   "id": "058528ff",
   "metadata": {
    "ExecuteTime": {
     "end_time": "2024-05-22T05:55:58.634113Z",
     "start_time": "2024-05-22T05:55:58.289055Z"
    }
   },
   "source": [
    "plt.figure(figsize=(12, 4))\n",
    "plt.subplot(1, 3, 1)\n",
    "sns.scatterplot(data=train, x='humidity', y='atemp')\n",
    "plt.xlabel('Humidity')\n",
    "plt.ylabel('Apparent Temperature')\n",
    "\n",
    "plt.subplot(1, 3, 2)\n",
    "sns.scatterplot(data=train, x='windspeed', y='atemp')\n",
    "plt.xlabel('Windspeed')\n",
    "plt.ylabel('Apparent Temperature')\n",
    "\n",
    "plt.subplot(1, 3, 3)\n",
    "sns.scatterplot(data=train, x='humidity', y='windspeed')\n",
    "plt.xlabel('Humidity')\n",
    "plt.ylabel('Windspeed')\n",
    "\n",
    "plt.tight_layout()\n",
    "plt.show()"
   ],
   "execution_count": 20,
   "outputs": []
  },
  {
   "cell_type": "markdown",
   "id": "d5a6fa62",
   "metadata": {},
   "source": [
    "### 풍속 0인 데이터 처리"
   ]
  },
  {
   "cell_type": "code",
   "id": "956ccd9a",
   "metadata": {
    "scrolled": false,
    "ExecuteTime": {
     "end_time": "2024-05-22T05:55:58.644450Z",
     "start_time": "2024-05-22T05:55:58.634908Z"
    }
   },
   "source": [
    "train[train.windspeed == 0]"
   ],
   "execution_count": 21,
   "outputs": []
  },
  {
   "cell_type": "markdown",
   "id": "29f5a712",
   "metadata": {},
   "source": [
    "- 풍속이 0인 데이터는 1313개로 상당히 많아서 제거하기에는 너무 큰 숫자로 보인다\n",
    "- 좀 더 자세한 분석을 통해 처리 방법을 고려해보자"
   ]
  },
  {
   "cell_type": "code",
   "id": "dcae4c2c",
   "metadata": {
    "ExecuteTime": {
     "end_time": "2024-05-22T05:55:58.881943Z",
     "start_time": "2024-05-22T05:55:58.645132Z"
    }
   },
   "source": "sns.countplot(x='windspeed', data=train)",
   "execution_count": 22,
   "outputs": []
  },
  {
   "metadata": {},
   "cell_type": "markdown",
   "source": "- 이 그래프를 통해 windspeed의 값이 이산적으로 나눠져 있는 것을 볼 수 있다",
   "id": "ef4a29caecfb1cc8"
  },
  {
   "cell_type": "code",
   "id": "acf140ed",
   "metadata": {
    "scrolled": true,
    "ExecuteTime": {
     "end_time": "2024-05-22T05:55:58.886907Z",
     "start_time": "2024-05-22T05:55:58.882833Z"
    }
   },
   "source": [
    "train.windspeed.describe()"
   ],
   "execution_count": 23,
   "outputs": []
  },
  {
   "cell_type": "code",
   "id": "3517b7f3",
   "metadata": {
    "scrolled": true,
    "ExecuteTime": {
     "end_time": "2024-05-22T05:55:58.890015Z",
     "start_time": "2024-05-22T05:55:58.887538Z"
    }
   },
   "source": [
    "train.windspeed.nunique()"
   ],
   "execution_count": 24,
   "outputs": []
  },
  {
   "metadata": {},
   "cell_type": "markdown",
   "source": "- '풍속'이 unique 값이 28개 밖에 안되는 것으로 보아 이산적으로 어떤 기준에 따라 나눠진 것 임을 예측할 수 있고, 0은 단순히 0이 아니라 6 미만 정도로 해석이 가능하다",
   "id": "98a8d9ccc11b42b0"
  },
  {
   "cell_type": "code",
   "id": "101cb448",
   "metadata": {
    "scrolled": true,
    "ExecuteTime": {
     "end_time": "2024-05-22T05:55:58.894412Z",
     "start_time": "2024-05-22T05:55:58.891348Z"
    }
   },
   "source": [
    "train.windspeed.unique()"
   ],
   "execution_count": 25,
   "outputs": []
  },
  {
   "cell_type": "code",
   "id": "16f8cff7",
   "metadata": {
    "scrolled": true,
    "ExecuteTime": {
     "end_time": "2024-05-22T05:55:58.899196Z",
     "start_time": "2024-05-22T05:55:58.895052Z"
    }
   },
   "source": [
    "train.windspeed.value_counts().sort_index()"
   ],
   "execution_count": 26,
   "outputs": []
  },
  {
   "cell_type": "markdown",
   "id": "6adaa0e5",
   "metadata": {},
   "source": [
    "- 풍속 데이터를 확인해보니 linear 한 형태가 아니라 ordinal한 형태를 띄고 있음을 볼 수 있었다."
   ]
  },
  {
   "cell_type": "markdown",
   "id": "4a50b6be",
   "metadata": {},
   "source": [
    "### 범주형 데이터 분석\n",
    "- season 데이터는 범주형 데이터이지만 날씨의 특성상 여름, 봄, 가을, 겨울 순으로 온도가 낮아지기에 이를 순서형으로도 볼 수 있다. 데이터 분석을 통해 단순 명목형으로 볼 것인지 혹은 순서형으로 변환해 볼지 고민해 볼 계정이다.\n",
    "- weather 데이터는 1은 맑은 날씨고 4로 갈수록 자전거 타기 어려운 날씨로 보여진다.\n",
    "  - 따라서 순서형 데이터로 생각하고 데이터를 분석할 예정이다.\n",
    "- 시각화 시 의미가 잘 드러나도록 문자열로 바꾸고 진행한다."
   ]
  },
  {
   "cell_type": "code",
   "id": "f803bd1a",
   "metadata": {
    "ExecuteTime": {
     "end_time": "2024-05-22T05:55:59.340106Z",
     "start_time": "2024-05-22T05:55:58.899892Z"
    }
   },
   "source": [
    "fig, axes = plt.subplots(1, 3, figsize=(15, 5))\n",
    "\n",
    "# holiday\n",
    "sns.countplot(x='holiday', data=train, ax=axes[0])\n",
    "axes[0].set_title('Holiday')\n",
    "axes[0].set_xticklabels(['No Holiday', 'Holiday'])\n",
    "for p in axes[0].patches:\n",
    "    axes[0].annotate(format(p.get_height(), '.0f'), (p.get_x() + p.get_width() / 2., p.get_height()), ha = 'center', va = 'center', xytext = (0, 10), textcoords = 'offset points')\n",
    "\n",
    "# workingday\n",
    "sns.countplot(x='workingday', data=train, ax=axes[1])\n",
    "axes[1].set_title('Working Day')\n",
    "axes[1].set_xticklabels(['No Workingday', 'Workingday'])\n",
    "for p in axes[1].patches:\n",
    "    axes[1].annotate(format(p.get_height(), '.0f'), (p.get_x() + p.get_width() / 2., p.get_height()), ha = 'center', va = 'center', xytext = (0, 10), textcoords = 'offset points')\n",
    "\n",
    "# weather\n",
    "sns.countplot(x='weather', data=train, ax=axes[2])\n",
    "axes[2].set_title('Weather')\n",
    "axes[2].set_xticklabels(['Clear', 'Mist, Few clouds', 'Light Snow, Rain, Thunderstorm', 'Heavy Rain, Thunderstorm, Snow, Fog'])\n",
    "axes[2].set_xticklabels(['Clear', 'Mist, Few clouds', 'Light Snow, Rain, Thunderstorm', 'Heavy Rain, Thunderstorm, Snow, Fog'], rotation=15)\n",
    "for p in axes[2].patches:\n",
    "    axes[2].annotate(format(p.get_height(), '.0f'), (p.get_x() + p.get_width() / 2., p.get_height()), ha = 'center', va = 'center', xytext = (0, 10), textcoords = 'offset points')\n",
    "\n",
    "plt.tight_layout()\n",
    "plt.show()\n"
   ],
   "execution_count": 27,
   "outputs": []
  },
  {
   "cell_type": "code",
   "id": "aebc6f1d",
   "metadata": {
    "scrolled": true,
    "ExecuteTime": {
     "end_time": "2024-05-22T05:55:59.613129Z",
     "start_time": "2024-05-22T05:55:59.342927Z"
    }
   },
   "source": [
    "stats.probplot(train['count'], dist=\"norm\", plot=plt)"
   ],
   "execution_count": 28,
   "outputs": []
  },
  {
   "cell_type": "markdown",
   "id": "49df6d20",
   "metadata": {},
   "source": [
    "- 분포가 왼쪽으로 많이 편향되어있는 것을 볼 수 있음.\n",
    "- 회귀 모델이 좋은 성능을 내려면 데이터가 정규분포를 따라야 함\n",
    "- 현재 타깃값인 count는 정규분포를 따르지 않아 현재 타깃값을 그대로 사용해 모델링하면 좋은 성능 기대 어려움\n",
    "- 이에 따라 데이터 분포를 정규분포에 가깝게 만들기 위해 로그변환을 하고자 한다"
   ]
  },
  {
   "cell_type": "code",
   "id": "e02b43da",
   "metadata": {
    "ExecuteTime": {
     "end_time": "2024-05-22T05:55:59.615782Z",
     "start_time": "2024-05-22T05:55:59.613879Z"
    }
   },
   "source": [
    "import numpy as np"
   ],
   "execution_count": 29,
   "outputs": []
  },
  {
   "cell_type": "code",
   "id": "9ae999ff",
   "metadata": {
    "scrolled": true,
    "ExecuteTime": {
     "end_time": "2024-05-22T05:55:59.621594Z",
     "start_time": "2024-05-22T05:55:59.617083Z"
    }
   },
   "source": [
    "stats.probplot(np.log1p(train['count']), dist=\"norm\")"
   ],
   "execution_count": 30,
   "outputs": []
  },
  {
   "cell_type": "markdown",
   "id": "58d0a7e1",
   "metadata": {},
   "source": [
    "###  타겟값과 범주형 변수 간의 관계"
   ]
  },
  {
   "cell_type": "code",
   "id": "6da55241",
   "metadata": {
    "ExecuteTime": {
     "end_time": "2024-05-22T05:56:00.566185Z",
     "start_time": "2024-05-22T05:55:59.622325Z"
    }
   },
   "source": [
    "fig, axes = plt.subplots(nrows=2,ncols=2)\n",
    "fig.set_size_inches(12, 10)\n",
    "sns.boxplot(data=train, y=\"count\", orient=\"v\",ax=axes[0][0])\n",
    "sns.boxplot(data=train, y=\"count\", x=\"season\",orient=\"v\",ax=axes[0][1])\n",
    "sns.boxplot(data=train, y=\"count\", x=\"hour\",orient=\"v\",ax=axes[1][0])\n",
    "sns.boxplot(data=train, y=\"count\", x=\"workingday\",orient=\"v\",ax=axes[1][1])\n",
    "\n",
    "axes[0][0].set(ylabel='Count',title=\"Box Plot On Count\")\n",
    "axes[0][1].set(xlabel='Season', ylabel='Count',title=\"Box Plot On Count Across Season\")\n",
    "axes[1][0].set(xlabel='Hour Of The Day', ylabel='Count',title=\"Box Plot On Count Across Hour Of The Day\")\n",
    "axes[1][1].set(xlabel='Working Day', ylabel='Count',title=\"Box Plot On Count Across Working Day\")"
   ],
   "execution_count": 31,
   "outputs": []
  },
  {
   "cell_type": "markdown",
   "id": "1dfc6978",
   "metadata": {},
   "source": [
    "- 계절(Season) : 대여량의 중앙값을 비교해보면, 계절의 따른 대여량 차이에는 봄이 다른 계절에 비해 대여량이 낮은 것으로 보인다.\n",
    "- 시간대(Hour of the Day) : 대여량의 중앙값을 비교해보면, 아침 7-9시, 저녁 5-6시 시간대에 대여량이 다른 시간대에 비해 상당히 많음을 볼 수 있다. 이는 출퇴근 시간대에 자전거를 이용하여 대여량이 많은 것으로 유추할 수 있다.\n",
    "- 이에 대한 증거로, 대부분의 이상치 값(대여량이 높은 데이터)들은 평일에 분포되어 있음을 볼 수 있다."
   ]
  },
  {
   "cell_type": "code",
   "id": "987ca04b",
   "metadata": {
    "ExecuteTime": {
     "end_time": "2024-05-22T05:56:02.432630Z",
     "start_time": "2024-05-22T05:56:00.570645Z"
    }
   },
   "source": [
    "figure, axes = plt.subplots(nrows=1, ncols=3)\n",
    "plt.tight_layout() # 그래프 사이에 여백 확보\n",
    "figure.set_size_inches(10, 3) # 전체 Figure 크기를 10x3인치로 설정\n",
    "\n",
    "sns.barplot(x='year', y='count', data=train, ax=axes[0]) # ax 파라미터에는 AxesSubplot 객체를 전달\n",
    "sns.barplot(x='month', y='count', data=train, ax=axes[1]) # 0행 0열의 축부터 2행 1열의 축까지 순서대로 전달\n",
    "sns.barplot(x='hour', y='count', data=train, ax=axes[2])\n",
    "\n",
    "axes[0].set(title='Rental amounts by year')\n",
    "axes[1].set(title='Rental amounts by month')\n",
    "axes[2].set(title='Rental amounts by hour')\n",
    "\n",
    "axes[0].tick_params(axis='x', labelrotation=45)\n",
    "axes[1].tick_params(axis='x', labelrotation=90)"
   ],
   "execution_count": 32,
   "outputs": []
  },
  {
   "cell_type": "code",
   "id": "03d177ec",
   "metadata": {
    "ExecuteTime": {
     "end_time": "2024-05-22T05:56:02.541509Z",
     "start_time": "2024-05-22T05:56:02.433543Z"
    }
   },
   "source": [
    "# Contingency Table 생성\n",
    "contingency_table = pd.crosstab(train['holiday'], train['workingday'])\n",
    "\n",
    "print(\"Contingency Table:\")\n",
    "# 시각화\n",
    "import seaborn as sns\n",
    "import matplotlib.pyplot as plt\n",
    "\n",
    "plt.figure(figsize=(8, 6))\n",
    "sns.heatmap(contingency_table, annot=True, cmap=\"YlGnBu\", fmt='g')\n",
    "\n",
    "plt.xlabel('Working Day')\n",
    "plt.ylabel('Holiday')\n",
    "plt.title('Contingency Table of Holiday vs Working Day')\n",
    "\n",
    "plt.show()"
   ],
   "execution_count": 33,
   "outputs": []
  },
  {
   "cell_type": "code",
   "id": "81090152",
   "metadata": {
    "ExecuteTime": {
     "end_time": "2024-05-22T05:56:02.544708Z",
     "start_time": "2024-05-22T05:56:02.542216Z"
    }
   },
   "source": [
    "# 0 : 휴일아닌 평일\n",
    "# 1 : 휴일아닌 주말\n",
    "# -1 : 휴일인 주말\n",
    "train['day_off'] = train.holiday * (-1) + train.workingday + 1"
   ],
   "execution_count": 34,
   "outputs": []
  },
  {
   "cell_type": "code",
   "id": "bde74250",
   "metadata": {
    "ExecuteTime": {
     "end_time": "2024-05-22T05:56:02.548181Z",
     "start_time": "2024-05-22T05:56:02.545456Z"
    }
   },
   "source": [
    "train.day_off.value_counts()"
   ],
   "execution_count": 35,
   "outputs": []
  },
  {
   "cell_type": "code",
   "id": "617996c6",
   "metadata": {
    "ExecuteTime": {
     "end_time": "2024-05-22T05:56:02.550860Z",
     "start_time": "2024-05-22T05:56:02.548798Z"
    }
   },
   "source": [
    "train.drop(['holiday','workingday'], axis=1, inplace=True)"
   ],
   "execution_count": 36,
   "outputs": []
  },
  {
   "cell_type": "markdown",
   "id": "f0dc402d",
   "metadata": {},
   "source": "### weather 변수"
  },
  {
   "cell_type": "code",
   "id": "a932b2f9",
   "metadata": {
    "ExecuteTime": {
     "end_time": "2024-05-22T05:56:02.651857Z",
     "start_time": "2024-05-22T05:56:02.551357Z"
    }
   },
   "source": "sns.countplot(x='weather', data = train)",
   "execution_count": 37,
   "outputs": []
  },
  {
   "cell_type": "code",
   "id": "a145d7bf",
   "metadata": {
    "ExecuteTime": {
     "end_time": "2024-05-22T05:56:02.655576Z",
     "start_time": "2024-05-22T05:56:02.652573Z"
    }
   },
   "source": [
    "train['weather'] = train['weather'].replace({4: 3})"
   ],
   "execution_count": 38,
   "outputs": []
  },
  {
   "cell_type": "code",
   "id": "da722e43",
   "metadata": {
    "ExecuteTime": {
     "end_time": "2024-05-22T05:56:02.663799Z",
     "start_time": "2024-05-22T05:56:02.656852Z"
    }
   },
   "source": [
    "# One-hot encoding for categorical variables\n",
    "train = pd.get_dummies(train, columns=['season', 'day_off','year', 'month', 'day','hour']) # weather은 1,2,3이 순서가 있다고 생각해서 그대로사용"
   ],
   "execution_count": 39,
   "outputs": []
  },
  {
   "cell_type": "code",
   "id": "7e442d44",
   "metadata": {
    "ExecuteTime": {
     "end_time": "2024-05-22T05:56:02.674732Z",
     "start_time": "2024-05-22T05:56:02.664973Z"
    }
   },
   "source": [
    "from sklearn.decomposition import PCA\n",
    "\n",
    "pca = PCA(n_components=1)\n",
    "train['temperature'] = pca.fit_transform(train[['temp', 'atemp']])"
   ],
   "execution_count": 40,
   "outputs": []
  },
  {
   "cell_type": "code",
   "id": "7c168ec6",
   "metadata": {
    "ExecuteTime": {
     "end_time": "2024-05-22T05:56:02.677790Z",
     "start_time": "2024-05-22T05:56:02.675479Z"
    }
   },
   "source": [
    "train.drop(['temp','atemp'], axis=1, inplace=True)"
   ],
   "execution_count": 41,
   "outputs": []
  },
  {
   "cell_type": "code",
   "id": "164b187f",
   "metadata": {
    "ExecuteTime": {
     "end_time": "2024-05-22T05:56:02.682996Z",
     "start_time": "2024-05-22T05:56:02.678337Z"
    }
   },
   "source": [
    "from sklearn.model_selection import train_test_split\n",
    "\n",
    "X_train, X_test, y_train, y_test = train_test_split(train.drop('count', axis=1), train['count'], test_size=0.2, random_state=123)\n",
    "\n",
    "print(f\"학습 데이터: {X_train.shape} 레이블: {y_train.shape}\")\n",
    "print(f\"테스트 데이터: {X_test.shape} 레이블: {y_test.shape}\")"
   ],
   "execution_count": 42,
   "outputs": []
  },
  {
   "cell_type": "code",
   "id": "f4fb700b",
   "metadata": {
    "ExecuteTime": {
     "end_time": "2024-05-22T05:56:02.686324Z",
     "start_time": "2024-05-22T05:56:02.683672Z"
    }
   },
   "source": [
    "X_train.columns"
   ],
   "execution_count": 43,
   "outputs": []
  },
  {
   "cell_type": "code",
   "id": "85032aab",
   "metadata": {
    "ExecuteTime": {
     "end_time": "2024-05-22T05:56:02.708659Z",
     "start_time": "2024-05-22T05:56:02.688901Z"
    }
   },
   "source": [
    "# scikit-learn 패키지의 MinMaxScaler 클래스를 불러옵니다.\n",
    "from sklearn.preprocessing import MinMaxScaler\n",
    "\n",
    "# MinMaxScaler 객체를 생성합니다.\n",
    "minmax_scaler = MinMaxScaler()\n",
    "\n",
    "# fit_transform()을 사용해서 학습과 스케일링을 한 번에 적용합니다.\n",
    "train_minmax = minmax_scaler.fit_transform(X_train)\n",
    "\n",
    "# Min-Max 스케일링이 완료된 데이터를 데이터프레임 형태로 변환합니다.\n",
    "train_minmax = pd.DataFrame(train_minmax, \n",
    "                            index=X_train.index, \n",
    "                            columns=X_train.columns)"
   ],
   "execution_count": 44,
   "outputs": []
  },
  {
   "cell_type": "code",
   "id": "7477fbde",
   "metadata": {
    "ExecuteTime": {
     "end_time": "2024-05-22T05:56:02.726008Z",
     "start_time": "2024-05-22T05:56:02.709452Z"
    }
   },
   "source": [
    "train_minmax"
   ],
   "execution_count": 45,
   "outputs": []
  },
  {
   "cell_type": "code",
   "id": "9920e5b0",
   "metadata": {
    "ExecuteTime": {
     "end_time": "2024-05-22T05:56:02.732172Z",
     "start_time": "2024-05-22T05:56:02.728163Z"
    }
   },
   "source": [
    "y_train = np.log1p(y_train)"
   ],
   "execution_count": 46,
   "outputs": []
  },
  {
   "cell_type": "code",
   "id": "7a8b7aee",
   "metadata": {
    "ExecuteTime": {
     "end_time": "2024-05-22T05:56:02.765420Z",
     "start_time": "2024-05-22T05:56:02.733119Z"
    }
   },
   "source": [
    "from sklearn.linear_model import LinearRegression\n",
    "\n",
    "# scikit-learn에서 제공하는 선형 회귀 모델\n",
    "lr_model = LinearRegression()\n",
    "\n",
    "# model을 x와 y 데이터셋을 이용하여 학습시킴\n",
    "lr_model.fit(train_minmax, y_train)"
   ],
   "execution_count": 47,
   "outputs": []
  },
  {
   "metadata": {},
   "cell_type": "markdown",
   "source": [
    "## (6) 학습된 모델로 X_test에 대한 예측값 출력 및 손실함수값 계산\n",
    "- 학습된 모델에 X_test를 입력해서 예측값 출력하기\n",
    "- 모델이 예측한 값과 정답 target 간의 손실함수 값 계산하기\n",
    "- mse 값과 함께 rmse 값도 계산하기"
   ],
   "id": "35e45dcfc4ddbacc"
  },
  {
   "metadata": {
    "ExecuteTime": {
     "end_time": "2024-05-22T05:56:02.775008Z",
     "start_time": "2024-05-22T05:56:02.767119Z"
    }
   },
   "cell_type": "code",
   "source": [
    "test_minmax = minmax_scaler.fit_transform(X_test)\n",
    "\n",
    "# model이 test 데이터에 대해 예측한 값을 array로 반환\n",
    "y_pred = lr_model.predict(test_minmax)\n",
    "y_pred = np.expm1(y_pred)"
   ],
   "id": "266c560b82c70902",
   "execution_count": 48,
   "outputs": []
  },
  {
   "metadata": {
    "ExecuteTime": {
     "end_time": "2024-05-22T05:56:02.777945Z",
     "start_time": "2024-05-22T05:56:02.775858Z"
    }
   },
   "cell_type": "code",
   "source": [
    "# 모델이 예측한 값과 정답 target 같의 손실함수 값 계산하기\n",
    "mse = ((y_pred - y_test) ** 2).mean()\n",
    "rmse = np.sqrt(mse)"
   ],
   "id": "d7ad19ec3b5f7498",
   "execution_count": 49,
   "outputs": []
  },
  {
   "metadata": {
    "ExecuteTime": {
     "end_time": "2024-05-22T05:56:02.780667Z",
     "start_time": "2024-05-22T05:56:02.778828Z"
    }
   },
   "cell_type": "code",
   "source": [
    "print(f'mse: {mse}')\n",
    "print(f'rmse: {rmse}')"
   ],
   "id": "64fd9402c03e83dc",
   "execution_count": 50,
   "outputs": []
  },
  {
   "metadata": {},
   "cell_type": "markdown",
   "source": [
    "## (7) x축은 temp 또는 humidity로, y축은 count로 예측 결과 시각화하기\n",
    "- x축에 X 데이터 중 temp 데이터를, y축에는 count 데이터를 넣어서 시각화하기\n",
    "- x축에 X 데이터 중 humidity 데이터를, y축에는 count 데이터를 넣어서 시각화하기"
   ],
   "id": "663a1df03a57bfd"
  },
  {
   "metadata": {
    "ExecuteTime": {
     "end_time": "2024-05-22T05:59:54.372974Z",
     "start_time": "2024-05-22T05:59:54.115976Z"
    }
   },
   "cell_type": "code",
   "source": [
    "plt.figure(figsize=(12, 4))\n",
    "plt.subplot(1, 2, 1)\n",
    "sns.scatterplot(data=train, x='humidity', y='count')\n",
    "plt.xlabel('Humidity')\n",
    "plt.ylabel('Count')\n",
    "\n",
    "plt.subplot(1, 2, 2)\n",
    "sns.scatterplot(data=train, x='temperature', y='count')\n",
    "plt.xlabel('Temperature')\n",
    "plt.ylabel('Count')\n",
    "\n",
    "plt.tight_layout()\n",
    "plt.show()"
   ],
   "id": "2425486f7e278cf2",
   "execution_count": 55,
   "outputs": []
  },
  {
   "metadata": {},
   "cell_type": "markdown",
   "source": "### 피처들의 회귀 계수 값을 확인",
   "id": "631dbd703603f5c1"
  },
  {
   "metadata": {
    "ExecuteTime": {
     "end_time": "2024-05-22T05:56:36.032610Z",
     "start_time": "2024-05-22T05:56:35.356022Z"
    }
   },
   "cell_type": "code",
   "source": [
    "plt.figure(figsize=(10, 6))\n",
    "coef = pd.Series(lr_model.coef_, index=X_train.columns)\n",
    "coef_sort = coef.sort_values(ascending=False)\n",
    "sns.barplot(y=coef_sort.values, x=coef_sort.index)\n",
    "plt.xticks(rotation=45, ha='right') # 글씨가 잘 보이도록 조정\n",
    "plt.xlabel('Feature')\n",
    "plt.ylabel('Coefficient Value')\n",
    "plt.title('Coefficient Values of Features')\n",
    "\n",
    "plt.tight_layout()"
   ],
   "id": "abc9fb55b46a106a",
   "execution_count": 52,
   "outputs": []
  },
  {
   "metadata": {},
   "cell_type": "markdown",
   "source": [
    "## 분석 정리 및 모델링 전략\n",
    "\n",
    "\n",
    "1. 파생 변수 생성\n",
    "> datetime에서 year, month, hour 변수를 추가\n",
    "\n",
    "2. 전처리\n",
    "> 이상치 처리\n",
    "> - weather가 4인 데이터를 3으로 합쳐준다\n",
    "> - atmp 변수에서 이상치 랜덤포레스트를 통해 보간\n",
    "> - windspeed가 0인 데이터를 분석 해보니 category 형태로 존재함\n",
    ">   - 어떻게 처리할까 고민후 그냥 두는 것으로 결정\n",
    "> - 인코딩\n",
    "    - 범주형 변수 원핫인코딩 수행\n",
    "\n",
    "3. 변수 선택\n",
    "> 체감온도와 실제온도는 다중공선성이 강하므로 pca를 통해 하나로 합쳐줌\n",
    "\n",
    "4. 타겟값 변환: 분포도 확인 결과, 타깃값인 count가 0 근처로 치우쳐져 있으므로 로그변환하여 정규분포에 가깝게 만들어야 한다.\n",
    "> -  타겟값을 count가 아닌 log1p(count)로 변환해 사용할 것이므로 마지막에 다시 지수변환해 count로 복원해야 함\n",
    "> - casual과 registered의 합이 count이므로 두 번의 예측 후 합을 통해 총 대여량 도출"
   ],
   "id": "95c3dac4052f8a94"
  },
  {
   "metadata": {},
   "cell_type": "markdown",
   "source": "## 회고, 정리",
   "id": "dc23e17c109d8124"
  },
  {
   "metadata": {},
   "cell_type": "markdown",
   "source": [
    "- 배운 점 : 자주 하던 데이터셋이라서 새로운 것이 없을 줄 알았는데, windspeed 관련해서 새로운 인사이트를 얻은 것 같아서 기분이 좋다\n",
    "- 아쉬운 점 : windspeed가 categorical 하다는 걸 알게 되었고, 이에 대한 고민을 더 해보지 못해서 아쉬웠다\n",
    "- 느낀 점 : modeling을 직접 하드코딩으로 하는 연습을 해야 겠다\n",
    "- 어려웠던 점 : windspeed 전처리에 대한 해결방안을 찾지못했다"
   ],
   "id": "16fdf9320712f7d"
  }
 ],
 "metadata": {
  "kernelspec": {
   "display_name": "Python 3 (ipykernel)",
   "language": "python",
   "name": "python3"
  },
  "language_info": {
   "codemirror_mode": {
    "name": "ipython",
    "version": 3
   },
   "file_extension": ".py",
   "mimetype": "text/x-python",
   "name": "python",
   "nbconvert_exporter": "python",
   "pygments_lexer": "ipython3",
   "version": "3.9.7"
  }
 },
 "nbformat": 4,
 "nbformat_minor": 5
}
