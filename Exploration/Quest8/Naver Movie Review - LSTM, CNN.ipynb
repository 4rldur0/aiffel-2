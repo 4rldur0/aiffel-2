{
 "cells": [
  {
   "cell_type": "markdown",
   "id": "28131f16",
   "metadata": {},
   "source": [
    "# 네이버 영화리뷰 감성 분석"
   ]
  },
  {
   "cell_type": "markdown",
   "id": "4a30228f",
   "metadata": {},
   "source": [
    "## 0) Import"
   ]
  },
  {
   "cell_type": "code",
   "execution_count": 1,
   "id": "7082edbd",
   "metadata": {},
   "outputs": [],
   "source": [
    "import pandas as pd\n",
    "import numpy as np\n",
    "import tensorflow as tf\n",
    "import matplotlib.pyplot as plt\n",
    "import seaborn as sns\n",
    "\n",
    "from collections import Counter\n",
    "from sklearn.model_selection import train_test_split\n",
    "\n",
    "from konlpy.tag import Komoran"
   ]
  },
  {
   "cell_type": "markdown",
   "id": "bcc8ca4d",
   "metadata": {},
   "source": [
    "## 1) 데이터 불러오기"
   ]
  },
  {
   "cell_type": "code",
   "execution_count": 2,
   "id": "82bb2671",
   "metadata": {},
   "outputs": [],
   "source": [
    "train = pd.read_table('~/aiffel/sentiment_classification/data/ratings_train.txt')\n",
    "test = pd.read_table('~/aiffel/sentiment_classification/data/ratings_test.txt')"
   ]
  },
  {
   "cell_type": "code",
   "execution_count": 3,
   "id": "33d3acf0",
   "metadata": {},
   "outputs": [
    {
     "data": {
      "text/html": [
       "<div>\n",
       "<style scoped>\n",
       "    .dataframe tbody tr th:only-of-type {\n",
       "        vertical-align: middle;\n",
       "    }\n",
       "\n",
       "    .dataframe tbody tr th {\n",
       "        vertical-align: top;\n",
       "    }\n",
       "\n",
       "    .dataframe thead th {\n",
       "        text-align: right;\n",
       "    }\n",
       "</style>\n",
       "<table border=\"1\" class=\"dataframe\">\n",
       "  <thead>\n",
       "    <tr style=\"text-align: right;\">\n",
       "      <th></th>\n",
       "      <th>id</th>\n",
       "      <th>document</th>\n",
       "      <th>label</th>\n",
       "    </tr>\n",
       "  </thead>\n",
       "  <tbody>\n",
       "    <tr>\n",
       "      <th>0</th>\n",
       "      <td>9976970</td>\n",
       "      <td>아 더빙.. 진짜 짜증나네요 목소리</td>\n",
       "      <td>0</td>\n",
       "    </tr>\n",
       "    <tr>\n",
       "      <th>1</th>\n",
       "      <td>3819312</td>\n",
       "      <td>흠...포스터보고 초딩영화줄....오버연기조차 가볍지 않구나</td>\n",
       "      <td>1</td>\n",
       "    </tr>\n",
       "    <tr>\n",
       "      <th>2</th>\n",
       "      <td>10265843</td>\n",
       "      <td>너무재밓었다그래서보는것을추천한다</td>\n",
       "      <td>0</td>\n",
       "    </tr>\n",
       "    <tr>\n",
       "      <th>3</th>\n",
       "      <td>9045019</td>\n",
       "      <td>교도소 이야기구먼 ..솔직히 재미는 없다..평점 조정</td>\n",
       "      <td>0</td>\n",
       "    </tr>\n",
       "    <tr>\n",
       "      <th>4</th>\n",
       "      <td>6483659</td>\n",
       "      <td>사이몬페그의 익살스런 연기가 돋보였던 영화!스파이더맨에서 늙어보이기만 했던 커스틴 ...</td>\n",
       "      <td>1</td>\n",
       "    </tr>\n",
       "  </tbody>\n",
       "</table>\n",
       "</div>"
      ],
      "text/plain": [
       "         id                                           document  label\n",
       "0   9976970                                아 더빙.. 진짜 짜증나네요 목소리      0\n",
       "1   3819312                  흠...포스터보고 초딩영화줄....오버연기조차 가볍지 않구나      1\n",
       "2  10265843                                  너무재밓었다그래서보는것을추천한다      0\n",
       "3   9045019                      교도소 이야기구먼 ..솔직히 재미는 없다..평점 조정      0\n",
       "4   6483659  사이몬페그의 익살스런 연기가 돋보였던 영화!스파이더맨에서 늙어보이기만 했던 커스틴 ...      1"
      ]
     },
     "execution_count": 3,
     "metadata": {},
     "output_type": "execute_result"
    }
   ],
   "source": [
    "train.head()"
   ]
  },
  {
   "cell_type": "code",
   "execution_count": 4,
   "id": "f990c0a8",
   "metadata": {},
   "outputs": [
    {
     "data": {
      "text/html": [
       "<div>\n",
       "<style scoped>\n",
       "    .dataframe tbody tr th:only-of-type {\n",
       "        vertical-align: middle;\n",
       "    }\n",
       "\n",
       "    .dataframe tbody tr th {\n",
       "        vertical-align: top;\n",
       "    }\n",
       "\n",
       "    .dataframe thead th {\n",
       "        text-align: right;\n",
       "    }\n",
       "</style>\n",
       "<table border=\"1\" class=\"dataframe\">\n",
       "  <thead>\n",
       "    <tr style=\"text-align: right;\">\n",
       "      <th></th>\n",
       "      <th>id</th>\n",
       "      <th>document</th>\n",
       "      <th>label</th>\n",
       "    </tr>\n",
       "  </thead>\n",
       "  <tbody>\n",
       "    <tr>\n",
       "      <th>0</th>\n",
       "      <td>6270596</td>\n",
       "      <td>굳 ㅋ</td>\n",
       "      <td>1</td>\n",
       "    </tr>\n",
       "    <tr>\n",
       "      <th>1</th>\n",
       "      <td>9274899</td>\n",
       "      <td>GDNTOPCLASSINTHECLUB</td>\n",
       "      <td>0</td>\n",
       "    </tr>\n",
       "    <tr>\n",
       "      <th>2</th>\n",
       "      <td>8544678</td>\n",
       "      <td>뭐야 이 평점들은.... 나쁘진 않지만 10점 짜리는 더더욱 아니잖아</td>\n",
       "      <td>0</td>\n",
       "    </tr>\n",
       "    <tr>\n",
       "      <th>3</th>\n",
       "      <td>6825595</td>\n",
       "      <td>지루하지는 않은데 완전 막장임... 돈주고 보기에는....</td>\n",
       "      <td>0</td>\n",
       "    </tr>\n",
       "    <tr>\n",
       "      <th>4</th>\n",
       "      <td>6723715</td>\n",
       "      <td>3D만 아니었어도 별 다섯 개 줬을텐데.. 왜 3D로 나와서 제 심기를 불편하게 하죠??</td>\n",
       "      <td>0</td>\n",
       "    </tr>\n",
       "  </tbody>\n",
       "</table>\n",
       "</div>"
      ],
      "text/plain": [
       "        id                                           document  label\n",
       "0  6270596                                                굳 ㅋ      1\n",
       "1  9274899                               GDNTOPCLASSINTHECLUB      0\n",
       "2  8544678             뭐야 이 평점들은.... 나쁘진 않지만 10점 짜리는 더더욱 아니잖아      0\n",
       "3  6825595                   지루하지는 않은데 완전 막장임... 돈주고 보기에는....      0\n",
       "4  6723715  3D만 아니었어도 별 다섯 개 줬을텐데.. 왜 3D로 나와서 제 심기를 불편하게 하죠??      0"
      ]
     },
     "execution_count": 4,
     "metadata": {},
     "output_type": "execute_result"
    }
   ],
   "source": [
    "test.head()"
   ]
  },
  {
   "cell_type": "code",
   "execution_count": 5,
   "id": "5beb3a07",
   "metadata": {},
   "outputs": [
    {
     "name": "stdout",
     "output_type": "stream",
     "text": [
      "train shape => (150000, 3) \n",
      "test shape => (50000, 3)\n"
     ]
    }
   ],
   "source": [
    "print(f\"train shape => {train.shape} \\ntest shape => {test.shape}\")"
   ]
  },
  {
   "cell_type": "code",
   "execution_count": 6,
   "id": "94ac8505",
   "metadata": {},
   "outputs": [
    {
     "data": {
      "text/plain": [
       "Index(['id', 'document', 'label'], dtype='object')"
      ]
     },
     "execution_count": 6,
     "metadata": {},
     "output_type": "execute_result"
    }
   ],
   "source": [
    "train.columns"
   ]
  },
  {
   "cell_type": "markdown",
   "id": "c13af04e",
   "metadata": {},
   "source": [
    "## 2) 훈련 데이터 라벨링 값 비율 확인"
   ]
  },
  {
   "cell_type": "code",
   "execution_count": 7,
   "id": "62a20598",
   "metadata": {},
   "outputs": [
    {
     "data": {
      "image/png": "[encoded data removed]",
      "text/plain": [
       "<Figure size 432x288 with 1 Axes>"
      ]
     },
     "metadata": {},
     "output_type": "display_data"
    }
   ],
   "source": [
    "sns.set_theme(style=\"darkgrid\")\n",
    "ax = sns.countplot(x=\"label\", data=train)"
   ]
  },
  {
   "cell_type": "code",
   "execution_count": 8,
   "id": "990562de",
   "metadata": {},
   "outputs": [
    {
     "data": {
      "image/png": "[encoded data removed]",
      "text/plain": [
       "<Figure size 360x360 with 1 Axes>"
      ]
     },
     "metadata": {},
     "output_type": "display_data"
    }
   ],
   "source": [
    "labels, frequencies = np.unique(train.label.values, return_counts=True)\n",
    "plt.figure(figsize=(5,5))\n",
    "plt.pie(frequencies, labels = labels, autopct= '%1.1f%%')\n",
    "plt.show()"
   ]
  },
  {
   "cell_type": "markdown",
   "id": "3429a0bc",
   "metadata": {},
   "source": [
    "## 3) 훈련, 테스트 데이터 결측치 값 확인"
   ]
  },
  {
   "cell_type": "code",
   "execution_count": 9,
   "id": "e058ac46",
   "metadata": {},
   "outputs": [
    {
     "data": {
      "text/plain": [
       "id          0\n",
       "document    5\n",
       "label       0\n",
       "dtype: int64"
      ]
     },
     "execution_count": 9,
     "metadata": {},
     "output_type": "execute_result"
    }
   ],
   "source": [
    "train.isnull().sum()"
   ]
  },
  {
   "cell_type": "code",
   "execution_count": 10,
   "id": "e6873505",
   "metadata": {},
   "outputs": [
    {
     "data": {
      "text/plain": [
       "id          0\n",
       "document    3\n",
       "label       0\n",
       "dtype: int64"
      ]
     },
     "execution_count": 10,
     "metadata": {},
     "output_type": "execute_result"
    }
   ],
   "source": [
    "test.isnull().sum()"
   ]
  },
  {
   "cell_type": "markdown",
   "id": "2c2b7e0f",
   "metadata": {},
   "source": [
    "## 4) 데이터 전처리\n",
    "- 데이터 중복제거(drop_duplicates)  \n",
    "- 결측치 제거(dropna)  \n",
    "- 한국어 토크나이저를 활용한 토큰화(Komoran)  \n",
    "- 불용어 제거(조사,구두점,접미사 종류)\n",
    "- Bag of Words, word to index, index to word 구현  \n",
    "- 문장 길이 분포와 적절 최대 문자 길이 지정  \n",
    "- 최대 문자 길이에 따른 패딩 추가(pad_sequences)"
   ]
  },
  {
   "cell_type": "code",
   "execution_count": 11,
   "id": "3e46f437",
   "metadata": {},
   "outputs": [],
   "source": [
    "from tqdm import tqdm, trange"
   ]
  },
  {
   "cell_type": "code",
   "execution_count": 12,
   "id": "fea22b06",
   "metadata": {},
   "outputs": [],
   "source": [
    "tokenizer = Komoran()\n",
    "\n",
    "def preprocess(train, test):\n",
    "    train.drop_duplicates(subset=['document'], inplace=True)\n",
    "    test.drop_duplicates(subset=['document'], inplace=True)\n",
    "    train = train.dropna()\n",
    "    test = test.dropna()\n",
    "    print(f\"train shape => {train.shape} \\ntest shape => {test.shape}\")\n",
    "    \n",
    "    train_tokenized = [[token+\"/\"+POS for token, POS in tokenizer.pos(doc_)] for doc_ in train['document']]\n",
    "    test_tokenized = [[token+\"/\"+POS for token, POS in tokenizer.pos(doc_)] for doc_ in test['document']]\n",
    "    \n",
    "    exclusion_tags = ['JKS', 'JKC', 'JKG', 'JKO', 'JKB', 'JKV', 'JKQ', 'JX', 'JC',\n",
    "                      'SF', 'SP', 'SS', 'SE', 'SO', 'EF', 'EP', 'EC', 'ETN', 'ETM',\n",
    "                      'XSN', 'XSV', 'XSA']\n",
    "    \n",
    "    f = lambda x: x in exclusion_tags\n",
    "    \n",
    "    X_train = []\n",
    "    for i in trange(len(train_tokenized)):\n",
    "        temp = []\n",
    "        for j in range(len(train_tokenized[i])):\n",
    "            if f(train_tokenized[i][j].split('/')[1]) is False:\n",
    "                temp.append(train_tokenized[i][j].split('/')[0])\n",
    "        X_train.append(temp)\n",
    "    \n",
    "    X_test = []\n",
    "    for i in trange(len(test_tokenized)):\n",
    "        temp = []\n",
    "        for j in range(len(test_tokenized[i])):\n",
    "            if f(test_tokenized[i][j].split('/')[1]) is False:\n",
    "                temp.append(test_tokenized[i][j].split('/')[0])\n",
    "        X_test.append(temp)\n",
    "    \n",
    "    words = np.concatenate(X_train).tolist()\n",
    "    counter = Counter(words)\n",
    "    counter = counter.most_common(30000-4)\n",
    "    vocab = ['<PAD>', '<BOS>', '<UNK>', '<UNUSED>'] + [key for key, _ in counter]\n",
    "    word_to_index = {word:index for index, word in enumerate(vocab)}\n",
    "    \n",
    "    def wordlist_to_indexlist(wordlist):\n",
    "        return [word_to_index[word] if word in word_to_index else word_to_index['<UNK>'] for word in wordlist]\n",
    "    \n",
    "    X_train = list(map(wordlist_to_indexlist, X_train))\n",
    "    X_test = list(map(wordlist_to_indexlist, X_test))\n",
    "    \n",
    "    return X_train, np.array(list(train['label'])), X_test, np.array(list(test['label'])), word_to_index"
   ]
  },
  {
   "cell_type": "code",
   "execution_count": 13,
   "id": "c176ef49",
   "metadata": {},
   "outputs": [
    {
     "name": "stdout",
     "output_type": "stream",
     "text": [
      "train shape => (146182, 3) \n",
      "test shape => (49157, 3)\n"
     ]
    },
    {
     "name": "stderr",
     "output_type": "stream",
     "text": [
      "100%|██████████| 146182/146182 [00:02<00:00, 52611.57it/s]\n",
      "100%|██████████| 49157/49157 [00:00<00:00, 58823.48it/s]\n"
     ]
    }
   ],
   "source": [
    "X_train, y_train, X_test, y_test, word_to_index = preprocess(train, test)"
   ]
  },
  {
   "cell_type": "code",
   "execution_count": 14,
   "id": "25ab7aad",
   "metadata": {},
   "outputs": [],
   "source": [
    "index_to_word = {index:word for word, index in word_to_index.items()}"
   ]
  },
  {
   "cell_type": "code",
   "execution_count": 78,
   "id": "b649fedc",
   "metadata": {},
   "outputs": [],
   "source": [
    "# 숫자 벡터로 encode된 문장을 원래대로 decode하는 함수입니다. \n",
    "def get_decoded_sentence(encoded_sentence, index_to_word):\n",
    "    return ' '.join(index_to_word[index] if index in index_to_word else '<UNK>' for index in encoded_sentence[1:])  #[1:]를 통해 <BOS>를 제외\n",
    "\n",
    "# 여러 개의 숫자 벡터로 encode된 문장을 한꺼번에 원래대로 decode하는 함수입니다. \n",
    "def get_decoded_sentences(encoded_sentences, index_to_word):\n",
    "    return [get_decoded_sentence(encoded_sentence, index_to_word) for encoded_sentence in encoded_sentences]"
   ]
  },
  {
   "cell_type": "code",
   "execution_count": 15,
   "id": "e063d193",
   "metadata": {},
   "outputs": [
    {
     "name": "stdout",
     "output_type": "stream",
     "text": [
      "토큰 길이 평균: 10.763011994532581\n",
      "토큰 길이 최대: 140\n",
      "토큰 길이 표준편차: 8.886926944778248\n",
      "설정 최대 길이: 28\n",
      "전체 문장의 0.9356554502685076%가 설정값인 28에 포함됩니다.\n"
     ]
    }
   ],
   "source": [
    "all_data = list(X_train)+list(X_test)\n",
    "\n",
    "num_tokens = [len(tokens) for tokens in all_data]\n",
    "num_tokens = np.array(num_tokens)\n",
    "\n",
    "# 평균값, 최댓값, 표준편차\n",
    "print(f\"토큰 길이 평균: {np.mean(num_tokens)}\")\n",
    "print(f\"토큰 길이 최대: {np.max(num_tokens)}\")\n",
    "print(f\"토큰 길이 표준편차: {np.std(num_tokens)}\")\n",
    "\n",
    "max_tokens = np.mean(num_tokens) + 2 * np.std(num_tokens)\n",
    "maxlen = int(max_tokens)\n",
    "print(f'설정 최대 길이: {maxlen}')\n",
    "print(f'전체 문장의 {np.sum(num_tokens < max_tokens) / len(num_tokens)}%가 설정값인 {maxlen}에 포함됩니다.')"
   ]
  },
  {
   "cell_type": "markdown",
   "id": "f1a04ba4",
   "metadata": {},
   "source": [
    "### max_len = 28이 아닌 임의 값을 정해 진행했습니다."
   ]
  },
  {
   "cell_type": "code",
   "execution_count": 16,
   "id": "4bf509de",
   "metadata": {},
   "outputs": [],
   "source": [
    "X_train = tf.keras.preprocessing.sequence.pad_sequences(X_train,\n",
    "                                                       padding='pre',\n",
    "                                                       value=word_to_index[\"<PAD>\"],\n",
    "                                                       maxlen=30)\n",
    "\n",
    "X_test = tf.keras.preprocessing.sequence.pad_sequences(X_test,\n",
    "                                                       padding='pre',\n",
    "                                                       value=word_to_index[\"<PAD>\"],\n",
    "                                                       maxlen=30)"
   ]
  },
  {
   "cell_type": "code",
   "execution_count": 17,
   "id": "4970568c",
   "metadata": {},
   "outputs": [
    {
     "name": "stdout",
     "output_type": "stream",
     "text": [
      "X_train 1번째 값 길이 : 30\n",
      "X_test 1번째 값 길이 : 30\n"
     ]
    }
   ],
   "source": [
    "print(f\"X_train 1번째 값 길이 : {len(X_train[0])}\\nX_test 1번째 값 길이 : {len(X_test[0])}\")"
   ]
  },
  {
   "cell_type": "markdown",
   "id": "ed934e28",
   "metadata": {},
   "source": [
    "# 모델 구성 및 validation set 구성"
   ]
  },
  {
   "cell_type": "markdown",
   "id": "be7912cb",
   "metadata": {},
   "source": [
    "    모델 선정 이유\n",
    "        - LSTM, Stacked LSTM, 1DConv\n",
    "        - 일반적으로 자연어 분류 모델에서 자주 사용하는 모델들을 선정하였다 \n",
    "    metrics 선정 이유\n",
    "        - 데이터 label의 분포가 거의 1:1로 분포하여 accuracy를 사용하였다  \n",
    "    loss 선정 이유\n",
    "        - 이진 분류 문제이므로 binary cross entropy가 적절하다"
   ]
  },
  {
   "cell_type": "code",
   "execution_count": 19,
   "id": "176d68c3",
   "metadata": {},
   "outputs": [],
   "source": [
    "X_train, X_val, y_train, y_val = train_test_split(X_train, y_train, test_size=0.2, shuffle=True,\n",
    "                                                  stratify=y_train, random_state=777)"
   ]
  },
  {
   "cell_type": "markdown",
   "id": "d33f398f",
   "metadata": {},
   "source": [
    "## 모델링 - LSTM"
   ]
  },
  {
   "cell_type": "code",
   "execution_count": 18,
   "id": "0a122558",
   "metadata": {},
   "outputs": [],
   "source": [
    "from tensorflow.keras.models import Sequential\n",
    "from tensorflow.keras.layers import Embedding, Dropout, Conv1D, GlobalMaxPooling1D, Dense\n",
    "from tensorflow.keras.callbacks import EarlyStopping, ModelCheckpoint\n",
    "from tensorflow.keras.models import load_model"
   ]
  },
  {
   "cell_type": "code",
   "execution_count": 20,
   "id": "1ede367a",
   "metadata": {
    "scrolled": true
   },
   "outputs": [
    {
     "name": "stdout",
     "output_type": "stream",
     "text": [
      "Model: \"sequential\"\n",
      "_________________________________________________________________\n",
      "Layer (type)                 Output Shape              Param #   \n",
      "=================================================================\n",
      "embedding (Embedding)        (None, None, 300)         3000000   \n",
      "_________________________________________________________________\n",
      "lstm (LSTM)                  (None, 8)                 9888      \n",
      "_________________________________________________________________\n",
      "dense (Dense)                (None, 1)                 9         \n",
      "=================================================================\n",
      "Total params: 3,009,897\n",
      "Trainable params: 3,009,897\n",
      "Non-trainable params: 0\n",
      "_________________________________________________________________\n"
     ]
    }
   ],
   "source": [
    "vocab_size = 10000\n",
    "word_vector_dim = 300\n",
    "\n",
    "model = tf.keras.Sequential()\n",
    "model.add(tf.keras.layers.Embedding(vocab_size, word_vector_dim, input_shape=(None,)))\n",
    "model.add(tf.keras.layers.LSTM(units=8))\n",
    "model.add(tf.keras.layers.Dense(1, activation='sigmoid'))\n",
    "\n",
    "# es = EarlyStopping(monitor='val_loss', mode='min', verbose=1, patience=3)\n",
    "mc = ModelCheckpoint('lstm_best_model.h5', monitor='val_accuracy', mode='max', verbose=1, save_best_only=True)\n",
    "\n",
    "model.compile(optimizer='adam', loss='binary_crossentropy', metrics=['accuracy'])\n",
    "model.summary()"
   ]
  },
  {
   "cell_type": "code",
   "execution_count": 21,
   "id": "3c9a41e8",
   "metadata": {},
   "outputs": [
    {
     "name": "stdout",
     "output_type": "stream",
     "text": [
      "Epoch 1/10\n",
      "3655/3655 [==============================] - 28s 6ms/step - loss: 0.3912 - accuracy: 0.8223 - val_loss: 0.3610 - val_accuracy: 0.8365\n",
      "\n",
      "Epoch 00001: val_accuracy improved from -inf to 0.83647, saving model to lstm_best_model.h5\n",
      "Epoch 2/10\n",
      "3655/3655 [==============================] - 25s 7ms/step - loss: 0.3094 - accuracy: 0.8642 - val_loss: 0.3540 - val_accuracy: 0.8420\n",
      "\n",
      "Epoch 00002: val_accuracy improved from 0.83647 to 0.84202, saving model to lstm_best_model.h5\n",
      "Epoch 3/10\n",
      "3655/3655 [==============================] - 24s 6ms/step - loss: 0.2650 - accuracy: 0.8868 - val_loss: 0.3728 - val_accuracy: 0.8385\n",
      "\n",
      "Epoch 00003: val_accuracy did not improve from 0.84202\n",
      "Epoch 4/10\n",
      "3655/3655 [==============================] - 23s 6ms/step - loss: 0.2278 - accuracy: 0.9038 - val_loss: 0.3982 - val_accuracy: 0.8349\n",
      "\n",
      "Epoch 00004: val_accuracy did not improve from 0.84202\n",
      "Epoch 5/10\n",
      "3655/3655 [==============================] - 21s 6ms/step - loss: 0.1980 - accuracy: 0.9182 - val_loss: 0.4386 - val_accuracy: 0.8326\n",
      "\n",
      "Epoch 00005: val_accuracy did not improve from 0.84202\n",
      "Epoch 6/10\n",
      "3655/3655 [==============================] - 22s 6ms/step - loss: 0.1735 - accuracy: 0.9297 - val_loss: 0.4702 - val_accuracy: 0.8300\n",
      "\n",
      "Epoch 00006: val_accuracy did not improve from 0.84202\n",
      "Epoch 7/10\n",
      "3655/3655 [==============================] - 22s 6ms/step - loss: 0.1539 - accuracy: 0.9381 - val_loss: 0.5171 - val_accuracy: 0.8270\n",
      "\n",
      "Epoch 00007: val_accuracy did not improve from 0.84202\n",
      "Epoch 8/10\n",
      "3655/3655 [==============================] - 22s 6ms/step - loss: 0.1375 - accuracy: 0.9451 - val_loss: 0.5530 - val_accuracy: 0.8255\n",
      "\n",
      "Epoch 00008: val_accuracy did not improve from 0.84202\n",
      "Epoch 9/10\n",
      "3655/3655 [==============================] - 22s 6ms/step - loss: 0.1267 - accuracy: 0.9503 - val_loss: 0.5895 - val_accuracy: 0.8253\n",
      "\n",
      "Epoch 00009: val_accuracy did not improve from 0.84202\n",
      "Epoch 10/10\n",
      "3655/3655 [==============================] - 22s 6ms/step - loss: 0.1167 - accuracy: 0.9541 - val_loss: 0.6115 - val_accuracy: 0.8193\n",
      "\n",
      "Epoch 00010: val_accuracy did not improve from 0.84202\n"
     ]
    }
   ],
   "source": [
    "history = model.fit(X_train, y_train, epochs=10, validation_data=(X_val, y_val), callbacks=[mc])"
   ]
  },
  {
   "cell_type": "code",
   "execution_count": 22,
   "id": "6e1f7ff4",
   "metadata": {},
   "outputs": [
    {
     "name": "stdout",
     "output_type": "stream",
     "text": [
      "1537/1537 [==============================] - 4s 3ms/step - loss: 0.5996 - accuracy: 0.8217\n",
      "[0.599583089351654, 0.8217141032218933]\n"
     ]
    }
   ],
   "source": [
    "predict = model.evaluate(X_test, y_test, verbose=1)\n",
    "print(predict)"
   ]
  },
  {
   "cell_type": "code",
   "execution_count": 52,
   "id": "07d63f16",
   "metadata": {},
   "outputs": [],
   "source": [
    "def draw_graph(history):\n",
    "    history_dict = history.history\n",
    "    acc = history_dict['accuracy']\n",
    "    val_acc = history_dict['val_accuracy']\n",
    "    loss = history_dict['loss']\n",
    "    val_loss = history_dict['val_loss']\n",
    "\n",
    "    epochs = range(1, len(acc) + 1)\n",
    "\n",
    "    plt.plot(epochs, loss, 'r', label='Training loss')\n",
    "    plt.plot(epochs, val_loss, 'b', label='Validation loss')\n",
    "    plt.title('Training and validation loss')\n",
    "    plt.xlabel('Epochs')\n",
    "    plt.ylabel('Loss')\n",
    "    plt.legend()\n",
    "\n",
    "    plt.show()"
   ]
  },
  {
   "cell_type": "code",
   "execution_count": 23,
   "id": "30ec967c",
   "metadata": {},
   "outputs": [
    {
     "name": "stdout",
     "output_type": "stream",
     "text": [
      "dict_keys(['loss', 'accuracy', 'val_loss', 'val_accuracy'])\n"
     ]
    }
   ],
   "source": [
    "history_dict = history.history\n",
    "print(history_dict.keys())"
   ]
  },
  {
   "cell_type": "code",
   "execution_count": 24,
   "id": "08af4ea7",
   "metadata": {},
   "outputs": [
    {
     "data": {
      "image/png": "[encoded data removed]",
      "text/plain": [
       "<Figure size 432x288 with 1 Axes>"
      ]
     },
     "metadata": {},
     "output_type": "display_data"
    }
   ],
   "source": [
    "acc = history_dict['accuracy']\n",
    "val_acc = history_dict['val_accuracy']\n",
    "loss = history_dict['loss']\n",
    "val_loss = history_dict['val_loss']\n",
    "\n",
    "epochs = range(1, len(acc) + 1)\n",
    "\n",
    "plt.plot(epochs, loss, 'r', label='Training loss')\n",
    "plt.plot(epochs, val_loss, 'b', label='Validation loss')\n",
    "plt.title('Training and validation loss')\n",
    "plt.xlabel('Epochs')\n",
    "plt.ylabel('Loss')\n",
    "plt.legend()\n",
    "\n",
    "plt.show()"
   ]
  },
  {
   "cell_type": "markdown",
   "id": "4519d408",
   "metadata": {},
   "source": [
    "## 모델링 - Stacked LSTM"
   ]
  },
  {
   "cell_type": "code",
   "execution_count": 25,
   "id": "bfe80dd6",
   "metadata": {},
   "outputs": [
    {
     "name": "stdout",
     "output_type": "stream",
     "text": [
      "Model: \"sequential_1\"\n",
      "_________________________________________________________________\n",
      "Layer (type)                 Output Shape              Param #   \n",
      "=================================================================\n",
      "embedding_1 (Embedding)      (None, None, 300)         3000000   \n",
      "_________________________________________________________________\n",
      "lstm_1 (LSTM)                (None, None, 8)           9888      \n",
      "_________________________________________________________________\n",
      "lstm_2 (LSTM)                (None, 16)                1600      \n",
      "_________________________________________________________________\n",
      "dense_1 (Dense)              (None, 1)                 17        \n",
      "=================================================================\n",
      "Total params: 3,011,505\n",
      "Trainable params: 3,011,505\n",
      "Non-trainable params: 0\n",
      "_________________________________________________________________\n"
     ]
    }
   ],
   "source": [
    "vocab_size = 10000\n",
    "word_vector_dim = 300\n",
    "\n",
    "model = tf.keras.Sequential()\n",
    "model.add(tf.keras.layers.Embedding(vocab_size, word_vector_dim, input_shape=(None,)))\n",
    "model.add(tf.keras.layers.LSTM(units=8, return_sequences = True))\n",
    "model.add(tf.keras.layers.LSTM(units=16, return_sequences = False))\n",
    "model.add(tf.keras.layers.Dense(1, activation='sigmoid'))\n",
    "\n",
    "es = EarlyStopping(monitor='val_loss', mode='min', verbose=1, patience=3)\n",
    "mc = ModelCheckpoint('stacked_lstm_best_model.h5', monitor='val_accuracy', mode='max', verbose=1, save_best_only=True)\n",
    "\n",
    "model.compile(optimizer='adam', loss='binary_crossentropy', metrics=['accuracy'])\n",
    "model.summary()"
   ]
  },
  {
   "cell_type": "code",
   "execution_count": 26,
   "id": "50a2ee7a",
   "metadata": {},
   "outputs": [
    {
     "name": "stdout",
     "output_type": "stream",
     "text": [
      "Epoch 1/20\n",
      "3655/3655 [==============================] - 37s 9ms/step - loss: 0.3916 - accuracy: 0.8192 - val_loss: 0.3581 - val_accuracy: 0.8393\n",
      "\n",
      "Epoch 00001: val_accuracy improved from -inf to 0.83935, saving model to stacked_lstm_best_model.h5\n",
      "Epoch 2/20\n",
      "3655/3655 [==============================] - 33s 9ms/step - loss: 0.3065 - accuracy: 0.8661 - val_loss: 0.3553 - val_accuracy: 0.8393\n",
      "\n",
      "Epoch 00002: val_accuracy did not improve from 0.83935\n",
      "Epoch 3/20\n",
      "3655/3655 [==============================] - 31s 8ms/step - loss: 0.2578 - accuracy: 0.8894 - val_loss: 0.3678 - val_accuracy: 0.8384\n",
      "\n",
      "Epoch 00003: val_accuracy did not improve from 0.83935\n",
      "Epoch 4/20\n",
      "3655/3655 [==============================] - 31s 8ms/step - loss: 0.2167 - accuracy: 0.9094 - val_loss: 0.4093 - val_accuracy: 0.8362\n",
      "\n",
      "Epoch 00004: val_accuracy did not improve from 0.83935\n",
      "Epoch 5/20\n",
      "3655/3655 [==============================] - 30s 8ms/step - loss: 0.1822 - accuracy: 0.9259 - val_loss: 0.4578 - val_accuracy: 0.8323\n",
      "\n",
      "Epoch 00005: val_accuracy did not improve from 0.83935\n",
      "Epoch 00005: early stopping\n"
     ]
    }
   ],
   "source": [
    "history = model.fit(X_train, y_train, epochs=20, validation_data=(X_val, y_val), callbacks=[es, mc])"
   ]
  },
  {
   "cell_type": "code",
   "execution_count": 27,
   "id": "81c4bc37",
   "metadata": {},
   "outputs": [
    {
     "name": "stdout",
     "output_type": "stream",
     "text": [
      "1537/1537 [==============================] - 5s 3ms/step - loss: 0.4502 - accuracy: 0.8349\n",
      "[0.450198233127594, 0.8348760008811951]\n"
     ]
    }
   ],
   "source": [
    "predict = model.evaluate(X_test, y_test, verbose=1)\n",
    "print(predict)"
   ]
  },
  {
   "cell_type": "code",
   "execution_count": 28,
   "id": "3c1c0e96",
   "metadata": {},
   "outputs": [
    {
     "name": "stdout",
     "output_type": "stream",
     "text": [
      "dict_keys(['loss', 'accuracy', 'val_loss', 'val_accuracy'])\n"
     ]
    }
   ],
   "source": [
    "history_dict = history.history\n",
    "print(history_dict.keys())"
   ]
  },
  {
   "cell_type": "code",
   "execution_count": 29,
   "id": "b02607be",
   "metadata": {},
   "outputs": [
    {
     "data": {
      "image/png": "[encoded data removed]",
      "text/plain": [
       "<Figure size 432x288 with 1 Axes>"
      ]
     },
     "metadata": {},
     "output_type": "display_data"
    }
   ],
   "source": [
    "acc = history_dict['accuracy']\n",
    "val_acc = history_dict['val_accuracy']\n",
    "loss = history_dict['loss']\n",
    "val_loss = history_dict['val_loss']\n",
    "\n",
    "epochs = range(1, len(acc) + 1)\n",
    "\n",
    "plt.plot(epochs, loss, 'r', label='Training loss')\n",
    "plt.plot(epochs, val_loss, 'b', label='Validation loss')\n",
    "plt.title('Training and validation loss')\n",
    "plt.xlabel('Epochs')\n",
    "plt.ylabel('Loss')\n",
    "plt.legend()\n",
    "\n",
    "plt.show()"
   ]
  },
  {
   "cell_type": "markdown",
   "id": "74cb213f",
   "metadata": {},
   "source": [
    "- overfitting ..."
   ]
  },
  {
   "cell_type": "markdown",
   "id": "59c7a220",
   "metadata": {},
   "source": [
    "### 모델링 - CNN"
   ]
  },
  {
   "cell_type": "code",
   "execution_count": 30,
   "id": "c12dfbde",
   "metadata": {},
   "outputs": [
    {
     "name": "stdout",
     "output_type": "stream",
     "text": [
      "Model: \"sequential_2\"\n",
      "_________________________________________________________________\n",
      "Layer (type)                 Output Shape              Param #   \n",
      "=================================================================\n",
      "embedding_2 (Embedding)      (None, None, 256)         2560000   \n",
      "_________________________________________________________________\n",
      "dropout (Dropout)            (None, None, 256)         0         \n",
      "_________________________________________________________________\n",
      "conv1d (Conv1D)              (None, None, 256)         196864    \n",
      "_________________________________________________________________\n",
      "global_max_pooling1d (Global (None, 256)               0         \n",
      "_________________________________________________________________\n",
      "dense_2 (Dense)              (None, 128)               32896     \n",
      "_________________________________________________________________\n",
      "dropout_1 (Dropout)          (None, 128)               0         \n",
      "_________________________________________________________________\n",
      "dense_3 (Dense)              (None, 1)                 129       \n",
      "=================================================================\n",
      "Total params: 2,789,889\n",
      "Trainable params: 2,789,889\n",
      "Non-trainable params: 0\n",
      "_________________________________________________________________\n"
     ]
    }
   ],
   "source": [
    "embedding_dim = 256 # 임베딩 벡터의 차원\n",
    "dropout_ratio = 0.5 # 드롭아웃 비율\n",
    "num_filters = 256 # 커널의 수\n",
    "kernel_size = 3 # 커널의 크기\n",
    "hidden_units = 128 # 뉴런의 수\n",
    "\n",
    "vocab_size = 10000\n",
    "word_vector_dim = 300\n",
    "\n",
    "model = Sequential()\n",
    "model.add(Embedding(vocab_size, embedding_dim))\n",
    "model.add(Dropout(dropout_ratio))\n",
    "model.add(Conv1D(num_filters, kernel_size, padding='valid', activation='relu'))\n",
    "model.add(GlobalMaxPooling1D())\n",
    "model.add(Dense(hidden_units, activation='relu'))\n",
    "model.add(Dropout(dropout_ratio))\n",
    "model.add(Dense(1, activation='sigmoid'))\n",
    "\n",
    "es = EarlyStopping(monitor='val_loss', mode='min', verbose=1, patience=3)\n",
    "mc = ModelCheckpoint('cnn_best_model.h5', monitor='val_acc', mode='max', verbose=1, save_best_only=True)\n",
    "\n",
    "model.compile(optimizer='adam', loss='binary_crossentropy', metrics=['acc'])\n",
    "model.summary()"
   ]
  },
  {
   "cell_type": "code",
   "execution_count": 31,
   "id": "2b1f4dc8",
   "metadata": {},
   "outputs": [
    {
     "name": "stdout",
     "output_type": "stream",
     "text": [
      "Epoch 1/20\n",
      "3655/3655 [==============================] - 22s 6ms/step - loss: 0.4096 - acc: 0.8114 - val_loss: 0.3612 - val_acc: 0.8361\n",
      "\n",
      "Epoch 00001: val_acc improved from -inf to 0.83613, saving model to cnn_best_model.h5\n",
      "Epoch 2/20\n",
      "3655/3655 [==============================] - 20s 5ms/step - loss: 0.3311 - acc: 0.8582 - val_loss: 0.3579 - val_acc: 0.8423\n",
      "\n",
      "Epoch 00002: val_acc improved from 0.83613 to 0.84229, saving model to cnn_best_model.h5\n",
      "Epoch 3/20\n",
      "3655/3655 [==============================] - 20s 5ms/step - loss: 0.2870 - acc: 0.8789 - val_loss: 0.3621 - val_acc: 0.8411\n",
      "\n",
      "Epoch 00003: val_acc did not improve from 0.84229\n",
      "Epoch 4/20\n",
      "3655/3655 [==============================] - 19s 5ms/step - loss: 0.2541 - acc: 0.8939 - val_loss: 0.3816 - val_acc: 0.8406\n",
      "\n",
      "Epoch 00004: val_acc did not improve from 0.84229\n",
      "Epoch 5/20\n",
      "3655/3655 [==============================] - 19s 5ms/step - loss: 0.2257 - acc: 0.9065 - val_loss: 0.3991 - val_acc: 0.8405\n",
      "\n",
      "Epoch 00005: val_acc did not improve from 0.84229\n",
      "Epoch 00005: early stopping\n"
     ]
    }
   ],
   "source": [
    "history = model.fit(X_train, y_train, epochs=20, validation_data=(X_val, y_val), callbacks=[es, mc])"
   ]
  },
  {
   "cell_type": "code",
   "execution_count": 33,
   "id": "d8dfc196",
   "metadata": {},
   "outputs": [
    {
     "name": "stdout",
     "output_type": "stream",
     "text": [
      "dict_keys(['loss', 'acc', 'val_loss', 'val_acc'])\n"
     ]
    }
   ],
   "source": [
    "history_dict = history.history\n",
    "print(history_dict.keys())"
   ]
  },
  {
   "cell_type": "code",
   "execution_count": 34,
   "id": "9474f2ef",
   "metadata": {
    "scrolled": true
   },
   "outputs": [
    {
     "data": {
      "image/png": "[encoded data removed]",
      "text/plain": [
       "<Figure size 432x288 with 1 Axes>"
      ]
     },
     "metadata": {},
     "output_type": "display_data"
    }
   ],
   "source": [
    "acc = history_dict['acc']\n",
    "val_acc = history_dict['val_acc']\n",
    "loss = history_dict['loss']\n",
    "val_loss = history_dict['val_loss']\n",
    "\n",
    "epochs = range(1, len(acc) + 1)\n",
    "\n",
    "plt.plot(epochs, loss, 'r', label='Training loss')\n",
    "plt.plot(epochs, val_loss, 'b', label='Validation loss')\n",
    "plt.title('Training and validation loss')\n",
    "plt.xlabel('Epochs')\n",
    "plt.ylabel('Loss')\n",
    "plt.legend()\n",
    "\n",
    "plt.show()"
   ]
  },
  {
   "cell_type": "code",
   "execution_count": 35,
   "id": "e62a318a",
   "metadata": {
    "scrolled": true
   },
   "outputs": [
    {
     "name": "stdout",
     "output_type": "stream",
     "text": [
      "1537/1537 [==============================] - 4s 2ms/step - loss: 0.3575 - acc: 0.8410\n",
      "\n",
      "cnn 모델 테스트 정확도: 0.8410\n",
      "1537/1537 [==============================] - 5s 3ms/step - loss: 0.3551 - accuracy: 0.8422\n",
      "\n",
      "lstm 모델 테스트 정확도: 0.8422\n",
      "1537/1537 [==============================] - 6s 3ms/step - loss: 0.3578 - accuracy: 0.8409\n",
      "\n",
      "stacked lstm 모델 테스트 정확도: 0.8409\n"
     ]
    }
   ],
   "source": [
    "cnn_model = load_model('cnn_best_model.h5')\n",
    "lstm_model = load_model('lstm_best_model.h5')\n",
    "stacked_lstm_model = load_model('stacked_lstm_best_model.h5')\n",
    "\n",
    "print(\"\\ncnn 모델 테스트 정확도: %.4f\" % (cnn_model.evaluate(X_test, y_test)[1]))\n",
    "print(\"\\nlstm 모델 테스트 정확도: %.4f\" % (lstm_model.evaluate(X_test, y_test)[1]))\n",
    "print(\"\\nstacked lstm 모델 테스트 정확도: %.4f\" % (stacked_lstm_model.evaluate(X_test, y_test)[1]))"
   ]
  },
  {
   "cell_type": "markdown",
   "id": "f0953db8",
   "metadata": {},
   "source": [
    "## 학습된 Embedding 레이어 분석"
   ]
  },
  {
   "cell_type": "code",
   "execution_count": 81,
   "id": "99c7d10a",
   "metadata": {},
   "outputs": [],
   "source": [
    "from gensim.models import Word2Vec"
   ]
  },
  {
   "cell_type": "code",
   "execution_count": 82,
   "id": "000bbb2e",
   "metadata": {},
   "outputs": [],
   "source": [
    "tokenized_data = get_decoded_sentences(X_train, index_to_word)"
   ]
  },
  {
   "cell_type": "code",
   "execution_count": 95,
   "id": "e7b5bfc4",
   "metadata": {},
   "outputs": [],
   "source": [
    "tokenized_data = [t.split(' ') for t in tokenized_data if '<' not in t]"
   ]
  },
  {
   "cell_type": "code",
   "execution_count": 96,
   "id": "5befc564",
   "metadata": {},
   "outputs": [],
   "source": [
    "embedding_dim = 100\n",
    "\n",
    "\n",
    "model = Word2Vec(  \n",
    "\tsentences = tokenized_data,\n",
    "\twindow = 5,  \n",
    "\tmin_count = 5,  \n",
    "\tworkers = 4,  \n",
    "\tsg = 0  \n",
    ")"
   ]
  },
  {
   "cell_type": "code",
   "execution_count": 97,
   "id": "dfd7bfeb",
   "metadata": {},
   "outputs": [
    {
     "name": "stdout",
     "output_type": "stream",
     "text": [
      "(3306, 100)\n"
     ]
    }
   ],
   "source": [
    "print(model.wv.vectors.shape)"
   ]
  },
  {
   "cell_type": "code",
   "execution_count": 98,
   "id": "82f5270f",
   "metadata": {},
   "outputs": [
    {
     "data": {
      "text/plain": [
       "['이',\n",
       " '영화',\n",
       " '보',\n",
       " '하',\n",
       " '있',\n",
       " '것',\n",
       " '없',\n",
       " '주',\n",
       " '같',\n",
       " '아니',\n",
       " '거',\n",
       " '수',\n",
       " '않',\n",
       " '좋',\n",
       " '되',\n",
       " '안',\n",
       " '너무',\n",
       " '말',\n",
       " '만들',\n",
       " '지']"
      ]
     },
     "execution_count": 98,
     "metadata": {},
     "output_type": "execute_result"
    }
   ],
   "source": [
    "word_vectors = model.wv  \n",
    "vocabs = list(word_vectors.key_to_index)  \n",
    "vocabs[:20]"
   ]
  },
  {
   "cell_type": "code",
   "execution_count": 100,
   "id": "ce3ff2da",
   "metadata": {},
   "outputs": [
    {
     "name": "stdout",
     "output_type": "stream",
     "text": [
      "('생각', 0.9938402771949768)\n",
      "('처음', 0.9934661388397217)\n",
      "('이거', 0.9932091236114502)\n",
      "('내', 0.9930078983306885)\n",
      "('이것', 0.9926765561103821)\n",
      "('최고', 0.992526113986969)\n",
      "('명작', 0.9924609661102295)\n",
      "('지금', 0.9921221137046814)\n",
      "('끝', 0.9920586943626404)\n",
      "('참', 0.9919236302375793)\n"
     ]
    }
   ],
   "source": [
    "for sim_word in model.wv.most_similar(\"영화\"):  \n",
    "    print(sim_word)"
   ]
  },
  {
   "cell_type": "markdown",
   "id": "21419289",
   "metadata": {},
   "source": [
    "## 한국어 Word2Vec 임베딩 활용하여 성능 개선"
   ]
  },
  {
   "cell_type": "code",
   "execution_count": 36,
   "id": "628380bf",
   "metadata": {},
   "outputs": [],
   "source": [
    "import os"
   ]
  },
  {
   "cell_type": "code",
   "execution_count": 37,
   "id": "effe1bb4",
   "metadata": {},
   "outputs": [],
   "source": [
    "word2vec_file_path = os.getenv('HOME')+'/data/word2vec_ko.model'"
   ]
  },
  {
   "cell_type": "code",
   "execution_count": 38,
   "id": "331ad3ec",
   "metadata": {},
   "outputs": [],
   "source": [
    "from gensim.models.keyedvectors import Word2VecKeyedVectors\n",
    "\n",
    "word_vectors = Word2VecKeyedVectors.load(word2vec_file_path)\n",
    "vector = word_vectors.wv['끝']"
   ]
  },
  {
   "cell_type": "code",
   "execution_count": 39,
   "id": "6c39da19",
   "metadata": {},
   "outputs": [
    {
     "data": {
      "text/plain": [
       "(100,)"
      ]
     },
     "execution_count": 39,
     "metadata": {},
     "output_type": "execute_result"
    }
   ],
   "source": [
    "vector.shape"
   ]
  },
  {
   "cell_type": "code",
   "execution_count": 67,
   "id": "c27597c8",
   "metadata": {},
   "outputs": [
    {
     "data": {
      "text/plain": [
       "{'<': 34,\n",
       " 'doc': 12,\n",
       " 'id': 28,\n",
       " '=\"': 6,\n",
       " '5': 75,\n",
       " '\"': 10,\n",
       " 'url': 33,\n",
       " 'https': 26,\n",
       " ':': 21,\n",
       " '/': 5,\n",
       " 'ko': 32,\n",
       " '.': 0,\n",
       " 'wikipedia': 31,\n",
       " 'org': 27,\n",
       " 'wiki': 30,\n",
       " '?': 24,\n",
       " 'curid': 35,\n",
       " '=': 25,\n",
       " 'title': 29,\n",
       " '지미': 5763,\n",
       " '카터': 7489,\n",
       " '\">': 38,\n",
       " '제임스': 1377,\n",
       " '얼': 3574,\n",
       " '주니어': 3290,\n",
       " '(': 15,\n",
       " ',': 7,\n",
       " '1924': 2968,\n",
       " '년': 16,\n",
       " '10': 101,\n",
       " '월': 45,\n",
       " '1': 57,\n",
       " '일': 49,\n",
       " '~': 89,\n",
       " ')': 14,\n",
       " '는': 4,\n",
       " '민주당': 1170,\n",
       " '출신': 417,\n",
       " '미국': 105,\n",
       " '39': 2234,\n",
       " '대': 86,\n",
       " '대통령': 323,\n",
       " '1977': 1813,\n",
       " '1981': 1515,\n",
       " '이': 3,\n",
       " '다': 2,\n",
       " '생애': 484,\n",
       " '어린': 1470,\n",
       " '시절': 432,\n",
       " '조지': 1287,\n",
       " '아주': 1890,\n",
       " '섬터': 53673,\n",
       " '카운티': 1646,\n",
       " '플': 2029,\n",
       " '레인스': 48695,\n",
       " '마을': 642,\n",
       " '에서': 19,\n",
       " '태어났': 656,\n",
       " '조지아': 3586,\n",
       " '공과': 4556,\n",
       " '대학교': 228,\n",
       " '를': 17,\n",
       " '졸업': 679,\n",
       " '하': 11,\n",
       " '였': 51,\n",
       " '그': 53,\n",
       " '후': 106,\n",
       " '해군': 965,\n",
       " '에': 8,\n",
       " '들어가': 1081,\n",
       " '전함': 5183,\n",
       " '·': 99,\n",
       " '원자력': 3550,\n",
       " '잠수함': 3498,\n",
       " '의': 1,\n",
       " '승무원': 5176,\n",
       " '으로': 22,\n",
       " '1953': 2456,\n",
       " '대위': 6026,\n",
       " '로': 40,\n",
       " '예편': 13256,\n",
       " '고': 18,\n",
       " '이후': 107,\n",
       " '땅콩': 16441,\n",
       " '면화': 17212,\n",
       " '등': 66,\n",
       " '을': 9,\n",
       " '가꿔': 165277,\n",
       " '많': 146,\n",
       " '은': 13,\n",
       " '돈': 994,\n",
       " '벌': 2694,\n",
       " '었': 42,\n",
       " '별명': 2664,\n",
       " '농부': 7254,\n",
       " 'Peanut': 275909,\n",
       " 'Farmer': 109623,\n",
       " '알려졌': 2282,\n",
       " '정계': 4539,\n",
       " '입문': 4494,\n",
       " '1962': 1938,\n",
       " '상원': 2535,\n",
       " '의원': 465,\n",
       " '선거': 328,\n",
       " '낙선': 5723,\n",
       " '나': 111,\n",
       " '가': 23,\n",
       " '부정': 1366,\n",
       " '였음을': 11103,\n",
       " '입증': 4502,\n",
       " '게': 60,\n",
       " '되': 39,\n",
       " '어': 54,\n",
       " '당선': 1664,\n",
       " '1966': 1978,\n",
       " '주지사': 5332,\n",
       " '지만': 90,\n",
       " '1970': 967,\n",
       " '역임': 815,\n",
       " '했': 46,\n",
       " '기': 55,\n",
       " '전': 116,\n",
       " '두': 117,\n",
       " '번': 109,\n",
       " '연임': 14632,\n",
       " '했으며': 298,\n",
       " '1971': 1703,\n",
       " '부터': 96,\n",
       " '1975': 1726,\n",
       " '까지': 78,\n",
       " '아': 93,\n",
       " '지사': 3228,\n",
       " '근무': 1536,\n",
       " '지내': 1759,\n",
       " '면서': 113,\n",
       " '사': 198,\n",
       " '흑인': 2597,\n",
       " '용법': 16896,\n",
       " '내세웠': 12982,\n",
       " '재임': 4042,\n",
       " '1976': 1668,\n",
       " '미합중국': 10888,\n",
       " '제': 73,\n",
       " '후보': 481,\n",
       " '출마': 2195,\n",
       " '여': 61,\n",
       " '도덕주의': 85415,\n",
       " '정책': 587,\n",
       " '내세워서': 109624,\n",
       " '지지': 857,\n",
       " '받': 87,\n",
       " '제럴드': 19562,\n",
       " '포드': 3503,\n",
       " '누르': 3492,\n",
       " '에너지': 872,\n",
       " '개발': 260,\n",
       " '촉구': 5373,\n",
       " '했으나': 640,\n",
       " '공화': 3125,\n",
       " '당': 239,\n",
       " '반대': 616,\n",
       " '무산': 4744,\n",
       " '외교': 1619,\n",
       " '이집트': 1514,\n",
       " '와': 47,\n",
       " '이스라엘': 1732,\n",
       " '조정': 1048,\n",
       " '캠프': 3712,\n",
       " '데이비드': 2085,\n",
       " '안와르': 43435,\n",
       " '사다트': 49727,\n",
       " '과': 43,\n",
       " '메나헴': 73326,\n",
       " '베긴': 70091,\n",
       " '수상': 578,\n",
       " '함께': 144,\n",
       " '중동': 3781,\n",
       " '평화': 1232,\n",
       " '위한': 245,\n",
       " '협정': 1988,\n",
       " '체결': 1489,\n",
       " '이것': 413,\n",
       " '유대': 2510,\n",
       " '인': 52,\n",
       " '단체': 632,\n",
       " '반발': 2511,\n",
       " '일으켰': 2675,\n",
       " '그러나': 177,\n",
       " '1979': 1543,\n",
       " '양국': 3865,\n",
       " '간': 205,\n",
       " '조약': 889,\n",
       " '백악관': 10468,\n",
       " '이루': 570,\n",
       " '졌': 636,\n",
       " '소련': 715,\n",
       " '2': 58,\n",
       " '차': 158,\n",
       " '전략': 1419,\n",
       " '무기': 1282,\n",
       " '제한': 1041,\n",
       " '협상': 2036,\n",
       " 'SALT': 109625,\n",
       " 'II': 1953,\n",
       " '조인': 10205,\n",
       " '후반': 1183,\n",
       " '당시': 163,\n",
       " '대한민국': 120,\n",
       " '인권': 2132,\n",
       " '후진국': 35331,\n",
       " '국민': 606,\n",
       " '들': 44,\n",
       " '지키': 2147,\n",
       " '위해': 142,\n",
       " '노력': 1159,\n",
       " '취임': 1624,\n",
       " '계속': 433,\n",
       " '해서': 461,\n",
       " '도덕': 3284,\n",
       " '정치': 334,\n",
       " '임기': 2792,\n",
       " '말': 122,\n",
       " '아프가니스탄': 3491,\n",
       " '침공': 1822,\n",
       " '사건': 221,\n",
       " '인해': 399,\n",
       " '1980': 828,\n",
       " '하계': 832,\n",
       " '올림픽': 284,\n",
       " '반공': 13257,\n",
       " '국가': 150,\n",
       " '보이콧': 16442,\n",
       " '주': 92,\n",
       " '이란': 1605,\n",
       " '대사관': 3543,\n",
       " '인질': 7659,\n",
       " '구출': 6402,\n",
       " '실패': 902,\n",
       " '인한': 1676,\n",
       " '원인': 1032,\n",
       " '40': 773,\n",
       " '로널드': 11847,\n",
       " '레이건': 12425,\n",
       " '에게': 84,\n",
       " '패': 1125,\n",
       " '며': 68,\n",
       " '재선': 6413,\n",
       " '관계': 292,\n",
       " '도': 50,\n",
       " '중요': 406,\n",
       " '한': 41,\n",
       " '영향': 356,\n",
       " '미쳤': 5523,\n",
       " '던': 70,\n",
       " '중': 83,\n",
       " '하나': 171,\n",
       " '문제': 258,\n",
       " '주한': 4398,\n",
       " '미군': 1710,\n",
       " '철수': 2425,\n",
       " '한때': 2289,\n",
       " '한미': 9249,\n",
       " '불편': 5628,\n",
       " '[': 191,\n",
       " '1978': 1684,\n",
       " '대한': 127,\n",
       " '북한': 1033,\n",
       " '위협': 1745,\n",
       " '대비': 2083,\n",
       " '해': 74,\n",
       " '미연': 27213,\n",
       " '합사': 27658,\n",
       " '창설': 2107,\n",
       " '1982': 1397,\n",
       " '3': 67,\n",
       " '단계': 893,\n",
       " '걸쳐': 1060,\n",
       " '사령부': 2221,\n",
       " '정보': 411,\n",
       " '기관': 534,\n",
       " '의회': 574,\n",
       " '부딪혀': 21599,\n",
       " '완전': 1410,\n",
       " '대신': 547,\n",
       " '6': 88,\n",
       " '000': 435,\n",
       " '명': 81,\n",
       " '감축': 12326,\n",
       " '데': 176,\n",
       " '그쳤': 4935,\n",
       " '또한': 145,\n",
       " '박정희': 3138,\n",
       " '정권': 1117,\n",
       " '논란': 998,\n",
       " '불협화음': 36071,\n",
       " '냈으나': 27955,\n",
       " '하순': 14425,\n",
       " '방문': 1192,\n",
       " '다소': 3161,\n",
       " '회복': 1801,\n",
       " '적': 48,\n",
       " '격변기': 80548,\n",
       " '대해': 318,\n",
       " '애매': 14979,\n",
       " '태도': 2891,\n",
       " '보였': 1656,\n",
       " '내': 179,\n",
       " '고조': 5509,\n",
       " '반미': 24211,\n",
       " '운동': 319,\n",
       " '됐': 415,\n",
       " '26': 531,\n",
       " '김재규': 25030,\n",
       " '중앙': 480,\n",
       " '부장': 2466,\n",
       " '의해': 178,\n",
       " '살해': 1947,\n",
       " '된': 64,\n",
       " '것': 56,\n",
       " '큰': 224,\n",
       " '충격': 3012,\n",
       " '았': 79,\n",
       " '으며': 82,\n",
       " '사이러스': 32530,\n",
       " '밴스': 36212,\n",
       " '국무': 4637,\n",
       " '장관': 836,\n",
       " '조문': 4316,\n",
       " '사절': 8680,\n",
       " '파견': 1469,\n",
       " '12': 130,\n",
       " '군사': 562,\n",
       " '반란': 1499,\n",
       " '17': 327,\n",
       " '쿠데타': 3173,\n",
       " '초기': 453,\n",
       " '강하': 2223,\n",
       " '비난': 2155,\n",
       " '정부': 208,\n",
       " '신': 255,\n",
       " '군부': 4728,\n",
       " '설득': 3569,\n",
       " '는데': 118,\n",
       " '한계': 2860,\n",
       " '있': 20,\n",
       " '결국': 498,\n",
       " '묵인': 21296,\n",
       " '듯': 1653,\n",
       " '보이': 522,\n",
       " '퇴임': 6688,\n",
       " '민간': 2104,\n",
       " '자원': 1593,\n",
       " '적극': 1798,\n",
       " '활용': 1291,\n",
       " '비': 234,\n",
       " '영리': 5577,\n",
       " '기구': 1219,\n",
       " '재단': 2210,\n",
       " '설립': 391,\n",
       " '뒤': 194,\n",
       " '민주주의': 880,\n",
       " '실현': 2912,\n",
       " '세계': 152,\n",
       " '감시': 3251,\n",
       " '활동': 169,\n",
       " '및': 121,\n",
       " '기니': 7933,\n",
       " '벌레': 10018,\n",
       " '의한': 758,\n",
       " '드라': 8681,\n",
       " '쿤': 6477,\n",
       " '쿠르': 9407,\n",
       " '스': 265,\n",
       " '질병': 2356,\n",
       " '방재': 20709,\n",
       " '힘썼': 9884,\n",
       " '빈곤층': 29428,\n",
       " '지원': 346,\n",
       " '사랑': 641,\n",
       " '집짓기': 99254,\n",
       " '국제': 290,\n",
       " '분쟁': 2184,\n",
       " '중재': 5893,\n",
       " '행정부': 4524,\n",
       " '북': 1381,\n",
       " '핵': 1623,\n",
       " '위기': 1401,\n",
       " '코소보': 9020,\n",
       " '전쟁': 213,\n",
       " '이라크': 2751,\n",
       " '같이': 382,\n",
       " '행동': 749,\n",
       " '최후': 3207,\n",
       " '선택': 888,\n",
       " '전통': 717,\n",
       " '사고': 740,\n",
       " '버리': 1916,\n",
       " '선행': 6834,\n",
       " '행위': 793,\n",
       " '깊': 1601,\n",
       " '유감': 16191,\n",
       " '표시': 1301,\n",
       " '강한': 1572,\n",
       " '입장': 1211,\n",
       " '특히': 350,\n",
       " '김일성': 3321,\n",
       " '아이': 582,\n",
       " '티': 624,\n",
       " '세드': 36591,\n",
       " '라스': 3764,\n",
       " '장군': 1056,\n",
       " '팔레': 12752,\n",
       " '스타인': 18208,\n",
       " '하마스': 38649,\n",
       " '보스니아': 5539,\n",
       " '세르비': 18481,\n",
       " '아계': 20103,\n",
       " '거부': 1220,\n",
       " '사태': 2174,\n",
       " '초래': 4523,\n",
       " '인물': 605,\n",
       " '직접': 608,\n",
       " '만나': 1116,\n",
       " '근본': 3730,\n",
       " '해결': 1393,\n",
       " '과정': 331,\n",
       " '갈등': 2071,\n",
       " '전직': 3118,\n",
       " '권한': 2041,\n",
       " '재야': 17907,\n",
       " '유명': 567,\n",
       " '인사': 1455,\n",
       " '활약': 661,\n",
       " '나갔': 3014,\n",
       " '채결': 38105,\n",
       " '이행': 3949,\n",
       " '지지부진': 30792,\n",
       " '자': 80,\n",
       " '분제': 102442,\n",
       " '1993': 1025,\n",
       " '오슬로': 12133,\n",
       " '이끌': 863,\n",
       " '성공': 472,\n",
       " '임박': 17246,\n",
       " '처음': 243,\n",
       " '기여': 1172,\n",
       " '다는': 168,\n",
       " '평가': 493,\n",
       " '때': 100,\n",
       " '김영삼': 5444,\n",
       " '주석': 3456,\n",
       " '만남': 5812,\n",
       " '주선': 9564,\n",
       " '하지만': 400,\n",
       " '로부터': 317,\n",
       " '수': 63,\n",
       " '주일': 3684,\n",
       " '갑자기': 3497,\n",
       " '사망': 344,\n",
       " '정상': 1231,\n",
       " '회담': 2743,\n",
       " '이루어지': 2087,\n",
       " '지': 59,\n",
       " '못했': 777,\n",
       " '관타나모': 56115,\n",
       " '수용소': 5408,\n",
       " '관심': 1055,\n",
       " '유엔': 1795,\n",
       " '고등': 2058,\n",
       " '판무관': 20382,\n",
       " '제도': 500,\n",
       " '시행': 1405,\n",
       " '도록': 313,\n",
       " '독재자': 12656,\n",
       " '유린': 17133,\n",
       " '제약': 4054,\n",
       " '형사': 2023,\n",
       " '재판소': 3675,\n",
       " '만드': 1576,\n",
       " '같': 94,\n",
       " '범죄자': 10473,\n",
       " '회부': 15358,\n",
       " '처벌': 2666,\n",
       " '신장': 3473,\n",
       " '크': 244,\n",
       " '2011': 357,\n",
       " '4': 72,\n",
       " '29': 597,\n",
       " '경제': 321,\n",
       " '못하': 538,\n",
       " '발목': 9731,\n",
       " '잡혀': 10008,\n",
       " '란': 466,\n",
       " '재산': 1746,\n",
       " '풀': 1421,\n",
       " '겠': 701,\n",
       " '조건': 901,\n",
       " '사실상': 2898,\n",
       " '훨씬': 2081,\n",
       " '더': 148,\n",
       " '존경': 5184,\n",
       " '특이': 2755,\n",
       " '남': 277,\n",
       " '2002': 627,\n",
       " '역할': 509,\n",
       " '공로': 3517,\n",
       " '인정받': 2238,\n",
       " '노벨': 3347,\n",
       " '평화상': 14522,\n",
       " '이외': 1329,\n",
       " '물론': 1604,\n",
       " '지속': 969,\n",
       " '여러': 217,\n",
       " '장기': 2068,\n",
       " '집권': 2844,\n",
       " '왔': 694,\n",
       " '만난': 4684,\n",
       " '절대': 2440,\n",
       " '다수': 1350,\n",
       " '얼마': 2124,\n",
       " '않': 76,\n",
       " '맞이': 2778,\n",
       " \"'\": 69,\n",
       " '사신': 4176,\n",
       " '라는': 110,\n",
       " '붙': 1555,\n",
       " '</': 36,\n",
       " '>': 37,\n",
       " '9': 124,\n",
       " '수학': 1229,\n",
       " '數學': 82335,\n",
       " '줄여서': 5562,\n",
       " 'math': 38215,\n",
       " '양': 586,\n",
       " '구조': 339,\n",
       " '공간': 620,\n",
       " '변화': 635,\n",
       " '개념': 849,\n",
       " '다루': 1550,\n",
       " '학문': 1622,\n",
       " '널리': 1182,\n",
       " '받아들여': 4186,\n",
       " '명확': 3523,\n",
       " '정의': 571,\n",
       " '없': 114,\n",
       " '으나': 229,\n",
       " '현대': 589,\n",
       " '일반': 274,\n",
       " '엄밀': 12223,\n",
       " '논리': 2479,\n",
       " '근거': 1533,\n",
       " '추상': 5872,\n",
       " '대상': 585,\n",
       " '탐구': 5794,\n",
       " '규칙': 1750,\n",
       " '발견': 296,\n",
       " '제시': 1396,\n",
       " '이루어진다': 4751,\n",
       " '발전': 553,\n",
       " '어서': 381,\n",
       " '철학': 1197,\n",
       " '과학': 520,\n",
       " '연관': 2190,\n",
       " '맺': 1059,\n",
       " '다만': 1337,\n",
       " '특유': 5217,\n",
       " '성': 95,\n",
       " '보편': 3580,\n",
       " '다른': 128,\n",
       " '구별': 2192,\n",
       " '된다': 91,\n",
       " '여느': 23143,\n",
       " '분야': 744,\n",
       " '달리': 721,\n",
       " '자연': 710,\n",
       " '계': 287,\n",
       " '관측': 1450,\n",
       " '대해서': 782,\n",
       " '이론': 543,\n",
       " '화': 137,\n",
       " '시키': 325,\n",
       " '특징': 579,\n",
       " '수학자': 4874,\n",
       " '그러': 925,\n",
       " '추측': 2215,\n",
       " '적절': 3113,\n",
       " '공리': 7995,\n",
       " '연역': 25700,\n",
       " '거쳐': 774,\n",
       " '진위': 14457,\n",
       " '파악': 2706,\n",
       " '한다': 62,\n",
       " '기원전': 604,\n",
       " '600': 2598,\n",
       " '경': 716,\n",
       " '최초': 354,\n",
       " '여겨': 2661,\n",
       " '탈레스': 26616,\n",
       " '기록': 159,\n",
       " '고대': 917,\n",
       " '문명': 2833,\n",
       " '찾아볼': 6555,\n",
       " '인류': 2627,\n",
       " '오늘날': 1015,\n",
       " '사회': 227,\n",
       " '공학': 2106,\n",
       " '의학': 1884,\n",
       " '핵심': 2005,\n",
       " '다양': 398,\n",
       " '방식': 492,\n",
       " '응용': 2249,\n",
       " '의미': 322,\n",
       " '매스': 12199,\n",
       " '매': 1892,\n",
       " '틱': 3731,\n",
       " 'mathematics': 111638,\n",
       " '단어': 1331,\n",
       " '모든': 225,\n",
       " \"',\": 1596,\n",
       " '배우': 238,\n",
       " '뜻': 216,\n",
       " '그리스어': 3429,\n",
       " \"'(\": 1963,\n",
       " '활용형': 88742,\n",
       " '유래': 1000,\n",
       " '역사': 183,\n",
       " '이르': 607,\n",
       " '필수': 3153,\n",
       " '건축': 1310,\n",
       " '천문학': 4764,\n",
       " '상업': 1424,\n",
       " '교역': 4290,\n",
       " '분배': 4599,\n",
       " '과세': 12182,\n",
       " '생활': 485,\n",
       " '필요': 407,\n",
       " '계산': 1650,\n",
       " '관여': 3139,\n",
       " '농경': 12183,\n",
       " '천문': 7086,\n",
       " '달력': 11937,\n",
       " '제정': 1573,\n",
       " '토지': 1808,\n",
       " '측량': 10647,\n",
       " '사용': 98,\n",
       " '시킨': 1751,\n",
       " '인도': 630,\n",
       " '중국': 214,\n",
       " '그리스': 752,\n",
       " '방정식': 2469,\n",
       " '변수': 2640,\n",
       " '문자': 1051,\n",
       " '쓰': 442,\n",
       " '추상화': 44647,\n",
       " '유클리드': 8941,\n",
       " '원론': 22634,\n",
       " '논증': 11700,\n",
       " '나타난다': 2798,\n",
       " '16': 257,\n",
       " '세기': 252,\n",
       " '르네상스': 5086,\n",
       " '러서는': 14997,\n",
       " '방법': 462,\n",
       " '상호': 1238,\n",
       " '작용': 785,\n",
       " '통해': 192,\n",
       " '혁명': 867,\n",
       " '연구': 249,\n",
       " '진척': 22737,\n",
       " '발달': 1144,\n",
       " '미치': 1876,\n",
       " '세부': 3293,\n",
       " '각': 355,\n",
       " '숫자': 2198,\n",
       " '이해': 1148,\n",
       " '그리고': 186,\n",
       " '예견': 15864,\n",
       " '네': 336,\n",
       " '가지': 167,\n",
       " '목적': 650,\n",
       " '대략': 2434,\n",
       " '대응': 1448,\n",
       " '각각': 583,\n",
       " '산술': 11770,\n",
       " '대수학': 11451,\n",
       " '기하학': 4177,\n",
       " '해석학': 10052,\n",
       " '라': 133,\n",
       " '밖': 755,\n",
       " '근대': 1840,\n",
       " '나타난': 4640,\n",
       " '기초': 1247,\n",
       " '론': 687,\n",
       " '이산': 17728,\n",
       " '자연수': 6770,\n",
       " '정수': 4116,\n",
       " '사칙': 52703,\n",
       " '연산': 3847,\n",
       " '로서': 220,\n",
       " '시작': 139,\n",
       " '수론': 20253,\n",
       " '이런': 913,\n",
       " '주제': 1209,\n",
       " '보다': 196,\n",
       " '결과': 311,\n",
       " '페르마': 19903,\n",
       " '마지막': 577,\n",
       " '정리': 1003,\n",
       " '쌍둥이': 5965,\n",
       " '소수': 1864,\n",
       " '골드바': 123421,\n",
       " '흐': 2462,\n",
       " '비롯': 677,\n",
       " '오랜': 2315,\n",
       " '세월': 3649,\n",
       " '동안': 219,\n",
       " '여럿': 11875,\n",
       " '체계': 953,\n",
       " '집합': 1400,\n",
       " '유리수': 18970,\n",
       " '부분집합': 23091,\n",
       " '여기': 592,\n",
       " '실수': 2639,\n",
       " '또': 314,\n",
       " '다시': 209,\n",
       " '복소수': 8085,\n",
       " '일부분': 7819,\n",
       " '볼': 474,\n",
       " '나아가': 2903,\n",
       " '면': 104,\n",
       " '사원수': 29159,\n",
       " '팔원수': 58479,\n",
       " '생각': 405,\n",
       " '할': 71,\n",
       " '약간': 1642,\n",
       " '방향': 764,\n",
       " '무한대': 21600,\n",
       " '세': 112,\n",
       " '나간다는': 55021,\n",
       " '형식': 794,\n",
       " '순서수': 22831,\n",
       " '얻': 359,\n",
       " '크기': 861,\n",
       " '비교': 835,\n",
       " '이용': 301,\n",
       " '기수': 5727,\n",
       " '써서': 5861,\n",
       " '쉽': 1146,\n",
       " '마찬가지': 1225,\n",
       " '법칙': 1899,\n",
       " '간명': 71947,\n",
       " '나타내': 1367,\n",
       " '포함': 197,\n",
       " '고전': 1909,\n",
       " '대수': 1971,\n",
       " '연립': 7660,\n",
       " '해법': 17830,\n",
       " '군': 129,\n",
       " '환': 3486,\n",
       " '체': 1707,\n",
       " '와서': 3687,\n",
       " '대수계': 275910,\n",
       " '보': 175,\n",
       " '중심': 385,\n",
       " '선형': 3330,\n",
       " '전개': 1794,\n",
       " '이나': 172,\n",
       " '함수': 964,\n",
       " '내재': 10499,\n",
       " '보인다': 1030,\n",
       " '이러': 294,\n",
       " '특성': 1384,\n",
       " '군론': 26368,\n",
       " '환론': 48948,\n",
       " '외': 488,\n",
       " '수많': 1382,\n",
       " '그것': 619,\n",
       " '하나하나': 20710,\n",
       " '지닌': 2830,\n",
       " '벡터': 2901,\n",
       " '지식': 1647,\n",
       " '기하라': 111639,\n",
       " '개': 97,\n",
       " '조합': 2039,\n",
       " '미적분학': 24985,\n",
       " '영역': 1132,\n",
       " '추가': 595,\n",
       " '텐서': 10705,\n",
       " '대칭': 3926,\n",
       " '회전축': 37660,\n",
       " '아래': 513,\n",
       " '움직임': 2679,\n",
       " '눈금': 21035,\n",
       " '컴퍼스': 40758,\n",
       " '관련': 340,\n",
       " '미해결': 26869,\n",
       " '갈루아': 21969,\n",
       " '비로소': 6888,\n",
       " '삼각법': 57653,\n",
       " '결합': 989,\n",
       " '잘': 431,\n",
       " '알려진': 1071,\n",
       " '피타고라스': 14698,\n",
       " '높': 300,\n",
       " '차원': 1277,\n",
       " '상대': 563,\n",
       " '함': 270,\n",
       " '위상': 2575,\n",
       " '모두': 226,\n",
       " '해석': 1176,\n",
       " '미분기': 33278,\n",
       " '하학': 31263,\n",
       " '리': 425,\n",
       " '20': 195,\n",
       " '지류': 5602,\n",
       " '속': 291,\n",
       " '괄목': 39907,\n",
       " '만': 77,\n",
       " '성장': 862,\n",
       " '푸앵카레': 19904,\n",
       " '인간': 504,\n",
       " '의해서': 2064,\n",
       " '증명': 1723,\n",
       " '오직': 3264,\n",
       " '컴퓨터': 842,\n",
       " '색': 1156,\n",
       " '묘사': 1249,\n",
       " '강력': 1432,\n",
       " '도구': 2339,\n",
       " '중추': 7237,\n",
       " '으로써': 555,\n",
       " '떠오르': 9408,\n",
       " '실변수': 118327,\n",
       " '구성': 269,\n",
       " '실해': 80549,\n",
       " '석학': 16986,\n",
       " '알려': 1815,\n",
       " '복소': 12476,\n",
       " '라고': 108,\n",
       " '무한': 4727,\n",
       " '주목': 1590,\n",
       " '양자': 1762,\n",
       " '역학': 2951,\n",
       " '스럽': 2580,\n",
       " '율': 1341,\n",
       " '귀착': 71948,\n",
       " '미분': 4489,\n",
       " '진다': 2501,\n",
       " '현상': 1052,\n",
       " '동역학': 18048,\n",
       " '기술': 326,\n",
       " '될': 266,\n",
       " '혼돈': 13482,\n",
       " '예측': 2445,\n",
       " '불': 388,\n",
       " '가능': 222,\n",
       " '상당': 1661,\n",
       " '확실히': 6839,\n",
       " '세우': 1990,\n",
       " '수리': 2993,\n",
       " '논리학': 9369,\n",
       " '집합론': 15596,\n",
       " '더불': 1264,\n",
       " '범주론': 39446,\n",
       " '최근': 958,\n",
       " '“': 393,\n",
       " '”': 397,\n",
       " '1900': 2769,\n",
       " '1930': 1904,\n",
       " '사이': 190,\n",
       " '일어난': 1673,\n",
       " '상징': 1488,\n",
       " '보여': 833,\n",
       " '몇': 664,\n",
       " '의견': 1546,\n",
       " '일치': 2252,\n",
       " '논쟁': 2131,\n",
       " '촉발': 9937,\n",
       " '칸토어': 26437,\n",
       " '브라우어': 35813,\n",
       " '-': 65,\n",
       " '힐베르트': 10899,\n",
       " '뿐': 457,\n",
       " '아니': 207,\n",
       " '경제학': 3380,\n",
       " '예': 345,\n",
       " '정도': 285,\n",
       " '차이': 820,\n",
       " '과목': 4988,\n",
       " '확률론': 24774,\n",
       " '계량': 9802,\n",
       " '통계학': 11749,\n",
       " '마련': 1764,\n",
       " '갈릴레오': 11938,\n",
       " '갈릴레이': 14751,\n",
       " '책': 631,\n",
       " '언어': 568,\n",
       " '주장': 283,\n",
       " '물리학': 2837,\n",
       " '도입': 763,\n",
       " '아이작': 12399,\n",
       " '뉴턴': 6427,\n",
       " '기본': 718,\n",
       " '정립': 7374,\n",
       " '모델링': 12657,\n",
       " '요소': 962,\n",
       " '시기': 499,\n",
       " '한데': 5427,\n",
       " '음': 363,\n",
       " '드러나': 4298,\n",
       " '물리학상': 14752,\n",
       " '수상자': 3955,\n",
       " '유진': 9194,\n",
       " '위그너': 39609,\n",
       " '에세이': 12080,\n",
       " 'The': 610,\n",
       " 'effectiveness': 192646,\n",
       " 'of': 519,\n",
       " 'in': 1692,\n",
       " 'natural': 52388,\n",
       " 'sciences': 105885,\n",
       " '세상': 1365,\n",
       " '동떨어져': 64943,\n",
       " '현실': 1777,\n",
       " '아무': 3111,\n",
       " '다고': 131,\n",
       " '극히': 6105,\n",
       " '일부': 236,\n",
       " '뜻밖에': 45786,\n",
       " '효과': 756,\n",
       " '토대': 3801,\n",
       " '놀라움': 33279,\n",
       " '표현': 564,\n",
       " '이상': 240,\n",
       " '임의': 2578,\n",
       " '먼': 923,\n",
       " '훗날': 2582,\n",
       " '따라': 184,\n",
       " '물리': 2214,\n",
       " '밝혀졌': 3140,\n",
       " '게이지': 6389,\n",
       " '장론': 13441,\n",
       " '음악': 316,\n",
       " '미술': 1955,\n",
       " '예술': 936,\n",
       " '비율': 1814,\n",
       " '듣': 1639,\n",
       " '좋': 443,\n",
       " '소리': 1307,\n",
       " '난다는': 51761,\n",
       " '점': 275,\n",
       " '음계': 18371,\n",
       " '만들': 199,\n",
       " '중세': 1996,\n",
       " '시대': 201,\n",
       " '밀접': 4653,\n",
       " '시켰으며': 7779,\n",
       " '빅토르': 6917,\n",
       " '후고': 26806,\n",
       " '조화': 4156,\n",
       " '트론드': 165278,\n",
       " '루돌프': 7078,\n",
       " 'ratio': 49484,\n",
       " '쓴': 1512,\n",
       " '바': 490,\n",
       " '반드시': 2638,\n",
       " '불과': 1924,\n",
       " '저술가': 16421,\n",
       " '는가': 2600,\n",
       " '비례': 2720,\n",
       " '거의': 512,\n",
       " '청각': 10536,\n",
       " '이중': 3083,\n",
       " '측면': 1575,\n",
       " '群': 13058,\n",
       " 'group': 21480,\n",
       " '분석': 950,\n",
       " '원근법': 49226,\n",
       " '사영': 9041,\n",
       " '해당': 404,\n",
       " '사조': 14542,\n",
       " '입체파': 63423,\n",
       " '상수': 3576,\n",
       " '값': 1167,\n",
       " '변하': 3545,\n",
       " '불변량': 23376,\n",
       " '반대말': 48408,\n",
       " '측정': 1479,\n",
       " '상관없이': 9504,\n",
       " '대개': 2831,\n",
       " '실수체': 38216,\n",
       " '복소수체': 37258,\n",
       " '원소': 1390,\n",
       " '우리': 502,\n",
       " '이야기': 588,\n",
       " '대부분': 320,\n",
       " '특정': 894,\n",
       " '골': 552,\n",
       " '롬': 6430,\n",
       " '딕맨': 171118,\n",
       " ...}"
      ]
     },
     "execution_count": 67,
     "metadata": {},
     "output_type": "execute_result"
    }
   ],
   "source": [
    "word_vectors.wv.key_to_index"
   ]
  },
  {
   "cell_type": "code",
   "execution_count": 40,
   "id": "3b317cab",
   "metadata": {},
   "outputs": [
    {
     "data": {
      "text/plain": [
       "[('드라마', 0.8418774008750916),\n",
       " ('뮤지컬', 0.7775140404701233),\n",
       " ('코미디', 0.7489107251167297),\n",
       " ('다큐멘터리', 0.7401294708251953),\n",
       " ('헐리우드', 0.7397844195365906),\n",
       " ('애니메이션', 0.7170552015304565),\n",
       " ('독립영화', 0.7113528251647949),\n",
       " ('로맨틱', 0.7107657194137573),\n",
       " ('장편', 0.7101576924324036),\n",
       " ('극영화', 0.7045413255691528)]"
      ]
     },
     "execution_count": 40,
     "metadata": {},
     "output_type": "execute_result"
    }
   ],
   "source": [
    "word_vectors.wv.most_similar('영화')"
   ]
  },
  {
   "cell_type": "code",
   "execution_count": 41,
   "id": "181569e5",
   "metadata": {},
   "outputs": [],
   "source": [
    "vocab_size = 10000\n",
    "word_vector_dim = 100\n",
    "\n",
    "embedding_matrix = np.random.rand(vocab_size, word_vector_dim)\n",
    "\n",
    "# embedding_matrix에 Word2Vec 워드 벡터를 단어 하나씩마다 차례차례 카피한다.\n",
    "for i in range(4,vocab_size):\n",
    "    if index_to_word[i] in word_vectors.wv.key_to_index:\n",
    "        embedding_matrix[i] = word_vectors.wv[index_to_word[i]]"
   ]
  },
  {
   "cell_type": "code",
   "execution_count": 42,
   "id": "c74ad86f",
   "metadata": {},
   "outputs": [],
   "source": [
    "from tensorflow.keras.initializers import Constant"
   ]
  },
  {
   "cell_type": "code",
   "execution_count": 46,
   "id": "98371d2b",
   "metadata": {},
   "outputs": [
    {
     "name": "stdout",
     "output_type": "stream",
     "text": [
      "Model: \"sequential_6\"\n",
      "_________________________________________________________________\n",
      "Layer (type)                 Output Shape              Param #   \n",
      "=================================================================\n",
      "embedding_4 (Embedding)      (None, None, 100)         1000000   \n",
      "_________________________________________________________________\n",
      "dropout_4 (Dropout)          (None, None, 100)         0         \n",
      "_________________________________________________________________\n",
      "conv1d_2 (Conv1D)            (None, None, 256)         77056     \n",
      "_________________________________________________________________\n",
      "global_max_pooling1d_2 (Glob (None, 256)               0         \n",
      "_________________________________________________________________\n",
      "dense_6 (Dense)              (None, 128)               32896     \n",
      "_________________________________________________________________\n",
      "dropout_5 (Dropout)          (None, 128)               0         \n",
      "_________________________________________________________________\n",
      "dense_7 (Dense)              (None, 1)                 129       \n",
      "=================================================================\n",
      "Total params: 1,110,081\n",
      "Trainable params: 1,110,081\n",
      "Non-trainable params: 0\n",
      "_________________________________________________________________\n"
     ]
    }
   ],
   "source": [
    "model = Sequential()\n",
    "model.add(Embedding(vocab_size, word_vector_dim,\n",
    "                   embeddings_initializer=Constant(embedding_matrix),\n",
    "                   trainable=True))\n",
    "model.add(Dropout(dropout_ratio))\n",
    "model.add(Conv1D(num_filters, kernel_size, padding='valid', activation='relu'))\n",
    "model.add(GlobalMaxPooling1D())\n",
    "model.add(Dense(hidden_units, activation='relu'))\n",
    "model.add(Dropout(dropout_ratio))\n",
    "model.add(Dense(1, activation='sigmoid'))\n",
    "\n",
    "es = EarlyStopping(monitor='val_loss', mode='min', verbose=1, patience=3)\n",
    "mc = ModelCheckpoint('embedding_cnn_best_model.h5', monitor='val_acc', mode='max', verbose=1, save_best_only=True)\n",
    "\n",
    "model.compile(optimizer='adam', loss='binary_crossentropy', metrics=['acc'])\n",
    "model.summary()"
   ]
  },
  {
   "cell_type": "code",
   "execution_count": 47,
   "id": "394a8d8d",
   "metadata": {},
   "outputs": [
    {
     "name": "stdout",
     "output_type": "stream",
     "text": [
      "Epoch 1/20\n",
      "3655/3655 [==============================] - 17s 5ms/step - loss: 0.6055 - acc: 0.6566 - val_loss: 0.4572 - val_acc: 0.7868\n",
      "\n",
      "Epoch 00001: val_acc improved from -inf to 0.78678, saving model to embedding_cnn_best_model.h5\n",
      "Epoch 2/20\n",
      "3655/3655 [==============================] - 17s 5ms/step - loss: 0.4767 - acc: 0.7776 - val_loss: 0.4037 - val_acc: 0.8134\n",
      "\n",
      "Epoch 00002: val_acc improved from 0.78678 to 0.81339, saving model to embedding_cnn_best_model.h5\n",
      "Epoch 3/20\n",
      "3655/3655 [==============================] - 16s 4ms/step - loss: 0.4330 - acc: 0.8056 - val_loss: 0.3897 - val_acc: 0.8178\n",
      "\n",
      "Epoch 00003: val_acc improved from 0.81339 to 0.81777, saving model to embedding_cnn_best_model.h5\n",
      "Epoch 4/20\n",
      "3655/3655 [==============================] - 17s 5ms/step - loss: 0.4127 - acc: 0.8176 - val_loss: 0.3769 - val_acc: 0.8287\n",
      "\n",
      "Epoch 00004: val_acc improved from 0.81777 to 0.82868, saving model to embedding_cnn_best_model.h5\n",
      "Epoch 5/20\n",
      "3655/3655 [==============================] - 17s 5ms/step - loss: 0.3955 - acc: 0.8268 - val_loss: 0.3690 - val_acc: 0.8318\n",
      "\n",
      "Epoch 00005: val_acc improved from 0.82868 to 0.83182, saving model to embedding_cnn_best_model.h5\n",
      "Epoch 6/20\n",
      "3655/3655 [==============================] - 18s 5ms/step - loss: 0.3841 - acc: 0.8328 - val_loss: 0.3620 - val_acc: 0.8347\n",
      "\n",
      "Epoch 00006: val_acc improved from 0.83182 to 0.83473, saving model to embedding_cnn_best_model.h5\n",
      "Epoch 7/20\n",
      "3655/3655 [==============================] - 17s 5ms/step - loss: 0.3741 - acc: 0.8370 - val_loss: 0.3617 - val_acc: 0.8369\n",
      "\n",
      "Epoch 00007: val_acc improved from 0.83473 to 0.83692, saving model to embedding_cnn_best_model.h5\n",
      "Epoch 8/20\n",
      "3655/3655 [==============================] - 18s 5ms/step - loss: 0.3663 - acc: 0.8421 - val_loss: 0.3577 - val_acc: 0.8364\n",
      "\n",
      "Epoch 00008: val_acc did not improve from 0.83692\n",
      "Epoch 9/20\n",
      "3655/3655 [==============================] - 18s 5ms/step - loss: 0.3589 - acc: 0.8470 - val_loss: 0.3575 - val_acc: 0.8400\n",
      "\n",
      "Epoch 00009: val_acc improved from 0.83692 to 0.84000, saving model to embedding_cnn_best_model.h5\n",
      "Epoch 10/20\n",
      "3655/3655 [==============================] - 17s 5ms/step - loss: 0.3497 - acc: 0.8493 - val_loss: 0.3558 - val_acc: 0.8410\n",
      "\n",
      "Epoch 00010: val_acc improved from 0.84000 to 0.84102, saving model to embedding_cnn_best_model.h5\n",
      "Epoch 11/20\n",
      "3655/3655 [==============================] - 17s 5ms/step - loss: 0.3459 - acc: 0.8535 - val_loss: 0.3588 - val_acc: 0.8406\n",
      "\n",
      "Epoch 00011: val_acc did not improve from 0.84102\n",
      "Epoch 12/20\n",
      "3655/3655 [==============================] - 16s 4ms/step - loss: 0.3399 - acc: 0.8550 - val_loss: 0.3536 - val_acc: 0.8398\n",
      "\n",
      "Epoch 00012: val_acc did not improve from 0.84102\n",
      "Epoch 13/20\n",
      "3655/3655 [==============================] - 17s 5ms/step - loss: 0.3360 - acc: 0.8567 - val_loss: 0.3639 - val_acc: 0.8424\n",
      "\n",
      "Epoch 00013: val_acc improved from 0.84102 to 0.84243, saving model to embedding_cnn_best_model.h5\n",
      "Epoch 14/20\n",
      "3655/3655 [==============================] - 16s 5ms/step - loss: 0.3299 - acc: 0.8590 - val_loss: 0.3540 - val_acc: 0.8387\n",
      "\n",
      "Epoch 00014: val_acc did not improve from 0.84243\n",
      "Epoch 15/20\n",
      "3655/3655 [==============================] - 17s 5ms/step - loss: 0.3267 - acc: 0.8614 - val_loss: 0.3502 - val_acc: 0.8393\n",
      "\n",
      "Epoch 00015: val_acc did not improve from 0.84243\n",
      "Epoch 16/20\n",
      "3655/3655 [==============================] - 16s 4ms/step - loss: 0.3218 - acc: 0.8639 - val_loss: 0.3594 - val_acc: 0.8419\n",
      "\n",
      "Epoch 00016: val_acc did not improve from 0.84243\n",
      "Epoch 17/20\n",
      "3655/3655 [==============================] - 17s 5ms/step - loss: 0.3189 - acc: 0.8645 - val_loss: 0.3583 - val_acc: 0.8409\n",
      "\n",
      "Epoch 00017: val_acc did not improve from 0.84243\n",
      "Epoch 18/20\n",
      "3655/3655 [==============================] - 17s 5ms/step - loss: 0.3153 - acc: 0.8652 - val_loss: 0.3580 - val_acc: 0.8430\n",
      "\n",
      "Epoch 00018: val_acc improved from 0.84243 to 0.84297, saving model to embedding_cnn_best_model.h5\n",
      "Epoch 00018: early stopping\n"
     ]
    }
   ],
   "source": [
    "history = model.fit(X_train, y_train, epochs=20, validation_data=(X_val, y_val), callbacks=[es, mc])"
   ]
  },
  {
   "cell_type": "code",
   "execution_count": 48,
   "id": "d598f41d",
   "metadata": {},
   "outputs": [
    {
     "name": "stdout",
     "output_type": "stream",
     "text": [
      "dict_keys(['loss', 'acc', 'val_loss', 'val_acc'])\n"
     ]
    }
   ],
   "source": [
    "history_dict = history.history\n",
    "print(history_dict.keys())"
   ]
  },
  {
   "cell_type": "code",
   "execution_count": 49,
   "id": "0beed623",
   "metadata": {},
   "outputs": [
    {
     "data": {
      "image/png": "[encoded data removed]",
      "text/plain": [
       "<Figure size 432x288 with 1 Axes>"
      ]
     },
     "metadata": {},
     "output_type": "display_data"
    }
   ],
   "source": [
    "acc = history_dict['acc']\n",
    "val_acc = history_dict['val_acc']\n",
    "loss = history_dict['loss']\n",
    "val_loss = history_dict['val_loss']\n",
    "\n",
    "epochs = range(1, len(acc) + 1)\n",
    "\n",
    "plt.plot(epochs, loss, 'r', label='Training loss')\n",
    "plt.plot(epochs, val_loss, 'b', label='Validation loss')\n",
    "plt.title('Training and validation loss')\n",
    "plt.xlabel('Epochs')\n",
    "plt.ylabel('Loss')\n",
    "plt.legend()\n",
    "\n",
    "plt.show()"
   ]
  },
  {
   "cell_type": "code",
   "execution_count": 53,
   "id": "334f5599",
   "metadata": {
    "scrolled": true
   },
   "outputs": [
    {
     "name": "stdout",
     "output_type": "stream",
     "text": [
      "1537/1537 [==============================] - 3s 2ms/step - loss: 0.3535 - acc: 0.8475\n",
      "\n",
      "Word2vec 임베딩 후 cnn 모델 테스트 정확도: 0.8475\n"
     ]
    }
   ],
   "source": [
    "embedding_cnn_model = load_model('embedding_cnn_best_model.h5')\n",
    "\n",
    "print(\"\\nWord2vec 임베딩 후 cnn 모델 테스트 정확도: %.4f\" % (embedding_cnn_model .evaluate(X_test, y_test)[1]))"
   ]
  },
  {
   "cell_type": "markdown",
   "id": "0ed9f3ca",
   "metadata": {},
   "source": [
    "### lstm 모델 (Trainable True)"
   ]
  },
  {
   "cell_type": "code",
   "execution_count": 60,
   "id": "1427d9ab",
   "metadata": {},
   "outputs": [],
   "source": [
    "from keras.models import Sequential\n",
    "from keras.layers import *"
   ]
  },
  {
   "cell_type": "code",
   "execution_count": 56,
   "id": "bdb27459",
   "metadata": {
    "scrolled": false
   },
   "outputs": [
    {
     "name": "stdout",
     "output_type": "stream",
     "text": [
      "Model: \"sequential_8\"\n",
      "_________________________________________________________________\n",
      "Layer (type)                 Output Shape              Param #   \n",
      "=================================================================\n",
      "embedding_6 (Embedding)      (None, None, 100)         1000000   \n",
      "_________________________________________________________________\n",
      "lstm_4 (LSTM)                (None, 8)                 3488      \n",
      "_________________________________________________________________\n",
      "dense_9 (Dense)              (None, 1)                 9         \n",
      "=================================================================\n",
      "Total params: 1,003,497\n",
      "Trainable params: 1,003,497\n",
      "Non-trainable params: 0\n",
      "_________________________________________________________________\n"
     ]
    }
   ],
   "source": [
    "vocab_size = 10000\n",
    "word_vector_dim = 100\n",
    "\n",
    "model = Sequential()\n",
    "model.add(Embedding(vocab_size, word_vector_dim,\n",
    "                   embeddings_initializer=Constant(embedding_matrix),\n",
    "                   trainable=True))\n",
    "model.add(tf.keras.layers.LSTM(units=8))\n",
    "model.add(tf.keras.layers.Dense(1, activation='sigmoid'))\n",
    "\n",
    "es = EarlyStopping(monitor='val_loss', mode='min', verbose=1, patience=3)\n",
    "mc = ModelCheckpoint('embedding_lstm_best_model.h5', monitor='val_accuracy', mode='max', verbose=1, save_best_only=True)\n",
    "\n",
    "model.compile(optimizer='adam', loss='binary_crossentropy', metrics=['accuracy'])\n",
    "model.summary()"
   ]
  },
  {
   "cell_type": "code",
   "execution_count": 57,
   "id": "cd1b5e98",
   "metadata": {},
   "outputs": [
    {
     "name": "stdout",
     "output_type": "stream",
     "text": [
      "Epoch 1/10\n",
      "3655/3655 [==============================] - 24s 6ms/step - loss: 0.4496 - accuracy: 0.7852 - val_loss: 0.3944 - val_accuracy: 0.8200\n",
      "\n",
      "Epoch 00001: val_accuracy improved from -inf to 0.82002, saving model to embedding_lstm_best_model.h5\n",
      "Epoch 2/10\n",
      "3655/3655 [==============================] - 21s 6ms/step - loss: 0.3599 - accuracy: 0.8413 - val_loss: 0.3816 - val_accuracy: 0.8297\n",
      "\n",
      "Epoch 00002: val_accuracy improved from 0.82002 to 0.82970, saving model to embedding_lstm_best_model.h5\n",
      "Epoch 3/10\n",
      "3655/3655 [==============================] - 21s 6ms/step - loss: 0.3305 - accuracy: 0.8574 - val_loss: 0.3780 - val_accuracy: 0.8322\n",
      "\n",
      "Epoch 00003: val_accuracy improved from 0.82970 to 0.83216, saving model to embedding_lstm_best_model.h5\n",
      "Epoch 4/10\n",
      "3655/3655 [==============================] - 21s 6ms/step - loss: 0.3097 - accuracy: 0.8674 - val_loss: 0.3803 - val_accuracy: 0.8350\n",
      "\n",
      "Epoch 00004: val_accuracy improved from 0.83216 to 0.83504, saving model to embedding_lstm_best_model.h5\n",
      "Epoch 5/10\n",
      "3655/3655 [==============================] - 22s 6ms/step - loss: 0.2935 - accuracy: 0.8754 - val_loss: 0.3853 - val_accuracy: 0.8336\n",
      "\n",
      "Epoch 00005: val_accuracy did not improve from 0.83504\n",
      "Epoch 6/10\n",
      "3655/3655 [==============================] - 22s 6ms/step - loss: 0.2774 - accuracy: 0.8837 - val_loss: 0.3935 - val_accuracy: 0.8320\n",
      "\n",
      "Epoch 00006: val_accuracy did not improve from 0.83504\n",
      "Epoch 00006: early stopping\n"
     ]
    }
   ],
   "source": [
    "history = model.fit(X_train, y_train, epochs=10, validation_data=(X_val, y_val), callbacks=[es, mc])"
   ]
  },
  {
   "cell_type": "code",
   "execution_count": 58,
   "id": "86650fd1",
   "metadata": {
    "scrolled": true
   },
   "outputs": [
    {
     "name": "stdout",
     "output_type": "stream",
     "text": [
      "1537/1537 [==============================] - 4s 3ms/step - loss: 0.3917 - accuracy: 0.8328\n",
      "\n",
      "Word2vec 임베딩 후 lstm 모델 테스트 정확도: 0.8328\n"
     ]
    }
   ],
   "source": [
    "predict = model.evaluate(X_test, y_test, verbose=1)\n",
    "print(\"\\nWord2vec 임베딩 후 lstm 모델 테스트 정확도: %.4f\" % (predict[1]))"
   ]
  },
  {
   "cell_type": "code",
   "execution_count": 59,
   "id": "f84cba75",
   "metadata": {},
   "outputs": [
    {
     "data": {
      "image/png": "[encoded data removed]",
      "text/plain": [
       "<Figure size 432x288 with 1 Axes>"
      ]
     },
     "metadata": {},
     "output_type": "display_data"
    }
   ],
   "source": [
    "draw_graph(history)"
   ]
  },
  {
   "cell_type": "markdown",
   "id": "7bad02fa",
   "metadata": {},
   "source": [
    "## lstm"
   ]
  },
  {
   "cell_type": "code",
   "execution_count": 62,
   "id": "67a61d5a",
   "metadata": {
    "scrolled": false
   },
   "outputs": [
    {
     "name": "stdout",
     "output_type": "stream",
     "text": [
      "Model: \"sequential_9\"\n",
      "_________________________________________________________________\n",
      "Layer (type)                 Output Shape              Param #   \n",
      "=================================================================\n",
      "embedding_7 (Embedding)      (None, None, 100)         1000000   \n",
      "_________________________________________________________________\n",
      "lstm_5 (LSTM)                (None, 10)                4440      \n",
      "_________________________________________________________________\n",
      "dense_10 (Dense)             (None, 1)                 11        \n",
      "=================================================================\n",
      "Total params: 1,004,451\n",
      "Trainable params: 4,451\n",
      "Non-trainable params: 1,000,000\n",
      "_________________________________________________________________\n"
     ]
    }
   ],
   "source": [
    "vocab_size = 10000\n",
    "word_vector_dim = 100\n",
    "\n",
    "model = Sequential()\n",
    "model.add(Embedding(vocab_size, word_vector_dim,\n",
    "                   embeddings_initializer=Constant(embedding_matrix),\n",
    "                   trainable=False))\n",
    "model.add(tf.keras.layers.LSTM(units=10))\n",
    "model.add(tf.keras.layers.Dense(1, activation='sigmoid'))\n",
    "\n",
    "es = EarlyStopping(monitor='val_loss', mode='min', verbose=1, patience=3)\n",
    "mc = ModelCheckpoint('embedding_lstm_tr_false.h5', monitor='val_accuracy', mode='max', verbose=1, save_best_only=True)\n",
    "\n",
    "model.compile(optimizer='adam', loss='binary_crossentropy', metrics=['accuracy'])\n",
    "model.summary()"
   ]
  },
  {
   "cell_type": "code",
   "execution_count": 63,
   "id": "7e90bbed",
   "metadata": {},
   "outputs": [
    {
     "name": "stdout",
     "output_type": "stream",
     "text": [
      "Epoch 1/10\n",
      "3655/3655 [==============================] - 19s 5ms/step - loss: 0.5014 - accuracy: 0.7521 - val_loss: 0.4781 - val_accuracy: 0.7675\n",
      "\n",
      "Epoch 00001: val_accuracy improved from -inf to 0.76749, saving model to embedding_lstm_tr_false.h5\n",
      "Epoch 2/10\n",
      "3655/3655 [==============================] - 17s 5ms/step - loss: 0.4401 - accuracy: 0.7942 - val_loss: 0.4388 - val_accuracy: 0.7954\n",
      "\n",
      "Epoch 00002: val_accuracy improved from 0.76749 to 0.79540, saving model to embedding_lstm_tr_false.h5\n",
      "Epoch 3/10\n",
      "3655/3655 [==============================] - 18s 5ms/step - loss: 0.4229 - accuracy: 0.8051 - val_loss: 0.4345 - val_accuracy: 0.7983\n",
      "\n",
      "Epoch 00003: val_accuracy improved from 0.79540 to 0.79827, saving model to embedding_lstm_tr_false.h5\n",
      "Epoch 4/10\n",
      "3655/3655 [==============================] - 18s 5ms/step - loss: 0.4121 - accuracy: 0.8116 - val_loss: 0.4283 - val_accuracy: 0.8018\n",
      "\n",
      "Epoch 00004: val_accuracy improved from 0.79827 to 0.80183, saving model to embedding_lstm_tr_false.h5\n",
      "Epoch 5/10\n",
      "3655/3655 [==============================] - 18s 5ms/step - loss: 0.4046 - accuracy: 0.8150 - val_loss: 0.4276 - val_accuracy: 0.8021\n",
      "\n",
      "Epoch 00005: val_accuracy improved from 0.80183 to 0.80213, saving model to embedding_lstm_tr_false.h5\n",
      "Epoch 6/10\n",
      "3655/3655 [==============================] - 18s 5ms/step - loss: 0.4001 - accuracy: 0.8179 - val_loss: 0.4216 - val_accuracy: 0.8068\n",
      "\n",
      "Epoch 00006: val_accuracy improved from 0.80213 to 0.80679, saving model to embedding_lstm_tr_false.h5\n",
      "Epoch 7/10\n",
      "3655/3655 [==============================] - 18s 5ms/step - loss: 0.3948 - accuracy: 0.8213 - val_loss: 0.4191 - val_accuracy: 0.8070\n",
      "\n",
      "Epoch 00007: val_accuracy improved from 0.80679 to 0.80703, saving model to embedding_lstm_tr_false.h5\n",
      "Epoch 8/10\n",
      "3655/3655 [==============================] - 18s 5ms/step - loss: 0.3911 - accuracy: 0.8238 - val_loss: 0.4180 - val_accuracy: 0.8062\n",
      "\n",
      "Epoch 00008: val_accuracy did not improve from 0.80703\n",
      "Epoch 9/10\n",
      "3655/3655 [==============================] - 18s 5ms/step - loss: 0.3879 - accuracy: 0.8259 - val_loss: 0.4163 - val_accuracy: 0.8076\n",
      "\n",
      "Epoch 00009: val_accuracy improved from 0.80703 to 0.80757, saving model to embedding_lstm_tr_false.h5\n",
      "Epoch 10/10\n",
      "3655/3655 [==============================] - 18s 5ms/step - loss: 0.3856 - accuracy: 0.8263 - val_loss: 0.4117 - val_accuracy: 0.8127\n",
      "\n",
      "Epoch 00010: val_accuracy improved from 0.80757 to 0.81274, saving model to embedding_lstm_tr_false.h5\n"
     ]
    }
   ],
   "source": [
    "history = model.fit(X_train, y_train, epochs=10, validation_data=(X_val, y_val), callbacks=[es, mc])"
   ]
  },
  {
   "cell_type": "code",
   "execution_count": 64,
   "id": "14ae935a",
   "metadata": {
    "scrolled": true
   },
   "outputs": [
    {
     "name": "stdout",
     "output_type": "stream",
     "text": [
      "1537/1537 [==============================] - 4s 3ms/step - loss: 0.4114 - accuracy: 0.8138\n",
      "\n",
      "Word2vec 임베딩 후 lstm 모델 테스트 정확도: 0.8138\n"
     ]
    }
   ],
   "source": [
    "predict = model.evaluate(X_test, y_test, verbose=1)\n",
    "print(\"\\nWord2vec 임베딩 후 lstm 모델 테스트 정확도: %.4f\" % (predict[1]))"
   ]
  },
  {
   "cell_type": "code",
   "execution_count": 66,
   "id": "39d23431",
   "metadata": {},
   "outputs": [
    {
     "data": {
      "image/png": "[encoded data removed]",
      "text/plain": [
       "<Figure size 432x288 with 1 Axes>"
      ]
     },
     "metadata": {},
     "output_type": "display_data"
    }
   ],
   "source": [
    "draw_graph(history)"
   ]
  },
  {
   "cell_type": "markdown",
   "id": "d418d931",
   "metadata": {},
   "source": [
    "### Stacked LSTM"
   ]
  },
  {
   "cell_type": "code",
   "execution_count": 68,
   "id": "0959f2b5",
   "metadata": {},
   "outputs": [
    {
     "name": "stdout",
     "output_type": "stream",
     "text": [
      "Model: \"sequential_10\"\n",
      "_________________________________________________________________\n",
      "Layer (type)                 Output Shape              Param #   \n",
      "=================================================================\n",
      "embedding_8 (Embedding)      (None, None, 100)         1000000   \n",
      "_________________________________________________________________\n",
      "lstm_6 (LSTM)                (None, None, 8)           3488      \n",
      "_________________________________________________________________\n",
      "lstm_7 (LSTM)                (None, 16)                1600      \n",
      "_________________________________________________________________\n",
      "dense_11 (Dense)             (None, 1)                 17        \n",
      "=================================================================\n",
      "Total params: 1,005,105\n",
      "Trainable params: 1,005,105\n",
      "Non-trainable params: 0\n",
      "_________________________________________________________________\n"
     ]
    }
   ],
   "source": [
    "vocab_size = 10000\n",
    "word_vector_dim = 100\n",
    "\n",
    "model = tf.keras.Sequential()\n",
    "model.add(Embedding(vocab_size, word_vector_dim,\n",
    "                   embeddings_initializer=Constant(embedding_matrix),\n",
    "                   trainable=True))\n",
    "model.add(tf.keras.layers.LSTM(units=8, return_sequences = True))\n",
    "model.add(tf.keras.layers.LSTM(units=16, return_sequences = False))\n",
    "model.add(tf.keras.layers.Dense(1, activation='sigmoid'))\n",
    "\n",
    "es = EarlyStopping(monitor='val_loss', mode='min', verbose=1, patience=3)\n",
    "mc = ModelCheckpoint('embedding_stacked_lstm_best_model.h5', monitor='val_accuracy', mode='max', verbose=1, save_best_only=True)\n",
    "\n",
    "model.compile(optimizer='adam', loss='binary_crossentropy', metrics=['accuracy'])\n",
    "model.summary()"
   ]
  },
  {
   "cell_type": "code",
   "execution_count": 69,
   "id": "82314f15",
   "metadata": {},
   "outputs": [
    {
     "name": "stdout",
     "output_type": "stream",
     "text": [
      "Epoch 1/20\n",
      "3655/3655 [==============================] - 31s 8ms/step - loss: 0.4380 - accuracy: 0.7914 - val_loss: 0.3868 - val_accuracy: 0.8242\n",
      "\n",
      "Epoch 00001: val_accuracy improved from -inf to 0.82423, saving model to embedding_stacked_lstm_best_model.h5\n",
      "Epoch 2/20\n",
      "3655/3655 [==============================] - 30s 8ms/step - loss: 0.3513 - accuracy: 0.8455 - val_loss: 0.3753 - val_accuracy: 0.8298\n",
      "\n",
      "Epoch 00002: val_accuracy improved from 0.82423 to 0.82980, saving model to embedding_stacked_lstm_best_model.h5\n",
      "Epoch 3/20\n",
      "3655/3655 [==============================] - 31s 8ms/step - loss: 0.3248 - accuracy: 0.8598 - val_loss: 0.3718 - val_accuracy: 0.8351\n",
      "\n",
      "Epoch 00003: val_accuracy improved from 0.82980 to 0.83511, saving model to embedding_stacked_lstm_best_model.h5\n",
      "Epoch 4/20\n",
      "3655/3655 [==============================] - 30s 8ms/step - loss: 0.3054 - accuracy: 0.8695 - val_loss: 0.3696 - val_accuracy: 0.8358\n",
      "\n",
      "Epoch 00004: val_accuracy improved from 0.83511 to 0.83579, saving model to embedding_stacked_lstm_best_model.h5\n",
      "Epoch 5/20\n",
      "3655/3655 [==============================] - 31s 8ms/step - loss: 0.2886 - accuracy: 0.8770 - val_loss: 0.3729 - val_accuracy: 0.8352\n",
      "\n",
      "Epoch 00005: val_accuracy did not improve from 0.83579\n",
      "Epoch 6/20\n",
      "3655/3655 [==============================] - 30s 8ms/step - loss: 0.2731 - accuracy: 0.8850 - val_loss: 0.3803 - val_accuracy: 0.8338\n",
      "\n",
      "Epoch 00006: val_accuracy did not improve from 0.83579\n",
      "Epoch 7/20\n",
      "3655/3655 [==============================] - 28s 8ms/step - loss: 0.2588 - accuracy: 0.8918 - val_loss: 0.3947 - val_accuracy: 0.8323\n",
      "\n",
      "Epoch 00007: val_accuracy did not improve from 0.83579\n",
      "Epoch 00007: early stopping\n"
     ]
    }
   ],
   "source": [
    "history = model.fit(X_train, y_train, epochs=20, validation_data=(X_val, y_val), callbacks=[es, mc])"
   ]
  },
  {
   "cell_type": "code",
   "execution_count": 71,
   "id": "460ba469",
   "metadata": {},
   "outputs": [
    {
     "name": "stdout",
     "output_type": "stream",
     "text": [
      "1537/1537 [==============================] - 5s 3ms/step - loss: 0.3867 - accuracy: 0.8369\n",
      "\n",
      "Word2vec 임베딩 후 Stacked LSTM 모델 테스트 정확도: 0.8369\n"
     ]
    }
   ],
   "source": [
    "predict = model.evaluate(X_test, y_test, verbose=1)\n",
    "print(\"\\nWord2vec 임베딩 후 Stacked LSTM 모델 테스트 정확도: %.4f\" % (predict[1]))"
   ]
  },
  {
   "cell_type": "markdown",
   "id": "96052eb8",
   "metadata": {},
   "source": [
    "## 회고"
   ]
  },
  {
   "cell_type": "markdown",
   "id": "af3fc2b5",
   "metadata": {},
   "source": [
    "__배운점__\n",
    "- Embedding이 성능향상을 내는 것을 볼 수 있었다 (CNN).\n",
    "    - 안정적인 학습이 가능해지는 것을 확인하였다\n",
    "    - 하지만 lstm 모델에서는 성능이 향상이 되지 않았다\n",
    "\n",
    "\n",
    "__아쉬운점__\n",
    "- tokenizer 별로 성능 정리를 해보고 싶었는데 시간상의 이유로 하지 못해서 아쉽다\n",
    "- overfitting 문제가 많이 발생해서 이를 해결하기 위한 시도를 좀 더 해보고 싶다\n"
   ]
  }
 ],
 "metadata": {
  "kernelspec": {
   "display_name": "Python 3 (ipykernel)",
   "language": "python",
   "name": "python3"
  },
  "language_info": {
   "codemirror_mode": {
    "name": "ipython",
    "version": 3
   },
   "file_extension": ".py",
   "mimetype": "text/x-python",
   "name": "python",
   "nbconvert_exporter": "python",
   "pygments_lexer": "ipython3",
   "version": "3.9.7"
  }
 },
 "nbformat": 4,
 "nbformat_minor": 5
}
