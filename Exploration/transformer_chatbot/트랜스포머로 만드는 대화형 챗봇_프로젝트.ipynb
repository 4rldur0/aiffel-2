{
 "cells": [
  {
   "cell_type": "markdown",
   "id": "81292032",
   "metadata": {},
   "source": [
    "# 프로젝트: 한국어 데이터로 챗봇 만들기\n",
    "영어로 만들었던 챗봇을 한국어 데이터로 바꿔서 훈련시켜봅시다.\n",
    "\n",
    "시작하기 전에 우선 주요 라이브러리 버전을 확인해 봅시다."
   ]
  },
  {
   "cell_type": "code",
   "execution_count": 1,
   "id": "118170e0",
   "metadata": {},
   "outputs": [
    {
     "name": "stdout",
     "output_type": "stream",
     "text": [
      "2.6.0\n"
     ]
    }
   ],
   "source": [
    "import tensorflow\n",
    "\n",
    "print(tensorflow.__version__)"
   ]
  },
  {
   "cell_type": "markdown",
   "id": "27255962",
   "metadata": {},
   "source": [
    "# Step 1. 데이터 수집하기\n",
    "한국어 챗봇 데이터는 송영숙님이 공개한 챗봇 데이터를 사용합니다.\n",
    "\n",
    "이 데이터는 아래의 링크에서 다운로드할 수 있습니다.\n",
    "\n",
    "- songys/Chatbot_data"
   ]
  },
  {
   "cell_type": "code",
   "execution_count": 2,
   "id": "51d1435c",
   "metadata": {},
   "outputs": [],
   "source": [
    "import os\n",
    "import re\n",
    "\n",
    "import pandas as pd\n",
    "import numpy as np\n",
    "\n",
    "import tensorflow as tf"
   ]
  },
  {
   "cell_type": "code",
   "execution_count": 3,
   "id": "9607b620",
   "metadata": {},
   "outputs": [],
   "source": [
    "chatbot = pd.read_csv('./data/ChatbotData .csv')"
   ]
  },
  {
   "cell_type": "code",
   "execution_count": 4,
   "id": "efe74c6f",
   "metadata": {},
   "outputs": [
    {
     "data": {
      "text/html": [
       "<div>\n",
       "<style scoped>\n",
       "    .dataframe tbody tr th:only-of-type {\n",
       "        vertical-align: middle;\n",
       "    }\n",
       "\n",
       "    .dataframe tbody tr th {\n",
       "        vertical-align: top;\n",
       "    }\n",
       "\n",
       "    .dataframe thead th {\n",
       "        text-align: right;\n",
       "    }\n",
       "</style>\n",
       "<table border=\"1\" class=\"dataframe\">\n",
       "  <thead>\n",
       "    <tr style=\"text-align: right;\">\n",
       "      <th></th>\n",
       "      <th>Q</th>\n",
       "      <th>A</th>\n",
       "      <th>label</th>\n",
       "    </tr>\n",
       "  </thead>\n",
       "  <tbody>\n",
       "    <tr>\n",
       "      <th>0</th>\n",
       "      <td>12시 땡!</td>\n",
       "      <td>하루가 또 가네요.</td>\n",
       "      <td>0</td>\n",
       "    </tr>\n",
       "    <tr>\n",
       "      <th>1</th>\n",
       "      <td>1지망 학교 떨어졌어</td>\n",
       "      <td>위로해 드립니다.</td>\n",
       "      <td>0</td>\n",
       "    </tr>\n",
       "    <tr>\n",
       "      <th>2</th>\n",
       "      <td>3박4일 놀러가고 싶다</td>\n",
       "      <td>여행은 언제나 좋죠.</td>\n",
       "      <td>0</td>\n",
       "    </tr>\n",
       "    <tr>\n",
       "      <th>3</th>\n",
       "      <td>3박4일 정도 놀러가고 싶다</td>\n",
       "      <td>여행은 언제나 좋죠.</td>\n",
       "      <td>0</td>\n",
       "    </tr>\n",
       "    <tr>\n",
       "      <th>4</th>\n",
       "      <td>PPL 심하네</td>\n",
       "      <td>눈살이 찌푸려지죠.</td>\n",
       "      <td>0</td>\n",
       "    </tr>\n",
       "    <tr>\n",
       "      <th>...</th>\n",
       "      <td>...</td>\n",
       "      <td>...</td>\n",
       "      <td>...</td>\n",
       "    </tr>\n",
       "    <tr>\n",
       "      <th>11818</th>\n",
       "      <td>훔쳐보는 것도 눈치 보임.</td>\n",
       "      <td>티가 나니까 눈치가 보이는 거죠!</td>\n",
       "      <td>2</td>\n",
       "    </tr>\n",
       "    <tr>\n",
       "      <th>11819</th>\n",
       "      <td>훔쳐보는 것도 눈치 보임.</td>\n",
       "      <td>훔쳐보는 거 티나나봐요.</td>\n",
       "      <td>2</td>\n",
       "    </tr>\n",
       "    <tr>\n",
       "      <th>11820</th>\n",
       "      <td>흑기사 해주는 짝남.</td>\n",
       "      <td>설렜겠어요.</td>\n",
       "      <td>2</td>\n",
       "    </tr>\n",
       "    <tr>\n",
       "      <th>11821</th>\n",
       "      <td>힘든 연애 좋은 연애라는게 무슨 차이일까?</td>\n",
       "      <td>잘 헤어질 수 있는 사이 여부인 거 같아요.</td>\n",
       "      <td>2</td>\n",
       "    </tr>\n",
       "    <tr>\n",
       "      <th>11822</th>\n",
       "      <td>힘들어서 결혼할까봐</td>\n",
       "      <td>도피성 결혼은 하지 않길 바라요.</td>\n",
       "      <td>2</td>\n",
       "    </tr>\n",
       "  </tbody>\n",
       "</table>\n",
       "<p>11823 rows × 3 columns</p>\n",
       "</div>"
      ],
      "text/plain": [
       "                             Q                         A  label\n",
       "0                       12시 땡!                하루가 또 가네요.      0\n",
       "1                  1지망 학교 떨어졌어                 위로해 드립니다.      0\n",
       "2                 3박4일 놀러가고 싶다               여행은 언제나 좋죠.      0\n",
       "3              3박4일 정도 놀러가고 싶다               여행은 언제나 좋죠.      0\n",
       "4                      PPL 심하네                눈살이 찌푸려지죠.      0\n",
       "...                        ...                       ...    ...\n",
       "11818           훔쳐보는 것도 눈치 보임.        티가 나니까 눈치가 보이는 거죠!      2\n",
       "11819           훔쳐보는 것도 눈치 보임.             훔쳐보는 거 티나나봐요.      2\n",
       "11820              흑기사 해주는 짝남.                    설렜겠어요.      2\n",
       "11821  힘든 연애 좋은 연애라는게 무슨 차이일까?  잘 헤어질 수 있는 사이 여부인 거 같아요.      2\n",
       "11822               힘들어서 결혼할까봐        도피성 결혼은 하지 않길 바라요.      2\n",
       "\n",
       "[11823 rows x 3 columns]"
      ]
     },
     "execution_count": 4,
     "metadata": {},
     "output_type": "execute_result"
    }
   ],
   "source": [
    "chatbot"
   ]
  },
  {
   "cell_type": "markdown",
   "id": "a94bd2c9",
   "metadata": {},
   "source": [
    "# Step 2. 데이터 전처리하기\n",
    "- 공백, 특수문자 처리\n",
    "- 챗봇 특성상 숫자의 의미가 별로 필요없는 것으로 보이므로 숫자도 제거해준다\n",
    "    - 옵션을 통해 숫자가 필요하지 않으면 없애는 걸로 코드를 수정했다"
   ]
  },
  {
   "cell_type": "code",
   "execution_count": 5,
   "id": "d8d47228",
   "metadata": {},
   "outputs": [],
   "source": [
    "# 전처리 함수\n",
    "def preprocess_sentence(sentence, num=False):\n",
    "    # 입력받은 sentence를 소문자로 변경하고 양쪽 공백을 제거\n",
    "    sentence = sentence.strip()\n",
    "\n",
    "    # 단어와 구두점(punctuation) 사이의 거리를 만듭니다.\n",
    "    sentence = re.sub(r\"([?.!,])\", r\" \\1 \", sentence)\n",
    "    sentence = re.sub(r'[\" \"]+', \" \", sentence)\n",
    "\n",
    "    # (가-힣, a-z, A-Z, \".\", \"?\", \"!\", \",\")를 제외한 모든 문자를 공백인 ' '로 대체합니다.\n",
    "    if num == False: # 숫자제거\n",
    "        sentence = re.sub(r'[^가-힣a-zA-Z.?!,]', ' ', sentence)\n",
    "    else:\n",
    "        sentence = re.sub(r'[^가-힣0-9a-zA-Z.?!,]', ' ', sentence)\n",
    "    sentence = sentence.strip()\n",
    "    return sentence"
   ]
  },
  {
   "cell_type": "code",
   "execution_count": 6,
   "id": "7d12a2eb",
   "metadata": {},
   "outputs": [],
   "source": [
    "sentence = '3박4일 놀러가고 싶다'"
   ]
  },
  {
   "cell_type": "code",
   "execution_count": 7,
   "id": "9c40909c",
   "metadata": {},
   "outputs": [
    {
     "data": {
      "text/plain": [
       "'박 일 놀러가고 싶다'"
      ]
     },
     "execution_count": 7,
     "metadata": {},
     "output_type": "execute_result"
    }
   ],
   "source": [
    "preprocess_sentence(sentence, False)"
   ]
  },
  {
   "cell_type": "code",
   "execution_count": 8,
   "id": "4fd7e699",
   "metadata": {},
   "outputs": [
    {
     "data": {
      "text/plain": [
       "'3박4일 놀러가고 싶다'"
      ]
     },
     "execution_count": 8,
     "metadata": {},
     "output_type": "execute_result"
    }
   ],
   "source": [
    "preprocess_sentence(sentence, True)"
   ]
  },
  {
   "cell_type": "markdown",
   "id": "fd184367",
   "metadata": {},
   "source": [
    "# Step 3. SubwordTextEncoder 사용하기\n",
    "한국어 데이터는 형태소 분석기를 사용하여 토크나이징을 해야 한다고 많은 분이 알고 있습니다. 하지만 여기서는 형태소 분석기가 아닌 위 실습에서 사용했던 내부 단어 토크나이저인 SubwordTextEncoder를 그대로 사용해보세요."
   ]
  },
  {
   "cell_type": "code",
   "execution_count": 9,
   "id": "c57515d5",
   "metadata": {},
   "outputs": [],
   "source": [
    "questions = chatbot.Q.tolist()\n",
    "answers = chatbot.A.tolist()"
   ]
  },
  {
   "cell_type": "code",
   "execution_count": 10,
   "id": "f4a89f18",
   "metadata": {},
   "outputs": [],
   "source": [
    "import tensorflow_datasets as tfds\n",
    "\n",
    "# 질문과 답변 데이터셋에 대해서 Vocabulary 생성\n",
    "tokenizer = tfds.deprecated.text.SubwordTextEncoder.build_from_corpus(questions + answers, target_vocab_size=2**13)"
   ]
  },
  {
   "cell_type": "code",
   "execution_count": 11,
   "id": "d6120369",
   "metadata": {},
   "outputs": [],
   "source": [
    "# 시작 토큰과 종료 토큰에 고유한 정수를 부여합니다.\n",
    "START_TOKEN, END_TOKEN = [tokenizer.vocab_size], [tokenizer.vocab_size + 1]"
   ]
  },
  {
   "cell_type": "code",
   "execution_count": 12,
   "id": "d1b09474",
   "metadata": {},
   "outputs": [
    {
     "name": "stdout",
     "output_type": "stream",
     "text": [
      "START_TOKEN의 번호 : [8170]\n",
      "END_TOKEN의 번호 : [8171]\n"
     ]
    }
   ],
   "source": [
    "print('START_TOKEN의 번호 :' ,[tokenizer.vocab_size])\n",
    "print('END_TOKEN의 번호 :' ,[tokenizer.vocab_size + 1])"
   ]
  },
  {
   "cell_type": "code",
   "execution_count": 13,
   "id": "1075533c",
   "metadata": {},
   "outputs": [
    {
     "name": "stdout",
     "output_type": "stream",
     "text": [
      "8172\n"
     ]
    }
   ],
   "source": [
    "# 시작 토큰과 종료 토큰을 고려하여 +2를 하여 단어장의 크기를 산정합니다.\n",
    "VOCAB_SIZE = tokenizer.vocab_size + 2\n",
    "print(VOCAB_SIZE)"
   ]
  },
  {
   "cell_type": "code",
   "execution_count": 14,
   "id": "d5f92a0c",
   "metadata": {},
   "outputs": [
    {
     "name": "stdout",
     "output_type": "stream",
     "text": [
      "정수 인코딩 후의 21번째 질문 샘플: [5759, 607, 2490, 4160]\n",
      "정수 인코딩 후의 21번째 답변 샘플: [2353, 7510, 5, 6273, 94, 7960]\n"
     ]
    }
   ],
   "source": [
    "# 임의의 22번째 샘플에 대해서 정수 인코딩 작업을 수행.\n",
    "# 각 토큰을 고유한 정수로 변환\n",
    "print('정수 인코딩 후의 21번째 질문 샘플: {}'.format(tokenizer.encode(questions[21])))\n",
    "print('정수 인코딩 후의 21번째 답변 샘플: {}'.format(tokenizer.encode(answers[21])))"
   ]
  },
  {
   "cell_type": "markdown",
   "id": "830a9f20",
   "metadata": {},
   "source": [
    "### 적절한 패딩 길이 구하기"
   ]
  },
  {
   "cell_type": "code",
   "execution_count": 15,
   "id": "e8a7581f",
   "metadata": {},
   "outputs": [],
   "source": [
    "import matplotlib.pyplot as plt"
   ]
  },
  {
   "cell_type": "code",
   "execution_count": 16,
   "id": "10cc154d",
   "metadata": {},
   "outputs": [
    {
     "name": "stdout",
     "output_type": "stream",
     "text": [
      "토큰 길이 평균: 12.879049310665652\n",
      "토큰 길이 최대: 56\n",
      "토큰 길이 표준편차: 6.167205838440642\n"
     ]
    }
   ],
   "source": [
    "num_questions = [len(tokens) for tokens in questions]\n",
    "num_questions = np.array(num_questions)\n",
    "\n",
    "\n",
    "# 평균값, 최댓값, 표준편차\n",
    "print(f\"토큰 길이 평균: {np.mean(num_questions)}\")\n",
    "print(f\"토큰 길이 최대: {np.max(num_questions)}\")\n",
    "print(f\"토큰 길이 표준편차: {np.std(num_questions)}\")"
   ]
  },
  {
   "cell_type": "code",
   "execution_count": 17,
   "id": "388b4e5a",
   "metadata": {},
   "outputs": [
    {
     "name": "stdout",
     "output_type": "stream",
     "text": [
      "토큰 길이 평균: 15.0151399813922\n",
      "토큰 길이 최대: 76\n",
      "토큰 길이 표준편차: 6.70155143772292\n"
     ]
    }
   ],
   "source": [
    "num_answers = [len(tokens) for tokens in answers]\n",
    "num_answers = np.array(num_answers)\n",
    "\n",
    "\n",
    "# 평균값, 최댓값, 표준편차\n",
    "print(f\"토큰 길이 평균: {np.mean(num_answers)}\")\n",
    "print(f\"토큰 길이 최대: {np.max(num_answers)}\")\n",
    "print(f\"토큰 길이 표준편차: {np.std(num_answers)}\")"
   ]
  },
  {
   "cell_type": "code",
   "execution_count": 18,
   "id": "ba0a4e65",
   "metadata": {},
   "outputs": [
    {
     "data": {
      "image/png": "[encoded data removed]",
      "text/plain": [
       "<Figure size 432x288 with 1 Axes>"
      ]
     },
     "metadata": {
      "needs_background": "light"
     },
     "output_type": "display_data"
    }
   ],
   "source": [
    "plt.title('all text length')\n",
    "plt.hist(num_answers, bins=100)\n",
    "plt.hist(num_questions, bins=100)\n",
    "plt.xlabel('length of samples')\n",
    "plt.ylabel('number of samples')\n",
    "plt.show()"
   ]
  },
  {
   "cell_type": "code",
   "execution_count": 19,
   "id": "11e402ba",
   "metadata": {},
   "outputs": [],
   "source": [
    "select_length = 40\n",
    "\n",
    "def below_threshold_len(max_len, nested_list):\n",
    "    cnt = 0\n",
    "    for s in nested_list:\n",
    "        if(len(s) <= max_len):\n",
    "            cnt = cnt + 1\n",
    "        \n",
    "    print('전체 샘플 중 길이가 %s 이하인 샘플의 비율: %s'%(max_len, (cnt / len(nested_list))))"
   ]
  },
  {
   "cell_type": "code",
   "execution_count": 20,
   "id": "f644138b",
   "metadata": {},
   "outputs": [
    {
     "name": "stdout",
     "output_type": "stream",
     "text": [
      "전체 샘플 중 길이가 40 이하인 샘플의 비율: 0.9924722997547154\n"
     ]
    }
   ],
   "source": [
    "below_threshold_len(select_length, answers)"
   ]
  },
  {
   "cell_type": "code",
   "execution_count": 21,
   "id": "d60a0eac",
   "metadata": {},
   "outputs": [
    {
     "name": "stdout",
     "output_type": "stream",
     "text": [
      "전체 샘플 중 길이가 40 이하인 샘플의 비율: 0.9984775437706166\n"
     ]
    }
   ],
   "source": [
    "below_threshold_len(select_length, questions)"
   ]
  },
  {
   "cell_type": "code",
   "execution_count": 22,
   "id": "e42c31f4",
   "metadata": {},
   "outputs": [
    {
     "name": "stdout",
     "output_type": "stream",
     "text": [
      "40\n"
     ]
    }
   ],
   "source": [
    "# 샘플의 최대 허용 길이 또는 패딩 후의 최종 길이\n",
    "MAX_LENGTH = 40\n",
    "print(MAX_LENGTH)"
   ]
  },
  {
   "cell_type": "markdown",
   "id": "5dbbde2d",
   "metadata": {},
   "source": [
    "### 정수 인코딩, 최대 길이를 초과하는 샘플 제거, 패딩"
   ]
  },
  {
   "cell_type": "code",
   "execution_count": 23,
   "id": "2b3dd503",
   "metadata": {},
   "outputs": [],
   "source": [
    "def tokenize_and_filter(inputs, outputs):\n",
    "    tokenized_inputs, tokenized_outputs = [], []\n",
    "\n",
    "    for (sentence1, sentence2) in zip(inputs, outputs):\n",
    "        # 정수 인코딩 과정에서 시작 토큰과 종료 토큰을 추가\n",
    "        sentence1 = START_TOKEN + tokenizer.encode(sentence1) + END_TOKEN\n",
    "        sentence2 = START_TOKEN + tokenizer.encode(sentence2) + END_TOKEN\n",
    "\n",
    "        # 최대 길이 40 이하인 경우에만 데이터셋으로 허용\n",
    "        if len(sentence1) <= MAX_LENGTH and len(sentence2) <= MAX_LENGTH:\n",
    "            tokenized_inputs.append(sentence1)\n",
    "            tokenized_outputs.append(sentence2)\n",
    "\n",
    "    # 최대 길이 40으로 모든 데이터셋을 패딩\n",
    "    tokenized_inputs = tf.keras.preprocessing.sequence.pad_sequences(\n",
    "      tokenized_inputs, maxlen=MAX_LENGTH, padding='post')\n",
    "    tokenized_outputs = tf.keras.preprocessing.sequence.pad_sequences(\n",
    "      tokenized_outputs, maxlen=MAX_LENGTH, padding='post')\n",
    "\n",
    "    return tokenized_inputs, tokenized_outputs"
   ]
  },
  {
   "cell_type": "code",
   "execution_count": 24,
   "id": "015d8bee",
   "metadata": {},
   "outputs": [
    {
     "name": "stdout",
     "output_type": "stream",
     "text": [
      "단어장의 크기 : 8172\n",
      "필터링 후의 질문 샘플 개수: 11823\n",
      "필터링 후의 답변 샘플 개수: 11823\n"
     ]
    }
   ],
   "source": [
    "questions, answers = tokenize_and_filter(questions, answers)\n",
    "print('단어장의 크기 :',(VOCAB_SIZE))\n",
    "print('필터링 후의 질문 샘플 개수: {}'.format(len(questions)))\n",
    "print('필터링 후의 답변 샘플 개수: {}'.format(len(answers)))"
   ]
  },
  {
   "cell_type": "code",
   "execution_count": 25,
   "id": "89531ada",
   "metadata": {},
   "outputs": [],
   "source": [
    "import tensorflow as tf\n",
    "\n",
    "# BATCH_SIZE와 BUFFER_SIZE 정의\n",
    "BATCH_SIZE = 64\n",
    "BUFFER_SIZE = 20000\n",
    "\n",
    "# 질문과 답변 데이터를 tf.data.Dataset으로 만듭니다.\n",
    "dataset = tf.data.Dataset.from_tensor_slices((\n",
    "    {\n",
    "        'inputs': questions,\n",
    "        'dec_inputs': answers[:, :-1]\n",
    "    },\n",
    "    {\n",
    "        'outputs': answers[:, 1:]\n",
    "    },\n",
    "))\n",
    "\n",
    "# 전체 데이터셋 크기 계산\n",
    "dataset_size = len(questions)\n",
    "\n",
    "# 학습 데이터셋과 검증 데이터셋 크기 계산\n",
    "train_size = int(0.8 * dataset_size)\n",
    "val_size = dataset_size - train_size\n",
    "\n",
    "# 데이터셋 캐싱, 셔플링, 배칭 및 prefetch 적용\n",
    "dataset = dataset.cache()\n",
    "dataset = dataset.shuffle(BUFFER_SIZE)\n",
    "\n",
    "# 학습 데이터셋과 검증 데이터셋으로 분할\n",
    "train_dataset = dataset.take(train_size).batch(BATCH_SIZE).prefetch(tf.data.experimental.AUTOTUNE)\n",
    "val_dataset = dataset.skip(train_size).batch(BATCH_SIZE).prefetch(tf.data.experimental.AUTOTUNE)"
   ]
  },
  {
   "cell_type": "markdown",
   "id": "97282092",
   "metadata": {},
   "source": [
    "## Step 4. 모델 구성하기\n",
    "\n",
    "추가적으로 모델 저장을 위해 `get_config()`와 `__init__`부분을 수정하였다"
   ]
  },
  {
   "cell_type": "markdown",
   "id": "280b606b",
   "metadata": {},
   "source": [
    "- 모델 선정 이유\n",
    "    >- transformer는 자연어 처리 작업에서 좋은 성능을 발휘하는 것으로 알려져 있다.\n",
    "    >- 특히 문장의 길이에 관계없이 문맥을 잘 이해하고 다룰 수 있는 능력이 강점이다. \n",
    "\n",
    "- Metrics 선정 이유\n",
    "    >- 모델이 생성한 문장이 정확하게 의미를 전달하는지를 중요하게 여기기 때문에 accuracy 메트릭을 사용했다.\n",
    "    >- 이 메트릭은 모델이 단어 수준에서 얼마나 정확하게 예측하는지를 측정한다. \n",
    "    >- 이 외에도 BLEU나 ROUGE 등의 자동 평가 지표를 사용하여 모델의 출력을 사람이 직접 평가하는 경우와 비교할 수도 있다.\n",
    "\n",
    "- Loss 선정 이유\n",
    "    >- 우리가 다루는 과제는 문장 생성 문제이며, 희소한 출력 공간에서 정확한 단어를 예측하는 것이 중요하다. \n",
    "    >- 이를 위해 sparse categorical crossentropy 손실 함수를 선택했다. \n",
    "    >- 이 함수는 다중 클래스 분류 문제에서 주로 사용되며, 우리의 출력이 정수 형태의 토큰 ID로 표현되기 때문에 적합하다. \n",
    "    >- 또한, 패딩된 부분을 무시하기 위한 mask를 적용하여 모델이 패딩 토큰을 무시하도록 했다.\n"
   ]
  },
  {
   "cell_type": "code",
   "execution_count": 26,
   "id": "cf434e20",
   "metadata": {},
   "outputs": [],
   "source": [
    "class PositionalEncoding(tf.keras.layers.Layer):\n",
    "    def __init__(self, position, d_model, **kwargs):\n",
    "        super(PositionalEncoding, self).__init__(**kwargs)\n",
    "        self.position = position\n",
    "        self.d_model = d_model\n",
    "        self.pos_encoding = self.positional_encoding(position, d_model)\n",
    "    \n",
    "    def get_angles(self, position, i, d_model):\n",
    "        angles = 1 / tf.pow(10000, (2 * (i // 2)) / tf.cast(d_model, tf.float32))\n",
    "        return position * angles\n",
    "\n",
    "    def positional_encoding(self, position, d_model):\n",
    "        angle_rads = self.get_angles(\n",
    "            position=tf.range(position, dtype=tf.float32)[:, tf.newaxis],\n",
    "            i=tf.range(d_model, dtype=tf.float32)[tf.newaxis, :],\n",
    "            d_model=d_model)\n",
    "\n",
    "        sines = tf.math.sin(angle_rads[:, 0::2])\n",
    "        cosines = tf.math.cos(angle_rads[:, 1::2])\n",
    "\n",
    "        pos_encoding = tf.stack([sines, cosines], axis=0)\n",
    "        pos_encoding = tf.transpose(pos_encoding, [1, 2, 0])\n",
    "        pos_encoding = tf.reshape(pos_encoding, [position, d_model])\n",
    "\n",
    "        pos_encoding = pos_encoding[tf.newaxis, ...]\n",
    "        return tf.cast(pos_encoding, tf.float32)\n",
    "\n",
    "    def call(self, inputs):\n",
    "        return inputs + self.pos_encoding[:, :tf.shape(inputs)[1], :]\n",
    "\n",
    "    def get_config(self):\n",
    "        config = super(PositionalEncoding, self).get_config()\n",
    "        config.update({\n",
    "            'position': self.position,\n",
    "            'd_model': self.d_model\n",
    "        })\n",
    "        return config"
   ]
  },
  {
   "cell_type": "code",
   "execution_count": 27,
   "id": "8750860b",
   "metadata": {},
   "outputs": [],
   "source": [
    "# 스케일드 닷 프로덕트 어텐션 함수\n",
    "def scaled_dot_product_attention(query, key, value, mask):\n",
    "    # 어텐션 가중치는 Q와 K의 닷 프로덕트\n",
    "    matmul_qk = tf.matmul(query, key, transpose_b=True)\n",
    "\n",
    "    # 가중치를 정규화\n",
    "    depth = tf.cast(tf.shape(key)[-1], tf.float32)\n",
    "    logits = matmul_qk / tf.math.sqrt(depth)\n",
    "\n",
    "    # 패딩에 마스크 추가\n",
    "    if mask is not None:\n",
    "        logits += (mask * -1e9)\n",
    "\n",
    "    # softmax적용\n",
    "    attention_weights = tf.nn.softmax(logits, axis=-1)\n",
    "\n",
    "    # 최종 어텐션은 가중치와 V의 닷 프로덕트\n",
    "    output = tf.matmul(attention_weights, value)\n",
    "    return output"
   ]
  },
  {
   "cell_type": "code",
   "execution_count": 28,
   "id": "5a338a18",
   "metadata": {},
   "outputs": [],
   "source": [
    "class MultiHeadAttention(tf.keras.layers.Layer):\n",
    "\n",
    "    def __init__(self, d_model, num_heads, **kwargs):\n",
    "        super(MultiHeadAttention, self).__init__(**kwargs)\n",
    "        self.num_heads = num_heads\n",
    "        self.d_model = d_model\n",
    "\n",
    "        assert d_model % self.num_heads == 0\n",
    "\n",
    "        self.depth = d_model // self.num_heads\n",
    "\n",
    "        self.query_dense = tf.keras.layers.Dense(units=d_model)\n",
    "        self.key_dense = tf.keras.layers.Dense(units=d_model)\n",
    "        self.value_dense = tf.keras.layers.Dense(units=d_model)\n",
    "\n",
    "        self.dense = tf.keras.layers.Dense(units=d_model)\n",
    "\n",
    "    def split_heads(self, inputs, batch_size):\n",
    "        inputs = tf.reshape(\n",
    "            inputs, shape=(batch_size, -1, self.num_heads, self.depth))\n",
    "        return tf.transpose(inputs, perm=[0, 2, 1, 3])\n",
    "\n",
    "    def call(self, inputs):\n",
    "        query, key, value, mask = inputs['query'], inputs['key'], inputs['value'], inputs['mask']\n",
    "        batch_size = tf.shape(query)[0]\n",
    "\n",
    "        # Q, K, V에 각각 Dense를 적용합니다\n",
    "        query = self.query_dense(query)\n",
    "        key = self.key_dense(key)\n",
    "        value = self.value_dense(value)\n",
    "\n",
    "        # 병렬 연산을 위한 머리를 여러 개 만듭니다\n",
    "        query = self.split_heads(query, batch_size)\n",
    "        key = self.split_heads(key, batch_size)\n",
    "        value = self.split_heads(value, batch_size)\n",
    "\n",
    "        # 스케일드 닷 프로덕트 어텐션 함수\n",
    "        scaled_attention = scaled_dot_product_attention(query, key, value, mask)\n",
    "\n",
    "        scaled_attention = tf.transpose(scaled_attention, perm=[0, 2, 1, 3])\n",
    "\n",
    "        # 어텐션 연산 후에 각 결과를 다시 연결(concatenate)합니다\n",
    "        concat_attention = tf.reshape(scaled_attention,\n",
    "                                      (batch_size, -1, self.d_model))\n",
    "\n",
    "        # 최종 결과에도 Dense를 한 번 더 적용합니다\n",
    "        outputs = self.dense(concat_attention)\n",
    "\n",
    "        return outputs\n",
    "    \n",
    "    def get_config(self):\n",
    "        config = super(MultiHeadAttention, self).get_config()\n",
    "        config.update({\n",
    "            'd_model': self.d_model,\n",
    "            'num_heads': self.num_heads,\n",
    "        })\n",
    "        return config"
   ]
  },
  {
   "cell_type": "code",
   "execution_count": 29,
   "id": "9ae40f53",
   "metadata": {},
   "outputs": [],
   "source": [
    "def create_padding_mask(x):\n",
    "    mask = tf.cast(tf.math.equal(x, 0), tf.float32)\n",
    "    # (batch_size, 1, 1, sequence length)\n",
    "    return mask[:, tf.newaxis, tf.newaxis, :]"
   ]
  },
  {
   "cell_type": "code",
   "execution_count": 30,
   "id": "3b9f68ad",
   "metadata": {},
   "outputs": [],
   "source": [
    "def create_look_ahead_mask(x):\n",
    "    seq_len = tf.shape(x)[1]\n",
    "    look_ahead_mask = 1 - tf.linalg.band_part(tf.ones((seq_len, seq_len)), -1, 0)\n",
    "    padding_mask = create_padding_mask(x)\n",
    "    return tf.maximum(look_ahead_mask, padding_mask)"
   ]
  },
  {
   "cell_type": "code",
   "execution_count": 31,
   "id": "b304afd2",
   "metadata": {},
   "outputs": [],
   "source": [
    "# 인코더 하나의 레이어를 함수로 구현.\n",
    "# 이 하나의 레이어 안에는 두 개의 서브 레이어가 존재합니다.\n",
    "def encoder_layer(units, d_model, num_heads, dropout, name=\"encoder_layer\"):\n",
    "    inputs = tf.keras.Input(shape=(None, d_model), name=\"inputs\")\n",
    "\n",
    "    # 패딩 마스크 사용\n",
    "    padding_mask = tf.keras.Input(shape=(1, 1, None), name=\"padding_mask\")\n",
    "\n",
    "    # 첫 번째 서브 레이어 : 멀티 헤드 어텐션 수행 (셀프 어텐션)\n",
    "    attention = MultiHeadAttention(\n",
    "      d_model, num_heads, name=\"attention\")({\n",
    "          'query': inputs,\n",
    "          'key': inputs,\n",
    "          'value': inputs,\n",
    "          'mask': padding_mask\n",
    "      })\n",
    "\n",
    "    # 어텐션의 결과는 Dropout과 Layer Normalization이라는 훈련을 돕는 테크닉을 수행\n",
    "    attention = tf.keras.layers.Dropout(rate=dropout)(attention)\n",
    "    attention = tf.keras.layers.LayerNormalization(\n",
    "      epsilon=1e-6)(inputs + attention)\n",
    "\n",
    "    # 두 번째 서브 레이어 : 2개의 완전연결층\n",
    "    outputs = tf.keras.layers.Dense(units=units, activation='relu')(attention)\n",
    "    outputs = tf.keras.layers.Dense(units=d_model)(outputs)\n",
    "\n",
    "    # 완전연결층의 결과는 Dropout과 LayerNormalization이라는 훈련을 돕는 테크닉을 수행\n",
    "    outputs = tf.keras.layers.Dropout(rate=dropout)(outputs)\n",
    "    outputs = tf.keras.layers.LayerNormalization(\n",
    "      epsilon=1e-6)(attention + outputs)\n",
    "\n",
    "    return tf.keras.Model(\n",
    "        inputs=[inputs, padding_mask], outputs=outputs, name=name)\n",
    "\n",
    "def encoder(vocab_size, num_layers, units, d_model, num_heads, dropout, name=\"encoder\"):\n",
    "    inputs = tf.keras.Input(shape=(None,), name=\"inputs\")\n",
    "\n",
    "    # 패딩 마스크 사용\n",
    "    padding_mask = tf.keras.Input(shape=(1, 1, None), name=\"padding_mask\")\n",
    "\n",
    "    # 임베딩 레이어\n",
    "    embeddings = tf.keras.layers.Embedding(vocab_size, d_model)(inputs)\n",
    "    embeddings *= tf.math.sqrt(tf.cast(d_model, tf.float32))\n",
    "\n",
    "    # 포지셔널 인코딩\n",
    "    embeddings = PositionalEncoding(vocab_size, d_model)(embeddings)\n",
    "\n",
    "    outputs = tf.keras.layers.Dropout(rate=dropout)(embeddings)\n",
    "\n",
    "    # num_layers만큼 쌓아올린 인코더의 층.\n",
    "    for i in range(num_layers):\n",
    "        outputs = encoder_layer(\n",
    "            units=units,\n",
    "            d_model=d_model,\n",
    "            num_heads=num_heads,\n",
    "            dropout=dropout,\n",
    "            name=\"encoder_layer_{}\".format(i),)([outputs, padding_mask])\n",
    "\n",
    "    return tf.keras.Model(\n",
    "      inputs=[inputs, padding_mask], outputs=outputs, name=name)"
   ]
  },
  {
   "cell_type": "code",
   "execution_count": 32,
   "id": "8e8c51cb",
   "metadata": {},
   "outputs": [],
   "source": [
    "# 디코더 하나의 레이어를 함수로 구현.\n",
    "# 이 하나의 레이어 안에는 세 개의 서브 레이어가 존재합니다.\n",
    "def decoder_layer(units, d_model, num_heads, dropout, name=\"decoder_layer\"):\n",
    "    inputs = tf.keras.Input(shape=(None, d_model), name=\"inputs\")\n",
    "    enc_outputs = tf.keras.Input(shape=(None, d_model), name=\"encoder_outputs\")\n",
    "    look_ahead_mask = tf.keras.Input(\n",
    "      shape=(1, None, None), name=\"look_ahead_mask\")\n",
    "    padding_mask = tf.keras.Input(shape=(1, 1, None), name='padding_mask')\n",
    "    \n",
    "    #################################################\n",
    "    # 첫 번째 서브 레이어 : 멀티 헤드 어텐션 수행 (셀프 어텐션) #\n",
    "    ################################################\n",
    "    attention1 = MultiHeadAttention(\n",
    "      d_model, num_heads, name=\"attention_1\")(inputs={\n",
    "          'query': inputs,\n",
    "          'key': inputs,\n",
    "          'value': inputs,\n",
    "          'mask': look_ahead_mask\n",
    "      })\n",
    "\n",
    "    # 멀티 헤드 어텐션의 결과는 LayerNormalization이라는 훈련을 돕는 테크닉을 수행\n",
    "    attention1 = tf.keras.layers.LayerNormalization(\n",
    "      epsilon=1e-6)(attention1 + inputs)\n",
    "\n",
    "    ##############################################################\n",
    "    # 두 번째 서브 레이어 : 마스크드 멀티 헤드 어텐션 수행 (인코더-디코더 어텐션) #\n",
    "    ##############################################################\n",
    "    attention2 = MultiHeadAttention(\n",
    "      d_model, num_heads, name=\"attention_2\")(inputs={\n",
    "          'query': attention1,\n",
    "          'key': enc_outputs,\n",
    "          'value': enc_outputs,\n",
    "          'mask': padding_mask\n",
    "      })\n",
    "\n",
    "    # 마스크드 멀티 헤드 어텐션의 결과는\n",
    "    # Dropout과 LayerNormalization이라는 훈련을 돕는 테크닉을 수행\n",
    "    attention2 = tf.keras.layers.Dropout(rate=dropout)(attention2)\n",
    "    attention2 = tf.keras.layers.LayerNormalization(\n",
    "      epsilon=1e-6)(attention2 + attention1)\n",
    "\n",
    "    ##################################\n",
    "    # 세 번째 서브 레이어 : 2개의 완전연결층 #\n",
    "    #################################\n",
    "    outputs = tf.keras.layers.Dense(units=units, activation='relu')(attention2)\n",
    "    outputs = tf.keras.layers.Dense(units=d_model)(outputs)\n",
    "\n",
    "    # 완전연결층의 결과는 Dropout과 LayerNormalization 수행\n",
    "    outputs = tf.keras.layers.Dropout(rate=dropout)(outputs)\n",
    "    outputs = tf.keras.layers.LayerNormalization(\n",
    "      epsilon=1e-6)(outputs + attention2)\n",
    "\n",
    "    return tf.keras.Model(\n",
    "      inputs=[inputs, enc_outputs, look_ahead_mask, padding_mask],\n",
    "      outputs=outputs,\n",
    "      name=name)\n",
    "\n",
    "def decoder(vocab_size,\n",
    "            num_layers,\n",
    "            units,\n",
    "            d_model,\n",
    "            num_heads,\n",
    "            dropout,\n",
    "            name='decoder'):\n",
    "    inputs = tf.keras.Input(shape=(None,), name='inputs')\n",
    "    enc_outputs = tf.keras.Input(shape=(None, d_model), name='encoder_outputs')\n",
    "    look_ahead_mask = tf.keras.Input(\n",
    "      shape=(1, None, None), name='look_ahead_mask')\n",
    "\n",
    "    # 패딩 마스크\n",
    "    padding_mask = tf.keras.Input(shape=(1, 1, None), name='padding_mask')\n",
    "\n",
    "    # 임베딩 레이어\n",
    "    embeddings = tf.keras.layers.Embedding(vocab_size, d_model)(inputs)\n",
    "    embeddings *= tf.math.sqrt(tf.cast(d_model, tf.float32))\n",
    "\n",
    "    # 포지셔널 인코딩\n",
    "    embeddings = PositionalEncoding(vocab_size, d_model)(embeddings)\n",
    "\n",
    "    # Dropout이라는 훈련을 돕는 테크닉을 수행\n",
    "    outputs = tf.keras.layers.Dropout(rate=dropout)(embeddings)\n",
    "\n",
    "    for i in range(num_layers):\n",
    "        outputs = decoder_layer(\n",
    "            units=units,\n",
    "            d_model=d_model,\n",
    "            num_heads=num_heads,\n",
    "            dropout=dropout,\n",
    "            name='decoder_layer_{}'.format(i),\n",
    "        )(inputs=[outputs, enc_outputs, look_ahead_mask, padding_mask])\n",
    "\n",
    "    return tf.keras.Model(\n",
    "      inputs=[inputs, enc_outputs, look_ahead_mask, padding_mask],\n",
    "      outputs=outputs,\n",
    "      name=name)"
   ]
  },
  {
   "cell_type": "code",
   "execution_count": 33,
   "id": "8d0ca883",
   "metadata": {},
   "outputs": [],
   "source": [
    "def transformer(vocab_size,\n",
    "                num_layers,\n",
    "                units,\n",
    "                d_model,\n",
    "                num_heads,\n",
    "                dropout,\n",
    "                name=\"transformer\"):\n",
    "    inputs = tf.keras.Input(shape=(None,), name=\"inputs\")\n",
    "    dec_inputs = tf.keras.Input(shape=(None,), name=\"dec_inputs\")\n",
    "\n",
    "    # 인코더에서 패딩을 위한 마스크\n",
    "    enc_padding_mask = tf.keras.layers.Lambda(\n",
    "      create_padding_mask, output_shape=(1, 1, None),\n",
    "      name='enc_padding_mask')(inputs)\n",
    "\n",
    "    # 디코더에서 미래의 토큰을 마스크 하기 위해서 사용합니다.\n",
    "    # 내부적으로 패딩 마스크도 포함되어져 있습니다.\n",
    "    look_ahead_mask = tf.keras.layers.Lambda(\n",
    "      create_look_ahead_mask,\n",
    "      output_shape=(1, None, None),\n",
    "      name='look_ahead_mask')(dec_inputs)\n",
    "\n",
    "    # 두 번째 어텐션 블록에서 인코더의 벡터들을 마스킹\n",
    "    # 디코더에서 패딩을 위한 마스크\n",
    "    dec_padding_mask = tf.keras.layers.Lambda(\n",
    "      create_padding_mask, output_shape=(1, 1, None),\n",
    "      name='dec_padding_mask')(inputs)\n",
    "\n",
    "    # 인코더\n",
    "    enc_outputs = encoder(\n",
    "      vocab_size=vocab_size,\n",
    "      num_layers=num_layers,\n",
    "      units=units,\n",
    "      d_model=d_model,\n",
    "      num_heads=num_heads,\n",
    "      dropout=dropout,\n",
    "    )(inputs=[inputs, enc_padding_mask])\n",
    "\n",
    "    # 디코더\n",
    "    dec_outputs = decoder(\n",
    "      vocab_size=vocab_size,\n",
    "      num_layers=num_layers,\n",
    "      units=units,\n",
    "      d_model=d_model,\n",
    "      num_heads=num_heads,\n",
    "      dropout=dropout,\n",
    "    )(inputs=[dec_inputs, enc_outputs, look_ahead_mask, dec_padding_mask])\n",
    "\n",
    "    # 완전연결층\n",
    "    outputs = tf.keras.layers.Dense(units=vocab_size, name=\"outputs\")(dec_outputs)\n",
    "\n",
    "    return tf.keras.Model(inputs=[inputs, dec_inputs], outputs=outputs, name=name)"
   ]
  },
  {
   "cell_type": "code",
   "execution_count": 34,
   "id": "75eb5f2f",
   "metadata": {},
   "outputs": [
    {
     "name": "stdout",
     "output_type": "stream",
     "text": [
      "Model: \"transformer\"\n",
      "__________________________________________________________________________________________________\n",
      "Layer (type)                    Output Shape         Param #     Connected to                     \n",
      "==================================================================================================\n",
      "inputs (InputLayer)             [(None, None)]       0                                            \n",
      "__________________________________________________________________________________________________\n",
      "dec_inputs (InputLayer)         [(None, None)]       0                                            \n",
      "__________________________________________________________________________________________________\n",
      "enc_padding_mask (Lambda)       (None, 1, 1, None)   0           inputs[0][0]                     \n",
      "__________________________________________________________________________________________________\n",
      "encoder (Functional)            (None, None, 256)    3146240     inputs[0][0]                     \n",
      "                                                                 enc_padding_mask[0][0]           \n",
      "__________________________________________________________________________________________________\n",
      "look_ahead_mask (Lambda)        (None, 1, None, None 0           dec_inputs[0][0]                 \n",
      "__________________________________________________________________________________________________\n",
      "dec_padding_mask (Lambda)       (None, 1, 1, None)   0           inputs[0][0]                     \n",
      "__________________________________________________________________________________________________\n",
      "decoder (Functional)            (None, None, 256)    3673600     dec_inputs[0][0]                 \n",
      "                                                                 encoder[0][0]                    \n",
      "                                                                 look_ahead_mask[0][0]            \n",
      "                                                                 dec_padding_mask[0][0]           \n",
      "__________________________________________________________________________________________________\n",
      "outputs (Dense)                 (None, None, 8172)   2100204     decoder[0][0]                    \n",
      "==================================================================================================\n",
      "Total params: 8,920,044\n",
      "Trainable params: 8,920,044\n",
      "Non-trainable params: 0\n",
      "__________________________________________________________________________________________________\n"
     ]
    }
   ],
   "source": [
    "tf.keras.backend.clear_session()\n",
    "\n",
    "# 하이퍼파라미터\n",
    "NUM_LAYERS = 2 # 인코더와 디코더의 층의 개수\n",
    "D_MODEL = 256 # 인코더와 디코더 내부의 입, 출력의 고정 차원\n",
    "NUM_HEADS = 8 # 멀티 헤드 어텐션에서의 헤드 수 \n",
    "UNITS = 512 # 피드 포워드 신경망의 은닉층의 크기\n",
    "DROPOUT = 0.1 # 드롭아웃의 비율\n",
    "\n",
    "model = transformer(\n",
    "    vocab_size=VOCAB_SIZE,\n",
    "    num_layers=NUM_LAYERS,\n",
    "    units=UNITS,\n",
    "    d_model=D_MODEL,\n",
    "    num_heads=NUM_HEADS,\n",
    "    dropout=DROPOUT)\n",
    "\n",
    "model.summary()"
   ]
  },
  {
   "cell_type": "code",
   "execution_count": 35,
   "id": "1023f599",
   "metadata": {},
   "outputs": [],
   "source": [
    "# 손실 함수\n",
    "def loss_function(y_true, y_pred):\n",
    "    y_true = tf.reshape(y_true, shape=(-1, MAX_LENGTH - 1))\n",
    "\n",
    "    loss = tf.keras.losses.SparseCategoricalCrossentropy(\n",
    "      from_logits=True, reduction='none')(y_true, y_pred)\n",
    "\n",
    "    mask = tf.cast(tf.not_equal(y_true, 0), tf.float32)\n",
    "    loss = tf.multiply(loss, mask)\n",
    "\n",
    "    return tf.reduce_mean(loss)"
   ]
  },
  {
   "cell_type": "markdown",
   "id": "19140721",
   "metadata": {},
   "source": [
    "### 커스텀 된 학습률(Learning rate)\n",
    "\n",
    "$$ lrate = d^{-0.5}_{model} \\cdot min(step\\_num^{-0.5}, step\\_num \\cdot warmup\\_steps^{-1.5}) $$"
   ]
  },
  {
   "cell_type": "code",
   "execution_count": 36,
   "id": "aa36fb06",
   "metadata": {},
   "outputs": [],
   "source": [
    "class CustomSchedule(tf.keras.optimizers.schedules.LearningRateSchedule):\n",
    "\n",
    "    def __init__(self, d_model, warmup_steps=4000):\n",
    "        super(CustomSchedule, self).__init__()\n",
    "\n",
    "        self.d_model = d_model\n",
    "        self.d_model = tf.cast(self.d_model, tf.float32)\n",
    "\n",
    "        self.warmup_steps = warmup_steps\n",
    "\n",
    "    def __call__(self, step):\n",
    "        arg1 = tf.math.rsqrt(step)\n",
    "        arg2 = step * (self.warmup_steps**-1.5)\n",
    "\n",
    "        return tf.math.rsqrt(self.d_model) * tf.math.minimum(arg1, arg2)\n",
    "    \n",
    "    def get_config(self):\n",
    "        return {\n",
    "            'd_model': int(self.d_model.numpy()),\n",
    "            'warmup_steps': self.warmup_steps,\n",
    "        }"
   ]
  },
  {
   "cell_type": "code",
   "execution_count": 37,
   "id": "406f439a",
   "metadata": {},
   "outputs": [],
   "source": [
    "# 모델 컴파일\n",
    "learning_rate = CustomSchedule(D_MODEL)\n",
    "\n",
    "optimizer = tf.keras.optimizers.Adam(\n",
    "    learning_rate, beta_1=0.9, beta_2=0.98, epsilon=1e-9)\n",
    "\n",
    "def accuracy(y_true, y_pred):\n",
    "    y_true = tf.reshape(y_true, shape=(-1, MAX_LENGTH - 1))\n",
    "    return tf.keras.metrics.sparse_categorical_accuracy(y_true, y_pred)\n",
    "\n",
    "model.compile(optimizer=optimizer, loss=loss_function, metrics=[accuracy])"
   ]
  },
  {
   "cell_type": "code",
   "execution_count": 38,
   "id": "44846dcb",
   "metadata": {},
   "outputs": [
    {
     "name": "stdout",
     "output_type": "stream",
     "text": [
      "Epoch 1/50\n",
      "148/148 [==============================] - 16s 69ms/step - loss: 1.4770 - accuracy: 0.0220 - val_loss: 1.3596 - val_accuracy: 0.0264\n",
      "\n",
      "Epoch 00001: val_loss improved from inf to 1.35963, saving model to ./checkpoints/cp-0001.ckpt\n",
      "Epoch 2/50\n",
      "148/148 [==============================] - 9s 60ms/step - loss: 1.2611 - accuracy: 0.0461 - val_loss: 1.1485 - val_accuracy: 0.0497\n",
      "\n",
      "Epoch 00002: val_loss improved from 1.35963 to 1.14853, saving model to ./checkpoints/cp-0002.ckpt\n",
      "Epoch 3/50\n",
      "148/148 [==============================] - 9s 61ms/step - loss: 1.0733 - accuracy: 0.0499 - val_loss: 0.9958 - val_accuracy: 0.0505\n",
      "\n",
      "Epoch 00003: val_loss improved from 1.14853 to 0.99582, saving model to ./checkpoints/cp-0003.ckpt\n",
      "Epoch 4/50\n",
      "148/148 [==============================] - 9s 61ms/step - loss: 0.9679 - accuracy: 0.0516 - val_loss: 0.9248 - val_accuracy: 0.0540\n",
      "\n",
      "Epoch 00004: val_loss improved from 0.99582 to 0.92480, saving model to ./checkpoints/cp-0004.ckpt\n",
      "Epoch 5/50\n",
      "148/148 [==============================] - 9s 61ms/step - loss: 0.9199 - accuracy: 0.0548 - val_loss: 0.8756 - val_accuracy: 0.0564\n",
      "\n",
      "Epoch 00005: val_loss improved from 0.92480 to 0.87561, saving model to ./checkpoints/cp-0005.ckpt\n",
      "Epoch 6/50\n",
      "148/148 [==============================] - 9s 61ms/step - loss: 0.8748 - accuracy: 0.0570 - val_loss: 0.8362 - val_accuracy: 0.0593\n",
      "\n",
      "Epoch 00006: val_loss improved from 0.87561 to 0.83619, saving model to ./checkpoints/cp-0006.ckpt\n",
      "Epoch 7/50\n",
      "148/148 [==============================] - 9s 61ms/step - loss: 0.8277 - accuracy: 0.0601 - val_loss: 0.7618 - val_accuracy: 0.0644\n",
      "\n",
      "Epoch 00007: val_loss improved from 0.83619 to 0.76185, saving model to ./checkpoints/cp-0007.ckpt\n",
      "Epoch 8/50\n",
      "148/148 [==============================] - 9s 61ms/step - loss: 0.7758 - accuracy: 0.0648 - val_loss: 0.7200 - val_accuracy: 0.0699\n",
      "\n",
      "Epoch 00008: val_loss improved from 0.76185 to 0.72003, saving model to ./checkpoints/cp-0008.ckpt\n",
      "Epoch 9/50\n",
      "148/148 [==============================] - 9s 61ms/step - loss: 0.7197 - accuracy: 0.0702 - val_loss: 0.6441 - val_accuracy: 0.0775\n",
      "\n",
      "Epoch 00009: val_loss improved from 0.72003 to 0.64410, saving model to ./checkpoints/cp-0009.ckpt\n",
      "Epoch 10/50\n",
      "148/148 [==============================] - 9s 61ms/step - loss: 0.6635 - accuracy: 0.0771 - val_loss: 0.5765 - val_accuracy: 0.0864\n",
      "\n",
      "Epoch 00010: val_loss improved from 0.64410 to 0.57653, saving model to ./checkpoints/cp-0010.ckpt\n",
      "Epoch 11/50\n",
      "148/148 [==============================] - 9s 61ms/step - loss: 0.6003 - accuracy: 0.0836 - val_loss: 0.4908 - val_accuracy: 0.0952\n",
      "\n",
      "Epoch 00011: val_loss improved from 0.57653 to 0.49085, saving model to ./checkpoints/cp-0011.ckpt\n",
      "Epoch 12/50\n",
      "148/148 [==============================] - 9s 61ms/step - loss: 0.5341 - accuracy: 0.0915 - val_loss: 0.4305 - val_accuracy: 0.1033\n",
      "\n",
      "Epoch 00012: val_loss improved from 0.49085 to 0.43054, saving model to ./checkpoints/cp-0012.ckpt\n",
      "Epoch 13/50\n",
      "148/148 [==============================] - 9s 61ms/step - loss: 0.4673 - accuracy: 0.0995 - val_loss: 0.3563 - val_accuracy: 0.1172\n",
      "\n",
      "Epoch 00013: val_loss improved from 0.43054 to 0.35627, saving model to ./checkpoints/cp-0013.ckpt\n",
      "Epoch 14/50\n",
      "148/148 [==============================] - 9s 61ms/step - loss: 0.3979 - accuracy: 0.1077 - val_loss: 0.2868 - val_accuracy: 0.1236\n",
      "\n",
      "Epoch 00014: val_loss improved from 0.35627 to 0.28678, saving model to ./checkpoints/cp-0014.ckpt\n",
      "Epoch 15/50\n",
      "148/148 [==============================] - 9s 61ms/step - loss: 0.3373 - accuracy: 0.1168 - val_loss: 0.2230 - val_accuracy: 0.1357\n",
      "\n",
      "Epoch 00015: val_loss improved from 0.28678 to 0.22301, saving model to ./checkpoints/cp-0015.ckpt\n",
      "Epoch 16/50\n",
      "148/148 [==============================] - 9s 61ms/step - loss: 0.2780 - accuracy: 0.1257 - val_loss: 0.1733 - val_accuracy: 0.1424\n",
      "\n",
      "Epoch 00016: val_loss improved from 0.22301 to 0.17332, saving model to ./checkpoints/cp-0016.ckpt\n",
      "Epoch 17/50\n",
      "148/148 [==============================] - 9s 61ms/step - loss: 0.2237 - accuracy: 0.1341 - val_loss: 0.1264 - val_accuracy: 0.1521\n",
      "\n",
      "Epoch 00017: val_loss improved from 0.17332 to 0.12644, saving model to ./checkpoints/cp-0017.ckpt\n",
      "Epoch 18/50\n",
      "148/148 [==============================] - 9s 61ms/step - loss: 0.1768 - accuracy: 0.1420 - val_loss: 0.0854 - val_accuracy: 0.1606\n",
      "\n",
      "Epoch 00018: val_loss improved from 0.12644 to 0.08537, saving model to ./checkpoints/cp-0018.ckpt\n",
      "Epoch 19/50\n",
      "148/148 [==============================] - 9s 61ms/step - loss: 0.1376 - accuracy: 0.1488 - val_loss: 0.0645 - val_accuracy: 0.1638\n",
      "\n",
      "Epoch 00019: val_loss improved from 0.08537 to 0.06454, saving model to ./checkpoints/cp-0019.ckpt\n",
      "Epoch 20/50\n",
      "148/148 [==============================] - 9s 61ms/step - loss: 0.1074 - accuracy: 0.1531 - val_loss: 0.0419 - val_accuracy: 0.1676\n",
      "\n",
      "Epoch 00020: val_loss improved from 0.06454 to 0.04189, saving model to ./checkpoints/cp-0020.ckpt\n",
      "Epoch 21/50\n",
      "148/148 [==============================] - 9s 61ms/step - loss: 0.0849 - accuracy: 0.1573 - val_loss: 0.0312 - val_accuracy: 0.1707\n",
      "\n",
      "Epoch 00021: val_loss improved from 0.04189 to 0.03122, saving model to ./checkpoints/cp-0021.ckpt\n",
      "Epoch 22/50\n",
      "148/148 [==============================] - 9s 61ms/step - loss: 0.0678 - accuracy: 0.1612 - val_loss: 0.0244 - val_accuracy: 0.1662\n",
      "\n",
      "Epoch 00022: val_loss improved from 0.03122 to 0.02437, saving model to ./checkpoints/cp-0022.ckpt\n",
      "Epoch 23/50\n",
      "148/148 [==============================] - 9s 61ms/step - loss: 0.0584 - accuracy: 0.1624 - val_loss: 0.0211 - val_accuracy: 0.1714\n",
      "\n",
      "Epoch 00023: val_loss improved from 0.02437 to 0.02106, saving model to ./checkpoints/cp-0023.ckpt\n",
      "Epoch 24/50\n",
      "148/148 [==============================] - 9s 61ms/step - loss: 0.0513 - accuracy: 0.1638 - val_loss: 0.0197 - val_accuracy: 0.1688\n",
      "\n",
      "Epoch 00024: val_loss improved from 0.02106 to 0.01973, saving model to ./checkpoints/cp-0024.ckpt\n",
      "Epoch 25/50\n",
      "148/148 [==============================] - 9s 61ms/step - loss: 0.0467 - accuracy: 0.1645 - val_loss: 0.0174 - val_accuracy: 0.1730\n",
      "\n",
      "Epoch 00025: val_loss improved from 0.01973 to 0.01738, saving model to ./checkpoints/cp-0025.ckpt\n",
      "Epoch 26/50\n",
      "148/148 [==============================] - 9s 61ms/step - loss: 0.0439 - accuracy: 0.1648 - val_loss: 0.0174 - val_accuracy: 0.1711\n",
      "\n",
      "Epoch 00026: val_loss did not improve from 0.01738\n",
      "Epoch 27/50\n",
      "148/148 [==============================] - 9s 61ms/step - loss: 0.0409 - accuracy: 0.1654 - val_loss: 0.0165 - val_accuracy: 0.1729\n",
      "\n",
      "Epoch 00027: val_loss improved from 0.01738 to 0.01649, saving model to ./checkpoints/cp-0027.ckpt\n",
      "Epoch 28/50\n",
      "148/148 [==============================] - 9s 63ms/step - loss: 0.0396 - accuracy: 0.1646 - val_loss: 0.0161 - val_accuracy: 0.1715\n",
      "\n",
      "Epoch 00028: val_loss improved from 0.01649 to 0.01606, saving model to ./checkpoints/cp-0028.ckpt\n",
      "Epoch 29/50\n",
      "148/148 [==============================] - 9s 62ms/step - loss: 0.0361 - accuracy: 0.1668 - val_loss: 0.0126 - val_accuracy: 0.1734\n",
      "\n",
      "Epoch 00029: val_loss improved from 0.01606 to 0.01259, saving model to ./checkpoints/cp-0029.ckpt\n",
      "Epoch 30/50\n",
      "148/148 [==============================] - 9s 61ms/step - loss: 0.0316 - accuracy: 0.1673 - val_loss: 0.0119 - val_accuracy: 0.1727\n",
      "\n",
      "Epoch 00030: val_loss improved from 0.01259 to 0.01192, saving model to ./checkpoints/cp-0030.ckpt\n",
      "Epoch 31/50\n",
      "148/148 [==============================] - 9s 61ms/step - loss: 0.0289 - accuracy: 0.1677 - val_loss: 0.0103 - val_accuracy: 0.1726\n",
      "\n",
      "Epoch 00031: val_loss improved from 0.01192 to 0.01030, saving model to ./checkpoints/cp-0031.ckpt\n",
      "Epoch 32/50\n",
      "148/148 [==============================] - 9s 61ms/step - loss: 0.0261 - accuracy: 0.1685 - val_loss: 0.0100 - val_accuracy: 0.1735\n",
      "\n",
      "Epoch 00032: val_loss improved from 0.01030 to 0.00998, saving model to ./checkpoints/cp-0032.ckpt\n",
      "Epoch 33/50\n",
      "148/148 [==============================] - 9s 61ms/step - loss: 0.0242 - accuracy: 0.1691 - val_loss: 0.0094 - val_accuracy: 0.1731\n",
      "\n",
      "Epoch 00033: val_loss improved from 0.00998 to 0.00941, saving model to ./checkpoints/cp-0033.ckpt\n",
      "Epoch 34/50\n",
      "148/148 [==============================] - 9s 61ms/step - loss: 0.0222 - accuracy: 0.1700 - val_loss: 0.0093 - val_accuracy: 0.1734\n",
      "\n",
      "Epoch 00034: val_loss improved from 0.00941 to 0.00932, saving model to ./checkpoints/cp-0034.ckpt\n",
      "Epoch 35/50\n",
      "148/148 [==============================] - 9s 61ms/step - loss: 0.0208 - accuracy: 0.1702 - val_loss: 0.0076 - val_accuracy: 0.1737\n",
      "\n",
      "Epoch 00035: val_loss improved from 0.00932 to 0.00762, saving model to ./checkpoints/cp-0035.ckpt\n",
      "Epoch 36/50\n",
      "148/148 [==============================] - 9s 61ms/step - loss: 0.0193 - accuracy: 0.1704 - val_loss: 0.0070 - val_accuracy: 0.1730\n",
      "\n",
      "Epoch 00036: val_loss improved from 0.00762 to 0.00701, saving model to ./checkpoints/cp-0036.ckpt\n",
      "Epoch 37/50\n",
      "148/148 [==============================] - 9s 61ms/step - loss: 0.0165 - accuracy: 0.1711 - val_loss: 0.0067 - val_accuracy: 0.1749\n",
      "\n",
      "Epoch 00037: val_loss improved from 0.00701 to 0.00666, saving model to ./checkpoints/cp-0037.ckpt\n",
      "Epoch 38/50\n",
      "148/148 [==============================] - 9s 61ms/step - loss: 0.0159 - accuracy: 0.1710 - val_loss: 0.0066 - val_accuracy: 0.1742\n",
      "\n",
      "Epoch 00038: val_loss improved from 0.00666 to 0.00661, saving model to ./checkpoints/cp-0038.ckpt\n",
      "Epoch 39/50\n",
      "148/148 [==============================] - 9s 61ms/step - loss: 0.0149 - accuracy: 0.1716 - val_loss: 0.0056 - val_accuracy: 0.1754\n",
      "\n",
      "Epoch 00039: val_loss improved from 0.00661 to 0.00555, saving model to ./checkpoints/cp-0039.ckpt\n",
      "Epoch 40/50\n",
      "148/148 [==============================] - 9s 61ms/step - loss: 0.0147 - accuracy: 0.1710 - val_loss: 0.0060 - val_accuracy: 0.1742\n",
      "\n",
      "Epoch 00040: val_loss did not improve from 0.00555\n",
      "Epoch 41/50\n",
      "148/148 [==============================] - 9s 61ms/step - loss: 0.0135 - accuracy: 0.1716 - val_loss: 0.0054 - val_accuracy: 0.1747\n",
      "\n",
      "Epoch 00041: val_loss improved from 0.00555 to 0.00543, saving model to ./checkpoints/cp-0041.ckpt\n",
      "Epoch 42/50\n",
      "148/148 [==============================] - 9s 61ms/step - loss: 0.0125 - accuracy: 0.1717 - val_loss: 0.0053 - val_accuracy: 0.1742\n",
      "\n",
      "Epoch 00042: val_loss improved from 0.00543 to 0.00534, saving model to ./checkpoints/cp-0042.ckpt\n",
      "Epoch 43/50\n",
      "148/148 [==============================] - 9s 61ms/step - loss: 0.0116 - accuracy: 0.1725 - val_loss: 0.0051 - val_accuracy: 0.1749\n",
      "\n",
      "Epoch 00043: val_loss improved from 0.00534 to 0.00515, saving model to ./checkpoints/cp-0043.ckpt\n",
      "Epoch 44/50\n",
      "148/148 [==============================] - 9s 61ms/step - loss: 0.0113 - accuracy: 0.1729 - val_loss: 0.0051 - val_accuracy: 0.1751\n",
      "\n",
      "Epoch 00044: val_loss improved from 0.00515 to 0.00514, saving model to ./checkpoints/cp-0044.ckpt\n",
      "Epoch 45/50\n",
      "148/148 [==============================] - 9s 61ms/step - loss: 0.0114 - accuracy: 0.1731 - val_loss: 0.0052 - val_accuracy: 0.1729\n",
      "\n",
      "Epoch 00045: val_loss did not improve from 0.00514\n",
      "Epoch 46/50\n",
      "148/148 [==============================] - 9s 61ms/step - loss: 0.0103 - accuracy: 0.1731 - val_loss: 0.0058 - val_accuracy: 0.1754\n",
      "\n",
      "Epoch 00046: val_loss did not improve from 0.00514\n",
      "Epoch 47/50\n",
      "148/148 [==============================] - 9s 61ms/step - loss: 0.0099 - accuracy: 0.1722 - val_loss: 0.0052 - val_accuracy: 0.1749\n",
      "\n",
      "Epoch 00047: val_loss did not improve from 0.00514\n",
      "Epoch 48/50\n",
      "148/148 [==============================] - 9s 61ms/step - loss: 0.0097 - accuracy: 0.1722 - val_loss: 0.0036 - val_accuracy: 0.1731\n",
      "\n",
      "Epoch 00048: val_loss improved from 0.00514 to 0.00360, saving model to ./checkpoints/cp-0048.ckpt\n",
      "Epoch 49/50\n",
      "148/148 [==============================] - 9s 61ms/step - loss: 0.0093 - accuracy: 0.1726 - val_loss: 0.0036 - val_accuracy: 0.1756\n",
      "\n",
      "Epoch 00049: val_loss improved from 0.00360 to 0.00360, saving model to ./checkpoints/cp-0049.ckpt\n",
      "Epoch 50/50\n",
      "148/148 [==============================] - 9s 61ms/step - loss: 0.0085 - accuracy: 0.1738 - val_loss: 0.0041 - val_accuracy: 0.1730\n",
      "\n",
      "Epoch 00050: val_loss did not improve from 0.00360\n"
     ]
    }
   ],
   "source": [
    "# 체크포인트 콜백 정의\n",
    "checkpoint_path = \"./checkpoints/cp-{epoch:04d}.ckpt\"\n",
    "checkpoint_dir = os.path.dirname(checkpoint_path)\n",
    "\n",
    "# 모델 체크포인트 콜백 생성\n",
    "checkpoint_callback = tf.keras.callbacks.ModelCheckpoint(\n",
    "    filepath=checkpoint_path,\n",
    "    save_weights_only=True,\n",
    "    save_best_only=True,\n",
    "    monitor='val_loss',\n",
    "    verbose=1\n",
    ")\n",
    "\n",
    "# 모델 학습\n",
    "EPOCHS = 50\n",
    "history = model.fit(\n",
    "    train_dataset,\n",
    "    epochs=EPOCHS,\n",
    "    validation_data=val_dataset,\n",
    "    callbacks=[checkpoint_callback],\n",
    "    verbose=1\n",
    ")"
   ]
  },
  {
   "cell_type": "markdown",
   "id": "cb999e54",
   "metadata": {},
   "source": [
    "### Loss와 Accuracy 시각화"
   ]
  },
  {
   "cell_type": "code",
   "execution_count": 39,
   "id": "42c05c7e",
   "metadata": {},
   "outputs": [
    {
     "name": "stdout",
     "output_type": "stream",
     "text": [
      "dict_keys(['loss', 'accuracy', 'val_loss', 'val_accuracy'])\n"
     ]
    }
   ],
   "source": [
    "history_dict = history.history\n",
    "print(history_dict.keys())"
   ]
  },
  {
   "cell_type": "code",
   "execution_count": 40,
   "id": "378f9c73",
   "metadata": {},
   "outputs": [
    {
     "data": {
      "image/png": "[encoded data removed]",
      "text/plain": [
       "<Figure size 864x360 with 2 Axes>"
      ]
     },
     "metadata": {
      "needs_background": "light"
     },
     "output_type": "display_data"
    }
   ],
   "source": [
    "import matplotlib.pyplot as plt\n",
    "\n",
    "# history에서 손실과 정확도, 검증 손실과 검증 정확도를 추출합니다.\n",
    "acc = history.history['accuracy']\n",
    "val_acc = history.history['val_accuracy']\n",
    "loss = history.history['loss']\n",
    "val_loss = history.history['val_loss']\n",
    "\n",
    "epochs = range(1, len(acc) + 1)\n",
    "\n",
    "fig = plt.figure(figsize=(12, 5))\n",
    "\n",
    "plt.subplot(1, 2, 1)\n",
    "plt.plot(epochs, loss, 'bo', label='Training loss')\n",
    "plt.plot(epochs, val_loss, 'b', label='Validation loss')\n",
    "plt.title('Training and validation loss')\n",
    "plt.xlabel('Epochs')\n",
    "plt.ylabel('Loss')\n",
    "plt.legend()\n",
    "\n",
    "plt.subplot(1, 2, 2)\n",
    "plt.plot(epochs, acc, 'ro', label='Training accuracy')\n",
    "plt.plot(epochs, val_acc, 'r', label='Validation accuracy')\n",
    "plt.title('Training and validation accuracy')\n",
    "plt.xlabel('Epochs')\n",
    "plt.ylabel('Accuracy')\n",
    "plt.legend()\n",
    "\n",
    "plt.show()"
   ]
  },
  {
   "cell_type": "markdown",
   "id": "7b10e734",
   "metadata": {},
   "source": [
    "### 모델 저장 및 로드\n",
    "- 숫자를 제거하지 않은 모델과 비교하기 위해 모델을 불러왔다"
   ]
  },
  {
   "cell_type": "code",
   "execution_count": 41,
   "id": "ed4c0ffa",
   "metadata": {},
   "outputs": [],
   "source": [
    "model.save('transformer_model_epoch50.h5')"
   ]
  },
  {
   "cell_type": "code",
   "execution_count": 42,
   "id": "cb366f88",
   "metadata": {},
   "outputs": [],
   "source": [
    "# 모델 로드 (숫자도 같이 학습한 모델)\n",
    "loaded_model = tf.keras.models.load_model('transformer_model_with_num.h5', \n",
    "                                          custom_objects={\n",
    "    'CustomSchedule': CustomSchedule,\n",
    "    'PositionalEncoding': PositionalEncoding,\n",
    "    'MultiHeadAttention': MultiHeadAttention,\n",
    "    'loss_function': loss_function\n",
    "})"
   ]
  },
  {
   "cell_type": "code",
   "execution_count": 43,
   "id": "d012f86b",
   "metadata": {},
   "outputs": [],
   "source": [
    "# 모델 로드 후 컴파일\n",
    "loaded_model.compile(optimizer=optimizer, loss=loss_function, metrics=['accuracy'])"
   ]
  },
  {
   "cell_type": "code",
   "execution_count": 66,
   "id": "e765cb06",
   "metadata": {},
   "outputs": [],
   "source": [
    "# 모델 로드 (숫자도 같이 학습한 모델)\n",
    "loaded_model_epoch20 = tf.keras.models.load_model('transformer_model.h5', \n",
    "                                          custom_objects={\n",
    "    'CustomSchedule': CustomSchedule,\n",
    "    'PositionalEncoding': PositionalEncoding,\n",
    "    'MultiHeadAttention': MultiHeadAttention,\n",
    "    'loss_function': loss_function\n",
    "})\n",
    "\n",
    "# 모델 로드 후 컴파일\n",
    "loaded_model_epoch20.compile(optimizer=optimizer, loss=loss_function, metrics=['accuracy'])"
   ]
  },
  {
   "cell_type": "markdown",
   "id": "57bea7ab",
   "metadata": {},
   "source": [
    "### 체크포인트 불러오기"
   ]
  },
  {
   "cell_type": "code",
   "execution_count": 72,
   "id": "fb7a0bd8",
   "metadata": {},
   "outputs": [
    {
     "name": "stdout",
     "output_type": "stream",
     "text": [
      "Checkpoint loaded: ./checkpoints/cp-0049.ckpt\n"
     ]
    }
   ],
   "source": [
    "# 모델 로드 (구조를 재정의하고 가중치를 로드)\n",
    "def create_transformer_model():\n",
    "    return transformer(\n",
    "        vocab_size=VOCAB_SIZE,\n",
    "        num_layers=NUM_LAYERS,\n",
    "        units=UNITS,\n",
    "        d_model=D_MODEL,\n",
    "        num_heads=NUM_HEADS,\n",
    "        dropout=DROPOUT)\n",
    "\n",
    "# 모델 인스턴스 생성 및 컴파일\n",
    "ck_model = create_transformer_model()\n",
    "ck_model.compile(optimizer=optimizer, loss=loss_function, metrics=['accuracy'])\n",
    "\n",
    "# 체크포인트 콜백 정의\n",
    "checkpoint_path = \"./checkpoints/cp-{epoch:04d}.ckpt\"\n",
    "checkpoint_dir = os.path.dirname(checkpoint_path)\n",
    "\n",
    "# 최신 체크포인트 파일 경로 (예: 마지막 에포크의 체크포인트)\n",
    "latest_checkpoint = tf.train.latest_checkpoint(checkpoint_dir)\n",
    "\n",
    "# 저장된 가중치를 로드\n",
    "if latest_checkpoint:\n",
    "    ck_model.load_weights(latest_checkpoint)\n",
    "    print(f\"Checkpoint loaded: {latest_checkpoint}\")\n",
    "else:\n",
    "    print(\"No checkpoint found.\")"
   ]
  },
  {
   "cell_type": "markdown",
   "id": "7499617d",
   "metadata": {},
   "source": [
    "## Step 5. 모델 평가하기\n",
    "Step 1에서 선택한 전처리 방법을 고려하여 입력된 문장에 대해서 대답을 얻는 예측 함수를 만듭니다."
   ]
  },
  {
   "cell_type": "code",
   "execution_count": 44,
   "id": "faa646c3",
   "metadata": {},
   "outputs": [],
   "source": [
    "def decoder_inference(sentence, model, num):\n",
    "    sentence = preprocess_sentence(sentence, num)\n",
    "\n",
    "    # 입력된 문장을 정수 인코딩 후, 시작 토큰과 종료 토큰을 앞뒤로 추가.\n",
    "    # ex) Where have you been? → [[8331   86   30    5 1059    7 8332]]\n",
    "    sentence = tf.expand_dims(\n",
    "      START_TOKEN + tokenizer.encode(sentence) + END_TOKEN, axis=0)\n",
    "\n",
    "    # 디코더의 현재까지의 예측한 출력 시퀀스가 지속적으로 저장되는 변수.\n",
    "    # 처음에는 예측한 내용이 없음으로 시작 토큰만 별도 저장. ex) 8331\n",
    "    output_sequence = tf.expand_dims(START_TOKEN, 0)\n",
    "\n",
    "    # 디코더의 인퍼런스 단계\n",
    "    for i in range(MAX_LENGTH):\n",
    "        # 디코더는 최대 MAX_LENGTH의 길이만큼 다음 단어 예측을 반복합니다.\n",
    "        predictions = model(inputs=[sentence, output_sequence], training=False)\n",
    "        predictions = predictions[:, -1:, :]\n",
    "\n",
    "        # 현재 예측한 단어의 정수\n",
    "        predicted_id = tf.cast(tf.argmax(predictions, axis=-1), tf.int32)\n",
    "\n",
    "        # 만약 현재 예측한 단어가 종료 토큰이라면 for문을 종료\n",
    "        if tf.equal(predicted_id, END_TOKEN[0]):\n",
    "            break\n",
    "\n",
    "        # 예측한 단어들은 지속적으로 output_sequence에 추가됩니다.\n",
    "        # 이 output_sequence는 다시 디코더의 입력이 됩니다.\n",
    "        output_sequence = tf.concat([output_sequence, predicted_id], axis=-1)\n",
    "\n",
    "    return tf.squeeze(output_sequence, axis=0)"
   ]
  },
  {
   "cell_type": "code",
   "execution_count": 45,
   "id": "43ffe3e6",
   "metadata": {},
   "outputs": [],
   "source": [
    "def sentence_generation(sentence, model, num=False):\n",
    "    # 입력 문장에 대해서 디코더를 동작 시켜 예측된 정수 시퀀스를 리턴받습니다.\n",
    "    prediction = decoder_inference(sentence, model, num)\n",
    "\n",
    "    # 정수 시퀀스를 다시 텍스트 시퀀스로 변환합니다.\n",
    "    predicted_sentence = tokenizer.decode(\n",
    "      [i for i in prediction if i < tokenizer.vocab_size])\n",
    "\n",
    "    print('입력 : {}'.format(sentence))\n",
    "    print('출력 : {}'.format(predicted_sentence))\n",
    "\n",
    "    return predicted_sentence"
   ]
  },
  {
   "cell_type": "markdown",
   "id": "923df733",
   "metadata": {},
   "source": [
    "## 테스트 및 평가\n",
    "- 학습 데이터의 설명을 보면 다음과 같다\n",
    "\n",
    ">\n",
    ">인공데이터입니다. 일부 이별과 관련된 질문에서 다음카페 \"사랑보다 아름다운 실연( http://cafe116.daum.net/_c21_/home?grpid=1bld )\"에서 자주 나오는 이야기들을 참고하여 제작하였습니다. 가령 \"이별한 지 열흘(또는 100일) 되었어요\"라는 질문에 챗봇이 위로한다는 취지로 답변을 작성하였습니다.\n",
    ">\n",
    "    \n",
    "    - 이에 따라서 이별이나 사랑 관련 키워드에 대한 답변을 잘하는 것으로 보인다.\n",
    "    \n",
    "- 토큰화를 좀 더 잘하면 성능이 올라갈 것으로 보인다 (띄어쓰기에 따라 인식되는 것이 달라지는 것으로 보임)\n",
    "- 1박2일, 3박4일 등의 단어를 잘 이해하지 못한다\n",
    "    - 숫자를 전처리한 것과 안한 것을 비교해봤다\n",
    "    - 필요 및 목적에 따라 달라질 것으로 보인다\n",
    "\n",
    "- 학습 데이터의 특성상 정보를 묻는 질문에 답을 잘 못한다\n",
    "- 수치상으로는 overfitting은 아니지만 epoch이 커질수록 학습데이터에 집중되는 경향을 보임\n",
    "    - epoch이 커질수록 사랑, 이별과 관련한 주제로 overfitting되는 것으로 보인다"
   ]
  },
  {
   "cell_type": "markdown",
   "id": "2db6362e",
   "metadata": {},
   "source": [
    "### 이별이나 사랑관련 키워드 질문 & 답변"
   ]
  },
  {
   "cell_type": "code",
   "execution_count": 64,
   "id": "42b78384",
   "metadata": {
    "scrolled": true
   },
   "outputs": [
    {
     "name": "stdout",
     "output_type": "stream",
     "text": [
      "입력 : 좋아하는 사람 생겼어\n",
      "출력 : 마음이 복잡하겠어요.\n"
     ]
    },
    {
     "data": {
      "text/plain": [
       "'마음이 복잡하겠어요.'"
      ]
     },
     "execution_count": 64,
     "metadata": {},
     "output_type": "execute_result"
    }
   ],
   "source": [
    "sentence_generation('좋아하는 사람 생겼어', model)"
   ]
  },
  {
   "cell_type": "code",
   "execution_count": 47,
   "id": "77e205a9",
   "metadata": {
    "scrolled": false
   },
   "outputs": [
    {
     "name": "stdout",
     "output_type": "stream",
     "text": [
      "입력 : 나 오늘 헤어졌어\n",
      "출력 : 헛헛하시겠어요.\n"
     ]
    },
    {
     "data": {
      "text/plain": [
       "'헛헛하시겠어요.'"
      ]
     },
     "execution_count": 47,
     "metadata": {},
     "output_type": "execute_result"
    }
   ],
   "source": [
    "sentence_generation('나 오늘 헤어졌어', model)"
   ]
  },
  {
   "cell_type": "code",
   "execution_count": 68,
   "id": "9dad09ae",
   "metadata": {
    "scrolled": true
   },
   "outputs": [
    {
     "name": "stdout",
     "output_type": "stream",
     "text": [
      "입력 : 좋아하는 사람 생겼어\n",
      "출력 : 좋은 사람 만날 거예요.\n"
     ]
    },
    {
     "data": {
      "text/plain": [
       "'좋은 사람 만날 거예요.'"
      ]
     },
     "execution_count": 68,
     "metadata": {},
     "output_type": "execute_result"
    }
   ],
   "source": [
    "sentence_generation('좋아하는 사람 생겼어', loaded_model_epoch20)"
   ]
  },
  {
   "cell_type": "code",
   "execution_count": 67,
   "id": "a9162b3e",
   "metadata": {
    "scrolled": true
   },
   "outputs": [
    {
     "name": "stdout",
     "output_type": "stream",
     "text": [
      "입력 : 나 오늘 헤어졌어\n",
      "출력 : 헛헛하죠.\n"
     ]
    },
    {
     "data": {
      "text/plain": [
       "'헛헛하죠.'"
      ]
     },
     "execution_count": 67,
     "metadata": {},
     "output_type": "execute_result"
    }
   ],
   "source": [
    "sentence_generation('나 오늘 헤어졌어', loaded_model_epoch20)"
   ]
  },
  {
   "cell_type": "code",
   "execution_count": 48,
   "id": "6cdfac2c",
   "metadata": {
    "scrolled": true
   },
   "outputs": [
    {
     "name": "stdout",
     "output_type": "stream",
     "text": [
      "입력 : 좋아하는 사람 생겼어\n",
      "출력 : 충분히 아름다워요.\n"
     ]
    },
    {
     "data": {
      "text/plain": [
       "'충분히 아름다워요.'"
      ]
     },
     "execution_count": 48,
     "metadata": {},
     "output_type": "execute_result"
    }
   ],
   "source": [
    "sentence_generation('좋아하는 사람 생겼어', loaded_model, True)"
   ]
  },
  {
   "cell_type": "code",
   "execution_count": 49,
   "id": "40d83716",
   "metadata": {},
   "outputs": [
    {
     "name": "stdout",
     "output_type": "stream",
     "text": [
      "입력 : 나 오늘 헤어졌어\n",
      "출력 : 힘껏 울고 천천히 털어내길 바랄게요.\n"
     ]
    },
    {
     "data": {
      "text/plain": [
       "'힘껏 울고 천천히 털어내길 바랄게요.'"
      ]
     },
     "execution_count": 49,
     "metadata": {},
     "output_type": "execute_result"
    }
   ],
   "source": [
    "sentence_generation('나 오늘 헤어졌어', loaded_model, True)"
   ]
  },
  {
   "cell_type": "markdown",
   "id": "b4a3f663",
   "metadata": {},
   "source": [
    "### 띄어쓰기에 따른 성능차이 "
   ]
  },
  {
   "cell_type": "code",
   "execution_count": 50,
   "id": "8277e3cc",
   "metadata": {
    "scrolled": false
   },
   "outputs": [
    {
     "name": "stdout",
     "output_type": "stream",
     "text": [
      "입력 : 여행 가고 싶다\n",
      "출력 : 저도 타고 싶어요.\n"
     ]
    },
    {
     "data": {
      "text/plain": [
       "'저도 타고 싶어요.'"
      ]
     },
     "execution_count": 50,
     "metadata": {},
     "output_type": "execute_result"
    }
   ],
   "source": [
    "sentence_generation('여행 가고 싶다', model)"
   ]
  },
  {
   "cell_type": "code",
   "execution_count": 51,
   "id": "9242d480",
   "metadata": {
    "scrolled": false
   },
   "outputs": [
    {
     "name": "stdout",
     "output_type": "stream",
     "text": [
      "입력 : 여행가고 싶다\n",
      "출력 : 계획을 세워보세요.\n"
     ]
    },
    {
     "data": {
      "text/plain": [
       "'계획을 세워보세요.'"
      ]
     },
     "execution_count": 51,
     "metadata": {},
     "output_type": "execute_result"
    }
   ],
   "source": [
    "sentence_generation('여행가고 싶다', model)"
   ]
  },
  {
   "cell_type": "code",
   "execution_count": 52,
   "id": "e31447b7",
   "metadata": {
    "scrolled": true
   },
   "outputs": [
    {
     "name": "stdout",
     "output_type": "stream",
     "text": [
      "입력 : 놀러가고 싶다\n",
      "출력 : 탁 트인 바다 좋죠!\n"
     ]
    },
    {
     "data": {
      "text/plain": [
       "'탁 트인 바다 좋죠!'"
      ]
     },
     "execution_count": 52,
     "metadata": {},
     "output_type": "execute_result"
    }
   ],
   "source": [
    "sentence_generation('놀러가고 싶다', model)"
   ]
  },
  {
   "cell_type": "code",
   "execution_count": 77,
   "id": "185e4e79",
   "metadata": {
    "scrolled": false
   },
   "outputs": [
    {
     "name": "stdout",
     "output_type": "stream",
     "text": [
      "입력 : 여행가고 싶다\n",
      "출력 : 놀러가세요!\n"
     ]
    },
    {
     "data": {
      "text/plain": [
       "'놀러가세요!'"
      ]
     },
     "execution_count": 77,
     "metadata": {},
     "output_type": "execute_result"
    }
   ],
   "source": [
    "sentence_generation('여행가고 싶다', loaded_model_epoch20)"
   ]
  },
  {
   "cell_type": "code",
   "execution_count": 78,
   "id": "0c80b7d0",
   "metadata": {
    "scrolled": true
   },
   "outputs": [
    {
     "name": "stdout",
     "output_type": "stream",
     "text": [
      "입력 : 놀러가고 싶다\n",
      "출력 : 놀러가세요!\n"
     ]
    },
    {
     "data": {
      "text/plain": [
       "'놀러가세요!'"
      ]
     },
     "execution_count": 78,
     "metadata": {},
     "output_type": "execute_result"
    }
   ],
   "source": [
    "sentence_generation('놀러가고 싶다', loaded_model_epoch20)"
   ]
  },
  {
   "cell_type": "code",
   "execution_count": 53,
   "id": "8b4270e8",
   "metadata": {
    "scrolled": true
   },
   "outputs": [
    {
     "name": "stdout",
     "output_type": "stream",
     "text": [
      "입력 : 공부 싫어\n",
      "출력 : 지금도 늦지 않았어요.\n"
     ]
    },
    {
     "data": {
      "text/plain": [
       "'지금도 늦지 않았어요.'"
      ]
     },
     "execution_count": 53,
     "metadata": {},
     "output_type": "execute_result"
    }
   ],
   "source": [
    "sentence_generation('공부 싫어', model)"
   ]
  },
  {
   "cell_type": "code",
   "execution_count": 54,
   "id": "4d0fcd22",
   "metadata": {
    "scrolled": true
   },
   "outputs": [
    {
     "name": "stdout",
     "output_type": "stream",
     "text": [
      "입력 : 공부 하기 싫어\n",
      "출력 : 같이 수다 떨면서 놀까요?\n"
     ]
    },
    {
     "data": {
      "text/plain": [
       "'같이 수다 떨면서 놀까요?'"
      ]
     },
     "execution_count": 54,
     "metadata": {},
     "output_type": "execute_result"
    }
   ],
   "source": [
    "sentence_generation('공부 하기 싫어', model)"
   ]
  },
  {
   "cell_type": "markdown",
   "id": "4cda8d85",
   "metadata": {},
   "source": [
    "### 숫자 이해\n",
    "- 3박4일은 학습데이터에 있는 단어였다\n",
    "- 숫자를 전처리에서 제거하는지 안하는지도 필요에 따라서 고민해봐야할 것 같다"
   ]
  },
  {
   "cell_type": "code",
   "execution_count": 55,
   "id": "d3af5dce",
   "metadata": {
    "scrolled": false
   },
   "outputs": [
    {
     "name": "stdout",
     "output_type": "stream",
     "text": [
      "입력 : 1박2일 놀러가고 싶다\n",
      "출력 : 맛있을 거 같아요.\n"
     ]
    },
    {
     "data": {
      "text/plain": [
       "'맛있을 거 같아요.'"
      ]
     },
     "execution_count": 55,
     "metadata": {},
     "output_type": "execute_result"
    }
   ],
   "source": [
    "sentence_generation('1박2일 놀러가고 싶다', model)"
   ]
  },
  {
   "cell_type": "code",
   "execution_count": 56,
   "id": "e10ac594",
   "metadata": {
    "scrolled": false
   },
   "outputs": [
    {
     "name": "stdout",
     "output_type": "stream",
     "text": [
      "입력 : 3박4일 놀러가고 싶다\n",
      "출력 : 맛있을 거 같아요.\n"
     ]
    },
    {
     "data": {
      "text/plain": [
       "'맛있을 거 같아요.'"
      ]
     },
     "execution_count": 56,
     "metadata": {},
     "output_type": "execute_result"
    }
   ],
   "source": [
    "sentence_generation('3박4일 놀러가고 싶다', model)"
   ]
  },
  {
   "cell_type": "code",
   "execution_count": 57,
   "id": "5b712099",
   "metadata": {},
   "outputs": [
    {
     "name": "stdout",
     "output_type": "stream",
     "text": [
      "입력 : 1박2일 놀러가고 싶다\n",
      "출력 : 같이 운동하게 좋겠네요.\n"
     ]
    },
    {
     "data": {
      "text/plain": [
       "'같이 운동하게 좋겠네요.'"
      ]
     },
     "execution_count": 57,
     "metadata": {},
     "output_type": "execute_result"
    }
   ],
   "source": [
    "sentence_generation('1박2일 놀러가고 싶다', loaded_model, True)"
   ]
  },
  {
   "cell_type": "code",
   "execution_count": 58,
   "id": "a4c4345f",
   "metadata": {},
   "outputs": [
    {
     "name": "stdout",
     "output_type": "stream",
     "text": [
      "입력 : 3박4일 놀러가고 싶다\n",
      "출력 : 여행은 언제나 좋죠.\n"
     ]
    },
    {
     "data": {
      "text/plain": [
       "'여행은 언제나 좋죠.'"
      ]
     },
     "execution_count": 58,
     "metadata": {},
     "output_type": "execute_result"
    }
   ],
   "source": [
    "sentence_generation('3박4일 놀러가고 싶다', loaded_model, True)"
   ]
  },
  {
   "cell_type": "markdown",
   "id": "a56921a8",
   "metadata": {},
   "source": [
    "### 학습이 부족한 내용들 "
   ]
  },
  {
   "cell_type": "code",
   "execution_count": 59,
   "id": "dbb30376",
   "metadata": {
    "scrolled": false
   },
   "outputs": [
    {
     "name": "stdout",
     "output_type": "stream",
     "text": [
      "입력 : 저녁 뭐먹지?\n",
      "출력 : 맛있는 거 드세요.\n"
     ]
    },
    {
     "data": {
      "text/plain": [
       "'맛있는 거 드세요.'"
      ]
     },
     "execution_count": 59,
     "metadata": {},
     "output_type": "execute_result"
    }
   ],
   "source": [
    "sentence_generation('저녁 뭐먹지?', model)"
   ]
  },
  {
   "cell_type": "code",
   "execution_count": 60,
   "id": "71dc20d0",
   "metadata": {},
   "outputs": [
    {
     "name": "stdout",
     "output_type": "stream",
     "text": [
      "입력 : 오늘의 날씨는 어때?\n",
      "출력 : 글을 쓰면 마음 정리에 도움이 돼요.\n"
     ]
    },
    {
     "data": {
      "text/plain": [
       "'글을 쓰면 마음 정리에 도움이 돼요.'"
      ]
     },
     "execution_count": 60,
     "metadata": {},
     "output_type": "execute_result"
    }
   ],
   "source": [
    "sentence_generation('오늘의 날씨는 어때?', model)"
   ]
  },
  {
   "cell_type": "code",
   "execution_count": 75,
   "id": "e53ca050",
   "metadata": {
    "scrolled": true
   },
   "outputs": [
    {
     "name": "stdout",
     "output_type": "stream",
     "text": [
      "입력 : 오늘의 날씨는 어때?\n",
      "출력 : 정말 어려운 일이에요.\n"
     ]
    },
    {
     "data": {
      "text/plain": [
       "'정말 어려운 일이에요.'"
      ]
     },
     "execution_count": 75,
     "metadata": {},
     "output_type": "execute_result"
    }
   ],
   "source": [
    "sentence_generation('오늘의 날씨는 어때?', loaded_model_epoch20)"
   ]
  },
  {
   "cell_type": "markdown",
   "id": "4072fc97",
   "metadata": {},
   "source": [
    "### 수치상으로는 overfitting은 아니지만 epoch이 커질수록 학습데이터에 집중되는 경향을 보임\n",
    "- epoch 20에서는 게임얘기를 하면 게임에 답변하는 것을 보이지만\n",
    "- epoch 50은 사랑, 이별과 관련한 주제로 overfitting되는 것으로 보인다"
   ]
  },
  {
   "cell_type": "code",
   "execution_count": 61,
   "id": "78e09632",
   "metadata": {
    "scrolled": true
   },
   "outputs": [
    {
     "name": "stdout",
     "output_type": "stream",
     "text": [
      "입력 : 게임하고 싶은데 할까?\n",
      "출력 : 안 사귀는 것도 은 것도 아니에요.\n"
     ]
    },
    {
     "data": {
      "text/plain": [
       "'안 사귀는 것도 은 것도 아니에요.'"
      ]
     },
     "execution_count": 61,
     "metadata": {},
     "output_type": "execute_result"
    }
   ],
   "source": [
    "sentence_generation('게임하고 싶은데 할까?', model)"
   ]
  },
  {
   "cell_type": "code",
   "execution_count": 62,
   "id": "31c56bbd",
   "metadata": {
    "scrolled": true
   },
   "outputs": [
    {
     "name": "stdout",
     "output_type": "stream",
     "text": [
      "입력 : 게임하고 싶은데 할래?\n",
      "출력 : 안 사귀면 끝이죠.\n"
     ]
    },
    {
     "data": {
      "text/plain": [
       "'안 사귀면 끝이죠.'"
      ]
     },
     "execution_count": 62,
     "metadata": {},
     "output_type": "execute_result"
    }
   ],
   "source": [
    "sentence_generation('게임하고 싶은데 할래?', model)"
   ]
  },
  {
   "cell_type": "code",
   "execution_count": 73,
   "id": "c1a24fc5",
   "metadata": {
    "scrolled": false
   },
   "outputs": [
    {
     "name": "stdout",
     "output_type": "stream",
     "text": [
      "입력 : 게임하고 싶은데 할까?\n",
      "출력 : 게임하세요!\n"
     ]
    },
    {
     "data": {
      "text/plain": [
       "'게임하세요!'"
      ]
     },
     "execution_count": 73,
     "metadata": {},
     "output_type": "execute_result"
    }
   ],
   "source": [
    "sentence_generation('게임하고 싶은데 할까?', loaded_model_epoch20)"
   ]
  },
  {
   "cell_type": "code",
   "execution_count": 74,
   "id": "d707cf06",
   "metadata": {
    "scrolled": true
   },
   "outputs": [
    {
     "name": "stdout",
     "output_type": "stream",
     "text": [
      "입력 : 게임하고 싶은데 할래?\n",
      "출력 : 게임하세요!\n"
     ]
    },
    {
     "data": {
      "text/plain": [
       "'게임하세요!'"
      ]
     },
     "execution_count": 74,
     "metadata": {},
     "output_type": "execute_result"
    }
   ],
   "source": [
    "sentence_generation('게임하고 싶은데 할래?', loaded_model_epoch20)"
   ]
  },
  {
   "cell_type": "markdown",
   "id": "6f106bf9",
   "metadata": {},
   "source": [
    "# 회고\n",
    "\n",
    "- 배운 점 \n",
    "    - transformer의 구조에 대해 좀 더 명확히 이해할 수 있었다\n",
    "    - custom 모델 저장하는 방법을 배웠다\n",
    "    - 숫자를 제거하는 전처리 제거만으로도 대답이 확연히 달라지는 것을 볼 수 있었다\n",
    "    - underfitting 상황을 생각해서 epoch을 높였더니 성능이 향상되었다\n",
    "- 아쉬운 점 \n",
    "    - 프로젝트에서 한글 토큰을 잘 만들지 못해서 아쉬웠다\n",
    "    - 토큰화를 잘 하지 못해서 띄어쓰기에 따라서 답변이 달라진다\n",
    "- 느낀 점\n",
    "    - 어려운 개념이라도 노력하면 이해할 수 있다는 것을 느꼈다\n",
    "    - 챗봇도 결국 어떤 데이터를 학습하냐에 따라 대답이 달라진다\n",
    "- 어려웠던 점 \n",
    "    - transformer의 구조를 이해하는데 어려웠다\n",
    "    - custom 모델 저장하는 데 config 설정하는 것이 어려웠다"
   ]
  }
 ],
 "metadata": {
  "kernelspec": {
   "display_name": "Python 3 (ipykernel)",
   "language": "python",
   "name": "python3"
  },
  "language_info": {
   "codemirror_mode": {
    "name": "ipython",
    "version": 3
   },
   "file_extension": ".py",
   "mimetype": "text/x-python",
   "name": "python",
   "nbconvert_exporter": "python",
   "pygments_lexer": "ipython3",
   "version": "3.9.7"
  }
 },
 "nbformat": 4,
 "nbformat_minor": 5
}
