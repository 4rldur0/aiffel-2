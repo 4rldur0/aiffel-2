{
 "cells": [
  {
   "cell_type": "markdown",
   "id": "5cc5c8b7",
   "metadata": {},
   "source": [
    "# 프로젝트: 뉴스기사 요약해보기"
   ]
  },
  {
   "cell_type": "code",
   "execution_count": 4,
   "id": "23071d40",
   "metadata": {},
   "outputs": [
    {
     "name": "stdout",
     "output_type": "stream",
     "text": [
      "3.6.5\n",
      "2.6.0\n",
      "1.3.3\n",
      "1.2.0\n"
     ]
    }
   ],
   "source": [
    "from importlib.metadata import version\n",
    "import nltk\n",
    "import tensorflow\n",
    "import summa\n",
    "import pandas\n",
    "\n",
    "print(nltk.__version__)\n",
    "print(tensorflow.__version__)\n",
    "print(pandas.__version__)\n",
    "print(version('summa'))"
   ]
  },
  {
   "cell_type": "code",
   "execution_count": 5,
   "id": "da866d1d",
   "metadata": {},
   "outputs": [
    {
     "name": "stderr",
     "output_type": "stream",
     "text": [
      "[nltk_data] Downloading package stopwords to /aiffel/nltk_data...\n",
      "[nltk_data]   Package stopwords is already up-to-date!\n"
     ]
    }
   ],
   "source": [
    "import nltk\n",
    "nltk.download('stopwords')\n",
    "\n",
    "import numpy as np\n",
    "import pandas as pd\n",
    "import os\n",
    "import re\n",
    "import matplotlib.pyplot as plt\n",
    "from nltk.corpus import stopwords\n",
    "from bs4 import BeautifulSoup \n",
    "from tensorflow.keras.preprocessing.text import Tokenizer \n",
    "from tensorflow.keras.preprocessing.sequence import pad_sequences\n",
    "import urllib.request\n",
    "import warnings\n",
    "warnings.filterwarnings(\"ignore\", category=UserWarning, module='bs4')"
   ]
  },
  {
   "cell_type": "markdown",
   "id": "d3596bb2",
   "metadata": {},
   "source": [
    "# Step 1. 데이터 수집하기"
   ]
  },
  {
   "cell_type": "code",
   "execution_count": 6,
   "id": "44b416cf",
   "metadata": {},
   "outputs": [],
   "source": [
    "import urllib.request\n",
    "urllib.request.urlretrieve(\"https://raw.githubusercontent.com/sunnysai12345/News_Summary/master/news_summary_more.csv\", filename=\"news_summary_more.csv\")\n",
    "data = pd.read_csv('news_summary_more.csv', encoding='iso-8859-1')"
   ]
  },
  {
   "cell_type": "code",
   "execution_count": 7,
   "id": "78329438",
   "metadata": {},
   "outputs": [
    {
     "data": {
      "text/html": [
       "<div>\n",
       "<style scoped>\n",
       "    .dataframe tbody tr th:only-of-type {\n",
       "        vertical-align: middle;\n",
       "    }\n",
       "\n",
       "    .dataframe tbody tr th {\n",
       "        vertical-align: top;\n",
       "    }\n",
       "\n",
       "    .dataframe thead th {\n",
       "        text-align: right;\n",
       "    }\n",
       "</style>\n",
       "<table border=\"1\" class=\"dataframe\">\n",
       "  <thead>\n",
       "    <tr style=\"text-align: right;\">\n",
       "      <th></th>\n",
       "      <th>headlines</th>\n",
       "      <th>text</th>\n",
       "    </tr>\n",
       "  </thead>\n",
       "  <tbody>\n",
       "    <tr>\n",
       "      <th>38677</th>\n",
       "      <td>Kejriwal's sit-in is a mockery of democracy: D...</td>\n",
       "      <td>Delhi BJP President Manoj Tiwari today called ...</td>\n",
       "    </tr>\n",
       "    <tr>\n",
       "      <th>24439</th>\n",
       "      <td>HIV positive man hangs self after hospitals de...</td>\n",
       "      <td>An HIV positive man in Odisha committed suicid...</td>\n",
       "    </tr>\n",
       "    <tr>\n",
       "      <th>85778</th>\n",
       "      <td>Akshay holds a lantern, lota in Toilet-Ek Prem...</td>\n",
       "      <td>Actor Akshay Kumar can be seen holding a lota ...</td>\n",
       "    </tr>\n",
       "    <tr>\n",
       "      <th>10677</th>\n",
       "      <td>I'll stick to getting trolled: Kohli clarifies...</td>\n",
       "      <td>After being trolled for asking a fan to leave ...</td>\n",
       "    </tr>\n",
       "    <tr>\n",
       "      <th>64318</th>\n",
       "      <td>Those used to 2G scam will object to legitimat...</td>\n",
       "      <td>Slamming Congress Vice-President Rahul Gandhi ...</td>\n",
       "    </tr>\n",
       "    <tr>\n",
       "      <th>35444</th>\n",
       "      <td>John Abraham opts out of 'Romeo Akbar Walter':...</td>\n",
       "      <td>As per reports, John Abraham has opted out of ...</td>\n",
       "    </tr>\n",
       "    <tr>\n",
       "      <th>81157</th>\n",
       "      <td>Unfair to subject my boyfriend to harsh commen...</td>\n",
       "      <td>Ileana D'Cruz has said that it's unfair to sub...</td>\n",
       "    </tr>\n",
       "    <tr>\n",
       "      <th>13297</th>\n",
       "      <td>Uber driver waits for 1.5 hrs with women at ni...</td>\n",
       "      <td>A woman's tweet praising an Uber driver named ...</td>\n",
       "    </tr>\n",
       "    <tr>\n",
       "      <th>60901</th>\n",
       "      <td>New brain implant claims to boost human memory...</td>\n",
       "      <td>A US-based study on 20 volunteers claimed to b...</td>\n",
       "    </tr>\n",
       "    <tr>\n",
       "      <th>48280</th>\n",
       "      <td>SA captain fined 20% game fee for slow over-ra...</td>\n",
       "      <td>South Africa captain Aiden Markram has been fi...</td>\n",
       "    </tr>\n",
       "  </tbody>\n",
       "</table>\n",
       "</div>"
      ],
      "text/plain": [
       "                                               headlines  \\\n",
       "38677  Kejriwal's sit-in is a mockery of democracy: D...   \n",
       "24439  HIV positive man hangs self after hospitals de...   \n",
       "85778  Akshay holds a lantern, lota in Toilet-Ek Prem...   \n",
       "10677  I'll stick to getting trolled: Kohli clarifies...   \n",
       "64318  Those used to 2G scam will object to legitimat...   \n",
       "35444  John Abraham opts out of 'Romeo Akbar Walter':...   \n",
       "81157  Unfair to subject my boyfriend to harsh commen...   \n",
       "13297  Uber driver waits for 1.5 hrs with women at ni...   \n",
       "60901  New brain implant claims to boost human memory...   \n",
       "48280  SA captain fined 20% game fee for slow over-ra...   \n",
       "\n",
       "                                                    text  \n",
       "38677  Delhi BJP President Manoj Tiwari today called ...  \n",
       "24439  An HIV positive man in Odisha committed suicid...  \n",
       "85778  Actor Akshay Kumar can be seen holding a lota ...  \n",
       "10677  After being trolled for asking a fan to leave ...  \n",
       "64318  Slamming Congress Vice-President Rahul Gandhi ...  \n",
       "35444  As per reports, John Abraham has opted out of ...  \n",
       "81157  Ileana D'Cruz has said that it's unfair to sub...  \n",
       "13297  A woman's tweet praising an Uber driver named ...  \n",
       "60901  A US-based study on 20 volunteers claimed to b...  \n",
       "48280  South Africa captain Aiden Markram has been fi...  "
      ]
     },
     "execution_count": 7,
     "metadata": {},
     "output_type": "execute_result"
    }
   ],
   "source": [
    "data.sample(10)"
   ]
  },
  {
   "cell_type": "markdown",
   "id": "9c4ede9a",
   "metadata": {},
   "source": [
    "# Step 2. 데이터 전처리하기 (추상적 요약)\n",
    "\n",
    "실습에서 사용된 전처리를 참고하여 각자 필요하다고 생각하는 전처리를 추가 사용하여 텍스트를 정규화 또는 정제해 보세요. 만약, 불용어 제거를 선택한다면 상대적으로 길이가 짧은 요약 데이터에 대해서도 불용어를 제거하는 것이 좋을지 고민해 보세요."
   ]
  },
  {
   "cell_type": "code",
   "execution_count": 8,
   "id": "6d072b5e",
   "metadata": {},
   "outputs": [
    {
     "data": {
      "text/plain": [
       "(98401, 2)"
      ]
     },
     "execution_count": 8,
     "metadata": {},
     "output_type": "execute_result"
    }
   ],
   "source": [
    "data.shape"
   ]
  },
  {
   "cell_type": "code",
   "execution_count": 9,
   "id": "b5019397",
   "metadata": {},
   "outputs": [
    {
     "name": "stdout",
     "output_type": "stream",
     "text": [
      "headlines 열에서 중복을 배제한 유일한 샘플의 수 : 98280\n",
      "text 열에서 중복을 배제한 유일한 샘플의 수 : 98360\n"
     ]
    }
   ],
   "source": [
    "print('headlines 열에서 중복을 배제한 유일한 샘플의 수 :', data['headlines'].nunique())\n",
    "print('text 열에서 중복을 배제한 유일한 샘플의 수 :', data['text'].nunique())"
   ]
  },
  {
   "cell_type": "code",
   "execution_count": 10,
   "id": "6f0a7a6d",
   "metadata": {},
   "outputs": [
    {
     "name": "stdout",
     "output_type": "stream",
     "text": [
      "전체 샘플수 : 98360\n"
     ]
    }
   ],
   "source": [
    "data.drop_duplicates(subset = ['text'], inplace=True)\n",
    "print('전체 샘플수 :', (len(data)))"
   ]
  },
  {
   "cell_type": "code",
   "execution_count": 11,
   "id": "211105c8",
   "metadata": {},
   "outputs": [
    {
     "name": "stdout",
     "output_type": "stream",
     "text": [
      "headlines    0\n",
      "text         0\n",
      "dtype: int64\n"
     ]
    }
   ],
   "source": [
    "print(data.isnull().sum())"
   ]
  },
  {
   "cell_type": "markdown",
   "id": "214774dd",
   "metadata": {},
   "source": [
    "## 텍스트 정규화와 불용어 제거"
   ]
  },
  {
   "cell_type": "markdown",
   "id": "9a968db9",
   "metadata": {},
   "source": [
    "- 직접 눈으로 단어를 몇개 보면서 전처리 방식을 수정하였다.\n",
    "-  '&' -> ' and '로,  \\' -> '로 교체\n",
    "- A&B일 경우를 고려해 ' and '로 전처리 한것을 감안해 다중 공백 제거하는 전처리를 추가하였다\n",
    "- 불용어는 no나 not 같은 부정어들까지 사라지게 하므로 일단은 불용어는 제거하지 않았다"
   ]
  },
  {
   "cell_type": "code",
   "execution_count": 12,
   "id": "058661eb",
   "metadata": {},
   "outputs": [
    {
     "data": {
      "text/html": [
       "<div>\n",
       "<style scoped>\n",
       "    .dataframe tbody tr th:only-of-type {\n",
       "        vertical-align: middle;\n",
       "    }\n",
       "\n",
       "    .dataframe tbody tr th {\n",
       "        vertical-align: top;\n",
       "    }\n",
       "\n",
       "    .dataframe thead th {\n",
       "        text-align: right;\n",
       "    }\n",
       "</style>\n",
       "<table border=\"1\" class=\"dataframe\">\n",
       "  <thead>\n",
       "    <tr style=\"text-align: right;\">\n",
       "      <th></th>\n",
       "      <th>headlines</th>\n",
       "      <th>text</th>\n",
       "    </tr>\n",
       "  </thead>\n",
       "  <tbody>\n",
       "    <tr>\n",
       "      <th>19126</th>\n",
       "      <td>Feel deliberately sidelined by mainstream dire...</td>\n",
       "      <td>Actor Ranvir Shorey has said that he feels he ...</td>\n",
       "    </tr>\n",
       "    <tr>\n",
       "      <th>46794</th>\n",
       "      <td>EPFO lowers interest rate to 8.55% for 2017-18</td>\n",
       "      <td>The Employees' Provident Fund Organisation (EP...</td>\n",
       "    </tr>\n",
       "    <tr>\n",
       "      <th>54301</th>\n",
       "      <td>Being called former child star is derogatory: ...</td>\n",
       "      <td>Actor Dylan Sprouse, known for acting with his...</td>\n",
       "    </tr>\n",
       "    <tr>\n",
       "      <th>70489</th>\n",
       "      <td>UK govt grants itself power to bypass parliame...</td>\n",
       "      <td>Prime Minister Theresa May-led UK government o...</td>\n",
       "    </tr>\n",
       "    <tr>\n",
       "      <th>39446</th>\n",
       "      <td>Two-time champion Sharapova crashes out of Fre...</td>\n",
       "      <td>Two-time French Open winner Maria Sharapova ha...</td>\n",
       "    </tr>\n",
       "  </tbody>\n",
       "</table>\n",
       "</div>"
      ],
      "text/plain": [
       "                                               headlines  \\\n",
       "19126  Feel deliberately sidelined by mainstream dire...   \n",
       "46794     EPFO lowers interest rate to 8.55% for 2017-18   \n",
       "54301  Being called former child star is derogatory: ...   \n",
       "70489  UK govt grants itself power to bypass parliame...   \n",
       "39446  Two-time champion Sharapova crashes out of Fre...   \n",
       "\n",
       "                                                    text  \n",
       "19126  Actor Ranvir Shorey has said that he feels he ...  \n",
       "46794  The Employees' Provident Fund Organisation (EP...  \n",
       "54301  Actor Dylan Sprouse, known for acting with his...  \n",
       "70489  Prime Minister Theresa May-led UK government o...  \n",
       "39446  Two-time French Open winner Maria Sharapova ha...  "
      ]
     },
     "execution_count": 12,
     "metadata": {},
     "output_type": "execute_result"
    }
   ],
   "source": [
    "data.sample(5)"
   ]
  },
  {
   "cell_type": "code",
   "execution_count": 13,
   "id": "751db0ad",
   "metadata": {},
   "outputs": [
    {
     "data": {
      "text/plain": [
       "[\"Sridevi played role of Rajinikanth's stepmother at age 13\",\n",
       " 'Katy Perry posts pic of nails painted with cryptocurrencies',\n",
       " 'Centre slams UN expert who criticised Swachh Bharat Mission',\n",
       " 'Chapecoense win first title since Colombia air crash',\n",
       " \"Buffett's Berkshire Hathaway reports first loss in 9 years\"]"
      ]
     },
     "execution_count": 13,
     "metadata": {},
     "output_type": "execute_result"
    }
   ],
   "source": [
    "data.headlines.sample(5).tolist()"
   ]
  },
  {
   "cell_type": "code",
   "execution_count": 14,
   "id": "d068346a",
   "metadata": {},
   "outputs": [
    {
     "data": {
      "text/plain": [
       "['Talking about his memoir \\'An Unsuitable Boy\\', Karan Johar said writing things that he didn\\'t want to address and share opened up his soul even more. He added, \"Sometimes, talking...conversing helps.\" The memoir included chapters where Karan and his co-writer Poonam Saxena described his fallout with Kajol and also addressed the filmmaker\\'s sexual orientation.',\n",
       " 'India ranked fourth in the list of top 10 target countries for Web Application Attacks globally since November 2017, according to Akamai Technologies. Registering over 2.8 crore attacks, India also ranked eighth in the list of Web Application Attack source countries globally. Further, Akamai recorded a 16% increase in the number of Distributed Denial of Service (DDoS) attacks since 2017.',\n",
       " 'US lawmaker Mike Quigley has proposed \\'Communications Over Various Feeds Electronically For Engagement\\' (COVFEFE) Act to require preservation of President Donald Trump\\'s tweets and other social media interactions. \"If the President is going to take to social media to make sudden public policy proclamations, we must ensure these statements are documented and preserved for future,\" Quigley said.',\n",
       " 'Former Apple Senior Vice President of iOS Scott Forstall has revealed how Steve Jobs used to \"scam\" the company\\'s cafeteria. Jobs always insisted paying for Forstall\\'s lunch and payments at Apple\\'s cafeteria were processed through scanning badges and deducted from employees\\' salaries. Jobs later revealed, \"I only get paid $1 a year. I don\\'t know who\\'s paying every time!\"',\n",
       " \"Actor Anupam Kher will be seen playing former Prime Minister Manmohan Singh in an upcoming film based on the book 'The Accidental Prime Minister', written by Singh's former media advisor and journalist Sanjaya Baru. The film's screenplay has been written by National-award winning director Hansal Mehta. It is expected to release in December 2018.\"]"
      ]
     },
     "execution_count": 14,
     "metadata": {},
     "output_type": "execute_result"
    }
   ],
   "source": [
    "data.text.sample(5).tolist()"
   ]
  },
  {
   "cell_type": "code",
   "execution_count": 15,
   "id": "9507370b",
   "metadata": {},
   "outputs": [
    {
     "name": "stdout",
     "output_type": "stream",
     "text": [
      "정규화 사전의 수:  120\n"
     ]
    }
   ],
   "source": [
    "contractions = {\"ain't\": \"is not\", \"aren't\": \"are not\",\"can't\": \"cannot\", \"'cause\": \"because\", \"could've\": \"could have\", \"couldn't\": \"could not\",\n",
    "                           \"didn't\": \"did not\",  \"doesn't\": \"does not\", \"don't\": \"do not\", \"hadn't\": \"had not\", \"hasn't\": \"has not\", \"haven't\": \"have not\",\n",
    "                           \"he'd\": \"he would\",\"he'll\": \"he will\", \"he's\": \"he is\", \"how'd\": \"how did\", \"how'd'y\": \"how do you\", \"how'll\": \"how will\", \"how's\": \"how is\",\n",
    "                           \"I'd\": \"I would\", \"I'd've\": \"I would have\", \"I'll\": \"I will\", \"I'll've\": \"I will have\",\"I'm\": \"I am\", \"I've\": \"I have\", \"i'd\": \"i would\",\n",
    "                           \"i'd've\": \"i would have\", \"i'll\": \"i will\",  \"i'll've\": \"i will have\",\"i'm\": \"i am\", \"i've\": \"i have\", \"isn't\": \"is not\", \"it'd\": \"it would\",\n",
    "                           \"it'd've\": \"it would have\", \"it'll\": \"it will\", \"it'll've\": \"it will have\",\"it's\": \"it is\", \"let's\": \"let us\", \"ma'am\": \"madam\",\n",
    "                           \"mayn't\": \"may not\", \"might've\": \"might have\",\"mightn't\": \"might not\",\"mightn't've\": \"might not have\", \"must've\": \"must have\",\n",
    "                           \"mustn't\": \"must not\", \"mustn't've\": \"must not have\", \"needn't\": \"need not\", \"needn't've\": \"need not have\",\"o'clock\": \"of the clock\",\n",
    "                           \"oughtn't\": \"ought not\", \"oughtn't've\": \"ought not have\", \"shan't\": \"shall not\", \"sha'n't\": \"shall not\", \"shan't've\": \"shall not have\",\n",
    "                           \"she'd\": \"she would\", \"she'd've\": \"she would have\", \"she'll\": \"she will\", \"she'll've\": \"she will have\", \"she's\": \"she is\",\n",
    "                           \"should've\": \"should have\", \"shouldn't\": \"should not\", \"shouldn't've\": \"should not have\", \"so've\": \"so have\",\"so's\": \"so as\",\n",
    "                           \"this's\": \"this is\",\"that'd\": \"that would\", \"that'd've\": \"that would have\", \"that's\": \"that is\", \"there'd\": \"there would\",\n",
    "                           \"there'd've\": \"there would have\", \"there's\": \"there is\", \"here's\": \"here is\",\"they'd\": \"they would\", \"they'd've\": \"they would have\",\n",
    "                           \"they'll\": \"they will\", \"they'll've\": \"they will have\", \"they're\": \"they are\", \"they've\": \"they have\", \"to've\": \"to have\",\n",
    "                           \"wasn't\": \"was not\", \"we'd\": \"we would\", \"we'd've\": \"we would have\", \"we'll\": \"we will\", \"we'll've\": \"we will have\", \"we're\": \"we are\",\n",
    "                           \"we've\": \"we have\", \"weren't\": \"were not\", \"what'll\": \"what will\", \"what'll've\": \"what will have\", \"what're\": \"what are\",\n",
    "                           \"what's\": \"what is\", \"what've\": \"what have\", \"when's\": \"when is\", \"when've\": \"when have\", \"where'd\": \"where did\", \"where's\": \"where is\",\n",
    "                           \"where've\": \"where have\", \"who'll\": \"who will\", \"who'll've\": \"who will have\", \"who's\": \"who is\", \"who've\": \"who have\",\n",
    "                           \"why's\": \"why is\", \"why've\": \"why have\", \"will've\": \"will have\", \"won't\": \"will not\", \"won't've\": \"will not have\",\n",
    "                           \"would've\": \"would have\", \"wouldn't\": \"would not\", \"wouldn't've\": \"would not have\", \"y'all\": \"you all\",\n",
    "                           \"y'all'd\": \"you all would\",\"y'all'd've\": \"you all would have\",\"y'all're\": \"you all are\",\"y'all've\": \"you all have\",\n",
    "                           \"you'd\": \"you would\", \"you'd've\": \"you would have\", \"you'll\": \"you will\", \"you'll've\": \"you will have\",\n",
    "                           \"you're\": \"you are\", \"you've\": \"you have\"}\n",
    "\n",
    "print(\"정규화 사전의 수: \", len(contractions))"
   ]
  },
  {
   "cell_type": "code",
   "execution_count": 16,
   "id": "9084e90e",
   "metadata": {},
   "outputs": [
    {
     "name": "stdout",
     "output_type": "stream",
     "text": [
      "불용어 개수 : 179\n",
      "['i', 'me', 'my', 'myself', 'we', 'our', 'ours', 'ourselves', 'you', \"you're\", \"you've\", \"you'll\", \"you'd\", 'your', 'yours', 'yourself', 'yourselves', 'he', 'him', 'his', 'himself', 'she', \"she's\", 'her', 'hers', 'herself', 'it', \"it's\", 'its', 'itself', 'they', 'them', 'their', 'theirs', 'themselves', 'what', 'which', 'who', 'whom', 'this', 'that', \"that'll\", 'these', 'those', 'am', 'is', 'are', 'was', 'were', 'be', 'been', 'being', 'have', 'has', 'had', 'having', 'do', 'does', 'did', 'doing', 'a', 'an', 'the', 'and', 'but', 'if', 'or', 'because', 'as', 'until', 'while', 'of', 'at', 'by', 'for', 'with', 'about', 'against', 'between', 'into', 'through', 'during', 'before', 'after', 'above', 'below', 'to', 'from', 'up', 'down', 'in', 'out', 'on', 'off', 'over', 'under', 'again', 'further', 'then', 'once', 'here', 'there', 'when', 'where', 'why', 'how', 'all', 'any', 'both', 'each', 'few', 'more', 'most', 'other', 'some', 'such', 'no', 'nor', 'not', 'only', 'own', 'same', 'so', 'than', 'too', 'very', 's', 't', 'can', 'will', 'just', 'don', \"don't\", 'should', \"should've\", 'now', 'd', 'll', 'm', 'o', 're', 've', 'y', 'ain', 'aren', \"aren't\", 'couldn', \"couldn't\", 'didn', \"didn't\", 'doesn', \"doesn't\", 'hadn', \"hadn't\", 'hasn', \"hasn't\", 'haven', \"haven't\", 'isn', \"isn't\", 'ma', 'mightn', \"mightn't\", 'mustn', \"mustn't\", 'needn', \"needn't\", 'shan', \"shan't\", 'shouldn', \"shouldn't\", 'wasn', \"wasn't\", 'weren', \"weren't\", 'won', \"won't\", 'wouldn', \"wouldn't\"]\n"
     ]
    }
   ],
   "source": [
    "print('불용어 개수 :', len(stopwords.words('english') ))\n",
    "print(stopwords.words('english'))"
   ]
  },
  {
   "cell_type": "code",
   "execution_count": 17,
   "id": "488863ee",
   "metadata": {},
   "outputs": [],
   "source": [
    "from tqdm import tqdm, trange\n",
    "\n",
    "tqdm.pandas()"
   ]
  },
  {
   "cell_type": "code",
   "execution_count": 18,
   "id": "1646cf7c",
   "metadata": {},
   "outputs": [],
   "source": [
    "# 데이터 전처리 함수\n",
    "\n",
    "def preprocess_sentence(sentence, remove_stopwords=True):\n",
    "    sentence = sentence.lower() # 텍스트 소문자화\n",
    "    sentence = BeautifulSoup(sentence, \"lxml\").text # <br />, <a href = ...> 등의 html 태그 제거\n",
    "    sentence = re.sub(r'\\([^)]*\\)', '', sentence) # 괄호로 닫힌 문자열 (...) 제거 Ex) my husband (and myself!) for => my husband for\n",
    "    sentence = re.sub('\\\"','', sentence) # 쌍따옴표 \" 제거\n",
    "    \n",
    "    sentence = re.sub(\"&\",\" and \", sentence) # & -> and로 교체\n",
    "    sentence = re.sub(\"\\'\",\"'\", sentence) # \\' -> '로 교체\n",
    "    sentence = ' '.join([contractions[t] if t in contractions else t for t in sentence.split(\" \")]) # 약어 정규화\n",
    "    sentence = re.sub(r\"'s\\b\",\"\", sentence) # 소유격 제거. Ex) roland's -> roland\n",
    "    sentence = re.sub(\"[^a-zA-Z]\", \" \", sentence) # 영어 외 문자(숫자, 특수문자 등) 공백으로 변환\n",
    "    sentence = re.sub('[m]{2,}', 'mm', sentence) # m이 3개 이상이면 2개로 변경. Ex) ummmmmmm yeah -> umm yeah\n",
    "    sentence = re.sub(' +', ' ', sentence) # 다중공백 제거\n",
    "    # sentence = ' '.join(sentence.split())\n",
    "     \n",
    "    # 불용어 제거 (Text)\n",
    "    if remove_stopwords:\n",
    "        tokens = ' '.join(word for word in sentence.split() if not word in stopwords.words('english') if len(word) > 1)\n",
    "    # 불용어 미제거 (Summary)\n",
    "    else:\n",
    "        tokens = ' '.join(word for word in sentence.split() if len(word) > 1)\n",
    "    return tokens"
   ]
  },
  {
   "cell_type": "markdown",
   "id": "c832c1ca",
   "metadata": {},
   "source": [
    "불용어에 no, not 같은 단어들이 있어서 일단 불용어는 제거하지 않는다"
   ]
  },
  {
   "cell_type": "code",
   "execution_count": 19,
   "id": "0d23f2e7",
   "metadata": {},
   "outputs": [
    {
     "name": "stderr",
     "output_type": "stream",
     "text": [
      "100%|██████████| 98360/98360 [00:23<00:00, 4266.45it/s]"
     ]
    },
    {
     "name": "stdout",
     "output_type": "stream",
     "text": [
      "text 전처리 후 결과:  ['saurav kant an alumnus of upgrad and iiit pg program in machine learning and artificial intelligence was sr systems engineer at infosys with almost years of work experience the program and upgrad degree career support helped him transition to data scientist at tech mahindra with salary hike upgrad online power learning has powered lakh careers', 'kunal shah credit card bill payment platform cred gave users chance to win free food from swiggy for one year pranav kaushik delhi techie bagged this reward after spending cred coins users get one cred coin per rupee of bill paid which can be used to avail rewards from brands like ixigo bookmyshow ubereats cult fit and more', 'new zealand defeated india by wickets in the fourth odi at hamilton on thursday to win their first match of the five match odi series india lost an international match under rohit sharma captaincy after consecutive victories dating back to march the match witnessed india getting all out for their seventh lowest total in odi cricket history', 'with aegon life iterm insurance plan customers can enjoy tax benefits on your premiums paid and save up to on taxes the plan provides life cover up to the age of years also customers have options to insure against critical illnesses disability and accidental death benefit rider with life cover up to the age of years', 'speaking about the sexual harassment allegations against rajkumar hirani sonam kapoor said have known hirani for many years what if it is not true the metoo movement will get derailed in the metoo movement always believe woman but in this case we need to reserve our judgment she added hirani has been accused by an assistant who worked in sanju']\n"
     ]
    },
    {
     "name": "stderr",
     "output_type": "stream",
     "text": [
      "\n"
     ]
    }
   ],
   "source": [
    "clean_text = data['text'].progress_apply(lambda x: preprocess_sentence(x, False)).tolist()\n",
    "\n",
    "print(\"text 전처리 후 결과: \", clean_text[:5])"
   ]
  },
  {
   "cell_type": "code",
   "execution_count": 20,
   "id": "5c5f62a3",
   "metadata": {},
   "outputs": [
    {
     "name": "stderr",
     "output_type": "stream",
     "text": [
      "100%|██████████| 98360/98360 [00:17<00:00, 5627.59it/s]"
     ]
    },
    {
     "name": "stdout",
     "output_type": "stream",
     "text": [
      "headline 전처리 후 결과:  ['upgrad learner switches to career in ml and al with salary hike', 'delhi techie wins free food from swiggy for one year on cred', 'new zealand end rohit sharma led india match winning streak', 'aegon life iterm insurance plan helps customers save tax', 'have known hirani for yrs what if metoo claims are not true sonam']\n"
     ]
    },
    {
     "name": "stderr",
     "output_type": "stream",
     "text": [
      "\n"
     ]
    }
   ],
   "source": [
    "clean_headlines = data['headlines'].progress_apply(lambda x: preprocess_sentence(x, False)).tolist()\n",
    "\n",
    "print(\"headline 전처리 후 결과: \", clean_headlines[:5])"
   ]
  },
  {
   "cell_type": "code",
   "execution_count": 21,
   "id": "e273f20c",
   "metadata": {},
   "outputs": [],
   "source": [
    "# 원본을 news에 저장해두고 오류 발생시 다시 사용하고자 한다\n",
    "news = data.copy()"
   ]
  },
  {
   "cell_type": "code",
   "execution_count": 22,
   "id": "f9f8f89f",
   "metadata": {
    "scrolled": true
   },
   "outputs": [],
   "source": [
    "data['text'] = clean_text\n",
    "data['headlines'] = clean_headlines\n",
    "\n",
    "# 빈 값을 Null 값으로 변환\n",
    "data.replace('', np.nan, inplace=True)"
   ]
  },
  {
   "cell_type": "code",
   "execution_count": 23,
   "id": "32e9170a",
   "metadata": {},
   "outputs": [
    {
     "data": {
      "text/html": [
       "<div>\n",
       "<style scoped>\n",
       "    .dataframe tbody tr th:only-of-type {\n",
       "        vertical-align: middle;\n",
       "    }\n",
       "\n",
       "    .dataframe tbody tr th {\n",
       "        vertical-align: top;\n",
       "    }\n",
       "\n",
       "    .dataframe thead th {\n",
       "        text-align: right;\n",
       "    }\n",
       "</style>\n",
       "<table border=\"1\" class=\"dataframe\">\n",
       "  <thead>\n",
       "    <tr style=\"text-align: right;\">\n",
       "      <th></th>\n",
       "      <th>headlines</th>\n",
       "      <th>text</th>\n",
       "    </tr>\n",
       "  </thead>\n",
       "  <tbody>\n",
       "    <tr>\n",
       "      <th>0</th>\n",
       "      <td>upGrad learner switches to career in ML &amp; Al w...</td>\n",
       "      <td>Saurav Kant, an alumnus of upGrad and IIIT-B's...</td>\n",
       "    </tr>\n",
       "    <tr>\n",
       "      <th>1</th>\n",
       "      <td>Delhi techie wins free food from Swiggy for on...</td>\n",
       "      <td>Kunal Shah's credit card bill payment platform...</td>\n",
       "    </tr>\n",
       "    <tr>\n",
       "      <th>2</th>\n",
       "      <td>New Zealand end Rohit Sharma-led India's 12-ma...</td>\n",
       "      <td>New Zealand defeated India by 8 wickets in the...</td>\n",
       "    </tr>\n",
       "    <tr>\n",
       "      <th>3</th>\n",
       "      <td>Aegon life iTerm insurance plan helps customer...</td>\n",
       "      <td>With Aegon Life iTerm Insurance plan, customer...</td>\n",
       "    </tr>\n",
       "    <tr>\n",
       "      <th>4</th>\n",
       "      <td>Have known Hirani for yrs, what if MeToo claim...</td>\n",
       "      <td>Speaking about the sexual harassment allegatio...</td>\n",
       "    </tr>\n",
       "    <tr>\n",
       "      <th>...</th>\n",
       "      <td>...</td>\n",
       "      <td>...</td>\n",
       "    </tr>\n",
       "    <tr>\n",
       "      <th>98396</th>\n",
       "      <td>CRPF jawan axed to death by Maoists in Chhatti...</td>\n",
       "      <td>A CRPF jawan was on Tuesday axed to death with...</td>\n",
       "    </tr>\n",
       "    <tr>\n",
       "      <th>98397</th>\n",
       "      <td>First song from Sonakshi Sinha's 'Noor' titled...</td>\n",
       "      <td>'Uff Yeh', the first song from the Sonakshi Si...</td>\n",
       "    </tr>\n",
       "    <tr>\n",
       "      <th>98398</th>\n",
       "      <td>'The Matrix' film to get a reboot: Reports</td>\n",
       "      <td>According to reports, a new version of the 199...</td>\n",
       "    </tr>\n",
       "    <tr>\n",
       "      <th>98399</th>\n",
       "      <td>Snoop Dogg aims gun at clown dressed as Trump ...</td>\n",
       "      <td>A new music video shows rapper Snoop Dogg aimi...</td>\n",
       "    </tr>\n",
       "    <tr>\n",
       "      <th>98400</th>\n",
       "      <td>Madhesi Morcha withdraws support to Nepalese g...</td>\n",
       "      <td>Madhesi Morcha, an alliance of seven political...</td>\n",
       "    </tr>\n",
       "  </tbody>\n",
       "</table>\n",
       "<p>98360 rows × 2 columns</p>\n",
       "</div>"
      ],
      "text/plain": [
       "                                               headlines  \\\n",
       "0      upGrad learner switches to career in ML & Al w...   \n",
       "1      Delhi techie wins free food from Swiggy for on...   \n",
       "2      New Zealand end Rohit Sharma-led India's 12-ma...   \n",
       "3      Aegon life iTerm insurance plan helps customer...   \n",
       "4      Have known Hirani for yrs, what if MeToo claim...   \n",
       "...                                                  ...   \n",
       "98396  CRPF jawan axed to death by Maoists in Chhatti...   \n",
       "98397  First song from Sonakshi Sinha's 'Noor' titled...   \n",
       "98398         'The Matrix' film to get a reboot: Reports   \n",
       "98399  Snoop Dogg aims gun at clown dressed as Trump ...   \n",
       "98400  Madhesi Morcha withdraws support to Nepalese g...   \n",
       "\n",
       "                                                    text  \n",
       "0      Saurav Kant, an alumnus of upGrad and IIIT-B's...  \n",
       "1      Kunal Shah's credit card bill payment platform...  \n",
       "2      New Zealand defeated India by 8 wickets in the...  \n",
       "3      With Aegon Life iTerm Insurance plan, customer...  \n",
       "4      Speaking about the sexual harassment allegatio...  \n",
       "...                                                  ...  \n",
       "98396  A CRPF jawan was on Tuesday axed to death with...  \n",
       "98397  'Uff Yeh', the first song from the Sonakshi Si...  \n",
       "98398  According to reports, a new version of the 199...  \n",
       "98399  A new music video shows rapper Snoop Dogg aimi...  \n",
       "98400  Madhesi Morcha, an alliance of seven political...  \n",
       "\n",
       "[98360 rows x 2 columns]"
      ]
     },
     "execution_count": 23,
     "metadata": {},
     "output_type": "execute_result"
    }
   ],
   "source": [
    "news"
   ]
  },
  {
   "cell_type": "code",
   "execution_count": 24,
   "id": "cac295ec",
   "metadata": {},
   "outputs": [
    {
     "data": {
      "text/html": [
       "<div>\n",
       "<style scoped>\n",
       "    .dataframe tbody tr th:only-of-type {\n",
       "        vertical-align: middle;\n",
       "    }\n",
       "\n",
       "    .dataframe tbody tr th {\n",
       "        vertical-align: top;\n",
       "    }\n",
       "\n",
       "    .dataframe thead th {\n",
       "        text-align: right;\n",
       "    }\n",
       "</style>\n",
       "<table border=\"1\" class=\"dataframe\">\n",
       "  <thead>\n",
       "    <tr style=\"text-align: right;\">\n",
       "      <th></th>\n",
       "      <th>headlines</th>\n",
       "      <th>text</th>\n",
       "    </tr>\n",
       "  </thead>\n",
       "  <tbody>\n",
       "    <tr>\n",
       "      <th>0</th>\n",
       "      <td>upgrad learner switches to career in ml and al...</td>\n",
       "      <td>saurav kant an alumnus of upgrad and iiit pg p...</td>\n",
       "    </tr>\n",
       "    <tr>\n",
       "      <th>1</th>\n",
       "      <td>delhi techie wins free food from swiggy for on...</td>\n",
       "      <td>kunal shah credit card bill payment platform c...</td>\n",
       "    </tr>\n",
       "    <tr>\n",
       "      <th>2</th>\n",
       "      <td>new zealand end rohit sharma led india match w...</td>\n",
       "      <td>new zealand defeated india by wickets in the f...</td>\n",
       "    </tr>\n",
       "    <tr>\n",
       "      <th>3</th>\n",
       "      <td>aegon life iterm insurance plan helps customer...</td>\n",
       "      <td>with aegon life iterm insurance plan customers...</td>\n",
       "    </tr>\n",
       "    <tr>\n",
       "      <th>4</th>\n",
       "      <td>have known hirani for yrs what if metoo claims...</td>\n",
       "      <td>speaking about the sexual harassment allegatio...</td>\n",
       "    </tr>\n",
       "  </tbody>\n",
       "</table>\n",
       "</div>"
      ],
      "text/plain": [
       "                                           headlines  \\\n",
       "0  upgrad learner switches to career in ml and al...   \n",
       "1  delhi techie wins free food from swiggy for on...   \n",
       "2  new zealand end rohit sharma led india match w...   \n",
       "3  aegon life iterm insurance plan helps customer...   \n",
       "4  have known hirani for yrs what if metoo claims...   \n",
       "\n",
       "                                                text  \n",
       "0  saurav kant an alumnus of upgrad and iiit pg p...  \n",
       "1  kunal shah credit card bill payment platform c...  \n",
       "2  new zealand defeated india by wickets in the f...  \n",
       "3  with aegon life iterm insurance plan customers...  \n",
       "4  speaking about the sexual harassment allegatio...  "
      ]
     },
     "execution_count": 24,
     "metadata": {},
     "output_type": "execute_result"
    }
   ],
   "source": [
    "data.head()"
   ]
  },
  {
   "cell_type": "code",
   "execution_count": 25,
   "id": "9902643a",
   "metadata": {},
   "outputs": [
    {
     "data": {
      "text/plain": [
       "headlines    0\n",
       "text         0\n",
       "dtype: int64"
      ]
     },
     "execution_count": 25,
     "metadata": {},
     "output_type": "execute_result"
    }
   ],
   "source": [
    "data.isnull().sum()"
   ]
  },
  {
   "cell_type": "code",
   "execution_count": 27,
   "id": "c0e09a86",
   "metadata": {},
   "outputs": [
    {
     "name": "stdout",
     "output_type": "stream",
     "text": [
      "텍스트의 최소 길이 : 1\n",
      "텍스트의 최대 길이 : 69\n",
      "텍스트의 평균 길이 : 56.195445302968686\n",
      "요약의 최소 길이 : 1\n",
      "요약의 최대 길이 : 16\n",
      "요약의 평균 길이 : 9.310481903212688\n"
     ]
    },
    {
     "data": {
      "image/png": "[encoded data removed]",
      "text/plain": [
       "<Figure size 432x288 with 2 Axes>"
      ]
     },
     "metadata": {
      "needs_background": "light"
     },
     "output_type": "display_data"
    },
    {
     "data": {
      "image/png": "[encoded data removed]",
      "text/plain": [
       "<Figure size 432x288 with 1 Axes>"
      ]
     },
     "metadata": {
      "needs_background": "light"
     },
     "output_type": "display_data"
    },
    {
     "data": {
      "image/png": "[encoded data removed]",
      "text/plain": [
       "<Figure size 432x288 with 1 Axes>"
      ]
     },
     "metadata": {
      "needs_background": "light"
     },
     "output_type": "display_data"
    }
   ],
   "source": [
    "# 길이 분포 출력\n",
    "import matplotlib.pyplot as plt\n",
    "\n",
    "text_len = [len(s.split()) for s in data['text']]\n",
    "summary_len = [len(s.split()) for s in data['headlines']]\n",
    "\n",
    "print('텍스트의 최소 길이 : {}'.format(np.min(text_len)))\n",
    "print('텍스트의 최대 길이 : {}'.format(np.max(text_len)))\n",
    "print('텍스트의 평균 길이 : {}'.format(np.mean(text_len)))\n",
    "print('요약의 최소 길이 : {}'.format(np.min(summary_len)))\n",
    "print('요약의 최대 길이 : {}'.format(np.max(summary_len)))\n",
    "print('요약의 평균 길이 : {}'.format(np.mean(summary_len)))\n",
    "\n",
    "plt.subplot(1,2,1)\n",
    "plt.boxplot(text_len)\n",
    "plt.title('Text')\n",
    "plt.subplot(1,2,2)\n",
    "plt.boxplot(summary_len)\n",
    "plt.title('Headlines')\n",
    "plt.tight_layout()\n",
    "plt.show()\n",
    "\n",
    "plt.title('Text')\n",
    "plt.hist(text_len, bins = 40)\n",
    "plt.xlabel('length of samples')\n",
    "plt.ylabel('number of samples')\n",
    "plt.show()\n",
    "\n",
    "plt.title('Headlines')\n",
    "plt.hist(summary_len, bins = 40)\n",
    "plt.xlabel('length of samples')\n",
    "plt.ylabel('number of samples')\n",
    "plt.show()"
   ]
  },
  {
   "cell_type": "markdown",
   "id": "017ccc0a",
   "metadata": {},
   "source": [
    "### 이상치 제거"
   ]
  },
  {
   "cell_type": "code",
   "execution_count": 41,
   "id": "c038f479",
   "metadata": {
    "scrolled": false
   },
   "outputs": [
    {
     "data": {
      "text/plain": [
       "52"
      ]
     },
     "execution_count": 41,
     "metadata": {},
     "output_type": "execute_result"
    }
   ],
   "source": [
    "np.argmin(text_len)"
   ]
  },
  {
   "cell_type": "code",
   "execution_count": 42,
   "id": "862d65d5",
   "metadata": {},
   "outputs": [
    {
     "data": {
      "text/plain": [
       "headlines    headlines\n",
       "text              text\n",
       "Name: 52, dtype: object"
      ]
     },
     "execution_count": 42,
     "metadata": {},
     "output_type": "execute_result"
    }
   ],
   "source": [
    "data.iloc[52]"
   ]
  },
  {
   "cell_type": "code",
   "execution_count": 43,
   "id": "9d79b74c",
   "metadata": {
    "scrolled": true
   },
   "outputs": [
    {
     "data": {
      "text/plain": [
       "54.0"
      ]
     },
     "execution_count": 43,
     "metadata": {},
     "output_type": "execute_result"
    }
   ],
   "source": [
    "np.quantile(text_len, 0.25)"
   ]
  },
  {
   "cell_type": "code",
   "execution_count": 44,
   "id": "eb7f2273",
   "metadata": {},
   "outputs": [
    {
     "data": {
      "text/plain": [
       "(98360, 2)"
      ]
     },
     "execution_count": 44,
     "metadata": {},
     "output_type": "execute_result"
    }
   ],
   "source": [
    "data.shape"
   ]
  },
  {
   "cell_type": "code",
   "execution_count": 45,
   "id": "851b6f65",
   "metadata": {
    "scrolled": true
   },
   "outputs": [],
   "source": [
    "data.drop(52, inplace=True)"
   ]
  },
  {
   "cell_type": "code",
   "execution_count": 46,
   "id": "17f39a59",
   "metadata": {},
   "outputs": [
    {
     "data": {
      "text/plain": [
       "(98359, 2)"
      ]
     },
     "execution_count": 46,
     "metadata": {},
     "output_type": "execute_result"
    }
   ],
   "source": [
    "data.shape"
   ]
  },
  {
   "cell_type": "code",
   "execution_count": 47,
   "id": "756ba3b9",
   "metadata": {},
   "outputs": [
    {
     "name": "stdout",
     "output_type": "stream",
     "text": [
      "텍스트의 최소 길이 : 33\n",
      "텍스트의 최대 길이 : 69\n",
      "텍스트의 평균 길이 : 56.19600646610885\n",
      "요약의 최소 길이 : 3\n",
      "요약의 최대 길이 : 16\n",
      "요약의 평균 길이 : 9.310566394534307\n"
     ]
    },
    {
     "data": {
      "image/png": "[encoded data removed]",
      "text/plain": [
       "<Figure size 432x288 with 2 Axes>"
      ]
     },
     "metadata": {
      "needs_background": "light"
     },
     "output_type": "display_data"
    },
    {
     "data": {
      "image/png": "[encoded data removed]",
      "text/plain": [
       "<Figure size 432x288 with 1 Axes>"
      ]
     },
     "metadata": {
      "needs_background": "light"
     },
     "output_type": "display_data"
    },
    {
     "data": {
      "image/png": "[encoded data removed]",
      "text/plain": [
       "<Figure size 432x288 with 1 Axes>"
      ]
     },
     "metadata": {
      "needs_background": "light"
     },
     "output_type": "display_data"
    }
   ],
   "source": [
    "# 길이 분포 출력\n",
    "import matplotlib.pyplot as plt\n",
    "\n",
    "text_len = [len(s.split()) for s in data['text']]\n",
    "summary_len = [len(s.split()) for s in data['headlines']]\n",
    "\n",
    "print('텍스트의 최소 길이 : {}'.format(np.min(text_len)))\n",
    "print('텍스트의 최대 길이 : {}'.format(np.max(text_len)))\n",
    "print('텍스트의 평균 길이 : {}'.format(np.mean(text_len)))\n",
    "print('요약의 최소 길이 : {}'.format(np.min(summary_len)))\n",
    "print('요약의 최대 길이 : {}'.format(np.max(summary_len)))\n",
    "print('요약의 평균 길이 : {}'.format(np.mean(summary_len)))\n",
    "\n",
    "plt.subplot(1,2,1)\n",
    "plt.boxplot(text_len)\n",
    "plt.title('Text')\n",
    "plt.subplot(1,2,2)\n",
    "plt.boxplot(summary_len)\n",
    "plt.title('Headlines')\n",
    "plt.tight_layout()\n",
    "plt.show()\n",
    "\n",
    "plt.title('Text')\n",
    "plt.hist(text_len, bins = 40)\n",
    "plt.xlabel('length of samples')\n",
    "plt.ylabel('number of samples')\n",
    "plt.show()\n",
    "\n",
    "plt.title('Headlines')\n",
    "plt.hist(summary_len, bins = 40)\n",
    "plt.xlabel('length of samples')\n",
    "plt.ylabel('number of samples')\n",
    "plt.show()"
   ]
  },
  {
   "cell_type": "code",
   "execution_count": 48,
   "id": "c8d0fb2b",
   "metadata": {},
   "outputs": [
    {
     "name": "stdout",
     "output_type": "stream",
     "text": [
      "텍스트의 최대 길이 : 69\n",
      "요약의 최대 길이 : 16\n"
     ]
    }
   ],
   "source": [
    "print('텍스트의 최대 길이 : {}'.format(np.max(text_len)))\n",
    "print('요약의 최대 길이 : {}'.format(np.max(summary_len)))"
   ]
  },
  {
   "cell_type": "code",
   "execution_count": 55,
   "id": "bc558ae1",
   "metadata": {},
   "outputs": [],
   "source": [
    "text_max_len = 60\n",
    "summary_max_len = 15"
   ]
  },
  {
   "cell_type": "code",
   "execution_count": 56,
   "id": "65f0fd11",
   "metadata": {},
   "outputs": [],
   "source": [
    "def below_threshold_len(max_len, nested_list):\n",
    "    cnt = 0\n",
    "    for s in nested_list:\n",
    "        if(len(s.split()) <= max_len):\n",
    "            cnt = cnt + 1\n",
    "    print('전체 샘플 중 길이가 %s 이하인 샘플의 비율: %s'%(max_len, (cnt / len(nested_list))))"
   ]
  },
  {
   "cell_type": "code",
   "execution_count": 57,
   "id": "64ecc8cf",
   "metadata": {},
   "outputs": [
    {
     "name": "stdout",
     "output_type": "stream",
     "text": [
      "전체 샘플 중 길이가 60 이하인 샘플의 비율: 0.943787553757155\n",
      "전체 샘플 중 길이가 15 이하인 샘플의 비율: 0.9999593326487662\n"
     ]
    }
   ],
   "source": [
    "below_threshold_len(text_max_len, data['text'])\n",
    "below_threshold_len(summary_max_len,  data['headlines'])"
   ]
  },
  {
   "cell_type": "markdown",
   "id": "2149c492",
   "metadata": {},
   "source": [
    "### text_max_len과 summary_max_len의 길이보다 큰 샘플을 제외"
   ]
  },
  {
   "cell_type": "code",
   "execution_count": 58,
   "id": "001d2723",
   "metadata": {},
   "outputs": [
    {
     "data": {
      "text/plain": [
       "(98359, 2)"
      ]
     },
     "execution_count": 58,
     "metadata": {},
     "output_type": "execute_result"
    }
   ],
   "source": [
    "data.shape"
   ]
  },
  {
   "cell_type": "code",
   "execution_count": 59,
   "id": "d95fc5bb",
   "metadata": {},
   "outputs": [
    {
     "name": "stdout",
     "output_type": "stream",
     "text": [
      "전체 샘플수 : 92826\n"
     ]
    }
   ],
   "source": [
    "c1 = data['headlines'].apply(lambda x: len(x.split())) <= summary_max_len\n",
    "c2 = data['text'].apply(lambda x: len(x.split())) <= text_max_len\n",
    "\n",
    "data = data.loc[c1 & c2]\n",
    "\n",
    "print('전체 샘플수 :', (len(data)))"
   ]
  },
  {
   "cell_type": "markdown",
   "id": "5d5c4c72",
   "metadata": {},
   "source": [
    "### 시작 토큰과 종료 토큰 추가하기"
   ]
  },
  {
   "cell_type": "code",
   "execution_count": 60,
   "id": "01a3a859",
   "metadata": {},
   "outputs": [
    {
     "name": "stderr",
     "output_type": "stream",
     "text": [
      "/tmp/ipykernel_83/4081104566.py:2: SettingWithCopyWarning: \n",
      "A value is trying to be set on a copy of a slice from a DataFrame.\n",
      "Try using .loc[row_indexer,col_indexer] = value instead\n",
      "\n",
      "See the caveats in the documentation: https://pandas.pydata.org/pandas-docs/stable/user_guide/indexing.html#returning-a-view-versus-a-copy\n",
      "  data['decoder_input'] = data['headlines'].apply(lambda x : 'sostoken '+ x)\n",
      "/tmp/ipykernel_83/4081104566.py:3: SettingWithCopyWarning: \n",
      "A value is trying to be set on a copy of a slice from a DataFrame.\n",
      "Try using .loc[row_indexer,col_indexer] = value instead\n",
      "\n",
      "See the caveats in the documentation: https://pandas.pydata.org/pandas-docs/stable/user_guide/indexing.html#returning-a-view-versus-a-copy\n",
      "  data['decoder_target'] = data['headlines'].apply(lambda x : x + ' eostoken')\n"
     ]
    },
    {
     "data": {
      "text/html": [
       "<div>\n",
       "<style scoped>\n",
       "    .dataframe tbody tr th:only-of-type {\n",
       "        vertical-align: middle;\n",
       "    }\n",
       "\n",
       "    .dataframe tbody tr th {\n",
       "        vertical-align: top;\n",
       "    }\n",
       "\n",
       "    .dataframe thead th {\n",
       "        text-align: right;\n",
       "    }\n",
       "</style>\n",
       "<table border=\"1\" class=\"dataframe\">\n",
       "  <thead>\n",
       "    <tr style=\"text-align: right;\">\n",
       "      <th></th>\n",
       "      <th>headlines</th>\n",
       "      <th>text</th>\n",
       "      <th>decoder_input</th>\n",
       "      <th>decoder_target</th>\n",
       "    </tr>\n",
       "  </thead>\n",
       "  <tbody>\n",
       "    <tr>\n",
       "      <th>0</th>\n",
       "      <td>upgrad learner switches to career in ml and al...</td>\n",
       "      <td>saurav kant an alumnus of upgrad and iiit pg p...</td>\n",
       "      <td>sostoken upgrad learner switches to career in ...</td>\n",
       "      <td>upgrad learner switches to career in ml and al...</td>\n",
       "    </tr>\n",
       "    <tr>\n",
       "      <th>1</th>\n",
       "      <td>delhi techie wins free food from swiggy for on...</td>\n",
       "      <td>kunal shah credit card bill payment platform c...</td>\n",
       "      <td>sostoken delhi techie wins free food from swig...</td>\n",
       "      <td>delhi techie wins free food from swiggy for on...</td>\n",
       "    </tr>\n",
       "    <tr>\n",
       "      <th>2</th>\n",
       "      <td>new zealand end rohit sharma led india match w...</td>\n",
       "      <td>new zealand defeated india by wickets in the f...</td>\n",
       "      <td>sostoken new zealand end rohit sharma led indi...</td>\n",
       "      <td>new zealand end rohit sharma led india match w...</td>\n",
       "    </tr>\n",
       "    <tr>\n",
       "      <th>3</th>\n",
       "      <td>aegon life iterm insurance plan helps customer...</td>\n",
       "      <td>with aegon life iterm insurance plan customers...</td>\n",
       "      <td>sostoken aegon life iterm insurance plan helps...</td>\n",
       "      <td>aegon life iterm insurance plan helps customer...</td>\n",
       "    </tr>\n",
       "    <tr>\n",
       "      <th>4</th>\n",
       "      <td>have known hirani for yrs what if metoo claims...</td>\n",
       "      <td>speaking about the sexual harassment allegatio...</td>\n",
       "      <td>sostoken have known hirani for yrs what if met...</td>\n",
       "      <td>have known hirani for yrs what if metoo claims...</td>\n",
       "    </tr>\n",
       "  </tbody>\n",
       "</table>\n",
       "</div>"
      ],
      "text/plain": [
       "                                           headlines  \\\n",
       "0  upgrad learner switches to career in ml and al...   \n",
       "1  delhi techie wins free food from swiggy for on...   \n",
       "2  new zealand end rohit sharma led india match w...   \n",
       "3  aegon life iterm insurance plan helps customer...   \n",
       "4  have known hirani for yrs what if metoo claims...   \n",
       "\n",
       "                                                text  \\\n",
       "0  saurav kant an alumnus of upgrad and iiit pg p...   \n",
       "1  kunal shah credit card bill payment platform c...   \n",
       "2  new zealand defeated india by wickets in the f...   \n",
       "3  with aegon life iterm insurance plan customers...   \n",
       "4  speaking about the sexual harassment allegatio...   \n",
       "\n",
       "                                       decoder_input  \\\n",
       "0  sostoken upgrad learner switches to career in ...   \n",
       "1  sostoken delhi techie wins free food from swig...   \n",
       "2  sostoken new zealand end rohit sharma led indi...   \n",
       "3  sostoken aegon life iterm insurance plan helps...   \n",
       "4  sostoken have known hirani for yrs what if met...   \n",
       "\n",
       "                                      decoder_target  \n",
       "0  upgrad learner switches to career in ml and al...  \n",
       "1  delhi techie wins free food from swiggy for on...  \n",
       "2  new zealand end rohit sharma led india match w...  \n",
       "3  aegon life iterm insurance plan helps customer...  \n",
       "4  have known hirani for yrs what if metoo claims...  "
      ]
     },
     "execution_count": 60,
     "metadata": {},
     "output_type": "execute_result"
    }
   ],
   "source": [
    "# 요약 데이터에는 시작 토큰과 종료 토큰을 추가한다.\n",
    "data['decoder_input'] = data['headlines'].apply(lambda x : 'sostoken '+ x)\n",
    "data['decoder_target'] = data['headlines'].apply(lambda x : x + ' eostoken')\n",
    "data.head()"
   ]
  },
  {
   "cell_type": "code",
   "execution_count": 246,
   "id": "e6849e46",
   "metadata": {},
   "outputs": [],
   "source": [
    "encoder_input = np.array(data['text']) # 인코더의 입력\n",
    "decoder_input = np.array(data['decoder_input']) # 디코더의 입력\n",
    "decoder_target = np.array(data['decoder_target']) # 디코더의 레이블"
   ]
  },
  {
   "cell_type": "code",
   "execution_count": 247,
   "id": "3e75969a",
   "metadata": {},
   "outputs": [
    {
     "name": "stdout",
     "output_type": "stream",
     "text": [
      "[78246 22336 32166 ... 34539 56656 21372]\n"
     ]
    }
   ],
   "source": [
    "indices = np.arange(encoder_input.shape[0])\n",
    "np.random.shuffle(indices)\n",
    "print(indices)"
   ]
  },
  {
   "cell_type": "code",
   "execution_count": 248,
   "id": "1f2c13fb",
   "metadata": {},
   "outputs": [],
   "source": [
    "encoder_input = encoder_input[indices]\n",
    "decoder_input = decoder_input[indices]\n",
    "decoder_target = decoder_target[indices]"
   ]
  },
  {
   "cell_type": "code",
   "execution_count": 249,
   "id": "0169fc3d",
   "metadata": {},
   "outputs": [
    {
     "name": "stdout",
     "output_type": "stream",
     "text": [
      "테스트 데이터의 수 : 18565\n"
     ]
    }
   ],
   "source": [
    "n_of_val = int(len(encoder_input)*0.2)\n",
    "print('테스트 데이터의 수 :', n_of_val)"
   ]
  },
  {
   "cell_type": "code",
   "execution_count": 250,
   "id": "ebf1db79",
   "metadata": {},
   "outputs": [
    {
     "name": "stdout",
     "output_type": "stream",
     "text": [
      "훈련 데이터의 개수 : 74261\n",
      "훈련 레이블의 개수 : 74261\n",
      "테스트 데이터의 개수 : 18565\n",
      "테스트 레이블의 개수 : 18565\n"
     ]
    }
   ],
   "source": [
    "encoder_input_train = encoder_input[:-n_of_val]\n",
    "decoder_input_train = decoder_input[:-n_of_val]\n",
    "decoder_target_train = decoder_target[:-n_of_val]\n",
    "\n",
    "encoder_input_test = encoder_input[-n_of_val:]\n",
    "decoder_input_test = decoder_input[-n_of_val:]\n",
    "decoder_target_test = decoder_target[-n_of_val:]\n",
    "\n",
    "print('훈련 데이터의 개수 :', len(encoder_input_train))\n",
    "print('훈련 레이블의 개수 :', len(decoder_input_train))\n",
    "print('테스트 데이터의 개수 :', len(encoder_input_test))\n",
    "print('테스트 레이블의 개수 :', len(decoder_input_test))"
   ]
  },
  {
   "cell_type": "markdown",
   "id": "75bd31f2",
   "metadata": {},
   "source": [
    "### 정수 인코딩"
   ]
  },
  {
   "cell_type": "code",
   "execution_count": 251,
   "id": "4cb169d5",
   "metadata": {},
   "outputs": [],
   "source": [
    "src_tokenizer = Tokenizer() # 토크나이저 정의\n",
    "src_tokenizer.fit_on_texts(encoder_input_train)"
   ]
  },
  {
   "cell_type": "code",
   "execution_count": 252,
   "id": "46aaa275",
   "metadata": {},
   "outputs": [
    {
     "name": "stdout",
     "output_type": "stream",
     "text": [
      "단어 집합(vocabulary)의 크기 : 68179\n",
      "등장 빈도가 6번 이하인 희귀 단어의 수: 46506\n",
      "단어 집합에서 희귀 단어를 제외시킬 경우의 단어 집합의 크기 21673\n",
      "단어 집합에서 희귀 단어의 비율: 68.21161941360243\n",
      "전체 등장 빈도에서 희귀 단어 등장 빈도 비율: 2.27145274988354\n"
     ]
    }
   ],
   "source": [
    "threshold = 7\n",
    "total_cnt = len(src_tokenizer.word_index) # 단어의 수\n",
    "rare_cnt = 0 # 등장 빈도수가 threshold보다 작은 단어의 개수를 카운트\n",
    "total_freq = 0 # 훈련 데이터의 전체 단어 빈도수 총 합\n",
    "rare_freq = 0 # 등장 빈도수가 threshold보다 작은 단어의 등장 빈도수의 총 합\n",
    "\n",
    "# 단어와 빈도수의 쌍(pair)을 key와 value로 받는다.\n",
    "for key, value in src_tokenizer.word_counts.items():\n",
    "    total_freq = total_freq + value\n",
    "\n",
    "    # 단어의 등장 빈도수가 threshold보다 작으면\n",
    "    if(value < threshold):\n",
    "        rare_cnt = rare_cnt + 1\n",
    "        rare_freq = rare_freq + value\n",
    "\n",
    "print('단어 집합(vocabulary)의 크기 :', total_cnt)\n",
    "print('등장 빈도가 %s번 이하인 희귀 단어의 수: %s'%(threshold - 1, rare_cnt))\n",
    "print('단어 집합에서 희귀 단어를 제외시킬 경우의 단어 집합의 크기 %s'%(total_cnt - rare_cnt))\n",
    "print(\"단어 집합에서 희귀 단어의 비율:\", (rare_cnt / total_cnt)*100)\n",
    "print(\"전체 등장 빈도에서 희귀 단어 등장 빈도 비율:\", (rare_freq / total_freq)*100)"
   ]
  },
  {
   "cell_type": "code",
   "execution_count": 253,
   "id": "25f0fd7c",
   "metadata": {},
   "outputs": [],
   "source": [
    "src_vocab = 20000\n",
    "src_tokenizer = Tokenizer(num_words=src_vocab) # 단어 집합의 크기를 20,000으로 제한\n",
    "src_tokenizer.fit_on_texts(encoder_input_train) # 단어 집합 재생성"
   ]
  },
  {
   "cell_type": "code",
   "execution_count": 254,
   "id": "a90c3fe3",
   "metadata": {},
   "outputs": [
    {
     "name": "stdout",
     "output_type": "stream",
     "text": [
      "[[1002, 4, 10016, 4823, 31, 7, 68, 308, 82, 114, 1799, 2365, 168, 117, 41, 2550, 2, 6249, 43, 3809, 311, 18, 1922, 1, 5884, 4, 52, 3, 1272, 37, 12, 275, 1, 1948, 599, 76, 170, 13, 2071, 2, 4666, 5884, 1074, 7, 32, 2194, 1623, 1002, 28, 27, 610, 268, 15, 101, 392, 2, 2456, 1, 2071], [3072, 57, 4039, 6, 124, 387, 1, 45, 50, 566, 2881, 2, 601, 125, 8, 67, 1624, 20, 3072, 104, 6, 549, 1, 30, 54, 162, 7, 1075, 20, 1, 104, 56, 4, 481, 605, 159, 297, 169, 20, 16, 520, 355, 9096, 16, 302, 6250, 5885, 11, 809, 20, 3072, 357, 57, 3], [3109, 111, 191, 103, 38, 1, 292, 8467, 2, 2775, 466, 1341, 1334, 2, 895, 120, 3682, 867, 13065, 13066, 9, 15048, 362, 73, 5, 467, 49, 53, 21, 1258, 91, 66, 5, 200, 91, 313, 311, 93, 91, 4738, 3, 13966, 1189, 6189, 21, 13967, 91, 15663, 7, 3736, 5, 81, 21, 26, 1156, 7815, 14, 34]]\n"
     ]
    }
   ],
   "source": [
    "# 텍스트 시퀀스를 정수 시퀀스로 변환\n",
    "encoder_input_train = src_tokenizer.texts_to_sequences(encoder_input_train) \n",
    "encoder_input_test = src_tokenizer.texts_to_sequences(encoder_input_test)\n",
    "\n",
    "# 잘 진행되었는지 샘플 출력\n",
    "print(encoder_input_train[:3])"
   ]
  },
  {
   "cell_type": "code",
   "execution_count": 255,
   "id": "51edffaf",
   "metadata": {},
   "outputs": [],
   "source": [
    "tar_tokenizer = Tokenizer()\n",
    "tar_tokenizer.fit_on_texts(decoder_input_train)"
   ]
  },
  {
   "cell_type": "code",
   "execution_count": 256,
   "id": "ff401462",
   "metadata": {},
   "outputs": [
    {
     "name": "stdout",
     "output_type": "stream",
     "text": [
      "단어 집합(vocabulary)의 크기 : 29413\n",
      "등장 빈도가 5번 이하인 희귀 단어의 수: 19352\n",
      "단어 집합에서 희귀 단어를 제외시킬 경우의 단어 집합의 크기 10061\n",
      "단어 집합에서 희귀 단어의 비율: 65.79403665046068\n",
      "전체 등장 빈도에서 희귀 단어 등장 빈도 비율: 4.854241729446446\n"
     ]
    }
   ],
   "source": [
    "threshold = 6\n",
    "total_cnt = len(tar_tokenizer.word_index) # 단어의 수\n",
    "rare_cnt = 0 # 등장 빈도수가 threshold보다 작은 단어의 개수를 카운트\n",
    "total_freq = 0 # 훈련 데이터의 전체 단어 빈도수 총 합\n",
    "rare_freq = 0 # 등장 빈도수가 threshold보다 작은 단어의 등장 빈도수의 총 합\n",
    "\n",
    "# 단어와 빈도수의 쌍(pair)을 key와 value로 받는다.\n",
    "for key, value in tar_tokenizer.word_counts.items():\n",
    "    total_freq = total_freq + value\n",
    "\n",
    "    # 단어의 등장 빈도수가 threshold보다 작으면\n",
    "    if(value < threshold):\n",
    "        rare_cnt = rare_cnt + 1\n",
    "        rare_freq = rare_freq + value\n",
    "\n",
    "print('단어 집합(vocabulary)의 크기 :', total_cnt)\n",
    "print('등장 빈도가 %s번 이하인 희귀 단어의 수: %s'%(threshold - 1, rare_cnt))\n",
    "print('단어 집합에서 희귀 단어를 제외시킬 경우의 단어 집합의 크기 %s'%(total_cnt - rare_cnt))\n",
    "print(\"단어 집합에서 희귀 단어의 비율:\", (rare_cnt / total_cnt)*100)\n",
    "print(\"전체 등장 빈도에서 희귀 단어 등장 빈도 비율:\", (rare_freq / total_freq)*100)"
   ]
  },
  {
   "cell_type": "code",
   "execution_count": 257,
   "id": "db3b0d53",
   "metadata": {},
   "outputs": [
    {
     "name": "stdout",
     "output_type": "stream",
     "text": [
      "input\n",
      "input  [[1, 4787, 742, 178, 4981, 465, 730, 10, 1535, 4982], [1, 2273, 2055, 210, 44, 3, 739, 214, 5, 93], [1, 320, 279, 151, 22, 38, 13, 743, 1250], [1, 150, 147, 3182, 16, 690, 32, 2712, 1151, 691], [1, 1142, 1854, 2713, 3964, 4, 377, 4635, 4636]]\n",
      "target\n",
      "decoder  [[4787, 742, 178, 4981, 465, 730, 10, 1535, 4982, 2], [2273, 2055, 210, 44, 3, 739, 214, 5, 93, 2], [320, 279, 151, 22, 38, 13, 743, 1250, 2], [150, 147, 3182, 16, 690, 32, 2712, 1151, 691, 2], [1142, 1854, 2713, 3964, 4, 377, 4635, 4636, 2]]\n"
     ]
    }
   ],
   "source": [
    "tar_vocab = 10000\n",
    "tar_tokenizer = Tokenizer(num_words=tar_vocab) \n",
    "tar_tokenizer.fit_on_texts(decoder_input_train)\n",
    "tar_tokenizer.fit_on_texts(decoder_target_train)\n",
    "\n",
    "# 텍스트 시퀀스를 정수 시퀀스로 변환\n",
    "decoder_input_train = tar_tokenizer.texts_to_sequences(decoder_input_train) \n",
    "decoder_target_train = tar_tokenizer.texts_to_sequences(decoder_target_train)\n",
    "decoder_input_test = tar_tokenizer.texts_to_sequences(decoder_input_test)\n",
    "decoder_target_test = tar_tokenizer.texts_to_sequences(decoder_target_test)\n",
    "\n",
    "# 잘 변환되었는지 확인\n",
    "print('input')\n",
    "print('input ',decoder_input_train[:5])\n",
    "print('target')\n",
    "print('decoder ',decoder_target_train[:5])"
   ]
  },
  {
   "cell_type": "code",
   "execution_count": 261,
   "id": "4f3f4906",
   "metadata": {},
   "outputs": [
    {
     "data": {
      "text/plain": [
       "[[60, 602, 6, 6934, 784, 7, 1327, 154, 3518, 8, 2],\n",
       " [804, 2880, 258, 1614, 17, 3801, 30, 1798, 2],\n",
       " [1719, 935, 253, 8, 3, 4229, 348, 16, 291, 2],\n",
       " [99, 53, 9381, 1954, 531, 10, 434, 935, 2],\n",
       " [50, 3545, 110, 425, 15, 110, 1335, 5387, 32, 2]]"
      ]
     },
     "execution_count": 261,
     "metadata": {},
     "output_type": "execute_result"
    }
   ],
   "source": [
    "decoder_target_test[:5]"
   ]
  },
  {
   "cell_type": "code",
   "execution_count": 74,
   "id": "6bea87cf",
   "metadata": {},
   "outputs": [
    {
     "name": "stdout",
     "output_type": "stream",
     "text": [
      "삭제할 훈련 데이터의 개수 : 0\n",
      "삭제할 테스트 데이터의 개수 : 0\n",
      "훈련 데이터의 개수 : 74261\n",
      "훈련 레이블의 개수 : 74261\n",
      "테스트 데이터의 개수 : 18565\n",
      "테스트 레이블의 개수 : 18565\n"
     ]
    }
   ],
   "source": [
    "drop_train = [index for index, sentence in enumerate(decoder_input_train) if len(sentence) == 1]\n",
    "drop_test = [index for index, sentence in enumerate(decoder_input_test) if len(sentence) == 1]\n",
    "\n",
    "print('삭제할 훈련 데이터의 개수 :', len(drop_train))\n",
    "print('삭제할 테스트 데이터의 개수 :', len(drop_test))\n",
    "\n",
    "encoder_input_train = [sentence for index, sentence in enumerate(encoder_input_train) if index not in drop_train]\n",
    "decoder_input_train = [sentence for index, sentence in enumerate(decoder_input_train) if index not in drop_train]\n",
    "decoder_target_train = [sentence for index, sentence in enumerate(decoder_target_train) if index not in drop_train]\n",
    "\n",
    "encoder_input_test = [sentence for index, sentence in enumerate(encoder_input_test) if index not in drop_test]\n",
    "decoder_input_test = [sentence for index, sentence in enumerate(decoder_input_test) if index not in drop_test]\n",
    "decoder_target_test = [sentence for index, sentence in enumerate(decoder_target_test) if index not in drop_test]\n",
    "\n",
    "print('훈련 데이터의 개수 :', len(encoder_input_train))\n",
    "print('훈련 레이블의 개수 :', len(decoder_input_train))\n",
    "print('테스트 데이터의 개수 :', len(encoder_input_test))\n",
    "print('테스트 레이블의 개수 :', len(decoder_input_test))"
   ]
  },
  {
   "cell_type": "markdown",
   "id": "63445220",
   "metadata": {},
   "source": [
    "### 패딩하기"
   ]
  },
  {
   "cell_type": "markdown",
   "id": "e09e61df",
   "metadata": {},
   "source": [
    "pre로 하면 어떻게 될까?"
   ]
  },
  {
   "cell_type": "code",
   "execution_count": 75,
   "id": "da26b954",
   "metadata": {},
   "outputs": [],
   "source": [
    "encoder_input_train = pad_sequences(encoder_input_train, maxlen=text_max_len, padding='post')\n",
    "encoder_input_test = pad_sequences(encoder_input_test, maxlen=text_max_len, padding='post')\n",
    "decoder_input_train = pad_sequences(decoder_input_train, maxlen=summary_max_len, padding='post')\n",
    "decoder_target_train = pad_sequences(decoder_target_train, maxlen=summary_max_len, padding='post')\n",
    "decoder_input_test = pad_sequences(decoder_input_test, maxlen=summary_max_len, padding='post')\n",
    "decoder_target_test = pad_sequences(decoder_target_test, maxlen=summary_max_len, padding='post')"
   ]
  },
  {
   "cell_type": "markdown",
   "id": "d1f9aa07",
   "metadata": {},
   "source": [
    "## 모델 설계하기"
   ]
  },
  {
   "cell_type": "markdown",
   "id": "593978ff",
   "metadata": {},
   "source": [
    "- __모델 선정 이유__ \n",
    "    - lstm은 자연어 처리에서 대체로 좋은 성능을 내므로 lstm모델을 선정했고\n",
    "    - 요약 모델을 할때 seq2seq를 사용하므로 이를 활용하였고 \n",
    "    - attention은 lstm의 long term dependency 문제를 해결하기 위해 활용하였다\n",
    "    \n",
    "- __Metrics 선정 이유__\n",
    "    - 요약 모델의 평가시 Rouge score를 많이 활용한다하여 이를 사용해보고자 하였으나 시간상의 이유로 활용하지 못했고\n",
    "    - 대신에 직접 샘플을 통해 비교를 진행하였다\n",
    "    \n",
    "- __Loss 선정 이유__ \n",
    "    - sparse categorical crossentropy\n",
    "    - seq2seq는 결국 10000개의 단어중에서 다음 단어를 예측하는 문제로 바뀌므로 이에따라 sparse categorical crossentropy를 선정하였다"
   ]
  },
  {
   "cell_type": "code",
   "execution_count": 78,
   "id": "ca7e02c2",
   "metadata": {},
   "outputs": [],
   "source": [
    "from tensorflow.keras.layers import Input, LSTM, Embedding, Dense, Concatenate, TimeDistributed\n",
    "from tensorflow.keras.models import Model\n",
    "from tensorflow.keras.callbacks import EarlyStopping, ModelCheckpoint\n",
    "\n",
    "\n",
    "# 인코더 설계 시작\n",
    "embedding_dim = 128\n",
    "hidden_size = 256\n",
    "\n",
    "# 인코더\n",
    "encoder_inputs = Input(shape=(text_max_len,))\n",
    "\n",
    "# 인코더의 임베딩 층\n",
    "enc_emb = Embedding(src_vocab, embedding_dim)(encoder_inputs)\n",
    "\n",
    "# 인코더의 LSTM 1\n",
    "# encoder_lstm1 = LSTM(hidden_size, return_sequences=True, return_state=True ,dropout = 0.4, recurrent_dropout = 0.4)\n",
    "encoder_lstm1 = LSTM(hidden_size, return_sequences=True, return_state=True ,dropout = 0.4)\n",
    "encoder_output1, state_h1, state_c1 = encoder_lstm1(enc_emb)\n",
    "\n",
    "# 인코더의 LSTM 2\n",
    "encoder_lstm2 = LSTM(hidden_size, return_sequences=True, return_state=True, dropout=0.4)\n",
    "encoder_output2, state_h2, state_c2 = encoder_lstm2(encoder_output1)\n",
    "\n",
    "# 인코더의 LSTM 3\n",
    "encoder_lstm3 = LSTM(hidden_size, return_sequences=True, return_state=True, dropout=0.4)\n",
    "encoder_outputs, state_h, state_c = encoder_lstm3(encoder_output2)"
   ]
  },
  {
   "cell_type": "markdown",
   "id": "ec899cb2",
   "metadata": {},
   "source": [
    "디코더 설계"
   ]
  },
  {
   "cell_type": "code",
   "execution_count": 79,
   "id": "6a2f819d",
   "metadata": {},
   "outputs": [],
   "source": [
    "# 디코더\n",
    "decoder_inputs = Input(shape=(None,))\n",
    "\n",
    "# 디코더의 임베딩 층\n",
    "dec_emb_layer = Embedding(tar_vocab, embedding_dim)\n",
    "dec_emb = dec_emb_layer(decoder_inputs)\n",
    "\n",
    "# 디코더의 LSTM\n",
    "# decoder_lstm = LSTM(hidden_size, return_sequences = True, return_state = True, dropout = 0.4, recurrent_dropout=0.2)\n",
    "decoder_lstm = LSTM(hidden_size, return_sequences=True, return_state=True, dropout=0.4)\n",
    "decoder_outputs, _, _ = decoder_lstm(dec_emb, initial_state = [state_h, state_c])"
   ]
  },
  {
   "cell_type": "code",
   "execution_count": 80,
   "id": "5dbc771b",
   "metadata": {},
   "outputs": [
    {
     "name": "stdout",
     "output_type": "stream",
     "text": [
      "Model: \"model\"\n",
      "__________________________________________________________________________________________________\n",
      "Layer (type)                    Output Shape         Param #     Connected to                     \n",
      "==================================================================================================\n",
      "input_3 (InputLayer)            [(None, 60)]         0                                            \n",
      "__________________________________________________________________________________________________\n",
      "embedding_2 (Embedding)         (None, 60, 128)      2560000     input_3[0][0]                    \n",
      "__________________________________________________________________________________________________\n",
      "lstm_4 (LSTM)                   [(None, 60, 256), (N 394240      embedding_2[0][0]                \n",
      "__________________________________________________________________________________________________\n",
      "input_4 (InputLayer)            [(None, None)]       0                                            \n",
      "__________________________________________________________________________________________________\n",
      "lstm_5 (LSTM)                   [(None, 60, 256), (N 525312      lstm_4[0][0]                     \n",
      "__________________________________________________________________________________________________\n",
      "embedding_3 (Embedding)         (None, None, 128)    1280000     input_4[0][0]                    \n",
      "__________________________________________________________________________________________________\n",
      "lstm_6 (LSTM)                   [(None, 60, 256), (N 525312      lstm_5[0][0]                     \n",
      "__________________________________________________________________________________________________\n",
      "lstm_7 (LSTM)                   [(None, None, 256),  394240      embedding_3[0][0]                \n",
      "                                                                 lstm_6[0][1]                     \n",
      "                                                                 lstm_6[0][2]                     \n",
      "__________________________________________________________________________________________________\n",
      "dense (Dense)                   (None, None, 10000)  2570000     lstm_7[0][0]                     \n",
      "==================================================================================================\n",
      "Total params: 8,249,104\n",
      "Trainable params: 8,249,104\n",
      "Non-trainable params: 0\n",
      "__________________________________________________________________________________________________\n"
     ]
    }
   ],
   "source": [
    "# 디코더의 출력층\n",
    "decoder_softmax_layer = Dense(tar_vocab, activation='softmax')\n",
    "decoder_softmax_outputs = decoder_softmax_layer(decoder_outputs) \n",
    "\n",
    "# 모델 정의\n",
    "model = Model([encoder_inputs, decoder_inputs], decoder_softmax_outputs)\n",
    "model.summary()"
   ]
  },
  {
   "cell_type": "markdown",
   "id": "2e2b1198",
   "metadata": {},
   "source": [
    "### Step 3. 어텐션 메커니즘 사용하기 (추상적 요약)\n",
    "일반적인 seq2seq보다는 어텐션 메커니즘을 사용한 seq2seq를 사용하는 것이 더 나은 성능을 얻을 수 있어요. 실습 내용을 참고하여 어텐션 메커니즘을 사용한 seq2seq를 설계해 보세요."
   ]
  },
  {
   "cell_type": "code",
   "execution_count": 82,
   "id": "0684cdcd",
   "metadata": {},
   "outputs": [
    {
     "name": "stdout",
     "output_type": "stream",
     "text": [
      "Model: \"model_1\"\n",
      "__________________________________________________________________________________________________\n",
      "Layer (type)                    Output Shape         Param #     Connected to                     \n",
      "==================================================================================================\n",
      "input_3 (InputLayer)            [(None, 60)]         0                                            \n",
      "__________________________________________________________________________________________________\n",
      "embedding_2 (Embedding)         (None, 60, 128)      2560000     input_3[0][0]                    \n",
      "__________________________________________________________________________________________________\n",
      "lstm_4 (LSTM)                   [(None, 60, 256), (N 394240      embedding_2[0][0]                \n",
      "__________________________________________________________________________________________________\n",
      "input_4 (InputLayer)            [(None, None)]       0                                            \n",
      "__________________________________________________________________________________________________\n",
      "lstm_5 (LSTM)                   [(None, 60, 256), (N 525312      lstm_4[0][0]                     \n",
      "__________________________________________________________________________________________________\n",
      "embedding_3 (Embedding)         (None, None, 128)    1280000     input_4[0][0]                    \n",
      "__________________________________________________________________________________________________\n",
      "lstm_6 (LSTM)                   [(None, 60, 256), (N 525312      lstm_5[0][0]                     \n",
      "__________________________________________________________________________________________________\n",
      "lstm_7 (LSTM)                   [(None, None, 256),  394240      embedding_3[0][0]                \n",
      "                                                                 lstm_6[0][1]                     \n",
      "                                                                 lstm_6[0][2]                     \n",
      "__________________________________________________________________________________________________\n",
      "attention_layer (AdditiveAttent (None, None, 256)    256         lstm_7[0][0]                     \n",
      "                                                                 lstm_6[0][0]                     \n",
      "__________________________________________________________________________________________________\n",
      "concat_layer (Concatenate)      (None, None, 512)    0           lstm_7[0][0]                     \n",
      "                                                                 attention_layer[0][0]            \n",
      "__________________________________________________________________________________________________\n",
      "dense_1 (Dense)                 (None, None, 10000)  5130000     concat_layer[0][0]               \n",
      "==================================================================================================\n",
      "Total params: 10,809,360\n",
      "Trainable params: 10,809,360\n",
      "Non-trainable params: 0\n",
      "__________________________________________________________________________________________________\n"
     ]
    }
   ],
   "source": [
    "from tensorflow.keras.layers import AdditiveAttention\n",
    "\n",
    "# 어텐션 층(어텐션 함수)\n",
    "attn_layer = AdditiveAttention(name='attention_layer')\n",
    "\n",
    "# 인코더와 디코더의 모든 time step의 hidden state를 어텐션 층에 전달하고 결과를 리턴\n",
    "attn_out = attn_layer([decoder_outputs, encoder_outputs])\n",
    "\n",
    "# 어텐션의 결과와 디코더의 hidden state들을 연결\n",
    "decoder_concat_input = Concatenate(axis=-1, name='concat_layer')([decoder_outputs, attn_out])\n",
    "\n",
    "# 디코더의 출력층\n",
    "decoder_softmax_layer = Dense(tar_vocab, activation='softmax')\n",
    "decoder_softmax_outputs = decoder_softmax_layer(decoder_concat_input)\n",
    "\n",
    "# 모델 정의\n",
    "model = Model([encoder_inputs, decoder_inputs], decoder_softmax_outputs)\n",
    "model.summary()"
   ]
  },
  {
   "cell_type": "code",
   "execution_count": 83,
   "id": "af7de640",
   "metadata": {},
   "outputs": [
    {
     "name": "stdout",
     "output_type": "stream",
     "text": [
      "Epoch 1/50\n",
      "291/291 [==============================] - 43s 125ms/step - loss: 4.5906 - val_loss: 4.2521\n",
      "Epoch 2/50\n",
      "291/291 [==============================] - 36s 124ms/step - loss: 4.1058 - val_loss: 3.9757\n",
      "Epoch 3/50\n",
      "291/291 [==============================] - 37s 126ms/step - loss: 3.8341 - val_loss: 3.7750\n",
      "Epoch 4/50\n",
      "291/291 [==============================] - 37s 127ms/step - loss: 3.6293 - val_loss: 3.5806\n",
      "Epoch 5/50\n",
      "291/291 [==============================] - 37s 128ms/step - loss: 3.4555 - val_loss: 3.4742\n",
      "Epoch 6/50\n",
      "291/291 [==============================] - 37s 129ms/step - loss: 3.3106 - val_loss: 3.3833\n",
      "Epoch 7/50\n",
      "291/291 [==============================] - 38s 130ms/step - loss: 3.1854 - val_loss: 3.2924\n",
      "Epoch 8/50\n",
      "291/291 [==============================] - 38s 130ms/step - loss: 3.0760 - val_loss: 3.2266\n",
      "Epoch 9/50\n",
      "291/291 [==============================] - 38s 130ms/step - loss: 2.9820 - val_loss: 3.1705\n",
      "Epoch 10/50\n",
      "291/291 [==============================] - 38s 131ms/step - loss: 2.8978 - val_loss: 3.1245\n",
      "Epoch 11/50\n",
      "291/291 [==============================] - 38s 131ms/step - loss: 2.8202 - val_loss: 3.0876\n",
      "Epoch 12/50\n",
      "291/291 [==============================] - 38s 131ms/step - loss: 2.7495 - val_loss: 3.0563\n",
      "Epoch 13/50\n",
      "291/291 [==============================] - 38s 131ms/step - loss: 2.6869 - val_loss: 3.0334\n",
      "Epoch 14/50\n",
      "291/291 [==============================] - 38s 131ms/step - loss: 2.6281 - val_loss: 3.0190\n",
      "Epoch 15/50\n",
      "291/291 [==============================] - 38s 131ms/step - loss: 2.5733 - val_loss: 3.0020\n",
      "Epoch 16/50\n",
      "291/291 [==============================] - 38s 131ms/step - loss: 2.5250 - val_loss: 2.9701\n",
      "Epoch 17/50\n",
      "291/291 [==============================] - 38s 131ms/step - loss: 2.4786 - val_loss: 2.9657\n",
      "Epoch 18/50\n",
      "291/291 [==============================] - 38s 131ms/step - loss: 2.4332 - val_loss: 2.9617\n",
      "Epoch 19/50\n",
      "291/291 [==============================] - 38s 131ms/step - loss: 2.3904 - val_loss: 2.9538\n",
      "Epoch 20/50\n",
      "291/291 [==============================] - 38s 131ms/step - loss: 2.3510 - val_loss: 2.9395\n",
      "Epoch 21/50\n",
      "291/291 [==============================] - 38s 131ms/step - loss: 2.3151 - val_loss: 2.9471\n",
      "Epoch 22/50\n",
      "291/291 [==============================] - 38s 131ms/step - loss: 2.2821 - val_loss: 2.9325\n",
      "Epoch 23/50\n",
      "291/291 [==============================] - 38s 131ms/step - loss: 2.2475 - val_loss: 2.9205\n",
      "Epoch 24/50\n",
      "291/291 [==============================] - 38s 131ms/step - loss: 2.2148 - val_loss: 2.9303\n",
      "Epoch 25/50\n",
      "291/291 [==============================] - 38s 131ms/step - loss: 2.1853 - val_loss: 2.9176\n",
      "Epoch 26/50\n",
      "291/291 [==============================] - 38s 131ms/step - loss: 2.1571 - val_loss: 2.9150\n",
      "Epoch 27/50\n",
      "291/291 [==============================] - 38s 131ms/step - loss: 2.1297 - val_loss: 2.9145\n",
      "Epoch 28/50\n",
      "291/291 [==============================] - 38s 131ms/step - loss: 2.1015 - val_loss: 2.9116\n",
      "Epoch 29/50\n",
      "291/291 [==============================] - 38s 131ms/step - loss: 2.0748 - val_loss: 2.9068\n",
      "Epoch 30/50\n",
      "291/291 [==============================] - 38s 131ms/step - loss: 2.0532 - val_loss: 2.9086\n",
      "Epoch 31/50\n",
      "291/291 [==============================] - 38s 131ms/step - loss: 2.0299 - val_loss: 2.9076\n",
      "Epoch 00031: early stopping\n"
     ]
    }
   ],
   "source": [
    "model.compile(optimizer='rmsprop', loss='sparse_categorical_crossentropy')\n",
    "es = EarlyStopping(monitor='val_loss', patience=2, verbose=1)\n",
    "history = model.fit(x=[encoder_input_train, decoder_input_train], y=decoder_target_train, \\\n",
    "          validation_data=([encoder_input_test, decoder_input_test], decoder_target_test), \\\n",
    "          batch_size=256, callbacks=[es], epochs=50)"
   ]
  },
  {
   "cell_type": "code",
   "execution_count": 84,
   "id": "b8260211",
   "metadata": {},
   "outputs": [
    {
     "data": {
      "image/png": "[encoded data removed]",
      "text/plain": [
       "<Figure size 432x288 with 1 Axes>"
      ]
     },
     "metadata": {
      "needs_background": "light"
     },
     "output_type": "display_data"
    }
   ],
   "source": [
    "plt.plot(history.history['loss'], label='train')\n",
    "plt.plot(history.history['val_loss'], label='test')\n",
    "plt.legend()\n",
    "plt.show()"
   ]
  },
  {
   "cell_type": "markdown",
   "id": "41695ca9",
   "metadata": {},
   "source": [
    "- 그래프를 통해 train loss와 val loss가 감소하는 것을 볼 수 있다"
   ]
  },
  {
   "cell_type": "markdown",
   "id": "2a26b79d",
   "metadata": {},
   "source": [
    "### Step 4. 실제 결과와 요약문 비교하기 (추상적 요약)\n",
    "원래의 요약문(headlines 열)과 학습을 통해 얻은 추상적 요약의 결과를 비교해 보세요."
   ]
  },
  {
   "cell_type": "code",
   "execution_count": 85,
   "id": "d9547967",
   "metadata": {},
   "outputs": [],
   "source": [
    "src_index_to_word = src_tokenizer.index_word # 원문 단어 집합에서 정수 -> 단어를 얻음\n",
    "tar_word_to_index = tar_tokenizer.word_index # 요약 단어 집합에서 단어 -> 정수를 얻음\n",
    "tar_index_to_word = tar_tokenizer.index_word # 요약 단어 집합에서 정수 -> 단어를 얻음"
   ]
  },
  {
   "cell_type": "code",
   "execution_count": 87,
   "id": "33d51a2c",
   "metadata": {},
   "outputs": [],
   "source": [
    "# 인코더 설계\n",
    "encoder_model = Model(inputs=encoder_inputs, outputs=[encoder_outputs, state_h, state_c])\n",
    "\n",
    "# 이전 시점의 상태들을 저장하는 텐서\n",
    "decoder_state_input_h = Input(shape=(hidden_size,))\n",
    "decoder_state_input_c = Input(shape=(hidden_size,))\n",
    "\n",
    "dec_emb2 = dec_emb_layer(decoder_inputs)\n",
    "\n",
    "# 문장의 다음 단어를 예측하기 위해서 초기 상태(initial_state)를 이전 시점의 상태로 사용. 이는 뒤의 함수 decode_sequence()에 구현\n",
    "# 훈련 과정에서와 달리 LSTM의 리턴하는 은닉 상태와 셀 상태인 state_h와 state_c를 버리지 않음.\n",
    "decoder_outputs2, state_h2, state_c2 = decoder_lstm(dec_emb2, initial_state=[decoder_state_input_h, decoder_state_input_c])"
   ]
  },
  {
   "cell_type": "code",
   "execution_count": 89,
   "id": "cfce1f14",
   "metadata": {},
   "outputs": [],
   "source": [
    "# 어텐션 함수\n",
    "decoder_hidden_state_input = Input(shape=(text_max_len, hidden_size))\n",
    "attn_out_inf = attn_layer([decoder_outputs2, decoder_hidden_state_input])\n",
    "decoder_inf_concat = Concatenate(axis=-1, name='concat')([decoder_outputs2, attn_out_inf])\n",
    "\n",
    "# 디코더의 출력층\n",
    "decoder_outputs2 = decoder_softmax_layer(decoder_inf_concat) \n",
    "\n",
    "# 최종 디코더 모델\n",
    "decoder_model = Model(\n",
    "    [decoder_inputs] + [decoder_hidden_state_input, decoder_state_input_h, decoder_state_input_c],\n",
    "    [decoder_outputs2] + [state_h2, state_c2])"
   ]
  },
  {
   "cell_type": "code",
   "execution_count": 94,
   "id": "6db3df03",
   "metadata": {},
   "outputs": [],
   "source": [
    "def decode_sequence(input_seq):\n",
    "    # 입력으로부터 인코더의 상태를 얻음\n",
    "    e_out, e_h, e_c = encoder_model.predict(input_seq)\n",
    "\n",
    "     # <SOS>에 해당하는 토큰 생성\n",
    "    target_seq = np.zeros((1,1))\n",
    "    target_seq[0, 0] = tar_word_to_index['sostoken']\n",
    "\n",
    "    stop_condition = False\n",
    "    decoded_sentence = ''\n",
    "    while not stop_condition: # stop_condition이 True가 될 때까지 루프 반복\n",
    "\n",
    "        output_tokens, h, c = decoder_model.predict([target_seq] + [e_out, e_h, e_c])\n",
    "        sampled_token_index = np.argmax(output_tokens[0, -1, :])\n",
    "        sampled_token = tar_index_to_word[sampled_token_index]\n",
    "\n",
    "        if (sampled_token!='eostoken'):\n",
    "            decoded_sentence += ' '+sampled_token\n",
    "\n",
    "        #  <eos>에 도달하거나 최대 길이를 넘으면 중단.\n",
    "        if (sampled_token == 'eostoken'  or len(decoded_sentence.split()) >= (summary_max_len-1)):\n",
    "            stop_condition = True\n",
    "\n",
    "        # 길이가 1인 타겟 시퀀스를 업데이트\n",
    "        target_seq = np.zeros((1,1))\n",
    "        target_seq[0, 0] = sampled_token_index\n",
    "\n",
    "        # 상태를 업데이트 합니다.\n",
    "        e_h, e_c = h, c\n",
    "\n",
    "    return decoded_sentence.strip()"
   ]
  },
  {
   "cell_type": "markdown",
   "id": "6160d653",
   "metadata": {},
   "source": [
    "모델 테스트하기"
   ]
  },
  {
   "cell_type": "code",
   "execution_count": 95,
   "id": "34c8722d",
   "metadata": {},
   "outputs": [],
   "source": [
    "# 원문의 정수 시퀀스를 텍스트 시퀀스로 변환\n",
    "def seq2text(input_seq):\n",
    "    temp=''\n",
    "    for i in input_seq:\n",
    "        if (i!=0):\n",
    "            temp = temp + src_index_to_word[i]+' '\n",
    "    return temp\n",
    "\n",
    "# 요약문의 정수 시퀀스를 텍스트 시퀀스로 변환\n",
    "def seq2summary(input_seq):\n",
    "    temp=''\n",
    "    for i in input_seq:\n",
    "        if (i>2):\n",
    "            temp = temp + tar_index_to_word[i]+' '\n",
    "    return temp.strip()"
   ]
  },
  {
   "cell_type": "code",
   "execution_count": 96,
   "id": "8c4969c6",
   "metadata": {},
   "outputs": [
    {
     "name": "stdout",
     "output_type": "stream",
     "text": [
      "원문 : uk queen elizabeth lingerie supplier and has been fired over the revelation of personal details about royal by the firm founder june in her autobiography the year old founder said losing the royal warrant absolutely killed her and that she regretted not being wise enough to mention of the royals in her autobiography \n",
      "실제 요약 : queen lingerie supplier fired for leaking personal details\n",
      "예측 요약 : uk fires uk founder of stealing over death\n",
      "\n",
      "\n",
      "원문 : aaj se teri the first song from the akshay kumar sonam kapoor and radhika apte starrer padman has been released the song has been composed by amit trivedi with vocals by arijit singh and lyrics by kausar munir directed by balki padman is scheduled to release on january \n",
      "실제 요약 : first song from akshay kumar starrer padman released\n",
      "예측 요약 : song from akshay kumar starrer padman released\n",
      "\n",
      "\n",
      "원문 : hyderabad university students on thursday burnt the copies of the justice commission report which attributed the suicide by research scholar rohith vemula to personal reasons gathering at the shopping complex where statue of vemula is installed the students said that they reject the commission report which was submitted to the hrd ministry last october and disclosed recently \n",
      "실제 요약 : hyd university students burn panel report on vemula\n",
      "예측 요약 : du students protest slogans for not lord krishna\n",
      "\n",
      "\n",
      "원문 : max life insurance on friday said its managing director rajesh has resigned after years of building the company it has been privilege to have built max life since inception and to have led it for decade said prashant currently senior director and chief financial officer of the company will replace from january \n",
      "실제 요약 : max life md rajesh quits to be replaced by cfo\n",
      "예측 요약 : who is the new new york and known and\n",
      "\n",
      "\n",
      "원문 : us based researchers have demonstrated bacteria cells get excited when and voltage induced calcium ion signals similar sense of touch mechanism like humans researchers believe their study to be the first such documented observation in individual bacteria cells the team now plans to study how bacteria use electric pulses to sense when to human cells \n",
      "실제 요약 : bacteria can feel their like humans study\n",
      "예측 요약 : new tech may have to predict study\n",
      "\n",
      "\n",
      "원문 : after bs yeddyurappa resigned as karnataka cm ahead of floor test former cm siddaramaiah tweeted democracy has won in karnataka the conspiracy made by the bjp has failed to the anti constitutional measures he alleged that pm narendra modi and bjp president amit shah had immense pressure on governor vajubhai vala to invite the bjp for proving majority \n",
      "실제 요약 : bjp conspiracy failed siddaramaiah as yeddyurappa resigns\n",
      "예측 요약 : taka cm slams bjp over fake news of taka polls\n",
      "\n",
      "\n",
      "원문 : microsoft has filed patent for foldable dual screen notebook similar to the company booklet pc concept called courier the design shows two edge to edge displays positioned to touch each other without any significant gap connected by hinge the company is also reportedly using gear like to create this hinge allowing the device to hold in different positions \n",
      "실제 요약 : microsoft files patent for foldable dual screen\n",
      "예측 요약 : startup makes laptop with camera and screens\n",
      "\n",
      "\n",
      "원문 : madhya pradesh bjp two time sitting mla sanjay sharma on tuesday joined the congress party ahead of the assembly elections in the state the mla from seat joined the congress in the presence of party president rahul gandhi reportedly sharma has joined the congress sensing that he would not be fielded this time by the bjp from seat \n",
      "실제 요약 : bjp mla joins congress in poll bound madhya pradesh\n",
      "예측 요약 : bjp mp cm son joins congress ahead of polls\n",
      "\n",
      "\n",
      "원문 : airtel has received government approval for sale of stake in its dth arm bharti to us private equity firm warburg pincus earlier airtel said warburg pincus will buy stake in the dth arm for million where stake will be sold by another bharti entity bharti is india third largest dth company with market share \n",
      "실제 요약 : airtel gets government approval to sell stake in arm\n",
      "예측 요약 : airtel to sell stake in delhi for crore\n",
      "\n",
      "\n",
      "원문 : the brihanmumbai municipal corporation has removed more than illegal posters and banners twice the monthly average that were put up during ganeshotsav of these were political in nature were religious and were commercial while residential areas saw fewer illegal posters areas such as lower parel ghatkopar malad and recorded high number for the same \n",
      "실제 요약 : mumbai civic body removes over posters after\n",
      "예측 요약 : mumbai civic body issues fatwa on civic body\n",
      "\n",
      "\n",
      "원문 : the boys of football team rescued from the cave in thailand will become buddhist the boys will live in buddhist temple for nine days as part of promise made by their families in thanks for their safe return and in memory of former navy seal who died during the rescue operation \n",
      "실제 요약 : boys rescued from thai cave to become buddhist\n",
      "예측 요약 : boys rescued from thai cave to be boys in yrs\n",
      "\n",
      "\n",
      "원문 : was circulated at dharamshala cantonment on friday alleging that brigadier and his wife were ill treating the troops and their families the reportedly alleged that the brigadier wife made women from jawans families dance in front of her while the senior officer did not provide any health facility or vehicles to visit hospital to jawans \n",
      "실제 요약 : on how wife ill treat troops\n",
      "예측 요약 : family of family who killed in and\n",
      "\n",
      "\n",
      "원문 : denying claims of firing rockets at the israel occupied territory of heights iran has said that israel accusations were fabricated and baseless israel on thursday launched air strikes against iranian military targets in syria in response to the attacks it was the most extensive military confrontation between the two countries in recent times \n",
      "실제 요약 : israel lying about missile attacks on its territory iran\n",
      "예측 요약 : us admits to iran missile attack on iran report\n",
      "\n",
      "\n",
      "원문 : the madras high court on tuesday reserved its order on plea by actor dhanush seeking to quash an elderly couple lawsuit claiming him to be their son the court however gave no date to pronounce its judgment the couple had claimed that dhanush was schoolboy when he ran away to chennai to get into the film industry \n",
      "실제 요약 : hc reserves order on dhanush plea against paternity claim\n",
      "예측 요약 : hc stays cbfc st man to remove from hc judge\n",
      "\n",
      "\n",
      "원문 : the delhi commission for women has issued summons to brothel owners in the gb road red light area seeking brothel the owners have to appear in court between september to september along with their identity cards and address proofs dcw chief swati maliwal said gb road has become human trafficking hub especially of minor girls \n",
      "실제 요약 : dcw issues summons to in delhi gb road\n",
      "예측 요약 : delhi hc stays order on parking shops in\n",
      "\n",
      "\n",
      "원문 : the jawaharlal nehru university in delhi has made it mandatory for and phd students to fill their submission forms in both hindi and english students who did not know hindi complained as they could not submit their the university said the step was taken so that there is no spelling error on the certificates given to students \n",
      "실제 요약 : jnu makes it mandatory to fill phd forms in hindi\n",
      "예측 요약 : jnu university cancels university of results\n",
      "\n",
      "\n",
      "원문 : india meteorological department bengaluru chief sundar on saturday said that only cm rainfall could leave the city flooded there is need for proper drainage system and channels for rain water to be directed towards lakes and larger water bodies he added the city reportedly received the highest rainfall in day since in august this year \n",
      "실제 요약 : cm rain could leave bengaluru flooded met dept chief\n",
      "예측 요약 : no water water to keep water from water minister\n",
      "\n",
      "\n",
      "원문 : bjp worker anil singh who was arrested in relation to the aurangabad communal clash in bihar on thursday escaped from police custody he is one of the central figures among the people booked in the case the case pertains to clash that had broken out between two communities during ram navami celebrations and turned violent \n",
      "실제 요약 : bjp worker held in bihar clash case escapes police custody\n",
      "예측 요약 : bjp worker arrested for trying to bjp mla\n",
      "\n",
      "\n",
      "원문 : over fishermen from tamil nadu kanyakumari on thursday took part in rail roko agitation at the railway station over missing fishermen the protesters demanded that warships and helicopters be deployed to rescue missing fishermen and sought immediate compensation for the loss of lives and boats they further asked for cm palaniswami to personally oversee rescue efforts \n",
      "실제 요약 : ockhi hit fishermen hold rail roko protest in tamil nadu\n",
      "예측 요약 : tamil nadu train express off after days\n",
      "\n",
      "\n",
      "원문 : the alleged founder of torrent website in recent interview said am not crazy if someone came to tell me the united states was angry with something do whatever it was would stop who was arrested in july was released on nearly lakh bail last week but his passport has been confiscated \n",
      "실제 요약 : would stop if knew us was angry founder\n",
      "예측 요약 : do not think if you do not know it is not my job ceo\n",
      "\n",
      "\n",
      "원문 : the southwest monsoon hit kerala and the north east on tuesday two days before its normal onset date the india meteorological department has confirmed according to the director general of the imd monsoon hit the north east because of the cyclone which had hit bangladesh earlier in the day the southwest monsoon brings seasonal rains to the indian subcontinent \n",
      "실제 요약 : monsoon hits kerala north east\n",
      "예측 요약 : kerala floods reaches its last days\n",
      "\n",
      "\n",
      "원문 : the all india organisation of chemists and has declared nation wide strike on friday to oppose the government move to online sale of medicines the chemists body has alleged pharmacies would encourage drug abuse sale of and habit forming drugs are prohibited online however anti are being sold without checking said \n",
      "실제 요약 : why are shops across india closed today\n",
      "예측 요약 : surgical strike of civilians shut down by\n",
      "\n",
      "\n",
      "원문 : uk prime minister theresa may has accused the russian government of trying to information by meddling in elections and planting fake stories in an attempt to undermine western institutions she further said russia actions were threatening the international order on which we all depend the uk will do what is necessary to protect ourselves she added \n",
      "실제 요약 : russia trying to information uk pm theresa may\n",
      "예측 요약 : uk pm may face election with us election election\n",
      "\n",
      "\n",
      "원문 : microsoft has built three tree houses at its corporate headquarters in washington the company said in blog post two of the three tree houses are open and the third is lounge space due to be completed later this year the tree houses are equipped with wifi connectivity weather proof benches proof chairs and outdoor gas \n",
      "실제 요약 : microsoft builds tree houses for employees\n",
      "예측 요약 : microsoft opens in gurugram\n",
      "\n",
      "\n",
      "원문 : the first ever country planned to be floated into space has successfully launched its maiden satellite from nasa site the satellite contains data uploaded by over lakh registered which makes the virtual nation rank in terms of population aims to prevent earth conflicts being transferred into space its billionaire founder has said \n",
      "실제 요약 : first ever space nation launches st satellite\n",
      "예측 요약 : st space lab to launch space in space for first time\n",
      "\n",
      "\n",
      "원문 : google co founders larry page and sergey brin have added billion to their combined wealth since thursday after google parent alphabet released its third quarter earnings report larry page net worth is now billion and sergey brin is billion notably at least of top names on forbes list of world billionaires are founders of us technology companies \n",
      "실제 요약 : google co founders gain billion combined in day\n",
      "예측 요약 : google co founders founders have most valued worth billion\n",
      "\n",
      "\n",
      "원문 : the gujarat high court has asked rbi to drop line from its directive to send large accounts for immediate action under the insolvency and bankruptcy code it had earlier asked rbi to explain the part that read such cases will be accorded priority by the national company law tribunal rbi has now been asked to drop this line \n",
      "실제 요약 : rbi asked to drop line from insolvency order for big cs\n",
      "예측 요약 : sc asks rbi to submit info on aadhaar to privacy\n",
      "\n",
      "\n",
      "원문 : upadhyay year old autorickshaw driver from gujarat has requested the state authorities to recognise him as an and allow him to change his name to rv upadhyay reportedly wants to his name as people try to ascertain others religion and caste from names the alpha name is combination of his initials rv and school roll number \n",
      "실제 요약 : man asks govt to change his name to\n",
      "예측 요약 : man who got yr old name to be named\n",
      "\n",
      "\n",
      "원문 : bird that caught fire from an electric cable fell down and triggered fire on acres of land in the coastal city of in germany the fire that began from short circuit in railway power line soon spread across dry field it took and one helicopter to douse the fire \n",
      "실제 요약 : burning bird falls off cable causes acre fire in germany\n",
      "예측 요약 : fire breaks out at factory in us\n",
      "\n",
      "\n",
      "원문 : rss gujarat unit spokesperson on monday demanded an apology from rahul gandhi after he questioned people have you ever seen any woman in the wearing shorts the spokesperson said that rahul should understand the activities of rss and refrain from making comments on such matter which does not have any substance \n",
      "실제 요약 : rss demands apology over rahul women in shorts remark\n",
      "예측 요약 : rss slams rahul for calling him rss leader\n",
      "\n",
      "\n",
      "원문 : cricket legend sachin tendulkar mistook mandeep singh for former captain sardar singh in tweet congratulating indian hockey team on their victory against argentina in the champions trophy sachin shared picture of mandeep celebrating and congratulated sardar for scoring crucial goal in his th match however sardar who was playing his th international did not score in the game \n",
      "실제 요약 : sachin mistakes for sardar in tweet for hockey team\n",
      "예측 요약 : sachin tendulkar seen sachin as tendulkar plays him\n",
      "\n",
      "\n",
      "원문 : over people were caught on saturday for drunken driving in span of hours under special operation carried out by kochi police case would be registered against each of the violators police said last month people were caught in surprise operation called operation little star on drunken driving among school bus drivers in kochi \n",
      "실제 요약 : over booked for drunken driving in hrs in kochi\n",
      "예측 요약 : drunk men caught on drunk driving in delhi\n",
      "\n",
      "\n",
      "원문 : the tibetan government in exile has cancelled an event in delhi which was to be attended by the dalai lama to commemorate his year exile in india this comes after india asked its officials to keep away from events organised by tibetan leaders as it is sensitive time for relations with china the tibetan government shifted another event to dharamshala \n",
      "실제 요약 : tibet cancels event after india asks officials to keep away\n",
      "예측 요약 : delhi cancels india concert from event after being denied\n",
      "\n",
      "\n",
      "원문 : us based researchers claim to have developed world first battery free mobile phone that power from nearby radio signals or light it the signals using sound vibrations from microphone and speaker thus eliminating power hungry step of converting signals into data currently used by modern day phones the prototype successfully made calls powered by base station feet away \n",
      "실제 요약 : first ever battery free mobile phone made by us researchers\n",
      "예측 요약 : researchers use battery to track using gps\n",
      "\n",
      "\n",
      "원문 : man from madhya pradesh chhindwara was wrongly declared dead and sent for post mortem on monday himanshu bharadwaj was injured in motorcycle accident and declared brain dead and later declared dead and shifted to the mortuary after it was discovered that he was breathing he was shifted to hospital where he is in stable condition \n",
      "실제 요약 : mp man wrongly declared dead sent for post mortem\n",
      "예측 요약 : man dies after falling into river in mp\n",
      "\n",
      "\n",
      "원문 : year old tribal girl in odisha who had claimed she was raped by four men in uniform allegedly committed suicide at her home on monday her relatives said she may have taken such step out of frustration at not getting justice the state police in report had refuted the girl allegations claiming that she was not raped \n",
      "실제 요약 : tribal girl who claimed rape by men in uniform found dead\n",
      "예측 요약 : yr old raped by school brother in up\n",
      "\n",
      "\n",
      "원문 : the congress on monday posted poll on twitter asking which indian prime minister laid the foundation stone of the sardar sarovar dam people responded to the polls with their own polls like when did construction start day of foundation stone year later forgot about the project \n",
      "실제 요약 : congress trolled for seeking credit for sardar dam\n",
      "예측 요약 : cong workers in tripura independence day\n",
      "\n",
      "\n",
      "원문 : the world biggest colony of king penguins and the second biggest of all penguins has reduced by over the past years for reasons yet unknown according to scientists indian ocean pig island was home to breeding pairs and consisted of over two million penguins during the survey while the latest satellite survey reported only pairs \n",
      "실제 요약 : world largest king penguin colony in years\n",
      "예측 요약 : world biggest active japan in world\n",
      "\n",
      "\n",
      "원문 : congress leader digvijaya singh on sunday apologised for tweeting picture of damaged metro pillar in pakistan as that of railway overbridge in bhopal one of my friend sent it to me my fault did not check up he wrote the same picture was circulated on social media earlier as that of delhi metro and hyderabad metro \n",
      "실제 요약 : digvijaya apologises for posting pic from pak as mp bridge\n",
      "예측 요약 : cong leader posts pic of ex mp metro asking him to\n",
      "\n",
      "\n",
      "원문 : actress richa chadha took to instagram to share the first poster of her upcoming film fukrey returns sequel to the film fukrey the original cast members pulkit samrat varun sharma manjot singh and ali fazal have been retained in the sequel directed by singh lamba the film is scheduled to release on december \n",
      "실제 요약 : richa chadha shares first poster of fukrey returns\n",
      "예측 요약 : richa chadha look from short film unveiled\n",
      "\n",
      "\n",
      "원문 : saif ali khan has said that movie star is supposed to do successful films when star is working in the film there are expectations of financial rewards for people that are associated with the project he added saif further said even the audience sometimes looks at the star rather than the film \n",
      "실제 요약 : movie star is to do successful films saif\n",
      "예측 요약 : saif is an choice for films saif ali khan\n",
      "\n",
      "\n",
      "원문 : former india captain mahendra singh dhoni has said that playing with older kids in his childhood helped him play cricket well they had more power and they understood the game better playing with them made me better dhoni added he further said he played with older kids as there were very few kids of his age in his colony \n",
      "실제 요약 : playing with older kids helped me play cricket well dhoni\n",
      "예측 요약 : dhoni age of dhoni age should be given to school ms dhoni\n",
      "\n",
      "\n",
      "원문 : the zimbabwean military action which led to robert mugabe resignation from the post of the country president was lawful zimbabwean high court has ruled the military took over the government control earlier this month placing mugabe under house arrest the military denied it to be coup and called it an assault on criminals who were causing social suffering \n",
      "실제 요약 : military action against ex prez mugabe legal hc\n",
      "예측 요약 : zimbabwe president resigns after being forced to resign\n",
      "\n",
      "\n",
      "원문 : the kerala high court has issued notice to the centre on pil challenging its decision to introduce orange coloured passports for people requiring check the check is required for passport holders not educated beyond th standard and not having taxable income the petitioner argued this would expose their underprivileged status and was an invasion of privacy \n",
      "실제 요약 : govt sent notice over passports for underprivileged\n",
      "예측 요약 : hc sets aside notice to kerala for data\n",
      "\n",
      "\n",
      "원문 : there were no gold medals at the first ever modern olympics which started on april in athens greece winners were awarded silver medals and an olive branch while second placed athletes got copper medal and branch of one side of the medal had the face of greek god while the other side had the \n",
      "실제 요약 : st modern olympics winners got branch not gold medal\n",
      "예측 요약 : gold medal at winter olympics ceremony\n",
      "\n",
      "\n",
      "원문 : grace meng the wife of former interpol president meng hongwei who has been detained in china has said that she is not sure if her husband is alive calling the chinese authorities cruel and dirty grace added that her husband was the victim of political persecution hongwei is under investigation in china for suspected bribery \n",
      "실제 요약 : ex interpol chief detained by china may be dead says wife\n",
      "예측 요약 : no one of india ex prez wife wife\n",
      "\n",
      "\n",
      "원문 : ten people were injured late on monday as migrant camp which housed around people near in france was burnt after knife fight broke out among its afghan and kurdish according to reports large number of migrants and refugees including children have been left homeless according to an aid agency \n",
      "실제 요약 : french migrant camp burnt as kurdish afghan fight\n",
      "예측 요약 : killed in shooting at us police\n",
      "\n",
      "\n",
      "원문 : director neeraj has slammed filmmaker vivek agnihotri for an alleged casteist tweet in which he narrated an experience wherein dalit leader grandson was travelling in the business class of flight responding to this neeraj wrote am dalit won the national award and the filmfare award all without using my dalit identity \n",
      "실제 요약 : director slams vivek over casteist remark\n",
      "예측 요약 : telugu actor apologises for calling him over remark\n",
      "\n",
      "\n",
      "원문 : year old software engineer in pune nagar area committed suicide by jumping from the sixth floor of hotel on wednesday in it there is no job security am worried lot about my family read suicide note found in his hotel room the deceased identified as is survived by his parents and sister \n",
      "실제 요약 : no job security in it pune techie wrote in suicide note\n",
      "예측 요약 : man dies after falling from bengaluru school\n",
      "\n",
      "\n",
      "원문 : mark zuckerberg led facebook on monday revealed bug temporarily unblocked its users block list affecting more than of its users on both facebook and messenger app the bug active between may and june let people in affected users block list see things posted to wider audience people who were affected will get notification from facebook \n",
      "실제 요약 : facebook bug blocked users from people block list\n",
      "예측 요약 : facebook faces global outage users data in messenger\n",
      "\n",
      "\n"
     ]
    }
   ],
   "source": [
    "for i in range(50, 100):\n",
    "    print(\"원문 :\", seq2text(encoder_input_test[i]))\n",
    "    print(\"실제 요약 :\", seq2summary(decoder_input_test[i]))\n",
    "    print(\"예측 요약 :\", decode_sequence(encoder_input_test[i].reshape(1, text_max_len)))\n",
    "    print(\"\\n\")"
   ]
  },
  {
   "cell_type": "code",
   "execution_count": 191,
   "id": "cf31e7d8",
   "metadata": {},
   "outputs": [
    {
     "data": {
      "text/plain": [
       "(18565, 60)"
      ]
     },
     "execution_count": 191,
     "metadata": {},
     "output_type": "execute_result"
    }
   ],
   "source": [
    "encoder_input_test.shape"
   ]
  },
  {
   "cell_type": "code",
   "execution_count": 193,
   "id": "9aab69d4",
   "metadata": {},
   "outputs": [
    {
     "name": "stderr",
     "output_type": "stream",
     "text": [
      "  9%|▉         | 1677/18565 [12:38<2:07:21,  2.21it/s]\n"
     ]
    },
    {
     "ename": "KeyboardInterrupt",
     "evalue": "",
     "output_type": "error",
     "traceback": [
      "\u001B[0;31m---------------------------------------------------------------------------\u001B[0m",
      "\u001B[0;31mKeyError\u001B[0m                                  Traceback (most recent call last)",
      "\u001B[0;32m/opt/conda/lib/python3.9/site-packages/tensorflow/python/framework/ops.py\u001B[0m in \u001B[0;36m_get_op_def\u001B[0;34m(self, type)\u001B[0m\n\u001B[1;32m   3961\u001B[0m     \u001B[0;32mtry\u001B[0m\u001B[0;34m:\u001B[0m\u001B[0;34m\u001B[0m\u001B[0;34m\u001B[0m\u001B[0m\n\u001B[0;32m-> 3962\u001B[0;31m       \u001B[0;32mreturn\u001B[0m \u001B[0mself\u001B[0m\u001B[0;34m.\u001B[0m\u001B[0m_op_def_cache\u001B[0m\u001B[0;34m[\u001B[0m\u001B[0mtype\u001B[0m\u001B[0;34m]\u001B[0m\u001B[0;34m\u001B[0m\u001B[0;34m\u001B[0m\u001B[0m\n\u001B[0m\u001B[1;32m   3963\u001B[0m     \u001B[0;32mexcept\u001B[0m \u001B[0mKeyError\u001B[0m\u001B[0;34m:\u001B[0m\u001B[0;34m\u001B[0m\u001B[0;34m\u001B[0m\u001B[0m\n",
      "\u001B[0;31mKeyError\u001B[0m: 'Placeholder'",
      "\nDuring handling of the above exception, another exception occurred:\n",
      "\u001B[0;31mKeyboardInterrupt\u001B[0m                         Traceback (most recent call last)",
      "\u001B[0;32m/tmp/ipykernel_83/1263403186.py\u001B[0m in \u001B[0;36m<module>\u001B[0;34m\u001B[0m\n\u001B[1;32m      1\u001B[0m \u001B[0msummerize_test\u001B[0m \u001B[0;34m=\u001B[0m \u001B[0;34m[\u001B[0m\u001B[0;34m]\u001B[0m\u001B[0;34m\u001B[0m\u001B[0;34m\u001B[0m\u001B[0m\n\u001B[1;32m      2\u001B[0m \u001B[0;32mfor\u001B[0m \u001B[0mi\u001B[0m \u001B[0;32min\u001B[0m \u001B[0mtrange\u001B[0m\u001B[0;34m(\u001B[0m\u001B[0mlen\u001B[0m\u001B[0;34m(\u001B[0m\u001B[0mencoder_input_test\u001B[0m\u001B[0;34m)\u001B[0m\u001B[0;34m)\u001B[0m\u001B[0;34m:\u001B[0m\u001B[0;34m\u001B[0m\u001B[0;34m\u001B[0m\u001B[0m\n\u001B[0;32m----> 3\u001B[0;31m     \u001B[0mtmp\u001B[0m \u001B[0;34m=\u001B[0m \u001B[0mdecode_sequence\u001B[0m\u001B[0;34m(\u001B[0m\u001B[0mencoder_input_test\u001B[0m\u001B[0;34m[\u001B[0m\u001B[0mi\u001B[0m\u001B[0;34m]\u001B[0m\u001B[0;34m.\u001B[0m\u001B[0mreshape\u001B[0m\u001B[0;34m(\u001B[0m\u001B[0;36m1\u001B[0m\u001B[0;34m,\u001B[0m \u001B[0mtext_max_len\u001B[0m\u001B[0;34m)\u001B[0m\u001B[0;34m)\u001B[0m\u001B[0;34m\u001B[0m\u001B[0;34m\u001B[0m\u001B[0m\n\u001B[0m\u001B[1;32m      4\u001B[0m     \u001B[0msummerize_test\u001B[0m\u001B[0;34m.\u001B[0m\u001B[0mappend\u001B[0m\u001B[0;34m(\u001B[0m\u001B[0mtmp\u001B[0m\u001B[0;34m)\u001B[0m\u001B[0;34m\u001B[0m\u001B[0;34m\u001B[0m\u001B[0m\n",
      "\u001B[0;32m/tmp/ipykernel_83/1335558488.py\u001B[0m in \u001B[0;36mdecode_sequence\u001B[0;34m(input_seq)\u001B[0m\n\u001B[1;32m     11\u001B[0m     \u001B[0;32mwhile\u001B[0m \u001B[0;32mnot\u001B[0m \u001B[0mstop_condition\u001B[0m\u001B[0;34m:\u001B[0m \u001B[0;31m# stop_condition이 True가 될 때까지 루프 반복\u001B[0m\u001B[0;34m\u001B[0m\u001B[0;34m\u001B[0m\u001B[0m\n\u001B[1;32m     12\u001B[0m \u001B[0;34m\u001B[0m\u001B[0m\n\u001B[0;32m---> 13\u001B[0;31m         \u001B[0moutput_tokens\u001B[0m\u001B[0;34m,\u001B[0m \u001B[0mh\u001B[0m\u001B[0;34m,\u001B[0m \u001B[0mc\u001B[0m \u001B[0;34m=\u001B[0m \u001B[0mdecoder_model\u001B[0m\u001B[0;34m.\u001B[0m\u001B[0mpredict\u001B[0m\u001B[0;34m(\u001B[0m\u001B[0;34m[\u001B[0m\u001B[0mtarget_seq\u001B[0m\u001B[0;34m]\u001B[0m \u001B[0;34m+\u001B[0m \u001B[0;34m[\u001B[0m\u001B[0me_out\u001B[0m\u001B[0;34m,\u001B[0m \u001B[0me_h\u001B[0m\u001B[0;34m,\u001B[0m \u001B[0me_c\u001B[0m\u001B[0;34m]\u001B[0m\u001B[0;34m)\u001B[0m\u001B[0;34m\u001B[0m\u001B[0;34m\u001B[0m\u001B[0m\n\u001B[0m\u001B[1;32m     14\u001B[0m         \u001B[0msampled_token_index\u001B[0m \u001B[0;34m=\u001B[0m \u001B[0mnp\u001B[0m\u001B[0;34m.\u001B[0m\u001B[0margmax\u001B[0m\u001B[0;34m(\u001B[0m\u001B[0moutput_tokens\u001B[0m\u001B[0;34m[\u001B[0m\u001B[0;36m0\u001B[0m\u001B[0;34m,\u001B[0m \u001B[0;34m-\u001B[0m\u001B[0;36m1\u001B[0m\u001B[0;34m,\u001B[0m \u001B[0;34m:\u001B[0m\u001B[0;34m]\u001B[0m\u001B[0;34m)\u001B[0m\u001B[0;34m\u001B[0m\u001B[0;34m\u001B[0m\u001B[0m\n\u001B[1;32m     15\u001B[0m         \u001B[0msampled_token\u001B[0m \u001B[0;34m=\u001B[0m \u001B[0mtar_index_to_word\u001B[0m\u001B[0;34m[\u001B[0m\u001B[0msampled_token_index\u001B[0m\u001B[0;34m]\u001B[0m\u001B[0;34m\u001B[0m\u001B[0;34m\u001B[0m\u001B[0m\n",
      "\u001B[0;32m/opt/conda/lib/python3.9/site-packages/keras/engine/training.py\u001B[0m in \u001B[0;36mpredict\u001B[0;34m(self, x, batch_size, verbose, steps, callbacks, max_queue_size, workers, use_multiprocessing)\u001B[0m\n\u001B[1;32m   1718\u001B[0m                         '. Consider setting it to AutoShardPolicy.DATA.')\n\u001B[1;32m   1719\u001B[0m \u001B[0;34m\u001B[0m\u001B[0m\n\u001B[0;32m-> 1720\u001B[0;31m       data_handler = data_adapter.get_data_handler(\n\u001B[0m\u001B[1;32m   1721\u001B[0m           \u001B[0mx\u001B[0m\u001B[0;34m=\u001B[0m\u001B[0mx\u001B[0m\u001B[0;34m,\u001B[0m\u001B[0;34m\u001B[0m\u001B[0;34m\u001B[0m\u001B[0m\n\u001B[1;32m   1722\u001B[0m           \u001B[0mbatch_size\u001B[0m\u001B[0;34m=\u001B[0m\u001B[0mbatch_size\u001B[0m\u001B[0;34m,\u001B[0m\u001B[0;34m\u001B[0m\u001B[0;34m\u001B[0m\u001B[0m\n",
      "\u001B[0;32m/opt/conda/lib/python3.9/site-packages/keras/engine/data_adapter.py\u001B[0m in \u001B[0;36mget_data_handler\u001B[0;34m(*args, **kwargs)\u001B[0m\n\u001B[1;32m   1381\u001B[0m   \u001B[0;32mif\u001B[0m \u001B[0mgetattr\u001B[0m\u001B[0;34m(\u001B[0m\u001B[0mkwargs\u001B[0m\u001B[0;34m[\u001B[0m\u001B[0;34m\"model\"\u001B[0m\u001B[0;34m]\u001B[0m\u001B[0;34m,\u001B[0m \u001B[0;34m\"_cluster_coordinator\"\u001B[0m\u001B[0;34m,\u001B[0m \u001B[0;32mNone\u001B[0m\u001B[0;34m)\u001B[0m\u001B[0;34m:\u001B[0m\u001B[0;34m\u001B[0m\u001B[0;34m\u001B[0m\u001B[0m\n\u001B[1;32m   1382\u001B[0m     \u001B[0;32mreturn\u001B[0m \u001B[0m_ClusterCoordinatorDataHandler\u001B[0m\u001B[0;34m(\u001B[0m\u001B[0;34m*\u001B[0m\u001B[0margs\u001B[0m\u001B[0;34m,\u001B[0m \u001B[0;34m**\u001B[0m\u001B[0mkwargs\u001B[0m\u001B[0;34m)\u001B[0m\u001B[0;34m\u001B[0m\u001B[0;34m\u001B[0m\u001B[0m\n\u001B[0;32m-> 1383\u001B[0;31m   \u001B[0;32mreturn\u001B[0m \u001B[0mDataHandler\u001B[0m\u001B[0;34m(\u001B[0m\u001B[0;34m*\u001B[0m\u001B[0margs\u001B[0m\u001B[0;34m,\u001B[0m \u001B[0;34m**\u001B[0m\u001B[0mkwargs\u001B[0m\u001B[0;34m)\u001B[0m\u001B[0;34m\u001B[0m\u001B[0;34m\u001B[0m\u001B[0m\n\u001B[0m\u001B[1;32m   1384\u001B[0m \u001B[0;34m\u001B[0m\u001B[0m\n\u001B[1;32m   1385\u001B[0m \u001B[0;34m\u001B[0m\u001B[0m\n",
      "\u001B[0;32m/opt/conda/lib/python3.9/site-packages/keras/engine/data_adapter.py\u001B[0m in \u001B[0;36m__init__\u001B[0;34m(self, x, y, sample_weight, batch_size, steps_per_epoch, initial_epoch, epochs, shuffle, class_weight, max_queue_size, workers, use_multiprocessing, model, steps_per_execution, distribute)\u001B[0m\n\u001B[1;32m   1136\u001B[0m \u001B[0;34m\u001B[0m\u001B[0m\n\u001B[1;32m   1137\u001B[0m     \u001B[0madapter_cls\u001B[0m \u001B[0;34m=\u001B[0m \u001B[0mselect_data_adapter\u001B[0m\u001B[0;34m(\u001B[0m\u001B[0mx\u001B[0m\u001B[0;34m,\u001B[0m \u001B[0my\u001B[0m\u001B[0;34m)\u001B[0m\u001B[0;34m\u001B[0m\u001B[0;34m\u001B[0m\u001B[0m\n\u001B[0;32m-> 1138\u001B[0;31m     self._adapter = adapter_cls(\n\u001B[0m\u001B[1;32m   1139\u001B[0m         \u001B[0mx\u001B[0m\u001B[0;34m,\u001B[0m\u001B[0;34m\u001B[0m\u001B[0;34m\u001B[0m\u001B[0m\n\u001B[1;32m   1140\u001B[0m         \u001B[0my\u001B[0m\u001B[0;34m,\u001B[0m\u001B[0;34m\u001B[0m\u001B[0;34m\u001B[0m\u001B[0m\n",
      "\u001B[0;32m/opt/conda/lib/python3.9/site-packages/keras/engine/data_adapter.py\u001B[0m in \u001B[0;36m__init__\u001B[0;34m(self, x, y, sample_weights, sample_weight_modes, batch_size, epochs, steps, shuffle, **kwargs)\u001B[0m\n\u001B[1;32m    318\u001B[0m       \u001B[0;32mreturn\u001B[0m \u001B[0mflat_dataset\u001B[0m\u001B[0;34m\u001B[0m\u001B[0;34m\u001B[0m\u001B[0m\n\u001B[1;32m    319\u001B[0m \u001B[0;34m\u001B[0m\u001B[0m\n\u001B[0;32m--> 320\u001B[0;31m     \u001B[0mindices_dataset\u001B[0m \u001B[0;34m=\u001B[0m \u001B[0mindices_dataset\u001B[0m\u001B[0;34m.\u001B[0m\u001B[0mflat_map\u001B[0m\u001B[0;34m(\u001B[0m\u001B[0mslice_batch_indices\u001B[0m\u001B[0;34m)\u001B[0m\u001B[0;34m\u001B[0m\u001B[0;34m\u001B[0m\u001B[0m\n\u001B[0m\u001B[1;32m    321\u001B[0m \u001B[0;34m\u001B[0m\u001B[0m\n\u001B[1;32m    322\u001B[0m     \u001B[0mdataset\u001B[0m \u001B[0;34m=\u001B[0m \u001B[0mself\u001B[0m\u001B[0;34m.\u001B[0m\u001B[0mslice_inputs\u001B[0m\u001B[0;34m(\u001B[0m\u001B[0mindices_dataset\u001B[0m\u001B[0;34m,\u001B[0m \u001B[0minputs\u001B[0m\u001B[0;34m)\u001B[0m\u001B[0;34m\u001B[0m\u001B[0;34m\u001B[0m\u001B[0m\n",
      "\u001B[0;32m/opt/conda/lib/python3.9/site-packages/tensorflow/python/data/ops/dataset_ops.py\u001B[0m in \u001B[0;36mflat_map\u001B[0;34m(self, map_func)\u001B[0m\n\u001B[1;32m   1901\u001B[0m       \u001B[0mDataset\u001B[0m\u001B[0;34m:\u001B[0m \u001B[0mA\u001B[0m\u001B[0;31m \u001B[0m\u001B[0;31m`\u001B[0m\u001B[0mDataset\u001B[0m\u001B[0;31m`\u001B[0m\u001B[0;34m.\u001B[0m\u001B[0;34m\u001B[0m\u001B[0;34m\u001B[0m\u001B[0m\n\u001B[1;32m   1902\u001B[0m     \"\"\"\n\u001B[0;32m-> 1903\u001B[0;31m     \u001B[0;32mreturn\u001B[0m \u001B[0mFlatMapDataset\u001B[0m\u001B[0;34m(\u001B[0m\u001B[0mself\u001B[0m\u001B[0;34m,\u001B[0m \u001B[0mmap_func\u001B[0m\u001B[0;34m)\u001B[0m\u001B[0;34m\u001B[0m\u001B[0;34m\u001B[0m\u001B[0m\n\u001B[0m\u001B[1;32m   1904\u001B[0m \u001B[0;34m\u001B[0m\u001B[0m\n\u001B[1;32m   1905\u001B[0m   def interleave(self,\n",
      "\u001B[0;32m/opt/conda/lib/python3.9/site-packages/tensorflow/python/data/ops/dataset_ops.py\u001B[0m in \u001B[0;36m__init__\u001B[0;34m(self, input_dataset, map_func)\u001B[0m\n\u001B[1;32m   5060\u001B[0m     \u001B[0;34m\"\"\"See `Dataset.flat_map()` for details.\"\"\"\u001B[0m\u001B[0;34m\u001B[0m\u001B[0;34m\u001B[0m\u001B[0m\n\u001B[1;32m   5061\u001B[0m     \u001B[0mself\u001B[0m\u001B[0;34m.\u001B[0m\u001B[0m_input_dataset\u001B[0m \u001B[0;34m=\u001B[0m \u001B[0minput_dataset\u001B[0m\u001B[0;34m\u001B[0m\u001B[0;34m\u001B[0m\u001B[0m\n\u001B[0;32m-> 5062\u001B[0;31m     self._map_func = StructuredFunctionWrapper(\n\u001B[0m\u001B[1;32m   5063\u001B[0m         map_func, self._transformation_name(), dataset=input_dataset)\n\u001B[1;32m   5064\u001B[0m     \u001B[0;32mif\u001B[0m \u001B[0;32mnot\u001B[0m \u001B[0misinstance\u001B[0m\u001B[0;34m(\u001B[0m\u001B[0mself\u001B[0m\u001B[0;34m.\u001B[0m\u001B[0m_map_func\u001B[0m\u001B[0;34m.\u001B[0m\u001B[0moutput_structure\u001B[0m\u001B[0;34m,\u001B[0m \u001B[0mDatasetSpec\u001B[0m\u001B[0;34m)\u001B[0m\u001B[0;34m:\u001B[0m\u001B[0;34m\u001B[0m\u001B[0;34m\u001B[0m\u001B[0m\n",
      "\u001B[0;32m/opt/conda/lib/python3.9/site-packages/tensorflow/python/data/ops/dataset_ops.py\u001B[0m in \u001B[0;36m__init__\u001B[0;34m(self, func, transformation_name, dataset, input_classes, input_shapes, input_types, input_structure, add_to_graph, use_legacy_function, defun_kwargs)\u001B[0m\n\u001B[1;32m   4216\u001B[0m         \u001B[0mfn_factory\u001B[0m \u001B[0;34m=\u001B[0m \u001B[0mtrace_tf_function\u001B[0m\u001B[0;34m(\u001B[0m\u001B[0mdefun_kwargs\u001B[0m\u001B[0;34m)\u001B[0m\u001B[0;34m\u001B[0m\u001B[0;34m\u001B[0m\u001B[0m\n\u001B[1;32m   4217\u001B[0m \u001B[0;34m\u001B[0m\u001B[0m\n\u001B[0;32m-> 4218\u001B[0;31m     \u001B[0mself\u001B[0m\u001B[0;34m.\u001B[0m\u001B[0m_function\u001B[0m \u001B[0;34m=\u001B[0m \u001B[0mfn_factory\u001B[0m\u001B[0;34m(\u001B[0m\u001B[0;34m)\u001B[0m\u001B[0;34m\u001B[0m\u001B[0;34m\u001B[0m\u001B[0m\n\u001B[0m\u001B[1;32m   4219\u001B[0m     \u001B[0;31m# There is no graph to add in eager mode.\u001B[0m\u001B[0;34m\u001B[0m\u001B[0;34m\u001B[0m\u001B[0m\n\u001B[1;32m   4220\u001B[0m     \u001B[0madd_to_graph\u001B[0m \u001B[0;34m&=\u001B[0m \u001B[0;32mnot\u001B[0m \u001B[0mcontext\u001B[0m\u001B[0;34m.\u001B[0m\u001B[0mexecuting_eagerly\u001B[0m\u001B[0;34m(\u001B[0m\u001B[0;34m)\u001B[0m\u001B[0;34m\u001B[0m\u001B[0;34m\u001B[0m\u001B[0m\n",
      "\u001B[0;32m/opt/conda/lib/python3.9/site-packages/tensorflow/python/eager/function.py\u001B[0m in \u001B[0;36mget_concrete_function\u001B[0;34m(self, *args, **kwargs)\u001B[0m\n\u001B[1;32m   3148\u001B[0m          \u001B[0;32mor\u001B[0m\u001B[0;31m \u001B[0m\u001B[0;31m`\u001B[0m\u001B[0mtf\u001B[0m\u001B[0;34m.\u001B[0m\u001B[0mTensor\u001B[0m\u001B[0;31m`\u001B[0m \u001B[0;32mor\u001B[0m\u001B[0;31m \u001B[0m\u001B[0;31m`\u001B[0m\u001B[0mtf\u001B[0m\u001B[0;34m.\u001B[0m\u001B[0mTensorSpec\u001B[0m\u001B[0;31m`\u001B[0m\u001B[0;34m.\u001B[0m\u001B[0;34m\u001B[0m\u001B[0;34m\u001B[0m\u001B[0m\n\u001B[1;32m   3149\u001B[0m     \"\"\"\n\u001B[0;32m-> 3150\u001B[0;31m     graph_function = self._get_concrete_function_garbage_collected(\n\u001B[0m\u001B[1;32m   3151\u001B[0m         *args, **kwargs)\n\u001B[1;32m   3152\u001B[0m     \u001B[0mgraph_function\u001B[0m\u001B[0;34m.\u001B[0m\u001B[0m_garbage_collector\u001B[0m\u001B[0;34m.\u001B[0m\u001B[0mrelease\u001B[0m\u001B[0;34m(\u001B[0m\u001B[0;34m)\u001B[0m  \u001B[0;31m# pylint: disable=protected-access\u001B[0m\u001B[0;34m\u001B[0m\u001B[0;34m\u001B[0m\u001B[0m\n",
      "\u001B[0;32m/opt/conda/lib/python3.9/site-packages/tensorflow/python/eager/function.py\u001B[0m in \u001B[0;36m_get_concrete_function_garbage_collected\u001B[0;34m(self, *args, **kwargs)\u001B[0m\n\u001B[1;32m   3114\u001B[0m       \u001B[0margs\u001B[0m\u001B[0;34m,\u001B[0m \u001B[0mkwargs\u001B[0m \u001B[0;34m=\u001B[0m \u001B[0;32mNone\u001B[0m\u001B[0;34m,\u001B[0m \u001B[0;32mNone\u001B[0m\u001B[0;34m\u001B[0m\u001B[0;34m\u001B[0m\u001B[0m\n\u001B[1;32m   3115\u001B[0m     \u001B[0;32mwith\u001B[0m \u001B[0mself\u001B[0m\u001B[0;34m.\u001B[0m\u001B[0m_lock\u001B[0m\u001B[0;34m:\u001B[0m\u001B[0;34m\u001B[0m\u001B[0;34m\u001B[0m\u001B[0m\n\u001B[0;32m-> 3116\u001B[0;31m       \u001B[0mgraph_function\u001B[0m\u001B[0;34m,\u001B[0m \u001B[0m_\u001B[0m \u001B[0;34m=\u001B[0m \u001B[0mself\u001B[0m\u001B[0;34m.\u001B[0m\u001B[0m_maybe_define_function\u001B[0m\u001B[0;34m(\u001B[0m\u001B[0margs\u001B[0m\u001B[0;34m,\u001B[0m \u001B[0mkwargs\u001B[0m\u001B[0;34m)\u001B[0m\u001B[0;34m\u001B[0m\u001B[0;34m\u001B[0m\u001B[0m\n\u001B[0m\u001B[1;32m   3117\u001B[0m       \u001B[0mseen_names\u001B[0m \u001B[0;34m=\u001B[0m \u001B[0mset\u001B[0m\u001B[0;34m(\u001B[0m\u001B[0;34m)\u001B[0m\u001B[0;34m\u001B[0m\u001B[0;34m\u001B[0m\u001B[0m\n\u001B[1;32m   3118\u001B[0m       captured = object_identity.ObjectIdentitySet(\n",
      "\u001B[0;32m/opt/conda/lib/python3.9/site-packages/tensorflow/python/eager/function.py\u001B[0m in \u001B[0;36m_maybe_define_function\u001B[0;34m(self, args, kwargs)\u001B[0m\n\u001B[1;32m   3461\u001B[0m \u001B[0;34m\u001B[0m\u001B[0m\n\u001B[1;32m   3462\u001B[0m           \u001B[0mself\u001B[0m\u001B[0;34m.\u001B[0m\u001B[0m_function_cache\u001B[0m\u001B[0;34m.\u001B[0m\u001B[0mmissed\u001B[0m\u001B[0;34m.\u001B[0m\u001B[0madd\u001B[0m\u001B[0;34m(\u001B[0m\u001B[0mcall_context_key\u001B[0m\u001B[0;34m)\u001B[0m\u001B[0;34m\u001B[0m\u001B[0;34m\u001B[0m\u001B[0m\n\u001B[0;32m-> 3463\u001B[0;31m           \u001B[0mgraph_function\u001B[0m \u001B[0;34m=\u001B[0m \u001B[0mself\u001B[0m\u001B[0;34m.\u001B[0m\u001B[0m_create_graph_function\u001B[0m\u001B[0;34m(\u001B[0m\u001B[0margs\u001B[0m\u001B[0;34m,\u001B[0m \u001B[0mkwargs\u001B[0m\u001B[0;34m)\u001B[0m\u001B[0;34m\u001B[0m\u001B[0;34m\u001B[0m\u001B[0m\n\u001B[0m\u001B[1;32m   3464\u001B[0m           \u001B[0mself\u001B[0m\u001B[0;34m.\u001B[0m\u001B[0m_function_cache\u001B[0m\u001B[0;34m.\u001B[0m\u001B[0mprimary\u001B[0m\u001B[0;34m[\u001B[0m\u001B[0mcache_key\u001B[0m\u001B[0;34m]\u001B[0m \u001B[0;34m=\u001B[0m \u001B[0mgraph_function\u001B[0m\u001B[0;34m\u001B[0m\u001B[0;34m\u001B[0m\u001B[0m\n\u001B[1;32m   3465\u001B[0m \u001B[0;34m\u001B[0m\u001B[0m\n",
      "\u001B[0;32m/opt/conda/lib/python3.9/site-packages/tensorflow/python/eager/function.py\u001B[0m in \u001B[0;36m_create_graph_function\u001B[0;34m(self, args, kwargs, override_flat_arg_shapes)\u001B[0m\n\u001B[1;32m   3296\u001B[0m     \u001B[0marg_names\u001B[0m \u001B[0;34m=\u001B[0m \u001B[0mbase_arg_names\u001B[0m \u001B[0;34m+\u001B[0m \u001B[0mmissing_arg_names\u001B[0m\u001B[0;34m\u001B[0m\u001B[0;34m\u001B[0m\u001B[0m\n\u001B[1;32m   3297\u001B[0m     graph_function = ConcreteFunction(\n\u001B[0;32m-> 3298\u001B[0;31m         func_graph_module.func_graph_from_py_func(\n\u001B[0m\u001B[1;32m   3299\u001B[0m             \u001B[0mself\u001B[0m\u001B[0;34m.\u001B[0m\u001B[0m_name\u001B[0m\u001B[0;34m,\u001B[0m\u001B[0;34m\u001B[0m\u001B[0;34m\u001B[0m\u001B[0m\n\u001B[1;32m   3300\u001B[0m             \u001B[0mself\u001B[0m\u001B[0;34m.\u001B[0m\u001B[0m_python_function\u001B[0m\u001B[0;34m,\u001B[0m\u001B[0;34m\u001B[0m\u001B[0;34m\u001B[0m\u001B[0m\n",
      "\u001B[0;32m/opt/conda/lib/python3.9/site-packages/tensorflow/python/framework/func_graph.py\u001B[0m in \u001B[0;36mfunc_graph_from_py_func\u001B[0;34m(name, python_func, args, kwargs, signature, func_graph, autograph, autograph_options, add_control_dependencies, arg_names, op_return_value, collections, capture_by_value, override_flat_arg_shapes, acd_record_initial_resource_uses)\u001B[0m\n\u001B[1;32m    921\u001B[0m       \u001B[0marg_shapes\u001B[0m \u001B[0;34m=\u001B[0m \u001B[0;32mNone\u001B[0m\u001B[0;34m\u001B[0m\u001B[0;34m\u001B[0m\u001B[0m\n\u001B[1;32m    922\u001B[0m       \u001B[0mkwarg_shapes\u001B[0m \u001B[0;34m=\u001B[0m \u001B[0;32mNone\u001B[0m\u001B[0;34m\u001B[0m\u001B[0;34m\u001B[0m\u001B[0m\n\u001B[0;32m--> 923\u001B[0;31m     func_args = _get_defun_inputs_from_args(\n\u001B[0m\u001B[1;32m    924\u001B[0m         args, arg_names, flat_shapes=arg_shapes)\n\u001B[1;32m    925\u001B[0m     func_kwargs = _get_defun_inputs_from_kwargs(\n",
      "\u001B[0;32m/opt/conda/lib/python3.9/site-packages/tensorflow/python/framework/func_graph.py\u001B[0m in \u001B[0;36m_get_defun_inputs_from_args\u001B[0;34m(args, names, flat_shapes)\u001B[0m\n\u001B[1;32m   1157\u001B[0m \u001B[0;32mdef\u001B[0m \u001B[0m_get_defun_inputs_from_args\u001B[0m\u001B[0;34m(\u001B[0m\u001B[0margs\u001B[0m\u001B[0;34m,\u001B[0m \u001B[0mnames\u001B[0m\u001B[0;34m,\u001B[0m \u001B[0mflat_shapes\u001B[0m\u001B[0;34m=\u001B[0m\u001B[0;32mNone\u001B[0m\u001B[0;34m)\u001B[0m\u001B[0;34m:\u001B[0m\u001B[0;34m\u001B[0m\u001B[0;34m\u001B[0m\u001B[0m\n\u001B[1;32m   1158\u001B[0m   \u001B[0;34m\"\"\"Maps Python function positional args to graph-construction inputs.\"\"\"\u001B[0m\u001B[0;34m\u001B[0m\u001B[0;34m\u001B[0m\u001B[0m\n\u001B[0;32m-> 1159\u001B[0;31m   return _get_defun_inputs(\n\u001B[0m\u001B[1;32m   1160\u001B[0m       args, names, structure=args, flat_shapes=flat_shapes)\n\u001B[1;32m   1161\u001B[0m \u001B[0;34m\u001B[0m\u001B[0m\n",
      "\u001B[0;32m/opt/conda/lib/python3.9/site-packages/tensorflow/python/framework/func_graph.py\u001B[0m in \u001B[0;36m_get_defun_inputs\u001B[0;34m(args, names, structure, flat_shapes)\u001B[0m\n\u001B[1;32m   1230\u001B[0m         \u001B[0mplaceholder_shape\u001B[0m \u001B[0;34m=\u001B[0m \u001B[0mshape\u001B[0m \u001B[0;32mif\u001B[0m \u001B[0mshape\u001B[0m \u001B[0;32mis\u001B[0m \u001B[0;32mnot\u001B[0m \u001B[0;32mNone\u001B[0m \u001B[0;32melse\u001B[0m \u001B[0marg\u001B[0m\u001B[0;34m.\u001B[0m\u001B[0mshape\u001B[0m\u001B[0;34m\u001B[0m\u001B[0;34m\u001B[0m\u001B[0m\n\u001B[1;32m   1231\u001B[0m         \u001B[0;32mtry\u001B[0m\u001B[0;34m:\u001B[0m\u001B[0;34m\u001B[0m\u001B[0;34m\u001B[0m\u001B[0m\n\u001B[0;32m-> 1232\u001B[0;31m           placeholder = graph_placeholder(\n\u001B[0m\u001B[1;32m   1233\u001B[0m               \u001B[0marg\u001B[0m\u001B[0;34m.\u001B[0m\u001B[0mdtype\u001B[0m\u001B[0;34m,\u001B[0m \u001B[0mplaceholder_shape\u001B[0m\u001B[0;34m,\u001B[0m\u001B[0;34m\u001B[0m\u001B[0;34m\u001B[0m\u001B[0m\n\u001B[1;32m   1234\u001B[0m               name=requested_name)\n",
      "\u001B[0;32m/opt/conda/lib/python3.9/site-packages/tensorflow/python/eager/graph_only_ops.py\u001B[0m in \u001B[0;36mgraph_placeholder\u001B[0;34m(dtype, shape, name)\u001B[0m\n\u001B[1;32m     36\u001B[0m   \u001B[0mg\u001B[0m \u001B[0;34m=\u001B[0m \u001B[0mops\u001B[0m\u001B[0;34m.\u001B[0m\u001B[0mget_default_graph\u001B[0m\u001B[0;34m(\u001B[0m\u001B[0;34m)\u001B[0m\u001B[0;34m\u001B[0m\u001B[0;34m\u001B[0m\u001B[0m\n\u001B[1;32m     37\u001B[0m   \u001B[0mattrs\u001B[0m \u001B[0;34m=\u001B[0m \u001B[0;34m{\u001B[0m\u001B[0;34m\"dtype\"\u001B[0m\u001B[0;34m:\u001B[0m \u001B[0mdtype_value\u001B[0m\u001B[0;34m,\u001B[0m \u001B[0;34m\"shape\"\u001B[0m\u001B[0;34m:\u001B[0m \u001B[0mshape\u001B[0m\u001B[0;34m}\u001B[0m\u001B[0;34m\u001B[0m\u001B[0;34m\u001B[0m\u001B[0m\n\u001B[0;32m---> 38\u001B[0;31m   op = g._create_op_internal(  # pylint: disable=protected-access\n\u001B[0m\u001B[1;32m     39\u001B[0m       \u001B[0;34m\"Placeholder\"\u001B[0m\u001B[0;34m,\u001B[0m \u001B[0;34m[\u001B[0m\u001B[0;34m]\u001B[0m\u001B[0;34m,\u001B[0m \u001B[0;34m[\u001B[0m\u001B[0mdtype\u001B[0m\u001B[0;34m]\u001B[0m\u001B[0;34m,\u001B[0m \u001B[0minput_types\u001B[0m\u001B[0;34m=\u001B[0m\u001B[0;34m[\u001B[0m\u001B[0;34m]\u001B[0m\u001B[0;34m,\u001B[0m\u001B[0;34m\u001B[0m\u001B[0;34m\u001B[0m\u001B[0m\n\u001B[1;32m     40\u001B[0m       attrs=attrs, name=name)\n",
      "\u001B[0;32m/opt/conda/lib/python3.9/site-packages/tensorflow/python/framework/func_graph.py\u001B[0m in \u001B[0;36m_create_op_internal\u001B[0;34m(self, op_type, inputs, dtypes, input_types, name, attrs, op_def, compute_device)\u001B[0m\n\u001B[1;32m    597\u001B[0m       \u001B[0minp\u001B[0m \u001B[0;34m=\u001B[0m \u001B[0mself\u001B[0m\u001B[0;34m.\u001B[0m\u001B[0mcapture\u001B[0m\u001B[0;34m(\u001B[0m\u001B[0minp\u001B[0m\u001B[0;34m)\u001B[0m\u001B[0;34m\u001B[0m\u001B[0;34m\u001B[0m\u001B[0m\n\u001B[1;32m    598\u001B[0m       \u001B[0mcaptured_inputs\u001B[0m\u001B[0;34m.\u001B[0m\u001B[0mappend\u001B[0m\u001B[0;34m(\u001B[0m\u001B[0minp\u001B[0m\u001B[0;34m)\u001B[0m\u001B[0;34m\u001B[0m\u001B[0;34m\u001B[0m\u001B[0m\n\u001B[0;32m--> 599\u001B[0;31m     return super(FuncGraph, self)._create_op_internal(  # pylint: disable=protected-access\n\u001B[0m\u001B[1;32m    600\u001B[0m         \u001B[0mop_type\u001B[0m\u001B[0;34m,\u001B[0m \u001B[0mcaptured_inputs\u001B[0m\u001B[0;34m,\u001B[0m \u001B[0mdtypes\u001B[0m\u001B[0;34m,\u001B[0m \u001B[0minput_types\u001B[0m\u001B[0;34m,\u001B[0m \u001B[0mname\u001B[0m\u001B[0;34m,\u001B[0m \u001B[0mattrs\u001B[0m\u001B[0;34m,\u001B[0m \u001B[0mop_def\u001B[0m\u001B[0;34m,\u001B[0m\u001B[0;34m\u001B[0m\u001B[0;34m\u001B[0m\u001B[0m\n\u001B[1;32m    601\u001B[0m         compute_device)\n",
      "\u001B[0;32m/opt/conda/lib/python3.9/site-packages/tensorflow/python/framework/ops.py\u001B[0m in \u001B[0;36m_create_op_internal\u001B[0;34m(self, op_type, inputs, dtypes, input_types, name, attrs, op_def, compute_device)\u001B[0m\n\u001B[1;32m   3559\u001B[0m     \u001B[0;31m# Session.run call cannot occur between creating and mutating the op.\u001B[0m\u001B[0;34m\u001B[0m\u001B[0;34m\u001B[0m\u001B[0m\n\u001B[1;32m   3560\u001B[0m     \u001B[0;32mwith\u001B[0m \u001B[0mself\u001B[0m\u001B[0;34m.\u001B[0m\u001B[0m_mutation_lock\u001B[0m\u001B[0;34m(\u001B[0m\u001B[0;34m)\u001B[0m\u001B[0;34m:\u001B[0m\u001B[0;34m\u001B[0m\u001B[0;34m\u001B[0m\u001B[0m\n\u001B[0;32m-> 3561\u001B[0;31m       ret = Operation(\n\u001B[0m\u001B[1;32m   3562\u001B[0m           \u001B[0mnode_def\u001B[0m\u001B[0;34m,\u001B[0m\u001B[0;34m\u001B[0m\u001B[0;34m\u001B[0m\u001B[0m\n\u001B[1;32m   3563\u001B[0m           \u001B[0mself\u001B[0m\u001B[0;34m,\u001B[0m\u001B[0;34m\u001B[0m\u001B[0;34m\u001B[0m\u001B[0m\n",
      "\u001B[0;32m/opt/conda/lib/python3.9/site-packages/tensorflow/python/framework/ops.py\u001B[0m in \u001B[0;36m__init__\u001B[0;34m(self, node_def, g, inputs, output_types, control_inputs, input_types, original_op, op_def)\u001B[0m\n\u001B[1;32m   2038\u001B[0m     \u001B[0;32melse\u001B[0m\u001B[0;34m:\u001B[0m\u001B[0;34m\u001B[0m\u001B[0;34m\u001B[0m\u001B[0m\n\u001B[1;32m   2039\u001B[0m       \u001B[0;32mif\u001B[0m \u001B[0mop_def\u001B[0m \u001B[0;32mis\u001B[0m \u001B[0;32mNone\u001B[0m\u001B[0;34m:\u001B[0m\u001B[0;34m\u001B[0m\u001B[0;34m\u001B[0m\u001B[0m\n\u001B[0;32m-> 2040\u001B[0;31m         \u001B[0mop_def\u001B[0m \u001B[0;34m=\u001B[0m \u001B[0mself\u001B[0m\u001B[0;34m.\u001B[0m\u001B[0m_graph\u001B[0m\u001B[0;34m.\u001B[0m\u001B[0m_get_op_def\u001B[0m\u001B[0;34m(\u001B[0m\u001B[0mnode_def\u001B[0m\u001B[0;34m.\u001B[0m\u001B[0mop\u001B[0m\u001B[0;34m)\u001B[0m\u001B[0;34m\u001B[0m\u001B[0;34m\u001B[0m\u001B[0m\n\u001B[0m\u001B[1;32m   2041\u001B[0m       self._c_op = _create_c_op(self._graph, node_def, inputs,\n\u001B[1;32m   2042\u001B[0m                                 control_input_ops, op_def)\n",
      "\u001B[0;32m/opt/conda/lib/python3.9/site-packages/tensorflow/python/framework/ops.py\u001B[0m in \u001B[0;36m_get_op_def\u001B[0;34m(self, type)\u001B[0m\n\u001B[1;32m   3968\u001B[0m         \u001B[0;31m# pylint: enable=protected-access\u001B[0m\u001B[0;34m\u001B[0m\u001B[0;34m\u001B[0m\u001B[0m\n\u001B[1;32m   3969\u001B[0m         \u001B[0mdata\u001B[0m \u001B[0;34m=\u001B[0m \u001B[0mpywrap_tf_session\u001B[0m\u001B[0;34m.\u001B[0m\u001B[0mTF_GetBuffer\u001B[0m\u001B[0;34m(\u001B[0m\u001B[0mbuf\u001B[0m\u001B[0;34m)\u001B[0m\u001B[0;34m\u001B[0m\u001B[0;34m\u001B[0m\u001B[0m\n\u001B[0;32m-> 3970\u001B[0;31m       \u001B[0mop_def\u001B[0m \u001B[0;34m=\u001B[0m \u001B[0mop_def_pb2\u001B[0m\u001B[0;34m.\u001B[0m\u001B[0mOpDef\u001B[0m\u001B[0;34m(\u001B[0m\u001B[0;34m)\u001B[0m\u001B[0;34m\u001B[0m\u001B[0;34m\u001B[0m\u001B[0m\n\u001B[0m\u001B[1;32m   3971\u001B[0m       \u001B[0mop_def\u001B[0m\u001B[0;34m.\u001B[0m\u001B[0mParseFromString\u001B[0m\u001B[0;34m(\u001B[0m\u001B[0mcompat\u001B[0m\u001B[0;34m.\u001B[0m\u001B[0mas_bytes\u001B[0m\u001B[0;34m(\u001B[0m\u001B[0mdata\u001B[0m\u001B[0;34m)\u001B[0m\u001B[0;34m)\u001B[0m\u001B[0;34m\u001B[0m\u001B[0;34m\u001B[0m\u001B[0m\n\u001B[1;32m   3972\u001B[0m       \u001B[0mself\u001B[0m\u001B[0;34m.\u001B[0m\u001B[0m_op_def_cache\u001B[0m\u001B[0;34m[\u001B[0m\u001B[0mtype\u001B[0m\u001B[0;34m]\u001B[0m \u001B[0;34m=\u001B[0m \u001B[0mop_def\u001B[0m\u001B[0;34m\u001B[0m\u001B[0;34m\u001B[0m\u001B[0m\n",
      "\u001B[0;31mKeyboardInterrupt\u001B[0m: "
     ]
    }
   ],
   "source": [
    "summerize_test = []\n",
    "for i in trange(len(encoder_input_test)):\n",
    "    tmp = decode_sequence(encoder_input_test[i].reshape(1, text_max_len))\n",
    "    summerize_test.append(tmp)"
   ]
  },
  {
   "cell_type": "markdown",
   "id": "5d170260",
   "metadata": {},
   "source": [
    "- stopwords를 제거하지 않았더니 상당히 잘 요약하는 것으로 보인다\n",
    "- 모든 test_data를 번역한 뒤에 이를 활용해서 ROUGE SCORE를 구해보려 했으나 시간이 너무 오래 걸려서 하지 못했다"
   ]
  },
  {
   "cell_type": "code",
   "execution_count": 196,
   "id": "de512395",
   "metadata": {
    "scrolled": true
   },
   "outputs": [
    {
     "data": {
      "text/plain": [
       "1677"
      ]
     },
     "execution_count": 196,
     "metadata": {},
     "output_type": "execute_result"
    }
   ],
   "source": [
    "len(summerize_test)"
   ]
  },
  {
   "cell_type": "code",
   "execution_count": 199,
   "id": "04c05717",
   "metadata": {},
   "outputs": [
    {
     "data": {
      "text/plain": [
       "'sharing report on the us plans to revoke work visas for spouses of visa holders congress president rahul gandhi tweeted there are some things hug can buy for visas you are on your own the proposed rules will block spouses of around indians working on visas in the us from seeking employment or starting their business '"
      ]
     },
     "execution_count": 199,
     "metadata": {},
     "output_type": "execute_result"
    }
   ],
   "source": [
    "seq2text(encoder_input_test[0])"
   ]
  },
  {
   "cell_type": "code",
   "execution_count": 200,
   "id": "f276c14d",
   "metadata": {},
   "outputs": [
    {
     "data": {
      "text/plain": [
       "'us visa rahul asks pm modi to discuss indira cooperation'"
      ]
     },
     "execution_count": 200,
     "metadata": {},
     "output_type": "execute_result"
    }
   ],
   "source": [
    "summerize_test[0]"
   ]
  },
  {
   "cell_type": "markdown",
   "id": "cd19c6f7",
   "metadata": {},
   "source": [
    "### Step 5. Summa을 이용해서 추출적 요약해보기\n",
    "추상적 요약은 추출적 요약과는 달리 문장의 표현력을 다양하게 가져갈 수 있지만, 추출적 요약에 비해서 난이도가 높아요. 반대로 말하면 추출적 요약은 추상적 요약에 비해 난이도가 낮고 기존 문장에서 문장을 꺼내오는 것이므로 잘못된 요약이 나올 가능성이 낮아요.\n",
    "\n",
    "Summa의 summarize를 사용하여 추출적 요약을 해보세요."
   ]
  },
  {
   "cell_type": "markdown",
   "id": "c8675afa",
   "metadata": {},
   "source": [
    "- 너무 적은 문장의 경우에는 요약을 못한다"
   ]
  },
  {
   "cell_type": "code",
   "execution_count": 122,
   "id": "82bec92e",
   "metadata": {},
   "outputs": [],
   "source": [
    "import requests\n",
    "from summa.summarizer import summarize"
   ]
  },
  {
   "cell_type": "code",
   "execution_count": 141,
   "id": "9b8ba84a",
   "metadata": {},
   "outputs": [],
   "source": [
    "text = news.text[0]"
   ]
  },
  {
   "cell_type": "code",
   "execution_count": 142,
   "id": "92f6ae6c",
   "metadata": {},
   "outputs": [
    {
     "data": {
      "text/plain": [
       "\"Saurav Kant, an alumnus of upGrad and IIIT-B's PG Program in Machine learning and Artificial Intelligence, was a Sr Systems Engineer at Infosys with almost 5 years of work experience. The program and upGrad's 360-degree career support helped him transition to a Data Scientist at Tech Mahindra with 90% salary hike. upGrad's Online Power Learning has powered 3 lakh+ careers.\""
      ]
     },
     "execution_count": 142,
     "metadata": {},
     "output_type": "execute_result"
    }
   ],
   "source": [
    "text"
   ]
  },
  {
   "cell_type": "code",
   "execution_count": 144,
   "id": "42e42e09",
   "metadata": {
    "scrolled": true
   },
   "outputs": [
    {
     "name": "stdout",
     "output_type": "stream",
     "text": [
      "Summary:\n",
      "upGrad's Online Power Learning has powered 3 lakh+ careers.\n"
     ]
    }
   ],
   "source": [
    "print('Summary:')\n",
    "print(summarize(text, words=15))"
   ]
  },
  {
   "cell_type": "code",
   "execution_count": 146,
   "id": "3ffb8070",
   "metadata": {},
   "outputs": [
    {
     "name": "stderr",
     "output_type": "stream",
     "text": [
      "100%|██████████| 98360/98360 [01:43<00:00, 951.59it/s]\n"
     ]
    }
   ],
   "source": [
    "news['summa_summarize'] = news['text'].progress_apply(lambda x: summarize(x, words=15))"
   ]
  },
  {
   "cell_type": "code",
   "execution_count": 149,
   "id": "dba8dce9",
   "metadata": {
    "scrolled": true
   },
   "outputs": [
    {
     "data": {
      "text/plain": [
       "79831    Amitabh Bachchan has revealed that he wrestled...\n",
       "79832                                                     \n",
       "79833    RJD supremo Lalu Prasad Yadav on Wednesday off...\n",
       "79834    Notably, Segal continued to officiate the matc...\n",
       "79835    However, reports suggest users will not be abl...\n",
       "                               ...                        \n",
       "98396    A CRPF jawan was on Tuesday axed to death with...\n",
       "98397    'Uff Yeh', the first song from the Sonakshi Si...\n",
       "98398    Michael B Jordan will reportedly play the lead...\n",
       "98399    The video also shows a TV airing a news confer...\n",
       "98400                                                     \n",
       "Name: summa_summarize, Length: 18565, dtype: object"
      ]
     },
     "execution_count": 149,
     "metadata": {},
     "output_type": "execute_result"
    }
   ],
   "source": [
    "news['summa_summarize'].iloc[-n_of_val:]"
   ]
  },
  {
   "cell_type": "code",
   "execution_count": 150,
   "id": "422beff9",
   "metadata": {},
   "outputs": [
    {
     "data": {
      "text/plain": [
       "(98360, 3)"
      ]
     },
     "execution_count": 150,
     "metadata": {},
     "output_type": "execute_result"
    }
   ],
   "source": [
    "news.shape"
   ]
  },
  {
   "cell_type": "code",
   "execution_count": 151,
   "id": "eb16e36a",
   "metadata": {},
   "outputs": [
    {
     "data": {
      "text/plain": [
       "(92826, 4)"
      ]
     },
     "execution_count": 151,
     "metadata": {},
     "output_type": "execute_result"
    }
   ],
   "source": [
    "data.shape"
   ]
  },
  {
   "cell_type": "code",
   "execution_count": 156,
   "id": "9f504d7f",
   "metadata": {},
   "outputs": [],
   "source": [
    "all_data = data.merge(news, how='left', right_index=True, left_index=True, suffixes=['','_raw'])"
   ]
  },
  {
   "cell_type": "code",
   "execution_count": 157,
   "id": "acf2e7bf",
   "metadata": {},
   "outputs": [
    {
     "data": {
      "text/plain": [
       "(92826, 7)"
      ]
     },
     "execution_count": 157,
     "metadata": {},
     "output_type": "execute_result"
    }
   ],
   "source": [
    "all_data.shape"
   ]
  },
  {
   "cell_type": "code",
   "execution_count": 160,
   "id": "d5742d24",
   "metadata": {
    "scrolled": true
   },
   "outputs": [],
   "source": [
    "test_data = all_data.iloc[-n_of_val:]"
   ]
  },
  {
   "cell_type": "code",
   "execution_count": 319,
   "id": "b7cb647a",
   "metadata": {},
   "outputs": [],
   "source": [
    "samples = test_data.sample(10)"
   ]
  },
  {
   "cell_type": "code",
   "execution_count": 320,
   "id": "13b7abf7",
   "metadata": {},
   "outputs": [
    {
     "data": {
      "text/html": [
       "<div>\n",
       "<style scoped>\n",
       "    .dataframe tbody tr th:only-of-type {\n",
       "        vertical-align: middle;\n",
       "    }\n",
       "\n",
       "    .dataframe tbody tr th {\n",
       "        vertical-align: top;\n",
       "    }\n",
       "\n",
       "    .dataframe thead th {\n",
       "        text-align: right;\n",
       "    }\n",
       "</style>\n",
       "<table border=\"1\" class=\"dataframe\">\n",
       "  <thead>\n",
       "    <tr style=\"text-align: right;\">\n",
       "      <th></th>\n",
       "      <th>headlines</th>\n",
       "      <th>text</th>\n",
       "      <th>decoder_input</th>\n",
       "      <th>decoder_target</th>\n",
       "      <th>headlines_raw</th>\n",
       "      <th>text_raw</th>\n",
       "      <th>summa_summarize</th>\n",
       "    </tr>\n",
       "  </thead>\n",
       "  <tbody>\n",
       "    <tr>\n",
       "      <th>97116</th>\n",
       "      <td>indian led team develops solar powered electro...</td>\n",
       "      <td>scientists at the university of glasgow led by...</td>\n",
       "      <td>sostoken indian led team develops solar powere...</td>\n",
       "      <td>indian led team develops solar powered electro...</td>\n",
       "      <td>Indian-led team develops solar-powered 'electr...</td>\n",
       "      <td>Scientists at the University of Glasgow led by...</td>\n",
       "      <td>Scientists at the University of Glasgow led by...</td>\n",
       "    </tr>\n",
       "    <tr>\n",
       "      <th>87957</th>\n",
       "      <td>air india to raise crore through sale of prope...</td>\n",
       "      <td>state run air india plans to raise around cror...</td>\n",
       "      <td>sostoken air india to raise crore through sale...</td>\n",
       "      <td>air india to raise crore through sale of prope...</td>\n",
       "      <td>Air India to raise Ã¢ÂÂ¹80 crore through sale...</td>\n",
       "      <td>State-run Air India plans to raise around Ã¢Â...</td>\n",
       "      <td>State-run Air India plans to raise around Ã¢Â...</td>\n",
       "    </tr>\n",
       "    <tr>\n",
       "      <th>87280</th>\n",
       "      <td>linkedin co founder leads million funding in c...</td>\n",
       "      <td>linkedin co founder reid hoffman has led milli...</td>\n",
       "      <td>sostoken linkedin co founder leads million fun...</td>\n",
       "      <td>linkedin co founder leads million funding in c...</td>\n",
       "      <td>LinkedIn Co-founder leads $30 million funding ...</td>\n",
       "      <td>LinkedIn Co-founder Reid Hoffman has led a $30...</td>\n",
       "      <td>Microsoft Co-founder and the world's richest p...</td>\n",
       "    </tr>\n",
       "    <tr>\n",
       "      <th>96432</th>\n",
       "      <td>govt launches online film certification system</td>\n",
       "      <td>the union government on monday launched cinepr...</td>\n",
       "      <td>sostoken govt launches online film certificati...</td>\n",
       "      <td>govt launches online film certification system...</td>\n",
       "      <td>Govt launches Online Film Certification System</td>\n",
       "      <td>The Union government on Monday launched 'e-Cin...</td>\n",
       "      <td>The Union government on Monday launched 'e-Cin...</td>\n",
       "    </tr>\n",
       "    <tr>\n",
       "      <th>83227</th>\n",
       "      <td>india to draft law to safeguard interests in a...</td>\n",
       "      <td>india is currently drafting policy to safeguar...</td>\n",
       "      <td>sostoken india to draft law to safeguard inter...</td>\n",
       "      <td>india to draft law to safeguard interests in a...</td>\n",
       "      <td>India to draft law to safeguard interests in A...</td>\n",
       "      <td>India is currently drafting a policy to safegu...</td>\n",
       "      <td>India is currently drafting a policy to safegu...</td>\n",
       "    </tr>\n",
       "    <tr>\n",
       "      <th>87405</th>\n",
       "      <td>which are some of the longest bridges in india</td>\n",
       "      <td>the kilometre long dhola sadiya bridge in assa...</td>\n",
       "      <td>sostoken which are some of the longest bridges...</td>\n",
       "      <td>which are some of the longest bridges in india...</td>\n",
       "      <td>Which are some of the longest bridges in India?</td>\n",
       "      <td>The 9.15-kilometre long Dhola-Sadiya bridge in...</td>\n",
       "      <td>The 9.15-kilometre long Dhola-Sadiya bridge in...</td>\n",
       "    </tr>\n",
       "    <tr>\n",
       "      <th>97707</th>\n",
       "      <td>no fatwa was issued against singer nahid afrin...</td>\n",
       "      <td>after several media reports claiming muslim cl...</td>\n",
       "      <td>sostoken no fatwa was issued against singer na...</td>\n",
       "      <td>no fatwa was issued against singer nahid afrin...</td>\n",
       "      <td>No 'fatwa' was issued against singer Nahid Afr...</td>\n",
       "      <td>After several media reports claiming 46 Muslim...</td>\n",
       "      <td>The leaflet, based on which media had reported...</td>\n",
       "    </tr>\n",
       "    <tr>\n",
       "      <th>92812</th>\n",
       "      <td>black jesus kills in california shouts allahu ...</td>\n",
       "      <td>an african american gunman nicknamed black jes...</td>\n",
       "      <td>sostoken black jesus kills in california shout...</td>\n",
       "      <td>black jesus kills in california shouts allahu ...</td>\n",
       "      <td>'Black Jesus' kills 3 in California, shouts Al...</td>\n",
       "      <td>An African-American gunman nicknamed 'Black Je...</td>\n",
       "      <td>An African-American gunman nicknamed 'Black Je...</td>\n",
       "    </tr>\n",
       "    <tr>\n",
       "      <th>98046</th>\n",
       "      <td>arrest of stayzilla founder disturbing says in...</td>\n",
       "      <td>chairman of the confederation of indian indust...</td>\n",
       "      <td>sostoken arrest of stayzilla founder disturbin...</td>\n",
       "      <td>arrest of stayzilla founder disturbing says in...</td>\n",
       "      <td>Arrest of Stayzilla Founder disturbing, says i...</td>\n",
       "      <td>Chairman of the Confederation of Indian Indust...</td>\n",
       "      <td>Chairman of the Confederation of Indian Indust...</td>\n",
       "    </tr>\n",
       "    <tr>\n",
       "      <th>98004</th>\n",
       "      <td>national racing champ charred to death as car ...</td>\n",
       "      <td>national racing champion ashwin sundar and his...</td>\n",
       "      <td>sostoken national racing champ charred to deat...</td>\n",
       "      <td>national racing champ charred to death as car ...</td>\n",
       "      <td>National racing champ charred to death as car ...</td>\n",
       "      <td>National racing champion Ashwin Sundar and his...</td>\n",
       "      <td>National racing champion Ashwin Sundar and his...</td>\n",
       "    </tr>\n",
       "  </tbody>\n",
       "</table>\n",
       "</div>"
      ],
      "text/plain": [
       "                                               headlines  \\\n",
       "97116  indian led team develops solar powered electro...   \n",
       "87957  air india to raise crore through sale of prope...   \n",
       "87280  linkedin co founder leads million funding in c...   \n",
       "96432     govt launches online film certification system   \n",
       "83227  india to draft law to safeguard interests in a...   \n",
       "87405     which are some of the longest bridges in india   \n",
       "97707  no fatwa was issued against singer nahid afrin...   \n",
       "92812  black jesus kills in california shouts allahu ...   \n",
       "98046  arrest of stayzilla founder disturbing says in...   \n",
       "98004  national racing champ charred to death as car ...   \n",
       "\n",
       "                                                    text  \\\n",
       "97116  scientists at the university of glasgow led by...   \n",
       "87957  state run air india plans to raise around cror...   \n",
       "87280  linkedin co founder reid hoffman has led milli...   \n",
       "96432  the union government on monday launched cinepr...   \n",
       "83227  india is currently drafting policy to safeguar...   \n",
       "87405  the kilometre long dhola sadiya bridge in assa...   \n",
       "97707  after several media reports claiming muslim cl...   \n",
       "92812  an african american gunman nicknamed black jes...   \n",
       "98046  chairman of the confederation of indian indust...   \n",
       "98004  national racing champion ashwin sundar and his...   \n",
       "\n",
       "                                           decoder_input  \\\n",
       "97116  sostoken indian led team develops solar powere...   \n",
       "87957  sostoken air india to raise crore through sale...   \n",
       "87280  sostoken linkedin co founder leads million fun...   \n",
       "96432  sostoken govt launches online film certificati...   \n",
       "83227  sostoken india to draft law to safeguard inter...   \n",
       "87405  sostoken which are some of the longest bridges...   \n",
       "97707  sostoken no fatwa was issued against singer na...   \n",
       "92812  sostoken black jesus kills in california shout...   \n",
       "98046  sostoken arrest of stayzilla founder disturbin...   \n",
       "98004  sostoken national racing champ charred to deat...   \n",
       "\n",
       "                                          decoder_target  \\\n",
       "97116  indian led team develops solar powered electro...   \n",
       "87957  air india to raise crore through sale of prope...   \n",
       "87280  linkedin co founder leads million funding in c...   \n",
       "96432  govt launches online film certification system...   \n",
       "83227  india to draft law to safeguard interests in a...   \n",
       "87405  which are some of the longest bridges in india...   \n",
       "97707  no fatwa was issued against singer nahid afrin...   \n",
       "92812  black jesus kills in california shouts allahu ...   \n",
       "98046  arrest of stayzilla founder disturbing says in...   \n",
       "98004  national racing champ charred to death as car ...   \n",
       "\n",
       "                                           headlines_raw  \\\n",
       "97116  Indian-led team develops solar-powered 'electr...   \n",
       "87957  Air India to raise Ã¢ÂÂ¹80 crore through sale...   \n",
       "87280  LinkedIn Co-founder leads $30 million funding ...   \n",
       "96432     Govt launches Online Film Certification System   \n",
       "83227  India to draft law to safeguard interests in A...   \n",
       "87405    Which are some of the longest bridges in India?   \n",
       "97707  No 'fatwa' was issued against singer Nahid Afr...   \n",
       "92812  'Black Jesus' kills 3 in California, shouts Al...   \n",
       "98046  Arrest of Stayzilla Founder disturbing, says i...   \n",
       "98004  National racing champ charred to death as car ...   \n",
       "\n",
       "                                                text_raw  \\\n",
       "97116  Scientists at the University of Glasgow led by...   \n",
       "87957  State-run Air India plans to raise around Ã¢Â...   \n",
       "87280  LinkedIn Co-founder Reid Hoffman has led a $30...   \n",
       "96432  The Union government on Monday launched 'e-Cin...   \n",
       "83227  India is currently drafting a policy to safegu...   \n",
       "87405  The 9.15-kilometre long Dhola-Sadiya bridge in...   \n",
       "97707  After several media reports claiming 46 Muslim...   \n",
       "92812  An African-American gunman nicknamed 'Black Je...   \n",
       "98046  Chairman of the Confederation of Indian Indust...   \n",
       "98004  National racing champion Ashwin Sundar and his...   \n",
       "\n",
       "                                         summa_summarize  \n",
       "97116  Scientists at the University of Glasgow led by...  \n",
       "87957  State-run Air India plans to raise around Ã¢Â...  \n",
       "87280  Microsoft Co-founder and the world's richest p...  \n",
       "96432  The Union government on Monday launched 'e-Cin...  \n",
       "83227  India is currently drafting a policy to safegu...  \n",
       "87405  The 9.15-kilometre long Dhola-Sadiya bridge in...  \n",
       "97707  The leaflet, based on which media had reported...  \n",
       "92812  An African-American gunman nicknamed 'Black Je...  \n",
       "98046  Chairman of the Confederation of Indian Indust...  \n",
       "98004  National racing champion Ashwin Sundar and his...  "
      ]
     },
     "execution_count": 320,
     "metadata": {},
     "output_type": "execute_result"
    }
   ],
   "source": [
    "samples"
   ]
  },
  {
   "cell_type": "markdown",
   "id": "cb73e20d",
   "metadata": {},
   "source": [
    "# 테스트"
   ]
  },
  {
   "cell_type": "markdown",
   "id": "7a008e74",
   "metadata": {},
   "source": [
    "- raw 문장에서 한번에 예측까지 하는 함수를 만들었고 이를 활용하여 전체 예측과정을 수행하였다\n",
    "- 완전 새로운 뉴스데이터를 가져오려하였으나 용량 및 길이등의 문제로 test data(validation) 에서 샘플링을 하였다"
   ]
  },
  {
   "cell_type": "code",
   "execution_count": 372,
   "id": "e92da279",
   "metadata": {},
   "outputs": [],
   "source": [
    "def make_summary(text):\n",
    "    pp = preprocess_sentence(text, False)\n",
    "    ppd = src_tokenizer.texts_to_sequences([pp])\n",
    "    ps = pad_sequences(ppd, maxlen=text_max_len, padding='post')\n",
    "    result = decode_sequence(ps.reshape(1, text_max_len))\n",
    "    return result"
   ]
  },
  {
   "cell_type": "code",
   "execution_count": 373,
   "id": "eecc8613",
   "metadata": {},
   "outputs": [],
   "source": [
    "results = []\n",
    "for text in samples.text_raw:\n",
    "    result = make_summary(text)\n",
    "    results.append(result)"
   ]
  },
  {
   "cell_type": "code",
   "execution_count": 374,
   "id": "3ebc717f",
   "metadata": {},
   "outputs": [],
   "source": [
    "samples['summary'] = results"
   ]
  },
  {
   "cell_type": "code",
   "execution_count": 375,
   "id": "8642b25a",
   "metadata": {},
   "outputs": [
    {
     "data": {
      "text/html": [
       "<div>\n",
       "<style scoped>\n",
       "    .dataframe tbody tr th:only-of-type {\n",
       "        vertical-align: middle;\n",
       "    }\n",
       "\n",
       "    .dataframe tbody tr th {\n",
       "        vertical-align: top;\n",
       "    }\n",
       "\n",
       "    .dataframe thead th {\n",
       "        text-align: right;\n",
       "    }\n",
       "</style>\n",
       "<table border=\"1\" class=\"dataframe\">\n",
       "  <thead>\n",
       "    <tr style=\"text-align: right;\">\n",
       "      <th></th>\n",
       "      <th>headlines</th>\n",
       "      <th>text</th>\n",
       "      <th>decoder_input</th>\n",
       "      <th>decoder_target</th>\n",
       "      <th>headlines_raw</th>\n",
       "      <th>text_raw</th>\n",
       "      <th>summa_summarize</th>\n",
       "      <th>summary</th>\n",
       "    </tr>\n",
       "  </thead>\n",
       "  <tbody>\n",
       "    <tr>\n",
       "      <th>97116</th>\n",
       "      <td>indian led team develops solar powered electro...</td>\n",
       "      <td>scientists at the university of glasgow led by...</td>\n",
       "      <td>sostoken indian led team develops solar powere...</td>\n",
       "      <td>indian led team develops solar powered electro...</td>\n",
       "      <td>Indian-led team develops solar-powered 'electr...</td>\n",
       "      <td>Scientists at the University of Glasgow led by...</td>\n",
       "      <td>Scientists at the University of Glasgow led by...</td>\n",
       "      <td>india ceo pay hike for indian exchange pay for</td>\n",
       "    </tr>\n",
       "    <tr>\n",
       "      <th>87957</th>\n",
       "      <td>air india to raise crore through sale of prope...</td>\n",
       "      <td>state run air india plans to raise around cror...</td>\n",
       "      <td>sostoken air india to raise crore through sale...</td>\n",
       "      <td>air india to raise crore through sale of prope...</td>\n",
       "      <td>Air India to raise Ã¢ÂÂ¹80 crore through sale...</td>\n",
       "      <td>State-run Air India plans to raise around Ã¢Â...</td>\n",
       "      <td>State-run Air India plans to raise around Ã¢Â...</td>\n",
       "      <td>couple to buy india for crore in india</td>\n",
       "    </tr>\n",
       "    <tr>\n",
       "      <th>87280</th>\n",
       "      <td>linkedin co founder leads million funding in c...</td>\n",
       "      <td>linkedin co founder reid hoffman has led milli...</td>\n",
       "      <td>sostoken linkedin co founder leads million fun...</td>\n",
       "      <td>linkedin co founder leads million funding in c...</td>\n",
       "      <td>LinkedIn Co-founder leads $30 million funding ...</td>\n",
       "      <td>LinkedIn Co-founder Reid Hoffman has led a $30...</td>\n",
       "      <td>Microsoft Co-founder and the world's richest p...</td>\n",
       "      <td>ceo of ceo who quit as ceo of hindostan report</td>\n",
       "    </tr>\n",
       "    <tr>\n",
       "      <th>96432</th>\n",
       "      <td>govt launches online film certification system</td>\n",
       "      <td>the union government on monday launched cinepr...</td>\n",
       "      <td>sostoken govt launches online film certificati...</td>\n",
       "      <td>govt launches online film certification system...</td>\n",
       "      <td>Govt launches Online Film Certification System</td>\n",
       "      <td>The Union government on Monday launched 'e-Cin...</td>\n",
       "      <td>The Union government on Monday launched 'e-Cin...</td>\n",
       "      <td>govt to sell child accident in delhi ncr</td>\n",
       "    </tr>\n",
       "    <tr>\n",
       "      <th>83227</th>\n",
       "      <td>india to draft law to safeguard interests in a...</td>\n",
       "      <td>india is currently drafting policy to safeguar...</td>\n",
       "      <td>sostoken india to draft law to safeguard inter...</td>\n",
       "      <td>india to draft law to safeguard interests in a...</td>\n",
       "      <td>India to draft law to safeguard interests in A...</td>\n",
       "      <td>India is currently drafting a policy to safegu...</td>\n",
       "      <td>India is currently drafting a policy to safegu...</td>\n",
       "      <td>india to be part of doing business due to lack...</td>\n",
       "    </tr>\n",
       "  </tbody>\n",
       "</table>\n",
       "</div>"
      ],
      "text/plain": [
       "                                               headlines  \\\n",
       "97116  indian led team develops solar powered electro...   \n",
       "87957  air india to raise crore through sale of prope...   \n",
       "87280  linkedin co founder leads million funding in c...   \n",
       "96432     govt launches online film certification system   \n",
       "83227  india to draft law to safeguard interests in a...   \n",
       "\n",
       "                                                    text  \\\n",
       "97116  scientists at the university of glasgow led by...   \n",
       "87957  state run air india plans to raise around cror...   \n",
       "87280  linkedin co founder reid hoffman has led milli...   \n",
       "96432  the union government on monday launched cinepr...   \n",
       "83227  india is currently drafting policy to safeguar...   \n",
       "\n",
       "                                           decoder_input  \\\n",
       "97116  sostoken indian led team develops solar powere...   \n",
       "87957  sostoken air india to raise crore through sale...   \n",
       "87280  sostoken linkedin co founder leads million fun...   \n",
       "96432  sostoken govt launches online film certificati...   \n",
       "83227  sostoken india to draft law to safeguard inter...   \n",
       "\n",
       "                                          decoder_target  \\\n",
       "97116  indian led team develops solar powered electro...   \n",
       "87957  air india to raise crore through sale of prope...   \n",
       "87280  linkedin co founder leads million funding in c...   \n",
       "96432  govt launches online film certification system...   \n",
       "83227  india to draft law to safeguard interests in a...   \n",
       "\n",
       "                                           headlines_raw  \\\n",
       "97116  Indian-led team develops solar-powered 'electr...   \n",
       "87957  Air India to raise Ã¢ÂÂ¹80 crore through sale...   \n",
       "87280  LinkedIn Co-founder leads $30 million funding ...   \n",
       "96432     Govt launches Online Film Certification System   \n",
       "83227  India to draft law to safeguard interests in A...   \n",
       "\n",
       "                                                text_raw  \\\n",
       "97116  Scientists at the University of Glasgow led by...   \n",
       "87957  State-run Air India plans to raise around Ã¢Â...   \n",
       "87280  LinkedIn Co-founder Reid Hoffman has led a $30...   \n",
       "96432  The Union government on Monday launched 'e-Cin...   \n",
       "83227  India is currently drafting a policy to safegu...   \n",
       "\n",
       "                                         summa_summarize  \\\n",
       "97116  Scientists at the University of Glasgow led by...   \n",
       "87957  State-run Air India plans to raise around Ã¢Â...   \n",
       "87280  Microsoft Co-founder and the world's richest p...   \n",
       "96432  The Union government on Monday launched 'e-Cin...   \n",
       "83227  India is currently drafting a policy to safegu...   \n",
       "\n",
       "                                                 summary  \n",
       "97116     india ceo pay hike for indian exchange pay for  \n",
       "87957             couple to buy india for crore in india  \n",
       "87280     ceo of ceo who quit as ceo of hindostan report  \n",
       "96432           govt to sell child accident in delhi ncr  \n",
       "83227  india to be part of doing business due to lack...  "
      ]
     },
     "execution_count": 375,
     "metadata": {},
     "output_type": "execute_result"
    }
   ],
   "source": [
    "samples.head()"
   ]
  },
  {
   "cell_type": "code",
   "execution_count": 376,
   "id": "453577c3",
   "metadata": {},
   "outputs": [
    {
     "name": "stdout",
     "output_type": "stream",
     "text": [
      "원문 : Scientists at the University of Glasgow led by Indian scientist Ravinder Dahiya have devised a synthetic skin that uses graphene to generate electricity via solar energy. The 'electronic skin' mimicks various sensory receptors found in human skin to give robots a sense of touch. The goal is to use the technology to make energy-autonomous prosthetic limbs, said Dahiya.\n",
      "실제 요약 : indian led team develops solar powered electronic skin\n",
      "예측 요약 : india ceo pay hike for indian exchange pay for\n",
      "추출적 요약 : Scientists at the University of Glasgow led by Indian scientist Ravinder Dahiya have devised a synthetic skin that uses graphene to generate electricity via solar energy.\n",
      "\n",
      "\n",
      "원문 : State-run Air India plans to raise around Ã¢ÂÂ¹80 crore through sale of its seven properties, which include land parcels and flats. Air India has been in possession of some properties which are lying vacant and unused. As per its financial restructuring plan approved in 2012, Air India is required to monetise its assets and generate Ã¢ÂÂ¹5,000 crore.\n",
      "실제 요약 : air india to raise crore through sale of properties\n",
      "예측 요약 : couple to buy india for crore in india\n",
      "추출적 요약 : State-run Air India plans to raise around Ã¢ÂÂ¹80 crore through sale of its seven properties, which include land parcels and flats.\n",
      "\n",
      "\n",
      "원문 : LinkedIn Co-founder Reid Hoffman has led a $30 million funding round in Change.org, a petition and fundraising website focused on social and political change. This is Hoffman's biggest personal impact investment to date in a startup. Microsoft Co-founder and the world's richest person, Bill Gates, and Sam Altman, President of startup accelerator Y Combinator, also participated in the funding.\n",
      "실제 요약 : linkedin co founder leads million funding in change org\n",
      "예측 요약 : ceo of ceo who quit as ceo of hindostan report\n",
      "추출적 요약 : Microsoft Co-founder and the world's richest person, Bill Gates, and Sam Altman, President of startup accelerator Y Combinator, also participated in the funding.\n",
      "\n",
      "\n",
      "원문 : The Union government on Monday launched 'e-CinePramaan', the Online Film Certification System of the Central Board of Film Certification. This will make the process for films to obtain a certificate fully digital and will include QR Codes to check fraudulent certificates. \"A highlight of online film certification is elimination of middlemen and of corruption,\" said I&B Minister M Venkaiah Naidu.\n",
      "실제 요약 : govt launches online film certification system\n",
      "예측 요약 : govt to sell child accident in delhi ncr\n",
      "추출적 요약 : The Union government on Monday launched 'e-CinePramaan', the Online Film Certification System of the Central Board of Film Certification.\n",
      "\n",
      "\n",
      "원문 : India is currently drafting a policy to safeguard its interests in Antarctica and will most likely present it at the winter session of the Parliament, reports said. Being a consultative member of the Antarctic Treaty, it is important for India to have clear directives to guide its activities in the region, officials said.\n",
      "실제 요약 : india to draft law to safeguard interests in antarctica\n",
      "예측 요약 : india to be part of doing business due to lack of hotels\n",
      "추출적 요약 : India is currently drafting a policy to safeguard its interests in Antarctica and will most likely present it at the winter session of the Parliament, reports said.\n",
      "\n",
      "\n",
      "원문 : The 9.15-kilometre long Dhola-Sadiya bridge in Assam, which was inaugurated on Friday, is the longest bridge in India. It is followed by the 5.6-kilometre Bandra-Worli Sea Link in Mumbai, which was built in 10 years. The Mahatma Gandhi Setu in Bihar, which is 5.58 kilometres in length, is the third-longest. Notably, five of India's 10 longest bridges are in Bihar.\n",
      "실제 요약 : which are some of the longest bridges in india\n",
      "예측 요약 : st indian american to be held with india prez\n",
      "추출적 요약 : The 9.15-kilometre long Dhola-Sadiya bridge in Assam, which was inaugurated on Friday, is the longest bridge in India.\n",
      "\n",
      "\n",
      "원문 : After several media reports claiming 46 Muslim clerics had issued a 'fatwa' against 16-year-old Assam singer Nahid Afrin, Hindustan Times has claimed that no such fatwa was issued. The leaflet, based on which media had reported the 'fatwa', did not mention Afrin's name. However, it branded the programme where Afrin was scheduled to perform as 'against the Sharia'.\n",
      "실제 요약 : no fatwa was issued against singer nahid afrin reports\n",
      "예측 요약 : how did the word of the of the body\n",
      "추출적 요약 : The leaflet, based on which media had reported the 'fatwa', did not mention Afrin's name.\n",
      "\n",
      "\n",
      "원문 : An African-American gunman nicknamed 'Black Jesus' killed three white men on Tuesday in California and shouted \"Allahu Akbar\" (God is great) while being apprehended by the police, according to reports. The gunman hates white people and wanted to kill as many people as possible after an arrest warrant was issued against him for a murder last week, the police said.\n",
      "실제 요약 : black jesus kills in california shouts allahu akbar\n",
      "예측 요약 : jet airways cancels alert after being beaten to prevent accidents\n",
      "추출적 요약 : An African-American gunman nicknamed 'Black Jesus' killed three white men on Tuesday in California and shouted \"Allahu Akbar\" (God is great) while being apprehended by the police, according to reports.\n",
      "\n",
      "\n",
      "원문 : Chairman of the Confederation of Indian Industry's Startup Council, Kris Gopalakrishnan has called the arrest of Stayzilla Co-founder Yogendra Vasupal over unpaid dues \"disturbing\". He added, \"Startups which fail should ideally be treated by a separate exit/bankruptcy law or civil laws, and not criminal laws, which is also in line with the goal of Startup India.\"\n",
      "실제 요약 : arrest of stayzilla founder disturbing says industry body\n",
      "예측 요약 : people in toilets at in the last\n",
      "추출적 요약 : Chairman of the Confederation of Indian Industry's Startup Council, Kris Gopalakrishnan has called the arrest of Stayzilla Co-founder Yogendra Vasupal over unpaid dues \"disturbing\".\n",
      "\n",
      "\n",
      "원문 : National racing champion Ashwin Sundar and his wife died in a car accident in Chennai on Friday night. The couple was travelling in a BMW Z4 at high speed with Ashwin driving when the car reportedly rammed into a tree and burst into flames. The 27-year-old racer had previously driven for German racing team Ma-Con Motorsport in 2008.\n",
      "실제 요약 : national racing champ charred to death as car catches fire\n",
      "예측 요약 : people of the story of the people in\n",
      "추출적 요약 : National racing champion Ashwin Sundar and his wife died in a car accident in Chennai on Friday night.\n",
      "\n",
      "\n"
     ]
    }
   ],
   "source": [
    "for i in range(10):\n",
    "    print(\"원문 :\", samples.text_raw.tolist()[i])\n",
    "    print(\"실제 요약 :\", samples.headlines.tolist()[i])\n",
    "    print(\"예측 요약 :\", samples.summary.tolist()[i])\n",
    "    print(\"추출적 요약 :\", samples.summa_summarize.tolist()[i])\n",
    "    print(\"\\n\")"
   ]
  },
  {
   "cell_type": "code",
   "execution_count": 377,
   "id": "03dad0ad",
   "metadata": {},
   "outputs": [],
   "source": [
    "# !pip install rouge-score"
   ]
  },
  {
   "cell_type": "code",
   "execution_count": 378,
   "id": "e422e267",
   "metadata": {
    "scrolled": true
   },
   "outputs": [],
   "source": [
    "from rouge_score import rouge_scorer"
   ]
  },
  {
   "cell_type": "code",
   "execution_count": 379,
   "id": "e451ff1c",
   "metadata": {},
   "outputs": [],
   "source": [
    "reference_summaries = samples.headlines.tolist()\n",
    "generated_summaries = samples.summary.tolist()"
   ]
  },
  {
   "cell_type": "code",
   "execution_count": 380,
   "id": "cb7340d0",
   "metadata": {},
   "outputs": [
    {
     "name": "stdout",
     "output_type": "stream",
     "text": [
      "Average ROUGE-1:  0.10102707749766573\n",
      "Average ROUGE-2:  0.010526315789473686\n",
      "Average ROUGE-L:  0.0892623716153128\n"
     ]
    }
   ],
   "source": [
    "scorer = rouge_scorer.RougeScorer(['rouge1', 'rouge2', 'rougeL'], use_stemmer=True)\n",
    "\n",
    "rouge1_scores = []\n",
    "rouge2_scores = []\n",
    "rougeL_scores = []\n",
    "\n",
    "for ref, gen in zip(reference_summaries, generated_summaries):\n",
    "    scores = scorer.score(ref, gen)\n",
    "    rouge1_scores.append(scores['rouge1'].fmeasure)\n",
    "    rouge2_scores.append(scores['rouge2'].fmeasure)\n",
    "    rougeL_scores.append(scores['rougeL'].fmeasure)\n",
    "\n",
    "print(\"Average ROUGE-1: \", np.mean(rouge1_scores))\n",
    "print(\"Average ROUGE-2: \", np.mean(rouge2_scores))\n",
    "print(\"Average ROUGE-L: \", np.mean(rougeL_scores))"
   ]
  },
  {
   "cell_type": "markdown",
   "id": "044af79b",
   "metadata": {},
   "source": [
    "### 결과 해석\n",
    "#### Average ROUGE-1: 0.101\n",
    "\n",
    "    - 해석: 생성된 요약에서 참조 요약과 단어 단위로 10.1% 일치합니다.\n",
    "    - 의미: 10.1%의 단어가 참조 요약과 일치한다는 것을 의미합니다. \n",
    "        - 이는 비교적 낮은 일치율로, 생성된 요약이 참조 요약과 많은 부분에서 차이가 있다는 것을 나타냅니다.\n",
    "\n",
    "#### Average ROUGE-2: 0.0105\n",
    "\n",
    "    - 해석: 생성된 요약에서 참조 요약과 2-그램(단어 쌍) 단위로 1.05% 일치합니다.\n",
    "    - 의미: 2-그램의 일치율이 매우 낮다는 것은, 생성된 요약이 참조 요약과 거의 일치하지 않는다는 것을 의미합니다. \n",
    "        - 이는 요약 모델이 문장 구조나 연속된 단어 쌍을 제대로 반영하지 못했음을 나타냅니다.\n",
    "\n",
    "#### Average ROUGE-L: 0.089\n",
    "\n",
    "    - 해석: 생성된 요약에서 참조 요약과 최장 공통 부분열(Longest Common Subsequence, LCS) 단위로 8.9% 일치합니다.\n",
    "    - 의미: LCS 기반의 일치율이 8.9%라는 것은, 생성된 요약이 참조 요약과 긴 부분열에서 일치하는 경우가 적다는 것을 의미합니다. \n",
    "        - 이는 요약 모델이 문장의 중요한 흐름이나 구조를 잘 유지하지 못했음을 나타냅니다."
   ]
  },
  {
   "cell_type": "markdown",
   "id": "4fa87287",
   "metadata": {},
   "source": [
    "### 눈으로 보고 결과 확인하기"
   ]
  },
  {
   "cell_type": "markdown",
   "id": "4862ed81",
   "metadata": {},
   "source": [
    "- 원문 : The Union government on Monday launched 'e-CinePramaan', the Online Film Certification System of the Central Board of Film Certification. This will make the process for films to obtain a certificate fully digital and will include QR Codes to check fraudulent certificates. \"A highlight of online film certification is elimination of middlemen and of corruption,\" said I&B Minister M Venkaiah Naidu.\n",
    "- 실제 요약 : govt launches online film certification system\n",
    "- 예측 요약 : govt to sell child accident in delhi ncr\n",
    "- 추출적 요약 : The Union government on Monday launched 'e-CinePramaan', the Online Film Certification System of the Central Board of Film Certification.\n",
    "\n",
    "-----\n",
    "- 원문 : India is currently drafting a policy to safeguard its interests in Antarctica and will most likely present it at the winter session of the Parliament, reports said. Being a consultative member of the Antarctic Treaty, it is important for India to have clear directives to guide its activities in the region, officials said.\n",
    "- 실제 요약 : india to draft law to safeguard interests in antarctica\n",
    "- 예측 요약 : india to be part of doing business due to lack of hotels\n",
    "- 추출적 요약 : India is currently drafting a policy to safeguard its interests in Antarctica and will most likely present it at the winter session of the Parliament, reports said.\n",
    "\n",
    "-----\n",
    "- 원문 : The 9.15-kilometre long Dhola-Sadiya bridge in Assam, which was inaugurated on Friday, is the longest bridge in India. It is followed by the 5.6-kilometre Bandra-Worli Sea Link in Mumbai, which was built in 10 years. The Mahatma Gandhi Setu in Bihar, which is 5.58 kilometres in length, is the third-longest. Notably, five of India's 10 longest bridges are in Bihar.\n",
    "- 실제 요약 : which are some of the longest bridges in india\n",
    "- 예측 요약 : st indian american to be held with india prez\n",
    "- 추출적 요약 : The 9.15-kilometre long Dhola-Sadiya bridge in Assam, which was inaugurated on Friday, is the longest bridge in India."
   ]
  },
  {
   "cell_type": "markdown",
   "id": "46d95e5b",
   "metadata": {},
   "source": [
    "| 구분 | 추상적 요약 방식  | 추출적 요약 방식  |\n",
    "|-----|---|---|\n",
    "|문법완성도| 문법 완성도가 높지 않다 | 문법 완성도 있는 문장이 보여진다 |\n",
    "|핵심단어 포함| 핵심단어가 꽤 포함되는 것으로 보인다. <br> paraphrase 되어서 유사어가 나오는 경우도 볼 수 있었다 | 핵심단어가 포함된다  |\n",
    "| 장점 | 다양한 단어들을 볼 수 있다. 요약 길이 조절이 편하다 | 문법 완성도 있는 문장이 만들어진다 |\n",
    "| 단점 | 모델이 아직 정확도가 떨어지는 것으로 보인다  | 뉴스의 길이가 일정 길이 이상이 되어야 요약이 된다  |\n"
   ]
  },
  {
   "cell_type": "markdown",
   "id": "67d5f313",
   "metadata": {},
   "source": [
    "## 회고"
   ]
  },
  {
   "cell_type": "markdown",
   "id": "2a56e2bd",
   "metadata": {},
   "source": [
    "- __배운 점__\n",
    "    >- 자연어 요약 모델링을 했다\n",
    "    >- 전체 과정을 수행하면서 실제로 어떤 구조로 이루어져 있는지 알 수 있었다\n",
    "\n",
    "- __아쉬운 점__\n",
    "    >- 끝내는 데 급급해서 좀 더 자세하게 모델을 파악하지 못한 점이 아쉽다\n",
    "    >- 정교한 전처리, 모델링을 해보지 못해서 아쉽다\n",
    "    >- 성능이 많이 떨어져서 아쉽다\n",
    "- __느낀 점__\n",
    "    >- 자연어 처리 모델링은 너무 어렵다\n",
    "    >- 좀 더 꼼꼼하게 공부를 해야할 것 같다\n",
    "- __어려웠던 점__\n",
    "    >- summa summarize를 사용하는데 너무 짧은 문장은 요약이 안되는 것 같았다.\n",
    "----\n",
    "- __추가 사항__\n",
    "    >- summa에서 키워드 추출을 해봐야겠다"
   ]
  }
 ],
 "metadata": {
  "kernelspec": {
   "display_name": "Python 3 (ipykernel)",
   "language": "python",
   "name": "python3"
  },
  "language_info": {
   "codemirror_mode": {
    "name": "ipython",
    "version": 3
   },
   "file_extension": ".py",
   "mimetype": "text/x-python",
   "name": "python",
   "nbconvert_exporter": "python",
   "pygments_lexer": "ipython3",
   "version": "3.9.7"
  }
 },
 "nbformat": 4,
 "nbformat_minor": 5
}
