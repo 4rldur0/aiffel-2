{
 "cells": [
  {
   "cell_type": "markdown",
   "id": "071c8034",
   "metadata": {},
   "source": [
    "# 프로젝트: 뉴스기사 요약해보기"
   ]
  },
  {
   "cell_type": "code",
   "execution_count": 1,
   "id": "ea52168a",
   "metadata": {},
   "outputs": [
    {
     "name": "stdout",
     "output_type": "stream",
     "text": [
      "3.6.5\n",
      "2.6.0\n",
      "1.3.3\n",
      "1.2.0\n"
     ]
    }
   ],
   "source": [
    "from importlib.metadata import version\n",
    "import nltk\n",
    "import tensorflow\n",
    "import summa\n",
    "import pandas\n",
    "\n",
    "print(nltk.__version__)\n",
    "print(tensorflow.__version__)\n",
    "print(pandas.__version__)\n",
    "print(version('summa'))"
   ]
  },
  {
   "cell_type": "code",
   "execution_count": 2,
   "id": "8d7c82d8",
   "metadata": {},
   "outputs": [
    {
     "name": "stderr",
     "output_type": "stream",
     "text": [
      "[nltk_data] Downloading package stopwords to /aiffel/nltk_data...\n",
      "[nltk_data]   Package stopwords is already up-to-date!\n"
     ]
    }
   ],
   "source": [
    "import nltk\n",
    "nltk.download('stopwords')\n",
    "\n",
    "import numpy as np\n",
    "import pandas as pd\n",
    "import os\n",
    "import re\n",
    "import matplotlib.pyplot as plt\n",
    "from nltk.corpus import stopwords\n",
    "from bs4 import BeautifulSoup \n",
    "from tensorflow.keras.preprocessing.text import Tokenizer \n",
    "from tensorflow.keras.preprocessing.sequence import pad_sequences\n",
    "import urllib.request\n",
    "import warnings\n",
    "warnings.filterwarnings(\"ignore\", category=UserWarning, module='bs4')"
   ]
  },
  {
   "cell_type": "markdown",
   "id": "a99bad01",
   "metadata": {},
   "source": [
    "# Step 1. 데이터 수집하기"
   ]
  },
  {
   "cell_type": "code",
   "execution_count": 3,
   "id": "c3f3638d",
   "metadata": {},
   "outputs": [],
   "source": [
    "import urllib.request\n",
    "urllib.request.urlretrieve(\"https://raw.githubusercontent.com/sunnysai12345/News_Summary/master/news_summary_more.csv\", filename=\"news_summary_more.csv\")\n",
    "data = pd.read_csv('news_summary_more.csv', encoding='iso-8859-1')"
   ]
  },
  {
   "cell_type": "code",
   "execution_count": 4,
   "id": "47362755",
   "metadata": {},
   "outputs": [
    {
     "data": {
      "text/html": [
       "<div>\n",
       "<style scoped>\n",
       "    .dataframe tbody tr th:only-of-type {\n",
       "        vertical-align: middle;\n",
       "    }\n",
       "\n",
       "    .dataframe tbody tr th {\n",
       "        vertical-align: top;\n",
       "    }\n",
       "\n",
       "    .dataframe thead th {\n",
       "        text-align: right;\n",
       "    }\n",
       "</style>\n",
       "<table border=\"1\" class=\"dataframe\">\n",
       "  <thead>\n",
       "    <tr style=\"text-align: right;\">\n",
       "      <th></th>\n",
       "      <th>headlines</th>\n",
       "      <th>text</th>\n",
       "    </tr>\n",
       "  </thead>\n",
       "  <tbody>\n",
       "    <tr>\n",
       "      <th>43244</th>\n",
       "      <td>United flight diverted after dog placed on wro...</td>\n",
       "      <td>A Newark-Missouri United Airlines flight was d...</td>\n",
       "    </tr>\n",
       "    <tr>\n",
       "      <th>29143</th>\n",
       "      <td>What do trolls expect me to wear while swimmin...</td>\n",
       "      <td>Malaika Arora, who got trolled last week for p...</td>\n",
       "    </tr>\n",
       "    <tr>\n",
       "      <th>16815</th>\n",
       "      <td>Trump praises 'exciting' agreements by Kim Jon...</td>\n",
       "      <td>US President Donald Trump on Wednesday praised...</td>\n",
       "    </tr>\n",
       "    <tr>\n",
       "      <th>7080</th>\n",
       "      <td>EVM machine found lying on road in Rajasthan, ...</td>\n",
       "      <td>An EVM machine was found lying unattended on t...</td>\n",
       "    </tr>\n",
       "    <tr>\n",
       "      <th>92645</th>\n",
       "      <td>Henry Cavill's look from Mission: Impossible 6...</td>\n",
       "      <td>Actor Henry Cavill's look from the upcoming ac...</td>\n",
       "    </tr>\n",
       "    <tr>\n",
       "      <th>3794</th>\n",
       "      <td>Trucking startup Fortigo to raise $50mn to ent...</td>\n",
       "      <td>Bengaluru-based trucking logistics startup 4Ti...</td>\n",
       "    </tr>\n",
       "    <tr>\n",
       "      <th>5323</th>\n",
       "      <td>Sachin Bansal registers new company after $1 b...</td>\n",
       "      <td>Flipkart Co-founder Sachin Bansal, along with ...</td>\n",
       "    </tr>\n",
       "    <tr>\n",
       "      <th>5266</th>\n",
       "      <td>Police busts call centre in Noida duping US ci...</td>\n",
       "      <td>The Noida Police has arrested 126 people after...</td>\n",
       "    </tr>\n",
       "    <tr>\n",
       "      <th>62053</th>\n",
       "      <td>Tejashwi took loan from liquor manufacturer: S...</td>\n",
       "      <td>Bihar Deputy CM Sushil Modi on Tuesday alleged...</td>\n",
       "    </tr>\n",
       "    <tr>\n",
       "      <th>98073</th>\n",
       "      <td>4 crore tourists visited Rajasthan in 2016: St...</td>\n",
       "      <td>Rajasthan's Rural Development Minister Rajendr...</td>\n",
       "    </tr>\n",
       "  </tbody>\n",
       "</table>\n",
       "</div>"
      ],
      "text/plain": [
       "                                               headlines  \\\n",
       "43244  United flight diverted after dog placed on wro...   \n",
       "29143  What do trolls expect me to wear while swimmin...   \n",
       "16815  Trump praises 'exciting' agreements by Kim Jon...   \n",
       "7080   EVM machine found lying on road in Rajasthan, ...   \n",
       "92645  Henry Cavill's look from Mission: Impossible 6...   \n",
       "3794   Trucking startup Fortigo to raise $50mn to ent...   \n",
       "5323   Sachin Bansal registers new company after $1 b...   \n",
       "5266   Police busts call centre in Noida duping US ci...   \n",
       "62053  Tejashwi took loan from liquor manufacturer: S...   \n",
       "98073  4 crore tourists visited Rajasthan in 2016: St...   \n",
       "\n",
       "                                                    text  \n",
       "43244  A Newark-Missouri United Airlines flight was d...  \n",
       "29143  Malaika Arora, who got trolled last week for p...  \n",
       "16815  US President Donald Trump on Wednesday praised...  \n",
       "7080   An EVM machine was found lying unattended on t...  \n",
       "92645  Actor Henry Cavill's look from the upcoming ac...  \n",
       "3794   Bengaluru-based trucking logistics startup 4Ti...  \n",
       "5323   Flipkart Co-founder Sachin Bansal, along with ...  \n",
       "5266   The Noida Police has arrested 126 people after...  \n",
       "62053  Bihar Deputy CM Sushil Modi on Tuesday alleged...  \n",
       "98073  Rajasthan's Rural Development Minister Rajendr...  "
      ]
     },
     "execution_count": 4,
     "metadata": {},
     "output_type": "execute_result"
    }
   ],
   "source": [
    "data.sample(10)"
   ]
  },
  {
   "cell_type": "markdown",
   "id": "3344c6d9",
   "metadata": {},
   "source": [
    "# Step 2. 데이터 전처리하기 (추상적 요약)\n",
    "\n",
    "실습에서 사용된 전처리를 참고하여 각자 필요하다고 생각하는 전처리를 추가 사용하여 텍스트를 정규화 또는 정제해 보세요. 만약, 불용어 제거를 선택한다면 상대적으로 길이가 짧은 요약 데이터에 대해서도 불용어를 제거하는 것이 좋을지 고민해 보세요."
   ]
  },
  {
   "cell_type": "code",
   "execution_count": 5,
   "id": "de05f350",
   "metadata": {},
   "outputs": [
    {
     "data": {
      "text/plain": [
       "(98401, 2)"
      ]
     },
     "execution_count": 5,
     "metadata": {},
     "output_type": "execute_result"
    }
   ],
   "source": [
    "data.shape"
   ]
  },
  {
   "cell_type": "code",
   "execution_count": 6,
   "id": "602631ae",
   "metadata": {},
   "outputs": [
    {
     "name": "stdout",
     "output_type": "stream",
     "text": [
      "headlines 열에서 중복을 배제한 유일한 샘플의 수 : 98280\n",
      "text 열에서 중복을 배제한 유일한 샘플의 수 : 98360\n"
     ]
    }
   ],
   "source": [
    "print('headlines 열에서 중복을 배제한 유일한 샘플의 수 :', data['headlines'].nunique())\n",
    "print('text 열에서 중복을 배제한 유일한 샘플의 수 :', data['text'].nunique())"
   ]
  },
  {
   "cell_type": "code",
   "execution_count": 7,
   "id": "3a70776d",
   "metadata": {},
   "outputs": [
    {
     "name": "stdout",
     "output_type": "stream",
     "text": [
      "전체 샘플수 : 98360\n"
     ]
    }
   ],
   "source": [
    "data.drop_duplicates(subset = ['text'], inplace=True)\n",
    "print('전체 샘플수 :', (len(data)))"
   ]
  },
  {
   "cell_type": "code",
   "execution_count": 8,
   "id": "0f5bba91",
   "metadata": {},
   "outputs": [
    {
     "name": "stdout",
     "output_type": "stream",
     "text": [
      "headlines    0\n",
      "text         0\n",
      "dtype: int64\n"
     ]
    }
   ],
   "source": [
    "print(data.isnull().sum())"
   ]
  },
  {
   "cell_type": "markdown",
   "id": "9169ceec",
   "metadata": {},
   "source": [
    "## 텍스트 정규화와 불용어 제거"
   ]
  },
  {
   "cell_type": "markdown",
   "id": "e39f40e8",
   "metadata": {},
   "source": [
    "- 직접 눈으로 단어를 몇개 보면서 전처리 방식을 수정하였다.\n",
    "-  '&' -> ' and '로,  \\' -> '로 교체\n",
    "- A&B일 경우를 고려해 ' and '로 전처리 한것을 감안해 다중 공백 제거하는 전처리를 추가하였다\n",
    "- 불용어는 no나 not 같은 부정어들까지 사라지게 하므로 일단은 불용어는 제거하지 않았다"
   ]
  },
  {
   "cell_type": "code",
   "execution_count": 9,
   "id": "ef75f77a",
   "metadata": {},
   "outputs": [
    {
     "data": {
      "text/html": [
       "<div>\n",
       "<style scoped>\n",
       "    .dataframe tbody tr th:only-of-type {\n",
       "        vertical-align: middle;\n",
       "    }\n",
       "\n",
       "    .dataframe tbody tr th {\n",
       "        vertical-align: top;\n",
       "    }\n",
       "\n",
       "    .dataframe thead th {\n",
       "        text-align: right;\n",
       "    }\n",
       "</style>\n",
       "<table border=\"1\" class=\"dataframe\">\n",
       "  <thead>\n",
       "    <tr style=\"text-align: right;\">\n",
       "      <th></th>\n",
       "      <th>headlines</th>\n",
       "      <th>text</th>\n",
       "    </tr>\n",
       "  </thead>\n",
       "  <tbody>\n",
       "    <tr>\n",
       "      <th>24965</th>\n",
       "      <td>Balika Vadhu actor arrested as his BMW hits 3 ...</td>\n",
       "      <td>TV actor Siddharth Shukla, known for his role ...</td>\n",
       "    </tr>\n",
       "    <tr>\n",
       "      <th>66746</th>\n",
       "      <td>Paper plane thrown from stands soars into goal...</td>\n",
       "      <td>A paper plane soared into the goal during an E...</td>\n",
       "    </tr>\n",
       "    <tr>\n",
       "      <th>80861</th>\n",
       "      <td>White House strongly condemns Amarnath terror ...</td>\n",
       "      <td>The White House has strongly condemned the ter...</td>\n",
       "    </tr>\n",
       "    <tr>\n",
       "      <th>56326</th>\n",
       "      <td>Two killed as Tamil Nadu Governor's convoy run...</td>\n",
       "      <td>Two people were killed and two others were inj...</td>\n",
       "    </tr>\n",
       "    <tr>\n",
       "      <th>97508</th>\n",
       "      <td>No association of missing JNU student with IS:...</td>\n",
       "      <td>The Delhi Police on Tuesday rubbished media re...</td>\n",
       "    </tr>\n",
       "  </tbody>\n",
       "</table>\n",
       "</div>"
      ],
      "text/plain": [
       "                                               headlines  \\\n",
       "24965  Balika Vadhu actor arrested as his BMW hits 3 ...   \n",
       "66746  Paper plane thrown from stands soars into goal...   \n",
       "80861  White House strongly condemns Amarnath terror ...   \n",
       "56326  Two killed as Tamil Nadu Governor's convoy run...   \n",
       "97508  No association of missing JNU student with IS:...   \n",
       "\n",
       "                                                    text  \n",
       "24965  TV actor Siddharth Shukla, known for his role ...  \n",
       "66746  A paper plane soared into the goal during an E...  \n",
       "80861  The White House has strongly condemned the ter...  \n",
       "56326  Two people were killed and two others were inj...  \n",
       "97508  The Delhi Police on Tuesday rubbished media re...  "
      ]
     },
     "execution_count": 9,
     "metadata": {},
     "output_type": "execute_result"
    }
   ],
   "source": [
    "data.sample(5)"
   ]
  },
  {
   "cell_type": "code",
   "execution_count": 10,
   "id": "6a3c221b",
   "metadata": {},
   "outputs": [
    {
     "data": {
      "text/plain": [
       "['WeWork to be valued at $35 billion, more than Airbnb, SpaceX',\n",
       " 'NASA sends 1st man-made object between Saturn and its rings',\n",
       " 'Delhi Police tweets picture of its first wireless set',\n",
       " 'Kept promise made to victim: Cops who probed Nirbhaya case',\n",
       " '40 HIV cases found after locals treated with common syringe']"
      ]
     },
     "execution_count": 10,
     "metadata": {},
     "output_type": "execute_result"
    }
   ],
   "source": [
    "data.headlines.sample(5).tolist()"
   ]
  },
  {
   "cell_type": "code",
   "execution_count": 11,
   "id": "f7c23d3e",
   "metadata": {},
   "outputs": [
    {
     "data": {
      "text/plain": [
       "['Italian neurosurgeon Sergio Canavero, famed for his plans to perform the first human head transplant, has now claimed to have severed spinal cords of 15 mice which were then surgically reattached. Nine mice, reconnected with a special \"glue\" were able to move after 28 days while six mice treated with saline didn\\'t recover. However, all mice died within a month.',\n",
       " 'Miss Moscow 2015 Oksana Voevodina got married to 49-year-old Malaysian King Sultan Muhammad V reportedly in Russia last week. The wedding held in the Russian capital of Moscow incorporated both Islamic and Russian traditions, according to reports. Voevodina had converted to Islam and changed her name earlier this year, reports added.',\n",
       " 'Nineteen-time Grand Slam champion Roger Federer took to Twitter to congratulate his hometown club FC Basel on its victory in the Champions League against Manchester United. \"Words can\\'t possibly describe this incredible moment for this club, wow!!!! Congrats to the team,\" Federer wrote. Basel scored in the 89th minute to hand United their first loss of the Champions League season.',\n",
       " 'Poland-born scientist Marie Curie, known for her discovery of radium and polonium, died on July 4, 1934, due to continued exposure to radiation. Unaware of ill-effects of radiation, Marie liked to keep radium by her bed as it shone in darkness. Marie and her husband Pierre Curie won the Physics Nobel in 1903 before her solo Chemistry Nobel in 1911.',\n",
       " 'Indian captain Virat Kohli, on being asked about India\\'s 18-year-old batsman Prithvi Shaw, said, \"He is a very keen learner, a sharp guy... [Y]ou need to give a youngster a space to grow.\" \"We definitely think he has it in him to play at the highest level and he can repeat what he did in the first game,\" Kohli added.']"
      ]
     },
     "execution_count": 11,
     "metadata": {},
     "output_type": "execute_result"
    }
   ],
   "source": [
    "data.text.sample(5).tolist()"
   ]
  },
  {
   "cell_type": "code",
   "execution_count": 12,
   "id": "83f70cf4",
   "metadata": {},
   "outputs": [
    {
     "name": "stdout",
     "output_type": "stream",
     "text": [
      "정규화 사전의 수:  120\n"
     ]
    }
   ],
   "source": [
    "contractions = {\"ain't\": \"is not\", \"aren't\": \"are not\",\"can't\": \"cannot\", \"'cause\": \"because\", \"could've\": \"could have\", \"couldn't\": \"could not\",\n",
    "                           \"didn't\": \"did not\",  \"doesn't\": \"does not\", \"don't\": \"do not\", \"hadn't\": \"had not\", \"hasn't\": \"has not\", \"haven't\": \"have not\",\n",
    "                           \"he'd\": \"he would\",\"he'll\": \"he will\", \"he's\": \"he is\", \"how'd\": \"how did\", \"how'd'y\": \"how do you\", \"how'll\": \"how will\", \"how's\": \"how is\",\n",
    "                           \"I'd\": \"I would\", \"I'd've\": \"I would have\", \"I'll\": \"I will\", \"I'll've\": \"I will have\",\"I'm\": \"I am\", \"I've\": \"I have\", \"i'd\": \"i would\",\n",
    "                           \"i'd've\": \"i would have\", \"i'll\": \"i will\",  \"i'll've\": \"i will have\",\"i'm\": \"i am\", \"i've\": \"i have\", \"isn't\": \"is not\", \"it'd\": \"it would\",\n",
    "                           \"it'd've\": \"it would have\", \"it'll\": \"it will\", \"it'll've\": \"it will have\",\"it's\": \"it is\", \"let's\": \"let us\", \"ma'am\": \"madam\",\n",
    "                           \"mayn't\": \"may not\", \"might've\": \"might have\",\"mightn't\": \"might not\",\"mightn't've\": \"might not have\", \"must've\": \"must have\",\n",
    "                           \"mustn't\": \"must not\", \"mustn't've\": \"must not have\", \"needn't\": \"need not\", \"needn't've\": \"need not have\",\"o'clock\": \"of the clock\",\n",
    "                           \"oughtn't\": \"ought not\", \"oughtn't've\": \"ought not have\", \"shan't\": \"shall not\", \"sha'n't\": \"shall not\", \"shan't've\": \"shall not have\",\n",
    "                           \"she'd\": \"she would\", \"she'd've\": \"she would have\", \"she'll\": \"she will\", \"she'll've\": \"she will have\", \"she's\": \"she is\",\n",
    "                           \"should've\": \"should have\", \"shouldn't\": \"should not\", \"shouldn't've\": \"should not have\", \"so've\": \"so have\",\"so's\": \"so as\",\n",
    "                           \"this's\": \"this is\",\"that'd\": \"that would\", \"that'd've\": \"that would have\", \"that's\": \"that is\", \"there'd\": \"there would\",\n",
    "                           \"there'd've\": \"there would have\", \"there's\": \"there is\", \"here's\": \"here is\",\"they'd\": \"they would\", \"they'd've\": \"they would have\",\n",
    "                           \"they'll\": \"they will\", \"they'll've\": \"they will have\", \"they're\": \"they are\", \"they've\": \"they have\", \"to've\": \"to have\",\n",
    "                           \"wasn't\": \"was not\", \"we'd\": \"we would\", \"we'd've\": \"we would have\", \"we'll\": \"we will\", \"we'll've\": \"we will have\", \"we're\": \"we are\",\n",
    "                           \"we've\": \"we have\", \"weren't\": \"were not\", \"what'll\": \"what will\", \"what'll've\": \"what will have\", \"what're\": \"what are\",\n",
    "                           \"what's\": \"what is\", \"what've\": \"what have\", \"when's\": \"when is\", \"when've\": \"when have\", \"where'd\": \"where did\", \"where's\": \"where is\",\n",
    "                           \"where've\": \"where have\", \"who'll\": \"who will\", \"who'll've\": \"who will have\", \"who's\": \"who is\", \"who've\": \"who have\",\n",
    "                           \"why's\": \"why is\", \"why've\": \"why have\", \"will've\": \"will have\", \"won't\": \"will not\", \"won't've\": \"will not have\",\n",
    "                           \"would've\": \"would have\", \"wouldn't\": \"would not\", \"wouldn't've\": \"would not have\", \"y'all\": \"you all\",\n",
    "                           \"y'all'd\": \"you all would\",\"y'all'd've\": \"you all would have\",\"y'all're\": \"you all are\",\"y'all've\": \"you all have\",\n",
    "                           \"you'd\": \"you would\", \"you'd've\": \"you would have\", \"you'll\": \"you will\", \"you'll've\": \"you will have\",\n",
    "                           \"you're\": \"you are\", \"you've\": \"you have\"}\n",
    "\n",
    "print(\"정규화 사전의 수: \", len(contractions))"
   ]
  },
  {
   "cell_type": "code",
   "execution_count": 13,
   "id": "3a34c19c",
   "metadata": {
    "scrolled": true
   },
   "outputs": [
    {
     "name": "stdout",
     "output_type": "stream",
     "text": [
      "불용어 개수 : 179\n",
      "['i', 'me', 'my', 'myself', 'we', 'our', 'ours', 'ourselves', 'you', \"you're\", \"you've\", \"you'll\", \"you'd\", 'your', 'yours', 'yourself', 'yourselves', 'he', 'him', 'his', 'himself', 'she', \"she's\", 'her', 'hers', 'herself', 'it', \"it's\", 'its', 'itself', 'they', 'them', 'their', 'theirs', 'themselves', 'what', 'which', 'who', 'whom', 'this', 'that', \"that'll\", 'these', 'those', 'am', 'is', 'are', 'was', 'were', 'be', 'been', 'being', 'have', 'has', 'had', 'having', 'do', 'does', 'did', 'doing', 'a', 'an', 'the', 'and', 'but', 'if', 'or', 'because', 'as', 'until', 'while', 'of', 'at', 'by', 'for', 'with', 'about', 'against', 'between', 'into', 'through', 'during', 'before', 'after', 'above', 'below', 'to', 'from', 'up', 'down', 'in', 'out', 'on', 'off', 'over', 'under', 'again', 'further', 'then', 'once', 'here', 'there', 'when', 'where', 'why', 'how', 'all', 'any', 'both', 'each', 'few', 'more', 'most', 'other', 'some', 'such', 'no', 'nor', 'not', 'only', 'own', 'same', 'so', 'than', 'too', 'very', 's', 't', 'can', 'will', 'just', 'don', \"don't\", 'should', \"should've\", 'now', 'd', 'll', 'm', 'o', 're', 've', 'y', 'ain', 'aren', \"aren't\", 'couldn', \"couldn't\", 'didn', \"didn't\", 'doesn', \"doesn't\", 'hadn', \"hadn't\", 'hasn', \"hasn't\", 'haven', \"haven't\", 'isn', \"isn't\", 'ma', 'mightn', \"mightn't\", 'mustn', \"mustn't\", 'needn', \"needn't\", 'shan', \"shan't\", 'shouldn', \"shouldn't\", 'wasn', \"wasn't\", 'weren', \"weren't\", 'won', \"won't\", 'wouldn', \"wouldn't\"]\n"
     ]
    }
   ],
   "source": [
    "print('불용어 개수 :', len(stopwords.words('english') ))\n",
    "print(stopwords.words('english'))"
   ]
  },
  {
   "cell_type": "code",
   "execution_count": 14,
   "id": "478e0c8a",
   "metadata": {},
   "outputs": [],
   "source": [
    "stop_words = stopwords.words('english')\n",
    "\n",
    "stop_words.remove('no')\n",
    "stop_words.remove('not')"
   ]
  },
  {
   "cell_type": "code",
   "execution_count": 16,
   "id": "beb5e554",
   "metadata": {},
   "outputs": [
    {
     "name": "stdout",
     "output_type": "stream",
     "text": [
      "['i', 'me', 'my', 'myself', 'we', 'our', 'ours', 'ourselves', 'you', \"you're\", \"you've\", \"you'll\", \"you'd\", 'your', 'yours', 'yourself', 'yourselves', 'he', 'him', 'his', 'himself', 'she', \"she's\", 'her', 'hers', 'herself', 'it', \"it's\", 'its', 'itself', 'they', 'them', 'their', 'theirs', 'themselves', 'what', 'which', 'who', 'whom', 'this', 'that', \"that'll\", 'these', 'those', 'am', 'is', 'are', 'was', 'were', 'be', 'been', 'being', 'have', 'has', 'had', 'having', 'do', 'does', 'did', 'doing', 'a', 'an', 'the', 'and', 'but', 'if', 'or', 'because', 'as', 'until', 'while', 'of', 'at', 'by', 'for', 'with', 'about', 'against', 'between', 'into', 'through', 'during', 'before', 'after', 'above', 'below', 'to', 'from', 'up', 'down', 'in', 'out', 'on', 'off', 'over', 'under', 'again', 'further', 'then', 'once', 'here', 'there', 'when', 'where', 'why', 'how', 'all', 'any', 'both', 'each', 'few', 'more', 'most', 'other', 'some', 'such', 'nor', 'only', 'own', 'same', 'so', 'than', 'too', 'very', 's', 't', 'can', 'will', 'just', 'don', \"don't\", 'should', \"should've\", 'now', 'd', 'll', 'm', 'o', 're', 've', 'y', 'ain', 'aren', \"aren't\", 'couldn', \"couldn't\", 'didn', \"didn't\", 'doesn', \"doesn't\", 'hadn', \"hadn't\", 'hasn', \"hasn't\", 'haven', \"haven't\", 'isn', \"isn't\", 'ma', 'mightn', \"mightn't\", 'mustn', \"mustn't\", 'needn', \"needn't\", 'shan', \"shan't\", 'shouldn', \"shouldn't\", 'wasn', \"wasn't\", 'weren', \"weren't\", 'won', \"won't\", 'wouldn', \"wouldn't\"]\n"
     ]
    }
   ],
   "source": [
    "print(stop_words)"
   ]
  },
  {
   "cell_type": "code",
   "execution_count": 17,
   "id": "2a94423e",
   "metadata": {},
   "outputs": [],
   "source": [
    "from tqdm import tqdm, trange\n",
    "\n",
    "tqdm.pandas()"
   ]
  },
  {
   "cell_type": "code",
   "execution_count": 22,
   "id": "061ba5c0",
   "metadata": {},
   "outputs": [],
   "source": [
    "# 데이터 전처리 함수\n",
    "\n",
    "def preprocess_sentence(sentence, remove_stopwords=True, stopwords=[]):\n",
    "    sentence = sentence.lower() # 텍스트 소문자화\n",
    "    sentence = BeautifulSoup(sentence, \"lxml\").text # <br />, <a href = ...> 등의 html 태그 제거\n",
    "    sentence = re.sub(r'\\([^)]*\\)', '', sentence) # 괄호로 닫힌 문자열 (...) 제거 Ex) my husband (and myself!) for => my husband for\n",
    "    sentence = re.sub('\\\"','', sentence) # 쌍따옴표 \" 제거\n",
    "    \n",
    "    sentence = re.sub(\"&\",\" and \", sentence) # & -> and로 교체\n",
    "    sentence = re.sub(\"\\'\",\"'\", sentence) # \\' -> '로 교체\n",
    "    sentence = ' '.join([contractions[t] if t in contractions else t for t in sentence.split(\" \")]) # 약어 정규화\n",
    "    sentence = re.sub(r\"'s\\b\",\"\", sentence) # 소유격 제거. Ex) roland's -> roland\n",
    "    sentence = re.sub(\"[^a-zA-Z]\", \" \", sentence) # 영어 외 문자(숫자, 특수문자 등) 공백으로 변환\n",
    "    sentence = re.sub('[m]{2,}', 'mm', sentence) # m이 3개 이상이면 2개로 변경. Ex) ummmmmmm yeah -> umm yeah\n",
    "    sentence = re.sub(' +', ' ', sentence) # 다중공백 제거\n",
    "    # sentence = ' '.join(sentence.split())\n",
    "     \n",
    "    # 불용어 제거 (Text)\n",
    "    if remove_stopwords:\n",
    "        tokens = ' '.join(word for word in sentence.split() if not word in stop_words if len(word) > 1)\n",
    "    # 불용어 미제거 (Summary)\n",
    "    else:\n",
    "        tokens = ' '.join(word for word in sentence.split() if len(word) > 1)\n",
    "    return tokens"
   ]
  },
  {
   "cell_type": "markdown",
   "id": "3c7ba7ba",
   "metadata": {},
   "source": [
    "불용어에 no, not 같은 단어들이 있어서 일단 불용어는 제거하지 않는다\n",
    "- stopwords 적용을 안하니 성능이 너무 좋지 않아 제거하고자 한다"
   ]
  },
  {
   "cell_type": "code",
   "execution_count": 24,
   "id": "8dcfc792",
   "metadata": {},
   "outputs": [
    {
     "name": "stderr",
     "output_type": "stream",
     "text": [
      "100%|██████████| 98360/98360 [00:33<00:00, 2965.02it/s]"
     ]
    },
    {
     "name": "stdout",
     "output_type": "stream",
     "text": [
      "text 전처리 후 결과:  ['saurav kant alumnus upgrad iiit pg program machine learning artificial intelligence sr systems engineer infosys almost years work experience program upgrad degree career support helped transition data scientist tech mahindra salary hike upgrad online power learning powered lakh careers', 'kunal shah credit card bill payment platform cred gave users chance win free food swiggy one year pranav kaushik delhi techie bagged reward spending cred coins users get one cred coin per rupee bill paid used avail rewards brands like ixigo bookmyshow ubereats cult fit', 'new zealand defeated india wickets fourth odi hamilton thursday win first match five match odi series india lost international match rohit sharma captaincy consecutive victories dating back march match witnessed india getting seventh lowest total odi cricket history', 'aegon life iterm insurance plan customers enjoy tax benefits premiums paid save taxes plan provides life cover age years also customers options insure critical illnesses disability accidental death benefit rider life cover age years', 'speaking sexual harassment allegations rajkumar hirani sonam kapoor said known hirani many years not true metoo movement get derailed metoo movement always believe woman case need reserve judgment added hirani accused assistant worked sanju']\n"
     ]
    },
    {
     "name": "stderr",
     "output_type": "stream",
     "text": [
      "\n"
     ]
    }
   ],
   "source": [
    "clean_text = data['text'].progress_apply(lambda x: preprocess_sentence(x, remove_stopwords=True, stopwords=stop_words)).tolist()\n",
    "\n",
    "print(\"text 전처리 후 결과: \", clean_text[:5])"
   ]
  },
  {
   "cell_type": "code",
   "execution_count": 25,
   "id": "eb4e1913",
   "metadata": {},
   "outputs": [
    {
     "name": "stderr",
     "output_type": "stream",
     "text": [
      "100%|██████████| 98360/98360 [00:19<00:00, 4938.30it/s]"
     ]
    },
    {
     "name": "stdout",
     "output_type": "stream",
     "text": [
      "headline 전처리 후 결과:  ['upgrad learner switches career ml al salary hike', 'delhi techie wins free food swiggy one year cred', 'new zealand end rohit sharma led india match winning streak', 'aegon life iterm insurance plan helps customers save tax', 'known hirani yrs metoo claims not true sonam']\n"
     ]
    },
    {
     "name": "stderr",
     "output_type": "stream",
     "text": [
      "\n"
     ]
    }
   ],
   "source": [
    "clean_headlines = data['headlines'].progress_apply(lambda x: preprocess_sentence(x, remove_stopwords=True, stopwords=stop_words)).tolist()\n",
    "\n",
    "print(\"headline 전처리 후 결과: \", clean_headlines[:5])"
   ]
  },
  {
   "cell_type": "code",
   "execution_count": 26,
   "id": "8b78fdf1",
   "metadata": {},
   "outputs": [],
   "source": [
    "# 원본을 news에 저장해두고 오류 발생시 다시 사용하고자 한다\n",
    "news = data.copy()"
   ]
  },
  {
   "cell_type": "code",
   "execution_count": 27,
   "id": "334327ab",
   "metadata": {
    "scrolled": true
   },
   "outputs": [],
   "source": [
    "data['text'] = clean_text\n",
    "data['headlines'] = clean_headlines\n",
    "\n",
    "# 빈 값을 Null 값으로 변환\n",
    "data.replace('', np.nan, inplace=True)"
   ]
  },
  {
   "cell_type": "code",
   "execution_count": 28,
   "id": "ace96010",
   "metadata": {},
   "outputs": [
    {
     "data": {
      "text/html": [
       "<div>\n",
       "<style scoped>\n",
       "    .dataframe tbody tr th:only-of-type {\n",
       "        vertical-align: middle;\n",
       "    }\n",
       "\n",
       "    .dataframe tbody tr th {\n",
       "        vertical-align: top;\n",
       "    }\n",
       "\n",
       "    .dataframe thead th {\n",
       "        text-align: right;\n",
       "    }\n",
       "</style>\n",
       "<table border=\"1\" class=\"dataframe\">\n",
       "  <thead>\n",
       "    <tr style=\"text-align: right;\">\n",
       "      <th></th>\n",
       "      <th>headlines</th>\n",
       "      <th>text</th>\n",
       "    </tr>\n",
       "  </thead>\n",
       "  <tbody>\n",
       "    <tr>\n",
       "      <th>0</th>\n",
       "      <td>upGrad learner switches to career in ML &amp; Al w...</td>\n",
       "      <td>Saurav Kant, an alumnus of upGrad and IIIT-B's...</td>\n",
       "    </tr>\n",
       "    <tr>\n",
       "      <th>1</th>\n",
       "      <td>Delhi techie wins free food from Swiggy for on...</td>\n",
       "      <td>Kunal Shah's credit card bill payment platform...</td>\n",
       "    </tr>\n",
       "    <tr>\n",
       "      <th>2</th>\n",
       "      <td>New Zealand end Rohit Sharma-led India's 12-ma...</td>\n",
       "      <td>New Zealand defeated India by 8 wickets in the...</td>\n",
       "    </tr>\n",
       "    <tr>\n",
       "      <th>3</th>\n",
       "      <td>Aegon life iTerm insurance plan helps customer...</td>\n",
       "      <td>With Aegon Life iTerm Insurance plan, customer...</td>\n",
       "    </tr>\n",
       "    <tr>\n",
       "      <th>4</th>\n",
       "      <td>Have known Hirani for yrs, what if MeToo claim...</td>\n",
       "      <td>Speaking about the sexual harassment allegatio...</td>\n",
       "    </tr>\n",
       "    <tr>\n",
       "      <th>...</th>\n",
       "      <td>...</td>\n",
       "      <td>...</td>\n",
       "    </tr>\n",
       "    <tr>\n",
       "      <th>98396</th>\n",
       "      <td>CRPF jawan axed to death by Maoists in Chhatti...</td>\n",
       "      <td>A CRPF jawan was on Tuesday axed to death with...</td>\n",
       "    </tr>\n",
       "    <tr>\n",
       "      <th>98397</th>\n",
       "      <td>First song from Sonakshi Sinha's 'Noor' titled...</td>\n",
       "      <td>'Uff Yeh', the first song from the Sonakshi Si...</td>\n",
       "    </tr>\n",
       "    <tr>\n",
       "      <th>98398</th>\n",
       "      <td>'The Matrix' film to get a reboot: Reports</td>\n",
       "      <td>According to reports, a new version of the 199...</td>\n",
       "    </tr>\n",
       "    <tr>\n",
       "      <th>98399</th>\n",
       "      <td>Snoop Dogg aims gun at clown dressed as Trump ...</td>\n",
       "      <td>A new music video shows rapper Snoop Dogg aimi...</td>\n",
       "    </tr>\n",
       "    <tr>\n",
       "      <th>98400</th>\n",
       "      <td>Madhesi Morcha withdraws support to Nepalese g...</td>\n",
       "      <td>Madhesi Morcha, an alliance of seven political...</td>\n",
       "    </tr>\n",
       "  </tbody>\n",
       "</table>\n",
       "<p>98360 rows × 2 columns</p>\n",
       "</div>"
      ],
      "text/plain": [
       "                                               headlines  \\\n",
       "0      upGrad learner switches to career in ML & Al w...   \n",
       "1      Delhi techie wins free food from Swiggy for on...   \n",
       "2      New Zealand end Rohit Sharma-led India's 12-ma...   \n",
       "3      Aegon life iTerm insurance plan helps customer...   \n",
       "4      Have known Hirani for yrs, what if MeToo claim...   \n",
       "...                                                  ...   \n",
       "98396  CRPF jawan axed to death by Maoists in Chhatti...   \n",
       "98397  First song from Sonakshi Sinha's 'Noor' titled...   \n",
       "98398         'The Matrix' film to get a reboot: Reports   \n",
       "98399  Snoop Dogg aims gun at clown dressed as Trump ...   \n",
       "98400  Madhesi Morcha withdraws support to Nepalese g...   \n",
       "\n",
       "                                                    text  \n",
       "0      Saurav Kant, an alumnus of upGrad and IIIT-B's...  \n",
       "1      Kunal Shah's credit card bill payment platform...  \n",
       "2      New Zealand defeated India by 8 wickets in the...  \n",
       "3      With Aegon Life iTerm Insurance plan, customer...  \n",
       "4      Speaking about the sexual harassment allegatio...  \n",
       "...                                                  ...  \n",
       "98396  A CRPF jawan was on Tuesday axed to death with...  \n",
       "98397  'Uff Yeh', the first song from the Sonakshi Si...  \n",
       "98398  According to reports, a new version of the 199...  \n",
       "98399  A new music video shows rapper Snoop Dogg aimi...  \n",
       "98400  Madhesi Morcha, an alliance of seven political...  \n",
       "\n",
       "[98360 rows x 2 columns]"
      ]
     },
     "execution_count": 28,
     "metadata": {},
     "output_type": "execute_result"
    }
   ],
   "source": [
    "news"
   ]
  },
  {
   "cell_type": "code",
   "execution_count": 29,
   "id": "148065de",
   "metadata": {},
   "outputs": [
    {
     "data": {
      "text/html": [
       "<div>\n",
       "<style scoped>\n",
       "    .dataframe tbody tr th:only-of-type {\n",
       "        vertical-align: middle;\n",
       "    }\n",
       "\n",
       "    .dataframe tbody tr th {\n",
       "        vertical-align: top;\n",
       "    }\n",
       "\n",
       "    .dataframe thead th {\n",
       "        text-align: right;\n",
       "    }\n",
       "</style>\n",
       "<table border=\"1\" class=\"dataframe\">\n",
       "  <thead>\n",
       "    <tr style=\"text-align: right;\">\n",
       "      <th></th>\n",
       "      <th>headlines</th>\n",
       "      <th>text</th>\n",
       "    </tr>\n",
       "  </thead>\n",
       "  <tbody>\n",
       "    <tr>\n",
       "      <th>0</th>\n",
       "      <td>upgrad learner switches career ml al salary hike</td>\n",
       "      <td>saurav kant alumnus upgrad iiit pg program mac...</td>\n",
       "    </tr>\n",
       "    <tr>\n",
       "      <th>1</th>\n",
       "      <td>delhi techie wins free food swiggy one year cred</td>\n",
       "      <td>kunal shah credit card bill payment platform c...</td>\n",
       "    </tr>\n",
       "    <tr>\n",
       "      <th>2</th>\n",
       "      <td>new zealand end rohit sharma led india match w...</td>\n",
       "      <td>new zealand defeated india wickets fourth odi ...</td>\n",
       "    </tr>\n",
       "    <tr>\n",
       "      <th>3</th>\n",
       "      <td>aegon life iterm insurance plan helps customer...</td>\n",
       "      <td>aegon life iterm insurance plan customers enjo...</td>\n",
       "    </tr>\n",
       "    <tr>\n",
       "      <th>4</th>\n",
       "      <td>known hirani yrs metoo claims not true sonam</td>\n",
       "      <td>speaking sexual harassment allegations rajkuma...</td>\n",
       "    </tr>\n",
       "  </tbody>\n",
       "</table>\n",
       "</div>"
      ],
      "text/plain": [
       "                                           headlines  \\\n",
       "0   upgrad learner switches career ml al salary hike   \n",
       "1   delhi techie wins free food swiggy one year cred   \n",
       "2  new zealand end rohit sharma led india match w...   \n",
       "3  aegon life iterm insurance plan helps customer...   \n",
       "4       known hirani yrs metoo claims not true sonam   \n",
       "\n",
       "                                                text  \n",
       "0  saurav kant alumnus upgrad iiit pg program mac...  \n",
       "1  kunal shah credit card bill payment platform c...  \n",
       "2  new zealand defeated india wickets fourth odi ...  \n",
       "3  aegon life iterm insurance plan customers enjo...  \n",
       "4  speaking sexual harassment allegations rajkuma...  "
      ]
     },
     "execution_count": 29,
     "metadata": {},
     "output_type": "execute_result"
    }
   ],
   "source": [
    "data.head()"
   ]
  },
  {
   "cell_type": "code",
   "execution_count": 30,
   "id": "dbd9f73b",
   "metadata": {},
   "outputs": [
    {
     "data": {
      "text/plain": [
       "headlines    0\n",
       "text         0\n",
       "dtype: int64"
      ]
     },
     "execution_count": 30,
     "metadata": {},
     "output_type": "execute_result"
    }
   ],
   "source": [
    "data.isnull().sum()"
   ]
  },
  {
   "cell_type": "code",
   "execution_count": 31,
   "id": "de2daa19",
   "metadata": {},
   "outputs": [
    {
     "name": "stdout",
     "output_type": "stream",
     "text": [
      "텍스트의 최소 길이 : 1\n",
      "텍스트의 최대 길이 : 60\n",
      "텍스트의 평균 길이 : 35.38986376575844\n",
      "요약의 최소 길이 : 1\n",
      "요약의 최대 길이 : 13\n",
      "요약의 평균 길이 : 7.210014233428223\n"
     ]
    },
    {
     "data": {
      "image/png": "[encoded data removed]",
      "text/plain": [
       "<Figure size 432x288 with 2 Axes>"
      ]
     },
     "metadata": {
      "needs_background": "light"
     },
     "output_type": "display_data"
    },
    {
     "data": {
      "image/png": "[encoded data removed]",
      "text/plain": [
       "<Figure size 432x288 with 1 Axes>"
      ]
     },
     "metadata": {
      "needs_background": "light"
     },
     "output_type": "display_data"
    },
    {
     "data": {
      "image/png": "[encoded data removed]",
      "text/plain": [
       "<Figure size 432x288 with 1 Axes>"
      ]
     },
     "metadata": {
      "needs_background": "light"
     },
     "output_type": "display_data"
    }
   ],
   "source": [
    "# 길이 분포 출력\n",
    "import matplotlib.pyplot as plt\n",
    "\n",
    "text_len = [len(s.split()) for s in data['text']]\n",
    "summary_len = [len(s.split()) for s in data['headlines']]\n",
    "\n",
    "print('텍스트의 최소 길이 : {}'.format(np.min(text_len)))\n",
    "print('텍스트의 최대 길이 : {}'.format(np.max(text_len)))\n",
    "print('텍스트의 평균 길이 : {}'.format(np.mean(text_len)))\n",
    "print('요약의 최소 길이 : {}'.format(np.min(summary_len)))\n",
    "print('요약의 최대 길이 : {}'.format(np.max(summary_len)))\n",
    "print('요약의 평균 길이 : {}'.format(np.mean(summary_len)))\n",
    "\n",
    "plt.subplot(1,2,1)\n",
    "plt.boxplot(text_len)\n",
    "plt.title('Text')\n",
    "plt.subplot(1,2,2)\n",
    "plt.boxplot(summary_len)\n",
    "plt.title('Headlines')\n",
    "plt.tight_layout()\n",
    "plt.show()\n",
    "\n",
    "plt.title('Text')\n",
    "plt.hist(text_len, bins = 40)\n",
    "plt.xlabel('length of samples')\n",
    "plt.ylabel('number of samples')\n",
    "plt.show()\n",
    "\n",
    "plt.title('Headlines')\n",
    "plt.hist(summary_len, bins = 40)\n",
    "plt.xlabel('length of samples')\n",
    "plt.ylabel('number of samples')\n",
    "plt.show()"
   ]
  },
  {
   "cell_type": "markdown",
   "id": "3a8fdf07",
   "metadata": {},
   "source": [
    "### 이상치 제거"
   ]
  },
  {
   "cell_type": "code",
   "execution_count": 32,
   "id": "d2e6e375",
   "metadata": {
    "scrolled": false
   },
   "outputs": [
    {
     "data": {
      "text/plain": [
       "52"
      ]
     },
     "execution_count": 32,
     "metadata": {},
     "output_type": "execute_result"
    }
   ],
   "source": [
    "np.argmin(text_len)"
   ]
  },
  {
   "cell_type": "code",
   "execution_count": 33,
   "id": "12fea320",
   "metadata": {},
   "outputs": [
    {
     "data": {
      "text/plain": [
       "headlines    headlines\n",
       "text              text\n",
       "Name: 52, dtype: object"
      ]
     },
     "execution_count": 33,
     "metadata": {},
     "output_type": "execute_result"
    }
   ],
   "source": [
    "data.iloc[52]"
   ]
  },
  {
   "cell_type": "code",
   "execution_count": 34,
   "id": "4011921d",
   "metadata": {
    "scrolled": true
   },
   "outputs": [
    {
     "data": {
      "text/plain": [
       "33.0"
      ]
     },
     "execution_count": 34,
     "metadata": {},
     "output_type": "execute_result"
    }
   ],
   "source": [
    "np.quantile(text_len, 0.25)"
   ]
  },
  {
   "cell_type": "code",
   "execution_count": 35,
   "id": "3489f12c",
   "metadata": {},
   "outputs": [
    {
     "data": {
      "text/plain": [
       "(98360, 2)"
      ]
     },
     "execution_count": 35,
     "metadata": {},
     "output_type": "execute_result"
    }
   ],
   "source": [
    "data.shape"
   ]
  },
  {
   "cell_type": "code",
   "execution_count": 36,
   "id": "592ed257",
   "metadata": {
    "scrolled": true
   },
   "outputs": [],
   "source": [
    "data.drop(52, inplace=True)"
   ]
  },
  {
   "cell_type": "code",
   "execution_count": 37,
   "id": "68894c3f",
   "metadata": {},
   "outputs": [
    {
     "data": {
      "text/plain": [
       "(98359, 2)"
      ]
     },
     "execution_count": 37,
     "metadata": {},
     "output_type": "execute_result"
    }
   ],
   "source": [
    "data.shape"
   ]
  },
  {
   "cell_type": "code",
   "execution_count": 40,
   "id": "998adc49",
   "metadata": {},
   "outputs": [
    {
     "data": {
      "text/plain": [
       "26210"
      ]
     },
     "execution_count": 40,
     "metadata": {},
     "output_type": "execute_result"
    }
   ],
   "source": [
    "np.argmin(summary_len)"
   ]
  },
  {
   "cell_type": "code",
   "execution_count": 41,
   "id": "498d060b",
   "metadata": {},
   "outputs": [
    {
     "data": {
      "text/plain": [
       "headlines                              friggatriskaidekaphobia\n",
       "text         friggatriskaidekaphobia person irrational fear...\n",
       "Name: 26212, dtype: object"
      ]
     },
     "execution_count": 41,
     "metadata": {},
     "output_type": "execute_result"
    }
   ],
   "source": [
    "data.iloc[np.argmin(summary_len)]"
   ]
  },
  {
   "cell_type": "code",
   "execution_count": 38,
   "id": "c83f1868",
   "metadata": {},
   "outputs": [
    {
     "name": "stdout",
     "output_type": "stream",
     "text": [
      "텍스트의 최소 길이 : 18\n",
      "텍스트의 최대 길이 : 60\n",
      "텍스트의 평균 길이 : 35.3902134019256\n",
      "요약의 최소 길이 : 1\n",
      "요약의 최대 길이 : 13\n",
      "요약의 평균 길이 : 7.210077369635722\n"
     ]
    },
    {
     "data": {
      "image/png": "[encoded data removed]",
      "text/plain": [
       "<Figure size 432x288 with 2 Axes>"
      ]
     },
     "metadata": {
      "needs_background": "light"
     },
     "output_type": "display_data"
    },
    {
     "data": {
      "image/png": "[encoded data removed]",
      "text/plain": [
       "<Figure size 432x288 with 1 Axes>"
      ]
     },
     "metadata": {
      "needs_background": "light"
     },
     "output_type": "display_data"
    },
    {
     "data": {
      "image/png": "[encoded data removed]",
      "text/plain": [
       "<Figure size 432x288 with 1 Axes>"
      ]
     },
     "metadata": {
      "needs_background": "light"
     },
     "output_type": "display_data"
    }
   ],
   "source": [
    "# 길이 분포 출력\n",
    "import matplotlib.pyplot as plt\n",
    "\n",
    "text_len = [len(s.split()) for s in data['text']]\n",
    "summary_len = [len(s.split()) for s in data['headlines']]\n",
    "\n",
    "print('텍스트의 최소 길이 : {}'.format(np.min(text_len)))\n",
    "print('텍스트의 최대 길이 : {}'.format(np.max(text_len)))\n",
    "print('텍스트의 평균 길이 : {}'.format(np.mean(text_len)))\n",
    "print('요약의 최소 길이 : {}'.format(np.min(summary_len)))\n",
    "print('요약의 최대 길이 : {}'.format(np.max(summary_len)))\n",
    "print('요약의 평균 길이 : {}'.format(np.mean(summary_len)))\n",
    "\n",
    "plt.subplot(1,2,1)\n",
    "plt.boxplot(text_len)\n",
    "plt.title('Text')\n",
    "plt.subplot(1,2,2)\n",
    "plt.boxplot(summary_len)\n",
    "plt.title('Headlines')\n",
    "plt.tight_layout()\n",
    "plt.show()\n",
    "\n",
    "plt.title('Text')\n",
    "plt.hist(text_len, bins = 40)\n",
    "plt.xlabel('length of samples')\n",
    "plt.ylabel('number of samples')\n",
    "plt.show()\n",
    "\n",
    "plt.title('Headlines')\n",
    "plt.hist(summary_len, bins = 40)\n",
    "plt.xlabel('length of samples')\n",
    "plt.ylabel('number of samples')\n",
    "plt.show()"
   ]
  },
  {
   "cell_type": "code",
   "execution_count": 42,
   "id": "29e7b69d",
   "metadata": {},
   "outputs": [
    {
     "name": "stdout",
     "output_type": "stream",
     "text": [
      "텍스트의 최대 길이 : 60\n",
      "요약의 최대 길이 : 13\n"
     ]
    }
   ],
   "source": [
    "print('텍스트의 최대 길이 : {}'.format(np.max(text_len)))\n",
    "print('요약의 최대 길이 : {}'.format(np.max(summary_len)))"
   ]
  },
  {
   "cell_type": "code",
   "execution_count": 43,
   "id": "085c3807",
   "metadata": {},
   "outputs": [],
   "source": [
    "text_max_len = 50\n",
    "summary_max_len = 10"
   ]
  },
  {
   "cell_type": "code",
   "execution_count": 44,
   "id": "d538311d",
   "metadata": {},
   "outputs": [],
   "source": [
    "def below_threshold_len(max_len, nested_list):\n",
    "    cnt = 0\n",
    "    for s in nested_list:\n",
    "        if(len(s.split()) <= max_len):\n",
    "            cnt = cnt + 1\n",
    "    print('전체 샘플 중 길이가 %s 이하인 샘플의 비율: %s'%(max_len, (cnt / len(nested_list))))"
   ]
  },
  {
   "cell_type": "code",
   "execution_count": 45,
   "id": "5fb8f0f8",
   "metadata": {},
   "outputs": [
    {
     "name": "stdout",
     "output_type": "stream",
     "text": [
      "전체 샘플 중 길이가 50 이하인 샘플의 비율: 0.9998474974328735\n",
      "전체 샘플 중 길이가 10 이하인 샘플의 비율: 0.9973566221698065\n"
     ]
    }
   ],
   "source": [
    "below_threshold_len(text_max_len, data['text'])\n",
    "below_threshold_len(summary_max_len,  data['headlines'])"
   ]
  },
  {
   "cell_type": "markdown",
   "id": "bbf103dc",
   "metadata": {},
   "source": [
    "### text_max_len과 summary_max_len의 길이보다 큰 샘플을 제외"
   ]
  },
  {
   "cell_type": "code",
   "execution_count": 46,
   "id": "beff8687",
   "metadata": {},
   "outputs": [
    {
     "data": {
      "text/plain": [
       "(98359, 2)"
      ]
     },
     "execution_count": 46,
     "metadata": {},
     "output_type": "execute_result"
    }
   ],
   "source": [
    "data.shape"
   ]
  },
  {
   "cell_type": "code",
   "execution_count": 47,
   "id": "e64c67a1",
   "metadata": {},
   "outputs": [
    {
     "name": "stdout",
     "output_type": "stream",
     "text": [
      "전체 샘플수 : 98086\n"
     ]
    }
   ],
   "source": [
    "c1 = data['headlines'].apply(lambda x: len(x.split())) <= summary_max_len\n",
    "c2 = data['text'].apply(lambda x: len(x.split())) <= text_max_len\n",
    "\n",
    "data = data.loc[c1 & c2]\n",
    "\n",
    "print('전체 샘플수 :', (len(data)))"
   ]
  },
  {
   "cell_type": "markdown",
   "id": "c77ce92c",
   "metadata": {},
   "source": [
    "### 시작 토큰과 종료 토큰 추가하기"
   ]
  },
  {
   "cell_type": "code",
   "execution_count": 48,
   "id": "f04d72fd",
   "metadata": {},
   "outputs": [
    {
     "data": {
      "text/html": [
       "<div>\n",
       "<style scoped>\n",
       "    .dataframe tbody tr th:only-of-type {\n",
       "        vertical-align: middle;\n",
       "    }\n",
       "\n",
       "    .dataframe tbody tr th {\n",
       "        vertical-align: top;\n",
       "    }\n",
       "\n",
       "    .dataframe thead th {\n",
       "        text-align: right;\n",
       "    }\n",
       "</style>\n",
       "<table border=\"1\" class=\"dataframe\">\n",
       "  <thead>\n",
       "    <tr style=\"text-align: right;\">\n",
       "      <th></th>\n",
       "      <th>headlines</th>\n",
       "      <th>text</th>\n",
       "      <th>decoder_input</th>\n",
       "      <th>decoder_target</th>\n",
       "    </tr>\n",
       "  </thead>\n",
       "  <tbody>\n",
       "    <tr>\n",
       "      <th>0</th>\n",
       "      <td>upgrad learner switches career ml al salary hike</td>\n",
       "      <td>saurav kant alumnus upgrad iiit pg program mac...</td>\n",
       "      <td>sostoken upgrad learner switches career ml al ...</td>\n",
       "      <td>upgrad learner switches career ml al salary hi...</td>\n",
       "    </tr>\n",
       "    <tr>\n",
       "      <th>1</th>\n",
       "      <td>delhi techie wins free food swiggy one year cred</td>\n",
       "      <td>kunal shah credit card bill payment platform c...</td>\n",
       "      <td>sostoken delhi techie wins free food swiggy on...</td>\n",
       "      <td>delhi techie wins free food swiggy one year cr...</td>\n",
       "    </tr>\n",
       "    <tr>\n",
       "      <th>2</th>\n",
       "      <td>new zealand end rohit sharma led india match w...</td>\n",
       "      <td>new zealand defeated india wickets fourth odi ...</td>\n",
       "      <td>sostoken new zealand end rohit sharma led indi...</td>\n",
       "      <td>new zealand end rohit sharma led india match w...</td>\n",
       "    </tr>\n",
       "    <tr>\n",
       "      <th>3</th>\n",
       "      <td>aegon life iterm insurance plan helps customer...</td>\n",
       "      <td>aegon life iterm insurance plan customers enjo...</td>\n",
       "      <td>sostoken aegon life iterm insurance plan helps...</td>\n",
       "      <td>aegon life iterm insurance plan helps customer...</td>\n",
       "    </tr>\n",
       "    <tr>\n",
       "      <th>4</th>\n",
       "      <td>known hirani yrs metoo claims not true sonam</td>\n",
       "      <td>speaking sexual harassment allegations rajkuma...</td>\n",
       "      <td>sostoken known hirani yrs metoo claims not tru...</td>\n",
       "      <td>known hirani yrs metoo claims not true sonam e...</td>\n",
       "    </tr>\n",
       "  </tbody>\n",
       "</table>\n",
       "</div>"
      ],
      "text/plain": [
       "                                           headlines  \\\n",
       "0   upgrad learner switches career ml al salary hike   \n",
       "1   delhi techie wins free food swiggy one year cred   \n",
       "2  new zealand end rohit sharma led india match w...   \n",
       "3  aegon life iterm insurance plan helps customer...   \n",
       "4       known hirani yrs metoo claims not true sonam   \n",
       "\n",
       "                                                text  \\\n",
       "0  saurav kant alumnus upgrad iiit pg program mac...   \n",
       "1  kunal shah credit card bill payment platform c...   \n",
       "2  new zealand defeated india wickets fourth odi ...   \n",
       "3  aegon life iterm insurance plan customers enjo...   \n",
       "4  speaking sexual harassment allegations rajkuma...   \n",
       "\n",
       "                                       decoder_input  \\\n",
       "0  sostoken upgrad learner switches career ml al ...   \n",
       "1  sostoken delhi techie wins free food swiggy on...   \n",
       "2  sostoken new zealand end rohit sharma led indi...   \n",
       "3  sostoken aegon life iterm insurance plan helps...   \n",
       "4  sostoken known hirani yrs metoo claims not tru...   \n",
       "\n",
       "                                      decoder_target  \n",
       "0  upgrad learner switches career ml al salary hi...  \n",
       "1  delhi techie wins free food swiggy one year cr...  \n",
       "2  new zealand end rohit sharma led india match w...  \n",
       "3  aegon life iterm insurance plan helps customer...  \n",
       "4  known hirani yrs metoo claims not true sonam e...  "
      ]
     },
     "execution_count": 48,
     "metadata": {},
     "output_type": "execute_result"
    }
   ],
   "source": [
    "# 요약 데이터에는 시작 토큰과 종료 토큰을 추가한다.\n",
    "data['decoder_input'] = data['headlines'].apply(lambda x : 'sostoken '+ x)\n",
    "data['decoder_target'] = data['headlines'].apply(lambda x : x + ' eostoken')\n",
    "data.head()"
   ]
  },
  {
   "cell_type": "code",
   "execution_count": 49,
   "id": "218c26eb",
   "metadata": {},
   "outputs": [],
   "source": [
    "encoder_input = np.array(data['text']) # 인코더의 입력\n",
    "decoder_input = np.array(data['decoder_input']) # 디코더의 입력\n",
    "decoder_target = np.array(data['decoder_target']) # 디코더의 레이블"
   ]
  },
  {
   "cell_type": "code",
   "execution_count": 50,
   "id": "65bf7fdf",
   "metadata": {},
   "outputs": [
    {
     "name": "stdout",
     "output_type": "stream",
     "text": [
      "[90743 24237 57473 ... 70099  8854 32320]\n"
     ]
    }
   ],
   "source": [
    "indices = np.arange(encoder_input.shape[0])\n",
    "np.random.shuffle(indices)\n",
    "print(indices)"
   ]
  },
  {
   "cell_type": "code",
   "execution_count": 51,
   "id": "f33b11ea",
   "metadata": {},
   "outputs": [],
   "source": [
    "encoder_input = encoder_input[indices]\n",
    "decoder_input = decoder_input[indices]\n",
    "decoder_target = decoder_target[indices]"
   ]
  },
  {
   "cell_type": "code",
   "execution_count": 52,
   "id": "a0489f7e",
   "metadata": {},
   "outputs": [
    {
     "name": "stdout",
     "output_type": "stream",
     "text": [
      "테스트 데이터의 수 : 19617\n"
     ]
    }
   ],
   "source": [
    "n_of_val = int(len(encoder_input)*0.2)\n",
    "print('테스트 데이터의 수 :', n_of_val)"
   ]
  },
  {
   "cell_type": "code",
   "execution_count": 53,
   "id": "16232f28",
   "metadata": {},
   "outputs": [
    {
     "name": "stdout",
     "output_type": "stream",
     "text": [
      "훈련 데이터의 개수 : 78469\n",
      "훈련 레이블의 개수 : 78469\n",
      "테스트 데이터의 개수 : 19617\n",
      "테스트 레이블의 개수 : 19617\n"
     ]
    }
   ],
   "source": [
    "encoder_input_train = encoder_input[:-n_of_val]\n",
    "decoder_input_train = decoder_input[:-n_of_val]\n",
    "decoder_target_train = decoder_target[:-n_of_val]\n",
    "\n",
    "encoder_input_test = encoder_input[-n_of_val:]\n",
    "decoder_input_test = decoder_input[-n_of_val:]\n",
    "decoder_target_test = decoder_target[-n_of_val:]\n",
    "\n",
    "print('훈련 데이터의 개수 :', len(encoder_input_train))\n",
    "print('훈련 레이블의 개수 :', len(decoder_input_train))\n",
    "print('테스트 데이터의 개수 :', len(encoder_input_test))\n",
    "print('테스트 레이블의 개수 :', len(decoder_input_test))"
   ]
  },
  {
   "cell_type": "markdown",
   "id": "ac33ff36",
   "metadata": {},
   "source": [
    "### 정수 인코딩"
   ]
  },
  {
   "cell_type": "code",
   "execution_count": 54,
   "id": "af07f319",
   "metadata": {},
   "outputs": [],
   "source": [
    "src_tokenizer = Tokenizer() # 토크나이저 정의\n",
    "src_tokenizer.fit_on_texts(encoder_input_train)"
   ]
  },
  {
   "cell_type": "code",
   "execution_count": 55,
   "id": "fcd763b3",
   "metadata": {},
   "outputs": [
    {
     "name": "stdout",
     "output_type": "stream",
     "text": [
      "단어 집합(vocabulary)의 크기 : 69392\n",
      "등장 빈도가 6번 이하인 희귀 단어의 수: 47239\n",
      "단어 집합에서 희귀 단어를 제외시킬 경우의 단어 집합의 크기 22153\n",
      "단어 집합에서 희귀 단어의 비율: 68.07557067097072\n",
      "전체 등장 빈도에서 희귀 단어 등장 빈도 비율: 3.450304490551138\n"
     ]
    }
   ],
   "source": [
    "threshold = 7\n",
    "total_cnt = len(src_tokenizer.word_index) # 단어의 수\n",
    "rare_cnt = 0 # 등장 빈도수가 threshold보다 작은 단어의 개수를 카운트\n",
    "total_freq = 0 # 훈련 데이터의 전체 단어 빈도수 총 합\n",
    "rare_freq = 0 # 등장 빈도수가 threshold보다 작은 단어의 등장 빈도수의 총 합\n",
    "\n",
    "# 단어와 빈도수의 쌍(pair)을 key와 value로 받는다.\n",
    "for key, value in src_tokenizer.word_counts.items():\n",
    "    total_freq = total_freq + value\n",
    "\n",
    "    # 단어의 등장 빈도수가 threshold보다 작으면\n",
    "    if(value < threshold):\n",
    "        rare_cnt = rare_cnt + 1\n",
    "        rare_freq = rare_freq + value\n",
    "\n",
    "print('단어 집합(vocabulary)의 크기 :', total_cnt)\n",
    "print('등장 빈도가 %s번 이하인 희귀 단어의 수: %s'%(threshold - 1, rare_cnt))\n",
    "print('단어 집합에서 희귀 단어를 제외시킬 경우의 단어 집합의 크기 %s'%(total_cnt - rare_cnt))\n",
    "print(\"단어 집합에서 희귀 단어의 비율:\", (rare_cnt / total_cnt)*100)\n",
    "print(\"전체 등장 빈도에서 희귀 단어 등장 빈도 비율:\", (rare_freq / total_freq)*100)"
   ]
  },
  {
   "cell_type": "code",
   "execution_count": 56,
   "id": "b76d2fe1",
   "metadata": {},
   "outputs": [],
   "source": [
    "src_vocab = 20000\n",
    "src_tokenizer = Tokenizer(num_words=src_vocab) # 단어 집합의 크기를 20,000으로 제한\n",
    "src_tokenizer.fit_on_texts(encoder_input_train) # 단어 집합 재생성"
   ]
  },
  {
   "cell_type": "code",
   "execution_count": 57,
   "id": "5b484ce3",
   "metadata": {},
   "outputs": [
    {
     "name": "stdout",
     "output_type": "stream",
     "text": [
      "[[2327, 12, 1330, 290, 3018, 1801, 21, 4335, 1360, 9837, 14269, 8989, 743, 1801, 6460, 12, 1330, 5696, 224, 457, 56, 546, 1043, 1330, 13816, 5697, 257], [89, 10, 2859, 835, 160, 61, 13361, 1541, 6056, 4199, 63, 603, 87, 230, 3235, 9154, 3164, 2751, 1, 835, 7, 100, 1276, 2751, 1, 10945, 757, 5513, 1276, 128, 208, 304, 774, 3703, 345, 12185, 976], [6109, 129, 2337, 277, 26, 823, 181, 8378, 717, 123, 894, 1808, 400, 85, 231, 1670, 15977, 169, 1038, 262, 277, 5091, 1866, 5989, 894, 4097, 486, 107, 277, 26, 823, 181, 8378, 12186, 1841, 69, 133, 266]]\n"
     ]
    }
   ],
   "source": [
    "# 텍스트 시퀀스를 정수 시퀀스로 변환\n",
    "encoder_input_train = src_tokenizer.texts_to_sequences(encoder_input_train) \n",
    "encoder_input_test = src_tokenizer.texts_to_sequences(encoder_input_test)\n",
    "\n",
    "# 잘 진행되었는지 샘플 출력\n",
    "print(encoder_input_train[:3])"
   ]
  },
  {
   "cell_type": "code",
   "execution_count": 58,
   "id": "2b66667d",
   "metadata": {},
   "outputs": [],
   "source": [
    "tar_tokenizer = Tokenizer()\n",
    "tar_tokenizer.fit_on_texts(decoder_input_train)"
   ]
  },
  {
   "cell_type": "code",
   "execution_count": 59,
   "id": "630d9414",
   "metadata": {},
   "outputs": [
    {
     "name": "stdout",
     "output_type": "stream",
     "text": [
      "단어 집합(vocabulary)의 크기 : 29888\n",
      "등장 빈도가 5번 이하인 희귀 단어의 수: 19645\n",
      "단어 집합에서 희귀 단어를 제외시킬 경우의 단어 집합의 크기 10243\n",
      "단어 집합에서 희귀 단어의 비율: 65.72872055674517\n",
      "전체 등장 빈도에서 희귀 단어 등장 빈도 비율: 5.854673967921084\n"
     ]
    }
   ],
   "source": [
    "threshold = 6\n",
    "total_cnt = len(tar_tokenizer.word_index) # 단어의 수\n",
    "rare_cnt = 0 # 등장 빈도수가 threshold보다 작은 단어의 개수를 카운트\n",
    "total_freq = 0 # 훈련 데이터의 전체 단어 빈도수 총 합\n",
    "rare_freq = 0 # 등장 빈도수가 threshold보다 작은 단어의 등장 빈도수의 총 합\n",
    "\n",
    "# 단어와 빈도수의 쌍(pair)을 key와 value로 받는다.\n",
    "for key, value in tar_tokenizer.word_counts.items():\n",
    "    total_freq = total_freq + value\n",
    "\n",
    "    # 단어의 등장 빈도수가 threshold보다 작으면\n",
    "    if(value < threshold):\n",
    "        rare_cnt = rare_cnt + 1\n",
    "        rare_freq = rare_freq + value\n",
    "\n",
    "print('단어 집합(vocabulary)의 크기 :', total_cnt)\n",
    "print('등장 빈도가 %s번 이하인 희귀 단어의 수: %s'%(threshold - 1, rare_cnt))\n",
    "print('단어 집합에서 희귀 단어를 제외시킬 경우의 단어 집합의 크기 %s'%(total_cnt - rare_cnt))\n",
    "print(\"단어 집합에서 희귀 단어의 비율:\", (rare_cnt / total_cnt)*100)\n",
    "print(\"전체 등장 빈도에서 희귀 단어 등장 빈도 비율:\", (rare_freq / total_freq)*100)"
   ]
  },
  {
   "cell_type": "code",
   "execution_count": 60,
   "id": "d30b0240",
   "metadata": {},
   "outputs": [
    {
     "name": "stdout",
     "output_type": "stream",
     "text": [
      "input\n",
      "input  [[1, 13, 1889, 55, 488, 2519, 6724, 5068], [1, 8, 489, 63, 6725, 6726, 1119, 4131], [1, 5, 161, 217, 757, 1277, 1948, 199, 798], [1, 497, 358, 3, 316, 329, 2467, 4909, 1227], [1, 128, 13, 95, 2380, 1034, 483, 364]]\n",
      "target\n",
      "decoder  [[13, 1889, 55, 488, 2519, 6724, 5068, 2], [8, 489, 63, 6725, 6726, 1119, 4131, 2], [5, 161, 217, 757, 1277, 1948, 199, 798, 2], [497, 358, 3, 316, 329, 2467, 4909, 1227, 2], [128, 13, 95, 2380, 1034, 483, 364, 2]]\n"
     ]
    }
   ],
   "source": [
    "tar_vocab = 10000\n",
    "tar_tokenizer = Tokenizer(num_words=tar_vocab) \n",
    "tar_tokenizer.fit_on_texts(decoder_input_train)\n",
    "tar_tokenizer.fit_on_texts(decoder_target_train)\n",
    "\n",
    "# 텍스트 시퀀스를 정수 시퀀스로 변환\n",
    "decoder_input_train = tar_tokenizer.texts_to_sequences(decoder_input_train) \n",
    "decoder_target_train = tar_tokenizer.texts_to_sequences(decoder_target_train)\n",
    "decoder_input_test = tar_tokenizer.texts_to_sequences(decoder_input_test)\n",
    "decoder_target_test = tar_tokenizer.texts_to_sequences(decoder_target_test)\n",
    "\n",
    "# 잘 변환되었는지 확인\n",
    "print('input')\n",
    "print('input ',decoder_input_train[:5])\n",
    "print('target')\n",
    "print('decoder ',decoder_target_train[:5])"
   ]
  },
  {
   "cell_type": "code",
   "execution_count": 61,
   "id": "1cfc605a",
   "metadata": {},
   "outputs": [
    {
     "data": {
      "text/plain": [
       "[[601, 851, 301, 823, 1044, 225, 2548, 2],\n",
       " [536, 1648, 3235, 1919, 9241, 9057, 2],\n",
       " [484, 1622, 3282, 42, 27, 23, 189, 2],\n",
       " [5021, 1586, 234, 56, 419, 4610, 474, 2],\n",
       " [2722, 343, 1803, 301, 148, 1439, 79, 66, 2]]"
      ]
     },
     "execution_count": 61,
     "metadata": {},
     "output_type": "execute_result"
    }
   ],
   "source": [
    "decoder_target_test[:5]"
   ]
  },
  {
   "cell_type": "code",
   "execution_count": 62,
   "id": "2e21b6b9",
   "metadata": {},
   "outputs": [
    {
     "name": "stdout",
     "output_type": "stream",
     "text": [
      "삭제할 훈련 데이터의 개수 : 2\n",
      "삭제할 테스트 데이터의 개수 : 0\n",
      "훈련 데이터의 개수 : 78467\n",
      "훈련 레이블의 개수 : 78467\n",
      "테스트 데이터의 개수 : 19617\n",
      "테스트 레이블의 개수 : 19617\n"
     ]
    }
   ],
   "source": [
    "drop_train = [index for index, sentence in enumerate(decoder_input_train) if len(sentence) == 1]\n",
    "drop_test = [index for index, sentence in enumerate(decoder_input_test) if len(sentence) == 1]\n",
    "\n",
    "print('삭제할 훈련 데이터의 개수 :', len(drop_train))\n",
    "print('삭제할 테스트 데이터의 개수 :', len(drop_test))\n",
    "\n",
    "encoder_input_train = [sentence for index, sentence in enumerate(encoder_input_train) if index not in drop_train]\n",
    "decoder_input_train = [sentence for index, sentence in enumerate(decoder_input_train) if index not in drop_train]\n",
    "decoder_target_train = [sentence for index, sentence in enumerate(decoder_target_train) if index not in drop_train]\n",
    "\n",
    "encoder_input_test = [sentence for index, sentence in enumerate(encoder_input_test) if index not in drop_test]\n",
    "decoder_input_test = [sentence for index, sentence in enumerate(decoder_input_test) if index not in drop_test]\n",
    "decoder_target_test = [sentence for index, sentence in enumerate(decoder_target_test) if index not in drop_test]\n",
    "\n",
    "print('훈련 데이터의 개수 :', len(encoder_input_train))\n",
    "print('훈련 레이블의 개수 :', len(decoder_input_train))\n",
    "print('테스트 데이터의 개수 :', len(encoder_input_test))\n",
    "print('테스트 레이블의 개수 :', len(decoder_input_test))"
   ]
  },
  {
   "cell_type": "markdown",
   "id": "cf7e5edc",
   "metadata": {},
   "source": [
    "### 패딩하기"
   ]
  },
  {
   "cell_type": "markdown",
   "id": "5410eec6",
   "metadata": {},
   "source": [
    "pre로 하면 어떻게 될까?"
   ]
  },
  {
   "cell_type": "code",
   "execution_count": 63,
   "id": "b715971d",
   "metadata": {},
   "outputs": [],
   "source": [
    "encoder_input_train = pad_sequences(encoder_input_train, maxlen=text_max_len, padding='post')\n",
    "encoder_input_test = pad_sequences(encoder_input_test, maxlen=text_max_len, padding='post')\n",
    "decoder_input_train = pad_sequences(decoder_input_train, maxlen=summary_max_len, padding='post')\n",
    "decoder_target_train = pad_sequences(decoder_target_train, maxlen=summary_max_len, padding='post')\n",
    "decoder_input_test = pad_sequences(decoder_input_test, maxlen=summary_max_len, padding='post')\n",
    "decoder_target_test = pad_sequences(decoder_target_test, maxlen=summary_max_len, padding='post')"
   ]
  },
  {
   "cell_type": "markdown",
   "id": "bfe5e680",
   "metadata": {},
   "source": [
    "## 모델 설계하기"
   ]
  },
  {
   "cell_type": "markdown",
   "id": "d1228f11",
   "metadata": {},
   "source": [
    "- __모델 선정 이유__ \n",
    "    - lstm은 자연어 처리에서 대체로 좋은 성능을 내므로 lstm모델을 선정했고\n",
    "    - 요약 모델을 할때 seq2seq를 사용하므로 이를 활용하였고 \n",
    "    - attention은 lstm의 long term dependency 문제를 해결하기 위해 활용하였다\n",
    "    \n",
    "- __Metrics 선정 이유__\n",
    "    - 요약 모델의 평가시 Rouge score를 많이 활용한다하여 이를 사용해보고자 하였으나 시간상의 이유로 활용하지 못했고\n",
    "    - 대신에 직접 샘플을 통해 비교를 진행하였다\n",
    "    \n",
    "- __Loss 선정 이유__ \n",
    "    - sparse categorical crossentropy\n",
    "    - seq2seq는 결국 10000개의 단어중에서 다음 단어를 예측하는 문제로 바뀌므로 이에따라 sparse categorical crossentropy를 선정하였다"
   ]
  },
  {
   "cell_type": "code",
   "execution_count": 64,
   "id": "49a01751",
   "metadata": {},
   "outputs": [],
   "source": [
    "from tensorflow.keras.layers import Input, LSTM, Embedding, Dense, Concatenate, TimeDistributed\n",
    "from tensorflow.keras.models import Model\n",
    "from tensorflow.keras.callbacks import EarlyStopping, ModelCheckpoint\n",
    "\n",
    "\n",
    "# 인코더 설계 시작\n",
    "embedding_dim = 128\n",
    "hidden_size = 256\n",
    "\n",
    "# 인코더\n",
    "encoder_inputs = Input(shape=(text_max_len,))\n",
    "\n",
    "# 인코더의 임베딩 층\n",
    "enc_emb = Embedding(src_vocab, embedding_dim)(encoder_inputs)\n",
    "\n",
    "# 인코더의 LSTM 1\n",
    "# encoder_lstm1 = LSTM(hidden_size, return_sequences=True, return_state=True ,dropout = 0.4, recurrent_dropout = 0.4)\n",
    "encoder_lstm1 = LSTM(hidden_size, return_sequences=True, return_state=True ,dropout = 0.4)\n",
    "encoder_output1, state_h1, state_c1 = encoder_lstm1(enc_emb)\n",
    "\n",
    "# 인코더의 LSTM 2\n",
    "encoder_lstm2 = LSTM(hidden_size, return_sequences=True, return_state=True, dropout=0.4)\n",
    "encoder_output2, state_h2, state_c2 = encoder_lstm2(encoder_output1)\n",
    "\n",
    "# 인코더의 LSTM 3\n",
    "encoder_lstm3 = LSTM(hidden_size, return_sequences=True, return_state=True, dropout=0.4)\n",
    "encoder_outputs, state_h, state_c = encoder_lstm3(encoder_output2)"
   ]
  },
  {
   "cell_type": "markdown",
   "id": "50bf69a4",
   "metadata": {},
   "source": [
    "디코더 설계"
   ]
  },
  {
   "cell_type": "code",
   "execution_count": 65,
   "id": "96ab954d",
   "metadata": {},
   "outputs": [],
   "source": [
    "# 디코더\n",
    "decoder_inputs = Input(shape=(None,))\n",
    "\n",
    "# 디코더의 임베딩 층\n",
    "dec_emb_layer = Embedding(tar_vocab, embedding_dim)\n",
    "dec_emb = dec_emb_layer(decoder_inputs)\n",
    "\n",
    "# 디코더의 LSTM\n",
    "# decoder_lstm = LSTM(hidden_size, return_sequences = True, return_state = True, dropout = 0.4, recurrent_dropout=0.2)\n",
    "decoder_lstm = LSTM(hidden_size, return_sequences=True, return_state=True, dropout=0.4)\n",
    "decoder_outputs, _, _ = decoder_lstm(dec_emb, initial_state = [state_h, state_c])"
   ]
  },
  {
   "cell_type": "code",
   "execution_count": 66,
   "id": "e22d029b",
   "metadata": {},
   "outputs": [
    {
     "name": "stdout",
     "output_type": "stream",
     "text": [
      "Model: \"model\"\n",
      "__________________________________________________________________________________________________\n",
      "Layer (type)                    Output Shape         Param #     Connected to                     \n",
      "==================================================================================================\n",
      "input_1 (InputLayer)            [(None, 50)]         0                                            \n",
      "__________________________________________________________________________________________________\n",
      "embedding (Embedding)           (None, 50, 128)      2560000     input_1[0][0]                    \n",
      "__________________________________________________________________________________________________\n",
      "lstm (LSTM)                     [(None, 50, 256), (N 394240      embedding[0][0]                  \n",
      "__________________________________________________________________________________________________\n",
      "input_2 (InputLayer)            [(None, None)]       0                                            \n",
      "__________________________________________________________________________________________________\n",
      "lstm_1 (LSTM)                   [(None, 50, 256), (N 525312      lstm[0][0]                       \n",
      "__________________________________________________________________________________________________\n",
      "embedding_1 (Embedding)         (None, None, 128)    1280000     input_2[0][0]                    \n",
      "__________________________________________________________________________________________________\n",
      "lstm_2 (LSTM)                   [(None, 50, 256), (N 525312      lstm_1[0][0]                     \n",
      "__________________________________________________________________________________________________\n",
      "lstm_3 (LSTM)                   [(None, None, 256),  394240      embedding_1[0][0]                \n",
      "                                                                 lstm_2[0][1]                     \n",
      "                                                                 lstm_2[0][2]                     \n",
      "__________________________________________________________________________________________________\n",
      "dense (Dense)                   (None, None, 10000)  2570000     lstm_3[0][0]                     \n",
      "==================================================================================================\n",
      "Total params: 8,249,104\n",
      "Trainable params: 8,249,104\n",
      "Non-trainable params: 0\n",
      "__________________________________________________________________________________________________\n"
     ]
    }
   ],
   "source": [
    "# 디코더의 출력층\n",
    "decoder_softmax_layer = Dense(tar_vocab, activation='softmax')\n",
    "decoder_softmax_outputs = decoder_softmax_layer(decoder_outputs) \n",
    "\n",
    "# 모델 정의\n",
    "model = Model([encoder_inputs, decoder_inputs], decoder_softmax_outputs)\n",
    "model.summary()"
   ]
  },
  {
   "cell_type": "markdown",
   "id": "155d4244",
   "metadata": {},
   "source": [
    "### Step 3. 어텐션 메커니즘 사용하기 (추상적 요약)\n",
    "일반적인 seq2seq보다는 어텐션 메커니즘을 사용한 seq2seq를 사용하는 것이 더 나은 성능을 얻을 수 있어요. 실습 내용을 참고하여 어텐션 메커니즘을 사용한 seq2seq를 설계해 보세요."
   ]
  },
  {
   "cell_type": "code",
   "execution_count": 67,
   "id": "9fc513fd",
   "metadata": {},
   "outputs": [
    {
     "name": "stdout",
     "output_type": "stream",
     "text": [
      "Model: \"model_1\"\n",
      "__________________________________________________________________________________________________\n",
      "Layer (type)                    Output Shape         Param #     Connected to                     \n",
      "==================================================================================================\n",
      "input_1 (InputLayer)            [(None, 50)]         0                                            \n",
      "__________________________________________________________________________________________________\n",
      "embedding (Embedding)           (None, 50, 128)      2560000     input_1[0][0]                    \n",
      "__________________________________________________________________________________________________\n",
      "lstm (LSTM)                     [(None, 50, 256), (N 394240      embedding[0][0]                  \n",
      "__________________________________________________________________________________________________\n",
      "input_2 (InputLayer)            [(None, None)]       0                                            \n",
      "__________________________________________________________________________________________________\n",
      "lstm_1 (LSTM)                   [(None, 50, 256), (N 525312      lstm[0][0]                       \n",
      "__________________________________________________________________________________________________\n",
      "embedding_1 (Embedding)         (None, None, 128)    1280000     input_2[0][0]                    \n",
      "__________________________________________________________________________________________________\n",
      "lstm_2 (LSTM)                   [(None, 50, 256), (N 525312      lstm_1[0][0]                     \n",
      "__________________________________________________________________________________________________\n",
      "lstm_3 (LSTM)                   [(None, None, 256),  394240      embedding_1[0][0]                \n",
      "                                                                 lstm_2[0][1]                     \n",
      "                                                                 lstm_2[0][2]                     \n",
      "__________________________________________________________________________________________________\n",
      "attention_layer (AdditiveAttent (None, None, 256)    256         lstm_3[0][0]                     \n",
      "                                                                 lstm_2[0][0]                     \n",
      "__________________________________________________________________________________________________\n",
      "concat_layer (Concatenate)      (None, None, 512)    0           lstm_3[0][0]                     \n",
      "                                                                 attention_layer[0][0]            \n",
      "__________________________________________________________________________________________________\n",
      "dense_1 (Dense)                 (None, None, 10000)  5130000     concat_layer[0][0]               \n",
      "==================================================================================================\n",
      "Total params: 10,809,360\n",
      "Trainable params: 10,809,360\n",
      "Non-trainable params: 0\n",
      "__________________________________________________________________________________________________\n"
     ]
    }
   ],
   "source": [
    "from tensorflow.keras.layers import AdditiveAttention\n",
    "\n",
    "# 어텐션 층(어텐션 함수)\n",
    "attn_layer = AdditiveAttention(name='attention_layer')\n",
    "\n",
    "# 인코더와 디코더의 모든 time step의 hidden state를 어텐션 층에 전달하고 결과를 리턴\n",
    "attn_out = attn_layer([decoder_outputs, encoder_outputs])\n",
    "\n",
    "# 어텐션의 결과와 디코더의 hidden state들을 연결\n",
    "decoder_concat_input = Concatenate(axis=-1, name='concat_layer')([decoder_outputs, attn_out])\n",
    "\n",
    "# 디코더의 출력층\n",
    "decoder_softmax_layer = Dense(tar_vocab, activation='softmax')\n",
    "decoder_softmax_outputs = decoder_softmax_layer(decoder_concat_input)\n",
    "\n",
    "# 모델 정의\n",
    "model = Model([encoder_inputs, decoder_inputs], decoder_softmax_outputs)\n",
    "model.summary()"
   ]
  },
  {
   "cell_type": "code",
   "execution_count": 68,
   "id": "758e380e",
   "metadata": {},
   "outputs": [
    {
     "name": "stdout",
     "output_type": "stream",
     "text": [
      "Epoch 1/50\n",
      "307/307 [==============================] - 62s 93ms/step - loss: 5.6394 - val_loss: 5.2168\n",
      "Epoch 2/50\n",
      "307/307 [==============================] - 28s 92ms/step - loss: 5.0794 - val_loss: 4.8365\n",
      "Epoch 3/50\n",
      "307/307 [==============================] - 29s 95ms/step - loss: 4.7579 - val_loss: 4.6212\n",
      "Epoch 4/50\n",
      "307/307 [==============================] - 30s 98ms/step - loss: 4.5092 - val_loss: 4.4329\n",
      "Epoch 5/50\n",
      "307/307 [==============================] - 30s 98ms/step - loss: 4.2973 - val_loss: 4.2880\n",
      "Epoch 6/50\n",
      "307/307 [==============================] - 30s 97ms/step - loss: 4.1210 - val_loss: 4.1994\n",
      "Epoch 7/50\n",
      "307/307 [==============================] - 30s 98ms/step - loss: 3.9690 - val_loss: 4.0997\n",
      "Epoch 8/50\n",
      "307/307 [==============================] - 30s 98ms/step - loss: 3.8367 - val_loss: 4.0283\n",
      "Epoch 9/50\n",
      "307/307 [==============================] - 30s 98ms/step - loss: 3.7163 - val_loss: 3.9738\n",
      "Epoch 10/50\n",
      "307/307 [==============================] - 30s 98ms/step - loss: 3.6139 - val_loss: 3.9311\n",
      "Epoch 11/50\n",
      "307/307 [==============================] - 30s 98ms/step - loss: 3.5178 - val_loss: 3.8968\n",
      "Epoch 12/50\n",
      "307/307 [==============================] - 30s 98ms/step - loss: 3.4307 - val_loss: 3.8640\n",
      "Epoch 13/50\n",
      "307/307 [==============================] - 30s 98ms/step - loss: 3.3512 - val_loss: 3.8424\n",
      "Epoch 14/50\n",
      "307/307 [==============================] - 30s 98ms/step - loss: 3.2749 - val_loss: 3.8213\n",
      "Epoch 15/50\n",
      "307/307 [==============================] - 30s 98ms/step - loss: 3.2025 - val_loss: 3.8066\n",
      "Epoch 16/50\n",
      "307/307 [==============================] - 30s 98ms/step - loss: 3.1374 - val_loss: 3.7914\n",
      "Epoch 17/50\n",
      "307/307 [==============================] - 30s 98ms/step - loss: 3.0769 - val_loss: 3.7763\n",
      "Epoch 18/50\n",
      "307/307 [==============================] - 30s 98ms/step - loss: 3.0215 - val_loss: 3.7688\n",
      "Epoch 19/50\n",
      "307/307 [==============================] - 30s 98ms/step - loss: 2.9669 - val_loss: 3.7663\n",
      "Epoch 20/50\n",
      "307/307 [==============================] - 30s 98ms/step - loss: 2.9159 - val_loss: 3.7580\n",
      "Epoch 21/50\n",
      "307/307 [==============================] - 30s 98ms/step - loss: 2.8683 - val_loss: 3.7594\n",
      "Epoch 22/50\n",
      "307/307 [==============================] - 30s 98ms/step - loss: 2.8210 - val_loss: 3.7563\n",
      "Epoch 23/50\n",
      "307/307 [==============================] - 30s 98ms/step - loss: 2.7746 - val_loss: 3.7576\n",
      "Epoch 24/50\n",
      "307/307 [==============================] - 30s 98ms/step - loss: 2.7327 - val_loss: 3.7566\n",
      "Epoch 00024: early stopping\n"
     ]
    }
   ],
   "source": [
    "model.compile(optimizer='rmsprop', loss='sparse_categorical_crossentropy')\n",
    "es = EarlyStopping(monitor='val_loss', patience=2, verbose=1)\n",
    "history = model.fit(x=[encoder_input_train, decoder_input_train], y=decoder_target_train, \\\n",
    "          validation_data=([encoder_input_test, decoder_input_test], decoder_target_test), \\\n",
    "          batch_size=256, callbacks=[es], epochs=50)"
   ]
  },
  {
   "cell_type": "code",
   "execution_count": 69,
   "id": "92df51cd",
   "metadata": {},
   "outputs": [
    {
     "data": {
      "image/png": "[encoded data removed]",
      "text/plain": [
       "<Figure size 432x288 with 1 Axes>"
      ]
     },
     "metadata": {
      "needs_background": "light"
     },
     "output_type": "display_data"
    }
   ],
   "source": [
    "plt.plot(history.history['loss'], label='train')\n",
    "plt.plot(history.history['val_loss'], label='test')\n",
    "plt.legend()\n",
    "plt.show()"
   ]
  },
  {
   "cell_type": "markdown",
   "id": "61af3630",
   "metadata": {},
   "source": [
    "- 그래프를 통해 train loss와 val loss가 감소하는 것을 볼 수 있다"
   ]
  },
  {
   "cell_type": "markdown",
   "id": "9660836a",
   "metadata": {},
   "source": [
    "### Step 4. 실제 결과와 요약문 비교하기 (추상적 요약)\n",
    "원래의 요약문(headlines 열)과 학습을 통해 얻은 추상적 요약의 결과를 비교해 보세요."
   ]
  },
  {
   "cell_type": "code",
   "execution_count": 70,
   "id": "dc2975e6",
   "metadata": {},
   "outputs": [],
   "source": [
    "src_index_to_word = src_tokenizer.index_word # 원문 단어 집합에서 정수 -> 단어를 얻음\n",
    "tar_word_to_index = tar_tokenizer.word_index # 요약 단어 집합에서 단어 -> 정수를 얻음\n",
    "tar_index_to_word = tar_tokenizer.index_word # 요약 단어 집합에서 정수 -> 단어를 얻음"
   ]
  },
  {
   "cell_type": "code",
   "execution_count": 71,
   "id": "f90ee642",
   "metadata": {},
   "outputs": [],
   "source": [
    "# 인코더 설계\n",
    "encoder_model = Model(inputs=encoder_inputs, outputs=[encoder_outputs, state_h, state_c])\n",
    "\n",
    "# 이전 시점의 상태들을 저장하는 텐서\n",
    "decoder_state_input_h = Input(shape=(hidden_size,))\n",
    "decoder_state_input_c = Input(shape=(hidden_size,))\n",
    "\n",
    "dec_emb2 = dec_emb_layer(decoder_inputs)\n",
    "\n",
    "# 문장의 다음 단어를 예측하기 위해서 초기 상태(initial_state)를 이전 시점의 상태로 사용. 이는 뒤의 함수 decode_sequence()에 구현\n",
    "# 훈련 과정에서와 달리 LSTM의 리턴하는 은닉 상태와 셀 상태인 state_h와 state_c를 버리지 않음.\n",
    "decoder_outputs2, state_h2, state_c2 = decoder_lstm(dec_emb2, initial_state=[decoder_state_input_h, decoder_state_input_c])"
   ]
  },
  {
   "cell_type": "code",
   "execution_count": 72,
   "id": "76a632b0",
   "metadata": {},
   "outputs": [],
   "source": [
    "# 어텐션 함수\n",
    "decoder_hidden_state_input = Input(shape=(text_max_len, hidden_size))\n",
    "attn_out_inf = attn_layer([decoder_outputs2, decoder_hidden_state_input])\n",
    "decoder_inf_concat = Concatenate(axis=-1, name='concat')([decoder_outputs2, attn_out_inf])\n",
    "\n",
    "# 디코더의 출력층\n",
    "decoder_outputs2 = decoder_softmax_layer(decoder_inf_concat) \n",
    "\n",
    "# 최종 디코더 모델\n",
    "decoder_model = Model(\n",
    "    [decoder_inputs] + [decoder_hidden_state_input, decoder_state_input_h, decoder_state_input_c],\n",
    "    [decoder_outputs2] + [state_h2, state_c2])"
   ]
  },
  {
   "cell_type": "code",
   "execution_count": 73,
   "id": "fd0c2d14",
   "metadata": {},
   "outputs": [],
   "source": [
    "def decode_sequence(input_seq):\n",
    "    # 입력으로부터 인코더의 상태를 얻음\n",
    "    e_out, e_h, e_c = encoder_model.predict(input_seq)\n",
    "\n",
    "     # <SOS>에 해당하는 토큰 생성\n",
    "    target_seq = np.zeros((1,1))\n",
    "    target_seq[0, 0] = tar_word_to_index['sostoken']\n",
    "\n",
    "    stop_condition = False\n",
    "    decoded_sentence = ''\n",
    "    while not stop_condition: # stop_condition이 True가 될 때까지 루프 반복\n",
    "\n",
    "        output_tokens, h, c = decoder_model.predict([target_seq] + [e_out, e_h, e_c])\n",
    "        sampled_token_index = np.argmax(output_tokens[0, -1, :])\n",
    "        sampled_token = tar_index_to_word[sampled_token_index]\n",
    "\n",
    "        if (sampled_token!='eostoken'):\n",
    "            decoded_sentence += ' '+sampled_token\n",
    "\n",
    "        #  <eos>에 도달하거나 최대 길이를 넘으면 중단.\n",
    "        if (sampled_token == 'eostoken'  or len(decoded_sentence.split()) >= (summary_max_len-1)):\n",
    "            stop_condition = True\n",
    "\n",
    "        # 길이가 1인 타겟 시퀀스를 업데이트\n",
    "        target_seq = np.zeros((1,1))\n",
    "        target_seq[0, 0] = sampled_token_index\n",
    "\n",
    "        # 상태를 업데이트 합니다.\n",
    "        e_h, e_c = h, c\n",
    "\n",
    "    return decoded_sentence.strip()"
   ]
  },
  {
   "cell_type": "markdown",
   "id": "8f9d7a18",
   "metadata": {},
   "source": [
    "모델 테스트하기"
   ]
  },
  {
   "cell_type": "code",
   "execution_count": 74,
   "id": "eae1baf4",
   "metadata": {},
   "outputs": [],
   "source": [
    "# 원문의 정수 시퀀스를 텍스트 시퀀스로 변환\n",
    "def seq2text(input_seq):\n",
    "    temp=''\n",
    "    for i in input_seq:\n",
    "        if (i!=0):\n",
    "            temp = temp + src_index_to_word[i]+' '\n",
    "    return temp\n",
    "\n",
    "# 요약문의 정수 시퀀스를 텍스트 시퀀스로 변환\n",
    "def seq2summary(input_seq):\n",
    "    temp=''\n",
    "    for i in input_seq:\n",
    "        if (i>2):\n",
    "            temp = temp + tar_index_to_word[i]+' '\n",
    "    return temp.strip()"
   ]
  },
  {
   "cell_type": "code",
   "execution_count": 87,
   "id": "c016af67",
   "metadata": {
    "scrolled": true
   },
   "outputs": [
    {
     "data": {
      "text/plain": [
       "19617"
      ]
     },
     "execution_count": 87,
     "metadata": {},
     "output_type": "execute_result"
    }
   ],
   "source": [
    "len(encoder_input_test)"
   ]
  },
  {
   "cell_type": "code",
   "execution_count": 75,
   "id": "744e0362",
   "metadata": {},
   "outputs": [
    {
     "name": "stdout",
     "output_type": "stream",
     "text": [
      "원문 : germany based ceo thursday offered resign days hailed historic merger firm steel making business india tata steel form joint venture asked supervisory board company end mandate ceo mutual agreement merger create europe second largest steelmaker arcelormittal \n",
      "실제 요약 : ceo offers resign days tata steel deal\n",
      "예측 요약 : tata steel ceo quits india chairman\n",
      "\n",
      "\n",
      "원문 : vice president venkaiah naidu saturday said google important could never replace place guru lives students adding students work serve mother mother tongue said india great heritage feel proud great indian culture \n",
      "실제 요약 : google cannot replace guru vice president venkaiah naidu\n",
      "예측 요약 : google vp naidu class vp\n",
      "\n",
      "\n",
      "원문 : denying rumours making biopic late actress sridevi filmmaker ram gopal verma said believe foolish attempt also cannot actress remotely worthy enough play late actress worked ram gopal varma telugu film \n",
      "실제 요약 : no actress enough play sridevi biopic rgv\n",
      "예측 요약 : actress slams husband raj\n",
      "\n",
      "\n",
      "원문 : russia pakistan monday began joint military exercise russian town two week long exercise aimed enhancing military ties two countries focus counter terrorism hostage rescue cordon search operations pakistan army said statement \n",
      "실제 요약 : russia pakistan launch two week joint military drill\n",
      "예측 요약 : us military holds military drills pakistan\n",
      "\n",
      "\n",
      "원문 : spain crashed fifa world cup round captain sergio ramos said play world cup qatar age white beard would like keep going many years leaving world cup terrible pain added \n",
      "실제 요약 : play next world cup white beard spain captain\n",
      "예측 요약 : wc winning wc final loss fifa world cup\n",
      "\n",
      "\n",
      "원문 : wife year old apple executive vivek tiwari shot dead police lucknow saturday written uttar pradesh chief minister yogi adityanath demanding cbi probe matter crore compensation wife also requested given job police department per educational qualifications \n",
      "실제 요약 : wife apple exec shot dead demands cr compensation\n",
      "예측 요약 : apple exec wife family family family family\n",
      "\n",
      "\n",
      "원문 : supreme court directed home ministry secure ensure presence vijay mallya currently united kingdom july comes apex court held liquor baron guilty contempt court not court orders not disclosing full assets \n",
      "실제 요약 : centre asked secure mallya presence sc july\n",
      "예측 요약 : sc asks centre give vijay mallya mallya\n",
      "\n",
      "\n",
      "원문 : twitter posted blank tweet official handle thursday led several users trolling social media company via memes reacting user tweeted brain exam tweets read hillary clinton presidential acceptance speech love life list reasons password \n",
      "실제 요약 : twitter posts blank tweet becomes viral meme\n",
      "예측 요약 : twitter reacts troll memes\n",
      "\n",
      "\n",
      "원문 : american travel company expedia ceo dara khosrowshahi appointed uber new ceo comes uber co founder ceo travis kalanick asked investors leave company june series controversies khosrowshahi headed expedia since serving chief financial officer media internet company seven years \n",
      "실제 요약 : uber appoints ceo dara khosrowshahi new ceo\n",
      "예측 요약 : uber ceo travis kalanick says ceo\n",
      "\n",
      "\n",
      "원문 : india coach delhi daredevils mentor rahul dravid asserted not involved conflict interest claimed former coa member ramachandra guha rules changed midway contract think unfair criticise breaking rules twisting rules suit convenience said dravid \n",
      "실제 요약 : absolutely not conflict interest rahul dravid\n",
      "예측 요약 : not bcci coach selection rahul\n",
      "\n",
      "\n",
      "원문 : kieron pollard sunil narine darren bravo andre russell among windies players miss world cup qualifiers march play pakistan super league selection chief revealed dwayne bravo not contacted indicated not play windies senior players chris gayle included squad \n",
      "실제 요약 : pollard narine choose pak super league wc\n",
      "예측 요약 : de villiers play ipl cricket team\n",
      "\n",
      "\n",
      "원문 : inaugurating country first lane expressway prime minister narendra modi sunday said country family speaking congress said know go modi even go country worship one family cannot respect democracy added \n",
      "실제 요약 : country family says pm modi\n",
      "예측 요약 : pm modi not take pm modi\n",
      "\n",
      "\n",
      "원문 : year study discovered butterfly unusual number blue exactly count humans species found mountains southern russia biologist vladimir colleagues studied hundred blue butterfly species dna closely related species \n",
      "실제 요약 : like humans found russia\n",
      "예측 요약 : scientists discover new species species\n",
      "\n",
      "\n",
      "원문 : two suspected islamist militants stabbed police officer death indonesian city sunday latest assault targeting officials world populous muslim country attackers scaled fence police post shouted allahu akbar stabbing officer police said nnn \n",
      "실제 요약 : attackers akbar killing indonesian cop\n",
      "예측 요약 : mob attack cop dead london\n",
      "\n",
      "\n",
      "원문 : ayushmann khurrana wife tahira kashyap earlier diagnosed stage cancer took instagram reveal completed final session chemotherapy keep calm journey learning immense tahira wrote earlier post tahira revealed would go sessions chemotherapy \n",
      "실제 요약 : cannot keep calm ayushmann wife completing\n",
      "예측 요약 : ayushmann wife diagnosed cancer\n",
      "\n",
      "\n",
      "원문 : tower skulls discovered near site mayor one main temples capital later became mexico city skulls represent sacrifices offerings sun ethnic groups mexico archaeologists said skulls would unearthed go added \n",
      "실제 요약 : tower human found near ancient temple\n",
      "예측 요약 : year old discovered discovered\n",
      "\n",
      "\n",
      "원문 : uefa handed lakh fine turkish football club cat invaded pitch forcing play briefly stopped champions league match bayern munich march charged organisation also penalised fans throwing objects blocking stadium \n",
      "실제 요약 : team fined lakh cat stopped champions league match\n",
      "예측 요약 : football club fined lakh\n",
      "\n",
      "\n",
      "원문 : nearly flights cancelled us phoenix hot planes fly nthe weather forecast suggests temperature could reach wednesday exceeding operating temperatures planes air lower density high temperatures reducing lift generated aircraft wings meaning engines need thrust get airborne \n",
      "실제 요약 : us city flights cancelled hot planes\n",
      "예측 요약 : us air force flights cut year\n",
      "\n",
      "\n",
      "원문 : boarding school african region known tanzania girls began abruptly laugh cry without cure laughing epidemic month half school shut mass later spread people various schools reportedly lasting months \n",
      "실제 요약 : laughing lasted months africa\n",
      "예측 요약 : boys boys school girls\n",
      "\n",
      "\n",
      "원문 : french carmaker renault unveiled autonomous electric concept car ez pro deliver wide range goods services city pods carry packages act food truck portable grocery store system also leader pod human sit carry administrative work \n",
      "실제 요약 : autonomous delivery concept car pods unveiled\n",
      "예측 요약 : mercedes recalls lakh cars\n",
      "\n",
      "\n",
      "원문 : united arab emirates pm sheikh mohammed bin rashid al maktoum ordered formation emergency committee provide relief kerala flood victims urging citizens help flood victims ahead eid al adha maktoum tweeted people kerala always still part success story uae \n",
      "실제 요약 : uae forms committee extend help kerala flood victims\n",
      "예측 요약 : uae pm modi meets kerala anti london floods\n",
      "\n",
      "\n",
      "원문 : supreme court monday pulled karnataka government nothing around investigation killing noted scholar mm long take completing investigation asked indicated may transfer case bombay high court supervision investigation \n",
      "실제 요약 : karnataka govt around probe sc\n",
      "예측 요약 : sc asks centre remove suicide\n",
      "\n",
      "\n",
      "원문 : radhika madan starrer ko nahi hota people choice award midnight madness segment rd toronto international film festival film first indian film featured festival midnight madness section talking award radhika said not know say surreal \n",
      "실제 요약 : ko nahi hota wins award film fest\n",
      "예측 요약 : sunny deol st film fest\n",
      "\n",
      "\n",
      "원문 : undisclosed wealth amounting crore offshore bank accounts detected investigations panama papers case central board direct taxes said income tax department conducted cases listed panama papers leak cbdt described cases cases non \n",
      "실제 요약 : cr undisclosed money detected panama probe dept\n",
      "예측 요약 : ed sends cr fraud gold fraud case\n",
      "\n",
      "\n",
      "원문 : ghaziabad court issued four non bailable warrants officials alleged breach trust warrants issued chairman director managing director joint md complaint lodged woman charges criminal breach trust cheating allegedly selling plot green belt ghaziabad nagar nigam \n",
      "실제 요약 : non bailable warrants issued officials\n",
      "예측 요약 : hc issues notice notice non bailable warrant\n",
      "\n",
      "\n",
      "원문 : reacting former pakistani skipper shahid afridi ball ton user tweeted simply sensational hitting afridi afridi boom boom mood another tweet read hold players field tonight not born afridi already playing international cricket \n",
      "실제 요약 : afridi afridi tweets user afridi ton\n",
      "예측 요약 : watch cricket tweets user afridi pic\n",
      "\n",
      "\n",
      "원문 : us president donald trump accused democrats treason not state union address democrats remained silent even pointed unemployment rate african americans lowest point ever added trump said democrats would rather see fail watch country well \n",
      "실제 요약 : trump calls democrats not clap\n",
      "예측 요약 : trump not need world worst longer us prez\n",
      "\n",
      "\n",
      "원문 : billionaire anand mahindra tweeted video showing kiosk team mumbai designed shoe doctor ram haryana mahindra said kiosk delivered soon ram advertised shop hospital injured shoes man teaching marketing indian institute management mahindra tweeted april \n",
      "실제 요약 : mahindra unveils new made haryana shoe doctor\n",
      "예측 요약 : anand mahindra shares video toilet mahindra\n",
      "\n",
      "\n",
      "원문 : honeypreet adopted daughter jailed self styled godman ram rahim allegedly paid crore dera panchkula branch head days ahead godman conviction spark violence police said information revealed ram rahim pa cum driver sit custody notably people died violence dera followers post godman conviction \n",
      "실제 요약 : honeypreet paid cr spark riots panchkula police\n",
      "예측 요약 : honeypreet arrested tamil nadu temple\n",
      "\n",
      "\n",
      "원문 : zimbabwe president emmerson mnangagwa appointed high ranking military officials top posts new cabinet major general appointed foreign minister head zimbabwe air force air marshal made minister agriculture land affairs mnangagwa sworn president last week following resignation robert mugabe \n",
      "실제 요약 : zimbabwe military officials given key posts new govt\n",
      "예측 요약 : zimbabwe prez zimbabwe chairman resigns amid economic crisis\n",
      "\n",
      "\n",
      "원문 : centre made mandatory ministries government departments seek finance ministry approval organising workshops expenditure exceeds lakh added departments exercise economy regard travel accommodation cost kept minimum comes two ministries reportedly posted bills \n",
      "실제 요약 : lakh govt events need finance ministry approval\n",
      "예측 요약 : govt clears lakh lakh air india\n",
      "\n",
      "\n",
      "원문 : cbse likely hold class board exams february get quality faculty improve time evaluating answer scripts according reports present exams start march coincides summer vacations teachers go leave time due get ad contractual staff evaluation affects quality reports added \n",
      "실제 요약 : cbse may hold board exams february instead march\n",
      "예측 요약 : cbse class board exam results claims cbse\n",
      "\n",
      "\n",
      "원문 : ysr congress chief ys jagan mohan reddy sunday said party ready move no confidence motion parliament bjp led nda government centre added party would even support andhra pradesh telugu desam party took step ysr congress reportedly decided pass motion march end \n",
      "실제 요약 : ysr congress ready move no confidence motion nda\n",
      "예측 요약 : nda support support bjp mp\n",
      "\n",
      "\n",
      "원문 : union minister satya pal singh informed parliament less graduates management technical engineering institutions get campus outcome based curriculum engineering management launched make industry oriented singh said institutions made responsible arranging students added \n",
      "실제 요약 : less engineers mba get campus\n",
      "예측 요약 : minister slams govt economic policy\n",
      "\n",
      "\n",
      "원문 : irrfan khan responding newspaper report tweeted would great called credible paper would cross check actor making headlines newspaper published report actor play lead film sister found dead convent kerala \n",
      "실제 요약 : newspaper cross check making irrfan\n",
      "예측 요약 : irrfan khan denies reports upcoming film\n",
      "\n",
      "\n",
      "원문 : government planning launch broadband services readiness index states based parameters like infrastructure approval processes utilisation high speed internet want ensure not limited urban areas telecom secretary aruna said evaluation states highlight best policies states adopt added \n",
      "실제 요약 : government launch broadband index states\n",
      "예측 요약 : govt plans open net rate\n",
      "\n",
      "\n",
      "원문 : ongc buying government stake reportedly not make open offer minority shareholders government holding transferred another state run firm management complexion remains official said transaction not trigger takeover code unless valuations absurd takeover make ongc third largest india \n",
      "실제 요약 : ongc not make open offer post hpcl takeover\n",
      "예측 요약 : not allow employees end till till sale\n",
      "\n",
      "\n",
      "원문 : prime minister narendra modi friday said previous governments seemed hate development looted public money win elections driven political calculations resulting schemes inaugurated never seeing completion added pm modi said two day visit varanasi inaugurated projects worth crore \n",
      "실제 요약 : previous govts hated development looted money pm modi\n",
      "예측 요약 : modi not agree buy modi future pm modi\n",
      "\n",
      "\n",
      "원문 : two muslim men jharkhand arrested sent jail sharing sensitive messages whatsapp group duo charged promoting enmity different groups acting outrage religious feelings police said first crackdown circulating provocative content social media state \n",
      "실제 요약 : muslims jailed sharing objectionable texts whatsapp\n",
      "예측 요약 : man held whatsapp whatsapp whatsapp\n",
      "\n",
      "\n",
      "원문 : kerala chief minister pinarayi vijayan speaking state assembly tuesday alleged rashtriya swayamsevak sangh behind assassination mahatma gandhi reacting statement state unit bjp given hours cpi leader apologise failing threatened take legal action \n",
      "실제 요약 : kerala cm vijayan says rss killed gandhi\n",
      "예측 요약 : kerala cm vijayan slams rss chief\n",
      "\n",
      "\n",
      "원문 : around ceo positions indian healthcare sector held promoters proxy advisory firm iias said added promoter ceos received median pay crore median pay received professional ceos almost chief executives sector paid crore iias said \n",
      "실제 요약 : ceo posts indian healthcare held promoters report\n",
      "예측 요약 : tata steel ceo resigns india ceo\n",
      "\n",
      "\n",
      "원문 : president pranab mukherjee given assent finance bill provisions bill come effect saturday give effect provisions like ban cash transactions lakh marks first time annual budget taxation proposals come effect financial year first day \n",
      "실제 요약 : finance bill gets president nod takes effect april\n",
      "예측 요약 : president bill proposes bill parliament parliament bill\n",
      "\n",
      "\n",
      "원문 : actor arjun kapoor thursday took instagram share childhood picture ranbir kapoor shraddha kapoor brother siddhanth birthday party garden birthday parties well attended award shows see ranbir jeans bit high ask though part caption read \n",
      "실제 요약 : arjun kapoor shares childhood pic ranbir kapoor\n",
      "예측 요약 : arjun shares old pic arjun kapoor birthday\n",
      "\n",
      "\n",
      "원문 : reacting censor board chief pahlaj nihalani remark film alcohol scenes essential would require certificate user tweeted pahlaj nihalani bans smoking drinking movies adds bio no smoking drinking movies murder rape scene violence dear censor board read another comment \n",
      "실제 요약 : twitter users react pahlaj remark alcohol scenes\n",
      "예측 요약 : cbfc chief calls kangana nude nude film\n",
      "\n",
      "\n",
      "원문 : soon launched dating app us president donald trump supporters warned sue try join platform said created cater rejected mainstream dating apps political beliefs app male users reported not pay first date \n",
      "실제 요약 : dating app trump fans says sue try join\n",
      "예측 요약 : trump asked pay cr users report\n",
      "\n",
      "\n",
      "원문 : beer production returned syria opening million brewery plans produce million litres beer year beer first mass produced domestic beer since civil war halted production country two brands importing beer lebanon \n",
      "실제 요약 : beer factory opens syria st time since war broke\n",
      "예측 요약 : world largest beer festival found crore\n",
      "\n",
      "\n",
      "원문 : government banned manufacturing sale distribution fixed dose combination drugs including immediate effect citing safety concerns health ministry said no therapeutic justification ingredients drugs may risky patients drugs two medicines contained single form \n",
      "실제 요약 : government bans medicines safety concerns\n",
      "예측 요약 : govt proposes ban sale drugs drugs\n",
      "\n",
      "\n",
      "원문 : india crude oil import bill likely jump billion weakening rupee made buying oil costlier government officials said india imports oil needs spent billion importing million tonnes crude oil rupee thursday touched time low dollar \n",
      "실제 요약 : india oil import bill may jump bn due rupee fall\n",
      "예측 요약 : india trade deficit hits full record bn\n",
      "\n",
      "\n",
      "원문 : india defeated sri lanka innings runs second test sunday taking unassailable lead three match series eighth straight test series win indian captain virat kohli surpassed steve waugh record seven consecutive test series wins captain behind ricky ponting nine \n",
      "실제 요약 : india beat sri lanka clinch th successive test series win\n",
      "예측 요약 : india beat sl register th odi win sl\n",
      "\n",
      "\n",
      "원문 : uk rejected india request ban pro khalistan event london held later month uk said people country right gather demonstrate views provided done within law us based sikhs justice holding referendum seeking punjab independence august \n",
      "실제 요약 : uk rejects india request ban pro khalistan event\n",
      "예측 요약 : uk indians detained anti indian origin\n",
      "\n",
      "\n"
     ]
    }
   ],
   "source": [
    "for i in range(50, 100):\n",
    "    print(\"원문 :\", seq2text(encoder_input_test[i]))\n",
    "    print(\"실제 요약 :\", seq2summary(decoder_input_test[i]))\n",
    "    print(\"예측 요약 :\", decode_sequence(encoder_input_test[i].reshape(1, text_max_len)))\n",
    "    print(\"\\n\")"
   ]
  },
  {
   "cell_type": "code",
   "execution_count": 76,
   "id": "81ccbce1",
   "metadata": {},
   "outputs": [
    {
     "data": {
      "text/plain": [
       "(19617, 50)"
      ]
     },
     "execution_count": 76,
     "metadata": {},
     "output_type": "execute_result"
    }
   ],
   "source": [
    "encoder_input_test.shape"
   ]
  },
  {
   "cell_type": "code",
   "execution_count": 88,
   "id": "6488608f",
   "metadata": {},
   "outputs": [],
   "source": [
    "summerize_test = []\n",
    "for i in trange(len(encoder_input_test)):\n",
    "    tmp = decode_sequence(encoder_input_test[i].reshape(1, text_max_len))\n",
    "    summerize_test.append(tmp)"
   ]
  },
  {
   "cell_type": "markdown",
   "id": "19be3f16",
   "metadata": {},
   "source": [
    "- stopwords를 제거하지 않았더니 상당히 잘 요약하는 것으로 보인다\n",
    "- 모든 test_data를 번역한 뒤에 이를 활용해서 ROUGE SCORE를 구해보려 했으나 시간이 너무 오래 걸려서 하지 못했다"
   ]
  },
  {
   "cell_type": "code",
   "execution_count": 78,
   "id": "2dc45e29",
   "metadata": {
    "scrolled": true
   },
   "outputs": [
    {
     "data": {
      "text/plain": [
       "2955"
      ]
     },
     "execution_count": 78,
     "metadata": {},
     "output_type": "execute_result"
    }
   ],
   "source": [
    "len(summerize_test)"
   ]
  },
  {
   "cell_type": "markdown",
   "id": "196e535f",
   "metadata": {},
   "source": [
    "### Step 5. Summa을 이용해서 추출적 요약해보기\n",
    "추상적 요약은 추출적 요약과는 달리 문장의 표현력을 다양하게 가져갈 수 있지만, 추출적 요약에 비해서 난이도가 높아요. 반대로 말하면 추출적 요약은 추상적 요약에 비해 난이도가 낮고 기존 문장에서 문장을 꺼내오는 것이므로 잘못된 요약이 나올 가능성이 낮아요.\n",
    "\n",
    "Summa의 summarize를 사용하여 추출적 요약을 해보세요."
   ]
  },
  {
   "cell_type": "markdown",
   "id": "e1e78bcf",
   "metadata": {},
   "source": [
    "- 너무 적은 문장의 경우에는 요약을 못한다"
   ]
  },
  {
   "cell_type": "code",
   "execution_count": 81,
   "id": "e89c6350",
   "metadata": {},
   "outputs": [],
   "source": [
    "import requests\n",
    "from summa.summarizer import summarize"
   ]
  },
  {
   "cell_type": "code",
   "execution_count": 82,
   "id": "176ffe23",
   "metadata": {},
   "outputs": [],
   "source": [
    "text = news.text[0]"
   ]
  },
  {
   "cell_type": "code",
   "execution_count": 83,
   "id": "dd7d6afc",
   "metadata": {},
   "outputs": [
    {
     "data": {
      "text/plain": [
       "\"Saurav Kant, an alumnus of upGrad and IIIT-B's PG Program in Machine learning and Artificial Intelligence, was a Sr Systems Engineer at Infosys with almost 5 years of work experience. The program and upGrad's 360-degree career support helped him transition to a Data Scientist at Tech Mahindra with 90% salary hike. upGrad's Online Power Learning has powered 3 lakh+ careers.\""
      ]
     },
     "execution_count": 83,
     "metadata": {},
     "output_type": "execute_result"
    }
   ],
   "source": [
    "text"
   ]
  },
  {
   "cell_type": "code",
   "execution_count": 84,
   "id": "f3663736",
   "metadata": {
    "scrolled": true
   },
   "outputs": [
    {
     "name": "stdout",
     "output_type": "stream",
     "text": [
      "Summary:\n",
      "upGrad's Online Power Learning has powered 3 lakh+ careers.\n"
     ]
    }
   ],
   "source": [
    "print('Summary:')\n",
    "print(summarize(text, words=15))"
   ]
  },
  {
   "cell_type": "code",
   "execution_count": 85,
   "id": "abe57705",
   "metadata": {},
   "outputs": [
    {
     "name": "stderr",
     "output_type": "stream",
     "text": [
      "100%|██████████| 98360/98360 [01:41<00:00, 969.38it/s] \n"
     ]
    }
   ],
   "source": [
    "news['summa_summarize'] = news['text'].progress_apply(lambda x: summarize(x, words=15))"
   ]
  },
  {
   "cell_type": "code",
   "execution_count": 86,
   "id": "d4ffee40",
   "metadata": {
    "scrolled": true
   },
   "outputs": [
    {
     "data": {
      "text/plain": [
       "78779    Workers of Vivo phone factory on Tuesday prote...\n",
       "78780    A London office asked employees to wrap their ...\n",
       "78781    Senior Lawyer Ram Jethmalani has quit as Delhi...\n",
       "78782    Air India has grounded two female pilots after...\n",
       "78783    Niti Aayog cited Air India's \"fragile finances...\n",
       "                               ...                        \n",
       "98396    A CRPF jawan was on Tuesday axed to death with...\n",
       "98397    'Uff Yeh', the first song from the Sonakshi Si...\n",
       "98398    Michael B Jordan will reportedly play the lead...\n",
       "98399    The video also shows a TV airing a news confer...\n",
       "98400                                                     \n",
       "Name: summa_summarize, Length: 19617, dtype: object"
      ]
     },
     "execution_count": 86,
     "metadata": {},
     "output_type": "execute_result"
    }
   ],
   "source": [
    "news['summa_summarize'].iloc[-n_of_val:]"
   ]
  },
  {
   "cell_type": "code",
   "execution_count": 89,
   "id": "118c0116",
   "metadata": {},
   "outputs": [
    {
     "data": {
      "text/plain": [
       "(98360, 3)"
      ]
     },
     "execution_count": 89,
     "metadata": {},
     "output_type": "execute_result"
    }
   ],
   "source": [
    "news.shape"
   ]
  },
  {
   "cell_type": "code",
   "execution_count": 90,
   "id": "e31f074b",
   "metadata": {},
   "outputs": [
    {
     "data": {
      "text/plain": [
       "(98086, 4)"
      ]
     },
     "execution_count": 90,
     "metadata": {},
     "output_type": "execute_result"
    }
   ],
   "source": [
    "data.shape"
   ]
  },
  {
   "cell_type": "code",
   "execution_count": 91,
   "id": "0dc8679e",
   "metadata": {},
   "outputs": [],
   "source": [
    "all_data = data.merge(news, how='left', right_index=True, left_index=True, suffixes=['','_raw'])"
   ]
  },
  {
   "cell_type": "code",
   "execution_count": 92,
   "id": "a65e6983",
   "metadata": {},
   "outputs": [
    {
     "data": {
      "text/plain": [
       "(98086, 7)"
      ]
     },
     "execution_count": 92,
     "metadata": {},
     "output_type": "execute_result"
    }
   ],
   "source": [
    "all_data.shape"
   ]
  },
  {
   "cell_type": "code",
   "execution_count": 93,
   "id": "6f65826c",
   "metadata": {
    "scrolled": true
   },
   "outputs": [],
   "source": [
    "test_data = all_data.iloc[-n_of_val:]"
   ]
  },
  {
   "cell_type": "code",
   "execution_count": 94,
   "id": "7ed4c473",
   "metadata": {},
   "outputs": [],
   "source": [
    "samples = test_data.sample(10)"
   ]
  },
  {
   "cell_type": "code",
   "execution_count": 95,
   "id": "8c586b44",
   "metadata": {},
   "outputs": [
    {
     "data": {
      "text/html": [
       "<div>\n",
       "<style scoped>\n",
       "    .dataframe tbody tr th:only-of-type {\n",
       "        vertical-align: middle;\n",
       "    }\n",
       "\n",
       "    .dataframe tbody tr th {\n",
       "        vertical-align: top;\n",
       "    }\n",
       "\n",
       "    .dataframe thead th {\n",
       "        text-align: right;\n",
       "    }\n",
       "</style>\n",
       "<table border=\"1\" class=\"dataframe\">\n",
       "  <thead>\n",
       "    <tr style=\"text-align: right;\">\n",
       "      <th></th>\n",
       "      <th>headlines</th>\n",
       "      <th>text</th>\n",
       "      <th>decoder_input</th>\n",
       "      <th>decoder_target</th>\n",
       "      <th>headlines_raw</th>\n",
       "      <th>text_raw</th>\n",
       "      <th>summa_summarize</th>\n",
       "    </tr>\n",
       "  </thead>\n",
       "  <tbody>\n",
       "    <tr>\n",
       "      <th>83552</th>\n",
       "      <td>oracle founder larry ellison gets bn richer days</td>\n",
       "      <td>american computer technology major oracle year...</td>\n",
       "      <td>sostoken oracle founder larry ellison gets bn ...</td>\n",
       "      <td>oracle founder larry ellison gets bn richer da...</td>\n",
       "      <td>Oracle Founder Larry Ellison gets $5 bn richer...</td>\n",
       "      <td>American computer technology major Oracle's 72...</td>\n",
       "      <td>American computer technology major Oracle's 72...</td>\n",
       "    </tr>\n",
       "    <tr>\n",
       "      <th>79626</th>\n",
       "      <td>eat tv bitcoin not hit cr mcafee</td>\n",
       "      <td>founder mcafee anti virus software john mcafee...</td>\n",
       "      <td>sostoken eat tv bitcoin not hit cr mcafee</td>\n",
       "      <td>eat tv bitcoin not hit cr mcafee eostoken</td>\n",
       "      <td>I'll eat my d**k on TV if Bitcoin doesn't hit ...</td>\n",
       "      <td>Founder of McAfee anti-virus software John McA...</td>\n",
       "      <td></td>\n",
       "    </tr>\n",
       "    <tr>\n",
       "      <th>83739</th>\n",
       "      <td>two friends indore grab india ranks neet</td>\n",
       "      <td>two friends archit gupta manish mulchandani in...</td>\n",
       "      <td>sostoken two friends indore grab india ranks neet</td>\n",
       "      <td>two friends indore grab india ranks neet eostoken</td>\n",
       "      <td>Two friends from Indore grab All India Ranks 2...</td>\n",
       "      <td>Two friends Archit Gupta and Manish Mulchandan...</td>\n",
       "      <td>Both Gupta and Mulchandani left their homes to...</td>\n",
       "    </tr>\n",
       "    <tr>\n",
       "      <th>97467</th>\n",
       "      <td>merger idea not reliance jio vodafone ceo</td>\n",
       "      <td>vodafone ceo vittorio colao responding questio...</td>\n",
       "      <td>sostoken merger idea not reliance jio vodafone...</td>\n",
       "      <td>merger idea not reliance jio vodafone ceo eost...</td>\n",
       "      <td>Merger with Idea not because of Reliance Jio: ...</td>\n",
       "      <td>Vodafone CEO Vittorio Colao, while responding ...</td>\n",
       "      <td></td>\n",
       "    </tr>\n",
       "    <tr>\n",
       "      <th>93527</th>\n",
       "      <td>man says dragged plane worse fleeing vietnam</td>\n",
       "      <td>passenger dragged united airlines flight said ...</td>\n",
       "      <td>sostoken man says dragged plane worse fleeing ...</td>\n",
       "      <td>man says dragged plane worse fleeing vietnam e...</td>\n",
       "      <td>Man says being dragged off plane worse than fl...</td>\n",
       "      <td>The passenger who was dragged from a United Ai...</td>\n",
       "      <td></td>\n",
       "    </tr>\n",
       "    <tr>\n",
       "      <th>86689</th>\n",
       "      <td>pichai disappointed us pulling paris agreement</td>\n",
       "      <td>google ceo sundar pichai friday took twitter t...</td>\n",
       "      <td>sostoken pichai disappointed us pulling paris ...</td>\n",
       "      <td>pichai disappointed us pulling paris agreement...</td>\n",
       "      <td>Pichai 'disappointed' with US pulling out of P...</td>\n",
       "      <td>Google CEO Sundar Pichai on Friday took to Twi...</td>\n",
       "      <td>Google CEO Sundar Pichai on Friday took to Twi...</td>\n",
       "    </tr>\n",
       "    <tr>\n",
       "      <th>87748</th>\n",
       "      <td>indian forced pak man marry allowed return</td>\n",
       "      <td>islamabad high court allowed uzma indian woman...</td>\n",
       "      <td>sostoken indian forced pak man marry allowed r...</td>\n",
       "      <td>indian forced pak man marry allowed return eos...</td>\n",
       "      <td>Indian who was forced by Pak man to marry allo...</td>\n",
       "      <td>The Islamabad High Court has allowed Uzma, the...</td>\n",
       "      <td>The Islamabad High Court has allowed Uzma, the...</td>\n",
       "    </tr>\n",
       "    <tr>\n",
       "      <th>86426</th>\n",
       "      <td>raised block refugee rescue missions sea</td>\n",
       "      <td>members anti islam anti immigrant identitarian...</td>\n",
       "      <td>sostoken raised block refugee rescue missions sea</td>\n",
       "      <td>raised block refugee rescue missions sea eostoken</td>\n",
       "      <td>Over ÃÂ£50,000 raised to block refugee rescue...</td>\n",
       "      <td>Members of the anti-Islam and anti-immigrant '...</td>\n",
       "      <td></td>\n",
       "    </tr>\n",
       "    <tr>\n",
       "      <th>97993</th>\n",
       "      <td>modi govt build toilets madrassas minister</td>\n",
       "      <td>union minister mukhtar abbas naqvi saturday sa...</td>\n",
       "      <td>sostoken modi govt build toilets madrassas min...</td>\n",
       "      <td>modi govt build toilets madrassas minister eos...</td>\n",
       "      <td>Modi govt to build toilets in 1L madrassas by ...</td>\n",
       "      <td>Union Minister Mukhtar Abbas Naqvi on Saturday...</td>\n",
       "      <td>Union Minister Mukhtar Abbas Naqvi on Saturday...</td>\n",
       "    </tr>\n",
       "    <tr>\n",
       "      <th>86229</th>\n",
       "      <td>kapil replies fan query sunil returning show</td>\n",
       "      <td>comedian kapil sharma responding fan query sun...</td>\n",
       "      <td>sostoken kapil replies fan query sunil returni...</td>\n",
       "      <td>kapil replies fan query sunil returning show e...</td>\n",
       "      <td>Kapil replies to fan's query on Sunil returnin...</td>\n",
       "      <td>Comedian Kapil Sharma, while responding to a f...</td>\n",
       "      <td></td>\n",
       "    </tr>\n",
       "  </tbody>\n",
       "</table>\n",
       "</div>"
      ],
      "text/plain": [
       "                                              headlines  \\\n",
       "83552  oracle founder larry ellison gets bn richer days   \n",
       "79626                  eat tv bitcoin not hit cr mcafee   \n",
       "83739          two friends indore grab india ranks neet   \n",
       "97467         merger idea not reliance jio vodafone ceo   \n",
       "93527      man says dragged plane worse fleeing vietnam   \n",
       "86689    pichai disappointed us pulling paris agreement   \n",
       "87748        indian forced pak man marry allowed return   \n",
       "86426          raised block refugee rescue missions sea   \n",
       "97993        modi govt build toilets madrassas minister   \n",
       "86229      kapil replies fan query sunil returning show   \n",
       "\n",
       "                                                    text  \\\n",
       "83552  american computer technology major oracle year...   \n",
       "79626  founder mcafee anti virus software john mcafee...   \n",
       "83739  two friends archit gupta manish mulchandani in...   \n",
       "97467  vodafone ceo vittorio colao responding questio...   \n",
       "93527  passenger dragged united airlines flight said ...   \n",
       "86689  google ceo sundar pichai friday took twitter t...   \n",
       "87748  islamabad high court allowed uzma indian woman...   \n",
       "86426  members anti islam anti immigrant identitarian...   \n",
       "97993  union minister mukhtar abbas naqvi saturday sa...   \n",
       "86229  comedian kapil sharma responding fan query sun...   \n",
       "\n",
       "                                           decoder_input  \\\n",
       "83552  sostoken oracle founder larry ellison gets bn ...   \n",
       "79626          sostoken eat tv bitcoin not hit cr mcafee   \n",
       "83739  sostoken two friends indore grab india ranks neet   \n",
       "97467  sostoken merger idea not reliance jio vodafone...   \n",
       "93527  sostoken man says dragged plane worse fleeing ...   \n",
       "86689  sostoken pichai disappointed us pulling paris ...   \n",
       "87748  sostoken indian forced pak man marry allowed r...   \n",
       "86426  sostoken raised block refugee rescue missions sea   \n",
       "97993  sostoken modi govt build toilets madrassas min...   \n",
       "86229  sostoken kapil replies fan query sunil returni...   \n",
       "\n",
       "                                          decoder_target  \\\n",
       "83552  oracle founder larry ellison gets bn richer da...   \n",
       "79626          eat tv bitcoin not hit cr mcafee eostoken   \n",
       "83739  two friends indore grab india ranks neet eostoken   \n",
       "97467  merger idea not reliance jio vodafone ceo eost...   \n",
       "93527  man says dragged plane worse fleeing vietnam e...   \n",
       "86689  pichai disappointed us pulling paris agreement...   \n",
       "87748  indian forced pak man marry allowed return eos...   \n",
       "86426  raised block refugee rescue missions sea eostoken   \n",
       "97993  modi govt build toilets madrassas minister eos...   \n",
       "86229  kapil replies fan query sunil returning show e...   \n",
       "\n",
       "                                           headlines_raw  \\\n",
       "83552  Oracle Founder Larry Ellison gets $5 bn richer...   \n",
       "79626  I'll eat my d**k on TV if Bitcoin doesn't hit ...   \n",
       "83739  Two friends from Indore grab All India Ranks 2...   \n",
       "97467  Merger with Idea not because of Reliance Jio: ...   \n",
       "93527  Man says being dragged off plane worse than fl...   \n",
       "86689  Pichai 'disappointed' with US pulling out of P...   \n",
       "87748  Indian who was forced by Pak man to marry allo...   \n",
       "86426  Over ÃÂ£50,000 raised to block refugee rescue...   \n",
       "97993  Modi govt to build toilets in 1L madrassas by ...   \n",
       "86229  Kapil replies to fan's query on Sunil returnin...   \n",
       "\n",
       "                                                text_raw  \\\n",
       "83552  American computer technology major Oracle's 72...   \n",
       "79626  Founder of McAfee anti-virus software John McA...   \n",
       "83739  Two friends Archit Gupta and Manish Mulchandan...   \n",
       "97467  Vodafone CEO Vittorio Colao, while responding ...   \n",
       "93527  The passenger who was dragged from a United Ai...   \n",
       "86689  Google CEO Sundar Pichai on Friday took to Twi...   \n",
       "87748  The Islamabad High Court has allowed Uzma, the...   \n",
       "86426  Members of the anti-Islam and anti-immigrant '...   \n",
       "97993  Union Minister Mukhtar Abbas Naqvi on Saturday...   \n",
       "86229  Comedian Kapil Sharma, while responding to a f...   \n",
       "\n",
       "                                         summa_summarize  \n",
       "83552  American computer technology major Oracle's 72...  \n",
       "79626                                                     \n",
       "83739  Both Gupta and Mulchandani left their homes to...  \n",
       "97467                                                     \n",
       "93527                                                     \n",
       "86689  Google CEO Sundar Pichai on Friday took to Twi...  \n",
       "87748  The Islamabad High Court has allowed Uzma, the...  \n",
       "86426                                                     \n",
       "97993  Union Minister Mukhtar Abbas Naqvi on Saturday...  \n",
       "86229                                                     "
      ]
     },
     "execution_count": 95,
     "metadata": {},
     "output_type": "execute_result"
    }
   ],
   "source": [
    "samples"
   ]
  },
  {
   "cell_type": "markdown",
   "id": "25dd69b9",
   "metadata": {},
   "source": [
    "# 테스트"
   ]
  },
  {
   "cell_type": "markdown",
   "id": "e6ecfad3",
   "metadata": {},
   "source": [
    "- raw 문장에서 한번에 예측까지 하는 함수를 만들었고 이를 활용하여 전체 예측과정을 수행하였다\n",
    "- 완전 새로운 뉴스데이터를 가져오려하였으나 용량 및 길이등의 문제로 test data(validation) 에서 샘플링을 하였다"
   ]
  },
  {
   "cell_type": "code",
   "execution_count": 96,
   "id": "cd27177f",
   "metadata": {},
   "outputs": [],
   "source": [
    "def make_summary(text):\n",
    "    pp = preprocess_sentence(text, False)\n",
    "    ppd = src_tokenizer.texts_to_sequences([pp])\n",
    "    ps = pad_sequences(ppd, maxlen=text_max_len, padding='post')\n",
    "    result = decode_sequence(ps.reshape(1, text_max_len))\n",
    "    return result"
   ]
  },
  {
   "cell_type": "code",
   "execution_count": 97,
   "id": "f3a1fe1f",
   "metadata": {},
   "outputs": [],
   "source": [
    "results = []\n",
    "for text in samples.text_raw:\n",
    "    result = make_summary(text)\n",
    "    results.append(result)"
   ]
  },
  {
   "cell_type": "code",
   "execution_count": 98,
   "id": "7308b865",
   "metadata": {},
   "outputs": [],
   "source": [
    "samples['summary'] = results"
   ]
  },
  {
   "cell_type": "code",
   "execution_count": 99,
   "id": "2e31f099",
   "metadata": {},
   "outputs": [
    {
     "data": {
      "text/html": [
       "<div>\n",
       "<style scoped>\n",
       "    .dataframe tbody tr th:only-of-type {\n",
       "        vertical-align: middle;\n",
       "    }\n",
       "\n",
       "    .dataframe tbody tr th {\n",
       "        vertical-align: top;\n",
       "    }\n",
       "\n",
       "    .dataframe thead th {\n",
       "        text-align: right;\n",
       "    }\n",
       "</style>\n",
       "<table border=\"1\" class=\"dataframe\">\n",
       "  <thead>\n",
       "    <tr style=\"text-align: right;\">\n",
       "      <th></th>\n",
       "      <th>headlines</th>\n",
       "      <th>text</th>\n",
       "      <th>decoder_input</th>\n",
       "      <th>decoder_target</th>\n",
       "      <th>headlines_raw</th>\n",
       "      <th>text_raw</th>\n",
       "      <th>summa_summarize</th>\n",
       "      <th>summary</th>\n",
       "    </tr>\n",
       "  </thead>\n",
       "  <tbody>\n",
       "    <tr>\n",
       "      <th>83552</th>\n",
       "      <td>oracle founder larry ellison gets bn richer days</td>\n",
       "      <td>american computer technology major oracle year...</td>\n",
       "      <td>sostoken oracle founder larry ellison gets bn ...</td>\n",
       "      <td>oracle founder larry ellison gets bn richer da...</td>\n",
       "      <td>Oracle Founder Larry Ellison gets $5 bn richer...</td>\n",
       "      <td>American computer technology major Oracle's 72...</td>\n",
       "      <td>American computer technology major Oracle's 72...</td>\n",
       "      <td>net net worth crore yr</td>\n",
       "    </tr>\n",
       "    <tr>\n",
       "      <th>79626</th>\n",
       "      <td>eat tv bitcoin not hit cr mcafee</td>\n",
       "      <td>founder mcafee anti virus software john mcafee...</td>\n",
       "      <td>sostoken eat tv bitcoin not hit cr mcafee</td>\n",
       "      <td>eat tv bitcoin not hit cr mcafee eostoken</td>\n",
       "      <td>I'll eat my d**k on TV if Bitcoin doesn't hit ...</td>\n",
       "      <td>Founder of McAfee anti-virus software John McA...</td>\n",
       "      <td></td>\n",
       "      <td>bitcoin could hit bn due power mcafee</td>\n",
       "    </tr>\n",
       "    <tr>\n",
       "      <th>83739</th>\n",
       "      <td>two friends indore grab india ranks neet</td>\n",
       "      <td>two friends archit gupta manish mulchandani in...</td>\n",
       "      <td>sostoken two friends indore grab india ranks neet</td>\n",
       "      <td>two friends indore grab india ranks neet eostoken</td>\n",
       "      <td>Two friends from Indore grab All India Ranks 2...</td>\n",
       "      <td>Two friends Archit Gupta and Manish Mulchandan...</td>\n",
       "      <td>Both Gupta and Mulchandani left their homes to...</td>\n",
       "      <td>india jee main</td>\n",
       "    </tr>\n",
       "    <tr>\n",
       "      <th>97467</th>\n",
       "      <td>merger idea not reliance jio vodafone ceo</td>\n",
       "      <td>vodafone ceo vittorio colao responding questio...</td>\n",
       "      <td>sostoken merger idea not reliance jio vodafone...</td>\n",
       "      <td>merger idea not reliance jio vodafone ceo eost...</td>\n",
       "      <td>Merger with Idea not because of Reliance Jio: ...</td>\n",
       "      <td>Vodafone CEO Vittorio Colao, while responding ...</td>\n",
       "      <td></td>\n",
       "      <td>not believe vodafone idea vodafone idea vodafo...</td>\n",
       "    </tr>\n",
       "    <tr>\n",
       "      <th>93527</th>\n",
       "      <td>man says dragged plane worse fleeing vietnam</td>\n",
       "      <td>passenger dragged united airlines flight said ...</td>\n",
       "      <td>sostoken man says dragged plane worse fleeing ...</td>\n",
       "      <td>man says dragged plane worse fleeing vietnam e...</td>\n",
       "      <td>Man says being dragged off plane worse than fl...</td>\n",
       "      <td>The passenger who was dragged from a United Ai...</td>\n",
       "      <td></td>\n",
       "      <td>man united flight</td>\n",
       "    </tr>\n",
       "  </tbody>\n",
       "</table>\n",
       "</div>"
      ],
      "text/plain": [
       "                                              headlines  \\\n",
       "83552  oracle founder larry ellison gets bn richer days   \n",
       "79626                  eat tv bitcoin not hit cr mcafee   \n",
       "83739          two friends indore grab india ranks neet   \n",
       "97467         merger idea not reliance jio vodafone ceo   \n",
       "93527      man says dragged plane worse fleeing vietnam   \n",
       "\n",
       "                                                    text  \\\n",
       "83552  american computer technology major oracle year...   \n",
       "79626  founder mcafee anti virus software john mcafee...   \n",
       "83739  two friends archit gupta manish mulchandani in...   \n",
       "97467  vodafone ceo vittorio colao responding questio...   \n",
       "93527  passenger dragged united airlines flight said ...   \n",
       "\n",
       "                                           decoder_input  \\\n",
       "83552  sostoken oracle founder larry ellison gets bn ...   \n",
       "79626          sostoken eat tv bitcoin not hit cr mcafee   \n",
       "83739  sostoken two friends indore grab india ranks neet   \n",
       "97467  sostoken merger idea not reliance jio vodafone...   \n",
       "93527  sostoken man says dragged plane worse fleeing ...   \n",
       "\n",
       "                                          decoder_target  \\\n",
       "83552  oracle founder larry ellison gets bn richer da...   \n",
       "79626          eat tv bitcoin not hit cr mcafee eostoken   \n",
       "83739  two friends indore grab india ranks neet eostoken   \n",
       "97467  merger idea not reliance jio vodafone ceo eost...   \n",
       "93527  man says dragged plane worse fleeing vietnam e...   \n",
       "\n",
       "                                           headlines_raw  \\\n",
       "83552  Oracle Founder Larry Ellison gets $5 bn richer...   \n",
       "79626  I'll eat my d**k on TV if Bitcoin doesn't hit ...   \n",
       "83739  Two friends from Indore grab All India Ranks 2...   \n",
       "97467  Merger with Idea not because of Reliance Jio: ...   \n",
       "93527  Man says being dragged off plane worse than fl...   \n",
       "\n",
       "                                                text_raw  \\\n",
       "83552  American computer technology major Oracle's 72...   \n",
       "79626  Founder of McAfee anti-virus software John McA...   \n",
       "83739  Two friends Archit Gupta and Manish Mulchandan...   \n",
       "97467  Vodafone CEO Vittorio Colao, while responding ...   \n",
       "93527  The passenger who was dragged from a United Ai...   \n",
       "\n",
       "                                         summa_summarize  \\\n",
       "83552  American computer technology major Oracle's 72...   \n",
       "79626                                                      \n",
       "83739  Both Gupta and Mulchandani left their homes to...   \n",
       "97467                                                      \n",
       "93527                                                      \n",
       "\n",
       "                                                 summary  \n",
       "83552                             net net worth crore yr  \n",
       "79626              bitcoin could hit bn due power mcafee  \n",
       "83739                                     india jee main  \n",
       "97467  not believe vodafone idea vodafone idea vodafo...  \n",
       "93527                                  man united flight  "
      ]
     },
     "execution_count": 99,
     "metadata": {},
     "output_type": "execute_result"
    }
   ],
   "source": [
    "samples.head()"
   ]
  },
  {
   "cell_type": "code",
   "execution_count": 100,
   "id": "9a368361",
   "metadata": {},
   "outputs": [
    {
     "name": "stdout",
     "output_type": "stream",
     "text": [
      "원문 : American computer technology major Oracle's 72-year-old Co-founder, Larry Ellison's net worth has jumped by $5 billion in two days to hit $61.8 billion. The jump in his net worth came from his around 25% stake in Oracle, after his company's shares soared following fourth-quarter earnings that exceeded analysts' expectations. Ellison is currently the seventh richest person in the world.\n",
      "실제 요약 : oracle founder larry ellison gets bn richer days\n",
      "예측 요약 : net net worth crore yr\n",
      "추출적 요약 : American computer technology major Oracle's 72-year-old Co-founder, Larry Ellison's net worth has jumped by $5 billion in two days to hit $61.8 billion.\n",
      "\n",
      "\n",
      "원문 : Founder of McAfee anti-virus software John McAfee has tweeted that he will \"eat his d**k on national television\" if the price of Bitcoin doesn't cross $500,000 (about Ã¢ÂÂ¹3.2 crore) in three years. The digital currency Bitcoin reached a high of $3,018 in mid-June but dropped below $2,000 over the past weekend. The overall cryptocurrency market hit $80 billion on Tuesday.\n",
      "실제 요약 : eat tv bitcoin not hit cr mcafee\n",
      "예측 요약 : bitcoin could hit bn due power mcafee\n",
      "추출적 요약 : \n",
      "\n",
      "\n",
      "원문 : Two friends Archit Gupta and Manish Mulchandani from Indore have secured All India Ranks 2 and 3 in the 2017 National Eligibility-cum-Entrance Test (NEET). Both Gupta and Mulchandani left their homes to live in a hostel to concentrate on their studies and encourage each other. \"...it is a healthy competition and it helped us both in scoring well,\" Mulchandani said.\n",
      "실제 요약 : two friends indore grab india ranks neet\n",
      "예측 요약 : india jee main\n",
      "추출적 요약 : Both Gupta and Mulchandani left their homes to live in a hostel to concentrate on their studies and encourage each other.\n",
      "\n",
      "\n",
      "원문 : Vodafone CEO Vittorio Colao, while responding to a question on whether the merger with Idea was due to Reliance Jio, said, \"[I]t is not just about Jio.\" \"You all talk about Jio. But the market leader is someone else,\" he stated. Further, Kumar Mangalam Birla, who'll be the merged entity's Chairman, said it's \"business logic\" that has driven this combination.\n",
      "실제 요약 : merger idea not reliance jio vodafone ceo\n",
      "예측 요약 : not believe vodafone idea vodafone idea vodafone ceo\n",
      "추출적 요약 : \n",
      "\n",
      "\n",
      "원문 : The passenger who was dragged from a United Airlines flight has said the treatment he received at the hands of police officers was \"more horrifying\" than when he fled Vietnam in 1975 during the fall of Saigon. The man's lawyer further revealed that he had been left with a broken nose, concussion and lost front two teeth after the incident.\n",
      "실제 요약 : man says dragged plane worse fleeing vietnam\n",
      "예측 요약 : man united flight\n",
      "추출적 요약 : \n",
      "\n",
      "\n",
      "원문 : Google CEO Sundar Pichai on Friday took to Twitter to tweet that he is \"disappointed\" with US President Donald Trump's decision to pull the US out of Paris climate agreement. The US would join Syria and Nicaragua as the world's only non-participants in the 195-nation accord. Paris climate agreement is the first legally binding global deal to fight climate change.\n",
      "실제 요약 : pichai disappointed us pulling paris agreement\n",
      "예측 요약 : trump climate change war climate change ex ceo\n",
      "추출적 요약 : Google CEO Sundar Pichai on Friday took to Twitter to tweet that he is \"disappointed\" with US President Donald Trump's decision to pull the US out of Paris climate agreement.\n",
      "\n",
      "\n",
      "원문 : The Islamabad High Court has allowed Uzma, the Indian woman who had accused a Pakistani man of forcing her into marriage, to return home. The court also ordered that police provide security to her till the Wagah border. The woman in her early 20s had travelled to Pakistan earlier this month and her travel documents were seized by 'her husband'.\n",
      "실제 요약 : indian forced pak man marry allowed return\n",
      "예측 요약 : court allows woman marry indians get married\n",
      "추출적 요약 : The Islamabad High Court has allowed Uzma, the Indian woman who had accused a Pakistani man of forcing her into marriage, to return home.\n",
      "\n",
      "\n",
      "원문 : Members of the anti-Islam and anti-immigrant 'Identitarian' movement have raised over ÃÂ£50,000 in less than three weeks to disrupt boats run by aid charities to help rescue refugees in the Mediterranean Sea, according to reports. The money was raised through an anonymous crowdfunding campaign. Notably, aid charities have saved more than 6,000 refugees heading towards Europe from drowning this year.\n",
      "실제 요약 : raised block refugee rescue missions sea\n",
      "예측 요약 : rights group punjab held\n",
      "추출적 요약 : \n",
      "\n",
      "\n",
      "원문 : Union Minister Mukhtar Abbas Naqvi on Saturday said that the Modi government will build toilets in one lakh madrassas in the country by the end of the next financial year. The project will be carried out under Swachh Bharat Mission. Furthermore, three states Ã¢ÂÂ Sikkim, Kerala, Himachal Pradesh Ã¢ÂÂ have been declared open defecation free.\n",
      "실제 요약 : modi govt build toilets madrassas minister\n",
      "예측 요약 : govt build govt build people build houses\n",
      "추출적 요약 : Union Minister Mukhtar Abbas Naqvi on Saturday said that the Modi government will build toilets in one lakh madrassas in the country by the end of the next financial year.\n",
      "\n",
      "\n",
      "원문 : Comedian Kapil Sharma, while responding to a fan's query about Sunil Grover returning to his show, tweeted, \"Jab b unka dil kare...I told him many times.\" Sunil hasn't shot for the show after he and Kapil were involved in a brawl on a flight in March. Kapil reportedly physically assaulted Sunil and threw a shoe at him. \n",
      "실제 요약 : kapil replies fan query sunil returning show\n",
      "예측 요약 : kapil sharma shares video show sunil grover\n",
      "추출적 요약 : \n",
      "\n",
      "\n"
     ]
    }
   ],
   "source": [
    "for i in range(10):\n",
    "    print(\"원문 :\", samples.text_raw.tolist()[i])\n",
    "    print(\"실제 요약 :\", samples.headlines.tolist()[i])\n",
    "    print(\"예측 요약 :\", samples.summary.tolist()[i])\n",
    "    print(\"추출적 요약 :\", samples.summa_summarize.tolist()[i])\n",
    "    print(\"\\n\")"
   ]
  },
  {
   "cell_type": "code",
   "execution_count": 104,
   "id": "2f7c6781",
   "metadata": {},
   "outputs": [
    {
     "name": "stdout",
     "output_type": "stream",
     "text": [
      "Collecting rouge-score\n",
      "  Downloading rouge_score-0.1.2.tar.gz (17 kB)\n",
      "  Preparing metadata (setup.py) ... \u001b[?25ldone\n",
      "\u001b[?25hRequirement already satisfied: absl-py in /opt/conda/lib/python3.9/site-packages (from rouge-score) (0.12.0)\n",
      "Requirement already satisfied: nltk in /opt/conda/lib/python3.9/site-packages (from rouge-score) (3.6.5)\n",
      "Requirement already satisfied: numpy in /opt/conda/lib/python3.9/site-packages (from rouge-score) (1.21.4)\n",
      "Requirement already satisfied: six>=1.14.0 in /opt/conda/lib/python3.9/site-packages (from rouge-score) (1.16.0)\n",
      "Requirement already satisfied: click in /opt/conda/lib/python3.9/site-packages (from nltk->rouge-score) (8.0.3)\n",
      "Requirement already satisfied: regex>=2021.8.3 in /opt/conda/lib/python3.9/site-packages (from nltk->rouge-score) (2021.11.10)\n",
      "Requirement already satisfied: joblib in /opt/conda/lib/python3.9/site-packages (from nltk->rouge-score) (1.1.0)\n",
      "Requirement already satisfied: tqdm in /opt/conda/lib/python3.9/site-packages (from nltk->rouge-score) (4.62.3)\n",
      "Building wheels for collected packages: rouge-score\n",
      "  Building wheel for rouge-score (setup.py) ... \u001b[?25ldone\n",
      "\u001b[?25h  Created wheel for rouge-score: filename=rouge_score-0.1.2-py3-none-any.whl size=24955 sha256=f4307acb44d2e63a4f0e4b7ae7b9063ec70c9652b4979ecc3d1d2070e67a9e4d\n",
      "  Stored in directory: /aiffel/.cache/pip/wheels/9b/3d/39/09558097d3119ca0a4d462df68f22c6f3c1b345ac63a09b86e\n",
      "Successfully built rouge-score\n",
      "Installing collected packages: rouge-score\n",
      "Successfully installed rouge-score-0.1.2\n",
      "\u001b[33mWARNING: Running pip as the 'root' user can result in broken permissions and conflicting behaviour with the system package manager. It is recommended to use a virtual environment instead: https://pip.pypa.io/warnings/venv\u001b[0m\n"
     ]
    }
   ],
   "source": [
    "!pip install rouge-score"
   ]
  },
  {
   "cell_type": "code",
   "execution_count": 105,
   "id": "79d1b6eb",
   "metadata": {
    "scrolled": true
   },
   "outputs": [],
   "source": [
    "from rouge_score import rouge_scorer"
   ]
  },
  {
   "cell_type": "code",
   "execution_count": 106,
   "id": "f015cdc7",
   "metadata": {},
   "outputs": [],
   "source": [
    "reference_summaries = samples.headlines.tolist()\n",
    "generated_summaries = samples.summary.tolist()"
   ]
  },
  {
   "cell_type": "code",
   "execution_count": 107,
   "id": "fd8c3f7e",
   "metadata": {},
   "outputs": [
    {
     "name": "stdout",
     "output_type": "stream",
     "text": [
      "Average ROUGE-1:  0.25267399267399265\n",
      "Average ROUGE-2:  0.03356643356643356\n",
      "Average ROUGE-L:  0.21076923076923076\n"
     ]
    }
   ],
   "source": [
    "scorer = rouge_scorer.RougeScorer(['rouge1', 'rouge2', 'rougeL'], use_stemmer=True)\n",
    "\n",
    "rouge1_scores = []\n",
    "rouge2_scores = []\n",
    "rougeL_scores = []\n",
    "\n",
    "for ref, gen in zip(reference_summaries, generated_summaries):\n",
    "    scores = scorer.score(ref, gen)\n",
    "    rouge1_scores.append(scores['rouge1'].fmeasure)\n",
    "    rouge2_scores.append(scores['rouge2'].fmeasure)\n",
    "    rougeL_scores.append(scores['rougeL'].fmeasure)\n",
    "\n",
    "print(\"Average ROUGE-1: \", np.mean(rouge1_scores))\n",
    "print(\"Average ROUGE-2: \", np.mean(rouge2_scores))\n",
    "print(\"Average ROUGE-L: \", np.mean(rougeL_scores))"
   ]
  },
  {
   "cell_type": "code",
   "execution_count": 87,
   "id": "85f59220",
   "metadata": {
    "scrolled": true
   },
   "outputs": [
    {
     "data": {
      "text/plain": [
       "19617"
      ]
     },
     "execution_count": 87,
     "metadata": {},
     "output_type": "execute_result"
    }
   ],
   "source": [
    "len(encoder_input_test)"
   ]
  },
  {
   "cell_type": "code",
   "execution_count": 110,
   "id": "192efbd0",
   "metadata": {},
   "outputs": [
    {
     "data": {
      "text/plain": [
       "19617"
      ]
     },
     "execution_count": 110,
     "metadata": {},
     "output_type": "execute_result"
    }
   ],
   "source": [
    "len(encoder_input_test)"
   ]
  },
  {
   "cell_type": "code",
   "execution_count": 112,
   "id": "3c99ae11",
   "metadata": {},
   "outputs": [
    {
     "name": "stderr",
     "output_type": "stream",
     "text": [
      "100%|██████████| 100/100 [00:31<00:00,  3.18it/s]\n"
     ]
    }
   ],
   "source": [
    "reference_summaries = []\n",
    "generated_summaries = []\n",
    "\n",
    "for i in trange(200, 300):\n",
    "    real = seq2summary(decoder_input_test[i])\n",
    "    generated = decode_sequence(encoder_input_test[i].reshape(1, text_max_len))\n",
    "    \n",
    "    reference_summaries.append(real)\n",
    "    generated_summaries.append(generated)"
   ]
  },
  {
   "cell_type": "code",
   "execution_count": 113,
   "id": "29701e8e",
   "metadata": {},
   "outputs": [
    {
     "name": "stdout",
     "output_type": "stream",
     "text": [
      "Average ROUGE-1:  0.2404473990062225\n",
      "Average ROUGE-2:  0.05579584304584304\n",
      "Average ROUGE-L:  0.21722366195895604\n"
     ]
    }
   ],
   "source": [
    "scorer = rouge_scorer.RougeScorer(['rouge1', 'rouge2', 'rougeL'], use_stemmer=True)\n",
    "\n",
    "rouge1_scores = []\n",
    "rouge2_scores = []\n",
    "rougeL_scores = []\n",
    "\n",
    "for ref, gen in zip(reference_summaries, generated_summaries):\n",
    "    scores = scorer.score(ref, gen)\n",
    "    rouge1_scores.append(scores['rouge1'].fmeasure)\n",
    "    rouge2_scores.append(scores['rouge2'].fmeasure)\n",
    "    rougeL_scores.append(scores['rougeL'].fmeasure)\n",
    "\n",
    "print(\"Average ROUGE-1: \", np.mean(rouge1_scores))\n",
    "print(\"Average ROUGE-2: \", np.mean(rouge2_scores))\n",
    "print(\"Average ROUGE-L: \", np.mean(rougeL_scores))"
   ]
  },
  {
   "cell_type": "markdown",
   "id": "b58b6c2e",
   "metadata": {},
   "source": [
    "# 결과"
   ]
  },
  {
   "cell_type": "markdown",
   "id": "b4bdef9f",
   "metadata": {},
   "source": [
    "### 결과 해석 (stopwords 적용전)\n",
    "- Average ROUGE-1: 0.101\n",
    "- Average ROUGE-2: 0.0105\n",
    "- Average ROUGE-L: 0.089"
   ]
  },
  {
   "cell_type": "markdown",
   "id": "ac0375fb",
   "metadata": {},
   "source": [
    "### 눈으로 보고 결과 확인하기"
   ]
  },
  {
   "cell_type": "markdown",
   "id": "f56a6b50",
   "metadata": {},
   "source": [
    "- 원문 : The Union government on Monday launched 'e-CinePramaan', the Online Film Certification System of the Central Board of Film Certification. This will make the process for films to obtain a certificate fully digital and will include QR Codes to check fraudulent certificates. \"A highlight of online film certification is elimination of middlemen and of corruption,\" said I&B Minister M Venkaiah Naidu.\n",
    "- 실제 요약 : govt launches online film certification system\n",
    "- 예측 요약 : govt to sell child accident in delhi ncr\n",
    "-----\n",
    "- 원문 : India is currently drafting a policy to safeguard its interests in Antarctica and will most likely present it at the winter session of the Parliament, reports said. Being a consultative member of the Antarctic Treaty, it is important for India to have clear directives to guide its activities in the region, officials said.\n",
    "- 실제 요약 : india to draft law to safeguard interests in antarctica\n",
    "- 예측 요약 : india to be part of doing business due to lack of hotels"
   ]
  },
  {
   "cell_type": "markdown",
   "id": "f544b94b",
   "metadata": {},
   "source": [
    "### 결과 해석 (stopwords 적용결과)\n",
    "\n",
    "#### Average ROUGE-1: 0.2527\n",
    "\n",
    "    - 해석: 생성된 요약에서 참조 요약과 단어 단위로 25.27% 일치합니다.\n",
    "    - 의미: 단어 단위로 약 25.27%의 단어가 참조 요약과 일치한다는 것을 의미합니다. \n",
    "        - 이는 비교적 적당한 일치율로, 생성된 요약이 참조 요약과 단어 수준에서 어느 정도 유사성을 가지고 있음을 나타냅니다.\n",
    "\n",
    "#### Average ROUGE-2: 0.0336\n",
    "\n",
    "    - 해석: 생성된 요약에서 참조 요약과 2-그램(단어 쌍) 단위로 3.36% 일치합니다.\n",
    "    - 의미: 2-그램의 일치율이 3.36%로, 생성된 요약이 참조 요약과의 문장 구조나 연속된 단어 쌍을 비교적 낮게 반영하고 있음을 의미합니다. \n",
    "        - 이는 문장 구조와 어순에서 참조 요약과의 유사성이 낮음을 시사합니다.\n",
    "\n",
    "#### Average ROUGE-L: 0.2108\n",
    "\n",
    "    - 해석: 생성된 요약에서 참조 요약과 최장 공통 부분열(Longest Common Subsequence, LCS) 단위로 21.08% 일치합니다.\n",
    "    - 의미: LCS 기반의 일치율이 21.08%라는 것은, 생성된 요약이 참조 요약과 긴 부분열에서 어느 정도 일치하는 경우가 있다는 것을 의미합니다. \n",
    "        - 이는 문장의 중요한 흐름이나 구조를 어느 정도 유지하고 있음을 나타냅니다."
   ]
  },
  {
   "cell_type": "markdown",
   "id": "997c5bdb",
   "metadata": {},
   "source": [
    "### 눈으로 보고 결과 확인하기 (stopwords 적용 결과)"
   ]
  },
  {
   "cell_type": "markdown",
   "id": "af1c4468",
   "metadata": {},
   "source": [
    "- 원문 : American computer technology major Oracle's 72-year-old Co-founder, Larry Ellison's net worth has jumped by $5 billion in two days to hit $61.8 billion. The jump in his net worth came from his around 25% stake in Oracle, after his company's shares soared following fourth-quarter earnings that exceeded analysts' expectations. Ellison is currently the seventh richest person in the world.\n",
    "- 실제 요약 : oracle founder larry ellison gets bn richer days\n",
    "- 예측 요약 : net net worth crore yr\n",
    "- 추출적 요약 : American computer technology major Oracle's 72-year-old Co-founder, Larry Ellison's net worth has jumped by $5 billion in two days to hit $61.8 billion.\n",
    "\n",
    "----\n",
    "- 원문 : Founder of McAfee anti-virus software John McAfee has tweeted that he will \"eat his d**k on national television\" if the price of Bitcoin doesn't cross $500,000 (about Ã¢ÂÂ¹3.2 crore) in three years. The digital currency Bitcoin reached a high of $3,018 in mid-June but dropped below $2,000 over the past weekend. The overall cryptocurrency market hit $80 billion on Tuesday.\n",
    "- 실제 요약 : eat tv bitcoin not hit cr mcafee\n",
    "- 예측 요약 : bitcoin could hit bn due power mcafee\n",
    "- 추출적 요약 : \n",
    "\n",
    "\n",
    "---\n",
    "- 원문 : Two friends Archit Gupta and Manish Mulchandani from Indore have secured All India Ranks 2 and 3 in the 2017 National Eligibility-cum-Entrance Test (NEET). Both Gupta and Mulchandani left their homes to live in a hostel to concentrate on their studies and encourage each other. \"...it is a healthy competition and it helped us both in scoring well,\" Mulchandani said.\n",
    "- 실제 요약 : two friends indore grab india ranks neet\n",
    "- 예측 요약 : india jee main\n",
    "- 추출적 요약 : Both Gupta and Mulchandani left their homes to live in a hostel to concentrate on their studies and encourage each other."
   ]
  },
  {
   "cell_type": "markdown",
   "id": "2cea7ab0",
   "metadata": {},
   "source": [
    "| 구분 | 추상적 요약 방식  | 추출적 요약 방식  |\n",
    "|-----|---|---|\n",
    "|문법완성도| 문법 완성도가 높지 않다 | 문법 완성도 있는 문장이 보여진다 |\n",
    "|핵심단어 포함| 핵심단어가 꽤 포함되는 것으로 보인다. <br> paraphrase 되어서 유사어가 나오는 경우도 볼 수 있었다 | 핵심단어가 포함된다  |\n",
    "| 장점 | 다양한 단어들을 볼 수 있다. 요약 길이 조절이 편하다 | 문법 완성도 있는 문장이 만들어진다 |\n",
    "| 단점 | 모델이 아직 정확도가 떨어지는 것으로 보인다 <br> 같은 단어가 반복되어 나오는 경우가 많다 | 뉴스의 길이가 일정 길이 이상이 되어야 요약이 된다  |\n"
   ]
  },
  {
   "cell_type": "markdown",
   "id": "5be92d47",
   "metadata": {},
   "source": [
    "## 회고"
   ]
  },
  {
   "cell_type": "markdown",
   "id": "43c4ac11",
   "metadata": {},
   "source": [
    "- __배운 점__\n",
    "    >- 자연어 요약 모델링을 했다\n",
    "    >- 전체 과정을 수행하면서 실제로 어떤 구조로 이루어져 있는지 알 수 있었다\n",
    "    >- stopwords 적용 전과 후의 차이가 많다는 것을 알 수 있었다\n",
    "    \n",
    "- __아쉬운 점__\n",
    "    >- 끝내는 데 급급해서 좀 더 자세하게 모델을 파악하지 못한 점이 아쉽다\n",
    "    >- 정교한 전처리, 모델링을 해보지 못해서 아쉽다\n",
    "    >- 성능이 많이 떨어져서 아쉽다\n",
    "- __느낀 점__\n",
    "    >- 자연어 처리 모델링은 너무 어렵다\n",
    "    >- 좀 더 꼼꼼하게 공부를 해야할 것 같다\n",
    "- __어려웠던 점__\n",
    "    >- summa summarize를 사용하는데 너무 짧은 문장은 요약이 안되는 것 같았다.\n",
    "    \n",
    "    \n",
    "- __추가 사항__\n",
    "    >- summa에서 키워드 추출을 해봐야겠다"
   ]
  }
 ],
 "metadata": {
  "kernelspec": {
   "display_name": "Python 3 (ipykernel)",
   "language": "python",
   "name": "python3"
  },
  "language_info": {
   "codemirror_mode": {
    "name": "ipython",
    "version": 3
   },
   "file_extension": ".py",
   "mimetype": "text/x-python",
   "name": "python",
   "nbconvert_exporter": "python",
   "pygments_lexer": "ipython3",
   "version": "3.9.7"
  }
 },
 "nbformat": 4,
 "nbformat_minor": 5
}
