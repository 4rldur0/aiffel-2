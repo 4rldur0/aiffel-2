{
 "cells": [
  {
   "cell_type": "markdown",
   "id": "a20e9cff",
   "metadata": {},
   "source": [
    "# House Price Prediction\n",
    "- 출처 : https://www.kaggle.com/competitions/2019-2nd-ml-month-with-kakr\n",
    "\n",
    "- 집의 정보를 이용하여 가격을 예측하는 방식 (Regression 문제)\n",
    "- RMSE를 이용하여 모델의 정확도를 평가함"
   ]
  },
  {
   "cell_type": "code",
   "execution_count": 1,
   "id": "9439e58e",
   "metadata": {},
   "source": [
    "import warnings\n",
    "warnings.filterwarnings(\"ignore\")\n",
    "\n",
    "import os\n",
    "from os.path import join\n",
    "\n",
    "import pandas as pd\n",
    "import numpy as np\n",
    "\n",
    "import missingno as msno\n",
    "\n",
    "from sklearn.ensemble import GradientBoostingRegressor\n",
    "from sklearn.model_selection import KFold, cross_val_score\n",
    "import xgboost as xgb\n",
    "import lightgbm as lgb \n",
    "\n",
    "import matplotlib.pyplot as plt\n",
    "import seaborn as sns"
   ],
   "outputs": []
  },
  {
   "cell_type": "markdown",
   "id": "149b5a5f",
   "metadata": {},
   "source": [
    "# 데이터 불러오기"
   ]
  },
  {
   "cell_type": "code",
   "execution_count": 2,
   "id": "757fd1a9",
   "metadata": {},
   "source": [
    "data_dir = os.getenv('HOME')+'/aiffel/kaggle_kakr_housing/data'\n",
    "\n",
    "train_data_path = join(data_dir, 'train.csv')\n",
    "test_data_path = join(data_dir, 'test.csv') \n",
    "\n",
    "train = pd.read_csv(train_data_path)\n",
    "test = pd.read_csv(test_data_path)"
   ],
   "outputs": []
  },
  {
   "cell_type": "code",
   "execution_count": 3,
   "id": "de0ac092",
   "metadata": {
    "scrolled": true
   },
   "source": [
    "print(train.shape, test.shape)\n",
    "train.head()"
   ],
   "outputs": []
  },
  {
   "cell_type": "markdown",
   "id": "8144607a",
   "metadata": {},
   "source": [
    "- 15035의 train 데이터와 6468개의 test 데이터셋으로 이루어져있다"
   ]
  },
  {
   "cell_type": "markdown",
   "id": "a753e4c1",
   "metadata": {},
   "source": [
    "## EDA"
   ]
  },
  {
   "cell_type": "markdown",
   "id": "605c3f1a",
   "metadata": {},
   "source": [
    "### 데이터 살펴보기"
   ]
  },
  {
   "cell_type": "code",
   "execution_count": 4,
   "id": "c0964b58",
   "metadata": {
    "scrolled": true
   },
   "source": [
    "train.info()"
   ],
   "outputs": []
  },
  {
   "cell_type": "markdown",
   "id": "cc7e4656",
   "metadata": {},
   "source": [
    "    ID : 집을 구분하는 번호\n",
    "    date : 집을 구매한 날짜\n",
    "    price : 타겟 변수인 집의 가격\n",
    "    bedrooms : 침실의 수\n",
    "    bathrooms : 침실당 화장실 개수\n",
    "    sqft_living : 주거 공간의 평방 피트\n",
    "    sqft_lot : 부지의 평방 피트\n",
    "    floors : 집의 층 수\n",
    "    waterfront : 집의 전방에 강이 흐르는지 유무 (a.k.a. 리버뷰)\n",
    "    view : 집이 얼마나 좋아 보이는지의 정도\n",
    "    condition : 집의 전반적인 상태\n",
    "    grade : King County grading 시스템 기준으로 매긴 집의 등급\n",
    "    sqft_above : 지하실을 제외한 평방 피트\n",
    "    sqft_basement : 지하실의 평방 피트\n",
    "    yr_built : 집을 지은 년도\n",
    "    yr_renovated : 집을 재건축한 년도\n",
    "    zipcode : 우편번호\n",
    "    lat : 위도\n",
    "    long : 경도\n",
    "    sqft_living15 : 2015년 기준 주거 공간의 평방 피트(집을 재건축했다면, 변화가 있을 수 있음)\n",
    "    sqft_lot15 : 2015년 기준 부지의 평방 피트(집을 재건축했다면, 변화가 있을 수 있음)"
   ]
  },
  {
   "cell_type": "markdown",
   "id": "7f9b5ee1",
   "metadata": {},
   "source": [
    "- 문자열 type의 데이터는 없고 모두 수치형 데이터로 구성되어있다.\n",
    "- date가 object 타입이긴한데 데이터 특성상 시계열 데이터이므로 datetime 형태로 변환해 줄 것이다\n",
    "- 수치형 데이터이더라도 이진분류가 되는 binary 형태나 등급같은 것은 범주형 데이터의 형태일 것으로 보인다.\n",
    "    - 수치형과 범주형 데이터를 나눠서 분석을 해줄 것이다"
   ]
  },
  {
   "cell_type": "markdown",
   "id": "6c68759c",
   "metadata": {},
   "source": [
    "## ID : 집을 구분하는 번호"
   ]
  },
  {
   "cell_type": "code",
   "execution_count": 5,
   "id": "0e9db7db",
   "metadata": {},
   "source": [
    "train.shape"
   ],
   "outputs": []
  },
  {
   "cell_type": "code",
   "execution_count": 6,
   "id": "01a1fc6f",
   "metadata": {},
   "source": [
    "train.id.nunique()"
   ],
   "outputs": []
  },
  {
   "cell_type": "markdown",
   "id": "72618d72",
   "metadata": {},
   "source": [
    "- id의 값은 unique 하므로 인덱스와 일치하기에 id를 index로 변경하거나 없애주어도 된다\n",
    "- test data도 동일하게 전처리를 진행한다"
   ]
  },
  {
   "cell_type": "code",
   "execution_count": 7,
   "id": "1de45b5c",
   "metadata": {},
   "source": [
    "# id를 index로\n",
    "# train.set_index('id', inplace=True)\n",
    "# test.set_index('id', inplace=True)"
   ],
   "outputs": []
  },
  {
   "cell_type": "code",
   "execution_count": 8,
   "id": "64907ef1",
   "metadata": {},
   "source": [
    "del train['id']\n",
    "del test['id']"
   ],
   "outputs": []
  },
  {
   "cell_type": "code",
   "execution_count": 9,
   "id": "07003b50",
   "metadata": {},
   "source": [
    "train.head()"
   ],
   "outputs": []
  },
  {
   "cell_type": "code",
   "execution_count": 10,
   "id": "507f0112",
   "metadata": {},
   "source": [
    "test.head()"
   ],
   "outputs": []
  },
  {
   "cell_type": "markdown",
   "id": "fe3185b1",
   "metadata": {},
   "source": [
    "## date : 집을 구매한 날짜"
   ]
  },
  {
   "cell_type": "code",
   "execution_count": 11,
   "id": "354470a3",
   "metadata": {},
   "source": [
    "train['date'][0]"
   ],
   "outputs": []
  },
  {
   "cell_type": "code",
   "execution_count": 12,
   "id": "04a5caba",
   "metadata": {
    "scrolled": true
   },
   "source": [
    "train['date'].str.split('T').str[1].unique()"
   ],
   "outputs": []
  },
  {
   "cell_type": "markdown",
   "id": "ccab7c70",
   "metadata": {},
   "source": [
    "- T 뒤에는 의미없는 숫자들인 것 같고 앞에는 날짜정보를 가지고 있으므로 전처리를 통해 datetime형식으로 변환해준다"
   ]
  },
  {
   "cell_type": "code",
   "execution_count": 13,
   "id": "b60bc04f",
   "metadata": {},
   "source": [
    "def extract_date_info(train):\n",
    "    # 날짜 정보 분리 후 datetime으로 형식 변환\n",
    "    train['date'] = train['date'].str.split('T').str[0]\n",
    "    train['date'] = pd.to_datetime(train['date'])\n",
    "\n",
    "    # 시간 관련 여러 파생변수 추출\n",
    "    train['year'] = train.date.dt.year\n",
    "    train['month'] = train.date.dt.month\n",
    "    train['day'] = train.date.dt.day\n",
    "\n",
    "    train['day_of_week'] = train.date.dt.day_of_week\n",
    "    train['day_name'] = train.date.dt.day_name()\n",
    "    train['quarter'] = train.date.dt.quarter\n",
    "    \n",
    "    train.drop('date', axis=1, inplace=True)"
   ],
   "outputs": []
  },
  {
   "cell_type": "code",
   "execution_count": 14,
   "id": "16a7996b",
   "metadata": {},
   "source": [
    "extract_date_info(train)"
   ],
   "outputs": []
  },
  {
   "cell_type": "code",
   "execution_count": 15,
   "id": "fee8c8f1",
   "metadata": {},
   "source": [
    "train.head()"
   ],
   "outputs": []
  },
  {
   "cell_type": "code",
   "execution_count": 16,
   "id": "8404eb71",
   "metadata": {},
   "source": [
    "# test data에도 마찬가지로 같이 전처리를 해준다\n",
    "extract_date_info(test)"
   ],
   "outputs": []
  },
  {
   "cell_type": "markdown",
   "id": "6a9d3dba",
   "metadata": {},
   "source": [
    "### 시간 관련 변수 시각화"
   ]
  },
  {
   "cell_type": "code",
   "execution_count": 17,
   "id": "de514d09",
   "metadata": {},
   "source": [
    "date_col = ['year','month','day','day_of_week','day_name','quarter']"
   ],
   "outputs": []
  },
  {
   "cell_type": "code",
   "execution_count": 18,
   "id": "3bb0b312",
   "metadata": {},
   "source": [
    "train[date_col]"
   ],
   "outputs": []
  },
  {
   "cell_type": "code",
   "execution_count": 19,
   "id": "403dcdee",
   "metadata": {},
   "source": [
    "plt.figure(figsize = (15,10))\n",
    "\n",
    "for i, col in enumerate(['year','month','day','day_name','quarter']):\n",
    "    plt.subplot(2,3,i+1)\n",
    "    sns.countplot(train[col])"
   ],
   "outputs": []
  },
  {
   "cell_type": "markdown",
   "id": "08928324",
   "metadata": {},
   "source": [
    "- 2014년에 비해 2015년에 집 구매가 줄었다\n",
    "- 5, 6, 7월에 주로 집을 구매하며 1월, 2월, 11월, 12월의 구매가 현저히 적다\n",
    "- 31일이 없는 달도 있으므로 31일이 적은 것은 당연한 수치이지만 1일은 확실히 적은 수치인 것 같다.\n",
    "- 구매일자는 주로 평일이 많고 주말에는 구매를 잘 하지 않는다는 것을 볼 수 있다\n",
    "    - 부동산 매매업이 주로 평일에 영업을 해서 그런것으로 추정된다. 그렇다하더라도 수요일에는 구매가 적고 금요일에 구매가 많이 이루어진다\n",
    "- 분기별로 비교했을 때, 2,3분기에 주로 구매한다"
   ]
  },
  {
   "cell_type": "markdown",
   "id": "c721921a",
   "metadata": {},
   "source": [
    "## price : 타겟 변수인 집의 가격\n",
    "- price는 타겟 변수이므로 y에 할당해준다"
   ]
  },
  {
   "cell_type": "code",
   "execution_count": 20,
   "id": "2217b7b4",
   "metadata": {},
   "source": [
    "y = train['price']\n",
    "\n",
    "# 데이터 분석을 위해 아직 지우지는 않는 것이 편할 것 같아 지우지 않을 것이다\n",
    "# train.drop('price', axis=1, inplace=True)\n",
    "# train.columns"
   ],
   "outputs": []
  },
  {
   "cell_type": "code",
   "execution_count": 21,
   "id": "44ca644b",
   "metadata": {},
   "source": [
    "# y의 분포 확인\n",
    "\n",
    "sns.kdeplot(y)\n",
    "plt.show()"
   ],
   "outputs": []
  },
  {
   "cell_type": "markdown",
   "id": "02b28bff",
   "metadata": {},
   "source": [
    "- price는 왼쪽으로 크게 치우쳐 있는 형태를 보인다.\n",
    "\n",
    "따라서 y는 np.log1p() 함수를 통해 로그 변환을 해주고, 나중에 모델이 값을 예측한 후에 다시 np.expm1()을 활용해서 되돌려 줄 것이다. "
   ]
  },
  {
   "cell_type": "code",
   "execution_count": 22,
   "id": "1c88882f",
   "metadata": {},
   "source": [
    "y = np.log1p(y)\n",
    "y"
   ],
   "outputs": []
  },
  {
   "cell_type": "code",
   "execution_count": 23,
   "id": "3c266f0b",
   "metadata": {},
   "source": [
    "sns.kdeplot(y)\n",
    "plt.show()"
   ],
   "outputs": []
  },
  {
   "cell_type": "markdown",
   "id": "453c6213",
   "metadata": {},
   "source": [
    "## bedrooms : 침실의 수, bathrooms : 침실당 화장실 개수"
   ]
  },
  {
   "cell_type": "code",
   "execution_count": 24,
   "id": "37090aa8",
   "metadata": {},
   "source": [
    "cols = ['bedrooms', 'bathrooms']"
   ],
   "outputs": []
  },
  {
   "cell_type": "code",
   "execution_count": 25,
   "id": "3a56ac73",
   "metadata": {
    "scrolled": true
   },
   "source": [
    "train[col].describe()"
   ],
   "outputs": []
  },
  {
   "cell_type": "code",
   "execution_count": 26,
   "id": "03cbaf7b",
   "metadata": {},
   "source": [
    "plt.figure(figsize = (15,10))\n",
    "\n",
    "for i, col in enumerate(cols):\n",
    "    plt.subplot(2,1,i+1)\n",
    "    sns.countplot(train[col])"
   ],
   "outputs": []
  },
  {
   "cell_type": "markdown",
   "id": "e7bc4a2e",
   "metadata": {},
   "source": [
    "### 방의 개수와 화장실의 개수의 관계"
   ]
  },
  {
   "cell_type": "code",
   "execution_count": 27,
   "id": "385b2c7c",
   "metadata": {},
   "source": [
    "sns.scatterplot(x='bedrooms', y='bathrooms', data=train)"
   ],
   "outputs": []
  },
  {
   "cell_type": "markdown",
   "id": "24f1866f",
   "metadata": {},
   "source": [
    "- 여기서 최솟값인 0인 데이터가 눈에 띈다 방이 침실과 화장실이 없는 데이터는 무엇일까?\n",
    "- 그리고 화장실에서 0.5 값은 무엇일까?"
   ]
  },
  {
   "cell_type": "markdown",
   "id": "971676bd",
   "metadata": {},
   "source": [
    "원본 데이터를 확인 해봤다\n",
    "- bathrooms : Number of bathrooms, where .5 accounts for a room with a toilet but no shower\n",
    "- 변기만 있고 shower 공간이 없는 화장실을 .5로 본다고 써있었다"
   ]
  },
  {
   "cell_type": "code",
   "execution_count": 28,
   "id": "aa0c288b",
   "metadata": {},
   "source": [
    "train[(train.bedrooms == 0) | (train.bathrooms == 0)]"
   ],
   "outputs": []
  },
  {
   "cell_type": "markdown",
   "id": "ee7cbe59",
   "metadata": {},
   "source": [
    "- 확실히 방이 0개인데 화장실이 2.5개인 집은 상당히 이상한 데이터로 보인다.\n",
    "- 일단 6개이므로 제거해준다"
   ]
  },
  {
   "cell_type": "code",
   "execution_count": 29,
   "id": "2ebf22ab",
   "metadata": {},
   "source": [
    "odd_index = train[(train.bedrooms == 0) | (train.bathrooms == 0)].index"
   ],
   "outputs": []
  },
  {
   "cell_type": "code",
   "execution_count": 30,
   "id": "c28b97c7",
   "metadata": {},
   "source": [
    "train.drop(odd_index, inplace=True)"
   ],
   "outputs": []
  },
  {
   "cell_type": "code",
   "execution_count": 31,
   "id": "3769e96c",
   "metadata": {},
   "source": [
    "train.describe()"
   ],
   "outputs": []
  },
  {
   "cell_type": "code",
   "execution_count": 32,
   "id": "48a9b269",
   "metadata": {},
   "source": [
    "sns.scatterplot(x='bedrooms', y='bathrooms', data=train)"
   ],
   "outputs": []
  },
  {
   "cell_type": "markdown",
   "id": "eebb1fd5",
   "metadata": {},
   "source": [
    "- 0.75는 또 뭐일까 싶긴하지만 일단 여기까지만 하고 넘어가주자"
   ]
  },
  {
   "cell_type": "markdown",
   "id": "3c8c7a85",
   "metadata": {},
   "source": [
    "### 평방 피트 관련 데이터\n",
    "- sqft_living : 주거 공간의 평방 피트\n",
    "- sqft_lot : 부지의 평방 피트\n",
    "- sqft_above : 지하실을 제외한 평방 피트\n",
    "- sqft_basement : 지하실의 평방 피트\n",
    "- sqft_living15 : 2015년 기준 주거 공간의 평방 피트(집을 재건축했다면, 변화가 있을 수 있음)\n",
    "- sqft_lot15 : 2015년 기준 부지의 평방 피트(집을 재건축했다면, 변화가 있을 수 있음)"
   ]
  },
  {
   "cell_type": "code",
   "execution_count": 33,
   "id": "69006b0b",
   "metadata": {},
   "source": [
    "sqft_df = train.loc[:,train.columns.str.contains('sqft')]"
   ],
   "outputs": []
  },
  {
   "cell_type": "code",
   "execution_count": 34,
   "id": "e2a56ee0",
   "metadata": {},
   "source": [
    "sqft_df.describe()"
   ],
   "outputs": []
  },
  {
   "cell_type": "code",
   "execution_count": 35,
   "id": "a18f6ffd",
   "metadata": {},
   "source": [
    "plt.figure(figsize = (15,10))\n",
    "\n",
    "for i, col in enumerate(sqft_df.columns):\n",
    "    plt.subplot(2,3,i+1)\n",
    "    sns.kdeplot(train[col])"
   ],
   "outputs": []
  },
  {
   "cell_type": "markdown",
   "id": "d3701f41",
   "metadata": {},
   "source": [
    "- 15년 데이터는 sqft_living15, sqft_lot15, 14년 데이터는 sqft_living, sqft_lot을 써야하지 않을까?\n",
    "- 지하실은 0인 데이터가 상당히 많아 보인다. 지하실이 있고 없고를 기준으로 파생변수를 만들어도 되지 않을까?"
   ]
  },
  {
   "cell_type": "markdown",
   "id": "613e6461",
   "metadata": {},
   "source": [
    "### 지하실이 있는집과 없는 집의 집값 차이는?"
   ]
  },
  {
   "cell_type": "code",
   "execution_count": 36,
   "id": "64cf1a6b",
   "metadata": {},
   "source": [
    "(train['sqft_basement'] > 0).value_counts()"
   ],
   "outputs": []
  },
  {
   "cell_type": "code",
   "execution_count": 37,
   "id": "4a1ec7b8",
   "metadata": {},
   "source": [
    "train['basement_yn'] = train['sqft_basement'] > 0"
   ],
   "outputs": []
  },
  {
   "cell_type": "code",
   "execution_count": 38,
   "id": "667d5b0b",
   "metadata": {},
   "source": [
    "test['basement_yn'] = test['sqft_basement'] > 0"
   ],
   "outputs": []
  },
  {
   "cell_type": "code",
   "execution_count": 39,
   "id": "feb66225",
   "metadata": {},
   "source": [
    "sns.boxplot(y='price', x='basement_yn', data=train)"
   ],
   "outputs": []
  },
  {
   "cell_type": "markdown",
   "id": "1b1661c6",
   "metadata": {},
   "source": [
    "- 확실히 집 값이 비싼 집은 모두 지하실이 있는 것으로 보인다"
   ]
  },
  {
   "cell_type": "markdown",
   "id": "2fd543b0",
   "metadata": {},
   "source": [
    "### 15년에 재개발을 한 집은?"
   ]
  },
  {
   "cell_type": "code",
   "execution_count": 40,
   "id": "208a6a53",
   "metadata": {},
   "source": [
    "sqft_df.columns"
   ],
   "outputs": []
  },
  {
   "cell_type": "code",
   "execution_count": 41,
   "id": "e0c70222",
   "metadata": {},
   "source": [
    "def calc_diff(train):\n",
    "    train['sqft_living_diff'] = train['sqft_living15'] - train['sqft_living']\n",
    "    train['sqft_lot_diff'] = train['sqft_lot15'] - train['sqft_lot']"
   ],
   "outputs": []
  },
  {
   "cell_type": "code",
   "execution_count": 42,
   "id": "d3d77cb8",
   "metadata": {},
   "source": [
    "calc_diff(train)\n",
    "calc_diff(test)"
   ],
   "outputs": []
  },
  {
   "cell_type": "code",
   "execution_count": 43,
   "id": "cbe2ec20",
   "metadata": {},
   "source": [
    "plt.figure(figsize = (17,10))\n",
    "\n",
    "for i, col in enumerate(train.loc[:,train.columns.str.contains('diff')].columns):\n",
    "    plt.subplot(1,2,i+1)\n",
    "    sns.kdeplot(train[col])"
   ],
   "outputs": []
  },
  {
   "cell_type": "markdown",
   "id": "9210fda0",
   "metadata": {},
   "source": [
    "- 너무 많이 줄어든 것들이 이상하다"
   ]
  },
  {
   "cell_type": "code",
   "execution_count": 44,
   "id": "3812c178",
   "metadata": {},
   "source": [
    "(train.loc[:,train.columns.str.contains('diff')] != 0).value_counts()"
   ],
   "outputs": []
  },
  {
   "cell_type": "markdown",
   "id": "974e1b17",
   "metadata": {},
   "source": [
    "- 대다수의 값들이 부지크기가 변화한 것을 볼 수 있다\n",
    "- 재개발을 하게 되면 집값이 상승할 수도 있지않을까? 하는 생각이 들었다.\n",
    "- 이에 따라서 재개발에 대한 기대감으로 2014년에 계약했더라도 집값이 높게 측정될 수도 있다는 생각이 들어서 이 고민을 하게 되었다.\n",
    "- 지금은 조금 복잡한 전처리가 될 것으로 보여지기에 추후 다시 생각해보기로 결정했다.\n",
    "\n",
    "- 이번에는 2014년에 계약을 했다면 2014년 값을 쓰고 2015년에 계약했다면 2015년 값을 쓰는 데이터의 전처리만을 하고자한다."
   ]
  },
  {
   "cell_type": "markdown",
   "id": "9fe862e5",
   "metadata": {},
   "source": [
    "### 2014년에 계약을 했다면 2014년 값을 쓰고 2015년에 계약했다면 2015년 값을 사용\n",
    "- 실험 결과 성능이 낮아져 생략"
   ]
  },
  {
   "cell_type": "code",
   "execution_count": 45,
   "id": "0b3b026a",
   "metadata": {},
   "source": [
    "sqft_df.columns"
   ],
   "outputs": []
  },
  {
   "cell_type": "code",
   "execution_count": 46,
   "id": "32874db1",
   "metadata": {},
   "source": [
    "def preprocessing_sqft(df):\n",
    "    df['selected_sqft_living'] = np.where(df['year'] == 2014, df['sqft_living'], df['sqft_living15'])\n",
    "    df['selected_sqft_lot'] = np.where(df['year'] == 2014, df['sqft_lot'], df['sqft_lot15'])\n",
    "    df.drop(['sqft_living','sqft_living15','sqft_lot','sqft_lot15'], axis=1, inplace=True)\n",
    "    # 합쳐준 이름을 'sqft_living','sqft_lot'으로 바꿔준다\n",
    "    df.columns = df.columns.str.replace('selected_','')"
   ],
   "outputs": []
  },
  {
   "cell_type": "code",
   "execution_count": 47,
   "id": "22f8f5b0",
   "metadata": {},
   "source": [
    "# preprocessing_sqft(train)\n",
    "# preprocessing_sqft(test)"
   ],
   "outputs": []
  },
  {
   "cell_type": "code",
   "execution_count": 48,
   "id": "b0f8aa25",
   "metadata": {
    "scrolled": true
   },
   "source": [
    "# train.drop(['sqft_living','sqft_living15','sqft_lot','sqft_lot15'], axis=1, inplace=True)\n",
    "train.head()"
   ],
   "outputs": []
  },
  {
   "cell_type": "markdown",
   "id": "db129144",
   "metadata": {},
   "source": [
    "## 집 정보 관련 피처\n",
    "- floors : 집의 층 수\n",
    "- waterfront : 집의 전방에 강이 흐르는지 유무 (a.k.a. 리버뷰)"
   ]
  },
  {
   "cell_type": "code",
   "execution_count": 49,
   "id": "8efda021",
   "metadata": {},
   "source": [
    "plt.figure(figsize=(10,5))\n",
    "\n",
    "for i, col in enumerate(['floors', 'waterfront']):\n",
    "    plt.subplot(1, 2, i+1)\n",
    "    plot = sns.countplot(x=train[col])\n",
    "    \n",
    "    # 막대 위에 실제 수치 추가\n",
    "    for p in plot.patches:\n",
    "        plot.annotate(f'{p.get_height()}', \n",
    "                      (p.get_x() + p.get_width() / 2., p.get_height()), \n",
    "                      ha='center', va='center', \n",
    "                      xytext=(0, 10), \n",
    "                      textcoords='offset points',\n",
    "                      fontsize=12, color='black')\n",
    "\n",
    "plt.tight_layout()\n",
    "plt.show()"
   ],
   "outputs": []
  },
  {
   "cell_type": "markdown",
   "id": "36aff142",
   "metadata": {},
   "source": [
    "## 집 위치 정보 피처\n",
    "- zipcode : 우편번호\n",
    "- lat : 위도\n",
    "- long : 경도"
   ]
  },
  {
   "cell_type": "markdown",
   "id": "5c94989b",
   "metadata": {},
   "source": [
    "### 우편번호 별 집값 분포 시각화"
   ]
  },
  {
   "cell_type": "code",
   "execution_count": 50,
   "id": "45d5d56f",
   "metadata": {},
   "source": [
    "plt.figure(figsize=(20, 6))\n",
    "sns.boxplot(x='zipcode', y='price', data=train)\n",
    "plt.title('House Price Distribution by Zipcode')\n",
    "plt.xticks(rotation=90)\n",
    "plt.show()"
   ],
   "outputs": []
  },
  {
   "cell_type": "code",
   "execution_count": 51,
   "id": "5510a00d",
   "metadata": {
    "scrolled": true
   },
   "source": [
    "plt.figure(figsize=(20, 6))\n",
    "sns.scatterplot(x='long', y='lat', hue='zipcode', size='price', sizes=(50, 200), data=train, legend=None)\n",
    "plt.title('House Price Distribution by Latitude and Longitude')\n",
    "plt.show()"
   ],
   "outputs": []
  },
  {
   "cell_type": "markdown",
   "id": "b4bb5268",
   "metadata": {},
   "source": [
    "- 확실히 zipcode는 위도와 경도(위치)에 따라 붙어있음을 알 수 있다"
   ]
  },
  {
   "cell_type": "markdown",
   "id": "684fbca1",
   "metadata": {},
   "source": [
    "### 위도와 경도에 따른 집값 시각화"
   ]
  },
  {
   "cell_type": "code",
   "execution_count": 52,
   "id": "e6871020",
   "metadata": {},
   "source": [
    "plt.figure(figsize=(20, 6))\n",
    "sns.scatterplot(x='long', y='lat', hue='price', size='price', sizes=(50, 200), data=train, legend=None)\n",
    "plt.title('House Price Distribution by Latitude and Longitude')\n",
    "plt.show()"
   ],
   "outputs": []
  },
  {
   "cell_type": "markdown",
   "id": "1e9159e7",
   "metadata": {},
   "source": [
    "### 파생변수 생성\n",
    "- 위치 관련 정보가 담긴 파생변수가 성능을 높이는데 주요 요인이 될 것 같았다\n",
    "- zipcode별 집값의 중앙값을 파생변수로 생성한다\n",
    "- 평균을 이용한다면 이상치의 영향을 받을 수도 있기에 중앙값을 이용하였다\n",
    "    - 생각보다 성능개선의 효과가 없어 다른 코드를 참고해 추가하였다"
   ]
  },
  {
   "cell_type": "code",
   "execution_count": 53,
   "id": "00fa69a1",
   "metadata": {},
   "source": [
    "median_price_by_zipcode = train.groupby('zipcode')['price'].median().reset_index()\n",
    "median_price_by_zipcode.columns = ['zipcode', 'median_price']\n",
    "train = train.merge(median_price_by_zipcode, on='zipcode')"
   ],
   "outputs": []
  },
  {
   "cell_type": "code",
   "execution_count": 54,
   "id": "186525ff",
   "metadata": {},
   "source": [
    "# test data에도 같은 처리를 해준다\n",
    "test = test.merge(median_price_by_zipcode, on='zipcode')"
   ],
   "outputs": []
  },
  {
   "cell_type": "code",
   "execution_count": 55,
   "id": "c98eac86",
   "metadata": {},
   "source": [
    "train.head()"
   ],
   "outputs": []
  },
  {
   "cell_type": "markdown",
   "id": "085eb28d",
   "metadata": {},
   "source": [
    "### 연도 관련 피처\n",
    "- yr_built : 집을 지은 년도\n",
    "- yr_renovated : 집을 재건축한 년도"
   ]
  },
  {
   "cell_type": "code",
   "execution_count": 56,
   "id": "9b5f50dd",
   "metadata": {},
   "source": [
    "train[['yr_built', 'yr_renovated']].describe()"
   ],
   "outputs": []
  },
  {
   "cell_type": "code",
   "execution_count": 57,
   "id": "d7f564f2",
   "metadata": {},
   "source": [
    "plt.figure(figsize=(20,5))\n",
    "plot = sns.countplot(x=train['yr_built'])\n",
    "\n",
    "# 막대 위에 실제 수치 추가\n",
    "for p in plot.patches:\n",
    "    plot.annotate(f'{p.get_height()}', \n",
    "                  (p.get_x() + p.get_width() / 2., p.get_height()), \n",
    "                  ha='center', va='center', \n",
    "                  xytext=(0, 10), \n",
    "                  textcoords='offset points',\n",
    "                  fontsize=12, color='black')\n",
    "\n",
    "plt.tight_layout()\n",
    "plt.show()"
   ],
   "outputs": []
  },
  {
   "cell_type": "markdown",
   "id": "e8db028b",
   "metadata": {},
   "source": [
    "- 생각보다 오래된 건물들이 많이 있었다"
   ]
  },
  {
   "cell_type": "code",
   "execution_count": 58,
   "id": "575f11f9",
   "metadata": {},
   "source": [
    "plt.figure(figsize=(20,5))\n",
    "plot = sns.countplot(x=train['yr_renovated'])\n",
    "\n",
    "# 막대 위에 실제 수치 추가\n",
    "for p in plot.patches:\n",
    "    plot.annotate(f'{p.get_height()}', \n",
    "                  (p.get_x() + p.get_width() / 2., p.get_height()), \n",
    "                  ha='center', va='center', \n",
    "                  xytext=(0, 10), \n",
    "                  textcoords='offset points',\n",
    "                  fontsize=12, color='black')\n",
    "\n",
    "plt.tight_layout()\n",
    "plt.show()"
   ],
   "outputs": []
  },
  {
   "cell_type": "markdown",
   "id": "d18faf45",
   "metadata": {},
   "source": [
    "- 재건축을 안한 집이 많아서 잘 보이지 않는다"
   ]
  },
  {
   "cell_type": "markdown",
   "id": "400faca2",
   "metadata": {},
   "source": [
    "0을 빼고 다시 시각화를 진행하였다"
   ]
  },
  {
   "cell_type": "code",
   "execution_count": 59,
   "id": "942f7fd4",
   "metadata": {},
   "source": [
    "plt.figure(figsize=(20,5))\n",
    "plot = sns.countplot(x=train.loc[train['yr_renovated']>0,'yr_renovated'])\n",
    "\n",
    "# 막대 위에 실제 수치 추가\n",
    "for p in plot.patches:\n",
    "    plot.annotate(f'{p.get_height()}', \n",
    "                  (p.get_x() + p.get_width() / 2., p.get_height()), \n",
    "                  ha='center', va='center', \n",
    "                  xytext=(0, 10), \n",
    "                  textcoords='offset points',\n",
    "                  fontsize=12, color='black')\n",
    "\n",
    "plt.tight_layout()\n",
    "plt.show()"
   ],
   "outputs": []
  },
  {
   "cell_type": "markdown",
   "id": "517c8d8d",
   "metadata": {},
   "source": [
    "- 2014년에 재건축이 많았다"
   ]
  },
  {
   "cell_type": "markdown",
   "id": "562d5685",
   "metadata": {},
   "source": [
    "### 재건축 여부도 파생변수로 추가"
   ]
  },
  {
   "cell_type": "code",
   "execution_count": 60,
   "id": "47145237",
   "metadata": {},
   "source": [
    "train['renovated_yn'] = train['yr_renovated'] > 0\n",
    "test['renovated_yn'] = test['yr_renovated'] > 0"
   ],
   "outputs": []
  },
  {
   "cell_type": "markdown",
   "id": "abba004f",
   "metadata": {},
   "source": [
    "### 파생변수 생성\n",
    "**집 나이 계산**:\n",
    "   - `np.where` 함수를 사용하여 조건을 설정하여 집 나이를 계산한다.\n",
    "     - 만약 `yr_renovated` 값이 `0`이 아니면, 즉 재건축이 되었으면 `year - yr_renovated`를 계산한다.\n",
    "     - 그렇지 않으면 `year - yr_built`를 계산한다.\n",
    "   - 이를 통해 `house_age`라는 새로운 컬럼을 생성"
   ]
  },
  {
   "cell_type": "code",
   "execution_count": 61,
   "id": "c39cb423",
   "metadata": {},
   "source": [
    "def calc_age(df):\n",
    "    df['house_age'] = np.where(df['yr_renovated'] != 0, df['year'] - df['yr_renovated'], df['year'] - df['yr_built'])"
   ],
   "outputs": []
  },
  {
   "cell_type": "code",
   "execution_count": 62,
   "id": "f8f06935",
   "metadata": {},
   "source": [
    "calc_age(train)"
   ],
   "outputs": []
  },
  {
   "cell_type": "code",
   "execution_count": 63,
   "id": "373a6883",
   "metadata": {},
   "source": [
    "calc_age(test)"
   ],
   "outputs": []
  },
  {
   "cell_type": "markdown",
   "id": "65823ef6",
   "metadata": {},
   "source": [
    "### 집에 대한 평가 피처\n",
    "- view : 집이 얼마나 좋아 보이는지의 정도\n",
    "- condition : 집의 전반적인 상태\n",
    "- grade : King County grading 시스템 기준으로 매긴 집의 등급"
   ]
  },
  {
   "cell_type": "code",
   "execution_count": 64,
   "id": "20c91d48",
   "metadata": {},
   "source": [
    "# 1. Condition별 집값 분포 시각화\n",
    "plt.figure(figsize=(15, 5))\n",
    "\n",
    "plt.subplot(1, 3, 1)\n",
    "sns.boxplot(x='condition', y='price', data=train)\n",
    "plt.title('House Price Distribution by Condition')\n",
    "\n",
    "# 2. Grade별 집값 분포 시각화\n",
    "plt.subplot(1, 3, 2)\n",
    "sns.boxplot(x='grade', y='price', data=train)\n",
    "plt.title('House Price Distribution by Grade')\n",
    "\n",
    "# 3. View 등급별 집값 분포 시각화\n",
    "plt.subplot(1, 3, 3)\n",
    "sns.boxplot(x='view', y='price', data=train)\n",
    "plt.title('House Price Distribution by View')\n",
    "\n",
    "plt.tight_layout()\n",
    "plt.show()"
   ],
   "outputs": []
  },
  {
   "cell_type": "markdown",
   "id": "efde67c9",
   "metadata": {},
   "source": [
    "- 확실히 집 상태의 평가가 높아지면 더 값이 비싸지는 경향을 볼 수 있다"
   ]
  },
  {
   "cell_type": "markdown",
   "id": "08807b68",
   "metadata": {},
   "source": [
    "### 파생변수 생성\n",
    "- view, condition, grade의 평균을 파생변수로 생성하고자 한다"
   ]
  },
  {
   "cell_type": "code",
   "execution_count": 65,
   "id": "9787f5d6",
   "metadata": {},
   "source": [
    "def get_score(df):\n",
    "    df['score'] = df[['view', 'condition', 'grade']].mean(axis=1)"
   ],
   "outputs": []
  },
  {
   "cell_type": "code",
   "execution_count": 66,
   "id": "88979271",
   "metadata": {},
   "source": [
    "get_score(train)"
   ],
   "outputs": []
  },
  {
   "cell_type": "code",
   "execution_count": 67,
   "id": "bee526a3",
   "metadata": {},
   "source": [
    "get_score(test)"
   ],
   "outputs": []
  },
  {
   "cell_type": "markdown",
   "id": "690e556a",
   "metadata": {},
   "source": [
    "## 피처 선정"
   ]
  },
  {
   "cell_type": "code",
   "execution_count": 68,
   "id": "29eb4628",
   "metadata": {},
   "source": [
    "train"
   ],
   "outputs": []
  },
  {
   "cell_type": "code",
   "execution_count": 69,
   "id": "9830985d",
   "metadata": {},
   "source": [
    "train.columns"
   ],
   "outputs": []
  },
  {
   "cell_type": "code",
   "execution_count": 70,
   "id": "ffb42054",
   "metadata": {},
   "source": [
    "df = train.copy()\n",
    "\n",
    "## 상관관계 분석\n",
    "plt.figure(figsize=(15, 10))\n",
    "correlation_matrix = df.corr()\n",
    "sns.heatmap(correlation_matrix, annot=True, cmap='coolwarm', fmt='.2f')\n",
    "plt.title('Correlation Matrix')\n",
    "plt.show()"
   ],
   "outputs": []
  },
  {
   "cell_type": "markdown",
   "id": "cfab0157",
   "metadata": {},
   "source": [
    "### 상관관계 분석 결과에 따라 필요 없는 컬럼 제거"
   ]
  },
  {
   "cell_type": "code",
   "execution_count": 71,
   "id": "6e22e624",
   "metadata": {},
   "source": [
    "correlation_matrix.columns[np.abs(correlation_matrix.price) < 0.1]"
   ],
   "outputs": []
  },
  {
   "cell_type": "code",
   "execution_count": 72,
   "id": "e1bd4130",
   "metadata": {},
   "source": [
    "drop_cols = ['year', 'month', 'day', 'day_of_week', 'day_name','quarter', 'sqft_lot_diff']"
   ],
   "outputs": []
  },
  {
   "cell_type": "code",
   "execution_count": 73,
   "id": "1e442aa9",
   "metadata": {},
   "source": [
    "train.drop(drop_cols, axis=1, inplace=True)"
   ],
   "outputs": []
  },
  {
   "cell_type": "code",
   "execution_count": 74,
   "id": "8b7dd5c7",
   "metadata": {},
   "source": [
    "train.columns"
   ],
   "outputs": []
  },
  {
   "cell_type": "code",
   "execution_count": 75,
   "id": "fdc5d0e4",
   "metadata": {
    "scrolled": true
   },
   "source": [
    "test.drop(drop_cols, axis=1, inplace=True)"
   ],
   "outputs": []
  },
  {
   "cell_type": "code",
   "execution_count": 76,
   "id": "e0c81091",
   "metadata": {},
   "source": [
    "train.shape"
   ],
   "outputs": []
  },
  {
   "cell_type": "code",
   "execution_count": 77,
   "id": "f7fe1aae",
   "metadata": {},
   "source": [
    "train.head()"
   ],
   "outputs": []
  },
  {
   "cell_type": "code",
   "execution_count": 78,
   "id": "55dbb63c",
   "metadata": {},
   "source": [
    "train.shape"
   ],
   "outputs": []
  },
  {
   "cell_type": "code",
   "execution_count": 79,
   "id": "ac44376c",
   "metadata": {
    "scrolled": true
   },
   "source": [
    "test.shape"
   ],
   "outputs": []
  },
  {
   "cell_type": "code",
   "execution_count": 80,
   "id": "e9609686",
   "metadata": {},
   "source": [
    "train.columns"
   ],
   "outputs": []
  },
  {
   "cell_type": "code",
   "execution_count": 81,
   "id": "3510e2ab",
   "metadata": {},
   "source": [
    "test.columns"
   ],
   "outputs": []
  },
  {
   "cell_type": "markdown",
   "id": "2c49a1d6",
   "metadata": {},
   "source": [
    "## 모델링\n",
    "\n",
    "### 모델 및 평가 지표 선정 이유\n",
    "- 선택한 모델: 앙상블 모델 (랜덤 포레스트, 그래디언트 부스팅, 배깅)\n",
    "    - 선정 이유: 앙상블 모델은 여러 모델의 예측을 결합하여 예측 성능을 향상시키며, 단일 모델보다 일반화 성능이 뛰어나다.\n",
    "\n",
    "- 평가 지표: RMSE(Root Mean Squared Error)\n",
    "    - 선정 이유: RMSE는 예측 값과 실제 값 간의 차이를 제곱한 후 평균을 구해 루트를 취한다. 단위가 타깃 변수의 단위와 같아 해석이 용이하고, 큰 오차에 더 큰 패널티를 부여한다."
   ]
  },
  {
   "cell_type": "code",
   "execution_count": 112,
   "id": "54c9fbf6",
   "metadata": {},
   "source": [
    "data_dir = os.getenv('HOME')+'/aiffel/kaggle_kakr_housing/data'\n",
    "\n",
    "train_data_path = join(data_dir, 'train.csv')\n",
    "test_data_path = join(data_dir, 'test.csv') \n",
    "\n",
    "train = pd.read_csv(train_data_path)\n",
    "test = pd.read_csv(test_data_path)\n",
    "\n",
    "train['date'] = train['date'].apply(lambda i: i[:6]).astype(int)\n",
    "test['date'] = test['date'].apply(lambda i: i[:6]).astype(int)\n",
    "y = train['price']\n",
    "y = np.log1p(y)\n",
    "\n",
    "del train['id']\n",
    "del test['id']"
   ],
   "outputs": []
  },
  {
   "cell_type": "code",
   "execution_count": 142,
   "id": "954bf29d",
   "metadata": {},
   "source": [
    "skew_columns = ['sqft_living', 'sqft_lot','sqft_living15', 'sqft_lot15', 'sqft_above', 'sqft_basement']\n",
    "\n",
    "for c in skew_columns:\n",
    "    train[c] = np.log1p(train[c].values)\n",
    "    test[c] = np.log1p(test[c].values)"
   ],
   "outputs": []
  },
  {
   "cell_type": "code",
   "execution_count": 143,
   "id": "e6f2d975",
   "metadata": {},
   "source": [
    "for df in [train, test]:\n",
    "    df['total_rooms'] = df['bedrooms'] + df['bathrooms']\n",
    "    # 거실의 비율\n",
    "    df['sqft_ratio'] = df['sqft_living'] / df['sqft_lot']\n",
    "    # 총 면적\n",
    "    df['sqft_total_size'] = df['sqft_living'] + df['sqft_lot'] + df['sqft_above'] + df['sqft_basement']\n",
    "    # 면적 대비 거실 비율\n",
    "#     df['sqft_ratio_1'] = df['sqft_living'] / df['sqft_total_size']\n",
    "    df['sqft_total15'] = df['sqft_living15'] + df['sqft_lot15']\n",
    "#     df['sqft_ratio15'] = df['sqft_living15'] / df['sqft_total15'] \n",
    "\n",
    "    df['is_renovated'] = df['yr_renovated'] - df['yr_built']\n",
    "    df['is_renovated'] = df['is_renovated'].apply(lambda x: 0 if x==0 else 1)\n",
    "    df['date'] = df['date'].astype('int')"
   ],
   "outputs": []
  },
  {
   "cell_type": "code",
   "execution_count": 144,
   "id": "4072f8cd",
   "metadata": {},
   "source": [
    "train['per_price'] = train['price'] / train['sqft_total_size']\n",
    "zipcode_price = train.groupby(['zipcode'])['per_price'].agg({'mean', 'var'}).reset_index()\n",
    "train = pd.merge(train, zipcode_price, how='left', on='zipcode')\n",
    "test = pd.merge(test, zipcode_price, how='left', on='zipcode')\n",
    "del train['per_price']"
   ],
   "outputs": []
  },
  {
   "cell_type": "code",
   "execution_count": 145,
   "id": "b48fffc5",
   "metadata": {},
   "source": [
    "from sklearn.model_selection import train_test_split\n",
    "from sklearn.metrics import mean_squared_error"
   ],
   "outputs": []
  },
  {
   "cell_type": "code",
   "execution_count": 146,
   "id": "205cc289",
   "metadata": {},
   "source": [
    "def rmse(y_test, y_pred):\n",
    "    return np.sqrt(mean_squared_error(np.expm1(y_test), np.expm1(y_pred)))"
   ],
   "outputs": []
  },
  {
   "cell_type": "code",
   "execution_count": 147,
   "id": "a9a84204",
   "metadata": {},
   "source": [
    "from xgboost import XGBRegressor\n",
    "from lightgbm import LGBMRegressor\n",
    "from sklearn.ensemble import GradientBoostingRegressor, RandomForestRegressor"
   ],
   "outputs": []
  },
  {
   "cell_type": "code",
   "execution_count": 148,
   "id": "5ae71af6",
   "metadata": {},
   "source": [
    "random_state=2020        # 하지만 우리는 이렇게 고정값을 세팅해 두겠습니다. \n",
    "\n",
    "gboost = GradientBoostingRegressor(random_state=random_state)\n",
    "xgboost = XGBRegressor(random_state=random_state)\n",
    "lightgbm = LGBMRegressor(random_state=random_state)\n",
    "rdforest = RandomForestRegressor(random_state=random_state)\n",
    "\n",
    "models = [gboost, xgboost, lightgbm, rdforest]"
   ],
   "outputs": []
  },
  {
   "cell_type": "code",
   "execution_count": 149,
   "id": "a0e29300",
   "metadata": {},
   "source": [
    "X = train.drop('price', axis=1)"
   ],
   "outputs": []
  },
  {
   "cell_type": "code",
   "execution_count": 150,
   "id": "f30ac6e8",
   "metadata": {},
   "source": [
    "def get_scores(models, train, y):\n",
    "    df = {}\n",
    "\n",
    "    for model in models:\n",
    "    # 모델 이름 획득\n",
    "        model_name = model.__class__.__name__\n",
    "\n",
    "        # train, test 데이터셋 분리\n",
    "        # random_state를 사용하여 고정하고 train과 test 셋의 비율은 8:2로 합니다.\n",
    "        X_train, X_test, y_train, y_test = train_test_split(train, y, random_state=random_state, test_size=0.2)\n",
    "\n",
    "        # 모델 학습\n",
    "        model.fit(X_train, y_train)\n",
    "        \n",
    "        # 예측\n",
    "        y_pred = model.predict(X_test)\n",
    "\n",
    "        # 예측 결과의 rmse값 저장\n",
    "        df[model_name] = rmse(y_test, y_pred)\n",
    "        \n",
    "        # data frame에 저장\n",
    "        score_df = pd.DataFrame(df, index=['RMSE']).T.sort_values('RMSE', ascending=False)\n",
    "\n",
    "    return score_df\n",
    "\n",
    "get_scores(models, X, y)"
   ],
   "outputs": []
  },
  {
   "cell_type": "code",
   "execution_count": 151,
   "id": "5abd8a93",
   "metadata": {},
   "source": [
    "from sklearn.model_selection import GridSearchCV"
   ],
   "outputs": []
  },
  {
   "cell_type": "code",
   "execution_count": 152,
   "id": "b747ad1b",
   "metadata": {},
   "source": [
    "\"\"\"\n",
    "다음과 같은 과정을 진행할 수 있는 `my_GridSearch(model, train, y, param_grid, verbose=2, n_jobs=5)` 함수를 구현해 보세요.\n",
    "\n",
    "1. GridSearchCV 모델로 `model`을 초기화합니다.\n",
    "2. 모델을 fitting 합니다.\n",
    "3. params, score에 각 조합에 대한 결과를 저장합니다. \n",
    "4. 데이터 프레임을 생성하고, RMSLE 값을 추가한 후 점수가 높은 순서로 정렬한 `results`를 반환합니다.\n",
    "\"\"\"\n",
    "\n",
    "def my_GridSearch(model, train, y, param_grid, verbose=2, n_jobs=5):\n",
    "    # GridSearchCV 모델로 초기화\n",
    "    grid_model = GridSearchCV(model, param_grid=param_grid, scoring='neg_mean_squared_error', \\\n",
    "                              cv=5, verbose=verbose, n_jobs=n_jobs)\n",
    "    \n",
    "    # 모델 fitting\n",
    "    grid_model.fit(train, y)\n",
    "\n",
    "    # 결과값 저장\n",
    "    params = grid_model.cv_results_['params']\n",
    "    score = grid_model.cv_results_['mean_test_score']\n",
    "    \n",
    "    # 데이터 프레임 생성\n",
    "    results = pd.DataFrame(params)\n",
    "    results['score'] = score\n",
    "    \n",
    "    # RMSLE 값 계산 후 정렬\n",
    "    results['RMSLE'] = np.sqrt(-1 * results['score'])\n",
    "    results = results.sort_values('RMSLE')\n",
    "\n",
    "    return results"
   ],
   "outputs": []
  },
  {
   "cell_type": "code",
   "execution_count": 153,
   "id": "4dd26632",
   "metadata": {},
   "source": [
    "\"\"\"\n",
    "아래의 과정을 수행하는 `save_submission(model, train, y, test, model_name, rmsle)` 함수를 구현해 주세요.\n",
    "1. 모델을 `train`, `y`로 학습시킵니다.\n",
    "2. `test`에 대해 예측합니다.\n",
    "3. 예측값을 `np.expm1`으로 변환하고, `submission_model_name_RMSLE_100000.csv` 형태의 `csv` 파일을 저장합니다.\n",
    "\"\"\"\n",
    "\n",
    "def save_submission(model, train, y, test, model_name, rmsle=None):\n",
    "    model.fit(train, y)\n",
    "    prediction = model.predict(test)\n",
    "    prediction = np.expm1(prediction)\n",
    "    data_dir = os.getenv('HOME')+'/aiffel/kaggle_kakr_housing/data'\n",
    "    submission_path = join(data_dir, 'sample_submission.csv')\n",
    "    submission = pd.read_csv(submission_path)\n",
    "    submission['price'] = prediction\n",
    "    submission_csv_path = '{}/submission_{}_RMSLE_{}.csv'.format(data_dir, model_name, rmsle)\n",
    "    submission.to_csv(submission_csv_path, index=False)\n",
    "    print('{} saved!'.format(submission_csv_path))\n"
   ],
   "outputs": []
  },
  {
   "cell_type": "code",
   "execution_count": 154,
   "id": "aac5c732",
   "metadata": {
    "scrolled": true
   },
   "source": [
    "param_grid = {\n",
    "    'n_estimators': [500, 100],\n",
    "    'max_depth': [5, 10],\n",
    "}\n",
    "\n",
    "model = LGBMRegressor(random_state=random_state)\n",
    "my_GridSearch(model, X, y, param_grid, verbose=2, n_jobs=5)"
   ],
   "outputs": []
  },
  {
   "cell_type": "code",
   "execution_count": 155,
   "id": "6d81ef40",
   "metadata": {
    "scrolled": false
   },
   "source": [
    "lgbm = LGBMRegressor(max_depth=5, n_estimators=500, random_state=random_state)\n",
    "save_submission(lgbm, X, y, test, 'lgbm','0.160531')"
   ],
   "outputs": []
  },
  {
   "cell_type": "code",
   "execution_count": 156,
   "id": "8c6e46a0",
   "metadata": {},
   "source": [
    "param_grid = {\"max_depth\":  [5, 10],\n",
    "              \"n_estimators\": [500, 700],\n",
    "              \"learning_rate\": [0.2, 0.015]}\n",
    "\n",
    "xgboost = XGBRegressor(random_state=random_state)\n",
    "my_GridSearch(model, X, y, param_grid, verbose=2, n_jobs=5)"
   ],
   "outputs": []
  },
  {
   "cell_type": "code",
   "execution_count": 157,
   "id": "679b5181",
   "metadata": {},
   "source": [
    "xgb = XGBRegressor(max_depth=10,\n",
    "                     learning_rate=0.015,\n",
    "                     n_estimators=700, random_state=random_state)\n",
    "save_submission(xgb, X, y, test, 'xgb','0.161337')"
   ],
   "outputs": []
  },
  {
   "cell_type": "code",
   "execution_count": 129,
   "id": "93e1777d",
   "metadata": {},
   "source": [
    "param_grid = { \n",
    "    'n_estimators': [100], \n",
    "    'max_features': ['sqrt', 'log2'], \n",
    "    'max_depth': [9], \n",
    "    'max_leaf_nodes': [3, 9], \n",
    "} \n",
    "\n",
    "rdforest = RandomForestRegressor(random_state=random_state)\n",
    "my_GridSearch(model, train, y, param_grid, verbose=2, n_jobs=5)"
   ],
   "outputs": []
  },
  {
   "cell_type": "code",
   "execution_count": 130,
   "id": "9c3ae3d7",
   "metadata": {},
   "source": [
    "rf_model = RandomForestRegressor(max_depth=9, max_features='sqrt', max_leaf_nodes=3,\n",
    "                     n_estimators=100, random_state=random_state)\n",
    "save_submission(rf_model, X, y, test, 'rf','0.015342')"
   ],
   "outputs": []
  },
  {
   "cell_type": "markdown",
   "id": "24123f46",
   "metadata": {},
   "source": [
    "### Blend Model"
   ]
  },
  {
   "cell_type": "code",
   "execution_count": 108,
   "id": "1e2752f9",
   "metadata": {},
   "source": [
    "import numpy as np\n",
    "import pandas as pd\n",
    "import seaborn as sns\n",
    "\n",
    "# for hierarchical clusterization\n",
    "from scipy.cluster.hierarchy import dendrogram, linkage  \n",
    "from scipy.spatial.distance import  pdist\n",
    "from matplotlib import pyplot as plt\n",
    "from sklearn.preprocessing import MinMaxScaler\n",
    "\n",
    "# system\n",
    "from datetime import datetime\n",
    "import os\n",
    "sns.set()"
   ],
   "outputs": []
  },
  {
   "cell_type": "code",
   "execution_count": 158,
   "id": "5067051f",
   "metadata": {},
   "source": [
    "s1 = pd.read_csv('/aiffel/aiffel/kaggle_kakr_housing/data/submission_blend.csv')['price']\n",
    "# 기존 baseline에서 log scaling한거 6:4로 \n",
    "\n",
    "s2 = pd.read_csv('/aiffel/aiffel/kaggle_kakr_housing/data/submission_lgbm_RMSLE_0.163284.csv')['price']\n",
    "s3 = pd.read_csv('/aiffel/aiffel/kaggle_kakr_housing/data/submission_xgb_RMSLE_0.161691.csv')['price']\n",
    "\n",
    "s4 = pd.read_csv('/aiffel/aiffel/kaggle_kakr_housing/data/submission_xgb_RMSLE_0.161337.csv')['price']\n",
    "s5 = pd.read_csv('/aiffel/aiffel/kaggle_kakr_housing/data/submission_lgbm_RMSLE_0.160531.csv')['price']\n",
    "\n",
    "submission = pd.read_csv('/aiffel/aiffel/kaggle_kakr_housing/data/sample_submission.csv')\n",
    "\n",
    "solutions_set = pd.DataFrame({'s1': s1, 's2': s2, 's3': s3,'s4': s4,'s5': s5})"
   ],
   "outputs": []
  },
  {
   "cell_type": "code",
   "execution_count": 159,
   "id": "2d96b9e1",
   "metadata": {},
   "source": [
    "# Scaling\n",
    "scaler = MinMaxScaler()  \n",
    "solutions_set_scaled = scaler.fit_transform(solutions_set)\n",
    "solutions_set_scaled = pd.DataFrame(solutions_set_scaled, columns = solutions_set.columns)\n",
    "\n",
    "# transpose and convert solutions set to numpy\n",
    "np_solutions_set = solutions_set_scaled.T.values\n",
    "# calculate the distances\n",
    "solutions_set_dist = pdist(np_solutions_set)\n",
    "# hierarchical clusterization\n",
    "linked = linkage(solutions_set_dist, 'ward')\n",
    "\n",
    "# dendrogram\n",
    "fig = plt.figure(figsize=(8, 5))\n",
    "dendrogram(linked, labels = solutions_set_scaled.columns)\n",
    "plt.title('clusters')\n",
    "plt.show()"
   ],
   "outputs": []
  },
  {
   "cell_type": "code",
   "execution_count": 160,
   "id": "00c78405",
   "metadata": {},
   "source": [
    "sns.scatterplot(x = 's1', y = 's5', data = solutions_set_scaled)\n",
    "plt.title('Submisions of s1 and s5')"
   ],
   "outputs": []
  },
  {
   "cell_type": "code",
   "execution_count": 161,
   "id": "cd474ff3",
   "metadata": {},
   "source": [
    "pred = s1 * 0.4 + (s3 + s4)/2 * 0.3 + (s2 + s5)/2 * 0.3\n",
    "\n",
    "submission['price'] = pred\n",
    "submission.to_csv('/aiffel/aiffel/kaggle_kakr_housing/data/submission_blend9.csv', index=False)"
   ],
   "outputs": []
  },
  {
   "metadata": {},
   "cell_type": "markdown",
   "source": [
    "- s1 : scaling 만하고 lgbm : xgb = 6:4로 가중 평균 낸 모델\n",
    "- 덴드로그램을 통해 데이터의 차이를 파악한 뒤 유사한 것끼리 모아서 평균을 내고 다시 평균을 내주었다"
   ],
   "id": "b2d2e13f193f74e3"
  },
  {
   "cell_type": "markdown",
   "id": "3cc339a9",
   "metadata": {},
   "source": [
    "## 최종 결과"
   ]
  },
  {
   "cell_type": "markdown",
   "id": "6ad106a1",
   "metadata": {},
   "source": [
    "### BLEND MODEL\n",
    "- PRIVATE SCORE : 109197.02671\n",
    "- PUBLIC SCORE : 108934.24862\n",
    "\n",
    "![img](img.png)"
   ]
  },
  {
   "cell_type": "markdown",
   "id": "58e7e4f0",
   "metadata": {},
   "source": [
    "## 회고"
   ]
  },
  {
   "cell_type": "markdown",
   "id": "ea56783c",
   "metadata": {},
   "source": [
    "- 데이터 분석을 하다가 시간을 많이 써서 좋은 결과를 내는데 생각보다 시간을 많이 못써서 아쉽다.\n",
    "    - EDA에서 파악한 인사이트를 바탕으로 실험을 제대로 진행해보지 못해서 아쉬웠다\n",
    "- 다음에는 시간분배를 좀 더 잘 해봐야겠다\n",
    "- 생각보다 전처리의 성능향상이 어려웠다\n",
    "    - 오히려 전처리를 하면 성능이 저하되었다."
   ]
  },
  {
   "cell_type": "markdown",
   "id": "358a3942",
   "metadata": {},
   "source": [
    "추후 추가적으로 해보고 싶은 실험 \n",
    "- 스태킹 모델\n",
    "    - 참고 코드 : https://www.kaggle.com/code/bluepinetree/57-of-415-eda-stacking-modeling"
   ]
  }
 ],
 "metadata": {
  "kernelspec": {
   "display_name": "Python 3 (ipykernel)",
   "language": "python",
   "name": "python3"
  },
  "language_info": {
   "codemirror_mode": {
    "name": "ipython",
    "version": 3
   },
   "file_extension": ".py",
   "mimetype": "text/x-python",
   "name": "python",
   "nbconvert_exporter": "python",
   "pygments_lexer": "ipython3",
   "version": "3.9.7"
  }
 },
 "nbformat": 4,
 "nbformat_minor": 5
}
