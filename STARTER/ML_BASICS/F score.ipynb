{
 "cells": [
  {
   "metadata": {},
   "cell_type": "markdown",
   "source": [
    "$F_\\beta$ 스코어는 precision (정밀도)과 recall (재현율) 사이의 균형을 평가하기 위한 지표로, 다음과 같이 정의됩니다:\n",
    "\n",
    "\n",
    "$$\\[ F_\\beta = \\left(1 + \\beta^2\\right) \\cdot \\frac{{\\text{precision} \\cdot \\text{recall}}}{{\\left(\\beta^2 \\cdot \\text{precision} + \\text{recall}\\right)}} \\]$$\n",
    "\n",
    "여기서:\n",
    "- precision은 $\\(\\text{TP} / (\\text{TP} + \\text{FP})\\)$로 정의됩니다.\n",
    "- recall은 \\(\\text{TP} / (\\text{TP} + \\text{FN})\\)로 정의됩니다.\n",
    "- TP는 True Positive, FP는 False Positive, FN은 False Negative를 의미합니다.\n",
    "\n",
    "(https://en.wikipedia.org/wiki/F-score)\n",
    "\n",
    "### F_\\beta 점수가 최대가 되는 상황\n",
    "F_\\beta 점수가 최대가 되려면 precision과 recall이 모두 높아야 합니다. 특히, precision과 recall이 모두 1에 가까울 때 F_\\beta 점수도 최대가 됩니다. 이 경우, 분자와 분모가 동일하게 되어 F_\\beta 점수가 최대인 1에 도달합니다.\n",
    "\n",
    "\n",
    "\n",
    "### 그래프\n",
    "아래는 precision과 recall의 값이 변화할 때 F1 (F_β에서 β=1 시)의 변화를 나타낸 그래프입니다. 각 축은 precision과 recall을 나타내며, z축은 F1 점수를 나타냅니다.\n",
    "\n"
   ],
   "id": "8d1374fb945a20d0"
  },
  {
   "metadata": {
    "ExecuteTime": {
     "end_time": "2024-05-23T06:29:08.263842Z",
     "start_time": "2024-05-23T06:29:08.078430Z"
    }
   },
   "cell_type": "code",
   "source": [
    "import numpy as np\n",
    "import matplotlib.pyplot as plt\n",
    "\n",
    "def f_beta(precision, recall, beta=1):\n",
    "    return (1 + beta**2) * (precision * recall) / ((beta**2 * precision) + recall)\n",
    "\n",
    "precision = np.linspace(0, 1, 100)\n",
    "recall = np.linspace(0, 1, 100)\n",
    "\n",
    "precision, recall = np.meshgrid(precision, recall)\n",
    "f1_scores = f_beta(precision, recall, beta=1)\n",
    "\n",
    "fig = plt.figure(figsize=(10, 7))\n",
    "ax = fig.add_subplot(111, projection='3d')\n",
    "\n",
    "ax.plot_surface(precision, recall, f1_scores, cmap='viridis')\n",
    "ax.set_xlabel('Precision')\n",
    "ax.set_ylabel('Recall')\n",
    "ax.set_zlabel('F1 Score')\n",
    "ax.set_title('F1 Score as a Function of Precision and Recall')\n",
    "\n",
    "plt.show()"
   ],
   "id": "9458d361e9c80b4c",
   "execution_count": 7,
   "outputs": []
  },
  {
   "metadata": {
    "ExecuteTime": {
     "end_time": "2024-05-23T06:30:19.067119Z",
     "start_time": "2024-05-23T06:30:18.833112Z"
    }
   },
   "cell_type": "code",
   "source": [
    "import numpy as np\n",
    "import matplotlib.pyplot as plt\n",
    "\n",
    "def f_beta(precision, recall, beta=1):\n",
    "    return (1 + beta**2) * (precision * recall) / ((beta**2 * precision) + recall)\n",
    "\n",
    "precision = np.linspace(0, 1, 100)\n",
    "recall = np.linspace(0, 1, 100)\n",
    "\n",
    "precision, recall = np.meshgrid(precision, recall)\n",
    "f2_scores = f_beta(precision, recall, beta=2)\n",
    "\n",
    "fig = plt.figure(figsize=(10, 7))\n",
    "ax = fig.add_subplot(111, projection='3d')\n",
    "\n",
    "ax.plot_surface(precision, recall, f2_scores, cmap='viridis')\n",
    "ax.set_xlabel('Precision')\n",
    "ax.set_ylabel('Recall')\n",
    "ax.set_zlabel('F1 Score')\n",
    "ax.set_title('F1 Score as a Function of Precision and Recall')\n",
    "\n",
    "plt.show()"
   ],
   "id": "88b778dbccc6320d",
   "execution_count": 9,
   "outputs": []
  },
  {
   "metadata": {},
   "cell_type": "markdown",
   "source": [
    "### FN과 FP의 변화에 따른 F_\\beta 점수\n",
    "FN과 FP의 변화에 따라 precision, recall, 그리고 F_\\beta 점수가 어떻게 변하는지 살펴보겠습니다:\n",
    "\n",
    "- **Precision** \n",
    "    - $\\(\\text{precision} = \\frac{\\text{TP}}{\\text{TP} + \\text{FP}}\\)$\n",
    "  - FP가 증가하면 precision이 감소하며, FP가 감소하면 precision이 증가합니다.\n",
    "  - FN는 precision 계산에 직접적인 영향을 미치지 않습니다.\n",
    "\n",
    "\n",
    "- **Recall** \n",
    "    - $\\(\\text{recall} = \\frac{\\text{TP}}{\\text{TP} + \\text{FN}}\\)$\n",
    "  - FN가 증가하면 recall이 감소하며, FN가 감소하면 recall이 증가합니다.\n",
    "  - FP는 recall 계산에 직접적인 영향을 미치지 않습니다.\n",
    "\n",
    "- **F_\\beta score**\n",
    "  - FN와 FP가 동시에 증가하면, precision과 recall이 모두 감소하여 F_\\beta 점수도 감소합니다.\n",
    "  - FN와 FP가 동시에 감소하면, precision과 recall이 모두 증가하여 F_\\beta 점수도 증가합니다.\n",
    "\n",
    "  - 단일하게 FN 또는 FP가 변할 경우, 해당 지표 (precision 또는 recall)에 직간접적인 영향을 주어 F_\\beta 점수가 변동합니다.\n",
    "\n",
    "이와 같은 배경에 따라, F_\\beta 점수가 최대가 되는 상황은 FN과 FP가 모두 최소화되어 TP가 전체 True 경우와 거의 일치할 때입니다."
   ],
   "id": "b2726e50743b1efd"
  },
  {
   "metadata": {
    "ExecuteTime": {
     "end_time": "2024-05-23T06:31:09.938843Z",
     "start_time": "2024-05-23T06:31:09.254566Z"
    }
   },
   "cell_type": "code",
   "source": [
    "import numpy as np\n",
    "import matplotlib.pyplot as plt\n",
    "from mpl_toolkits.mplot3d import Axes3D\n",
    "def f_beta(precision, recall, beta):\n",
    "    return (1 + beta**2) * (precision * recall) / ((beta**2 * precision) + recall)\n",
    "precision = np.linspace(0, 1, 100)\n",
    "recall = np.linspace(0, 1, 100)\n",
    "precision, recall = np.meshgrid(precision, recall)\n",
    "\n",
    "# Different beta values\n",
    "beta_vals = [0.5, 1, 2]\n",
    "titles = [r'$F_{0.5}$ Score', r'$F_{1}$ Score (F1)', r'$F_{2}$ Score']\n",
    "fig = plt.figure(figsize=(18, 6))\n",
    "\n",
    "for i, beta in enumerate(beta_vals):\n",
    "    f_scores = f_beta(precision, recall, beta)\n",
    "    ax = fig.add_subplot(1, 3, i+1, projection='3d')\n",
    "    ax.plot_surface(precision, recall, f_scores, cmap='viridis')\n",
    "    ax.set_xlabel('Precision')\n",
    "    ax.set_ylabel('Recall')\n",
    "    ax.set_zlabel('F Score')\n",
    "    ax.set_title(f'{titles[i]} with β={beta}')\n",
    "\n",
    "plt.tight_layout()\n",
    "plt.show()"
   ],
   "id": "9734dcf012161301",
   "execution_count": 11,
   "outputs": []
  },
  {
   "metadata": {},
   "cell_type": "markdown",
   "source": [
    "1. **\\[F_{0.5}\\] Score**: β 값이 0.5일 때는 precision을 더 중시합니다. recall이 낮아도 precision이 높으면 F 점수가 높게 유지됩니다.\n",
    "2. **\\[F_1\\] Score**: F1 점수는 precision과 recall이 동등하게 고려되며, 두 값이 비슷할 때 최대값에 도달합니다.\n",
    "3. **\\[F_2\\] Score**: β 값이 2일 때는 recall을 더 중시합니다. precision이 낮아도 recall이 높으면 F 점수가 높게 유지됩니다."
   ],
   "id": "3a85ab95f5311637"
  },
  {
   "metadata": {},
   "cell_type": "code",
   "execution_count": null,
   "source": "",
   "id": "40f7148e9ea36d90",
   "outputs": []
  }
 ],
 "metadata": {
  "kernelspec": {
   "display_name": "Python 3",
   "language": "python",
   "name": "python3"
  },
  "language_info": {
   "codemirror_mode": {
    "name": "ipython",
    "version": 2
   },
   "file_extension": ".py",
   "mimetype": "text/x-python",
   "name": "python",
   "nbconvert_exporter": "python",
   "pygments_lexer": "ipython2",
   "version": "2.7.6"
  }
 },
 "nbformat": 4,
 "nbformat_minor": 5
}
