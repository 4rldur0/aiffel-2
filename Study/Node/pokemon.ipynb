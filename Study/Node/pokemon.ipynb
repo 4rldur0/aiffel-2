{
 "cells": [
  {
   "metadata": {},
   "cell_type": "markdown",
   "source": "## 포켓몬을 분류하자",
   "id": "3c69db99f5e1a727"
  },
  {
   "cell_type": "code",
   "id": "15d241b2",
   "metadata": {
    "ExecuteTime": {
     "end_time": "2024-05-27T06:44:05.038495Z",
     "start_time": "2024-05-27T06:44:05.022862Z"
    }
   },
   "source": [
    "import numpy as np\n",
    "import pandas as pd\n",
    "import seaborn as sns\n",
    "import matplotlib.pyplot as plt\n",
    "%matplotlib inline\n",
    "%config InlineBackend.figure_format = 'retina'\n",
    "print('슝=3')"
   ],
   "execution_count": 1,
   "outputs": []
  },
  {
   "cell_type": "code",
   "id": "edff9828",
   "metadata": {
    "ExecuteTime": {
     "end_time": "2024-05-27T06:45:56.264091Z",
     "start_time": "2024-05-27T06:45:56.248492Z"
    }
   },
   "source": [
    "import os\n",
    "csv_path = \"./data/Pokemon.csv\"\n",
    "original_data = pd.read_csv(csv_path)\n",
    "print('슝=3')"
   ],
   "execution_count": 3,
   "outputs": []
  },
  {
   "cell_type": "code",
   "id": "edf0cd2b",
   "metadata": {
    "ExecuteTime": {
     "end_time": "2024-05-27T06:45:57.503466Z",
     "start_time": "2024-05-27T06:45:57.495882Z"
    }
   },
   "source": [
    "pokemon = original_data.copy()\n",
    "print(pokemon.shape)\n",
    "pokemon.head()"
   ],
   "execution_count": 4,
   "outputs": []
  },
  {
   "cell_type": "code",
   "id": "2066f964",
   "metadata": {
    "ExecuteTime": {
     "end_time": "2024-05-27T06:45:58.331711Z",
     "start_time": "2024-05-27T06:45:58.324643Z"
    }
   },
   "source": [
    "# 전설의 포켓몬 데이터셋\n",
    "legendary = pokemon[pokemon[\"Legendary\"] == True].reset_index(drop=True)\n",
    "print(legendary.shape)\n",
    "legendary.head()"
   ],
   "execution_count": 5,
   "outputs": []
  },
  {
   "cell_type": "code",
   "id": "7255daab",
   "metadata": {
    "ExecuteTime": {
     "end_time": "2024-05-27T06:45:58.805595Z",
     "start_time": "2024-05-27T06:45:58.797175Z"
    }
   },
   "source": [
    "# Q. 일반 포켓몬의 데이터셋도 만들어봅시다.\n",
    "ordinary = pokemon[pokemon[\"Legendary\"] != True].reset_index(drop=True)\n",
    "print(ordinary.shape)\n",
    "ordinary.head()"
   ],
   "execution_count": 6,
   "outputs": []
  },
  {
   "cell_type": "markdown",
   "id": "cf4a242f",
   "metadata": {},
   "source": [
    "### 빈 데이터 확인하기\n"
   ]
  },
  {
   "cell_type": "code",
   "id": "a23a3f51",
   "metadata": {
    "ExecuteTime": {
     "end_time": "2024-05-27T06:45:59.673308Z",
     "start_time": "2024-05-27T06:45:59.666321Z"
    }
   },
   "source": [
    "pokemon.isnull().sum()"
   ],
   "execution_count": 7,
   "outputs": []
  },
  {
   "cell_type": "markdown",
   "id": "97034e09",
   "metadata": {},
   "source": [
    "### 전체 컬럼 이해하기"
   ]
  },
  {
   "cell_type": "code",
   "id": "d9385dd0",
   "metadata": {
    "ExecuteTime": {
     "end_time": "2024-05-27T06:46:00.327467Z",
     "start_time": "2024-05-27T06:46:00.322393Z"
    }
   },
   "source": [
    "print(len(pokemon.columns))\n",
    "pokemon.columns"
   ],
   "execution_count": 8,
   "outputs": []
  },
  {
   "cell_type": "markdown",
   "id": "c815951b",
   "metadata": {},
   "source": [
    "- \\# : 포켓몬 Id number. 성별이 다르지만 같은 포켓몬인 경우 등은 같은 #값을 가진다. int\n",
    "- Name : 포켓몬 이름. 포켓몬 각각의 이름으로 저장되고, 800개의 포켓몬의 이름 데이터는 모두 다르다. (unique) `str`\n",
    "- Type 1 : 첫 번째 속성. 속성을 하나만 가지는 경우 Type 1에 입력된다. `str`\n",
    "- Type 2 : 두 번째 속성. 속성을 하나만 가지는 포켓몬의 경우 Type 2는 NaN(결측값)을 가진다. `str`\n",
    "- Total : 전체 6가지 스탯의 총합. `int`\n",
    "- HP : 포켓몬의 체력. `int`\n",
    "- Attack : 물리 공격력. (scratch, punch 등) `int`\n",
    "- Defense : 물리 공격에 대한 방어력. `int`\n",
    "- Sp. Atk : 특수 공격력. (fire blast, bubble beam 등) `int`\n",
    "- Sp. Def : 특수 공격에 대한 방어력. `int`\n",
    "- Speed : 포켓몬 매치에 대해 어떤 포켓몬이 먼저 공격할지를 결정. (더 높은 포켓몬이 먼저 공격한다) `int`\n",
    "- Generation : 포켓몬의 세대. 현재 데이터에는 6세대까지 있다. `int`\n",
    "- Legendary : 전설의 포켓몬 여부. !! Target feature !! `bool`"
   ]
  },
  {
   "cell_type": "markdown",
   "id": "0b5bc227",
   "metadata": {},
   "source": [
    "- \\# : 포켓몬 Id number. 성별이 다르지만 같은 포켓몬인 경우 등은 같은 #값을 가진다. int"
   ]
  },
  {
   "cell_type": "code",
   "id": "2431da0b",
   "metadata": {
    "ExecuteTime": {
     "end_time": "2024-05-27T06:46:01.182397Z",
     "start_time": "2024-05-27T06:46:01.178802Z"
    }
   },
   "source": [
    "len(set(pokemon[\"#\"]))"
   ],
   "execution_count": 9,
   "outputs": []
  },
  {
   "cell_type": "code",
   "id": "0b43b30a",
   "metadata": {
    "ExecuteTime": {
     "end_time": "2024-05-27T06:46:01.527210Z",
     "start_time": "2024-05-27T06:46:01.522008Z"
    }
   },
   "source": [
    "pokemon[pokemon[\"#\"] == 6]"
   ],
   "execution_count": 10,
   "outputs": []
  },
  {
   "cell_type": "markdown",
   "id": "bd02567e",
   "metadata": {},
   "source": [
    "- Name : 포켓몬 이름. 포켓몬 각각의 이름으로 저장되고, 800개의 포켓몬의 이름 데이터는 모두 다르다. (unique) `str`"
   ]
  },
  {
   "cell_type": "code",
   "id": "a231de77",
   "metadata": {
    "ExecuteTime": {
     "end_time": "2024-05-27T06:46:02.017675Z",
     "start_time": "2024-05-27T06:46:02.013379Z"
    }
   },
   "source": [
    "len(set(pokemon[\"Name\"]))"
   ],
   "execution_count": 11,
   "outputs": []
  },
  {
   "cell_type": "markdown",
   "id": "ace3049c",
   "metadata": {},
   "source": [
    "이름은 데이터셋 전체 값과 같이 800개군요. 모든 이름은 unique함을 알 수 있습니다."
   ]
  },
  {
   "cell_type": "markdown",
   "id": "db8bb49a",
   "metadata": {},
   "source": [
    "- Type 1 : 첫 번째 속성. 속성을 하나만 가지는 경우 Type 1에 입력된다. `str`\n",
    "\n",
    "- Type 2 : 두 번째 속성. 속성을 하나만 가지는 포켓몬의 경우 Type 2는 NaN(결측값)을 가진다. `str`"
   ]
  },
  {
   "cell_type": "code",
   "id": "5195b771",
   "metadata": {
    "ExecuteTime": {
     "end_time": "2024-05-27T06:46:02.732751Z",
     "start_time": "2024-05-27T06:46:02.726550Z"
    }
   },
   "source": [
    "pokemon.loc[[6, 10]]"
   ],
   "execution_count": 12,
   "outputs": []
  },
  {
   "cell_type": "markdown",
   "id": "a7bb14d6",
   "metadata": {},
   "source": [
    "전체를 살펴봐야 하지만, 몇 개를 더 찍어봐도 포켓몬이 가지는 속성은 기본적으로 하나, 또는 최대 두 개까지 가질 수 있는 것을 알 수 있습니다. 특히, 데이터셋에서 한 개의 속성을 가지는 포켓몬은 Type 1에만 속성이 표시되고 Type 2에는 NaN값이 들어가 있습니다.\n",
    "\n"
   ]
  },
  {
   "cell_type": "code",
   "id": "533a8393",
   "metadata": {
    "ExecuteTime": {
     "end_time": "2024-05-27T06:46:03.164874Z",
     "start_time": "2024-05-27T06:46:03.161588Z"
    }
   },
   "source": [
    "len(list(set(pokemon[\"Type 1\"]))), len(list(set(pokemon[\"Type 2\"])))"
   ],
   "execution_count": 13,
   "outputs": []
  },
  {
   "cell_type": "markdown",
   "id": "2423f693",
   "metadata": {},
   "source": [
    "Type 1에는 총 18가지, Type 2에는 총 19가지의 속성이 들어가 있는데, 여기서 Type 2가 한 가지 더 많은 것은 뭘까요?\n",
    "\n",
    "각자를 집합으로 만들어 차집합을 확인해 봅시다."
   ]
  },
  {
   "cell_type": "code",
   "id": "91532c7b",
   "metadata": {
    "ExecuteTime": {
     "end_time": "2024-05-27T06:46:03.560277Z",
     "start_time": "2024-05-27T06:46:03.554381Z"
    }
   },
   "source": [
    "set(pokemon[\"Type 2\"]) - set(pokemon[\"Type 1\"])"
   ],
   "execution_count": 14,
   "outputs": []
  },
  {
   "cell_type": "code",
   "id": "509c88d1",
   "metadata": {
    "ExecuteTime": {
     "end_time": "2024-05-27T06:46:03.821372Z",
     "start_time": "2024-05-27T06:46:03.818411Z"
    }
   },
   "source": [
    "types = list(set(pokemon[\"Type 1\"]))\n",
    "print(len(types))\n",
    "print(types)"
   ],
   "execution_count": 15,
   "outputs": []
  },
  {
   "cell_type": "markdown",
   "id": "25f7b7eb",
   "metadata": {},
   "source": [
    "그렇다면 Type을 하나만 가지고 있는 포켓몬은 몇 마리일까요?\n",
    "Type이 단 하나뿐이라면 Type 2는 NaN 값일 것일 겁니다. Type 2가 NaN인 포켓몬의 수를 구해봅시다.\n",
    "\n",
    "데이터가 비어있는 NaN값의 개수를 확인하고 싶을 때는 다음과 같이 isna() 함수를 활용하면 됩니다.`"
   ]
  },
  {
   "cell_type": "code",
   "id": "574f4fe7",
   "metadata": {
    "ExecuteTime": {
     "end_time": "2024-05-27T06:46:04.176952Z",
     "start_time": "2024-05-27T06:46:04.174302Z"
    }
   },
   "source": [
    "pokemon[\"Type 2\"].isna().sum()"
   ],
   "execution_count": 16,
   "outputs": []
  },
  {
   "cell_type": "markdown",
   "id": "40182237",
   "metadata": {},
   "source": [
    "### Type 1 데이터 분포 plot\n",
    "일반 포켓몬과 전설의 포켓몬 속성 분포가 각각 어떤지 확인하겠습니다.\n",
    "우리의 데이터는 일반 포켓몬보다 전설의 포켓몬 수가 매우 적은 불균형 데이터이기 때문에, 전설의 포켓몬은 따로 시각화해 주는 것이 좋을 것 같군요.\n",
    "\n",
    "다음과 같이 plt의 subplot을 활용해서 두 개의 그래프를 한 번에 그리면서, 그래프는 sns(seaborn)의 countplot을 활용하겠습니다.\n",
    "countplot은 말 그대로 데이터의 개수를 표시하는 플롯입니다."
   ]
  },
  {
   "cell_type": "code",
   "id": "3fb4b4ac",
   "metadata": {
    "ExecuteTime": {
     "end_time": "2024-05-27T06:46:04.924629Z",
     "start_time": "2024-05-27T06:46:04.487278Z"
    }
   },
   "source": [
    "plt.figure(figsize=(18, 7))  # 화면 해상도에 따라 그래프 크기를 조정해 주세요.\n",
    "\n",
    "plt.subplot(211)\n",
    "sns.countplot(data=ordinary, x=\"Type 1\", order=types).set_xlabel('')\n",
    "plt.title(\"[Ordinary Pokemons]\")\n",
    "\n",
    "plt.subplot(212)\n",
    "sns.countplot(data=legendary, x=\"Type 1\", order=types).set_xlabel('')\n",
    "plt.title(\"[Legendary Pokemons]\")\n",
    "\n",
    "plt.show()"
   ],
   "execution_count": 17,
   "outputs": []
  },
  {
   "cell_type": "markdown",
   "id": "8b1025ce",
   "metadata": {},
   "source": [
    "- 일반 포켓몬에는 물(Water) 속성, 노말(Normal) 속성, 벌레(Bug) 속성 등이 많습니다.\n",
    "- 반면, 전설의 포켓몬에는 드래곤(Dragon) 속성, 에스퍼(Psychic) 속성이 많습니다."
   ]
  },
  {
   "cell_type": "markdown",
   "id": "a37a6b2f",
   "metadata": {},
   "source": [
    "네, 확실히 일반 포켓몬과 전설의 포켓몬 속성 분포에는 차이가 보이는 것 같습니다.\n",
    "일반 포켓몬에는 Normal, Water의 속성이 가장 많지만, 전설의 포켓몬에는 Dragon, Psychic 속성이 가장 많네요.\n",
    "\n",
    "그렇다면, 피벗 테이블(pivot table)로 각 속성에 Legendary 포켓몬들이 몇 퍼센트씩 있는지 확인해 봅시다.\n",
    "sort_value를 활용해 높은 것부터 낮은 순으로 정렬해 보았습니다."
   ]
  },
  {
   "cell_type": "code",
   "id": "996250a7",
   "metadata": {
    "ExecuteTime": {
     "end_time": "2024-05-27T06:46:05.325594Z",
     "start_time": "2024-05-27T06:46:05.316567Z"
    }
   },
   "source": [
    "# Type1별로 Legendary의 비율을 보여주는 피벗 테이블\n",
    "pd.pivot_table(pokemon, index=\"Type 1\", values=\"Legendary\").sort_values(by=[\"Legendary\"], ascending=False)"
   ],
   "execution_count": 18,
   "outputs": []
  },
  {
   "cell_type": "markdown",
   "id": "232a97ab",
   "metadata": {},
   "source": [
    "### Type 2 데이터 분포 plot\n",
    "그렇다면 Type 2는 어떨까요?\n",
    "참고로, Type 2에는 NaN(결측값)이 존재했었습니다. Countplot을 그릴 때는 결측값은 자동으로 제외됩니다."
   ]
  },
  {
   "cell_type": "code",
   "id": "6b3cf251",
   "metadata": {
    "ExecuteTime": {
     "end_time": "2024-05-27T06:46:06.142358Z",
     "start_time": "2024-05-27T06:46:05.750238Z"
    }
   },
   "source": [
    "# Q. 아래 코드의 빈칸을 채워주세요.\n",
    "plt.figure(figsize=(12, 10))  # 화면 해상도에 따라 그래프 크기를 조정해 주세요.\n",
    "\n",
    "plt.subplot(211)\n",
    "sns.countplot(data=ordinary, x=\"Type 2\", order=types).set_xlabel('')\n",
    "plt.title(\"[Ordinary Pokemons]\")\n",
    "\n",
    "plt.subplot(212)\n",
    "sns.countplot(data=legendary, x=\"Type 2\", order=types).set_xlabel('')\n",
    "plt.title(\"[Legendary Pokemons]\")\n",
    "\n",
    "plt.show()"
   ],
   "execution_count": 19,
   "outputs": []
  },
  {
   "cell_type": "markdown",
   "id": "7d4aeda4",
   "metadata": {},
   "source": [
    "Type 2 또한 일반 포켓몬과 전설의 포켓몬 분포 차이가 보입니다.\n",
    "Flying 속성의 경우 두 경우 다 가장 많지만, 일반 포켓몬에는 Grass, Rock, Poison같은 속성이 많은 반면 전설의 포켓몬은 하나도 없습니다.\n",
    "\n",
    "대신 여전히 Dragon, Psychic과 더불어 Fighting과 같은 속성이 많습니다.\n",
    "\n",
    "역시 피벗 테이블로도 확인해 볼까요?"
   ]
  },
  {
   "cell_type": "code",
   "id": "b35c3793",
   "metadata": {
    "ExecuteTime": {
     "end_time": "2024-05-27T06:46:06.177995Z",
     "start_time": "2024-05-27T06:46:06.169237Z"
    }
   },
   "source": [
    "# Q. Type 2에 대해서도 피벗 테이블을 만들어봅시다.\n",
    "pd.pivot_table(pokemon, index=\"Type 2\", values=\"Legendary\").sort_values(by=[\"Legendary\"], ascending=False)"
   ],
   "execution_count": 20,
   "outputs": []
  },
  {
   "cell_type": "markdown",
   "id": "48167893",
   "metadata": {},
   "source": [
    "- Total : 전체 6가지 스탯의 총합. `int`"
   ]
  },
  {
   "cell_type": "code",
   "id": "5f7d60ba",
   "metadata": {
    "ExecuteTime": {
     "end_time": "2024-05-27T06:46:06.181121Z",
     "start_time": "2024-05-27T06:46:06.178749Z"
    }
   },
   "source": [
    "stats = [\"HP\", \"Attack\", \"Defense\", \"Sp. Atk\", \"Sp. Def\", \"Speed\"]\n",
    "stats"
   ],
   "execution_count": 21,
   "outputs": []
  },
  {
   "cell_type": "markdown",
   "id": "006a0aa1",
   "metadata": {},
   "source": [
    "실제로 6개 스탯의 총합과 데이터에 제공된 Total값이 맞는지 확인해 볼까요? 데이터 분석에서 검증은 필수죠!\n",
    "\n",
    "코드를 하나하나 따라가 보며 어떤 것을 출력했는지 이해해 보세요.\n",
    "아래는 첫 번째 포켓몬에 대해 검증하는 코드입니다."
   ]
  },
  {
   "cell_type": "code",
   "id": "dd334767",
   "metadata": {
    "ExecuteTime": {
     "end_time": "2024-05-27T06:46:07.217350Z",
     "start_time": "2024-05-27T06:46:07.211241Z"
    }
   },
   "source": [
    "print(\"#0 pokemon: \", pokemon.loc[0, \"Name\"])\n",
    "print(\"total: \", int(pokemon.loc[0, \"Total\"]))\n",
    "print(\"stats: \", list(pokemon.loc[0, stats]))\n",
    "print(\"sum of all stats: \", sum(list(pokemon.loc[0, stats])))"
   ],
   "execution_count": 22,
   "outputs": []
  },
  {
   "cell_type": "markdown",
   "id": "6b01524a",
   "metadata": {},
   "source": [
    "네, 첫 번째 포켓몬에 대해서는 Total 값이 318로 일치하는군요.\n",
    "\n",
    "전체 포켓몬에 대해 Total 값이 stats의 총합과 같은지 확인해 봅시다.\n",
    "아래와 같이 pokemon['Total'].values와 pokemon[stats].values들의 총합이 같은 포켓몬의 개수를 sum으로 확인하겠습니다.\n",
    "여기서 stats의 경우에는 포켓몬마다 가로 방향으로 더해야 하기 때문에 axis=1이 들어가야 하는 것을 주목하세요!"
   ]
  },
  {
   "cell_type": "code",
   "id": "43cea2c4",
   "metadata": {
    "ExecuteTime": {
     "end_time": "2024-05-27T06:46:07.508763Z",
     "start_time": "2024-05-27T06:46:07.506578Z"
    }
   },
   "source": [
    "# Q. 'pokemon['Total'].values'와 'pokemon[stats].values의 총합'이 같은 포켓몬의 수를 확인해봅시다.\n",
    "(pokemon['Total'].values == pokemon[stats].values.sum(axis=1)).sum()"
   ],
   "execution_count": 23,
   "outputs": []
  },
  {
   "cell_type": "markdown",
   "id": "92fbed20",
   "metadata": {},
   "source": [
    "### Total값에 따른 분포 plot\n",
    "그렇다면 Total 값과 Legendary 는 어떤 관계가 있을지 확인해 봅시다."
   ]
  },
  {
   "cell_type": "code",
   "id": "47f71097",
   "metadata": {
    "ExecuteTime": {
     "end_time": "2024-05-27T06:46:08.292731Z",
     "start_time": "2024-05-27T06:46:08.047246Z"
    }
   },
   "source": [
    "fig, ax = plt.subplots()\n",
    "fig.set_size_inches(12, 6)  # 화면 해상도에 따라 그래프 크기를 조정해 주세요.\n",
    "\n",
    "sns.scatterplot(data=pokemon, x=\"Type 1\", y=\"Total\", hue=\"Legendary\")\n",
    "plt.show()"
   ],
   "execution_count": 25,
   "outputs": []
  },
  {
   "cell_type": "markdown",
   "id": "1ac21db6",
   "metadata": {},
   "source": [
    "Legendary 여부에 따라 색깔(hue)을 달리하도록 했습니다. 점의 색깔을 보면 Type 1 별로 Total 값을 확인했을 때, 전설의 포켓몬은 주로 Total 스탯 값이 높다는 것이 확인됩니다.\n",
    "\n",
    "전설의 포켓몬은 왕 쎄군요..!"
   ]
  },
  {
   "cell_type": "markdown",
   "id": "6441bea5",
   "metadata": {},
   "source": [
    "- HP : 포켓몬의 체력. `int`\n",
    "\n",
    "- Attack : 물리 공격력. (scratch, punch 등) `int`\n",
    "\n",
    "- Defense : 물리 공격에 대한 방어력. `int`\n",
    "\n",
    "- Sp. Atk : 특수 공격력. (fire blast, bubble beam 등) `int`\n",
    "\n",
    "- Sp. Def : 특수 공격에 대한 방어력. `int`\n",
    "\n",
    "- Sp. Def : 특수 공격에 대한 방어력. `int`\n",
    "\n",
    "- Speed : 포켓몬 매치에 대해 어떤 포켓몬이 먼저 공격할지를 결정. (더 높은 포켓몬이 먼저 공격한다) `int`"
   ]
  },
  {
   "cell_type": "code",
   "id": "8e5cbfe7",
   "metadata": {
    "scrolled": true,
    "ExecuteTime": {
     "end_time": "2024-05-27T06:46:09.384551Z",
     "start_time": "2024-05-27T06:46:08.294033Z"
    }
   },
   "source": [
    "# Q. 다음 코드의 빈칸을 채워주세요.\n",
    "# 각각의 스탯에 대한 scatter plot을 6개의 subplot으로 표현합니다.\n",
    "\n",
    "figure, ((ax1, ax2), (ax3, ax4), (ax5, ax6)) = plt.subplots(nrows=3, ncols=2)\n",
    "figure.set_size_inches(12, 18)  # 화면 해상도에 따라 그래프 크기를 조정해 주세요.\n",
    "\n",
    "# \"HP\" 스탯의 scatter plot\n",
    "sns.scatterplot(data=pokemon, y=\"Total\", x=\"HP\", hue=\"Legendary\", ax=ax1)\n",
    "\n",
    "# \"Attack\" 스탯의 scatter plot\n",
    "sns.scatterplot(data=pokemon, y=\"Total\", x=\"Attack\", hue=\"Legendary\", ax=ax2)\n",
    "\n",
    "# \"Defense\" 스탯의 scatter plot\n",
    "sns.scatterplot(data=pokemon, y=\"Total\", x=\"Defense\", hue=\"Legendary\", ax=ax3)\n",
    "\n",
    "# \"Sp. Atk\" 스탯의 scatter plot\n",
    "sns.scatterplot(data=pokemon, y=\"Total\", x=\"Sp. Atk\", hue=\"Legendary\", ax=ax4)\n",
    "\n",
    "# \"Sp. Def\" 스탯의 scatter plot\n",
    "sns.scatterplot(data=pokemon, y=\"Total\", x=\"Sp. Def\", hue=\"Legendary\", ax=ax5)\n",
    "\n",
    "# \"Speed\" 스탯의 scatter plot\n",
    "sns.scatterplot(data=pokemon, y=\"Total\", x=\"Speed\", hue=\"Legendary\", ax=ax6)\n",
    "\n",
    "plt.show()"
   ],
   "execution_count": 26,
   "outputs": []
  },
  {
   "cell_type": "markdown",
   "id": "3fbcde2e",
   "metadata": {},
   "source": [
    "### 각 스탯에 대한 분석\n",
    "각각의 스탯을 분석해봅시다.\n",
    "\n",
    "- HP, Defense, Sp. Def\n",
    "    - 전설의 포켓몬은 주로 높은 스탯을 갖지만, 이 세 가지에서는 일반 포켓몬이 전설의 포켓몬보다 특히 높은 몇몇 포켓몬이 있습니다.\n",
    "\n",
    "    - 그러나 그 포켓몬들도 Total 값은 특별히 높지 않은 것으로 보아 특정 스탯만 특별히 높은, 즉 특정 속성에 특화된 포켓몬들로 보입니다. (ex. 방어형, 공격형 등)\n",
    "\n",
    "- Attack, Sp. Atk, Speed\n",
    "    - 이 세 가지 스탯은 Total과 거의 비례합니다.\n",
    "    - 전설의 포켓몬이 각 스탯의 최대치를 차지하고 있습니다."
   ]
  },
  {
   "cell_type": "markdown",
   "id": "40488048",
   "metadata": {},
   "source": [
    "- Generation : 포켓몬의 세대. 현재 데이터에는 6세대까지 있다. `int`"
   ]
  },
  {
   "cell_type": "code",
   "id": "f73c9b09",
   "metadata": {
    "ExecuteTime": {
     "end_time": "2024-05-27T06:46:09.770485Z",
     "start_time": "2024-05-27T06:46:09.441933Z"
    }
   },
   "source": [
    "plt.figure(figsize=(12, 10))   # 화면 해상도에 따라 그래프 크기를 조정해 주세요.\n",
    "\n",
    "plt.subplot(211)\n",
    "sns.countplot(data=ordinary, x=\"Generation\").set_xlabel('')\n",
    "plt.title(\"[Ordinary Pokemons]\")\n",
    "plt.subplot(212)\n",
    "sns.countplot(data=legendary, x=\"Generation\").set_xlabel('')\n",
    "plt.title(\"[Legendary Pokemons]\")\n",
    "plt.show()"
   ],
   "execution_count": 27,
   "outputs": []
  },
  {
   "cell_type": "code",
   "id": "5d834b33",
   "metadata": {
    "ExecuteTime": {
     "end_time": "2024-05-27T06:46:09.935405Z",
     "start_time": "2024-05-27T06:46:09.771836Z"
    }
   },
   "source": [
    "fig, ax = plt.subplots()\n",
    "fig.set_size_inches(8, 4)\n",
    "\n",
    "sns.scatterplot(data=legendary, y=\"Type 1\", x=\"Total\")\n",
    "plt.show()"
   ],
   "execution_count": 28,
   "outputs": []
  },
  {
   "cell_type": "markdown",
   "id": "bac0423a",
   "metadata": {},
   "source": [
    "앗, 여기서 한 가지 특징이 보이는 것 같습니다.\n",
    "바로, 전설의 포켓몬들의 Total값들이 600과 같은 특정한 값에 몰려있다는 것이죠! 무언가 이상하지 않나요?\n",
    "\n",
    "실제로 전설의 포켓몬이 가지는 Total값들의 집합을 확인해 봅시다."
   ]
  },
  {
   "cell_type": "code",
   "id": "d9337f25",
   "metadata": {
    "ExecuteTime": {
     "end_time": "2024-05-27T06:46:09.940107Z",
     "start_time": "2024-05-27T06:46:09.937213Z"
    }
   },
   "source": [
    "print(sorted(list(set(legendary[\"Total\"]))))"
   ],
   "execution_count": 29,
   "outputs": []
  },
  {
   "cell_type": "code",
   "id": "11ee3d4d",
   "metadata": {
    "ExecuteTime": {
     "end_time": "2024-05-27T06:46:10.075011Z",
     "start_time": "2024-05-27T06:46:09.941855Z"
    }
   },
   "source": [
    "fig, ax = plt.subplots()\n",
    "fig.set_size_inches(8, 4)\n",
    "\n",
    "sns.countplot(data=legendary, x=\"Total\")\n",
    "plt.show()"
   ],
   "execution_count": 30,
   "outputs": []
  },
  {
   "cell_type": "code",
   "id": "53ef178f",
   "metadata": {
    "ExecuteTime": {
     "end_time": "2024-05-27T06:46:10.078722Z",
     "start_time": "2024-05-27T06:46:10.076626Z"
    }
   },
   "source": [
    "round(65 / 9, 2)"
   ],
   "execution_count": 31,
   "outputs": []
  },
  {
   "cell_type": "markdown",
   "id": "9c5028a2",
   "metadata": {},
   "source": [
    "약 7.22마리 끼리는 같은 Total 스탯 값을 가진다는 의미와 같습니다. 이는 언뜻 봐도 꽤 높은 값인 것 같은 느낌을 주네요."
   ]
  },
  {
   "cell_type": "code",
   "id": "ae807854",
   "metadata": {
    "ExecuteTime": {
     "end_time": "2024-05-27T06:46:10.081235Z",
     "start_time": "2024-05-27T06:46:10.079409Z"
    }
   },
   "source": [
    "# Q. ordinary 포켓몬의 'Total' 값 집합을 확인해봅시다.\n",
    "print(sorted(list(set(ordinary[\"Total\"]))))"
   ],
   "execution_count": 32,
   "outputs": []
  },
  {
   "cell_type": "code",
   "id": "b5a2116b",
   "metadata": {
    "ExecuteTime": {
     "end_time": "2024-05-27T06:46:10.673081Z",
     "start_time": "2024-05-27T06:46:10.668482Z"
    }
   },
   "source": [
    "# Q. 이 집합의 크기(길이)를 확인해봅시다.\n",
    "len(set(ordinary[\"Total\"]))"
   ],
   "execution_count": 33,
   "outputs": []
  },
  {
   "cell_type": "markdown",
   "id": "a485ec07",
   "metadata": {},
   "source": [
    "일반 포켓몬은 총 195가지의 Total 속성값을 가지고, 전체 일반 포켓몬은 (800 - 65), 즉 735마리이므로,"
   ]
  },
  {
   "cell_type": "code",
   "id": "3ca3dbc9",
   "metadata": {
    "ExecuteTime": {
     "end_time": "2024-05-27T06:46:11.178692Z",
     "start_time": "2024-05-27T06:46:11.176100Z"
    }
   },
   "source": [
    "round(735 / 195, 2)"
   ],
   "execution_count": 34,
   "outputs": []
  },
  {
   "cell_type": "markdown",
   "id": "44d4a250",
   "metadata": {},
   "source": [
    "약 3.77마리만 같은 Total 스탯 값을 가지는군요.\n",
    "\n",
    "이로써 다음의 두 가지를 알 수 있습니다.\n",
    "\n",
    "Total값의 다양성은 일반 포켓몬이 전설의 포켓몬보다 두 배 가까이 됩니다. 즉 전설의 포켓몬의 Total값은 다양하지 않습니다.\n",
    ": 한 포켓몬의 Total 속성값이 전설의 포켓몬의 값들 집합에 포함되는지의 여부는 전설의 포켓몬임을 결정하는 데에 영향을 미칩니다.\n",
    "\n",
    "또한, 전설의 포켓몬의 Total 값 중에는 일반 포켓몬이 가지지 못하는 Total값이 존재합니다. ex) 680, 720, 770, 780\n",
    ": Total값은 전설의 포켓몬인지 아닌지를 결정하는 데에 이러한 방식으로도 영향을 미칠 수 있습니다.\n",
    "\n",
    "즉, Total값은 legendary인지 아닌지를 예측하는 데에 중요한 컬럼일 것이라는 결론을 내릴 수 있습니다."
   ]
  },
  {
   "cell_type": "markdown",
   "id": "be98a1eb",
   "metadata": {},
   "source": [
    "## 데이터를 보고 있으면 한 가지 더 특이한 점이 있습니다. 바로 이름!\n",
    "전설의 포켓몬들의 이름을 보면, 특정 단어가 들어가 있는 이름, 또는 긴 이름을 가진 경우가 많음을 확인할 수 있습니다.\n",
    "\n",
    "특정 단어가 들어가 있는 이름\n",
    "특정 단어가 들어가 있는 이름이 많은지, 바로 확인해 봅시다.\n",
    "아래 행들은 비슷한 이름을 가진 포켓몬들의 모임입니다. 이들을 pd.concat으로 합쳐보겠습니다."
   ]
  },
  {
   "cell_type": "code",
   "id": "7102f451",
   "metadata": {
    "ExecuteTime": {
     "end_time": "2024-05-27T06:46:11.615304Z",
     "start_time": "2024-05-27T06:46:11.604808Z"
    }
   },
   "source": [
    "n1, n2, n3, n4, n5 = legendary[3:6], legendary[14:24], legendary[25:29], legendary[46:50], legendary[52:57]\n",
    "names = pd.concat([n1, n2, n3, n4, n5]).reset_index(drop=True)\n",
    "names"
   ],
   "execution_count": 35,
   "outputs": []
  },
  {
   "cell_type": "markdown",
   "id": "5701a770",
   "metadata": {},
   "source": [
    "\"MewTwo\", \"Latias\", \"Latios\", \"Kyogre\", \"Groudon\", \"Rayquaza\", \"Kyurem\" 등의 포켓몬은 비슷한 이름을 가진 포켓몬이 다수 존재합니다.\n"
   ]
  },
  {
   "cell_type": "code",
   "id": "846873fb",
   "metadata": {
    "ExecuteTime": {
     "end_time": "2024-05-27T06:46:12.063953Z",
     "start_time": "2024-05-27T06:46:12.055684Z"
    }
   },
   "source": [
    "legendary[\"name_count\"] = legendary[\"Name\"].apply(lambda i: len(i))    \n",
    "legendary.head()"
   ],
   "execution_count": 36,
   "outputs": []
  },
  {
   "cell_type": "code",
   "id": "26c415d1",
   "metadata": {
    "ExecuteTime": {
     "end_time": "2024-05-27T06:46:12.366349Z",
     "start_time": "2024-05-27T06:46:12.361490Z"
    }
   },
   "source": [
    "# Q. ordinary 포켓몬의 데이터에도 'name_count' 값을 추가해줍시다.\n",
    "ordinary[\"name_count\"] = ordinary[\"Name\"].apply(lambda i: len(i))    "
   ],
   "execution_count": 37,
   "outputs": []
  },
  {
   "cell_type": "markdown",
   "id": "7304b779",
   "metadata": {},
   "source": [
    "### name_count 컬럼은 어떤 특징을 갖게 될까요? 그래프로 확인해 봅니다."
   ]
  },
  {
   "cell_type": "code",
   "id": "4d6a457b",
   "metadata": {
    "ExecuteTime": {
     "end_time": "2024-05-27T06:46:13.084224Z",
     "start_time": "2024-05-27T06:46:12.666334Z"
    }
   },
   "source": [
    "plt.figure(figsize=(12, 10))   # 화면 해상도에 따라 그래프 크기를 조정해 주세요.\n",
    "\n",
    "plt.subplot(211)\n",
    "sns.countplot(data=legendary, x=\"name_count\").set_xlabel('')\n",
    "plt.title(\"Legendary\")\n",
    "plt.subplot(212)\n",
    "sns.countplot(data=ordinary, x=\"name_count\").set_xlabel('')\n",
    "plt.title(\"Ordinary\")\n",
    "plt.show()"
   ],
   "execution_count": 38,
   "outputs": []
  },
  {
   "cell_type": "markdown",
   "id": "ecae9360",
   "metadata": {},
   "source": [
    "위에서 볼 수 있듯이, 전설의 포켓몬은 16 이상의 긴 이름을 가진 포켓몬이 많은 반면, 일반 포켓몬은 10 이상의 길이를 가지는 이름의 빈도가 아주 낮습니다.\n",
    "\n",
    "전설의 포켓몬의 이름이 10 이상일 확률은 어느 정도일까요?\n"
   ]
  },
  {
   "cell_type": "code",
   "id": "a1436d48",
   "metadata": {
    "ExecuteTime": {
     "end_time": "2024-05-27T06:46:13.135696Z",
     "start_time": "2024-05-27T06:46:13.132773Z"
    }
   },
   "source": [
    "print(round(len(legendary[legendary[\"name_count\"] > 9]) / len(legendary) * 100, 2), \"%\")"
   ],
   "execution_count": 39,
   "outputs": []
  },
  {
   "cell_type": "code",
   "id": "185f21fa",
   "metadata": {
    "ExecuteTime": {
     "end_time": "2024-05-27T06:46:13.608Z",
     "start_time": "2024-05-27T06:46:13.605369Z"
    }
   },
   "source": [
    "# Q. 일반 포켓몬의 이름이 10글자 이상일 확률을 구해보세요.\n",
    "print(round(len(ordinary[ordinary[\"name_count\"] > 9]) / len(ordinary) * 100, 2), \"%\")"
   ],
   "execution_count": 40,
   "outputs": []
  },
  {
   "cell_type": "markdown",
   "id": "5d818da7",
   "metadata": {},
   "source": [
    "전설의 포켓몬의 이름이 10 이상일 확률은 41% 를 넘는 반면에, 일반 포켓몬의 이름이 10 이상일 확률은 약 16% 밖에 안됨을 확인할 수 있습니다!\n",
    "이는 아주 큰 차이이므로 legendary인지 아닌지를 구분하는 데에 큰 의미가 있습니다.\n",
    "\n",
    "위의 두 가지, 이름에 대한 분석은 중요한 시사점을 가집니다.\n",
    "\n",
    "만약 \"Latios\"가 전설의 포켓몬이라면, \"%%% Latios\" 또한 전설의 포켓몬이다!\n",
    "적어도 전설의 포켓몬에서 높은 빈도를 보이는 이름들의 모임이 존재한다!\n",
    "전설의 포켓몬은 긴 이름을 가졌을 확률이 높다!`"
   ]
  },
  {
   "cell_type": "markdown",
   "id": "fd0368e1",
   "metadata": {},
   "source": [
    "1. 이름의 길이 : name_count 컬럼을 생성 후 길이가 10을 넘는지 아닌지에 대한 categorical 컬럼을 생성\n",
    "\n",
    "2. 토큰 추출 : legendary 포켓몬에서 많이 등장하는 토큰을 추려내고 토큰 포함 여부를 원-핫 인코딩(One-Hot Encoding)으로 처리"
   ]
  },
  {
   "cell_type": "markdown",
   "id": "4f8788c0",
   "metadata": {},
   "source": [
    "(1) 이름의 길이가 10 이상인가 아닌가\n",
    "이름의 길이를 확인할 수 있는 name_count 컬럼을 생성합니다. 아까 생성한 방법과 같지만, 이번엔 전체 데이터가 있는 pokemon 데이터 프레임에 생성합니다."
   ]
  },
  {
   "cell_type": "code",
   "id": "b7b2a89e",
   "metadata": {
    "ExecuteTime": {
     "end_time": "2024-05-27T06:46:13.974019Z",
     "start_time": "2024-05-27T06:46:13.967251Z"
    }
   },
   "source": [
    "pokemon[\"name_count\"] = pokemon[\"Name\"].apply(lambda i: len(i))\n",
    "pokemon.head()"
   ],
   "execution_count": 41,
   "outputs": []
  },
  {
   "cell_type": "code",
   "id": "33b4ea9e",
   "metadata": {
    "ExecuteTime": {
     "end_time": "2024-05-27T06:46:14.426404Z",
     "start_time": "2024-05-27T06:46:14.419459Z"
    }
   },
   "source": [
    "pokemon[\"long_name\"] = pokemon[\"name_count\"] >= 10\n",
    "pokemon.head()"
   ],
   "execution_count": 42,
   "outputs": []
  },
  {
   "cell_type": "markdown",
   "id": "f07057bf",
   "metadata": {},
   "source": [
    "다음으로 할 일은 전설의 포켓몬 이름에 가장 많이 쓰이는 토큰을 알아보고 이에 대한 새로운 컬럼을 만드는 것입니다.\n",
    "이름에 어떤 토큰이 있으면 전설의 포켓몬일 확률이 높을지를 찾아보는 것이죠.\n",
    "\n",
    "토큰을 추출하기에 앞서, 포켓몬의 이름에 대해 먼저 알아보겠습니다.\n",
    "포켓몬의 이름은 총 네 가지 타입으로 나뉩니다.\n",
    "\n",
    "한 단어면 ex. Venusaur\n",
    "두 단어이고, 앞 단어는 두 개의 대문자를 가지며 대문자를 기준으로 두 부분으로 나뉘는 경우 ex. VenusaurMega Venusaur\n",
    "이름은 두 단어이고, 맨 뒤에 X, Y로 성별을 표시하는 경우 ex. CharizardMega Charizard X\n",
    "알파벳이 아닌 문자를 포함하는 경우 ex. Zygarde50% Forme\n",
    "이름에 알파벳이 아닌 문자가 들어간 경우 전처리하기\n",
    "이 중 가장 먼저 '알파벳이 아닌 문자'를 포함하는 경우를 처리하도록 하겠습니다.\n",
    "어떤 문자열이 알파벳으로만 이루어져 있는지를 확인하고 싶을 때는 isalpha() 함수를 사용하면 편리합니다.\n",
    "\n",
    "pandas의 isalpha() 함수\n",
    "우리는 알파벳이 아닌 문자를 포함하는 이름을 걸러내고 싶은데, 주의할 점은 이름에 띄어쓰기가 있는 경우에도 isalpha() = False로 처리된다는 점입니다.\n",
    "따라서 알파벳 체크를 위해 띄어쓰기가 없는 컬럼을 따로 만들어준 후, 띄어쓰기를 빈칸으로 처리해서 확인하도록 하겠습니다."
   ]
  },
  {
   "cell_type": "code",
   "id": "1c8da1d6",
   "metadata": {
    "ExecuteTime": {
     "end_time": "2024-05-27T06:46:14.670724Z",
     "start_time": "2024-05-27T06:46:14.664500Z"
    }
   },
   "source": [
    "pokemon[\"Name_nospace\"] = pokemon[\"Name\"].apply(lambda i: i.replace(\" \", \"\"))\n",
    "pokemon.tail()"
   ],
   "execution_count": 43,
   "outputs": []
  },
  {
   "cell_type": "code",
   "id": "d741bea8",
   "metadata": {
    "ExecuteTime": {
     "end_time": "2024-05-27T06:46:15.097460Z",
     "start_time": "2024-05-27T06:46:15.090131Z"
    }
   },
   "source": [
    "pokemon[\"name_isalpha\"] = pokemon[\"Name_nospace\"].apply(lambda i: i.isalpha())\n",
    "pokemon.head()"
   ],
   "execution_count": 44,
   "outputs": []
  },
  {
   "cell_type": "code",
   "id": "631d5323",
   "metadata": {
    "ExecuteTime": {
     "end_time": "2024-05-27T06:46:15.537485Z",
     "start_time": "2024-05-27T06:46:15.529698Z"
    }
   },
   "source": [
    "print(pokemon[pokemon[\"name_isalpha\"] == False].shape)\n",
    "pokemon[pokemon[\"name_isalpha\"] == False]"
   ],
   "execution_count": 45,
   "outputs": []
  },
  {
   "cell_type": "code",
   "id": "ab687488",
   "metadata": {
    "ExecuteTime": {
     "end_time": "2024-05-27T06:46:16.199252Z",
     "start_time": "2024-05-27T06:46:16.186397Z"
    }
   },
   "source": [
    "pokemon = pokemon.replace(to_replace=\"Nidoran♀\", value=\"Nidoran X\")\n",
    "pokemon = pokemon.replace(to_replace=\"Nidoran♂\", value=\"Nidoran Y\")\n",
    "pokemon = pokemon.replace(to_replace=\"Farfetch'd\", value=\"Farfetchd\")\n",
    "pokemon = pokemon.replace(to_replace=\"Mr. Mime\", value=\"Mr Mime\")\n",
    "pokemon = pokemon.replace(to_replace=\"Porygon2\", value=\"Porygon Two\")\n",
    "pokemon = pokemon.replace(to_replace=\"Ho-oh\", value=\"Ho Oh\")\n",
    "pokemon = pokemon.replace(to_replace=\"Mime Jr.\", value=\"Mime Jr\")\n",
    "pokemon = pokemon.replace(to_replace=\"Porygon-Z\", value=\"Porygon Z\")\n",
    "pokemon = pokemon.replace(to_replace=\"Zygarde50% Forme\", value=\"Zygarde Forme\")\n",
    "\n",
    "pokemon.loc[[34, 37, 90, 131, 252, 270, 487, 525, 794]]"
   ],
   "execution_count": 46,
   "outputs": []
  },
  {
   "cell_type": "code",
   "id": "3aadabd4",
   "metadata": {
    "ExecuteTime": {
     "end_time": "2024-05-27T06:46:16.929799Z",
     "start_time": "2024-05-27T06:46:16.921531Z"
    }
   },
   "source": [
    "# Q. 바꿔준 'Name' 컬럼으로 'Name_nospace'를 만들고, 다시 isalpha()로 체크해봅시다.\n",
    "pokemon[\"Name_nospace\"] = pokemon[\"Name\"].apply(lambda i: i.replace(\" \", \"\"))\n",
    "pokemon[\"name_isalpha\"] = pokemon[\"Name_nospace\"].apply(lambda i: i.isalpha())\n",
    "pokemon[pokemon[\"name_isalpha\"] == False]"
   ],
   "execution_count": 47,
   "outputs": []
  },
  {
   "cell_type": "markdown",
   "id": "7e9ff004",
   "metadata": {},
   "source": [
    "### 이름을 띄어쓰기 & 대문자 기준으로 분리해 토큰화하기\n",
    "그러면 이제 모든 이름은 세 가지 타입으로 나뉘므로 토큰화(tokenizing)할 수 있습니다.\n",
    "이름에 있는 토큰을 추출하기 위해 이름을 토큰화 (모든 토큰으로 분리) 할 수 있는 함수를 생성해 주겠습니다.\n",
    "\n",
    "문자열을 처리할 때는 주로 정규표현식(RegEx: Regular Expression) 이라는 기법이 사용됩니다.\n",
    "정규표현식이란 문자열을 처리하는 방법의 하나로, 특정한 조건을 만족하는 문자를 검색하거나 치환하는 등의 작업을 하고 싶을 때 간편하게 처리할 수 있게 해주는 도구입니다.\n",
    "\n",
    "정규표현식은 문자열을 다룰 때 아주 유용한 도구지만, 사실 깊게 들어가면 아주 복잡하고 어렵습니다.\n",
    "따라서 오늘은 맛보기와 같은 형태로 코드를 받아들이면서 진행해 보겠습니다.\n",
    "\n",
    "파이썬은 정규표현식을 re라는 패키지에서 지원합니다. 다음 페이지에서 re에 대해 간단히 살펴보고 올까요?"
   ]
  },
  {
   "cell_type": "code",
   "id": "ccf7a69f",
   "metadata": {
    "ExecuteTime": {
     "end_time": "2024-05-27T06:46:17.398629Z",
     "start_time": "2024-05-27T06:46:17.392269Z"
    }
   },
   "source": [
    "import re"
   ],
   "execution_count": 48,
   "outputs": []
  },
  {
   "cell_type": "code",
   "id": "2ec94889",
   "metadata": {
    "ExecuteTime": {
     "end_time": "2024-05-27T06:46:17.720513Z",
     "start_time": "2024-05-27T06:46:17.718191Z"
    }
   },
   "source": [
    "name = \"CharizardMega Charizard X\""
   ],
   "execution_count": 49,
   "outputs": []
  },
  {
   "cell_type": "code",
   "id": "e49a09a2",
   "metadata": {
    "ExecuteTime": {
     "end_time": "2024-05-27T06:46:17.903876Z",
     "start_time": "2024-05-27T06:46:17.900633Z"
    }
   },
   "source": [
    "name_split = name.split(\" \")\n",
    "name_split"
   ],
   "execution_count": 50,
   "outputs": []
  },
  {
   "cell_type": "markdown",
   "id": "903c7329",
   "metadata": {},
   "source": [
    "네, 공백을 기준으로 이름을 쪼개는 것은 간단합니다.\n",
    "\n",
    "하지만 여기서 한 가지 더 해야 하는 일은 맨 처음 요소인 CharizardMega 를 Charizard와 Mega로 나누는 것입니다.\n",
    "그러기 위해서는 대문자를 기준으로 분리를 하면 될 것 같습니다.\n",
    "\n",
    "name_split 리스트 안에 있는 첫 번째 요소를 쪼개고 싶으므로 temp에 저장하겠습니다."
   ]
  },
  {
   "cell_type": "code",
   "id": "5adbc159",
   "metadata": {
    "ExecuteTime": {
     "end_time": "2024-05-27T06:46:18.130079Z",
     "start_time": "2024-05-27T06:46:18.126236Z"
    }
   },
   "source": [
    "temp = name_split[0]\n",
    "temp"
   ],
   "execution_count": 51,
   "outputs": []
  },
  {
   "cell_type": "code",
   "id": "f344171a",
   "metadata": {
    "ExecuteTime": {
     "end_time": "2024-05-27T06:46:18.499018Z",
     "start_time": "2024-05-27T06:46:18.496046Z"
    }
   },
   "source": [
    "tokens = re.findall('[A-Z][a-z]*', temp)\n",
    "tokens"
   ],
   "execution_count": 52,
   "outputs": []
  },
  {
   "cell_type": "markdown",
   "id": "b7984e51",
   "metadata": {},
   "source": [
    "성공적으로 잘렸군요!\n",
    "여기서 [A-Z][a-z]* 라는 이상한 패턴이 쓰였습니다! 이것이 바로 정규표현식입니다.\n",
    "\n",
    "세부 의미는 다음과 같습니다.\n",
    "\n",
    "- `[A-Z]` : A부터 Z까지의 대문자 중 한 가지로 시작하고,\n",
    "- `[a-z]` : 그 뒤에 a부터 z까지의 소문자 중 한 가지가 붙는데,\n",
    "- `*` : 그 소문자의 개수는 하나 이상인 패턴 (`*`는 정규표현식 중에서 \"반복\"을 나타내는 기호)\n",
    "따라서 첫 글자가 대문자인 단어들을 분리하는 데에 효과적인 거죠.\n",
    "\n",
    "지금까지 한 과정을 반복문으로 합치면 한 개의 이름을 이루고 있는 모든 토큰을 tokens에 모아둘 수 있습니다."
   ]
  },
  {
   "cell_type": "code",
   "id": "e90d8370",
   "metadata": {
    "ExecuteTime": {
     "end_time": "2024-05-27T06:46:18.870408Z",
     "start_time": "2024-05-27T06:46:18.863694Z"
    }
   },
   "source": [
    "tokens = []\n",
    "for part_name in name_split:\n",
    "    a = re.findall('[A-Z][a-z]*', part_name)\n",
    "    tokens.extend(a)\n",
    "tokens"
   ],
   "execution_count": 53,
   "outputs": []
  },
  {
   "cell_type": "code",
   "id": "e608bfd7",
   "metadata": {
    "ExecuteTime": {
     "end_time": "2024-05-27T06:46:19.224003Z",
     "start_time": "2024-05-27T06:46:19.220905Z"
    }
   },
   "source": [
    "# Q. 다음 코드의 빈칸을 채워주세요.\n",
    "def tokenize(name):\n",
    "    name_split = name.split(\" \")\n",
    "    tokens = []\n",
    "    for part_name in name_split:\n",
    "        a = re.findall('[A-Z][a-z]*', part_name)\n",
    "        tokens.extend(a)\n",
    "    return np.array(tokens)"
   ],
   "execution_count": 54,
   "outputs": []
  },
  {
   "cell_type": "code",
   "id": "f56f552d",
   "metadata": {
    "ExecuteTime": {
     "end_time": "2024-05-27T06:46:19.613004Z",
     "start_time": "2024-05-27T06:46:19.609932Z"
    }
   },
   "source": [
    "name = \"CharizardMega Charizard X\"\n",
    "tokenize(name)"
   ],
   "execution_count": 55,
   "outputs": []
  },
  {
   "cell_type": "code",
   "id": "17e97f0a",
   "metadata": {
    "ExecuteTime": {
     "end_time": "2024-05-27T06:46:19.794608Z",
     "start_time": "2024-05-27T06:46:19.788380Z"
    }
   },
   "source": [
    "all_tokens = list(legendary[\"Name\"].apply(tokenize).values)\n",
    "\n",
    "token_set = []\n",
    "for token in all_tokens:\n",
    "    token_set.extend(token)\n",
    "\n",
    "print(len(set(token_set)))\n",
    "print(token_set)"
   ],
   "execution_count": 56,
   "outputs": []
  },
  {
   "cell_type": "markdown",
   "id": "134fe493",
   "metadata": {},
   "source": [
    "중복된 것을 제외하면 총 65개의 토큰이 있군요. 여기서 많이 사용된 토큰을 추출해 보겠습니다.\n",
    "\n",
    "list 또는 set의 자료형에서 각 요소의 개수를 다루고 싶을 때에는 파이썬의 collection이라는 패키지를 사용하면 편리합니다.\n",
    "collection은 순서가 있는 딕셔너리인 OrderedDict, 요소의 개수를 카운트하는 Counter 등 여러 다양한 모듈을 제공합니다.\n",
    "\n",
    "이 중 우리는 토큰이 사용된 개수를 알고 싶기 때문에 Counter 객체를 사용할 것입니다.\n",
    "다음에서 Counter에 관한 간단한 설명을 읽어보시죠.\n",
    "\n"
   ]
  },
  {
   "cell_type": "markdown",
   "id": "bd874ce6",
   "metadata": {},
   "source": [
    "Q. my_list = ['a', 'd', 'c', 'a', 'b']라는 리스트를 가지고 있을 경우, my_counter = collections.Counter(my_list)로 Counter 객체를 생성하면 my_counter에는 어떤 결과가 담기나요?"
   ]
  },
  {
   "cell_type": "code",
   "id": "36ad8f41",
   "metadata": {
    "ExecuteTime": {
     "end_time": "2024-05-27T06:46:20.040374Z",
     "start_time": "2024-05-27T06:46:20.036855Z"
    }
   },
   "source": [
    "import collections\n",
    "\n",
    "my_list = ['a', 'd', 'c', 'a', 'b']\n",
    "my_counter = collections.Counter(my_list)\n",
    "my_counter"
   ],
   "execution_count": 57,
   "outputs": []
  },
  {
   "cell_type": "code",
   "id": "84368df7",
   "metadata": {
    "ExecuteTime": {
     "end_time": "2024-05-27T06:46:20.405973Z",
     "start_time": "2024-05-27T06:46:20.403761Z"
    }
   },
   "source": [
    "from collections import Counter"
   ],
   "execution_count": 58,
   "outputs": []
  },
  {
   "cell_type": "code",
   "id": "e204430c",
   "metadata": {
    "ExecuteTime": {
     "end_time": "2024-05-27T06:46:20.843439Z",
     "start_time": "2024-05-27T06:46:20.835781Z"
    }
   },
   "source": [
    "a = [1, 1, 0, 0, 0, 1, 1, 2, 3]\n",
    "Counter(a)"
   ],
   "execution_count": 59,
   "outputs": []
  },
  {
   "cell_type": "code",
   "id": "63d3550a",
   "metadata": {
    "ExecuteTime": {
     "end_time": "2024-05-27T06:46:21.175753Z",
     "start_time": "2024-05-27T06:46:21.170967Z"
    }
   },
   "source": [
    "Counter(a).most_common()"
   ],
   "execution_count": 60,
   "outputs": []
  },
  {
   "cell_type": "code",
   "id": "4a53f6ac",
   "metadata": {
    "ExecuteTime": {
     "end_time": "2024-05-27T06:46:21.790280Z",
     "start_time": "2024-05-27T06:46:21.778343Z"
    }
   },
   "source": [
    "most_common = Counter(token_set).most_common(10)\n",
    "most_common"
   ],
   "execution_count": 61,
   "outputs": []
  },
  {
   "cell_type": "markdown",
   "id": "76402047",
   "metadata": {},
   "source": [
    "전설의 포켓몬 이름에는 Forme가 15번이나 쓰였고, 진화를 했을 때 붙는 이름인 Mega도 6번 쓰였군요!\n",
    "전체 65마리밖에 되지 않는 전설의 포켓몬에서 저 정도의 횟수라면 꽤나 많이 쓰였다고 볼 수 있겠습니다.\n",
    "\n",
    "이제 마지막으로 이렇게 전설의 포켓몬 이름에 등장하는 토큰이 포켓몬의 이름에 있는지의 여부를 나타내는 컬럼을 만들겠습니다.\n",
    "Pandas에서 문자열 데이터셋에 특정 구문이 포함되어 있는지 여부는 str.contains 함수로 간단히 확인할 수 있습니다."
   ]
  },
  {
   "cell_type": "code",
   "id": "198fbd72",
   "metadata": {
    "ExecuteTime": {
     "end_time": "2024-05-27T06:46:22.165419Z",
     "start_time": "2024-05-27T06:46:22.151602Z"
    }
   },
   "source": [
    "for token, _ in most_common:\n",
    "    # pokemon[token] = ... 형식으로 사용하면 뒤에서 warning이 발생합니다\n",
    "    pokemon[f\"{token}\"] = pokemon[\"Name\"].str.contains(token)\n",
    "\n",
    "pokemon.head(10)"
   ],
   "execution_count": 62,
   "outputs": []
  },
  {
   "cell_type": "markdown",
   "id": "9b5bc470",
   "metadata": {},
   "source": [
    "이름에 맞게 True 또는 False가 처리된 것을 확인할 수 있습니다.\n",
    "이제 전설의 포켓몬이 많이 가지는 Forme와 같은 토큰의 컬럼 값이 True라면 그 포켓몬은 전설의 포켓몬일 확률이 높다고 판단할 수 있겠군요!\n",
    "\n",
    "여기까지 문자열로 구성된 이름을 전처리를 통해 True, False의 부울 데이터로 변환시켜 보았습니다.\n",
    "머신러닝 모델 학습에서 문자열 데이터는 소중한 정보를 가지고 있지만, 문자열 그대로 학습에 사용할 수는 없습니다. 이렇게 적절한 방법을 통해서 문자열 데이터를 숫자나 부울 데이터로 변환해서 정보를 넣어주면 모델의 성능을 올리는 데에 도움을 줄 수 있습니다.\n"
   ]
  },
  {
   "cell_type": "code",
   "id": "2b805726",
   "metadata": {
    "ExecuteTime": {
     "end_time": "2024-05-27T06:46:22.490946Z",
     "start_time": "2024-05-27T06:46:22.487657Z"
    }
   },
   "source": [
    "print(types)"
   ],
   "execution_count": 63,
   "outputs": []
  },
  {
   "cell_type": "code",
   "id": "87848378",
   "metadata": {
    "ExecuteTime": {
     "end_time": "2024-05-27T06:46:22.687562Z",
     "start_time": "2024-05-27T06:46:22.668011Z"
    }
   },
   "source": [
    "for t in types:\n",
    "    pokemon[t] = (pokemon[\"Type 1\"] == t) | (pokemon[\"Type 2\"] == t)\n",
    "    \n",
    "pokemon[[[\"Type 1\", \"Type 2\"] + types][0]].head()"
   ],
   "execution_count": 64,
   "outputs": []
  },
  {
   "cell_type": "code",
   "id": "116da19d",
   "metadata": {
    "ExecuteTime": {
     "end_time": "2024-05-27T06:46:22.852119Z",
     "start_time": "2024-05-27T06:46:22.845371Z"
    }
   },
   "source": [
    "print(original_data.shape)\n",
    "original_data.head()"
   ],
   "execution_count": 65,
   "outputs": []
  },
  {
   "cell_type": "code",
   "id": "ae82bb0e",
   "metadata": {
    "ExecuteTime": {
     "end_time": "2024-05-27T06:46:23.108055Z",
     "start_time": "2024-05-27T06:46:23.103577Z"
    }
   },
   "source": [
    "original_data.columns"
   ],
   "execution_count": 66,
   "outputs": []
  },
  {
   "cell_type": "code",
   "id": "5a765d82",
   "metadata": {
    "ExecuteTime": {
     "end_time": "2024-05-27T06:46:23.446024Z",
     "start_time": "2024-05-27T06:46:23.444033Z"
    }
   },
   "source": [
    "features = ['Total', 'HP', 'Attack', 'Defense', 'Sp. Atk', 'Sp. Def', 'Speed', 'Generation']"
   ],
   "execution_count": 67,
   "outputs": []
  },
  {
   "cell_type": "code",
   "id": "4c2d7c7b",
   "metadata": {
    "ExecuteTime": {
     "end_time": "2024-05-27T06:46:23.672696Z",
     "start_time": "2024-05-27T06:46:23.670580Z"
    }
   },
   "source": [
    "target = 'Legendary'"
   ],
   "execution_count": 68,
   "outputs": []
  },
  {
   "cell_type": "code",
   "id": "6fee065b",
   "metadata": {
    "ExecuteTime": {
     "end_time": "2024-05-27T06:46:24.068596Z",
     "start_time": "2024-05-27T06:46:24.063576Z"
    }
   },
   "source": [
    "# Q. 'original_data'에서 'features' 컬럼에 해당하는 데이터를 변수 'X'에 저장합니다.\n",
    "X = original_data[features]\n",
    "print(X.shape)\n",
    "X.head()"
   ],
   "execution_count": 69,
   "outputs": []
  },
  {
   "cell_type": "code",
   "id": "dd8caf28",
   "metadata": {
    "ExecuteTime": {
     "end_time": "2024-05-27T06:46:24.653908Z",
     "start_time": "2024-05-27T06:46:24.650363Z"
    }
   },
   "source": [
    "# Q. 'target' 컬럼의 데이터를 변수 'y'에 저장합니다.\n",
    "y = original_data[target]\n",
    "print(y.shape)\n",
    "y.head()"
   ],
   "execution_count": 70,
   "outputs": []
  },
  {
   "cell_type": "code",
   "id": "0bd87556",
   "metadata": {
    "ExecuteTime": {
     "end_time": "2024-05-27T06:46:25.322133Z",
     "start_time": "2024-05-27T06:46:25.103969Z"
    }
   },
   "source": [
    "from sklearn.model_selection import train_test_split\n",
    "\n",
    "X_train, X_test, y_train, y_test = train_test_split(X, y, test_size=0.2, random_state=15)\n",
    "\n",
    "print(X_train.shape, y_train.shape)\n",
    "print(X_test.shape, y_test.shape)"
   ],
   "execution_count": 71,
   "outputs": []
  },
  {
   "cell_type": "code",
   "id": "ba9e5be8",
   "metadata": {
    "ExecuteTime": {
     "end_time": "2024-05-27T06:46:25.728421Z",
     "start_time": "2024-05-27T06:46:25.353437Z"
    }
   },
   "source": [
    "from sklearn.tree import DecisionTreeClassifier\n",
    "print('슝=3')"
   ],
   "execution_count": 72,
   "outputs": []
  },
  {
   "cell_type": "code",
   "id": "4fa453d6",
   "metadata": {
    "ExecuteTime": {
     "end_time": "2024-05-27T06:46:25.739363Z",
     "start_time": "2024-05-27T06:46:25.730314Z"
    }
   },
   "source": [
    "model = DecisionTreeClassifier(random_state=25)\n",
    "model"
   ],
   "execution_count": 73,
   "outputs": []
  },
  {
   "cell_type": "code",
   "id": "3482e2ad",
   "metadata": {
    "ExecuteTime": {
     "end_time": "2024-05-27T06:46:25.999643Z",
     "start_time": "2024-05-27T06:46:25.986168Z"
    }
   },
   "source": [
    "model.fit(X_train, y_train)\n",
    "y_pred = model.predict(X_test)\n",
    "print('슝=3')"
   ],
   "execution_count": 74,
   "outputs": []
  },
  {
   "cell_type": "code",
   "id": "e968019a",
   "metadata": {
    "ExecuteTime": {
     "end_time": "2024-05-27T06:46:26.105204Z",
     "start_time": "2024-05-27T06:46:26.097906Z"
    }
   },
   "source": [
    "from sklearn.metrics import confusion_matrix\n",
    "confusion_matrix(y_test, y_pred)"
   ],
   "execution_count": 75,
   "outputs": []
  },
  {
   "cell_type": "code",
   "id": "d2b7ed94",
   "metadata": {
    "ExecuteTime": {
     "end_time": "2024-05-27T06:46:26.379789Z",
     "start_time": "2024-05-27T06:46:26.372046Z"
    }
   },
   "source": [
    "len(legendary)"
   ],
   "execution_count": 76,
   "outputs": []
  },
  {
   "cell_type": "code",
   "id": "ae0a740c",
   "metadata": {
    "ExecuteTime": {
     "end_time": "2024-05-27T06:46:26.522438Z",
     "start_time": "2024-05-27T06:46:26.514005Z"
    }
   },
   "source": [
    "from sklearn.metrics import classification_report\n",
    "print(classification_report(y_test, y_pred))"
   ],
   "execution_count": 77,
   "outputs": []
  },
  {
   "cell_type": "markdown",
   "id": "107847b3",
   "metadata": {},
   "source": [
    "즉, Recall이 낮다는 것은 분모에 있는 FN값이 높다는 것을 뜻합니다. 즉, 전설의 포켓몬인데 일반 포켓몬이라고 판단하는 경우가 많은 거죠.\n",
    "\n",
    "이번 데이터와 같은 불균형 데이터에서는 무엇보다 적은 양의 데이터인 Positive를 잘 잡아내는 것이 중요합니다. 즉, 전설의 포켓몬을 잘 잡아내는 것이 중요하죠.\n",
    "학습이 덜 되었다면 전설의 포켓몬을 그냥 일반 포켓몬으로 치고 넘어갈 테고, 잘 될수록 집요하게 적은 전설의 포켓몬을 잡아낼 테니까요!\n",
    "\n",
    "그렇다면 우리가 전처리했던 데이터들을 추가하면 성능이 얼마나 올라갈지, 한번 확인해 보러 갑시다!"
   ]
  },
  {
   "cell_type": "code",
   "id": "b137e1d8",
   "metadata": {
    "ExecuteTime": {
     "end_time": "2024-05-27T06:46:26.757695Z",
     "start_time": "2024-05-27T06:46:26.752362Z"
    }
   },
   "source": [
    "print(len(pokemon.columns))\n",
    "print(pokemon.columns)"
   ],
   "execution_count": 78,
   "outputs": []
  },
  {
   "cell_type": "markdown",
   "id": "70c31a20",
   "metadata": {},
   "source": [
    "## Q. 위 컬럼들 중 제외해야 할 컬럼들은 무엇일까요? (힌트: 머신러닝 모델에는 문자열을 입력할 수 없습니다.)\n",
    "- \"#\" : ID에 해당하는 데이터로, index의 의미 외에 특별한 의미가 담긴 특징이 아니기 때문에 제외합니다.\n",
    "- \"Name\" : 문자열 데이터로, 전처리를 통해 \"name_count\"와 \"long_name\", 그리고 15개의 토큰 컬럼으로 대체되었습니다.\n",
    "- \"name_nospace\", \"name_isalpha\" : 전처리를 위해 필요했던 컬럼으로 분류 분석에는 필요하지 않습니다.\n",
    "- \"Type 1\" & \"Type 2\" : 속성은 원-핫 인코딩으로 처리했기 때문에 더 이상 필요가 없습니다.\n",
    "- \"Legendary\" : 이 컬럼은 target 데이터이므로 모델이 학습하는 \"X\" 데이터에는 넣지 않고, \"y\" 데이터로 사용합니다."
   ]
  },
  {
   "cell_type": "markdown",
   "id": "e22bea66",
   "metadata": {},
   "source": [
    "몇 가지 컬럼을 제외하고 모델 학습에 사용할 컬럼들만 추려서 features라는 변수에 저장하겠습니다.\n",
    "이 features는 모델을 학습시키면서 입력값으로 사용될 특징들을 포함합니다."
   ]
  },
  {
   "cell_type": "code",
   "id": "2818bac0",
   "metadata": {
    "ExecuteTime": {
     "end_time": "2024-05-27T06:46:26.855375Z",
     "start_time": "2024-05-27T06:46:26.850138Z"
    }
   },
   "source": [
    "features = ['Total', 'HP', 'Attack', 'Defense','Sp. Atk', 'Sp. Def', 'Speed', 'Generation', \n",
    "            'name_count','long_name', 'Forme', 'Mega', 'Mewtwo','Deoxys', 'Kyurem', 'Latias', 'Latios',\n",
    "            'Kyogre', 'Groudon', 'Hoopa','Poison', 'Ground', 'Flying', 'Normal', 'Water', 'Fire',\n",
    "            'Electric','Rock', 'Dark', 'Fairy', 'Steel', 'Ghost', 'Psychic', 'Ice', 'Bug', 'Grass', 'Dragon', 'Fighting']\n",
    "\n",
    "len(features)"
   ],
   "execution_count": 79,
   "outputs": []
  },
  {
   "cell_type": "code",
   "id": "3360b2f4",
   "metadata": {
    "ExecuteTime": {
     "end_time": "2024-05-27T06:46:27.002227Z",
     "start_time": "2024-05-27T06:46:26.999077Z"
    }
   },
   "source": [
    "set(pokemon.columns) - set(features)"
   ],
   "execution_count": 80,
   "outputs": []
  },
  {
   "cell_type": "code",
   "id": "f6a6cd80",
   "metadata": {
    "ExecuteTime": {
     "end_time": "2024-05-27T06:46:27.202651Z",
     "start_time": "2024-05-27T06:46:27.199168Z"
    }
   },
   "source": [
    "target = \"Legendary\"\n",
    "target"
   ],
   "execution_count": 81,
   "outputs": []
  },
  {
   "cell_type": "code",
   "id": "94dc90f7",
   "metadata": {
    "ExecuteTime": {
     "end_time": "2024-05-27T06:46:27.482695Z",
     "start_time": "2024-05-27T06:46:27.463272Z"
    }
   },
   "source": [
    "# Q. 사용할 feature에 해당하는 데이터를 'X' 변수에 저장합니다.\n",
    "X = pokemon[features]\n",
    "print(X.shape)\n",
    "X.head()"
   ],
   "execution_count": 82,
   "outputs": []
  },
  {
   "cell_type": "code",
   "id": "84ec69f2",
   "metadata": {
    "ExecuteTime": {
     "end_time": "2024-05-27T06:46:27.730013Z",
     "start_time": "2024-05-27T06:46:27.723537Z"
    }
   },
   "source": [
    "# Q. 정답 데이터 'y'도 'target' 변수를 이용해 만들어줍시다.\n",
    "y = pokemon['Legendary']\n",
    "print(y.shape)\n",
    "y.head()"
   ],
   "execution_count": 83,
   "outputs": []
  },
  {
   "cell_type": "code",
   "id": "deb43849",
   "metadata": {
    "ExecuteTime": {
     "end_time": "2024-05-27T06:46:27.941129Z",
     "start_time": "2024-05-27T06:46:27.935969Z"
    }
   },
   "source": [
    "X_train, X_test, y_train, y_test = train_test_split(X, y, test_size=0.2, random_state=15)\n",
    "\n",
    "print(X_train.shape, y_train.shape)\n",
    "print(X_test.shape, y_test.shape)"
   ],
   "execution_count": 84,
   "outputs": []
  },
  {
   "cell_type": "code",
   "id": "e408085a",
   "metadata": {
    "ExecuteTime": {
     "end_time": "2024-05-27T06:46:28.090310Z",
     "start_time": "2024-05-27T06:46:28.073598Z"
    }
   },
   "source": [
    "model = DecisionTreeClassifier(random_state=25)\n",
    "model"
   ],
   "execution_count": 85,
   "outputs": []
  },
  {
   "cell_type": "code",
   "id": "b1dfd602",
   "metadata": {
    "ExecuteTime": {
     "end_time": "2024-05-27T06:46:28.179884Z",
     "start_time": "2024-05-27T06:46:28.167430Z"
    }
   },
   "source": [
    "# Q. train 데이터로 decision tree 모델을 학습시키고\n",
    "# test 데이터로 모델의 예측 값을 얻어봅시다!\n",
    "model.fit(X_train, y_train)\n",
    "y_pred = model.predict(X_test)"
   ],
   "execution_count": 86,
   "outputs": []
  },
  {
   "cell_type": "code",
   "id": "3038b097",
   "metadata": {
    "ExecuteTime": {
     "end_time": "2024-05-27T06:46:28.399428Z",
     "start_time": "2024-05-27T06:46:28.395808Z"
    }
   },
   "source": [
    "# Q. confusion matrix를 확인해보세요.\n",
    "from sklearn.metrics import confusion_matrix\n",
    "confusion_matrix(y_test, y_pred)"
   ],
   "execution_count": 87,
   "outputs": []
  },
  {
   "cell_type": "code",
   "id": "91436c6d",
   "metadata": {
    "ExecuteTime": {
     "end_time": "2024-05-27T06:46:28.531363Z",
     "start_time": "2024-05-27T06:46:28.525347Z"
    }
   },
   "source": [
    "# Q. classification report도 확인해봅시다!\n",
    "from sklearn.metrics import classification_report\n",
    "print(classification_report(y_test, y_pred))"
   ],
   "execution_count": 88,
   "outputs": []
  },
  {
   "cell_type": "markdown",
   "id": "fd5b9218",
   "metadata": {},
   "source": [
    "## Total 변수 없애기"
   ]
  },
  {
   "cell_type": "code",
   "id": "cd7d7d31",
   "metadata": {
    "ExecuteTime": {
     "end_time": "2024-05-27T06:46:28.604034Z",
     "start_time": "2024-05-27T06:46:28.597963Z"
    }
   },
   "source": [
    "X_train, X_test, y_train, y_test = train_test_split(X.drop('Total', axis=1), y, test_size=0.2, random_state=15)\n",
    "\n",
    "print(X_train.shape, y_train.shape)\n",
    "print(X_test.shape, y_test.shape)"
   ],
   "execution_count": 89,
   "outputs": []
  },
  {
   "cell_type": "code",
   "id": "9d3e4f81",
   "metadata": {
    "scrolled": true,
    "ExecuteTime": {
     "end_time": "2024-05-27T06:46:28.759241Z",
     "start_time": "2024-05-27T06:46:28.755562Z"
    }
   },
   "source": [
    "model = DecisionTreeClassifier(random_state=25)\n",
    "model"
   ],
   "execution_count": 90,
   "outputs": []
  },
  {
   "cell_type": "code",
   "id": "7437a76e",
   "metadata": {
    "ExecuteTime": {
     "end_time": "2024-05-27T06:46:28.898113Z",
     "start_time": "2024-05-27T06:46:28.879816Z"
    }
   },
   "source": [
    "# Q. train 데이터로 decision tree 모델을 학습시키고\n",
    "# test 데이터로 모델의 예측 값을 얻어봅시다!\n",
    "model.fit(X_train, y_train)\n",
    "y_pred = model.predict(X_test)"
   ],
   "execution_count": 91,
   "outputs": []
  },
  {
   "cell_type": "code",
   "id": "0039b2eb",
   "metadata": {
    "ExecuteTime": {
     "end_time": "2024-05-27T06:46:29.055766Z",
     "start_time": "2024-05-27T06:46:29.047394Z"
    }
   },
   "source": [
    "# Q. confusion matrix를 확인해보세요.\n",
    "from sklearn.metrics import confusion_matrix\n",
    "confusion_matrix(y_test, y_pred)"
   ],
   "execution_count": 92,
   "outputs": []
  },
  {
   "cell_type": "code",
   "id": "d66ecf40",
   "metadata": {
    "ExecuteTime": {
     "end_time": "2024-05-27T06:46:29.170730Z",
     "start_time": "2024-05-27T06:46:29.160589Z"
    }
   },
   "source": [
    "# Q. classification report도 확인해봅시다!\n",
    "from sklearn.metrics import classification_report\n",
    "print(classification_report(y_test, y_pred))"
   ],
   "execution_count": 93,
   "outputs": []
  },
  {
   "cell_type": "code",
   "id": "372a8c66",
   "metadata": {
    "ExecuteTime": {
     "end_time": "2024-05-27T06:46:29.764885Z",
     "start_time": "2024-05-27T06:46:29.262653Z"
    }
   },
   "source": [
    "sns.heatmap(X.iloc[:,:9].corr().round(2), annot=True)"
   ],
   "execution_count": 94,
   "outputs": []
  },
  {
   "cell_type": "markdown",
   "id": "567b0a45",
   "metadata": {},
   "source": [
    "## 다른 피처 제거"
   ]
  },
  {
   "cell_type": "code",
   "id": "7e2cbbb3",
   "metadata": {
    "ExecuteTime": {
     "end_time": "2024-05-27T06:46:29.776892Z",
     "start_time": "2024-05-27T06:46:29.767191Z"
    }
   },
   "source": [
    "X_train, X_test, y_train, y_test = train_test_split(X.drop('Sp. Atk', axis=1), y, test_size=0.2, random_state=15)\n",
    "\n",
    "print(X_train.shape, y_train.shape)\n",
    "print(X_test.shape, y_test.shape)"
   ],
   "execution_count": 95,
   "outputs": []
  },
  {
   "cell_type": "code",
   "id": "dba6a297",
   "metadata": {
    "scrolled": true,
    "ExecuteTime": {
     "end_time": "2024-05-27T06:46:29.782631Z",
     "start_time": "2024-05-27T06:46:29.778602Z"
    }
   },
   "source": [
    "model = DecisionTreeClassifier(random_state=25)\n",
    "model"
   ],
   "execution_count": 96,
   "outputs": []
  },
  {
   "cell_type": "code",
   "id": "c28475af",
   "metadata": {
    "ExecuteTime": {
     "end_time": "2024-05-27T06:46:29.814169Z",
     "start_time": "2024-05-27T06:46:29.801856Z"
    }
   },
   "source": [
    "model.fit(X_train, y_train)\n",
    "y_pred = model.predict(X_test)\n",
    "\n",
    "from sklearn.metrics import confusion_matrix\n",
    "confusion_matrix(y_test, y_pred)"
   ],
   "execution_count": 97,
   "outputs": []
  },
  {
   "cell_type": "code",
   "id": "cf0de82e",
   "metadata": {
    "ExecuteTime": {
     "end_time": "2024-05-27T06:46:29.891687Z",
     "start_time": "2024-05-27T06:46:29.883924Z"
    }
   },
   "source": [
    "from sklearn.metrics import classification_report\n",
    "print(classification_report(y_test, y_pred))"
   ],
   "execution_count": 98,
   "outputs": []
  },
  {
   "cell_type": "markdown",
   "id": "8e050fd0",
   "metadata": {},
   "source": [
    "## Attack 제거"
   ]
  },
  {
   "cell_type": "code",
   "id": "64c73b83",
   "metadata": {
    "ExecuteTime": {
     "end_time": "2024-05-27T06:46:30.128768Z",
     "start_time": "2024-05-27T06:46:30.116406Z"
    }
   },
   "source": [
    "X_train, X_test, y_train, y_test = train_test_split(X.drop('Attack', axis=1), y, test_size=0.2, random_state=15)\n",
    "\n",
    "print(X_train.shape, y_train.shape)\n",
    "print(X_test.shape, y_test.shape)"
   ],
   "execution_count": 99,
   "outputs": []
  },
  {
   "cell_type": "code",
   "id": "7a1fe2d6",
   "metadata": {
    "scrolled": true,
    "ExecuteTime": {
     "end_time": "2024-05-27T06:46:30.209707Z",
     "start_time": "2024-05-27T06:46:30.202592Z"
    }
   },
   "source": [
    "model = DecisionTreeClassifier(random_state=25)\n",
    "model"
   ],
   "execution_count": 100,
   "outputs": []
  },
  {
   "cell_type": "code",
   "id": "aa3b4679",
   "metadata": {
    "ExecuteTime": {
     "end_time": "2024-05-27T06:46:30.344339Z",
     "start_time": "2024-05-27T06:46:30.332767Z"
    }
   },
   "source": [
    "model.fit(X_train, y_train)\n",
    "y_pred = model.predict(X_test)\n",
    "\n",
    "from sklearn.metrics import confusion_matrix\n",
    "confusion_matrix(y_test, y_pred)"
   ],
   "execution_count": 101,
   "outputs": []
  },
  {
   "cell_type": "code",
   "id": "0d245054",
   "metadata": {
    "ExecuteTime": {
     "end_time": "2024-05-27T06:46:30.421104Z",
     "start_time": "2024-05-27T06:46:30.412317Z"
    }
   },
   "source": [
    "from sklearn.metrics import classification_report\n",
    "print(classification_report(y_test, y_pred))"
   ],
   "execution_count": 102,
   "outputs": []
  },
  {
   "cell_type": "markdown",
   "id": "c99306af",
   "metadata": {},
   "source": [
    "## Feature importance 확인"
   ]
  },
  {
   "cell_type": "code",
   "id": "1d63c7fe",
   "metadata": {
    "ExecuteTime": {
     "end_time": "2024-05-27T06:46:30.575527Z",
     "start_time": "2024-05-27T06:46:30.570547Z"
    }
   },
   "source": [
    "X_train, X_test, y_train, y_test = train_test_split(X, y, test_size=0.2, random_state=15)\n",
    "\n",
    "print(X_train.shape, y_train.shape)\n",
    "print(X_test.shape, y_test.shape)"
   ],
   "execution_count": 103,
   "outputs": []
  },
  {
   "cell_type": "code",
   "id": "e0e4b40a",
   "metadata": {
    "scrolled": true,
    "ExecuteTime": {
     "end_time": "2024-05-27T06:46:30.642699Z",
     "start_time": "2024-05-27T06:46:30.639768Z"
    }
   },
   "source": [
    "model = DecisionTreeClassifier(random_state=25)\n",
    "model"
   ],
   "execution_count": 104,
   "outputs": []
  },
  {
   "cell_type": "code",
   "id": "5aa101c4",
   "metadata": {
    "ExecuteTime": {
     "end_time": "2024-05-27T06:46:30.765907Z",
     "start_time": "2024-05-27T06:46:30.756262Z"
    }
   },
   "source": [
    "model.fit(X_train, y_train)\n",
    "y_pred = model.predict(X_test)\n",
    "\n",
    "from sklearn.metrics import confusion_matrix\n",
    "confusion_matrix(y_test, y_pred)"
   ],
   "execution_count": 105,
   "outputs": []
  },
  {
   "cell_type": "code",
   "id": "49beeb91",
   "metadata": {
    "ExecuteTime": {
     "end_time": "2024-05-27T06:46:57.844955Z",
     "start_time": "2024-05-27T06:46:56.040954Z"
    }
   },
   "source": "!pip install graphviz",
   "execution_count": 110,
   "outputs": []
  },
  {
   "metadata": {
    "ExecuteTime": {
     "end_time": "2024-05-27T06:51:21.573654Z",
     "start_time": "2024-05-27T06:51:21.568918Z"
    }
   },
   "cell_type": "code",
   "source": "model.feature_names_in_",
   "id": "bd97c5d7b151b503",
   "execution_count": 119,
   "outputs": []
  },
  {
   "metadata": {
    "ExecuteTime": {
     "end_time": "2024-05-27T06:53:28.136877Z",
     "start_time": "2024-05-27T06:53:28.134328Z"
    }
   },
   "cell_type": "code",
   "source": [
    "importances = model.feature_importances_\n",
    "forest_importances = pd.DataFrame(importances, index=model.feature_names_in_, columns=['Importance'])"
   ],
   "id": "21cf5a6081aa9ef",
   "execution_count": 125,
   "outputs": []
  },
  {
   "metadata": {
    "ExecuteTime": {
     "end_time": "2024-05-27T06:56:58.116711Z",
     "start_time": "2024-05-27T06:56:58.113171Z"
    }
   },
   "cell_type": "code",
   "source": "forest_importances.sort_values('Importance', ascending=True, inplace=True)",
   "id": "e4cb374002d96b58",
   "execution_count": 138,
   "outputs": []
  },
  {
   "cell_type": "code",
   "id": "4dbc9cc4",
   "metadata": {
    "ExecuteTime": {
     "end_time": "2024-05-27T06:56:59.158994Z",
     "start_time": "2024-05-27T06:56:58.799932Z"
    }
   },
   "source": [
    "fig, ax = plt.subplots()\n",
    "forest_importances.plot(kind='barh', ax=ax)\n",
    "ax.set_title(\"Feature importances\")\n",
    "fig.tight_layout()"
   ],
   "execution_count": 139,
   "outputs": []
  },
  {
   "metadata": {
    "ExecuteTime": {
     "end_time": "2024-05-27T06:59:41.873746Z",
     "start_time": "2024-05-27T06:59:41.720459Z"
    }
   },
   "cell_type": "code",
   "source": [
    "from sklearn.inspection import permutation_importance\n",
    "\n",
    "def plot_permutation_importance(clf, X, y, ax):\n",
    "    result = permutation_importance(clf, X, y, n_repeats=10, random_state=42, n_jobs=2)\n",
    "    perm_sorted_idx = result.importances_mean.argsort()\n",
    "\n",
    "    ax.boxplot(\n",
    "        result.importances[perm_sorted_idx].T,\n",
    "        vert=False,\n",
    "        labels=X.columns[perm_sorted_idx],\n",
    "    )\n",
    "    ax.axvline(x=0, color=\"k\", linestyle=\"--\")\n",
    "    return ax"
   ],
   "id": "ef54e8931372648e",
   "execution_count": 140,
   "outputs": []
  },
  {
   "metadata": {
    "ExecuteTime": {
     "end_time": "2024-05-27T06:59:42.663473Z",
     "start_time": "2024-05-27T06:59:42.652978Z"
    }
   },
   "cell_type": "code",
   "source": [
    "clf = DecisionTreeClassifier(random_state=25)\n",
    "# clf = RandomForestClassifier(n_estimators=100, random_state=42)\n",
    "clf.fit(X_train, y_train)\n",
    "print(f\"Baseline accuracy on test data: {clf.score(X_test, y_test):.2}\")"
   ],
   "id": "8743eddc0d030372",
   "execution_count": 141,
   "outputs": []
  },
  {
   "metadata": {
    "ExecuteTime": {
     "end_time": "2024-05-27T07:00:02.560245Z",
     "start_time": "2024-05-27T06:59:59.544392Z"
    }
   },
   "cell_type": "code",
   "source": [
    "import matplotlib.pyplot as plt\n",
    "import numpy as np\n",
    "import pandas as pd\n",
    "\n",
    "mdi_importances = pd.Series(clf.feature_importances_, index=X_train.columns)\n",
    "tree_importance_sorted_idx = np.argsort(clf.feature_importances_)\n",
    "tree_indices = np.arange(0, len(clf.feature_importances_)) + 0.5\n",
    "\n",
    "fig, (ax1, ax2) = plt.subplots(1, 2, figsize=(12, 8))\n",
    "mdi_importances.sort_values().plot.barh(ax=ax1)\n",
    "ax1.set_xlabel(\"Gini importance\")\n",
    "plot_permutation_importance(clf, X_train, y_train, ax2)\n",
    "ax2.set_xlabel(\"Decrease in accuracy score\")\n",
    "fig.suptitle(\n",
    "    \"Impurity-based vs. permutation importances on multicollinear features (train set)\"\n",
    ")\n",
    "_ = fig.tight_layout()"
   ],
   "id": "c40b8ab11626f96b",
   "execution_count": 142,
   "outputs": []
  },
  {
   "metadata": {
    "ExecuteTime": {
     "end_time": "2024-05-27T07:00:43.005591Z",
     "start_time": "2024-05-27T07:00:41.757205Z"
    }
   },
   "cell_type": "code",
   "source": [
    "fig, ax = plt.subplots(figsize=(7, 6))\n",
    "plot_permutation_importance(clf, X_test, y_test, ax)\n",
    "ax.set_title(\"Permutation Importances on multicollinear features\\n(test set)\")\n",
    "ax.set_xlabel(\"Decrease in accuracy score\")\n",
    "_ = ax.figure.tight_layout()"
   ],
   "id": "b26fb29a2a89edff",
   "execution_count": 143,
   "outputs": []
  },
  {
   "metadata": {
    "ExecuteTime": {
     "end_time": "2024-05-27T07:06:46.661946Z",
     "start_time": "2024-05-27T07:06:46.648099Z"
    }
   },
   "cell_type": "code",
   "source": "(mdi_importances == 0).sum()",
   "id": "c7a6246e5fe310b9",
   "execution_count": 148,
   "outputs": []
  },
  {
   "metadata": {
    "ExecuteTime": {
     "end_time": "2024-05-27T07:08:45.752793Z",
     "start_time": "2024-05-27T07:08:44.564155Z"
    }
   },
   "cell_type": "code",
   "source": "ㅊ",
   "id": "a7ca05eefb3e68bc",
   "execution_count": 149,
   "outputs": []
  },
  {
   "metadata": {
    "ExecuteTime": {
     "end_time": "2024-05-27T07:09:45.659188Z",
     "start_time": "2024-05-27T07:09:45.627854Z"
    }
   },
   "cell_type": "code",
   "source": [
    "from collections import defaultdict\n",
    "\n",
    "cluster_ids = hierarchy.fcluster(dist_linkage, 1, criterion=\"distance\")\n",
    "cluster_id_to_feature_ids = defaultdict(list)\n",
    "for idx, cluster_id in enumerate(cluster_ids):\n",
    "    cluster_id_to_feature_ids[cluster_id].append(idx)\n",
    "selected_features = [v[0] for v in cluster_id_to_feature_ids.values()]\n",
    "selected_features_names = X.columns[selected_features]\n",
    "\n",
    "X_train_sel = X_train[selected_features_names]\n",
    "X_test_sel = X_test[selected_features_names]\n",
    "\n",
    "clf_sel = DecisionTreeClassifier(random_state=25)\n",
    "clf_sel.fit(X_train_sel, y_train)\n",
    "print(\n",
    "    \"Baseline accuracy on test data with features removed:\"\n",
    "    f\" {clf_sel.score(X_test_sel, y_test):.2}\"\n",
    ")"
   ],
   "id": "802b07959537269c",
   "execution_count": 151,
   "outputs": []
  },
  {
   "metadata": {
    "ExecuteTime": {
     "end_time": "2024-05-27T07:09:54.679613Z",
     "start_time": "2024-05-27T07:09:52.376880Z"
    }
   },
   "cell_type": "code",
   "source": [
    "fig, ax = plt.subplots(figsize=(7, 6))\n",
    "plot_permutation_importance(clf_sel, X_test_sel, y_test, ax)\n",
    "ax.set_title(\"Permutation Importances on selected subset of features\\n(test set)\")\n",
    "ax.set_xlabel(\"Decrease in accuracy score\")\n",
    "ax.figure.tight_layout()\n",
    "plt.show()"
   ],
   "id": "3f58e445bb96739a",
   "execution_count": 152,
   "outputs": []
  },
  {
   "metadata": {
    "ExecuteTime": {
     "end_time": "2024-05-27T07:15:58.413766Z",
     "start_time": "2024-05-27T07:15:58.388826Z"
    }
   },
   "cell_type": "code",
   "source": "X_test_sel.columns",
   "id": "5177d7cb97546a4b",
   "execution_count": 158,
   "outputs": []
  },
  {
   "metadata": {
    "ExecuteTime": {
     "end_time": "2024-05-27T07:12:28.462818Z",
     "start_time": "2024-05-27T07:12:28.448441Z"
    }
   },
   "cell_type": "code",
   "source": [
    "y_pred = clf_sel.predict(X_test_sel)\n",
    "\n",
    "from sklearn.metrics import confusion_matrix\n",
    "confusion_matrix(y_test, y_pred)"
   ],
   "id": "16fe41388551dbe1",
   "execution_count": 155,
   "outputs": []
  },
  {
   "metadata": {
    "ExecuteTime": {
     "end_time": "2024-05-27T07:13:12.718893Z",
     "start_time": "2024-05-27T07:13:12.701744Z"
    }
   },
   "cell_type": "code",
   "source": "print(classification_report(y_test, y_pred))",
   "id": "7a953670e3cc08d4",
   "execution_count": 156,
   "outputs": []
  },
  {
   "metadata": {
    "ExecuteTime": {
     "end_time": "2024-05-27T07:30:55.207961Z",
     "start_time": "2024-05-27T07:30:55.192187Z"
    }
   },
   "cell_type": "code",
   "source": "clf_sel.feature_names_in_",
   "id": "f7d4c62fffbd751",
   "execution_count": 159,
   "outputs": []
  },
  {
   "metadata": {
    "ExecuteTime": {
     "end_time": "2024-05-27T07:31:01.719981Z",
     "start_time": "2024-05-27T07:31:00.503932Z"
    }
   },
   "cell_type": "code",
   "source": [
    "import matplotlib.pyplot as plt\n",
    "from sklearn import tree\n",
    "#dt_model is a DecisionTreeClassifier object\n",
    "#df is training dataset \n",
    "fig = plt.figure(figsize=(15,7))\n",
    "_ = tree.plot_tree(clf_sel,feature_names = clf_sel.feature_names_in_,\n",
    "                   filled=True)"
   ],
   "id": "3775cfd17363fd46",
   "execution_count": 160,
   "outputs": []
  },
  {
   "metadata": {},
   "cell_type": "code",
   "execution_count": null,
   "source": "",
   "id": "7407432ca6fd4421",
   "outputs": []
  }
 ],
 "metadata": {
  "kernelspec": {
   "display_name": "Python 3 (ipykernel)",
   "language": "python",
   "name": "python3"
  },
  "language_info": {
   "codemirror_mode": {
    "name": "ipython",
    "version": 3
   },
   "file_extension": ".py",
   "mimetype": "text/x-python",
   "name": "python",
   "nbconvert_exporter": "python",
   "pygments_lexer": "ipython3",
   "version": "3.9.7"
  }
 },
 "nbformat": 4,
 "nbformat_minor": 5
}
